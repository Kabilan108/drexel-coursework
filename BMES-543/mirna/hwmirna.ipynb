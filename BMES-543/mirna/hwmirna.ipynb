{
 "cells": [
  {
   "cell_type": "markdown",
   "metadata": {},
   "source": [
    "# MicroRNA Analysis\n",
    "\n",
    "**Author:** [Tony Kabilan Okeke](mailto:tko35@drexel.edu)"
   ]
  },
  {
   "cell_type": "code",
   "execution_count": 1,
   "metadata": {},
   "outputs": [],
   "source": [
    "%load_ext autoreload"
   ]
  },
  {
   "cell_type": "code",
   "execution_count": 2,
   "metadata": {},
   "outputs": [],
   "source": [
    "# Imports\n",
    "%autoreload 2\n",
    "import os\n",
    "import bmes\n",
    "import rich\n",
    "import sqlite3\n",
    "import numpy as np\n",
    "import pandas as pd\n",
    "from scipy.stats import ttest_ind\n",
    "from IPython.display import display, HTML\n",
    "from statsmodels.stats.multitest import fdrcorrection\n",
    "\n",
    "os.chdir(\"/home/kabil/tko35/bmes543/code/mirna\")"
   ]
  },
  {
   "cell_type": "code",
   "execution_count": 3,
   "metadata": {},
   "outputs": [],
   "source": [
    "# Definitions\n",
    "def targetscandb_mir2target(mirna: str, scorethr: float=0.8) -> list:\n",
    "    \"\"\"\n",
    "    Code was originally written by Dr. Ahmet Sacan <ahmetmsacan@gmail.com>\n",
    "    \"\"\"\n",
    "\n",
    "    # Downlod and connect to database\n",
    "    dbfile = bmes.downloadurl('http://sacan.biomed.drexel.edu/ftp/binf/targetscandb.sqlite')\n",
    "    conn = sqlite3.connect(dbfile)\n",
    "    cur = conn.cursor()\n",
    "\n",
    "    # Construct query\n",
    "    query = f\"\"\"SELECT distinct(\"generefseqid\") FROM \"mir2target\" \n",
    "                WHERE score>={scorethr:f} \n",
    "                AND mirna IN (\"{mirna}\",\"{mirna}-3p\",\"{mirna}-5p\")\"\"\"\n",
    "\n",
    "    # Query database and return results\n",
    "    cur.execute(query)\n",
    "    rows = cur.fetchall()\n",
    "    return [ row[0] for row in rows ]"
   ]
  },
  {
   "cell_type": "markdown",
   "metadata": {},
   "source": [
    "#### Load Unfiltered miRNA Dataset"
   ]
  },
  {
   "cell_type": "code",
   "execution_count": 4,
   "metadata": {},
   "outputs": [],
   "source": [
    "# Load Unfiltered CRPS Data  (replace Infs with NaNs)\n",
    "unfilt = pd.read_excel(\"CRPS_unfiltered.xlsx\", header=None, \n",
    "                       skiprows=1, index_col=0) \\\n",
    "            .rename_axis('miRNA') \\\n",
    "            .replace({np.inf: np.nan})\n",
    "# Set column names\n",
    "cols = pd.read_excel(\"CRPS_unfiltered.xlsx\", header=None, nrows=1).values[0]\n",
    "unfilt.columns = cols[1:]"
   ]
  },
  {
   "cell_type": "markdown",
   "metadata": {},
   "source": [
    "#### Remove miRNA Detected in 3 or Fewer Samples"
   ]
  },
  {
   "cell_type": "code",
   "execution_count": 5,
   "metadata": {},
   "outputs": [],
   "source": [
    "filt = unfilt[ (~unfilt.isna()).sum(axis=1) > 3 ].copy()"
   ]
  },
  {
   "cell_type": "markdown",
   "metadata": {},
   "source": [
    "#### Replace Undetected Values (`Inf`) with the Average Expression of the miRNA in the Remaining Samples"
   ]
  },
  {
   "cell_type": "code",
   "execution_count": 6,
   "metadata": {},
   "outputs": [],
   "source": [
    "filt = filt.apply(lambda row: row.fillna(row.mean()), axis=1)"
   ]
  },
  {
   "cell_type": "markdown",
   "metadata": {},
   "source": [
    "#### Show First 5 Genes for the First 6 Samples"
   ]
  },
  {
   "cell_type": "code",
   "execution_count": 7,
   "metadata": {},
   "outputs": [
    {
     "data": {
      "text/html": [
       "<pre style=\"white-space:pre;overflow-x:auto;line-height:normal;font-family:Menlo,'DejaVu Sans Mono',consolas,'Courier New',monospace\">                control  control  control  control  control  control\n",
       "miRNA                                                               \n",
       "hsa-miR-<span style=\"color: #008080; text-decoration-color: #008080; font-weight: bold\">425</span>     <span style=\"color: #008080; text-decoration-color: #008080; font-weight: bold\">18.4318</span>  <span style=\"color: #008080; text-decoration-color: #008080; font-weight: bold\">18.5392</span>  <span style=\"color: #008080; text-decoration-color: #008080; font-weight: bold\">19.2871</span>  <span style=\"color: #008080; text-decoration-color: #008080; font-weight: bold\">17.9853</span>  <span style=\"color: #008080; text-decoration-color: #008080; font-weight: bold\">19.9477</span>  <span style=\"color: #008080; text-decoration-color: #008080; font-weight: bold\">20.3738</span>\n",
       "hsa-miR-<span style=\"color: #008080; text-decoration-color: #008080; font-weight: bold\">129</span>-5p  <span style=\"color: #008080; text-decoration-color: #008080; font-weight: bold\">33.9620</span>  <span style=\"color: #008080; text-decoration-color: #008080; font-weight: bold\">33.6747</span>  <span style=\"color: #008080; text-decoration-color: #008080; font-weight: bold\">36.4027</span>  <span style=\"color: #008080; text-decoration-color: #008080; font-weight: bold\">33.9620</span>  <span style=\"color: #008080; text-decoration-color: #008080; font-weight: bold\">33.9620</span>  <span style=\"color: #008080; text-decoration-color: #008080; font-weight: bold\">33.9620</span>\n",
       "hsa-miR-<span style=\"color: #008080; text-decoration-color: #008080; font-weight: bold\">329</span>     <span style=\"color: #008080; text-decoration-color: #008080; font-weight: bold\">33.5697</span>  <span style=\"color: #008080; text-decoration-color: #008080; font-weight: bold\">31.3315</span>  <span style=\"color: #008080; text-decoration-color: #008080; font-weight: bold\">34.2243</span>  <span style=\"color: #008080; text-decoration-color: #008080; font-weight: bold\">29.5776</span>  <span style=\"color: #008080; text-decoration-color: #008080; font-weight: bold\">37.7981</span>  <span style=\"color: #008080; text-decoration-color: #008080; font-weight: bold\">32.5906</span>\n",
       "hsa-miR-<span style=\"color: #008080; text-decoration-color: #008080; font-weight: bold\">484</span>     <span style=\"color: #008080; text-decoration-color: #008080; font-weight: bold\">14.2823</span>  <span style=\"color: #008080; text-decoration-color: #008080; font-weight: bold\">14.2317</span>  <span style=\"color: #008080; text-decoration-color: #008080; font-weight: bold\">14.2522</span>  <span style=\"color: #008080; text-decoration-color: #008080; font-weight: bold\">13.9903</span>  <span style=\"color: #008080; text-decoration-color: #008080; font-weight: bold\">14.6762</span>  <span style=\"color: #008080; text-decoration-color: #008080; font-weight: bold\">14.3608</span>\n",
       "hsa-miR-<span style=\"color: #008080; text-decoration-color: #008080; font-weight: bold\">625</span>     <span style=\"color: #008080; text-decoration-color: #008080; font-weight: bold\">25.4440</span>  <span style=\"color: #008080; text-decoration-color: #008080; font-weight: bold\">25.1881</span>  <span style=\"color: #008080; text-decoration-color: #008080; font-weight: bold\">25.4555</span>  <span style=\"color: #008080; text-decoration-color: #008080; font-weight: bold\">24.2658</span>  <span style=\"color: #008080; text-decoration-color: #008080; font-weight: bold\">27.1671</span>  <span style=\"color: #008080; text-decoration-color: #008080; font-weight: bold\">25.5140</span>\n",
       "</pre>\n"
      ],
      "text/plain": [
       "                control  control  control  control  control  control\n",
       "miRNA                                                               \n",
       "hsa-miR-\u001b[1;36m425\u001b[0m     \u001b[1;36m18.4318\u001b[0m  \u001b[1;36m18.5392\u001b[0m  \u001b[1;36m19.2871\u001b[0m  \u001b[1;36m17.9853\u001b[0m  \u001b[1;36m19.9477\u001b[0m  \u001b[1;36m20.3738\u001b[0m\n",
       "hsa-miR-\u001b[1;36m129\u001b[0m-5p  \u001b[1;36m33.9620\u001b[0m  \u001b[1;36m33.6747\u001b[0m  \u001b[1;36m36.4027\u001b[0m  \u001b[1;36m33.9620\u001b[0m  \u001b[1;36m33.9620\u001b[0m  \u001b[1;36m33.9620\u001b[0m\n",
       "hsa-miR-\u001b[1;36m329\u001b[0m     \u001b[1;36m33.5697\u001b[0m  \u001b[1;36m31.3315\u001b[0m  \u001b[1;36m34.2243\u001b[0m  \u001b[1;36m29.5776\u001b[0m  \u001b[1;36m37.7981\u001b[0m  \u001b[1;36m32.5906\u001b[0m\n",
       "hsa-miR-\u001b[1;36m484\u001b[0m     \u001b[1;36m14.2823\u001b[0m  \u001b[1;36m14.2317\u001b[0m  \u001b[1;36m14.2522\u001b[0m  \u001b[1;36m13.9903\u001b[0m  \u001b[1;36m14.6762\u001b[0m  \u001b[1;36m14.3608\u001b[0m\n",
       "hsa-miR-\u001b[1;36m625\u001b[0m     \u001b[1;36m25.4440\u001b[0m  \u001b[1;36m25.1881\u001b[0m  \u001b[1;36m25.4555\u001b[0m  \u001b[1;36m24.2658\u001b[0m  \u001b[1;36m27.1671\u001b[0m  \u001b[1;36m25.5140\u001b[0m\n"
      ]
     },
     "metadata": {},
     "output_type": "display_data"
    }
   ],
   "source": [
    "rich.print( filt.iloc[:5,:6].round(4) )"
   ]
  },
  {
   "cell_type": "markdown",
   "metadata": {},
   "source": [
    "#### Compute $\\Delta CT$ Values\n",
    "\n",
    "Use *RNU44*, *RNU48* and *MammU6* as endogenous controls for calculating CT0."
   ]
  },
  {
   "cell_type": "code",
   "execution_count": 8,
   "metadata": {},
   "outputs": [],
   "source": [
    "# Comute CT0 valyes\n",
    "CT0 = filt[ filt.index.isin(['RNU44', 'RNU48', 'MammU6']) ].mean(axis=0)\n",
    "\n",
    "# Subtract Sample CT0 Values from CT Values\n",
    "filt = filt.sub(CT0, axis=1)"
   ]
  },
  {
   "cell_type": "markdown",
   "metadata": {},
   "source": [
    "#### Compute $\\Delta\\Delta CT$ Values"
   ]
  },
  {
   "cell_type": "code",
   "execution_count": 9,
   "metadata": {},
   "outputs": [],
   "source": [
    "filt['deltadeltaCT'] = filt['patient'].mean(axis=1) - filt['control'].mean(axis=1)"
   ]
  },
  {
   "cell_type": "markdown",
   "metadata": {},
   "source": [
    "#### Compute Fold Changes"
   ]
  },
  {
   "cell_type": "code",
   "execution_count": 10,
   "metadata": {},
   "outputs": [],
   "source": [
    "# Compute fold change\n",
    "filt['FC'] = 2 ** -filt['deltadeltaCT']\n",
    "\n",
    "# Replace values < 1 with their negative inverse (Signed Fold Change)\n",
    "filt['FC'] = np.where(filt['FC'] < 1, -1/filt['FC'], filt['FC'])"
   ]
  },
  {
   "cell_type": "markdown",
   "metadata": {},
   "source": [
    "#### Show the Top 10 Most Changing miRNAs"
   ]
  },
  {
   "cell_type": "code",
   "execution_count": 11,
   "metadata": {},
   "outputs": [
    {
     "data": {
      "text/html": [
       "<pre style=\"white-space:pre;overflow-x:auto;line-height:normal;font-family:Menlo,'DejaVu Sans Mono',consolas,'Courier New',monospace\">miRNA\n",
       "hsa-miR-<span style=\"color: #008080; text-decoration-color: #008080; font-weight: bold\">939</span>    <span style=\"color: #008080; text-decoration-color: #008080; font-weight: bold\">-5.757791</span>\n",
       "hsa-miR-<span style=\"color: #008080; text-decoration-color: #008080; font-weight: bold\">25</span>#    <span style=\"color: #008080; text-decoration-color: #008080; font-weight: bold\">-5.077934</span>\n",
       "hsa-miR-<span style=\"color: #008080; text-decoration-color: #008080; font-weight: bold\">17</span>#    <span style=\"color: #008080; text-decoration-color: #008080; font-weight: bold\">-4.282382</span>\n",
       "hsa-miR-<span style=\"color: #008080; text-decoration-color: #008080; font-weight: bold\">223</span>    <span style=\"color: #008080; text-decoration-color: #008080; font-weight: bold\">-3.894710</span>\n",
       "hsa-miR-29b    <span style=\"color: #008080; text-decoration-color: #008080; font-weight: bold\">-3.580711</span>\n",
       "hsa-let-7c     <span style=\"color: #008080; text-decoration-color: #008080; font-weight: bold\">-3.229430</span>\n",
       "hsa-miR-133b   <span style=\"color: #008080; text-decoration-color: #008080; font-weight: bold\">-3.139277</span>\n",
       "hsa-miR-18b    <span style=\"color: #008080; text-decoration-color: #008080; font-weight: bold\">-3.114760</span>\n",
       "hsa-let-7b     <span style=\"color: #008080; text-decoration-color: #008080; font-weight: bold\">-3.089840</span>\n",
       "hsa-miR-<span style=\"color: #008080; text-decoration-color: #008080; font-weight: bold\">190</span>    <span style=\"color: #008080; text-decoration-color: #008080; font-weight: bold\">-3.059572</span>\n",
       "Name: FC, dtype: float64\n",
       "</pre>\n"
      ],
      "text/plain": [
       "miRNA\n",
       "hsa-miR-\u001b[1;36m939\u001b[0m    \u001b[1;36m-5.757791\u001b[0m\n",
       "hsa-miR-\u001b[1;36m25\u001b[0m#    \u001b[1;36m-5.077934\u001b[0m\n",
       "hsa-miR-\u001b[1;36m17\u001b[0m#    \u001b[1;36m-4.282382\u001b[0m\n",
       "hsa-miR-\u001b[1;36m223\u001b[0m    \u001b[1;36m-3.894710\u001b[0m\n",
       "hsa-miR-29b    \u001b[1;36m-3.580711\u001b[0m\n",
       "hsa-let-7c     \u001b[1;36m-3.229430\u001b[0m\n",
       "hsa-miR-133b   \u001b[1;36m-3.139277\u001b[0m\n",
       "hsa-miR-18b    \u001b[1;36m-3.114760\u001b[0m\n",
       "hsa-let-7b     \u001b[1;36m-3.089840\u001b[0m\n",
       "hsa-miR-\u001b[1;36m190\u001b[0m    \u001b[1;36m-3.059572\u001b[0m\n",
       "Name: FC, dtype: float64\n"
      ]
     },
     "metadata": {},
     "output_type": "display_data"
    }
   ],
   "source": [
    "rich.print(filt['FC'].sort_values(key=abs, ascending=False).head(10))"
   ]
  },
  {
   "cell_type": "markdown",
   "metadata": {},
   "source": [
    "#### Find Significantly Different miRNAs (Controls vs Patients)"
   ]
  },
  {
   "cell_type": "code",
   "execution_count": 12,
   "metadata": {},
   "outputs": [
    {
     "data": {
      "text/html": [
       "<pre style=\"white-space:pre;overflow-x:auto;line-height:normal;font-family:Menlo,'DejaVu Sans Mono',consolas,'Courier New',monospace\">miRNA\n",
       "hsa-miR-320B      <span style=\"color: #008080; text-decoration-color: #008080; font-weight: bold\">0.000126</span>\n",
       "hsa-let-7b        <span style=\"color: #008080; text-decoration-color: #008080; font-weight: bold\">0.000126</span>\n",
       "hsa-miR-<span style=\"color: #008080; text-decoration-color: #008080; font-weight: bold\">25</span>#       <span style=\"color: #008080; text-decoration-color: #008080; font-weight: bold\">0.000126</span>\n",
       "hsa-let-7c        <span style=\"color: #008080; text-decoration-color: #008080; font-weight: bold\">0.000126</span>\n",
       "hsa-miR-<span style=\"color: #008080; text-decoration-color: #008080; font-weight: bold\">320</span>       <span style=\"color: #008080; text-decoration-color: #008080; font-weight: bold\">0.000126</span>\n",
       "hsa-miR-<span style=\"color: #008080; text-decoration-color: #008080; font-weight: bold\">939</span>       <span style=\"color: #008080; text-decoration-color: #008080; font-weight: bold\">0.000134</span>\n",
       "hsa-miR-<span style=\"color: #008080; text-decoration-color: #008080; font-weight: bold\">629</span>       <span style=\"color: #008080; text-decoration-color: #008080; font-weight: bold\">0.000343</span>\n",
       "hsa-let-7d        <span style=\"color: #008080; text-decoration-color: #008080; font-weight: bold\">0.001145</span>\n",
       "hsa-miR-<span style=\"color: #008080; text-decoration-color: #008080; font-weight: bold\">132</span>       <span style=\"color: #008080; text-decoration-color: #008080; font-weight: bold\">0.001145</span>\n",
       "hsa-miR-<span style=\"color: #008080; text-decoration-color: #008080; font-weight: bold\">532</span>-3p    <span style=\"color: #008080; text-decoration-color: #008080; font-weight: bold\">0.001145</span>\n",
       "Name: q-value, dtype: float64\n",
       "</pre>\n"
      ],
      "text/plain": [
       "miRNA\n",
       "hsa-miR-320B      \u001b[1;36m0.000126\u001b[0m\n",
       "hsa-let-7b        \u001b[1;36m0.000126\u001b[0m\n",
       "hsa-miR-\u001b[1;36m25\u001b[0m#       \u001b[1;36m0.000126\u001b[0m\n",
       "hsa-let-7c        \u001b[1;36m0.000126\u001b[0m\n",
       "hsa-miR-\u001b[1;36m320\u001b[0m       \u001b[1;36m0.000126\u001b[0m\n",
       "hsa-miR-\u001b[1;36m939\u001b[0m       \u001b[1;36m0.000134\u001b[0m\n",
       "hsa-miR-\u001b[1;36m629\u001b[0m       \u001b[1;36m0.000343\u001b[0m\n",
       "hsa-let-7d        \u001b[1;36m0.001145\u001b[0m\n",
       "hsa-miR-\u001b[1;36m132\u001b[0m       \u001b[1;36m0.001145\u001b[0m\n",
       "hsa-miR-\u001b[1;36m532\u001b[0m-3p    \u001b[1;36m0.001145\u001b[0m\n",
       "Name: q-value, dtype: float64\n"
      ]
     },
     "metadata": {},
     "output_type": "display_data"
    }
   ],
   "source": [
    "# Compute p-values\n",
    "filt['p-value'] = ttest_ind(\n",
    "    filt['control'], filt['patient'], axis=1\n",
    ").pvalue\n",
    "# FDR Correction for p-values (q-values)\n",
    "filt['q-value'] = fdrcorrection(filt['p-value'])[1]\n",
    "\n",
    "# Print the Top 10 Most Significantly Different Genes\n",
    "rich.print(filt['q-value'].sort_values(ascending=True).head(10))"
   ]
  },
  {
   "cell_type": "markdown",
   "metadata": {},
   "source": [
    "#### Find Which mRNAs are the Predicted Targets of the Significant miRNAs from the CRPS Study Using `TargetScan`"
   ]
  },
  {
   "cell_type": "code",
   "execution_count": 13,
   "metadata": {},
   "outputs": [],
   "source": [
    "# Select significantly different miRNAs\n",
    "# q-value threshold:  < .001\n",
    "# fold change threshold:  > |3|\n",
    "I = (filt['FC'].abs() >= 3) & (filt['q-value'] <= 0.01)\n",
    "miRNAs = filt[I].index.to_list()\n",
    "\n",
    "# Find which mRNAs are Predicted Targets of the Significant miRNAs\n",
    "targets = [targetscandb_mir2target(mirna, .95) for mirna in miRNAs]\n",
    "targets = np.unique([ target for sub in targets for target in sub ])"
   ]
  },
  {
   "cell_type": "markdown",
   "metadata": {},
   "source": [
    "### Target Enrichment\n",
    "\n",
    "The results enriched pathways and gene ontology biological process terms returned  \n",
    "by DAVID are stored in the `Enriched_GOBP.txt` and `Enriched_KEGG.txt` files respectively."
   ]
  },
  {
   "cell_type": "code",
   "execution_count": 14,
   "metadata": {},
   "outputs": [
    {
     "data": {
      "text/html": [
       "<style type=\"text/css\">\n",
       "</style>\n",
       "<table id=\"T_87aba\">\n",
       "  <caption>Enriched KEGG Pathway</caption>\n",
       "  <thead>\n",
       "    <tr>\n",
       "      <th class=\"blank level0\" >&nbsp;</th>\n",
       "      <th id=\"T_87aba_level0_col0\" class=\"col_heading level0 col0\" >Term</th>\n",
       "      <th id=\"T_87aba_level0_col1\" class=\"col_heading level0 col1\" >PValue</th>\n",
       "      <th id=\"T_87aba_level0_col2\" class=\"col_heading level0 col2\" >Count</th>\n",
       "    </tr>\n",
       "  </thead>\n",
       "  <tbody>\n",
       "    <tr>\n",
       "      <th id=\"T_87aba_level0_row0\" class=\"row_heading level0 row0\" >0</th>\n",
       "      <td id=\"T_87aba_row0_col0\" class=\"data row0 col0\" >hsa04150:mTOR signaling pathway</td>\n",
       "      <td id=\"T_87aba_row0_col1\" class=\"data row0 col1\" >0.000214</td>\n",
       "      <td id=\"T_87aba_row0_col2\" class=\"data row0 col2\" >10</td>\n",
       "    </tr>\n",
       "    <tr>\n",
       "      <th id=\"T_87aba_level0_row1\" class=\"row_heading level0 row1\" >1</th>\n",
       "      <td id=\"T_87aba_row1_col0\" class=\"data row1 col0\" >hsa04550:Signaling pathways regulating pluripotency of stem cells</td>\n",
       "      <td id=\"T_87aba_row1_col1\" class=\"data row1 col1\" >0.000597</td>\n",
       "      <td id=\"T_87aba_row1_col2\" class=\"data row1 col2\" >9</td>\n",
       "    </tr>\n",
       "    <tr>\n",
       "      <th id=\"T_87aba_level0_row2\" class=\"row_heading level0 row2\" >2</th>\n",
       "      <td id=\"T_87aba_row2_col0\" class=\"data row2 col0\" >hsa04152:AMPK signaling pathway</td>\n",
       "      <td id=\"T_87aba_row2_col1\" class=\"data row2 col1\" >0.001034</td>\n",
       "      <td id=\"T_87aba_row2_col2\" class=\"data row2 col2\" >8</td>\n",
       "    </tr>\n",
       "  </tbody>\n",
       "</table>\n"
      ],
      "text/plain": [
       "<pandas.io.formats.style.Styler at 0x7fd87451f220>"
      ]
     },
     "metadata": {},
     "output_type": "display_data"
    },
    {
     "data": {
      "text/html": [
       "<style type=\"text/css\">\n",
       "</style>\n",
       "<table id=\"T_3a2a0\">\n",
       "  <caption>Enriched GO BP</caption>\n",
       "  <thead>\n",
       "    <tr>\n",
       "      <th class=\"blank level0\" >&nbsp;</th>\n",
       "      <th id=\"T_3a2a0_level0_col0\" class=\"col_heading level0 col0\" >Term</th>\n",
       "      <th id=\"T_3a2a0_level0_col1\" class=\"col_heading level0 col1\" >PValue</th>\n",
       "      <th id=\"T_3a2a0_level0_col2\" class=\"col_heading level0 col2\" >Count</th>\n",
       "    </tr>\n",
       "  </thead>\n",
       "  <tbody>\n",
       "    <tr>\n",
       "      <th id=\"T_3a2a0_level0_row0\" class=\"row_heading level0 row0\" >0</th>\n",
       "      <td id=\"T_3a2a0_row0_col0\" class=\"data row0 col0\" >GO:0017148~negative regulation of translation</td>\n",
       "      <td id=\"T_3a2a0_row0_col1\" class=\"data row0 col1\" >0.000627</td>\n",
       "      <td id=\"T_3a2a0_row0_col2\" class=\"data row0 col2\" >7</td>\n",
       "    </tr>\n",
       "    <tr>\n",
       "      <th id=\"T_3a2a0_level0_row1\" class=\"row_heading level0 row1\" >1</th>\n",
       "      <td id=\"T_3a2a0_row1_col0\" class=\"data row1 col0\" >GO:0071363~cellular response to growth factor stimulus</td>\n",
       "      <td id=\"T_3a2a0_row1_col1\" class=\"data row1 col1\" >0.000805</td>\n",
       "      <td id=\"T_3a2a0_row1_col2\" class=\"data row1 col2\" >6</td>\n",
       "    </tr>\n",
       "    <tr>\n",
       "      <th id=\"T_3a2a0_level0_row2\" class=\"row_heading level0 row2\" >2</th>\n",
       "      <td id=\"T_3a2a0_row2_col0\" class=\"data row2 col0\" >GO:0032924~activin receptor signaling pathway</td>\n",
       "      <td id=\"T_3a2a0_row2_col1\" class=\"data row2 col1\" >0.001642</td>\n",
       "      <td id=\"T_3a2a0_row2_col2\" class=\"data row2 col2\" >4</td>\n",
       "    </tr>\n",
       "  </tbody>\n",
       "</table>\n"
      ],
      "text/plain": [
       "<pandas.io.formats.style.Styler at 0x7fd87451f220>"
      ]
     },
     "metadata": {},
     "output_type": "display_data"
    }
   ],
   "source": [
    "# Display the top 3 most significantly enriched pathways and GO BPs\n",
    "for file in ['KEGG_Pathway', 'GO_BP']:\n",
    "    tbl = pd.read_table(f'Enriched_{file}.txt')\n",
    "    display( \n",
    "        tbl.loc[:2, ['Term', 'PValue', 'Count']].style \\\n",
    "            .set_caption('Enriched ' + file.replace('_', ' '))\n",
    "    )"
   ]
  }
 ],
 "metadata": {
  "interpreter": {
   "hash": "67e0f964b3466f5738b0815e7d98ae8f0b358b23e82348a28e5ef609e7edb7a9"
  },
  "kernelspec": {
   "display_name": "Python 3.9.12 ('py-env')",
   "language": "python",
   "name": "python3"
  },
  "language_info": {
   "codemirror_mode": {
    "name": "ipython",
    "version": 3
   },
   "file_extension": ".py",
   "mimetype": "text/x-python",
   "name": "python",
   "nbconvert_exporter": "python",
   "pygments_lexer": "ipython3",
   "version": "3.9.12"
  },
  "orig_nbformat": 4
 },
 "nbformat": 4,
 "nbformat_minor": 2
}
