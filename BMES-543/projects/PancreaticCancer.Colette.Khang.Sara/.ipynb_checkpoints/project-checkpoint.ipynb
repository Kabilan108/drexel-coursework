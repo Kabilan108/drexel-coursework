{
 "cells": [
  {
   "cell_type": "markdown",
   "metadata": {},
   "source": [
    "# PANCREATIC CANCER GENE EXPRESSION ANALYSIS\n",
    "\n",
    "BY COLETTE TROUILLOT, KHANG DUONG, SARA CHUNG"
   ]
  },
  {
   "cell_type": "code",
   "execution_count": 2,
   "metadata": {},
   "outputs": [],
   "source": [
    "#import modules for handling data\n",
    "import pandas as pd\n",
    "import numpy as np\n",
    "import math\n",
    "import matplotlib.pyplot as plt\n",
    "from matplotlib_venn import venn3_unweighted\n",
    "import math\n",
    "import functions\n",
    "import scipy.stats as stats\n",
    "\n",
    "import sys,os; sys.path.append(os.environ['BMESAHMETDIR']); import bmes\n",
    "\n",
    "#import machine learning models and tools \n",
    "from sklearn import tree\n",
    "from sklearn.svm import SVC\n",
    "from sklearn.metrics import ConfusionMatrixDisplay\n",
    "from sklearn.model_selection import cross_val_score\n",
    "from sklearn.neighbors import KNeighborsClassifier\n",
    "from sklearn.feature_selection import SequentialFeatureSelector\n",
    "from sklearn.decomposition import PCA"
   ]
  },
  {
   "cell_type": "code",
   "execution_count": 3,
   "metadata": {},
   "outputs": [],
   "source": [
    "# Dataset 1 (Training): \"GSE15471\"\n",
    "# Dataset 2 (Testing): \"GSE16515\"\n",
    "# Dataset 3 (testing): \"GSE22780\""
   ]
  },
  {
   "cell_type": "markdown",
   "metadata": {},
   "source": [
    "#### DOWNLOAD DATASETS"
   ]
  },
  {
   "cell_type": "code",
   "execution_count": 4,
   "metadata": {},
   "outputs": [
    {
     "name": "stderr",
     "output_type": "stream",
     "text": [
      "07-Jun-2022 14:40:26 DEBUG utils - Directory C:/Users/ctrou/AppData/Local/Temp/bmes already exists. Skipping.\n",
      "07-Jun-2022 14:40:26 INFO GEOparse - File already exist: using local version.\n",
      "07-Jun-2022 14:40:26 INFO GEOparse - Parsing C:/Users/ctrou/AppData/Local/Temp/bmes\\GSE15471_family.soft.gz: \n",
      "07-Jun-2022 14:40:26 DEBUG GEOparse - DATABASE: GeoMiame\n",
      "07-Jun-2022 14:40:26 DEBUG GEOparse - SERIES: GSE15471\n",
      "07-Jun-2022 14:40:26 DEBUG GEOparse - PLATFORM: GPL570\n",
      "C:\\Users\\ctrou\\anaconda3\\lib\\site-packages\\GEOparse\\GEOparse.py:113: DtypeWarning: Columns (2) have mixed types.Specify dtype option on import or set low_memory=False.\n",
      "  return parse_GSE(filepath, open_kwargs=open_kwargs)\n",
      "07-Jun-2022 14:40:29 DEBUG GEOparse - SAMPLE: GSM388076\n",
      "07-Jun-2022 14:40:30 DEBUG GEOparse - SAMPLE: GSM388077\n",
      "07-Jun-2022 14:40:30 DEBUG GEOparse - SAMPLE: GSM388078\n",
      "07-Jun-2022 14:40:30 DEBUG GEOparse - SAMPLE: GSM388079\n",
      "07-Jun-2022 14:40:30 DEBUG GEOparse - SAMPLE: GSM388080\n",
      "07-Jun-2022 14:40:31 DEBUG GEOparse - SAMPLE: GSM388081\n",
      "07-Jun-2022 14:40:31 DEBUG GEOparse - SAMPLE: GSM388082\n",
      "07-Jun-2022 14:40:31 DEBUG GEOparse - SAMPLE: GSM388083\n",
      "07-Jun-2022 14:40:32 DEBUG GEOparse - SAMPLE: GSM388084\n",
      "07-Jun-2022 14:40:32 DEBUG GEOparse - SAMPLE: GSM388085\n",
      "07-Jun-2022 14:40:32 DEBUG GEOparse - SAMPLE: GSM388086\n",
      "07-Jun-2022 14:40:32 DEBUG GEOparse - SAMPLE: GSM388087\n",
      "07-Jun-2022 14:40:33 DEBUG GEOparse - SAMPLE: GSM388088\n",
      "07-Jun-2022 14:40:33 DEBUG GEOparse - SAMPLE: GSM388089\n",
      "07-Jun-2022 14:40:33 DEBUG GEOparse - SAMPLE: GSM388090\n",
      "07-Jun-2022 14:40:33 DEBUG GEOparse - SAMPLE: GSM388091\n",
      "07-Jun-2022 14:40:33 DEBUG GEOparse - SAMPLE: GSM388092\n",
      "07-Jun-2022 14:40:34 DEBUG GEOparse - SAMPLE: GSM388093\n",
      "07-Jun-2022 14:40:34 DEBUG GEOparse - SAMPLE: GSM388094\n",
      "07-Jun-2022 14:40:34 DEBUG GEOparse - SAMPLE: GSM388095\n",
      "07-Jun-2022 14:40:34 DEBUG GEOparse - SAMPLE: GSM388096\n",
      "07-Jun-2022 14:40:34 DEBUG GEOparse - SAMPLE: GSM388097\n",
      "07-Jun-2022 14:40:35 DEBUG GEOparse - SAMPLE: GSM388098\n",
      "07-Jun-2022 14:40:35 DEBUG GEOparse - SAMPLE: GSM388099\n",
      "07-Jun-2022 14:40:35 DEBUG GEOparse - SAMPLE: GSM388100\n",
      "07-Jun-2022 14:40:35 DEBUG GEOparse - SAMPLE: GSM388101\n",
      "07-Jun-2022 14:40:35 DEBUG GEOparse - SAMPLE: GSM388102\n",
      "07-Jun-2022 14:40:36 DEBUG GEOparse - SAMPLE: GSM388103\n",
      "07-Jun-2022 14:40:36 DEBUG GEOparse - SAMPLE: GSM388104\n",
      "07-Jun-2022 14:40:36 DEBUG GEOparse - SAMPLE: GSM388105\n",
      "07-Jun-2022 14:40:36 DEBUG GEOparse - SAMPLE: GSM388106\n",
      "07-Jun-2022 14:40:37 DEBUG GEOparse - SAMPLE: GSM388107\n",
      "07-Jun-2022 14:40:37 DEBUG GEOparse - SAMPLE: GSM388108\n",
      "07-Jun-2022 14:40:37 DEBUG GEOparse - SAMPLE: GSM388109\n",
      "07-Jun-2022 14:40:37 DEBUG GEOparse - SAMPLE: GSM388110\n",
      "07-Jun-2022 14:40:38 DEBUG GEOparse - SAMPLE: GSM388111\n",
      "07-Jun-2022 14:40:38 DEBUG GEOparse - SAMPLE: GSM388112\n",
      "07-Jun-2022 14:40:38 DEBUG GEOparse - SAMPLE: GSM388113\n",
      "07-Jun-2022 14:40:39 DEBUG GEOparse - SAMPLE: GSM388114\n",
      "07-Jun-2022 14:40:39 DEBUG GEOparse - SAMPLE: GSM388115\n",
      "07-Jun-2022 14:40:39 DEBUG GEOparse - SAMPLE: GSM388116\n",
      "07-Jun-2022 14:40:39 DEBUG GEOparse - SAMPLE: GSM388117\n",
      "07-Jun-2022 14:40:40 DEBUG GEOparse - SAMPLE: GSM388118\n",
      "07-Jun-2022 14:40:40 DEBUG GEOparse - SAMPLE: GSM388119\n",
      "07-Jun-2022 14:40:40 DEBUG GEOparse - SAMPLE: GSM388120\n",
      "07-Jun-2022 14:40:41 DEBUG GEOparse - SAMPLE: GSM388121\n",
      "07-Jun-2022 14:40:41 DEBUG GEOparse - SAMPLE: GSM388122\n",
      "07-Jun-2022 14:40:41 DEBUG GEOparse - SAMPLE: GSM388123\n",
      "07-Jun-2022 14:40:41 DEBUG GEOparse - SAMPLE: GSM388124\n",
      "07-Jun-2022 14:40:42 DEBUG GEOparse - SAMPLE: GSM388125\n",
      "07-Jun-2022 14:40:42 DEBUG GEOparse - SAMPLE: GSM388126\n",
      "07-Jun-2022 14:40:42 DEBUG GEOparse - SAMPLE: GSM388127\n",
      "07-Jun-2022 14:40:43 DEBUG GEOparse - SAMPLE: GSM388128\n",
      "07-Jun-2022 14:40:43 DEBUG GEOparse - SAMPLE: GSM388129\n",
      "07-Jun-2022 14:40:43 DEBUG GEOparse - SAMPLE: GSM388130\n",
      "07-Jun-2022 14:40:43 DEBUG GEOparse - SAMPLE: GSM388131\n",
      "07-Jun-2022 14:40:44 DEBUG GEOparse - SAMPLE: GSM388132\n",
      "07-Jun-2022 14:40:44 DEBUG GEOparse - SAMPLE: GSM388133\n",
      "07-Jun-2022 14:40:44 DEBUG GEOparse - SAMPLE: GSM388134\n",
      "07-Jun-2022 14:40:44 DEBUG GEOparse - SAMPLE: GSM388135\n",
      "07-Jun-2022 14:40:45 DEBUG GEOparse - SAMPLE: GSM388136\n",
      "07-Jun-2022 14:40:45 DEBUG GEOparse - SAMPLE: GSM388137\n",
      "07-Jun-2022 14:40:45 DEBUG GEOparse - SAMPLE: GSM388138\n",
      "07-Jun-2022 14:40:46 DEBUG GEOparse - SAMPLE: GSM388139\n",
      "07-Jun-2022 14:40:46 DEBUG GEOparse - SAMPLE: GSM388140\n",
      "07-Jun-2022 14:40:46 DEBUG GEOparse - SAMPLE: GSM388141\n",
      "07-Jun-2022 14:40:46 DEBUG GEOparse - SAMPLE: GSM388142\n",
      "07-Jun-2022 14:40:47 DEBUG GEOparse - SAMPLE: GSM388143\n",
      "07-Jun-2022 14:40:47 DEBUG GEOparse - SAMPLE: GSM388144\n",
      "07-Jun-2022 14:40:47 DEBUG GEOparse - SAMPLE: GSM388145\n",
      "07-Jun-2022 14:40:48 DEBUG GEOparse - SAMPLE: GSM388146\n",
      "07-Jun-2022 14:40:48 DEBUG GEOparse - SAMPLE: GSM388147\n",
      "07-Jun-2022 14:40:49 DEBUG GEOparse - SAMPLE: GSM388148\n",
      "07-Jun-2022 14:40:49 DEBUG GEOparse - SAMPLE: GSM388149\n",
      "07-Jun-2022 14:40:49 DEBUG GEOparse - SAMPLE: GSM388150\n",
      "07-Jun-2022 14:40:49 DEBUG GEOparse - SAMPLE: GSM388151\n",
      "07-Jun-2022 14:40:50 DEBUG GEOparse - SAMPLE: GSM388152\n",
      "07-Jun-2022 14:40:50 DEBUG GEOparse - SAMPLE: GSM388153\n",
      "07-Jun-2022 14:40:57 DEBUG utils - Directory C:/Users/ctrou/AppData/Local/Temp/bmes already exists. Skipping.\n",
      "07-Jun-2022 14:40:57 INFO GEOparse - File already exist: using local version.\n",
      "07-Jun-2022 14:40:57 INFO GEOparse - Parsing C:/Users/ctrou/AppData/Local/Temp/bmes\\GSE16515_family.soft.gz: \n",
      "07-Jun-2022 14:40:57 DEBUG GEOparse - DATABASE: GeoMiame\n",
      "07-Jun-2022 14:40:57 DEBUG GEOparse - SERIES: GSE16515\n",
      "07-Jun-2022 14:40:57 DEBUG GEOparse - PLATFORM: GPL570\n",
      "C:\\Users\\ctrou\\anaconda3\\lib\\site-packages\\GEOparse\\GEOparse.py:113: DtypeWarning: Columns (2) have mixed types.Specify dtype option on import or set low_memory=False.\n",
      "  return parse_GSE(filepath, open_kwargs=open_kwargs)\n",
      "07-Jun-2022 14:41:02 DEBUG GEOparse - SAMPLE: GSM414924\n",
      "07-Jun-2022 14:41:02 DEBUG GEOparse - SAMPLE: GSM414925\n",
      "07-Jun-2022 14:41:02 DEBUG GEOparse - SAMPLE: GSM414926\n",
      "07-Jun-2022 14:41:03 DEBUG GEOparse - SAMPLE: GSM414927\n",
      "07-Jun-2022 14:41:03 DEBUG GEOparse - SAMPLE: GSM414928\n",
      "07-Jun-2022 14:41:03 DEBUG GEOparse - SAMPLE: GSM414929\n",
      "07-Jun-2022 14:41:03 DEBUG GEOparse - SAMPLE: GSM414930\n",
      "07-Jun-2022 14:41:04 DEBUG GEOparse - SAMPLE: GSM414931\n",
      "07-Jun-2022 14:41:04 DEBUG GEOparse - SAMPLE: GSM414932\n",
      "07-Jun-2022 14:41:04 DEBUG GEOparse - SAMPLE: GSM414933\n",
      "07-Jun-2022 14:41:04 DEBUG GEOparse - SAMPLE: GSM414934\n",
      "07-Jun-2022 14:41:05 DEBUG GEOparse - SAMPLE: GSM414935\n",
      "07-Jun-2022 14:41:05 DEBUG GEOparse - SAMPLE: GSM414936\n",
      "07-Jun-2022 14:41:05 DEBUG GEOparse - SAMPLE: GSM414937\n",
      "07-Jun-2022 14:41:05 DEBUG GEOparse - SAMPLE: GSM414938\n",
      "07-Jun-2022 14:41:06 DEBUG GEOparse - SAMPLE: GSM414939\n",
      "07-Jun-2022 14:41:06 DEBUG GEOparse - SAMPLE: GSM414940\n",
      "07-Jun-2022 14:41:06 DEBUG GEOparse - SAMPLE: GSM414941\n",
      "07-Jun-2022 14:41:06 DEBUG GEOparse - SAMPLE: GSM414942\n",
      "07-Jun-2022 14:41:06 DEBUG GEOparse - SAMPLE: GSM414943\n",
      "07-Jun-2022 14:41:07 DEBUG GEOparse - SAMPLE: GSM414944\n",
      "07-Jun-2022 14:41:07 DEBUG GEOparse - SAMPLE: GSM414945\n",
      "07-Jun-2022 14:41:07 DEBUG GEOparse - SAMPLE: GSM414946\n",
      "07-Jun-2022 14:41:07 DEBUG GEOparse - SAMPLE: GSM414947\n",
      "07-Jun-2022 14:41:08 DEBUG GEOparse - SAMPLE: GSM414948\n",
      "07-Jun-2022 14:41:08 DEBUG GEOparse - SAMPLE: GSM414949\n",
      "07-Jun-2022 14:41:08 DEBUG GEOparse - SAMPLE: GSM414950\n",
      "07-Jun-2022 14:41:08 DEBUG GEOparse - SAMPLE: GSM414951\n",
      "07-Jun-2022 14:41:09 DEBUG GEOparse - SAMPLE: GSM414952\n",
      "07-Jun-2022 14:41:09 DEBUG GEOparse - SAMPLE: GSM414953\n",
      "07-Jun-2022 14:41:09 DEBUG GEOparse - SAMPLE: GSM414954\n",
      "07-Jun-2022 14:41:09 DEBUG GEOparse - SAMPLE: GSM414955\n",
      "07-Jun-2022 14:41:10 DEBUG GEOparse - SAMPLE: GSM414956\n",
      "07-Jun-2022 14:41:10 DEBUG GEOparse - SAMPLE: GSM414957\n",
      "07-Jun-2022 14:41:10 DEBUG GEOparse - SAMPLE: GSM414958\n",
      "07-Jun-2022 14:41:10 DEBUG GEOparse - SAMPLE: GSM414959\n",
      "07-Jun-2022 14:41:11 DEBUG GEOparse - SAMPLE: GSM414960\n",
      "07-Jun-2022 14:41:11 DEBUG GEOparse - SAMPLE: GSM414961\n",
      "07-Jun-2022 14:41:11 DEBUG GEOparse - SAMPLE: GSM414962\n",
      "07-Jun-2022 14:41:11 DEBUG GEOparse - SAMPLE: GSM414963\n",
      "07-Jun-2022 14:41:12 DEBUG GEOparse - SAMPLE: GSM414964\n",
      "07-Jun-2022 14:41:12 DEBUG GEOparse - SAMPLE: GSM414965\n",
      "07-Jun-2022 14:41:12 DEBUG GEOparse - SAMPLE: GSM414966\n",
      "07-Jun-2022 14:41:12 DEBUG GEOparse - SAMPLE: GSM414967\n"
     ]
    },
    {
     "name": "stderr",
     "output_type": "stream",
     "text": [
      "07-Jun-2022 14:41:13 DEBUG GEOparse - SAMPLE: GSM414968\n",
      "07-Jun-2022 14:41:13 DEBUG GEOparse - SAMPLE: GSM414969\n",
      "07-Jun-2022 14:41:13 DEBUG GEOparse - SAMPLE: GSM414970\n",
      "07-Jun-2022 14:41:13 DEBUG GEOparse - SAMPLE: GSM414971\n",
      "07-Jun-2022 14:41:14 DEBUG GEOparse - SAMPLE: GSM414972\n",
      "07-Jun-2022 14:41:14 DEBUG GEOparse - SAMPLE: GSM414973\n",
      "07-Jun-2022 14:41:14 DEBUG GEOparse - SAMPLE: GSM414974\n",
      "07-Jun-2022 14:41:14 DEBUG GEOparse - SAMPLE: GSM414975\n",
      "07-Jun-2022 14:41:19 DEBUG utils - Directory C:/Users/ctrou/AppData/Local/Temp/bmes already exists. Skipping.\n",
      "07-Jun-2022 14:41:19 INFO GEOparse - File already exist: using local version.\n",
      "07-Jun-2022 14:41:19 INFO GEOparse - Parsing C:/Users/ctrou/AppData/Local/Temp/bmes\\GSE22780_family.soft.gz: \n",
      "07-Jun-2022 14:41:19 DEBUG GEOparse - DATABASE: GeoMiame\n",
      "07-Jun-2022 14:41:19 DEBUG GEOparse - SERIES: GSE22780\n",
      "07-Jun-2022 14:41:19 DEBUG GEOparse - PLATFORM: GPL570\n",
      "C:\\Users\\ctrou\\anaconda3\\lib\\site-packages\\GEOparse\\GEOparse.py:113: DtypeWarning: Columns (2) have mixed types.Specify dtype option on import or set low_memory=False.\n",
      "  return parse_GSE(filepath, open_kwargs=open_kwargs)\n",
      "07-Jun-2022 14:41:22 DEBUG GEOparse - SAMPLE: GSM563305\n",
      "07-Jun-2022 14:41:22 DEBUG GEOparse - SAMPLE: GSM563306\n",
      "07-Jun-2022 14:41:22 DEBUG GEOparse - SAMPLE: GSM563307\n",
      "07-Jun-2022 14:41:23 DEBUG GEOparse - SAMPLE: GSM563308\n",
      "07-Jun-2022 14:41:23 DEBUG GEOparse - SAMPLE: GSM563309\n",
      "07-Jun-2022 14:41:23 DEBUG GEOparse - SAMPLE: GSM563310\n",
      "07-Jun-2022 14:41:23 DEBUG GEOparse - SAMPLE: GSM563311\n",
      "07-Jun-2022 14:41:24 DEBUG GEOparse - SAMPLE: GSM563312\n",
      "07-Jun-2022 14:41:24 DEBUG GEOparse - SAMPLE: GSM563313\n",
      "07-Jun-2022 14:41:24 DEBUG GEOparse - SAMPLE: GSM563314\n",
      "07-Jun-2022 14:41:24 DEBUG GEOparse - SAMPLE: GSM563315\n",
      "07-Jun-2022 14:41:25 DEBUG GEOparse - SAMPLE: GSM563316\n",
      "07-Jun-2022 14:41:25 DEBUG GEOparse - SAMPLE: GSM563317\n",
      "07-Jun-2022 14:41:25 DEBUG GEOparse - SAMPLE: GSM563318\n",
      "07-Jun-2022 14:41:25 DEBUG GEOparse - SAMPLE: GSM563319\n",
      "07-Jun-2022 14:41:26 DEBUG GEOparse - SAMPLE: GSM563320\n"
     ]
    }
   ],
   "source": [
    "gsedata1 = functions.get_gsedata(\"GSE15471\", 1)\n",
    "\n",
    "gsedata2 = functions.get_gsedata(\"GSE16515\", 0)\n",
    "\n",
    "gsedata3 = functions.get_gsedata(\"GSE22780\", 3)"
   ]
  },
  {
   "cell_type": "markdown",
   "metadata": {},
   "source": [
    "#### DIFFERENTIAL GENE EXPRESSION ANALYSIS"
   ]
  },
  {
   "cell_type": "code",
   "execution_count": 5,
   "metadata": {},
   "outputs": [],
   "source": [
    "#CHANGE THESE VALUES FOR DIFFERENTIAL GENE EXPRESSION ANALYSIS\n",
    "fc_threshold = 1.5\n",
    "pval_threshold = 0.02\n",
    "\n",
    "\n",
    "sig_genes1 = functions.get_sig_genes(gsedata1, fc_threshold, pval_threshold)\n",
    "sig_genes2 = functions.get_sig_genes(gsedata2, fc_threshold, pval_threshold)\n",
    "sig_genes3 = functions.get_sig_genes(gsedata3, fc_threshold, pval_threshold)\n",
    "\n",
    "#UNCOMMENT BELOW IF YOU WANT TO GENERATE A CSV FILE WITH THE SIGNIFICANT GENES\n",
    "\n",
    "#sig_genes1.to_csv('sig_genes1.csv', index = True)\n",
    "#sig_genes2.to_csv('sig_genes2.csv', index = True)\n",
    "#sig_genes3.to_csv('sig_genes3.csv', index = True)"
   ]
  },
  {
   "cell_type": "code",
   "execution_count": 6,
   "metadata": {},
   "outputs": [
    {
     "data": {
      "image/png": "[encoded data removed]",
      "text/plain": [
       "<Figure size 432x288 with 1 Axes>"
      ]
     },
     "metadata": {},
     "output_type": "display_data"
    }
   ],
   "source": [
    "#generate venn diagram\n",
    "venn3_unweighted([set(sig_genes1.index), set(sig_genes2.index), set(sig_genes3.index)], ('Dataset1 (Primary)', 'Dataset2 (Secondary)', 'Dataset3 (Secondary)'))\n",
    "\n",
    "plt.show()"
   ]
  },
  {
   "cell_type": "code",
   "execution_count": 7,
   "metadata": {},
   "outputs": [
    {
     "name": "stdout",
     "output_type": "stream",
     "text": [
      "['244612_at' 'ACAT1' 'AHNAK2' 'AK4 /// LOC100507855' 'ANTXR2' 'ARNTL2'\n",
      " 'CAMK2N1' 'CD55' 'CEACAM1' 'CEACAM5' 'CLDN18' 'COL12A1' 'CRIP1'\n",
      " 'CTA-445C9.15' 'CTNND2' 'CTSE' 'CXCL14' 'DIO2' 'EFNB2' 'EPHA4' 'ERO1LB'\n",
      " 'GCAT' 'GLS2' 'GPR110' 'GPRC5A' 'GUCA1C' 'HEPH' 'HOXC6' 'IGFBP3' 'KCNJ16'\n",
      " 'KCNJ5' 'KCNK1' 'KLK10' 'KRT19' 'LAMB3' 'LAMC2' 'LPAR3' 'MALL' 'MCOLN3'\n",
      " 'MMP28' 'MSLN' 'MTMR11' 'NHS' 'NMU' 'NQO1' 'NT5E' 'PDLIM7' 'PHLDA2'\n",
      " 'PM20D1' 'S100A6' 'S100P' 'SDR16C5' 'SEL1L' 'SERPINB5' 'SFN' 'SLC16A1'\n",
      " 'SLC1A2' 'SLC22A3' 'SLC6A14' 'STYK1' 'TEX11' 'TMEM45B' 'TNFAIP2' 'TSPAN1']\n"
     ]
    }
   ],
   "source": [
    "#get the common significant genes across all three datasets\n",
    "sig_genes_all3 = np.intersect1d(np.intersect1d(sig_genes1.index, sig_genes2.index),  sig_genes3.index)\n",
    "\n",
    "#UNCOMMENT BELOW IF YOU WANT TO GENERATE A CSV FILE WITH THE SIGNIFICANT GENES\n",
    "#this file is used in David Functional Annotation\n",
    "#pd.DataFrame(sig_genes_all3).to_csv('sig_genes_all3.csv', index = False, header = False)"
   ]
  },
  {
   "cell_type": "markdown",
   "metadata": {},
   "source": [
    "#### PRE-PROCESSING DATA FOR MACHINE LEARNING"
   ]
  },
  {
   "cell_type": "code",
   "execution_count": 8,
   "metadata": {},
   "outputs": [],
   "source": [
    "#get the genes that are present in all three datasets\n",
    "common_genes = gsedata3.index.intersection(gsedata1.index.intersection(gsedata2.index))\n",
    "\n",
    "#use the common genes set all three datasets to have equal # of features\n",
    "gsedata1_common = gsedata1.loc[common_genes].groupby('Gene Symbols').mean()\n",
    "gsedata2_common = gsedata2.loc[common_genes].groupby('Gene Symbols').mean()\n",
    "gsedata3_common = gsedata3.loc[common_genes].groupby('Gene Symbols').mean()\n",
    "\n",
    "#CHANGE VARIANCE RATIO TO REMOVE GENES WITH LOW VARIANCE [0-1]\n",
    "variance_threshold = 0.99\n",
    "\n",
    "#get the final filtered data (x1, x2, x3 and y1, y2, y3) using variance threshold \n",
    "x1_df = gsedata1_common.transpose()\n",
    "\n",
    "variance = np.sort(x1_df.var())[math.floor(variance_threshold * x1_df.shape[1])]\n",
    "\n",
    "\n",
    "x1 = x1_df.loc[:, x1_df.var() > variance].values\n",
    "y1 = gsedata1_common.columns.values\n",
    "\n",
    "\n",
    "x2_df = gsedata2_common.transpose()\n",
    "x2 = x2_df.loc[:, x1_df.var() > variance].values\n",
    "y2 = gsedata2_common.columns.values\n",
    "\n",
    "\n",
    "x3_df = gsedata3_common.transpose()\n",
    "x3 = x3_df.loc[:, x1_df.var() > variance].values\n",
    "y3 = gsedata3_common.columns.values"
   ]
  },
  {
   "cell_type": "markdown",
   "metadata": {},
   "source": [
    "##### DECISION TREE"
   ]
  },
  {
   "cell_type": "code",
   "execution_count": 9,
   "metadata": {},
   "outputs": [
    {
     "name": "stdout",
     "output_type": "stream",
     "text": [
      "Dataset 1 Cross-Validation Accuracy:  0.8741666666666668\n",
      "\n",
      "Dataset 2 Metrics\n",
      "Accuracy: 0.827\n",
      "Precision: 0.829\n",
      "Recall: 0.944\n"
     ]
    },
    {
     "data": {
      "image/png": "[encoded data removed]",
      "text/plain": [
       "<Figure size 432x288 with 2 Axes>"
      ]
     },
     "metadata": {
      "needs_background": "light"
     },
     "output_type": "display_data"
    },
    {
     "name": "stdout",
     "output_type": "stream",
     "text": [
      "Dataset 3 Metrics\n",
      "Accuracy: 0.688\n",
      "Precision: 0.615\n",
      "Recall: 1.000\n"
     ]
    },
    {
     "data": {
      "image/png": "[encoded data removed]",
      "text/plain": [
       "<Figure size 432x288 with 2 Axes>"
      ]
     },
     "metadata": {
      "needs_background": "light"
     },
     "output_type": "display_data"
    }
   ],
   "source": [
    "mdlTree = tree.DecisionTreeClassifier(max_depth=1)\n",
    "mdlTree.fit(x1_df.values, y1);\n",
    "\n",
    "#get metrics for dataset 1 (primary) -------------------------------------------------------------------------------\n",
    "print('Dataset 1 Cross-Validation Accuracy: ', (cross_val_score(mdlTree, x1_df.values, y1, cv = 5)).mean())\n",
    "print()\n",
    "\n",
    "#get metrics for dataset 2 (secondary) --------------------------------------------------------------------------------\n",
    "accuracy, precision, recall, disp = functions.get_metrics(mdlTree, x2_df.values, y2)\n",
    "\n",
    "print(\"Dataset 2 Metrics\")\n",
    "print(\"Accuracy: %.3f\" % (accuracy))\n",
    "print(\"Precision: %.3f\" % (precision))\n",
    "print(\"Recall: %.3f\" % (recall))\n",
    "\n",
    "disp.plot()\n",
    "plt.show()\n",
    "\n",
    "#get metrics for dataset 3 (secondary) --------------------------------------------------------------------------------\n",
    "accuracy, precision, recall, disp = functions.get_metrics(mdlTree, x3_df.values, y3)\n",
    "\n",
    "print(\"Dataset 3 Metrics\")\n",
    "print(\"Accuracy: %.3f\" % (accuracy))\n",
    "print(\"Precision: %.3f\" % (precision))\n",
    "print(\"Recall: %.3f\" % (recall))\n",
    "\n",
    "disp.plot()\n",
    "plt.show()"
   ]
  },
  {
   "cell_type": "code",
   "execution_count": 10,
   "metadata": {},
   "outputs": [
    {
     "data": {
      "image/png": "[encoded data removed]",
      "text/plain": [
       "<Figure size 360x360 with 1 Axes>"
      ]
     },
     "metadata": {
      "needs_background": "light"
     },
     "output_type": "display_data"
    }
   ],
   "source": [
    "fig = plt.figure(figsize=(5,5))\n",
    "tree.plot_tree(mdlTree, \n",
    "                   feature_names=x1_df.columns,  \n",
    "                   class_names=np.unique(y1),\n",
    "                   filled=True);"
   ]
  },
  {
   "cell_type": "markdown",
   "metadata": {},
   "source": [
    "#### FEATURE SELECTION"
   ]
  },
  {
   "cell_type": "code",
   "execution_count": null,
   "metadata": {},
   "outputs": [],
   "source": [
    "mdlKNN = KNeighborsClassifier(n_neighbors=3)\n",
    "\n",
    "\n",
    "sfs = SequentialFeatureSelector(mdlKNN, n_features_to_select=20, direction='forward', cv=5, scoring = 'accuracy')\n",
    "\n",
    "sfs.fit(x1,y1)\n",
    "\n",
    "x1_selected = sfs.transform(x1)\n",
    "x2_selected = sfs.transform(x2)\n",
    "x3_selected = sfs.transform(x3)"
   ]
  },
  {
   "cell_type": "markdown",
   "metadata": {},
   "source": [
    "##### SUPPORT VECTOR MACHINE (BEFORE FEATURE SELECTION)"
   ]
  },
  {
   "cell_type": "code",
   "execution_count": null,
   "metadata": {},
   "outputs": [],
   "source": [
    "##CROSS VALIDATION FOR SUPPORT VECTOR MACHINE\n",
    "mdlSVM = SVC(kernel='rbf')\n",
    "mdlSVM.fit(x1_df.values, y1);\n",
    "\n",
    "print('Support Vector Machine (All Features)')\n",
    "#get metrics for dataset 1 (primary) -------------------------------------------------------------------------------\n",
    "print('Dataset 1 Cross-Validation Accuracy: ', (cross_val_score(mdlSVM, x1_df.values, y1, cv = 5)).mean())\n",
    "print()\n",
    "\n",
    "#get metrics for dataset 2 (secondary) --------------------------------------------------------------------------------\n",
    "accuracy, precision, recall, disp = functions.get_metrics(mdlSVM, x2_df.values, y2)\n",
    "\n",
    "print(\"Dataset 2 Metrics\")\n",
    "print(\"Accuracy: %.3f\" % (accuracy))\n",
    "print(\"Precision: %.3f\" % (precision))\n",
    "print(\"Recall: %.3f\" % (recall))\n",
    "\n",
    "disp.plot()\n",
    "plt.show()\n",
    "\n",
    "#get metrics for dataset 3 (secondary) --------------------------------------------------------------------------------\n",
    "accuracy, precision, recall, disp = functions.get_metrics(mdlSVM, x3_df.values, y3)\n",
    "\n",
    "print(\"Dataset 3 Metrics\")\n",
    "print(\"Accuracy: %.3f\" % (accuracy))\n",
    "print(\"Precision: %.3f\" % (precision))\n",
    "print(\"Recall: %.3f\" % (recall))\n",
    "\n",
    "disp.plot()\n",
    "plt.show()"
   ]
  },
  {
   "cell_type": "markdown",
   "metadata": {},
   "source": [
    "#### SUPPORT VECTOR MACHINE (AFTER FEATURE SELECTION)"
   ]
  },
  {
   "cell_type": "code",
   "execution_count": null,
   "metadata": {},
   "outputs": [],
   "source": [
    "##CROSS VALIDATION FOR SUPPORT VECTOR MACHINE\n",
    "mdlSVM = SVC(kernel='rbf')\n",
    "mdlSVM.fit(x1_selected, y1);\n",
    "\n",
    "print('Support Vector Machine (20 Features)')\n",
    "#get metrics for dataset 1 (primary) -------------------------------------------------------------------------------\n",
    "print('Dataset 1 Cross-Validation Accuracy: ', (cross_val_score(mdlSVM, x1_selected, y1, cv = 5)).mean())\n",
    "print()\n",
    "\n",
    "#get metrics for dataset 2 (secondary) --------------------------------------------------------------------------------\n",
    "accuracy, precision, recall, disp = functions.get_metrics(mdlSVM, x2_selected, y2)\n",
    "\n",
    "print(\"Dataset 2 Metrics\")\n",
    "print(\"Accuracy: %.3f\" % (accuracy))\n",
    "print(\"Precision: %.3f\" % (precision))\n",
    "print(\"Recall: %.3f\" % (recall))\n",
    "\n",
    "disp.plot()\n",
    "plt.show()\n",
    "\n",
    "#get metrics for dataset 3 (secondary) --------------------------------------------------------------------------------\n",
    "accuracy, precision, recall, disp = functions.get_metrics(mdlSVM, x3_selected, y3)\n",
    "\n",
    "print(\"Dataset 3 Metrics\")\n",
    "print(\"Accuracy: %.3f\" % (accuracy))\n",
    "print(\"Precision: %.3f\" % (precision))\n",
    "print(\"Recall: %.3f\" % (recall))\n",
    "\n",
    "disp.plot()\n",
    "plt.show()"
   ]
  },
  {
   "cell_type": "markdown",
   "metadata": {},
   "source": [
    "##### K-NEAREST NEIGHBOR (BEFORE FEATURE SELECTION)"
   ]
  },
  {
   "cell_type": "code",
   "execution_count": null,
   "metadata": {},
   "outputs": [],
   "source": [
    "mdlKNN = KNeighborsClassifier(n_neighbors=3)\n",
    "mdlKNN.fit(x1_df.values, y1)\n",
    "\n",
    "print('K-Nearest Neighbor (All Features)')\n",
    "#get metrics for dataset 1 (primary) -------------------------------------------------------------------------------\n",
    "print('Dataset 1 Cross-Validation Accuracy: ', (cross_val_score(mdlKNN, x1_df.values, y1, cv = 5)).mean())\n",
    "print()\n",
    "\n",
    "#get metrics for dataset 2 (secondary) --------------------------------------------------------------------------------\n",
    "accuracy, precision, recall, disp = functions.get_metrics(mdlKNN, x2_df.values, y2)\n",
    "\n",
    "print(\"Dataset 2 Metrics\")\n",
    "print(\"Accuracy: %.3f\" % (accuracy))\n",
    "print(\"Precision: %.3f\" % (precision))\n",
    "print(\"Recall: %.3f\" % (recall))\n",
    "\n",
    "disp.plot()\n",
    "plt.show()\n",
    "\n",
    "#get metrics for dataset 3 (secondary) --------------------------------------------------------------------------------\n",
    "accuracy, precision, recall, disp = functions.get_metrics(mdlKNN, x3_df.values, y3)\n",
    "\n",
    "print(\"Dataset 3 Metrics\")\n",
    "print(\"Accuracy: %.3f\" % (accuracy))\n",
    "print(\"Precision: %.3f\" % (precision))\n",
    "print(\"Recall: %.3f\" % (recall))\n",
    "\n",
    "disp.plot()\n",
    "plt.show()"
   ]
  },
  {
   "cell_type": "markdown",
   "metadata": {},
   "source": [
    "##### K-NEAREST NEIGHBOR (AFTER FEATURE SELECTION)"
   ]
  },
  {
   "cell_type": "code",
   "execution_count": null,
   "metadata": {},
   "outputs": [],
   "source": [
    "mdlKNN = KNeighborsClassifier(n_neighbors=3)\n",
    "mdlKNN.fit(x1_selected, y1)\n",
    "\n",
    "print('K-Nearest Neighbor (20 Features)')\n",
    "#get metrics for dataset 1 (primary) -------------------------------------------------------------------------------\n",
    "print('Dataset 1 Cross-Validation Accuracy: ', (cross_val_score(mdlKNN, x1_selected, y1, cv = 5)).mean())\n",
    "print()\n",
    "\n",
    "#get metrics for dataset 2 (secondary) --------------------------------------------------------------------------------\n",
    "accuracy, precision, recall, disp = functions.get_metrics(mdlKNN, x2_selected, y2)\n",
    "\n",
    "print(\"Dataset 2 Metrics\")\n",
    "print(\"Accuracy: %.3f\" % (accuracy))\n",
    "print(\"Precision: %.3f\" % (precision))\n",
    "print(\"Recall: %.3f\" % (recall))\n",
    "\n",
    "disp.plot()\n",
    "plt.show()\n",
    "\n",
    "#get metrics for dataset 3 (secondary) --------------------------------------------------------------------------------\n",
    "accuracy, precision, recall, disp = functions.get_metrics(mdlKNN, x3_selected, y3)\n",
    "\n",
    "print(\"Dataset 3 Metrics\")\n",
    "print(\"Accuracy: %.3f\" % (accuracy))\n",
    "print(\"Precision: %.3f\" % (precision))\n",
    "print(\"Recall: %.3f\" % (recall))\n",
    "\n",
    "disp.plot()\n",
    "plt.show()"
   ]
  },
  {
   "cell_type": "markdown",
   "metadata": {},
   "source": [
    "#### PRINCIPAL COMPONENT ANALYSIS"
   ]
  },
  {
   "cell_type": "code",
   "execution_count": null,
   "metadata": {},
   "outputs": [],
   "source": [
    "pca = PCA(n_components=2)\n",
    "\n",
    "principalComponents = pca.fit_transform(x2)\n",
    "\n",
    "\n",
    "principalComponentsDf = pd.DataFrame(principalComponents, columns = ['PC 1', 'PC 2'])\n",
    "\n",
    "explained_variance = pca.explained_variance_ratio_\n"
   ]
  },
  {
   "cell_type": "code",
   "execution_count": null,
   "metadata": {},
   "outputs": [],
   "source": [
    "fig = plt.figure(figsize = (10,10))\n",
    "ax = fig.add_subplot(1,1,1) \n",
    "ax.set_xlabel(f'PC 1 ({explained_variance[0]: .3f})', fontsize = 20)\n",
    "ax.set_ylabel(f'PC 2 ({explained_variance[1]: .3f})', fontsize = 20)\n",
    "ax.set_title('PCA with 2 Components', fontsize = 20)\n",
    "groups = np.unique(y2)\n",
    "colors = ['r', 'b']\n",
    "\n",
    "for group, color in zip(groups,colors):\n",
    "  \n",
    "    ax.scatter(principalComponentsDf.loc[y2 == group, 'PC 1']\n",
    "               , principalComponentsDf.loc[y2 == group, 'PC 2']\n",
    "               , c = color\n",
    "               , s = 50)\n",
    "ax.legend(groups)\n",
    "ax.grid()"
   ]
  }
 ],
 "metadata": {
  "interpreter": {
   "hash": "85195534fe9c3ad7633c7df1aa1e5609051098722e85f1686ce2cb1d8a1f6300"
  },
  "kernelspec": {
   "display_name": "Python 3",
   "language": "python",
   "name": "python3"
  },
  "language_info": {
   "codemirror_mode": {
    "name": "ipython",
    "version": 3
   },
   "file_extension": ".py",
   "mimetype": "text/x-python",
   "name": "python",
   "nbconvert_exporter": "python",
   "pygments_lexer": "ipython3",
   "version": "3.8.8"
  }
 },
 "nbformat": 4,
 "nbformat_minor": 2
}
