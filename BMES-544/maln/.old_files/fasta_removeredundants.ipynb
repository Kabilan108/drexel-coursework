{
 "cells": [
  {
   "cell_type": "code",
   "execution_count": 6,
   "metadata": {},
   "outputs": [],
   "source": [
    "# Imports\n",
    "from Bio import pairwise2, Align, SeqIO\n",
    "from multiprocessing import Pool\n",
    "from psutil import cpu_count\n",
    "from functools import partial\n",
    "import numpy as np\n",
    "\n",
    "from time import time\n",
    "\n",
    "def _nwalign_pct_id(a,b):\n",
    "    \"\"\"\n",
    "    Wrapper for pairwise2.align.globaldx() that can be used by partials()\n",
    "    Computes global alignment score with free end gaps, and returns percent identity.\n",
    "    \"\"\"\n",
    "    if a.seq != b.seq:\n",
    "        # Compute alignment and store aligned sequences\n",
    "        align = pairwise2.align.globalxs(\n",
    "            a.seq, b.seq, open=-5, extend=-5, penalize_end_gaps=False,\n",
    "            one_alignment_only=True\n",
    "        )[0]\n",
    "\n",
    "        # Store aligned sequences\n",
    "        a = align.seqA\n",
    "        b = align.seqB\n",
    "        denom = align.end - align.start\n",
    "\n",
    "        # Compute percent identity\n",
    "        ident = 0\n",
    "        for i,j in zip(a,b):\n",
    "            if i == j: ident += 1\n",
    "        p_id = ident/denom\n",
    "    else:\n",
    "        p_id = 1\n",
    "\n",
    "    return p_id\n",
    "\n",
    "def fasta_removeredundants_multi(file: str, identthreshold: float=0.95, maxtime=0):\n",
    "    # Read proteins from file\n",
    "    ptns = list( SeqIO.parse(file, 'fasta') )[:6]\n",
    "    N = len(ptns)\n",
    "\n",
    "    # Timing\n",
    "    tic = time()\n",
    "    stopped = False\n",
    "\n",
    "    # Loop through list of proteins\n",
    "    avoid = []\n",
    "    numaligns = 0\n",
    "    for i in range(N-1):\n",
    "        if i in avoid:\n",
    "            continue\n",
    "        with Pool(cpu_count()) as pool:\n",
    "            identities = pool.map(partial(_nwalign_pct_id, ptns[i]), ptns[i+1:])\n",
    "\n",
    "        # Get indices of proteins that exceed threshold\n",
    "        identities = np.array(identities)\n",
    "        ind = i+1 + np.where( identities > identthreshold )[0]\n",
    "        avoid.extend(ind.tolist())\n",
    "        \n",
    "        # Timing\n",
    "        numaligns += N-i\n",
    "        if maxtime !=0 and time()-tic > maxtime:\n",
    "            print(f\"---WARNING: I only processed up to the {i:d}th protein\")\n",
    "            stopped = True\n",
    "            break\n",
    "\n",
    "    # Timing\n",
    "    toc = time()-tic;\n",
    "    numtotalaligns = N*(N-1)/2;\n",
    "    print(\"Completed {:d} of {:.2f} comparisons in {:.2f}secs ({:.2f}mins) ({:.3f}secs per comparison)\"\\\n",
    "            .format(numaligns, numtotalaligns, toc, toc/60, toc/numaligns))\n",
    "    if stopped:\n",
    "        print(\"Full comparison would have taken around {:.2f}mins.\".format(toc/numaligns * numtotalaligns/60))\n",
    "\n",
    "    return avoid"
   ]
  },
  {
   "cell_type": "code",
   "execution_count": null,
   "metadata": {},
   "outputs": [],
   "source": [
    "def fasta_removeredundants_loop(file: str, identthreshold: float=0.90):\n",
    "    \"\"\"\n",
    "    Remove Redundant Proteins From BLAST Results (FASTA file)\n",
    "\n",
    "    This function takes a fasta file containing aligned sequences from BLAST\n",
    "    and writes a file with the extension 'nonredundant.fasta' that contains\n",
    "    the non-redundant proteins from the fasta file.\n",
    "    It removes entries thate are more than 'identthreshold' similar to any prior\n",
    "    entry in the file.\n",
    "    Similarity is calculated based on global alignment scores with free end gaps.\n",
    "    The function returns the fraction of sequences removed.\n",
    "\n",
    "    Parameters\n",
    "    ----------\n",
    "    file: str\n",
    "        The file containing BLAST results\n",
    "    identthreshold: float\n",
    "        Threshold for similarity between sequences\n",
    "    \"\"\"\n",
    "\n",
    "    # Read proteins from file\n",
    "    ptns = list( SeqIO.parse(file, 'fasta') )\n",
    "    ptns = ptns[:6]\n",
    "    N = len(ptns)\n",
    "\n",
    "    # Timing\n",
    "    tic = time()\n",
    "\n",
    "    # Loop through list of proteins\n",
    "    avoid = []\n",
    "    for i in range(N-1):\n",
    "        if i in avoid:\n",
    "            continue\n",
    "        for j in range(i+1, N):\n",
    "            if ptns[i].seq != ptns[j].seq:\n",
    "                pct_identity = _nwalign_pct_id(ptns[i], ptns[j])\n",
    "\n",
    "                if pct_identity > identthreshold:\n",
    "                    # Avoid samples\n",
    "                    avoid.append(j)\n",
    "                \n",
    "    # Timing\n",
    "    toc = time() - tic\n",
    "    print(f'That took {toc:.2f}secs ({toc/60:.2f}mins)')\n",
    "\n",
    "    return avoid"
   ]
  },
  {
   "cell_type": "code",
   "execution_count": 7,
   "metadata": {},
   "outputs": [
    {
     "name": "stdout",
     "output_type": "stream",
     "text": [
      "---WARNING: I only processed up to pair the 6th protein\n",
      "Completed 5019 of 506521.00 comparisons in 10.06secs (0.17mins) (0.002secs per comparison)\n",
      "Full comparison would have taken around 16.92mins.\n"
     ]
    },
    {
     "data": {
      "text/plain": [
       "[1, 4]"
      ]
     },
     "execution_count": 7,
     "metadata": {},
     "output_type": "execute_result"
    }
   ],
   "source": [
    "fasta_removeredundants_multi(\"blastresult.fasta\", 0.90, 10)"
   ]
  }
 ],
 "metadata": {
  "interpreter": {
   "hash": "89aa419059693679b3c628b5998a9aeb8e5d050944c8675e82ec1608501e11b2"
  },
  "kernelspec": {
   "display_name": "Python 3.9.9 ('bmes544')",
   "language": "python",
   "name": "python3"
  },
  "language_info": {
   "codemirror_mode": {
    "name": "ipython",
    "version": 3
   },
   "file_extension": ".py",
   "mimetype": "text/x-python",
   "name": "python",
   "nbconvert_exporter": "python",
   "pygments_lexer": "ipython3",
   "version": "3.9.9"
  },
  "orig_nbformat": 4
 },
 "nbformat": 4,
 "nbformat_minor": 2
}
