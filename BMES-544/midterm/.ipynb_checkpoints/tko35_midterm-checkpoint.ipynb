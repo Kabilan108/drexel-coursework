{
 "cells": [
  {
   "cell_type": "markdown",
   "metadata": {},
   "source": [
    "# Finding Closest Pair of Sequences\n",
    "\n",
    "Template Executed by: [Tony Kabilan Okeke](mailto:tko35@drexel.edu)\n",
    "\n",
    "Write your function in a file named `\"ptns_closestpair.py\"`, which is imported in this notebook.\n",
    "\n",
    "You do not need to change anything in this Jupyter notebook. Run this file to produce the outputs. Then save it as a PDF. Submit both your PDF file, as well as ptns_closestpair.py file on Blackboard."
   ]
  },
  {
   "cell_type": "code",
   "execution_count": 1,
   "metadata": {},
   "outputs": [],
   "source": [
    "%load_ext autoreload"
   ]
  },
  {
   "cell_type": "code",
   "execution_count": 2,
   "metadata": {},
   "outputs": [],
   "source": [
    "# Imports\n",
    "%autoreload 2\n",
    "import bmes\n",
    "\n",
    "from Bio import SeqIO\n",
    "from ptns_closestpair import ptns_closestpair"
   ]
  },
  {
   "cell_type": "markdown",
   "metadata": {},
   "source": [
    "## Test 1"
   ]
  },
  {
   "cell_type": "code",
   "execution_count": 3,
   "metadata": {},
   "outputs": [
    {
     "name": "stdout",
     "output_type": "stream",
     "text": [
      "{'pair': [1, 3], 'ident': 100}\n"
     ]
    }
   ],
   "source": [
    "ptns = ['ANNA','ALLIE','HANNAH']\n",
    "\n",
    "result = ptns_closestpair( ptns )\n",
    "print(result)"
   ]
  },
  {
   "cell_type": "markdown",
   "metadata": {},
   "source": [
    "## Test 2"
   ]
  },
  {
   "cell_type": "code",
   "execution_count": 4,
   "metadata": {},
   "outputs": [
    {
     "name": "stdout",
     "output_type": "stream",
     "text": [
      "{'pair': [2, 3], 'ident': 50}\n"
     ]
    }
   ],
   "source": [
    "ptns = ['AHMET','AMY','EMILY'];\n",
    "\n",
    "result = ptns_closestpair( ptns );\n",
    "print(result)"
   ]
  },
  {
   "cell_type": "markdown",
   "metadata": {},
   "source": [
    "## Test 3"
   ]
  },
  {
   "cell_type": "code",
   "execution_count": 5,
   "metadata": {},
   "outputs": [],
   "source": [
    "file = bmes.downloadurl('https://sacan.biomed.drexel.edu/lib/exe/fetch.php?rev=&media=course:binf:data:uteroglobin.blastresults.fasta','uteroglobin.blastresults.fasta')\n",
    "ptns = [str(fastaptn.seq) for fastaptn in SeqIO.parse(file,'fasta') ]\n",
    "\n",
    "# Remove any duplicates\n",
    "ptns = list(set(ptns))"
   ]
  },
  {
   "cell_type": "code",
   "execution_count": 6,
   "metadata": {},
   "outputs": [
    {
     "name": "stdout",
     "output_type": "stream",
     "text": [
      "{'pair': [4, 9], 'ident': 80}\n"
     ]
    }
   ],
   "source": [
    "# Select first 10 proteins in list because it would take too long to iterate throug\n",
    "# every possible pair of proteins\n",
    "ptns = ptns[:10]\n",
    "\n",
    "result = ptns_closestpair( ptns );\n",
    "print(result)"
   ]
  },
  {
   "cell_type": "markdown",
   "metadata": {},
   "source": [
    "## Appendix"
   ]
  },
  {
   "cell_type": "code",
   "execution_count": 7,
   "metadata": {},
   "outputs": [
    {
     "name": "stdout",
     "output_type": "stream",
     "text": [
      "# Author: Tony Kabilan Okeke <tko35@drexel.edu>\n",
      "# Date: February 7, 2022\n",
      "\n",
      "# Imports\n",
      "from itertools import combinations\n",
      "from Bio.Align import substitution_matrices\n",
      "from Bio import pairwise2\n",
      "\n",
      "def ptns_closestpair(ptns: list):\n",
      "  \"\"\"\n",
      "  This function finds the most similar pair in a list of proteins\n",
      "  based on their local alignment scores using a BLOSUM62 scoring matirx.\n",
      "  It returns a dictionary containing the indicies of items in the pair,\n",
      "  as well as the percent identity of the alignment.\n",
      "\n",
      "  Parameters\n",
      "  ----------\n",
      "  ptns: list\n",
      "    A list of at least 2 proteins\n",
      "  \"\"\"\n",
      "\n",
      "  # Remove any gap characters from proteins\n",
      "  for i in range(len(ptns)):\n",
      "    ptns[i] = ptns[i].replace('-', '')\n",
      "\n",
      "  # Create list of unique pairs (combinations)\n",
      "  pairs = [pair for pair in combinations(ptns, 2)]\n",
      "\n",
      "  # Load and store substituotion matrix\n",
      "  subs_mat = substitution_matrices.load('BLOSUM62')\n",
      "\n",
      "  # Loop through pairs\n",
      "  max_score = 0\n",
      "  for pair in pairs:\n",
      "    # Compute alignment score\n",
      "    score = pairwise2.align.localds(\n",
      "      pair[0], pair[1], match_dict=subs_mat, open=-5, extend=-5,\n",
      "      one_alignment_only=True, score_only=True\n",
      "    )\n",
      "\n",
      "    # Assign new maxiumum and identify the corresponding pair\n",
      "    if score > max_score:\n",
      "      max_score = score\n",
      "      most_similar = pair\n",
      "\n",
      "  # Compute the alignment for the most similar pair\n",
      "  align = pairwise2.align.localds(\n",
      "    *most_similar, match_dict=subs_mat, open=-5, extend=-5,\n",
      "    one_alignment_only=True\n",
      "  )[0]\n",
      "\n",
      "  # Keep only characters that are part of the alignment\n",
      "  aligned_seqA = align.seqA[align.start:align.end]\n",
      "  aligned_seqB = align.seqB[align.start:align.end]\n",
      "\n",
      "  # Count matches in the aligned sequences\n",
      "  total = 0\n",
      "  for i in range( len(aligned_seqA) ):\n",
      "    if aligned_seqA[i] == aligned_seqB[i]:\n",
      "      total += 1\n",
      "  \n",
      "  # Compute percent identity and store value as an integer\n",
      "  pct_identity = int( total / len(aligned_seqA) * 100 )\n",
      "\n",
      "  # Get indices for items in pair\n",
      "  ind = []\n",
      "  for ptn in most_similar:\n",
      "    # Indexes are incremented to return matlab style indexes\n",
      "    ind.append( ptns.index(ptn) + 1 )\n",
      "  ind.sort()\n",
      "\n",
      "  return {'pair': ind, 'ident': pct_identity}\n"
     ]
    }
   ],
   "source": [
    "# Printing the file here as well for easy reference when grading.\n",
    "from pathlib import Path\n",
    "txt = Path('ptns_closestpair.py').read_text()\n",
    "print(txt)"
   ]
  }
 ],
 "metadata": {
  "interpreter": {
   "hash": "89aa419059693679b3c628b5998a9aeb8e5d050944c8675e82ec1608501e11b2"
  },
  "kernelspec": {
   "display_name": "Python 3 (ipykernel)",
   "language": "python",
   "name": "python3"
  },
  "language_info": {
   "codemirror_mode": {
    "name": "ipython",
    "version": 3
   },
   "file_extension": ".py",
   "mimetype": "text/x-python",
   "name": "python",
   "nbconvert_exporter": "python",
   "pygments_lexer": "ipython3",
   "version": "3.9.7"
  }
 },
 "nbformat": 4,
 "nbformat_minor": 2
}
