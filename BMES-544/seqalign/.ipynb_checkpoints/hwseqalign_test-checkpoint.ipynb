{
 "cells": [
  {
   "cell_type": "markdown",
   "metadata": {},
   "source": [
    "# Sequence Alignment using the Board Game\n",
    "\n",
    "**Author:** [Tony Kabilan Okeke](mailto:tko35@drexel.edu)  \n",
    "**Template Author:** [Ahmet Sacan](mailto:ahmetmsacan@gmail.com)"
   ]
  },
  {
   "cell_type": "code",
   "execution_count": 1,
   "metadata": {},
   "outputs": [],
   "source": [
    "%load_ext autoreload\n",
    "%autoreload 2\n",
    "\n",
    "# Import modules\n",
    "from seq_boardgame import seq_boardgame\n",
    "from seq_globalalign_boardgame import seq_globalalign_boardgame\n",
    "from seq_globalalign_nwalign import seq_globalalign_nwalign"
   ]
  },
  {
   "cell_type": "markdown",
   "metadata": {},
   "source": [
    "## Test cases for seq_boardgame"
   ]
  },
  {
   "cell_type": "code",
   "execution_count": 2,
   "metadata": {},
   "outputs": [
    {
     "name": "stdout",
     "output_type": "stream",
     "text": [
      "Score = 17\n"
     ]
    }
   ],
   "source": [
    "score = seq_boardgame( [ [0,5,1,100], [1,1,5,1], [1,20,1,5] ], -1 )\n",
    "print( f\"Score = {score}\" )"
   ]
  },
  {
   "cell_type": "code",
   "execution_count": 3,
   "metadata": {},
   "outputs": [
    {
     "name": "stdout",
     "output_type": "stream",
     "text": [
      "Score = 2\n"
     ]
    }
   ],
   "source": [
    "score = seq_boardgame([ [0,1,1], [1,1,1], [1,20,1] ], -100 )\n",
    "print( f\"Score = {score}\" )"
   ]
  },
  {
   "cell_type": "code",
   "execution_count": 4,
   "metadata": {},
   "outputs": [
    {
     "name": "stdout",
     "output_type": "stream",
     "text": [
      "Score = 5\n"
     ]
    }
   ],
   "source": [
    "score = seq_boardgame( [ [0,2,5], [6,3,4], [3,12,2] ] )\n",
    "print( f\"Score = {score}\" )"
   ]
  },
  {
   "cell_type": "code",
   "execution_count": 5,
   "metadata": {},
   "outputs": [
    {
     "name": "stdout",
     "output_type": "stream",
     "text": [
      "Score = 115\n"
     ]
    }
   ],
   "source": [
    "m = [ [0,3,16,-2,6,5,13,50],\n",
    "      [9,5,-5,-4,36,13,11,-9],\n",
    "      [25,-7,-4,56,44,13,28,-1],\n",
    "      [2,26,16,13,-6,34,14,18],\n",
    "      [29,-6,-5,32,0,6,27,40],\n",
    "      [8,21,28,2,15,-7,-4,-6] ]\n",
    "score = seq_boardgame( m )\n",
    "print( f\"Score = {score}\" )"
   ]
  },
  {
   "cell_type": "code",
   "execution_count": 6,
   "metadata": {},
   "outputs": [
    {
     "name": "stdout",
     "output_type": "stream",
     "text": [
      "Score = 5\n"
     ]
    }
   ],
   "source": [
    "m=[ [0,0,0,0,0],\n",
    "    [0,5,-4,-4,-4],\n",
    "    [0,-4,-4,5,-4],\n",
    "    [0,-4,5,-4,-4],\n",
    "    [0,-4,-4,-4,5] ]\n",
    "score = seq_boardgame( m )\n",
    "print( f\"Score = {score}\" )"
   ]
  },
  {
   "cell_type": "markdown",
   "metadata": {},
   "source": [
    "## Test cases for `seq_globalalign_boardgame`"
   ]
  },
  {
   "cell_type": "code",
   "execution_count": 7,
   "metadata": {},
   "outputs": [
    {
     "name": "stdout",
     "output_type": "stream",
     "text": [
      "Score = 5\n"
     ]
    }
   ],
   "source": [
    "score = seq_globalalign_boardgame('ATCG', 'ACTG')\n",
    "print( f\"Score = {score}\" )"
   ]
  },
  {
   "cell_type": "code",
   "execution_count": 8,
   "metadata": {},
   "outputs": [
    {
     "name": "stdout",
     "output_type": "stream",
     "text": [
      "Boardgame Score = -5\n",
      "  nwalign Score = -5.0\n"
     ]
    }
   ],
   "source": [
    "# Validate boardgame score (bg) with nwalign score (nw)\n",
    "score_bg = seq_globalalign_boardgame('AATG', 'AAGAAA')\n",
    "score_nw = seq_globalalign_nwalign('AATG', 'AAGAAA')\n",
    "\n",
    "print(f\"Boardgame Score = {score_bg}\\n  nwalign Score = {score_nw}\")"
   ]
  },
  {
   "cell_type": "code",
   "execution_count": 9,
   "metadata": {},
   "outputs": [
    {
     "name": "stdout",
     "output_type": "stream",
     "text": [
      "Boardgame Score = -18\n",
      "  nwalign Score = -18.0\n"
     ]
    }
   ],
   "source": [
    "# Validate boardgame score (bg) with nwalign score (nw)\n",
    "score_bg = seq_globalalign_boardgame('AATG', 'AAGAAA', 4, -3, -10)\n",
    "score_nw = seq_globalalign_nwalign('AATG', 'AAGAAA', 4, -3, -10)\n",
    "\n",
    "print(f\"Boardgame Score = {score_bg}\\n  nwalign Score = {score_nw}\")"
   ]
  },
  {
   "cell_type": "code",
   "execution_count": 10,
   "metadata": {},
   "outputs": [
    {
     "name": "stdout",
     "output_type": "stream",
     "text": [
      "Boardgame Score = 196\n",
      "  nwalign Score = 196.0\n"
     ]
    }
   ],
   "source": [
    "# Validate boardgame score (bg) with nwalign score (nw)\n",
    "p = 'CACTGCGAAGCGGCTTCTTCACAGCACGGGCTGGAACTGGCAGGCACCGCGAGCCCCTAGCACCCGACAAGCTGAGTGTGCAGGACGAGTCCCCACCACAC'\n",
    "q = 'CGCGTTCAGGCTGCAGCTGGCAGGCATCGCGAGCCCGGAGCACCCACGAGCTCAGTGTGCAGGACGCGCCCCCAGCACAG'\n",
    "\n",
    "score_bg = seq_globalalign_boardgame(p, q)\n",
    "score_nw = seq_globalalign_nwalign(p,q)\n",
    "\n",
    "print(f\"Boardgame Score = {score_bg}\\n  nwalign Score = {score_nw}\")"
   ]
  }
 ],
 "metadata": {
  "kernelspec": {
   "display_name": "Python 3",
   "language": "python",
   "name": "python3"
  },
  "language_info": {
   "codemirror_mode": {
    "name": "ipython",
    "version": 3
   },
   "file_extension": ".py",
   "mimetype": "text/x-python",
   "name": "python",
   "nbconvert_exporter": "python",
   "pygments_lexer": "ipython3",
   "version": "3.8.8"
  }
 },
 "nbformat": 4,
 "nbformat_minor": 2
}
