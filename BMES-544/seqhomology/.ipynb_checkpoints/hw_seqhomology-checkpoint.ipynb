{
 "cells": [
  {
   "cell_type": "markdown",
   "metadata": {},
   "source": [
    "# Sequence Homology\n",
    "\n",
    "**Authors:** [Tony Kabilan Okeke](mailto:tko35@drexel.edu), [Ifeanyi Osuchukwu](mailto:imo27@drexel.edu)  \n",
    "**Date:** 01.31.2022"
   ]
  },
  {
   "cell_type": "code",
   "execution_count": 15,
   "metadata": {},
   "outputs": [],
   "source": [
    "%%sh\n",
    "# Query BLAST\n",
    "./blast_pdb_query.sh query_protein.faa ptn_query_report.xml"
   ]
  },
  {
   "cell_type": "markdown",
   "metadata": {},
   "source": [
    "## Parse `BLAST` Query Results"
   ]
  },
  {
   "cell_type": "code",
   "execution_count": 31,
   "metadata": {},
   "outputs": [],
   "source": [
    "# Import modules\n",
    "from Bio.Blast import NCBIXML\n",
    "import re\n",
    "\n",
    "# Load Query Report\n",
    "with open(\"ptn_query_report.xml\", 'r') as file:\n",
    "  # Retrieve alignment records\n",
    "  records = next(NCBIXML.parse(file))"
   ]
  },
  {
   "cell_type": "markdown",
   "metadata": {},
   "source": [
    "### Top Protein Hit\n",
    "\n",
    "Print the name of the top protein hit."
   ]
  },
  {
   "cell_type": "code",
   "execution_count": 26,
   "metadata": {},
   "outputs": [
    {
     "name": "stdout",
     "output_type": "stream",
     "text": [
      "Top Hit: pdb|6XA4|A\n"
     ]
    }
   ],
   "source": [
    "# Print Title\n",
    "#? What exactly counts as the 'name' - for now, print ID\n",
    "print( \"Top Hit: {}\".format(re.findall(r'^\\S+', records.descriptions[0].title)[0]) )"
   ]
  },
  {
   "cell_type": "markdown",
   "metadata": {},
   "source": [
    "### Unique Species Names of All Returned Hits\n",
    "\n",
    "Print a unique list of species names of all the hits."
   ]
  },
  {
   "cell_type": "code",
   "execution_count": 36,
   "metadata": {},
   "outputs": [],
   "source": [
    "hit_species = []\n",
    "\n",
    "for descr in records.descriptions:\n",
    "  # Extract species from\n",
    "  species = re.search(r'\\ \\[(.*?)\\]\\ ?', descr.title).group(1)\n",
    "  # Append to list\n",
    "  hit_species.append(species)"
   ]
  },
  {
   "cell_type": "code",
   "execution_count": 40,
   "metadata": {},
   "outputs": [
    {
     "name": "stdout",
     "output_type": "stream",
     "text": [
      "The following species were present in the hits:\n",
      "  Human coronavirus HKU1 (isolate N1)\n",
      "  Escherichia coli K-12\n",
      "  Porcine transmissible gastroenteritis coronavirus strain Purdue\n",
      "  Feline infectious peritonitis virus (strain 79-1146)\n",
      "  Human coronavirus NL63\n",
      "  Paenibacillus glycanilyticus\n",
      "  Transmissible gastroenteritis virus\n",
      "  SARS coronavirus BJ162\n",
      "  unidentified\n",
      "  Mus musculus\n",
      "  Severe acute respiratory syndrome coronavirus\n",
      "  Infectious bronchitis virus\n",
      "  Murine hepatitis virus strain A59\n",
      "  Porcine epidemic diarrhea virus CV777\n",
      "  Tylonycteris bat coronavirus HKU4\n",
      "  SARS coronavirus BJ01\n",
      "  Porcine epidemic diarrhea virus\n",
      "  Shewanella oneidensis MR-1\n",
      "  SARS coronavirus Sino1-11\n",
      "  Human coronavirus 229E\n",
      "  Severe acute respiratory syndrome-related coronavirus\n",
      "  Mycolicibacterium smegmatis\n",
      "  Severe acute respiratory syndrome coronavirus 2\n",
      "  Middle East respiratory syndrome-related coronavirus\n",
      "  Feline infectious peritonitis virus\n"
     ]
    }
   ],
   "source": [
    "# Select unique sepecies\n",
    "unique_species = list( set(hit_species) )\n",
    "print(\"The following species were present in the hits:\", *unique_species, sep='\\n  ')"
   ]
  },
  {
   "cell_type": "markdown",
   "metadata": {},
   "source": [
    "### Top Scoring Mouse Protein Alignment\n",
    "\n",
    "Find the top scoring hit with a mouse protein. Print the sequence alignment of the query with this mouse protein."
   ]
  },
  {
   "cell_type": "code",
   "execution_count": null,
   "metadata": {},
   "outputs": [],
   "source": [
    "# Retrieve hits that contain Mouse protein\n",
    "hits = [i for (i,x) in enumerate(hit_species) if x == \"Mus musculus\"]\n",
    "\n",
    "records.alignments[0].hsps[0].match"
   ]
  }
 ],
 "metadata": {
  "interpreter": {
   "hash": "89aa419059693679b3c628b5998a9aeb8e5d050944c8675e82ec1608501e11b2"
  },
  "kernelspec": {
   "display_name": "Python 3 (ipykernel)",
   "language": "python",
   "name": "python3"
  },
  "language_info": {
   "codemirror_mode": {
    "name": "ipython",
    "version": 3
   },
   "file_extension": ".py",
   "mimetype": "text/x-python",
   "name": "python",
   "nbconvert_exporter": "python",
   "pygments_lexer": "ipython3",
   "version": "3.9.9"
  }
 },
 "nbformat": 4,
 "nbformat_minor": 2
}
