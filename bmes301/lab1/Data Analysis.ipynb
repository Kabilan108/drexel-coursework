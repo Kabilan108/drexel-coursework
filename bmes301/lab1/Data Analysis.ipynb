{
 "cells": [
  {
   "cell_type": "markdown",
   "metadata": {
    "id": "wTbehp4TvEIf"
   },
   "source": [
    "# Lab 1: Comparison of the Tensile Properties of the Collateral Ligaments\n",
    "\n",
    "## Data Analysis\n",
    "\n",
    "Goals for this lab report:\n",
    "\n",
    "- **Hypotheses:** What is the effect of the test variable (MCL vs LCL) on\n",
    "  - Stiffness, $k$\n",
    "  - Tangent Elastic Modulus, $E$\n",
    "- Present $\\text{mean}\\pm\\text{std. dev.}$ and perform statistical tests for:\n",
    "  - Geometric Dimensions: $L_0$, $w$, $t$\n",
    "  - Cross-sectional area, $A$\n",
    "  - Stiffness, $k$ (T-Test)\n",
    "  - Tangend Elastic Modulus, $E$ (T-Test)"
   ]
  },
  {
   "cell_type": "code",
   "execution_count": 1,
   "metadata": {},
   "outputs": [],
   "source": [
    "# Google Colab: Run this to mount your Google Drive\n",
    "\n",
    "# from google.colab import drive\n",
    "# import os\n",
    "# drive.mount('/content/gdrive', force_remount=True)\n",
    "# os.chdir('/content/gdrive/MyDrive/BMES 301/Lab 1')"
   ]
  },
  {
   "cell_type": "code",
   "execution_count": 2,
   "metadata": {
    "colab": {
     "base_uri": "https://localhost:8080/"
    },
    "executionInfo": {
     "elapsed": 2703,
     "status": "ok",
     "timestamp": 1664381498004,
     "user": {
      "displayName": "Anthony Kabilan Okeke",
      "userId": "08549900890266994069"
     },
     "user_tz": 240
    },
    "id": "ao0xV9Y0vEIl",
    "outputId": "01e2b23f-a577-4414-d704-955d127f5274"
   },
   "outputs": [
    {
     "name": "stdout",
     "output_type": "stream",
     "text": [
      "The autoreload extension is already loaded. To reload it, use:\n",
      "  %reload_ext autoreload\n"
     ]
    }
   ],
   "source": [
    "# Notebook setup\n",
    "\n",
    "%load_ext autoreload\n",
    "%autoreload 2\n",
    "\n",
    "## Import necessary libraries\n",
    "from pathlib import Path\n",
    "from scipy import stats\n",
    "import plotly.graph_objects as go\n",
    "import plotly.express as px\n",
    "import matplotlib.pyplot as plt\n",
    "import matplotlib.patches as mpatches\n",
    "import seaborn as sns\n",
    "import pandas as pd\n",
    "import numpy as np\n",
    "import tools\n",
    "import re\n",
    "import os\n",
    "\n",
    "## Define the paths to raw data and results\n",
    "datapath = Path('data')"
   ]
  },
  {
   "cell_type": "code",
   "execution_count": 116,
   "metadata": {},
   "outputs": [
    {
     "data": {
      "text/html": [
       "<div>\n",
       "<style scoped>\n",
       "    .dataframe tbody tr th:only-of-type {\n",
       "        vertical-align: middle;\n",
       "    }\n",
       "\n",
       "    .dataframe tbody tr th {\n",
       "        vertical-align: top;\n",
       "    }\n",
       "\n",
       "    .dataframe thead th {\n",
       "        text-align: right;\n",
       "    }\n",
       "</style>\n",
       "<table border=\"1\" class=\"dataframe\">\n",
       "  <thead>\n",
       "    <tr style=\"text-align: right;\">\n",
       "      <th></th>\n",
       "      <th>time</th>\n",
       "      <th>disp</th>\n",
       "      <th>load</th>\n",
       "      <th>tissue</th>\n",
       "      <th>team</th>\n",
       "    </tr>\n",
       "  </thead>\n",
       "  <tbody>\n",
       "    <tr>\n",
       "      <th>0</th>\n",
       "      <td>0.0000</td>\n",
       "      <td>-2.000079</td>\n",
       "      <td>-0.08</td>\n",
       "      <td>LCL</td>\n",
       "      <td>01</td>\n",
       "    </tr>\n",
       "    <tr>\n",
       "      <th>1</th>\n",
       "      <td>0.1464</td>\n",
       "      <td>-1.998455</td>\n",
       "      <td>-0.08</td>\n",
       "      <td>LCL</td>\n",
       "      <td>01</td>\n",
       "    </tr>\n",
       "    <tr>\n",
       "      <th>2</th>\n",
       "      <td>0.2928</td>\n",
       "      <td>-1.995375</td>\n",
       "      <td>-0.08</td>\n",
       "      <td>LCL</td>\n",
       "      <td>01</td>\n",
       "    </tr>\n",
       "    <tr>\n",
       "      <th>3</th>\n",
       "      <td>0.4392</td>\n",
       "      <td>-1.984185</td>\n",
       "      <td>-0.08</td>\n",
       "      <td>LCL</td>\n",
       "      <td>01</td>\n",
       "    </tr>\n",
       "    <tr>\n",
       "      <th>4</th>\n",
       "      <td>0.5856</td>\n",
       "      <td>-1.970243</td>\n",
       "      <td>-0.08</td>\n",
       "      <td>LCL</td>\n",
       "      <td>01</td>\n",
       "    </tr>\n",
       "  </tbody>\n",
       "</table>\n",
       "</div>"
      ],
      "text/plain": [
       "     time      disp  load tissue team\n",
       "0  0.0000 -2.000079 -0.08    LCL   01\n",
       "1  0.1464 -1.998455 -0.08    LCL   01\n",
       "2  0.2928 -1.995375 -0.08    LCL   01\n",
       "3  0.4392 -1.984185 -0.08    LCL   01\n",
       "4  0.5856 -1.970243 -0.08    LCL   01"
      ]
     },
     "metadata": {},
     "output_type": "display_data"
    }
   ],
   "source": [
    "# Load data\n",
    "\n",
    "## Regular expression to pull sample and team information from file name\n",
    "meta = re.compile(r\"(?P<tissue>[ml]cl)(?P<team>\\d{2})\")\n",
    "\n",
    "## Load all data into a list\n",
    "data = []\n",
    "for file in datapath.glob(\"lab1*.csv\"):\n",
    "\n",
    "    ## Extract sample and team information from file name\n",
    "    match = meta.search(file.name)\n",
    "\n",
    "    ## Load data\n",
    "    try:\n",
    "        _df = tools.load_data(file)\n",
    "        _df['tissue'] = match.group('tissue').upper()\n",
    "        _df['team'] = match.group('team')\n",
    "        data.append(_df)\n",
    "    except AssertionError as e:\n",
    "        print(f\"Error loading {file.name}: {e}\")\n",
    "\n",
    "## Concatenate all data into a single dataframe\n",
    "data = pd.concat(data).reset_index(drop=True)\n",
    "display(data.head())\n",
    "\n",
    "## Load specimen dimensions\n",
    "specimen = pd.read_excel(datapath / 'lab1_specimen_dimensions.xlsx')"
   ]
  },
  {
   "cell_type": "markdown",
   "metadata": {
    "id": "mZn-Kay_vEIo"
   },
   "source": [
    "## Raw Data Visualization\n",
    "\n",
    "**Preconditioning:** $t > 120s$"
   ]
  },
  {
   "cell_type": "code",
   "execution_count": 117,
   "metadata": {},
   "outputs": [
    {
     "data": {
      "image/png": "[encoded data removed]",
      "text/plain": [
       "<Figure size 576x288 with 2 Axes>"
      ]
     },
     "metadata": {
      "needs_background": "light"
     },
     "output_type": "display_data"
    }
   ],
   "source": [
    "# Disp vs Time\n",
    "fig, ax = tools.plot_data(\n",
    "    data = data.copy(),\n",
    "    xvar='time',\n",
    "    yvar='disp',\n",
    "    xlab='Time (s)',\n",
    "    ylab='Displacement (mm)',\n",
    "    title='Displacement-Time (Team 05)',\n",
    "    highlight_ramp=True,\n",
    "    ramp_time=120\n",
    ")"
   ]
  },
  {
   "cell_type": "code",
   "execution_count": 118,
   "metadata": {},
   "outputs": [
    {
     "data": {
      "image/png": "[encoded data removed]",
      "text/plain": [
       "<Figure size 576x288 with 2 Axes>"
      ]
     },
     "metadata": {
      "needs_background": "light"
     },
     "output_type": "display_data"
    }
   ],
   "source": [
    "# Load vs Time\n",
    "fig, ax = tools.plot_data(\n",
    "    data = data.copy(),\n",
    "    xvar='time',\n",
    "    yvar='load',\n",
    "    xlab='Time (s)',\n",
    "    ylab='Load (N)',\n",
    "    title='Load-Time (Team 05)',\n",
    "    highlight_ramp=True,\n",
    "    ramp_time=120\n",
    ")"
   ]
  },
  {
   "cell_type": "markdown",
   "metadata": {},
   "source": [
    "## Visualization: Stress & Strain\n",
    "\n",
    "$$ \\text{Stress, } \\sigma = \\frac{F}{w \\cdot t} $$\n",
    "\n",
    "$$ \\text{Strain, } \\varepsilon = \\frac{\\Delta L}{L_0} $$\n",
    "\n",
    "Figures from this point only include the 'ramp' data."
   ]
  },
  {
   "cell_type": "code",
   "execution_count": 119,
   "metadata": {},
   "outputs": [],
   "source": [
    "# Exclude preconditioning data and shift displacement to start at 0\n",
    "data = data.loc[data['time'] > 120].copy()\n",
    "\n",
    "# Shift displacement and time to start at 0 (Done separately for each team)\n",
    "for team in data['team'].unique():\n",
    "    I = data['team'] == team\n",
    "    data.loc[I, 'disp'] = (data.loc[I]\n",
    "        .groupby('tissue')['disp']\n",
    "        .apply(lambda x: x - x.iloc[0]))\n",
    "    data.loc[I, 'time'] = (data.loc[I]\n",
    "        .groupby('tissue')['time']\n",
    "        .apply(lambda x: x - x.iloc[0]))"
   ]
  },
  {
   "cell_type": "code",
   "execution_count": 120,
   "metadata": {},
   "outputs": [],
   "source": [
    "# Compute stress and strain\n",
    "for team in data['team'].unique():\n",
    "    for tissue in ['MCL', 'LCL']:\n",
    "        I = (data['team'] == team) & (data['tissue'] == tissue)\n",
    "        J = (specimen['Group #'] == int(team)) & (specimen['Ligament'] == tissue)\n",
    "\n",
    "        # Stress\n",
    "        A = (specimen.loc[J, 'Width (mm)'] * specimen.loc[J, 'Thickness (mm)']).values[0]\n",
    "        data.loc[I, 'stress'] = data.loc[I, 'load'] / A\n",
    "\n",
    "        # Strain\n",
    "        L0 = specimen.loc[J, 'Gauge length (mm)'].values[0]\n",
    "        data.loc[I, 'strain'] = data.loc[I, 'disp'] / L0"
   ]
  },
  {
   "cell_type": "code",
   "execution_count": 121,
   "metadata": {},
   "outputs": [
    {
     "data": {
      "image/png": "[encoded data removed]",
      "text/plain": [
       "<Figure size 576x288 with 2 Axes>"
      ]
     },
     "metadata": {
      "needs_background": "light"
     },
     "output_type": "display_data"
    }
   ],
   "source": [
    "# Load vs Displacement\n",
    "fig, ax = tools.plot_data(\n",
    "    data = data.copy(),\n",
    "    xvar='disp',\n",
    "    yvar='load',\n",
    "    xlab='Displacement (mm)',\n",
    "    ylab='Load (N)',\n",
    "    title='Load-Displacement (Team 05)',\n",
    "    highlight_ramp=False\n",
    ")"
   ]
  },
  {
   "cell_type": "code",
   "execution_count": 122,
   "metadata": {},
   "outputs": [
    {
     "data": {
      "image/png": "[encoded data removed]",
      "text/plain": [
       "<Figure size 576x288 with 2 Axes>"
      ]
     },
     "metadata": {
      "needs_background": "light"
     },
     "output_type": "display_data"
    }
   ],
   "source": [
    "# Stress vs Strain\n",
    "fig, ax = tools.plot_data(\n",
    "    data = data.copy(),\n",
    "    xvar='strain',\n",
    "    yvar='stress',\n",
    "    xlab='Strain',\n",
    "    ylab='Stress',\n",
    "    title='Stress-Strain (Team 05)',\n",
    "    highlight_ramp=False\n",
    ")"
   ]
  },
  {
   "cell_type": "markdown",
   "metadata": {
    "id": "tektDNhBvEIr"
   },
   "source": [
    "## Curve Fitting: Estimate $E$ and $k$\n",
    "\n",
    "\n",
    "$$ \\sigma = E \\cdot \\varepsilon $$\n",
    "$$ F = k\\cdot \\Delta L $$\n",
    "$$ k = \\frac{E \\cdot A}{L_0} $$"
   ]
  },
  {
   "cell_type": "code",
   "execution_count": 124,
   "metadata": {},
   "outputs": [],
   "source": [
    "from sklearn.linear_model import LinearRegression\n",
    "from sklearn.metrics import mean_squared_error, r2_score"
   ]
  },
  {
   "cell_type": "code",
   "execution_count": 139,
   "metadata": {},
   "outputs": [],
   "source": [
    "import statsmodels.formula.api as smf"
   ]
  },
  {
   "cell_type": "code",
   "execution_count": 158,
   "metadata": {},
   "outputs": [],
   "source": [
    "# Loop until convergence\n",
    "\n",
    "\n",
    "def get_linear_region(data):\n",
    "    \"\"\"\n",
    "    Determing the linear region of the stress-strain curve\n",
    "\n",
    "    The linear region is defined as the region where the slope of the stress-strain \n",
    "    curve is constant. This is determined by removing one data point, fitting \n",
    "    the model and checking the R^2 value. This process is repeated, removing \n",
    "    one data point at a time, until the R^2 values converge. \n",
    "    The loop is terminated if more than 30% of the data is removed\n",
    "    \"\"\"\n",
    "\n",
    "    i, r2, flag = 0, [], True\n",
    "    n = data.shape[0]\n",
    "\n",
    "    while flag:\n",
    "        if i < 0.3 * n:\n",
    "            print(\"R^2 didn't converge after 30% of the data was removed\")\n",
    "            break\n",
    "\n",
    "        # Fit model\n",
    "        model = smf.ols('stress ~ strain', data=data.loc[I][i:])\n",
    "        model = model.fit()\n",
    "\n",
    "        # Compute R^2\n",
    "        r2.append(model.rsquared)\n",
    "\n",
    "        # Check for convergence\n",
    "        if i > 0:\n",
    "            if abs(r2[-1] - r2[-2]) < 1e-4:\n",
    "                flag = False\n",
    "\n",
    "        i += 1\n",
    "\n",
    "    return i-1, max(r2)"
   ]
  },
  {
   "cell_type": "code",
   "execution_count": 159,
   "metadata": {},
   "outputs": [],
   "source": [
    "I = (data['team'] == '05') & (data['tissue'] == 'MCL')\n",
    "\n",
    "model = smf.ols('stress ~ strain', data=data.loc[I])\n",
    "model = model.fit()"
   ]
  },
  {
   "cell_type": "code",
   "execution_count": 160,
   "metadata": {},
   "outputs": [],
   "source": [
    "d = data.loc[I].copy()"
   ]
  },
  {
   "cell_type": "code",
   "execution_count": 162,
   "metadata": {},
   "outputs": [
    {
     "name": "stdout",
     "output_type": "stream",
     "text": [
      "R^2 didn't converge after 30% of the data was removed\n"
     ]
    }
   ],
   "source": [
    "i = get_linear_region(d)"
   ]
  },
  {
   "cell_type": "code",
   "execution_count": 156,
   "metadata": {},
   "outputs": [
    {
     "data": {
      "text/plain": [
       "156.29999999999998"
      ]
     },
     "execution_count": 156,
     "metadata": {},
     "output_type": "execute_result"
    }
   ],
   "source": []
  },
  {
   "cell_type": "code",
   "execution_count": 148,
   "metadata": {},
   "outputs": [
    {
     "data": {
      "text/html": [
       "<div>\n",
       "<style scoped>\n",
       "    .dataframe tbody tr th:only-of-type {\n",
       "        vertical-align: middle;\n",
       "    }\n",
       "\n",
       "    .dataframe tbody tr th {\n",
       "        vertical-align: top;\n",
       "    }\n",
       "\n",
       "    .dataframe thead th {\n",
       "        text-align: right;\n",
       "    }\n",
       "</style>\n",
       "<table border=\"1\" class=\"dataframe\">\n",
       "  <thead>\n",
       "    <tr style=\"text-align: right;\">\n",
       "      <th></th>\n",
       "      <th>time</th>\n",
       "      <th>disp</th>\n",
       "      <th>load</th>\n",
       "      <th>tissue</th>\n",
       "      <th>team</th>\n",
       "      <th>stress</th>\n",
       "      <th>strain</th>\n",
       "    </tr>\n",
       "  </thead>\n",
       "  <tbody>\n",
       "    <tr>\n",
       "      <th>19542</th>\n",
       "      <td>0.2928</td>\n",
       "      <td>0.004181</td>\n",
       "      <td>-0.04</td>\n",
       "      <td>MCL</td>\n",
       "      <td>05</td>\n",
       "      <td>-0.011111</td>\n",
       "      <td>0.000275</td>\n",
       "    </tr>\n",
       "    <tr>\n",
       "      <th>19543</th>\n",
       "      <td>0.4392</td>\n",
       "      <td>0.006521</td>\n",
       "      <td>-0.03</td>\n",
       "      <td>MCL</td>\n",
       "      <td>05</td>\n",
       "      <td>-0.008333</td>\n",
       "      <td>0.000429</td>\n",
       "    </tr>\n",
       "    <tr>\n",
       "      <th>19544</th>\n",
       "      <td>0.5856</td>\n",
       "      <td>0.008683</td>\n",
       "      <td>-0.03</td>\n",
       "      <td>MCL</td>\n",
       "      <td>05</td>\n",
       "      <td>-0.008333</td>\n",
       "      <td>0.000571</td>\n",
       "    </tr>\n",
       "    <tr>\n",
       "      <th>19545</th>\n",
       "      <td>0.7320</td>\n",
       "      <td>0.010997</td>\n",
       "      <td>-0.04</td>\n",
       "      <td>MCL</td>\n",
       "      <td>05</td>\n",
       "      <td>-0.011111</td>\n",
       "      <td>0.000723</td>\n",
       "    </tr>\n",
       "    <tr>\n",
       "      <th>19546</th>\n",
       "      <td>0.8784</td>\n",
       "      <td>0.013060</td>\n",
       "      <td>-0.04</td>\n",
       "      <td>MCL</td>\n",
       "      <td>05</td>\n",
       "      <td>-0.011111</td>\n",
       "      <td>0.000859</td>\n",
       "    </tr>\n",
       "    <tr>\n",
       "      <th>...</th>\n",
       "      <td>...</td>\n",
       "      <td>...</td>\n",
       "      <td>...</td>\n",
       "      <td>...</td>\n",
       "      <td>...</td>\n",
       "      <td>...</td>\n",
       "      <td>...</td>\n",
       "    </tr>\n",
       "    <tr>\n",
       "      <th>20056</th>\n",
       "      <td>75.5424</td>\n",
       "      <td>1.147897</td>\n",
       "      <td>4.00</td>\n",
       "      <td>MCL</td>\n",
       "      <td>05</td>\n",
       "      <td>1.111111</td>\n",
       "      <td>0.075520</td>\n",
       "    </tr>\n",
       "    <tr>\n",
       "      <th>20057</th>\n",
       "      <td>75.6888</td>\n",
       "      <td>1.150149</td>\n",
       "      <td>4.02</td>\n",
       "      <td>MCL</td>\n",
       "      <td>05</td>\n",
       "      <td>1.116667</td>\n",
       "      <td>0.075668</td>\n",
       "    </tr>\n",
       "    <tr>\n",
       "      <th>20058</th>\n",
       "      <td>75.8352</td>\n",
       "      <td>1.152362</td>\n",
       "      <td>4.02</td>\n",
       "      <td>MCL</td>\n",
       "      <td>05</td>\n",
       "      <td>1.116667</td>\n",
       "      <td>0.075813</td>\n",
       "    </tr>\n",
       "    <tr>\n",
       "      <th>20059</th>\n",
       "      <td>75.9816</td>\n",
       "      <td>1.154342</td>\n",
       "      <td>4.04</td>\n",
       "      <td>MCL</td>\n",
       "      <td>05</td>\n",
       "      <td>1.122222</td>\n",
       "      <td>0.075944</td>\n",
       "    </tr>\n",
       "    <tr>\n",
       "      <th>20060</th>\n",
       "      <td>76.1280</td>\n",
       "      <td>1.154407</td>\n",
       "      <td>3.98</td>\n",
       "      <td>MCL</td>\n",
       "      <td>05</td>\n",
       "      <td>1.105556</td>\n",
       "      <td>0.075948</td>\n",
       "    </tr>\n",
       "  </tbody>\n",
       "</table>\n",
       "<p>519 rows × 7 columns</p>\n",
       "</div>"
      ],
      "text/plain": [
       "          time      disp  load tissue team    stress    strain\n",
       "19542   0.2928  0.004181 -0.04    MCL   05 -0.011111  0.000275\n",
       "19543   0.4392  0.006521 -0.03    MCL   05 -0.008333  0.000429\n",
       "19544   0.5856  0.008683 -0.03    MCL   05 -0.008333  0.000571\n",
       "19545   0.7320  0.010997 -0.04    MCL   05 -0.011111  0.000723\n",
       "19546   0.8784  0.013060 -0.04    MCL   05 -0.011111  0.000859\n",
       "...        ...       ...   ...    ...  ...       ...       ...\n",
       "20056  75.5424  1.147897  4.00    MCL   05  1.111111  0.075520\n",
       "20057  75.6888  1.150149  4.02    MCL   05  1.116667  0.075668\n",
       "20058  75.8352  1.152362  4.02    MCL   05  1.116667  0.075813\n",
       "20059  75.9816  1.154342  4.04    MCL   05  1.122222  0.075944\n",
       "20060  76.1280  1.154407  3.98    MCL   05  1.105556  0.075948\n",
       "\n",
       "[519 rows x 7 columns]"
      ]
     },
     "execution_count": 148,
     "metadata": {},
     "output_type": "execute_result"
    }
   ],
   "source": [
    "data.loc[I][2:]"
   ]
  },
  {
   "cell_type": "code",
   "execution_count": 134,
   "metadata": {},
   "outputs": [
    {
     "data": {
      "text/plain": [
       "array([[16.44469665]])"
      ]
     },
     "execution_count": 134,
     "metadata": {},
     "output_type": "execute_result"
    }
   ],
   "source": [
    "regr.coef_"
   ]
  },
  {
   "cell_type": "code",
   "execution_count": 22,
   "metadata": {
    "colab": {
     "base_uri": "https://localhost:8080/",
     "height": 367
    },
    "executionInfo": {
     "elapsed": 195,
     "status": "ok",
     "timestamp": 1664381618957,
     "user": {
      "displayName": "Anthony Kabilan Okeke",
      "userId": "08549900890266994069"
     },
     "user_tz": 240
    },
    "id": "sJ4MqMKQvEIs",
    "outputId": "ae9ca5ae-48ae-4560-aae7-471ae5dca954"
   },
   "outputs": [
    {
     "data": {
      "text/html": [
       "<html>\n",
       "<head><meta charset=\"utf-8\" /></head>\n",
       "<body>\n",
       "    <div>            <script src=\"https://cdnjs.cloudflare.com/ajax/libs/mathjax/2.7.5/MathJax.js?config=TeX-AMS-MML_SVG\"></script><script type=\"text/javascript\">if (window.MathJax) {MathJax.Hub.Config({SVG: {font: \"STIX-Web\"}});}</script>                <script type=\"text/javascript\">window.PlotlyConfig = {MathJaxConfig: 'local'};</script>\n",
       "        <script src=\"https://cdn.plot.ly/plotly-2.8.3.min.js\"></script>                <div id=\"6588d74c-7dd1-43a1-b5f6-be393c2109f9\" class=\"plotly-graph-div\" style=\"height:350px; width:700px;\"></div>            <script type=\"text/javascript\">                                    window.PLOTLYENV=window.PLOTLYENV || {};                                    if (document.getElementById(\"6588d74c-7dd1-43a1-b5f6-be393c2109f9\")) {                    Plotly.newPlot(                        \"6588d74c-7dd1-43a1-b5f6-be393c2109f9\",                        [{\"hovertemplate\":\"Displacement (mm)=%{x}<br>Force (N)=%{y}<extra></extra>\",\"legendgroup\":\"\",\"marker\":{\"color\":\"#636efa\",\"symbol\":\"circle\"},\"mode\":\"markers\",\"name\":\"\",\"orientation\":\"v\",\"showlegend\":false,\"x\":[-0.01,-0.006684,-0.003254,0.000135,0.003674,0.00701,0.010377,0.013777,0.017243,0.020634,0.02394,0.027418,0.030931,0.034394,0.037724,0.041064,0.044444,0.047888,0.051648,0.054993,0.058363,0.061688,0.065172,0.068689,0.072031,0.075367,0.078775,0.08229,0.085651,0.08903,0.092502,0.095887,0.099563,0.102849,0.106292,0.109755,0.113087,0.116608,0.120066,0.123349,0.126726,0.130329,0.133547,0.136957,0.140534,0.14387,0.14748,0.150815,0.154247,0.157741,0.161139,0.164519,0.167825,0.171361,0.174705,0.17815,0.181557,0.184944,0.188328,0.191725,0.195421,0.198892,0.202233,0.205678,0.209176,0.212452,0.215805,0.219304,0.222752,0.226135,0.229492,0.233017,0.236409,0.23977,0.243471,0.246793,0.250148,0.253772,0.25715,0.26045,0.263773,0.267303,0.270758,0.274136,0.277487,0.280831,0.284403,0.287801,0.291285,0.294709,0.298155,0.301713,0.305008,0.308484,0.311765,0.315214,0.318746,0.322164,0.325467,0.32881,0.33231,0.335802,0.339177,0.342717,0.346126,0.349596,0.352984,0.356324,0.35971,0.36319,0.366614,0.369945,0.373322,0.376574,0.38018,0.38382,0.387281,0.390638,0.394251,0.397595,0.400968,0.404241,0.407631,0.411152,0.414595,0.417953,0.421308,0.424766,0.428281,0.431638,0.434977,0.438624,0.442072,0.44554,0.448914,0.452293,0.45565,0.459072,0.462655,0.465898,0.469275,0.47273,0.47621,0.479593,0.482982,0.486524,0.490032,0.493424,0.496847,0.500121,0.503587,0.507132,0.510589,0.513964,0.517252,0.520751,0.524175,0.527573,0.530897,0.534487,0.537941,0.541424,0.544677,0.548174,0.551682,0.555033,0.558482,0.561736,0.565267,0.568628,0.57221,0.575464,0.578724,0.582449,0.585945,0.589346,0.59277,0.596122,0.599678,0.603068,0.606328,0.60976,0.613255,0.616669,0.620039,0.623351,0.626713,0.630466,0.633945,0.637267,0.640659,0.644109,0.647481,0.650967,0.654208,0.657728,0.661123,0.664577,0.667937,0.671369,0.674748,0.678481,0.681859,0.685235,0.688549,0.692077,0.695459,0.69889,0.702288,0.705695,0.709087,0.712631,0.715922,0.719229,0.722751,0.7264,0.729856,0.733268,0.736578,0.73995,0.743446,0.746936,0.750174,0.753557,0.757119,0.760504,0.763927,0.767442,0.770569,0.774283,0.777766,0.781229,0.784594,0.787931,0.79151,0.794891,0.798106,0.801616,0.805091,0.808495,0.811901,0.815207,0.818634,0.822261,0.825765,0.829117,0.832435,0.835925,0.839285,0.842786,0.846077,0.849555,0.852996,0.856513,0.859791,0.863172,0.866726,0.870272,0.87369,0.877098,0.880538,0.883938,0.887321,0.890696,0.89412,0.897504,0.900956,0.90446,0.907719,0.911186,0.914742,0.918329,0.921742,0.925031,0.928417,0.931831,0.935353,0.938704,0.942033,0.945486,0.948921,0.952342,0.95571,0.959112,0.962724,0.966151,0.969608,0.973088,0.976371,0.979803,0.983304,0.986672,0.990025,0.993459,0.996866,1.000285,1.003649,1.007153,1.010641,1.01418,1.017558,1.020955,1.024379,1.027732,1.031298,1.03457,1.038027,1.041362,1.04488,1.048259,1.051663,1.055074,1.058782,1.062103,1.065535,1.068929,1.072413,1.075712,1.079186,1.082498,1.086014,1.089349,1.092778,1.096228,1.099705,1.103,1.106637,1.11009,1.113474,1.116841,1.120345,1.123734,1.127191,1.130456,1.133942,1.137373,1.140733,1.1442,1.147627,1.151,1.154575,1.158179,1.161527,1.164846,1.16828,1.171612,1.175175,1.178492,1.181834,1.185342,1.188704,1.19216,1.195461,1.199046,1.202537,1.205979,1.209343,1.212768,1.216141,1.219638,1.223147,1.226471,1.229831,1.233263,1.23679,1.240138,1.243484,1.247077,1.250473,1.253947,1.257294,1.260684,1.264081,1.267525,1.27098,1.274376,1.277853,1.281208,1.284597,1.288104,1.291499,1.294994,1.298385,1.302008,1.305264,1.308684,1.312077,1.3155,1.318997,1.32235,1.3257,1.329207,1.332539,1.335979,1.339416,1.342985,1.346362,1.349866,1.353235,1.356659,1.359987,1.363562,1.366906,1.370256,1.373665,1.377153,1.380584,1.383869,1.387483,1.390975,1.394394,1.397802,1.401228,1.404711,1.408001,1.411434,1.414839,1.418322,1.421703,1.425031,1.428516,1.431955,1.435494,1.438884,1.442289,1.445748,1.449178,1.451913,1.455665,1.460244,1.461396,1.463401,1.467639,1.469627,1.47311,1.476019,1.486223,1.485624,1.486707,1.490076,1.493576,1.497581,1.504725,1.510298,1.513253,1.514056,1.518399,1.524426,1.524353,1.52437,1.531373,1.534705,1.538267,1.541557,1.545053,1.548428,1.551952,1.555296,1.558644,1.562082,1.565509,1.568952,1.572347,1.575966,1.579408,1.582683,1.586135,1.589566,1.592957,1.596431,1.599837,1.603263,1.606645,1.609928,1.613405,1.616845,1.620184,1.623825,1.627266,1.630776,1.634102,1.637569,1.640977,1.644289,1.647797,1.651224,1.654599,1.658071,1.661447,1.664884,1.668499,1.67193,1.675255,1.678683,1.68212,1.685452,1.688762,1.692248,1.695678,1.698988,1.702581,1.705939,1.709479,1.712818,1.716116,1.717734,1.717775],\"xaxis\":\"x\",\"y\":[0.03,0.05,0.05,0.05,0.06,0.05,0.04,0.04,0.05,0.05,0.06,0.04,0.04,0.04,0.03,0.05,0.05,0.05,0.05,0.05,0.06,0.05,0.04,0.06,0.05,0.05,0.05,0.05,0.05,0.05,0.04,0.05,0.05,0.05,0.05,0.05,0.05,0.05,0.05,0.06,0.05,0.06,0.05,0.05,0.07,0.05,0.05,0.06,0.07,0.06,0.05,0.06,0.06,0.07,0.05,0.06,0.06,0.06,0.07,0.07,0.06,0.07,0.08,0.07,0.07,0.07,0.09,0.08,0.08,0.08,0.09,0.09,0.09,0.1,0.1,0.09,0.09,0.1,0.1,0.1,0.1,0.1,0.12,0.12,0.1,0.12,0.12,0.12,0.12,0.14,0.13,0.13,0.13,0.14,0.14,0.14,0.15,0.14,0.16,0.16,0.16,0.17,0.16,0.17,0.18,0.18,0.18,0.18,0.18,0.19,0.22,0.21,0.22,0.22,0.23,0.24,0.25,0.25,0.25,0.25,0.25,0.27,0.27,0.29,0.29,0.29,0.3,0.31,0.32,0.32,0.34,0.34,0.34,0.35,0.36,0.38,0.37,0.39,0.41,0.41,0.43,0.43,0.43,0.45,0.46,0.48,0.49,0.49,0.51,0.53,0.53,0.54,0.56,0.58,0.58,0.6,0.61,0.62,0.63,0.66,0.67,0.68,0.69,0.69,0.71,0.73,0.76,0.77,0.78,0.8,0.81,0.84,0.84,0.87,0.89,0.9,0.91,0.94,0.95,0.97,0.98,1.0,1.03,1.03,1.06,1.07,1.09,1.12,1.14,1.15,1.17,1.18,1.22,1.24,1.26,1.27,1.3,1.32,1.35,1.37,1.39,1.41,1.44,1.46,1.48,1.5,1.53,1.54,1.59,1.61,1.63,1.65,1.67,1.69,1.72,1.76,1.78,1.81,1.85,1.87,1.9,1.94,1.94,1.98,2.01,2.03,2.05,2.09,2.11,2.14,2.17,2.22,2.24,2.26,2.3,2.33,2.34,2.37,2.42,2.43,2.47,2.49,2.53,2.55,2.59,2.62,2.64,2.66,2.7,2.72,2.76,2.77,2.79,2.82,2.86,2.87,2.9,2.92,2.95,2.97,3.0,3.03,3.06,3.08,3.09,3.12,3.14,3.17,3.18,3.21,3.25,3.27,3.3,3.32,3.32,3.35,3.39,3.41,3.42,3.44,3.47,3.5,3.52,3.54,3.55,3.58,3.6,3.62,3.64,3.67,3.71,3.71,3.74,3.76,3.78,3.8,3.81,3.85,3.88,3.88,3.91,3.93,3.96,3.98,3.99,4.01,4.02,4.04,4.07,4.07,4.09,4.13,4.13,4.15,4.17,4.2,4.23,4.24,4.26,4.28,4.31,4.32,4.34,4.37,4.37,4.41,4.42,4.43,4.46,4.48,4.5,4.51,4.54,4.55,4.59,4.59,4.61,4.63,4.64,4.68,4.69,4.72,4.72,4.75,4.77,4.79,4.79,4.83,4.83,4.88,4.9,4.91,4.94,4.97,4.99,5.01,5.04,5.07,5.1,5.13,5.16,5.18,5.19,5.25,5.25,5.27,5.3,5.34,5.36,5.39,5.42,5.44,5.48,5.5,5.52,5.54,5.57,5.6,5.61,5.65,5.67,5.69,5.71,5.75,5.78,5.8,5.83,5.85,5.88,5.9,5.93,5.96,5.99,6.0,6.05,6.06,6.1,6.13,6.15,6.18,6.21,6.23,6.26,6.28,6.32,6.35,6.38,6.41,6.43,6.46,6.5,6.53,6.54,6.59,6.62,6.64,6.67,6.71,6.74,6.76,6.8,6.83,6.87,6.89,6.92,6.95,6.98,7.0,7.05,7.1,7.09,7.06,7.13,7.09,7.13,7.16,7.42,7.35,7.27,7.31,7.33,7.39,7.54,7.65,7.72,7.67,7.74,7.84,7.72,7.66,7.84,7.88,7.92,7.94,7.99,8.03,8.07,8.1,8.14,8.19,8.23,8.27,8.29,8.36,8.39,8.41,8.46,8.5,8.54,8.57,8.61,8.65,8.68,8.71,8.76,8.8,8.84,8.89,8.92,8.95,9.0,9.04,9.06,9.1,9.15,9.18,9.23,9.25,9.26,9.28,9.32,9.34,9.38,9.43,9.47,9.52,9.55,9.61,9.67,9.7,9.76,9.78,9.8,9.51,9.61,9.62,9.57],\"yaxis\":\"y\",\"type\":\"scatter\"}],                        {\"template\":{\"data\":{\"bar\":[{\"error_x\":{\"color\":\"#2a3f5f\"},\"error_y\":{\"color\":\"#2a3f5f\"},\"marker\":{\"line\":{\"color\":\"#E5ECF6\",\"width\":0.5},\"pattern\":{\"fillmode\":\"overlay\",\"size\":10,\"solidity\":0.2}},\"type\":\"bar\"}],\"barpolar\":[{\"marker\":{\"line\":{\"color\":\"#E5ECF6\",\"width\":0.5},\"pattern\":{\"fillmode\":\"overlay\",\"size\":10,\"solidity\":0.2}},\"type\":\"barpolar\"}],\"carpet\":[{\"aaxis\":{\"endlinecolor\":\"#2a3f5f\",\"gridcolor\":\"white\",\"linecolor\":\"white\",\"minorgridcolor\":\"white\",\"startlinecolor\":\"#2a3f5f\"},\"baxis\":{\"endlinecolor\":\"#2a3f5f\",\"gridcolor\":\"white\",\"linecolor\":\"white\",\"minorgridcolor\":\"white\",\"startlinecolor\":\"#2a3f5f\"},\"type\":\"carpet\"}],\"choropleth\":[{\"colorbar\":{\"outlinewidth\":0,\"ticks\":\"\"},\"type\":\"choropleth\"}],\"contour\":[{\"colorbar\":{\"outlinewidth\":0,\"ticks\":\"\"},\"colorscale\":[[0.0,\"#0d0887\"],[0.1111111111111111,\"#46039f\"],[0.2222222222222222,\"#7201a8\"],[0.3333333333333333,\"#9c179e\"],[0.4444444444444444,\"#bd3786\"],[0.5555555555555556,\"#d8576b\"],[0.6666666666666666,\"#ed7953\"],[0.7777777777777778,\"#fb9f3a\"],[0.8888888888888888,\"#fdca26\"],[1.0,\"#f0f921\"]],\"type\":\"contour\"}],\"contourcarpet\":[{\"colorbar\":{\"outlinewidth\":0,\"ticks\":\"\"},\"type\":\"contourcarpet\"}],\"heatmap\":[{\"colorbar\":{\"outlinewidth\":0,\"ticks\":\"\"},\"colorscale\":[[0.0,\"#0d0887\"],[0.1111111111111111,\"#46039f\"],[0.2222222222222222,\"#7201a8\"],[0.3333333333333333,\"#9c179e\"],[0.4444444444444444,\"#bd3786\"],[0.5555555555555556,\"#d8576b\"],[0.6666666666666666,\"#ed7953\"],[0.7777777777777778,\"#fb9f3a\"],[0.8888888888888888,\"#fdca26\"],[1.0,\"#f0f921\"]],\"type\":\"heatmap\"}],\"heatmapgl\":[{\"colorbar\":{\"outlinewidth\":0,\"ticks\":\"\"},\"colorscale\":[[0.0,\"#0d0887\"],[0.1111111111111111,\"#46039f\"],[0.2222222222222222,\"#7201a8\"],[0.3333333333333333,\"#9c179e\"],[0.4444444444444444,\"#bd3786\"],[0.5555555555555556,\"#d8576b\"],[0.6666666666666666,\"#ed7953\"],[0.7777777777777778,\"#fb9f3a\"],[0.8888888888888888,\"#fdca26\"],[1.0,\"#f0f921\"]],\"type\":\"heatmapgl\"}],\"histogram\":[{\"marker\":{\"pattern\":{\"fillmode\":\"overlay\",\"size\":10,\"solidity\":0.2}},\"type\":\"histogram\"}],\"histogram2d\":[{\"colorbar\":{\"outlinewidth\":0,\"ticks\":\"\"},\"colorscale\":[[0.0,\"#0d0887\"],[0.1111111111111111,\"#46039f\"],[0.2222222222222222,\"#7201a8\"],[0.3333333333333333,\"#9c179e\"],[0.4444444444444444,\"#bd3786\"],[0.5555555555555556,\"#d8576b\"],[0.6666666666666666,\"#ed7953\"],[0.7777777777777778,\"#fb9f3a\"],[0.8888888888888888,\"#fdca26\"],[1.0,\"#f0f921\"]],\"type\":\"histogram2d\"}],\"histogram2dcontour\":[{\"colorbar\":{\"outlinewidth\":0,\"ticks\":\"\"},\"colorscale\":[[0.0,\"#0d0887\"],[0.1111111111111111,\"#46039f\"],[0.2222222222222222,\"#7201a8\"],[0.3333333333333333,\"#9c179e\"],[0.4444444444444444,\"#bd3786\"],[0.5555555555555556,\"#d8576b\"],[0.6666666666666666,\"#ed7953\"],[0.7777777777777778,\"#fb9f3a\"],[0.8888888888888888,\"#fdca26\"],[1.0,\"#f0f921\"]],\"type\":\"histogram2dcontour\"}],\"mesh3d\":[{\"colorbar\":{\"outlinewidth\":0,\"ticks\":\"\"},\"type\":\"mesh3d\"}],\"parcoords\":[{\"line\":{\"colorbar\":{\"outlinewidth\":0,\"ticks\":\"\"}},\"type\":\"parcoords\"}],\"pie\":[{\"automargin\":true,\"type\":\"pie\"}],\"scatter\":[{\"marker\":{\"colorbar\":{\"outlinewidth\":0,\"ticks\":\"\"}},\"type\":\"scatter\"}],\"scatter3d\":[{\"line\":{\"colorbar\":{\"outlinewidth\":0,\"ticks\":\"\"}},\"marker\":{\"colorbar\":{\"outlinewidth\":0,\"ticks\":\"\"}},\"type\":\"scatter3d\"}],\"scattercarpet\":[{\"marker\":{\"colorbar\":{\"outlinewidth\":0,\"ticks\":\"\"}},\"type\":\"scattercarpet\"}],\"scattergeo\":[{\"marker\":{\"colorbar\":{\"outlinewidth\":0,\"ticks\":\"\"}},\"type\":\"scattergeo\"}],\"scattergl\":[{\"marker\":{\"colorbar\":{\"outlinewidth\":0,\"ticks\":\"\"}},\"type\":\"scattergl\"}],\"scattermapbox\":[{\"marker\":{\"colorbar\":{\"outlinewidth\":0,\"ticks\":\"\"}},\"type\":\"scattermapbox\"}],\"scatterpolar\":[{\"marker\":{\"colorbar\":{\"outlinewidth\":0,\"ticks\":\"\"}},\"type\":\"scatterpolar\"}],\"scatterpolargl\":[{\"marker\":{\"colorbar\":{\"outlinewidth\":0,\"ticks\":\"\"}},\"type\":\"scatterpolargl\"}],\"scatterternary\":[{\"marker\":{\"colorbar\":{\"outlinewidth\":0,\"ticks\":\"\"}},\"type\":\"scatterternary\"}],\"surface\":[{\"colorbar\":{\"outlinewidth\":0,\"ticks\":\"\"},\"colorscale\":[[0.0,\"#0d0887\"],[0.1111111111111111,\"#46039f\"],[0.2222222222222222,\"#7201a8\"],[0.3333333333333333,\"#9c179e\"],[0.4444444444444444,\"#bd3786\"],[0.5555555555555556,\"#d8576b\"],[0.6666666666666666,\"#ed7953\"],[0.7777777777777778,\"#fb9f3a\"],[0.8888888888888888,\"#fdca26\"],[1.0,\"#f0f921\"]],\"type\":\"surface\"}],\"table\":[{\"cells\":{\"fill\":{\"color\":\"#EBF0F8\"},\"line\":{\"color\":\"white\"}},\"header\":{\"fill\":{\"color\":\"#C8D4E3\"},\"line\":{\"color\":\"white\"}},\"type\":\"table\"}]},\"layout\":{\"annotationdefaults\":{\"arrowcolor\":\"#2a3f5f\",\"arrowhead\":0,\"arrowwidth\":1},\"autotypenumbers\":\"strict\",\"coloraxis\":{\"colorbar\":{\"outlinewidth\":0,\"ticks\":\"\"}},\"colorscale\":{\"diverging\":[[0,\"#8e0152\"],[0.1,\"#c51b7d\"],[0.2,\"#de77ae\"],[0.3,\"#f1b6da\"],[0.4,\"#fde0ef\"],[0.5,\"#f7f7f7\"],[0.6,\"#e6f5d0\"],[0.7,\"#b8e186\"],[0.8,\"#7fbc41\"],[0.9,\"#4d9221\"],[1,\"#276419\"]],\"sequential\":[[0.0,\"#0d0887\"],[0.1111111111111111,\"#46039f\"],[0.2222222222222222,\"#7201a8\"],[0.3333333333333333,\"#9c179e\"],[0.4444444444444444,\"#bd3786\"],[0.5555555555555556,\"#d8576b\"],[0.6666666666666666,\"#ed7953\"],[0.7777777777777778,\"#fb9f3a\"],[0.8888888888888888,\"#fdca26\"],[1.0,\"#f0f921\"]],\"sequentialminus\":[[0.0,\"#0d0887\"],[0.1111111111111111,\"#46039f\"],[0.2222222222222222,\"#7201a8\"],[0.3333333333333333,\"#9c179e\"],[0.4444444444444444,\"#bd3786\"],[0.5555555555555556,\"#d8576b\"],[0.6666666666666666,\"#ed7953\"],[0.7777777777777778,\"#fb9f3a\"],[0.8888888888888888,\"#fdca26\"],[1.0,\"#f0f921\"]]},\"colorway\":[\"#636efa\",\"#EF553B\",\"#00cc96\",\"#ab63fa\",\"#FFA15A\",\"#19d3f3\",\"#FF6692\",\"#B6E880\",\"#FF97FF\",\"#FECB52\"],\"font\":{\"color\":\"#2a3f5f\"},\"geo\":{\"bgcolor\":\"white\",\"lakecolor\":\"white\",\"landcolor\":\"#E5ECF6\",\"showlakes\":true,\"showland\":true,\"subunitcolor\":\"white\"},\"hoverlabel\":{\"align\":\"left\"},\"hovermode\":\"closest\",\"mapbox\":{\"style\":\"light\"},\"paper_bgcolor\":\"white\",\"plot_bgcolor\":\"#E5ECF6\",\"polar\":{\"angularaxis\":{\"gridcolor\":\"white\",\"linecolor\":\"white\",\"ticks\":\"\"},\"bgcolor\":\"#E5ECF6\",\"radialaxis\":{\"gridcolor\":\"white\",\"linecolor\":\"white\",\"ticks\":\"\"}},\"scene\":{\"xaxis\":{\"backgroundcolor\":\"#E5ECF6\",\"gridcolor\":\"white\",\"gridwidth\":2,\"linecolor\":\"white\",\"showbackground\":true,\"ticks\":\"\",\"zerolinecolor\":\"white\"},\"yaxis\":{\"backgroundcolor\":\"#E5ECF6\",\"gridcolor\":\"white\",\"gridwidth\":2,\"linecolor\":\"white\",\"showbackground\":true,\"ticks\":\"\",\"zerolinecolor\":\"white\"},\"zaxis\":{\"backgroundcolor\":\"#E5ECF6\",\"gridcolor\":\"white\",\"gridwidth\":2,\"linecolor\":\"white\",\"showbackground\":true,\"ticks\":\"\",\"zerolinecolor\":\"white\"}},\"shapedefaults\":{\"line\":{\"color\":\"#2a3f5f\"}},\"ternary\":{\"aaxis\":{\"gridcolor\":\"white\",\"linecolor\":\"white\",\"ticks\":\"\"},\"baxis\":{\"gridcolor\":\"white\",\"linecolor\":\"white\",\"ticks\":\"\"},\"bgcolor\":\"#E5ECF6\",\"caxis\":{\"gridcolor\":\"white\",\"linecolor\":\"white\",\"ticks\":\"\"}},\"title\":{\"x\":0.05},\"xaxis\":{\"automargin\":true,\"gridcolor\":\"white\",\"linecolor\":\"white\",\"ticks\":\"\",\"title\":{\"standoff\":15},\"zerolinecolor\":\"white\",\"zerolinewidth\":2},\"yaxis\":{\"automargin\":true,\"gridcolor\":\"white\",\"linecolor\":\"white\",\"ticks\":\"\",\"title\":{\"standoff\":15},\"zerolinecolor\":\"white\",\"zerolinewidth\":2}}},\"xaxis\":{\"anchor\":\"y\",\"domain\":[0.0,1.0],\"title\":{\"text\":\"Displacement (mm)\"}},\"yaxis\":{\"anchor\":\"x\",\"domain\":[0.0,1.0],\"title\":{\"text\":\"Force (N)\"}},\"legend\":{\"tracegroupgap\":0},\"margin\":{\"t\":60},\"width\":700,\"height\":350},                        {\"responsive\": true}                    ).then(function(){\n",
       "                            \n",
       "var gd = document.getElementById('6588d74c-7dd1-43a1-b5f6-be393c2109f9');\n",
       "var x = new MutationObserver(function (mutations, observer) {{\n",
       "        var display = window.getComputedStyle(gd).display;\n",
       "        if (!display || display === 'none') {{\n",
       "            console.log([gd, 'removed!']);\n",
       "            Plotly.purge(gd);\n",
       "            observer.disconnect();\n",
       "        }}\n",
       "}});\n",
       "\n",
       "// Listen for the removal of the full notebook cells\n",
       "var notebookContainer = gd.closest('#notebook-container');\n",
       "if (notebookContainer) {{\n",
       "    x.observe(notebookContainer, {childList: true});\n",
       "}}\n",
       "\n",
       "// Listen for the clearing of the current output cell\n",
       "var outputEl = gd.closest('.output');\n",
       "if (outputEl) {{\n",
       "    x.observe(outputEl, {childList: true});\n",
       "}}\n",
       "\n",
       "                        })                };                            </script>        </div>\n",
       "</body>\n",
       "</html>"
      ]
     },
     "metadata": {},
     "output_type": "display_data"
    }
   ],
   "source": [
    "# Select linear region\n",
    "I = df['Elapsed Time (s)'] > 120\n",
    "fig = px.scatter(df[I], x='Displacement (mm)', y='Force (N)')\n",
    "fig.update_layout(width=700, height=350)"
   ]
  },
  {
   "cell_type": "code",
   "execution_count": 23,
   "metadata": {
    "colab": {
     "base_uri": "https://localhost:8080/"
    },
    "executionInfo": {
     "elapsed": 127,
     "status": "ok",
     "timestamp": 1664381622378,
     "user": {
      "displayName": "Anthony Kabilan Okeke",
      "userId": "08549900890266994069"
     },
     "user_tz": 240
    },
    "id": "N5TYEFuAvEIt",
    "outputId": "756073b5-a73f-4629-a032-ffe3dd76ed85"
   },
   "outputs": [
    {
     "name": "stdout",
     "output_type": "stream",
     "text": [
      "Slope: 5.8759 +/- 0.0637\n"
     ]
    }
   ],
   "source": [
    "# For analysis, show \n",
    "force = df.loc[I, 'Force (N)']\n",
    "displacement = df.loc[I, 'Displacement (mm)']  # Is this the right value for Delta L\n",
    "res = stats.linregress(displacement, force)\n",
    "\n",
    "print(f\"Slope: {res.slope:.4f} +/- {res.stderr:.4f}\")"
   ]
  },
  {
   "cell_type": "code",
   "execution_count": 24,
   "metadata": {
    "executionInfo": {
     "elapsed": 2357,
     "status": "ok",
     "timestamp": 1664381798714,
     "user": {
      "displayName": "Anthony Kabilan Okeke",
      "userId": "08549900890266994069"
     },
     "user_tz": 240
    },
    "id": "djuM4LOV4rbm"
   },
   "outputs": [],
   "source": [
    "%load_ext rpy2.ipython"
   ]
  },
  {
   "cell_type": "code",
   "execution_count": 82,
   "metadata": {
    "colab": {
     "base_uri": "https://localhost:8080/",
     "height": 317
    },
    "executionInfo": {
     "elapsed": 909,
     "status": "ok",
     "timestamp": 1664383723705,
     "user": {
      "displayName": "Anthony Kabilan Okeke",
      "userId": "08549900890266994069"
     },
     "user_tz": 240
    },
    "id": "3rlom9iv4t5N",
    "outputId": "41a11353-46fc-46ab-aabc-d92caa33bb1b"
   },
   "outputs": [
    {
     "data": {
      "image/png": "[encoded data removed]"
     },
     "metadata": {},
     "output_type": "display_data"
    }
   ],
   "source": [
    "%%R -i df -w 500 -h 300\n",
    "require(tidyverse)\n",
    "\n",
    "\n",
    "df %>%\n",
    "    filter(`Elapsed Time (s)` > 120) %>%\n",
    "    ggplot(aes(x=`Displacement (mm)`, y=`Force (N)`)) +\n",
    "        geom_point(color='#4c98cf', fill='white', shape=21) +\n",
    "        geom_smooth(method='lm', formula='y~x', se=FALSE, color='#f05d5d', \n",
    "                    linewidth=4) +\n",
    "        theme_minimal() +\n",
    "        labs(title=\"Hooke's Law Curve Fit\", subtitle='t > 120s') +\n",
    "        theme(\n",
    "            plot.title=element_text(hjust=0.5, size=20, face='bold'),\n",
    "            plot.subtitle=element_text(hjust=0.5, size=18),\n",
    "            axis.title=element_text(size=15),\n",
    "            axis.text=element_text(size=11)\n",
    "        )"
   ]
  }
 ],
 "metadata": {
  "colab": {
   "collapsed_sections": [],
   "provenance": []
  },
  "kernelspec": {
   "display_name": "Python 3 (ipykernel)",
   "language": "python",
   "name": "python3"
  },
  "language_info": {
   "codemirror_mode": {
    "name": "ipython",
    "version": 3
   },
   "file_extension": ".py",
   "mimetype": "text/x-python",
   "name": "python",
   "nbconvert_exporter": "python",
   "pygments_lexer": "ipython3",
   "version": "3.9.13"
  },
  "vscode": {
   "interpreter": {
    "hash": "1800bda38069836c44f080450a4d0ec8dc666f21d6ece1bd217e9dbcf4c3078a"
   }
  }
 },
 "nbformat": 4,
 "nbformat_minor": 1
}
