{
 "cells": [
  {
   "attachments": {},
   "cell_type": "markdown",
   "metadata": {},
   "source": [
    "# Lab 4: Effects of Strain Rate on the Flexural Properties of Tibias\n",
    "\n",
    "## Goals\n",
    "\n",
    "- **Hypotheses** - What effects does the experimental variable (strain rate) have on:\n",
    "  - Flexural Stiffness\n",
    "  - Flexural Elastic Modulus\n",
    "  - Ultimate Flexural Strength\n",
    "  - Modulus of Toughness\n",
    "- Present the mean $\\pm$ standard deviation and perform statistical tests for:\n",
    "  - Geometric Dimensions: $h_0,~b_0,~h_i,~b_i$\n",
    "  - Second Moment of Area: $I$\n",
    "  - Flexural Stiffness: $k_f$\n",
    "  - Peak Force: $F_{peak}$\n",
    "  - Flexural Elastic Modulus: $E_f$\n",
    "  - Ultimate Flexural Stress, $\\sigma_{f, ultimate}$\n",
    "  - Flexural Strain at Failure, $\\varepsilon_{f, failure}$\n",
    "  - Modulus of Toughness, $u_T$\n",
    "\n",
    "## Data Analysis\n",
    "\n",
    "- **Preprocessing:** Convert force-deflection data to flexural stress - flexural strain\n",
    "  - Calculate the **second moment of area**, $I$ using the equation:\n",
    "$$I_z = \\frac{\\pi}{64}\\left(b_0h_0^3 - b_ih_i^3\\right)$$\n",
    "\n",
    "- Determine the **flexural stiffness**, $k_f$ from the slope of the linear portion of the force-deflection curve\n",
    "\n",
    "- Calculate **flexural elastic modulus**, $E_f$ from flexural stiffness using the equation below\n",
    "$$k_f = \\frac{48E_fI}{L^3}$$\n",
    "\n",
    "- Calculate the **ultimate flexural strength** from the **peak force** using the equation below\n",
    "$$\\sigma_x = \\frac{Lh_0}{8I}F$$\n",
    "\n",
    "- Calculate the **flexural strain at failure**, $varepsilon_{f, failure}$ from the deflection at failure using the equation below\n",
    "$$\\varepsilon_x = \\frac{6h_0}{L^2}\\delta$$\n",
    "\n",
    "- Determine the **toughness (energy absorbed per unit volume until failure)** by calculating the area underneath the stress-strain curve at failure.\n",
    "  - Convert force-deflection data to flexural stress - flexural strain and find the area using numerical integration."
   ]
  },
  {
   "cell_type": "code",
   "execution_count": 1,
   "metadata": {},
   "outputs": [],
   "source": [
    "# Google Colab: Run this to mount your Google Drive\n",
    "# from google.colab import drive\n",
    "# import os\n",
    "# drive.mount('/content/gdrive', force_remount=True)\n",
    "# os.chdir('/content/gdrive/MyDrive/BMES 301/Lab 1')\n",
    "\n",
    "# Set working directory\n",
    "import os, sys\n",
    "os.chdir(\"/home/kabil/sietch/courses/bmes301/lab4\")\n",
    "sys.path.append(os.getcwd())"
   ]
  },
  {
   "cell_type": "code",
   "execution_count": 2,
   "metadata": {},
   "outputs": [],
   "source": [
    "# Notebook setup\n",
    "\n",
    "%load_ext autoreload\n",
    "%autoreload 2\n",
    "\n",
    "# Import modules\n",
    "from matplotlib.backends.backend_pdf import PdfPages\n",
    "from pathlib import Path\n",
    "\n",
    "import matplotlib.pyplot as plt\n",
    "import seaborn as sns\n",
    "import pandas as pd\n",
    "import numpy as np\n",
    "import pickle\n",
    "import tools\n",
    "import re\n",
    "\n",
    "## Define data path\n",
    "datapath = Path(\"data\")"
   ]
  },
  {
   "cell_type": "code",
   "execution_count": 3,
   "metadata": {},
   "outputs": [],
   "source": [
    "# Load data\n",
    "if os.path.exists('results/data.pkl'):\n",
    "    with open('results/data.pkl', 'rb') as f:\n",
    "        specimen, data = pickle.load(f)\n",
    "else:\n",
    "    import preprocessing\n",
    "    specimen, data = preprocessing.main()"
   ]
  },
  {
   "cell_type": "code",
   "execution_count": 5,
   "metadata": {},
   "outputs": [
    {
     "name": "stdout",
     "output_type": "stream",
     "text": [
      "\n",
      "Specimen A:\n",
      "    h0 = 7.95 ± 0.96 mm\n",
      "    b0 = 9.29 ± 1.49 mm\n",
      "    hi = 5.17 ± 1.33 mm\n",
      "    bi = 6.33 ± 1.74 mm\n",
      "    I = 1724.84 ± 1025.06 mm^4\n",
      "    \n",
      "\n",
      "Specimen B:\n",
      "    h0 = 8.39 ± 1.00 mm\n",
      "    b0 = 9.62 ± 1.46 mm\n",
      "    hi = 5.58 ± 1.37 mm\n",
      "    bi = 6.21 ± 1.46 mm\n",
      "    I = 2170.77 ± 1160.58 mm^4\n",
      "    \n"
     ]
    }
   ],
   "source": [
    "## Compute specimen summary statistics\n",
    "mean = (specimen.groupby('strain_group')\n",
    "    [['h0', 'b0', 'hi', 'bi', 'I']].mean()\n",
    "    .to_dict(orient='index'))\n",
    "stdev = (specimen.groupby('strain_group')\n",
    "    [['h0', 'b0', 'hi', 'bi', 'I']].std()\n",
    "    .to_dict(orient='index'))\n",
    "\n",
    "for group in ['A', 'B']:  # ['A', 'B', 'C', 'D']:\n",
    "    print(f\"\"\"\n",
    "Specimen {group}:\n",
    "    h0 = {mean[group]['h0']:.2f} ± {stdev[group]['h0']:.2f} mm\n",
    "    b0 = {mean[group]['b0']:.2f} ± {stdev[group]['b0']:.2f} mm\n",
    "    hi = {mean[group]['hi']:.2f} ± {stdev[group]['hi']:.2f} mm\n",
    "    bi = {mean[group]['bi']:.2f} ± {stdev[group]['bi']:.2f} mm\n",
    "    I = {mean[group]['I']:.2f} ± {stdev[group]['I']:.2f} mm^4\n",
    "    \"\"\")"
   ]
  }
 ],
 "metadata": {
  "kernelspec": {
   "display_name": "biomech",
   "language": "python",
   "name": "python3"
  },
  "language_info": {
   "codemirror_mode": {
    "name": "ipython",
    "version": 3
   },
   "file_extension": ".py",
   "mimetype": "text/x-python",
   "name": "python",
   "nbconvert_exporter": "python",
   "pygments_lexer": "ipython3",
   "version": "3.9.13"
  },
  "orig_nbformat": 4,
  "vscode": {
   "interpreter": {
    "hash": "1800bda38069836c44f080450a4d0ec8dc666f21d6ece1bd217e9dbcf4c3078a"
   }
  }
 },
 "nbformat": 4,
 "nbformat_minor": 2
}
