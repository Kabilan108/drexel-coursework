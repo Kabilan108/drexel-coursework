{
 "cells": [
  {
   "cell_type": "code",
   "execution_count": 1,
   "metadata": {},
   "outputs": [],
   "source": [
    "# Import packages\n",
    "from ipywidgets import Text, VBox, Layout # for getting user input for some sections\n",
    "from IPython.display import display\n",
    "from math import e, pi, sqrt # for normpdf function\n",
    "import numpy as np\n",
    "import re"
   ]
  },
  {
   "cell_type": "markdown",
   "metadata": {},
   "source": [
    "# `python` Exercises"
   ]
  },
  {
   "cell_type": "markdown",
   "metadata": {},
   "source": [
    "## python0"
   ]
  },
  {
   "cell_type": "markdown",
   "metadata": {},
   "source": [
    "### Exercise 1\n",
    "$$ P\\left(E\\right) = \\binom{n}{k} p^k \\left(1-p\\right)^{n-k} $$"
   ]
  },
  {
   "cell_type": "markdown",
   "metadata": {},
   "source": [
    "### Exercise 2\n",
    "$$\n",
    "\\dot{x} = \\sigma\\left(y - x\\right) \\\\\n",
    "\\dot{y} = \\rho x - y - xz \\\\\n",
    "\\dot{z} = -\\beta z + xy\n",
    "$$"
   ]
  },
  {
   "cell_type": "markdown",
   "metadata": {},
   "source": [
    "## python 1a"
   ]
  },
  {
   "cell_type": "markdown",
   "metadata": {},
   "source": [
    "### Exercise 3\n",
    "Replace the first element of `s` with `'x'`."
   ]
  },
  {
   "cell_type": "code",
   "execution_count": 2,
   "metadata": {},
   "outputs": [
    {
     "data": {
      "text/plain": [
       "'xpple_orange_banana'"
      ]
     },
     "execution_count": 2,
     "metadata": {},
     "output_type": "execute_result"
    }
   ],
   "source": [
    "s = \"apple_orange_banana\"\n",
    "s.replace('a', 'x', 1)"
   ]
  },
  {
   "cell_type": "markdown",
   "metadata": {},
   "source": [
    "### Exercise 4\n",
    "Take `a,b,c` which are string variables containing a single digit each. Find the numerical value of `abc`."
   ]
  },
  {
   "cell_type": "code",
   "execution_count": 3,
   "metadata": {},
   "outputs": [
    {
     "data": {
      "text/plain": [
       "593"
      ]
     },
     "execution_count": 3,
     "metadata": {},
     "output_type": "execute_result"
    }
   ],
   "source": [
    "# Define values for a, b, c\n",
    "a = '5'; b = '9'; c = '3';\n",
    "\n",
    "# Combine a, b & c into a number\n",
    "int('{}{}{}'.format(a,b,c))"
   ]
  },
  {
   "cell_type": "markdown",
   "metadata": {},
   "source": [
    "### Exercise 5\n",
    "Write code that starts with a string `s` and an html element `elem`, and evaluates `s`."
   ]
  },
  {
   "cell_type": "code",
   "execution_count": 4,
   "metadata": {},
   "outputs": [
    {
     "data": {
      "application/vnd.jupyter.widget-view+json": {
       "model_id": "981b984039964bc9a49c6f4a2198c928",
       "version_major": 2,
       "version_minor": 0
      },
      "text/plain": [
       "VBox(children=(Text(value='apple', description='String: ', placeholder='Provide a string to place in html tags…"
      ]
     },
     "metadata": {},
     "output_type": "display_data"
    }
   ],
   "source": [
    "# Define input widgets with default values\n",
    "strIn = Text(placeholder = 'Provide a string to place in html tags',\n",
    "             description = 'String: ', value = 'apple')\n",
    "elemIn = Text(placeholder = 'Specify an html element', description = 'HTML: ',\n",
    "              value = 'b')\n",
    "inputs = VBox([strIn, elemIn])\n",
    "# Show widgets\n",
    "display(inputs)"
   ]
  },
  {
   "cell_type": "code",
   "execution_count": 5,
   "metadata": {},
   "outputs": [
    {
     "data": {
      "text/plain": [
       "'<b>apple</b>'"
      ]
     },
     "execution_count": 5,
     "metadata": {},
     "output_type": "execute_result"
    }
   ],
   "source": [
    "# Define s and elem from input fields\n",
    "s = strIn.value # s='apple'\n",
    "elem = elemIn.value # elem='b'\n",
    "\n",
    "# Put s in html tags\n",
    "'<{0}>{1}</{0}>'.format(elem, s)"
   ]
  },
  {
   "cell_type": "markdown",
   "metadata": {},
   "source": [
    "### Exercise 6\n",
    "Write code that takes a url variable and returns the hostname part of the url."
   ]
  },
  {
   "cell_type": "code",
   "execution_count": 6,
   "metadata": {},
   "outputs": [
    {
     "data": {
      "application/vnd.jupyter.widget-view+json": {
       "model_id": "51125daea58b4b4f8261bcb0c4c7beb5",
       "version_major": 2,
       "version_minor": 0
      },
      "text/plain": [
       "Text(value='https://docs.python.org/2/library/string.html', description='URL: ', layout=Layout(width='500px'),…"
      ]
     },
     "metadata": {},
     "output_type": "display_data"
    }
   ],
   "source": [
    "# Define input widgets with default values\n",
    "urlIn = Text(placeholder = 'Provide a URL', description = 'URL: ',\n",
    "             value = 'https://docs.python.org/2/library/string.html',\n",
    "             layout = Layout(width='500px'))\n",
    "# Show widget\n",
    "display(urlIn)"
   ]
  },
  {
   "cell_type": "code",
   "execution_count": 7,
   "metadata": {},
   "outputs": [
    {
     "data": {
      "text/plain": [
       "'docs.python.org'"
      ]
     },
     "execution_count": 7,
     "metadata": {},
     "output_type": "execute_result"
    }
   ],
   "source": [
    "url = urlIn.value #url='https://docs.python.org/2/library/string.html';\n",
    "url.split('https://')[1].split('/')[0]"
   ]
  },
  {
   "cell_type": "markdown",
   "metadata": {},
   "source": [
    "### Exercise 7 (`normpdf`)\n",
    "Write a function, `normpdf(x, avg, std)` that returns the Gaussian probability density function value of `x` for a normal distribution with mean `avg` and standard deviation `std`. If `avg` is not give, use $0$. If `std` is not given, use $1$. See [Normal Distribution @wikipedia](https://en.wikipedia.org/wiki/Normal_distribution) for the formula of Gaussian probability density function.\n",
    "$$f(x) = \\frac{1}{\\sigma\\sqrt{2\\pi}}e^{-\\frac{1}{2}\\left(\\frac{x-\\mu}{\\sigma}\\right)^2}$$"
   ]
  },
  {
   "cell_type": "code",
   "execution_count": 8,
   "metadata": {},
   "outputs": [
    {
     "data": {
      "text/plain": [
       "7.694598626706441e-23"
      ]
     },
     "execution_count": 8,
     "metadata": {},
     "output_type": "execute_result"
    }
   ],
   "source": [
    "def normpdf(x, avg=0, std=1):\n",
    "  \"\"\"\n",
    "    Calculate the probability density function value for x for a normal distribution\n",
    "    defined by an average, avg and standard deviation, std.\n",
    "    If avg and std are not provided, return the probability for a standard normal\n",
    "    distribution (avg=0, std=1).\n",
    "  \"\"\"\n",
    "  return (1/(std*sqrt(2*pi))) * e**(-0.5 * ((x - avg)/std)**2)\n",
    "\n",
    "# Example\n",
    "normpdf(10)"
   ]
  },
  {
   "cell_type": "markdown",
   "metadata": {},
   "source": [
    "### Exercise 8 (Word Lengths)\n",
    "Given a list of words, find the length of each word using list comprehension."
   ]
  },
  {
   "cell_type": "code",
   "execution_count": 9,
   "metadata": {},
   "outputs": [
    {
     "data": {
      "text/plain": [
       "[5, 5, 6, 1, 4, 2, 7, 7]"
      ]
     },
     "execution_count": 9,
     "metadata": {},
     "output_type": "execute_result"
    }
   ],
   "source": [
    "words = ['peter','piper','picked','a','peck','of','pickled','peppers'];\n",
    "\n",
    "# Find word lengths and store in a list\n",
    "wordlengths = [len(w) for w in words]\n",
    "wordlengths"
   ]
  },
  {
   "cell_type": "markdown",
   "metadata": {},
   "source": [
    "### Exercise 9 (Filter Positive)\n",
    "Given a list of numbers, create a new list that contains only the positive numbers selected from the original list. Use list comprehension."
   ]
  },
  {
   "cell_type": "code",
   "execution_count": 10,
   "metadata": {},
   "outputs": [
    {
     "data": {
      "text/plain": [
       "[3, 5, 9, 5, 8]"
      ]
     },
     "execution_count": 10,
     "metadata": {},
     "output_type": "execute_result"
    }
   ],
   "source": [
    "numbers = [-1, -10, 3, 5, 9, -7, 5, 8, -4]\n",
    "# Extract positive numbers\n",
    "[n for n in numbers if n > 0]"
   ]
  },
  {
   "cell_type": "markdown",
   "metadata": {},
   "source": [
    "### Exercise 10 (Word Lengths)\n",
    "Given a list of words, find the length of each word using a `for` loop."
   ]
  },
  {
   "cell_type": "code",
   "execution_count": 11,
   "metadata": {},
   "outputs": [
    {
     "data": {
      "text/plain": [
       "[5, 5, 6, 1, 4, 2, 7, 7]"
      ]
     },
     "execution_count": 11,
     "metadata": {},
     "output_type": "execute_result"
    }
   ],
   "source": [
    "words = ['peter','piper','picked','a','peck','of','pickled','peppers'];\n",
    "\n",
    "# Find word lengths\n",
    "wordlengths = []\n",
    "for word in words:\n",
    "  wordlengths.append(len(word))\n",
    "\n",
    "wordlengths"
   ]
  },
  {
   "cell_type": "markdown",
   "metadata": {},
   "source": [
    "### Exercise 11 (Current Directory)\n",
    "Get the path of the current directory"
   ]
  },
  {
   "cell_type": "code",
   "execution_count": 12,
   "metadata": {},
   "outputs": [
    {
     "data": {
      "text/plain": [
       "'/mnt/c/Users/kabil/OneDrive - Drexel University/Academic/3 - Pre-Junior/1 - Fall Quarter/BMES 375/bmes375.TonyOkeke.tko35/HW10'"
      ]
     },
     "execution_count": 12,
     "metadata": {},
     "output_type": "execute_result"
    }
   ],
   "source": [
    "from os import getcwd\n",
    "getcwd()"
   ]
  },
  {
   "cell_type": "markdown",
   "metadata": {},
   "source": [
    "### Exercise 12 (`numpy` indexing)\n",
    "Create a 1x10 random vector and find the index and value of the smallest number."
   ]
  },
  {
   "cell_type": "code",
   "execution_count": 13,
   "metadata": {},
   "outputs": [
    {
     "data": {
      "text/plain": [
       "array([[0.88592619, 0.43612663, 0.12296947, 0.72200804, 0.13028299,\n",
       "        0.30542323, 0.5061931 , 0.21390588, 0.04376417, 0.46733622]])"
      ]
     },
     "execution_count": 13,
     "metadata": {},
     "output_type": "execute_result"
    }
   ],
   "source": [
    "# Create random vector\n",
    "vec = np.random.rand(1,10)\n",
    "vec"
   ]
  },
  {
   "cell_type": "code",
   "execution_count": 14,
   "metadata": {},
   "outputs": [
    {
     "data": {
      "text/plain": [
       "8"
      ]
     },
     "execution_count": 14,
     "metadata": {},
     "output_type": "execute_result"
    }
   ],
   "source": [
    "# Return index of min\n",
    "vec.argmin()"
   ]
  },
  {
   "cell_type": "markdown",
   "metadata": {},
   "source": [
    "### Exercise 13 (Checkerboard)\n",
    "Create an 8x8 checkerboard of values of 0 & 1."
   ]
  },
  {
   "cell_type": "code",
   "execution_count": 15,
   "metadata": {},
   "outputs": [
    {
     "data": {
      "text/plain": [
       "array([[1, 0, 1, 0, 1, 0, 1, 0],\n",
       "       [0, 1, 0, 1, 0, 1, 0, 1],\n",
       "       [1, 0, 1, 0, 1, 0, 1, 0],\n",
       "       [0, 1, 0, 1, 0, 1, 0, 1],\n",
       "       [1, 0, 1, 0, 1, 0, 1, 0],\n",
       "       [0, 1, 0, 1, 0, 1, 0, 1],\n",
       "       [1, 0, 1, 0, 1, 0, 1, 0],\n",
       "       [0, 1, 0, 1, 0, 1, 0, 1]])"
      ]
     },
     "execution_count": 15,
     "metadata": {},
     "output_type": "execute_result"
    }
   ],
   "source": [
    "np.tile(np.array([[1, 0], [0, 1]]), [4,4])"
   ]
  },
  {
   "cell_type": "markdown",
   "metadata": {},
   "source": [
    "## Bioinformatics (python 1b)\n",
    "### Forward, Complementary and Reverse-Complementary Strands\n",
    "![Strands](img/img1.png)"
   ]
  },
  {
   "cell_type": "code",
   "execution_count": 16,
   "metadata": {},
   "outputs": [
    {
     "name": "stdout",
     "output_type": "stream",
     "text": [
      "GGGGCCCCttttttttTTTtTtTtT\n",
      "GGGGCCCCttttttttaaatatata\n",
      "GGGGggggttttttttaaatatata\n",
      "ccccggggttttttttaaatatata\n",
      "CCCCGGGGTTTTTTTTAAATATATA\n"
     ]
    }
   ],
   "source": [
    "dna = \"GGGGCCCCAAAAAAAATTTATATAT\"\n",
    "rep1 = dna.replace('A', 't')\n",
    "rep2 = rep1.replace('T', 'a')\n",
    "rep3 = rep2.replace('C', 'g')\n",
    "rep4 = rep3.replace('G', 'c')\n",
    "complementary_strand = rep4.upper()\n",
    "\n",
    "print(rep1); print(rep2); print(rep3); print(rep4)\n",
    "print(complementary_strand)"
   ]
  },
  {
   "cell_type": "markdown",
   "metadata": {},
   "source": [
    "### Exercise 14 (Reverse Complementary Strand)\n",
    "Use a different method to find the reverse complementary strand of GGGGCCCCAAAAAAAATTTATATAT"
   ]
  },
  {
   "cell_type": "code",
   "execution_count": 17,
   "metadata": {},
   "outputs": [
    {
     "data": {
      "application/vnd.jupyter.widget-view+json": {
       "model_id": "295418a8436645359108ddb707135ef6",
       "version_major": 2,
       "version_minor": 0
      },
      "text/plain": [
       "Text(value='GGGGCCCCAAAAAAAATTTATATAT', description='(+) Strand: ', layout=Layout(width='400px'), placeholder=…"
      ]
     },
     "metadata": {},
     "output_type": "display_data"
    }
   ],
   "source": [
    "# Define input widgets with default values\n",
    "seqIn = Text(placeholder = 'Provide a DNA forward stand sequence', description = '(+) Strand: ',\n",
    "             value = 'GGGGCCCCAAAAAAAATTTATATAT', layout = Layout(width='400px'))\n",
    "# Show widget\n",
    "display(seqIn)"
   ]
  },
  {
   "cell_type": "code",
   "execution_count": 18,
   "metadata": {},
   "outputs": [
    {
     "name": "stdout",
     "output_type": "stream",
     "text": [
      "GGGGCCCCAAAAAAAATTTATATAT\n",
      "ATATATAAATTTTTTTTGGGGCCCC\n",
      "ATATATAAATTTTTTTTGGGGCCCC\n"
     ]
    }
   ],
   "source": [
    "# Define dictionary for complementary strands\n",
    "complement = {'A':'T', 'G':'C', 'T':'A', 'C':'G'}\n",
    "\n",
    "# Get sequence from input\n",
    "seq = seqIn.value\n",
    "\n",
    "# Method 1\n",
    "RC1 = \"\".join(complement.get(base) for base in reversed(seq))\n",
    "\n",
    "# Method 2\n",
    "RC2 = \"\".join(complement.get(base) for base in seq[::-1])\n",
    "\n",
    "# Print results\n",
    "print(seq); print(RC1); print(RC2);"
   ]
  },
  {
   "cell_type": "markdown",
   "metadata": {},
   "source": [
    "## [GC-Content](https://en.wikipedia.org/wiki/GC-content)\n",
    "The GC pair is bound by three hydrogen bonds, while AT pairs are bound by two.\n",
    "\n",
    "### Calculate the GC-Content\n",
    "GC content is usually calculated as a percentage value and sometimes called the G+C ratio or GC-ratio. GC-content is calculated as $$\\frac{count(G + C)}{count(A + T + G + C)} \\cdot 100\\%$$\n",
    "\n",
    "There is higher GC content in exons becauses GCs are more stable.  \n",
    "GC content can predict which sequences are more likely to be genes."
   ]
  },
  {
   "cell_type": "code",
   "execution_count": 19,
   "metadata": {},
   "outputs": [
    {
     "name": "stdout",
     "output_type": "stream",
     "text": [
      "Length:   54\n",
      "C Count:  9\n",
      "G Count:  8\n",
      "GC-Ratio: 31.48%\n"
     ]
    }
   ],
   "source": [
    "dna = \"ACTGATCGATTACGTATAGTATTTGCTATCATACATATATATCGATGCGTTCAT\"\n",
    "\n",
    "print('Length:   {}'.format(len(dna)))\n",
    "print('C Count:  {}'.format(dna.count('C')))\n",
    "print('G Count:  {}'.format(dna.count('G')))\n",
    "print('GC-Ratio: {0:.2f}%'.format( (dna.count('G') + dna.count('C'))/len(dna)*100 ))"
   ]
  },
  {
   "cell_type": "markdown",
   "metadata": {},
   "source": [
    "## `FASTA` Files\n",
    "`FASTA` files are used to record DNA sequences. Here's a line from the [NBPF1.fasta](NBPF1.fasta) file.\n",
    "\n",
    ">**>hg38_knownGene_uc001ayw.5 range=chr1:16563943-16592021 5'pad=0 3'pad=0 strand=- repeatMasking=none**\n",
    ">ATGGTGGTATCAGCTGGCCCTTGGTCCAGCGAGAAGGCAGAGACGAACAT\n",
    ">TTTAGAAATCAACGAGAAATTGCGCCCCCAGCTGGCAGAGAACAAACAGC\n",
    ">AGTTCAGAAACCTCAAAGAGAAATGTTTTGTAACTCAACTGGCCGGCTTC\n",
    ">CTGGCCAACCGACAGAAGAAATACAgtaagatctataggctcaccatcat\n",
    ">gaaagtgatgaatgatgtcctgtcttctctctgagacactaaatgctctc\n",
    ">tccatcaaaaataatttcatccttcctgtacttctaggaaaacagaaatg\n",
    ">ggtattttaacattttgttaaagttggaagacagaggtaccaaagtattt\n",
    ">agcaactttccatgtttgcaatcaggtgggggtgggactagagttaaact\n",
    "\n",
    "Upper case characters are **exons**  \n",
    "Lower case characters are **introns**\n",
    "\n",
    "## Read `FASTA` Files"
   ]
  },
  {
   "cell_type": "code",
   "execution_count": 20,
   "metadata": {},
   "outputs": [
    {
     "name": "stdout",
     "output_type": "stream",
     "text": [
      ">hg38_knowngene_uc001ayw.5 range=chr1:16563943-16592021 5'pad=0 3'pad=0 strand=- repeatmasking=none\n",
      "\n"
     ]
    }
   ],
   "source": [
    "file = open(\"NBPF1.fasta\")\n",
    "dna = file.read()\n",
    "print(dna[:100])\n",
    "\n",
    "# Close the input stream\n",
    "file.close()\n",
    "\n",
    "# Extract the sequences and Strip line breaks from sequence\n",
    "dna = dna.split('\\n', 1)[1].replace(\"\\n\", \"\")"
   ]
  },
  {
   "cell_type": "markdown",
   "metadata": {},
   "source": [
    "### Exercise 15 (Extracting Exons)\n",
    "Extract multiple exons from the `FASTA` file ([NBPF1.fasta](NBPF1.fasta)).  \n",
    "Print out Exons 1-3\n",
    "> Exon1: ATGGTGGTATCAGCTGGCCC<br/>\n",
    "> Exon2: CTGGCCAACCGACAGAAGAAATACA<br/>\n",
    "> Exon3: AAGAGAAATGTTTT<br/>"
   ]
  },
  {
   "cell_type": "code",
   "execution_count": 21,
   "metadata": {},
   "outputs": [
    {
     "name": "stdout",
     "output_type": "stream",
     "text": [
      "Exons:\n",
      "\n",
      "ATGGTGGTATCAGCTGGCCCTTGGTCCAGCGAGAAGGCAGAGACGAACATTTTAGAAATCAACGAGAAATTGCGCCCCCAGCTGGCAGAGAACAAACAGCAGTTCAGAAACCTCAAAGAGAAATGTTTTGTAACTCAACTGGCCGGCTTCCTGGCCAACCGACAGAAGAAATACA\n",
      "\n",
      "AGTATGAAGAGTGTAAAGACCTCATAAAATTTATGCTGAGGAATGAGCGACAGTTCAAGGAGGAGAAGCTTGCAGAGCAGCTCAAGCAAGCTGAGGAGCTCAG\n",
      "\n",
      "GCAATATAAAGTCCTGGTTCACTCTCAGGAACGAGAGCTGACCCAGTTAAGGGAGAAGTTACGGGAAGGGAGAGATGCCTCCCGCTCATTGAATCAGCATCTCCAGGCCCTCCTCACTCCGGATAAGCCAGACAAGTCCCAGGGGCAGGACCTCCAAGAACAGCTGGCTGAGGGGTGTAGACTGGCACAGCAACTTTTCCAGAAGCTCAGCCCAG\n"
     ]
    }
   ],
   "source": [
    "# Use regular expressions to extract all sequences of consecutive upper case letters\n",
    "# into a list\n",
    "import re\n",
    "exons = re.findall(r'(?:[ATGC]+)', dna)\n",
    "\n",
    "# Print the first 3 exons\n",
    "print('Exons:', *exons[:3], sep='\\n\\n')"
   ]
  },
  {
   "cell_type": "markdown",
   "metadata": {},
   "source": [
    "### Join All Exons into a Single Sequence"
   ]
  },
  {
   "cell_type": "code",
   "execution_count": 22,
   "metadata": {},
   "outputs": [
    {
     "name": "stdout",
     "output_type": "stream",
     "text": [
      "ATGGTGGTATCAGCTGGCCCTTGGTCCAGCGAGAAGGCAGAGACGAACATTTTAGAAATCAACGAGAAATTGCGCCCCCAGCTGGCAGAGAACAAACAGCAGTTCAGAAACCTCAAAGAGAAATGTTTTGTAACTCAACTGGCCGGCTTCCTGGCCAACCGACAGAAGAAATACAAGTATGAAGAGTGTAAAGACCTCATAAAATTTATGCTGAGGAATGAGCGACAGTTCAAGGAGGAGAAGCTTGCAGAGCAGCTCAAGCAAGCTGAGGAGCTCAGGCAATATAAAGTCCTGGTTCACTCTCAGGAACGAGAGCTGACCCAGTTAAGGGAGAAGTTACGGGAAGGGAGAGATGCCTCCCGCTCATTGAATCAGCATCTCCAGGCCCTCCTCACTCCGGATAAGCCAGACAAGTCCCAGGGGCAGGACCTCCAAGAACAGCTGGCTGAGGGGTGTAGACTGGCACAGCAACTTTTCCAGAAGCTCAGCCCAGAAAATGACGAAGATGAGGATGAAGATGTTCAAGTTGAGGAGGCTGAGAAAGTACTGGAATCATCTGCCCCCAGGGAGGTGCAGAAGGCTGAAGAAAGCAAAGTCCCTGAGGACTCACTGGAGGAATGTGCCATCACTTGTTCAAATAGCCACAGCCCTTGTGACTCCAACCAGCCTCACAAGAACATCAACATCACCTTTGAGGAAGACAAAGTCAACTCAACTCTGGTTGTAGACAGAGAATCCTCTCATGATGAATGTCAGGATGCTGTAAACATTCTCCCAGTCCCTGGCCCCACCTCTTCTGCCACAAACGTCAGCATGGTGGTATCAGCCGGCCCTTTGTCCAGCGAGAAGGCAGAGATGAACATTCTAGAAATCAACGAGAAATTGCATCCCCAGCTGGCAGAGAAGAAACAGCAGTTCAGAAACCTCAAAGAGAAATGTTTTGTAACTCAACTGGCCTGCTTCCTGGCCAACCAGCAGAACAAATACAAATATGAAGAGTGCAAAGACCTCATAAAATCTATGCTGAGGAATGAGCGACAGTTCAAGGAGGAGAAGCTTGCAGAGCAGCTCAAGCAAGCTGAGGAGCTCAGGCAATATAAAGTCCTGGTTCACTCTCAGGAACGAGAGCTGACCCAGTTAAGGGAGAAGTTACGGGAAGGGAGAGATGCCTCCCGCTCATTGAATCAGCATCTCCAGGCCCTCCTCACTCCGGATAAGCCAGACAAGTCCCAGGGGCAGGACCTCCAAGAACAGCTGGCTGAGGGGTGTAGACTGGCACAGCAACTTTTCCAGAAGCTCAGCCCAGAAAATGACGAAGATGAGGATGAAGATGTTCAAGTTGAGGAGGCTGAGAAAGTACTGGAATCATCTGCCCCCAGGGAGGTGCAGAAGGCTGAAGAAAGCAAAGTCCCTGAGGACTCACTGGAGGAATGTGCCATCACTTGTTCAAATAGCCACGGCCCTTGTGACTCCAACCAGCCTCACAAGAACATCAACATCACCTTTGAGGAAGACAAAGTCAACTCAGCTCTGGTTGTAGACAGAGAATCCTCTCATGATGAATGTCAGGATGCTGTAAACATTCTCCCAGTCCCTGGCCCCACCTCTTCTGCCACAAACGTCAGCATGGTGGTATCAGCCGGCCCTTTGTCCAGCGAGAAGGCAGAGATGAACATTCTAGAAATCAACGAGAAATTGCATCCCCAGCTGGCAGAGAAGAAACAGCAGTTCAGAAACCTCAAAGAGAAATGTTTTGTAACTCAACTGGCCTGCTTCCTGGCCAACCAGCAGAACAAATACAAAAATGAAGAGTGCAAAGACCTCATAAAATCTATGCTGAGGAATGAGCGACAGTTCAAGGAGGAGAAGCTTGCAGAGCAGCTCAAGCAAGCTGAGGAGCTCAGGCAATATAAAGTCCTGGTTCACTCTCAGGAACGAGAGCTGACCCAGTTAAGGGAGAAGTTACGGGAAGGGAGAGATGCCTCCTGCTCATTGAATCAGCATCTCCAGGCCCTCCTCACTCCGGATGAGCCAGACAAGTCCCAGGGGCAGGACCTCCAAGAACAGCTGGCTGAGGGGTGTAGACTGGCACAGCACCTTGTCCAAAAGCTCAGCCCAGAAAATGACAACGATGACGATGAAGATGTTCAAGTTGAGGTGGCTGAGAAAGTGCAGAAATCGTCTGCCCCCAGGGAGATGCCGAAGGCTGAAGAAAAGGAAGTCCCTGAGGACTCACTGGAGGAATGTGCCATCACTTGTTCAAATAGCCATGGCCCTTATGACTCCAACCAGCCACATAGGAAAACCAAAATCACATTTGAGGAAGACAAAGTCGACTCAACTCTCATTGGCTCATCCTCTCATGTTGAATGGGAGGATGCTGTACACATTATCCCAGAAAATGAAAGTGATGATGAGGAAGAGGAAGAAAAAGGGCCAGTGTCTCCCAGGAATCTGCAGGAGTCTGAAGAGGAGGAAGTCCCCCAGGAGTCCTGGGATGAAGGTTATTCGACTCTCTCAATTCCTCCTGAAATGTTGGCCTCGTACAAGTCTTACAGCGGCACATTTCACTCATTAGAGGAACAGCAAGTCTGCATGGCTGTTGACATAGGCGGACATCGGTGGGATCAAGTGAAAAAGGAGGACCAAGAGGCAACAGGTCCCAGGCTCAGCAGGGAGCTGCTGGATGAGAAAGGGCCTGAAGTCTTGCAGGACTCACTGGATAGATGTTATTCAACTCCTTCAGGTTATCTTGAACTGACTGACTCATGCCAGCCCTACAGAAGTGCCTTTTACATATTGGAGCAACAGCGTGTTGGCTGGGCTCTTGACATGGATGAAATTGAAAAGTACCAAGAAGTGGAAGAAGACCAAGACCCATCATGCCCCAGGCTCAGCAGGGAGCTGCTGGAGGCAGTAGAGCCTGAAGTCTTGCAGGACTCACTGGATAGATGTTATTCAACTCCTTCCAGTTGTCTTGAACAGCCTGACTCCTGCCTGCCCTATGGAAGTTCCTTTTATGCATTGGAGGAAAAACATGTTGGCTTTTCTCTTGACGTGGGAGAAATTGAAAAGAAGGGGAAGGGGAAGAAAAGAAGGGGAAGAAGATCAACGAAGAAAAGAAGGAGAAGGGGAAGAAAAGAAGGGGAAGAAGATCAAAACCCACCATGCCCCAGGCTCAGCGGCATGCTGATGGAAGTGGAAGAGCCTGAAGTCTTGCAGGACTCACTGGATAGATGTTATTCGACTCCGTCAATGTACTTTGAACTACCTGACTCATTCCAGCACTACAGAAGTGTGTTTTACTCATTTGAGGAACAGCACATCAGCTTCGCCCTTGACGTGGACAATAGGTTTCTTACTTTGATGGGAACAAGTCTCCACCTGGTCTTCCAGATGGGAGTCATATTCCCACAGTAA\n"
     ]
    }
   ],
   "source": [
    "joined_exons = ''.join(c for c in dna if c.isupper())\n",
    "print(joined_exons)"
   ]
  },
  {
   "cell_type": "markdown",
   "metadata": {},
   "source": [
    "### Exercise 16 (Transcribe DNA Genes into mRNA)\n",
    "![dogma](img/img2.png)\n",
    "\n",
    "* **Method 1:** Rely on loops, replace every 'T' with 'U'\n",
    "* **Method 2:** Use `replace()`\n",
    "* **Method 3:** Define a transcribe function"
   ]
  },
  {
   "cell_type": "code",
   "execution_count": 23,
   "metadata": {},
   "outputs": [
    {
     "name": "stdout",
     "output_type": "stream",
     "text": [
      "RNA:  AUGGUGGUAUCAGCUGGCCCUUGGUCCAGCGAGAAGGCAGAGACGAACAUUUUAGAAAUCAACGAGAAAUUGCGCCCCCAGCUGGCAGAGAACAAACAGCAGUUCAGAAACCUCAAAGAGAAAUGUUUUGUAACUCAACUGGCCGGCUUCCUGGCCAACCGACAGAAGAAAUACAAGUAUGAAGAGUGUAAAGACCUCAUAAAAUUUAUGCUGAGGAAUGAGCGACAGUUCAAGGAGGAGAAGCUUGCAGAGCAGCUCAAGCAAGCUGAGGAGCUCAGGCAAUAUAAAGUCCUGGUUCACUCUCAGGAACGAGAGCUGACCCAGUUAAGGGAGAAGUUACGGGAAGGGAGAGAUGCCUCCCGCUCAUUGAAUCAGCAUCUCCAGGCCCUCCUCACUCCGGAUAAGCCAGACAAGUCCCAGGGGCAGGACCUCCAAGAACAGCUGGCUGAGGGGUGUAGACUGGCACAGCAACUUUUCCAGAAGCUCAGCCCAGAAAAUGACGAAGAUGAGGAUGAAGAUGUUCAAGUUGAGGAGGCUGAGAAAGUACUGGAAUCAUCUGCCCCCAGGGAGGUGCAGAAGGCUGAAGAAAGCAAAGUCCCUGAGGACUCACUGGAGGAAUGUGCCAUCACUUGUUCAAAUAGCCACAGCCCUUGUGACUCCAACCAGCCUCACAAGAACAUCAACAUCACCUUUGAGGAAGACAAAGUCAACUCAACUCUGGUUGUAGACAGAGAAUCCUCUCAUGAUGAAUGUCAGGAUGCUGUAAACAUUCUCCCAGUCCCUGGCCCCACCUCUUCUGCCACAAACGUCAGCAUGGUGGUAUCAGCCGGCCCUUUGUCCAGCGAGAAGGCAGAGAUGAACAUUCUAGAAAUCAACGAGAAAUUGCAUCCCCAGCUGGCAGAGAAGAAACAGCAGUUCAGAAACCUCAAAGAGAAAUGUUUUGUAACUCAACUGGCCUGCUUCCUGGCCAACCAGCAGAACAAAUACAAAUAUGAAGAGUGCAAAGACCUCAUAAAAUCUAUGCUGAGGAAUGAGCGACAGUUCAAGGAGGAGAAGCUUGCAGAGCAGCUCAAGCAAGCUGAGGAGCUCAGGCAAUAUAAAGUCCUGGUUCACUCUCAGGAACGAGAGCUGACCCAGUUAAGGGAGAAGUUACGGGAAGGGAGAGAUGCCUCCCGCUCAUUGAAUCAGCAUCUCCAGGCCCUCCUCACUCCGGAUAAGCCAGACAAGUCCCAGGGGCAGGACCUCCAAGAACAGCUGGCUGAGGGGUGUAGACUGGCACAGCAACUUUUCCAGAAGCUCAGCCCAGAAAAUGACGAAGAUGAGGAUGAAGAUGUUCAAGUUGAGGAGGCUGAGAAAGUACUGGAAUCAUCUGCCCCCAGGGAGGUGCAGAAGGCUGAAGAAAGCAAAGUCCCUGAGGACUCACUGGAGGAAUGUGCCAUCACUUGUUCAAAUAGCCACGGCCCUUGUGACUCCAACCAGCCUCACAAGAACAUCAACAUCACCUUUGAGGAAGACAAAGUCAACUCAGCUCUGGUUGUAGACAGAGAAUCCUCUCAUGAUGAAUGUCAGGAUGCUGUAAACAUUCUCCCAGUCCCUGGCCCCACCUCUUCUGCCACAAACGUCAGCAUGGUGGUAUCAGCCGGCCCUUUGUCCAGCGAGAAGGCAGAGAUGAACAUUCUAGAAAUCAACGAGAAAUUGCAUCCCCAGCUGGCAGAGAAGAAACAGCAGUUCAGAAACCUCAAAGAGAAAUGUUUUGUAACUCAACUGGCCUGCUUCCUGGCCAACCAGCAGAACAAAUACAAAAAUGAAGAGUGCAAAGACCUCAUAAAAUCUAUGCUGAGGAAUGAGCGACAGUUCAAGGAGGAGAAGCUUGCAGAGCAGCUCAAGCAAGCUGAGGAGCUCAGGCAAUAUAAAGUCCUGGUUCACUCUCAGGAACGAGAGCUGACCCAGUUAAGGGAGAAGUUACGGGAAGGGAGAGAUGCCUCCUGCUCAUUGAAUCAGCAUCUCCAGGCCCUCCUCACUCCGGAUGAGCCAGACAAGUCCCAGGGGCAGGACCUCCAAGAACAGCUGGCUGAGGGGUGUAGACUGGCACAGCACCUUGUCCAAAAGCUCAGCCCAGAAAAUGACAACGAUGACGAUGAAGAUGUUCAAGUUGAGGUGGCUGAGAAAGUGCAGAAAUCGUCUGCCCCCAGGGAGAUGCCGAAGGCUGAAGAAAAGGAAGUCCCUGAGGACUCACUGGAGGAAUGUGCCAUCACUUGUUCAAAUAGCCAUGGCCCUUAUGACUCCAACCAGCCACAUAGGAAAACCAAAAUCACAUUUGAGGAAGACAAAGUCGACUCAACUCUCAUUGGCUCAUCCUCUCAUGUUGAAUGGGAGGAUGCUGUACACAUUAUCCCAGAAAAUGAAAGUGAUGAUGAGGAAGAGGAAGAAAAAGGGCCAGUGUCUCCCAGGAAUCUGCAGGAGUCUGAAGAGGAGGAAGUCCCCCAGGAGUCCUGGGAUGAAGGUUAUUCGACUCUCUCAAUUCCUCCUGAAAUGUUGGCCUCGUACAAGUCUUACAGCGGCACAUUUCACUCAUUAGAGGAACAGCAAGUCUGCAUGGCUGUUGACAUAGGCGGACAUCGGUGGGAUCAAGUGAAAAAGGAGGACCAAGAGGCAACAGGUCCCAGGCUCAGCAGGGAGCUGCUGGAUGAGAAAGGGCCUGAAGUCUUGCAGGACUCACUGGAUAGAUGUUAUUCAACUCCUUCAGGUUAUCUUGAACUGACUGACUCAUGCCAGCCCUACAGAAGUGCCUUUUACAUAUUGGAGCAACAGCGUGUUGGCUGGGCUCUUGACAUGGAUGAAAUUGAAAAGUACCAAGAAGUGGAAGAAGACCAAGACCCAUCAUGCCCCAGGCUCAGCAGGGAGCUGCUGGAGGCAGUAGAGCCUGAAGUCUUGCAGGACUCACUGGAUAGAUGUUAUUCAACUCCUUCCAGUUGUCUUGAACAGCCUGACUCCUGCCUGCCCUAUGGAAGUUCCUUUUAUGCAUUGGAGGAAAAACAUGUUGGCUUUUCUCUUGACGUGGGAGAAAUUGAAAAGAAGGGGAAGGGGAAGAAAAGAAGGGGAAGAAGAUCAACGAAGAAAAGAAGGAGAAGGGGAAGAAAAGAAGGGGAAGAAGAUCAAAACCCACCAUGCCCCAGGCUCAGCGGCAUGCUGAUGGAAGUGGAAGAGCCUGAAGUCUUGCAGGACUCACUGGAUAGAUGUUAUUCGACUCCGUCAAUGUACUUUGAACUACCUGACUCAUUCCAGCACUACAGAAGUGUGUUUUACUCAUUUGAGGAACAGCACAUCAGCUUCGCCCUUGACGUGGACAAUAGGUUUCUUACUUUGAUGGGAACAAGUCUCCACCUGGUCUUCCAGAUGGGAGUCAUAUUCCCACAGUAA\n"
     ]
    }
   ],
   "source": [
    "# Method 1\n",
    "# In a loop, replace every \"T\" with \"U\" to convert joined exons to mRNA\n",
    "\n",
    "rna = ''\n",
    "for base in joined_exons:\n",
    "  if base == 'T': base = 'U'\n",
    "  rna += base\n",
    "\n",
    "# Print the RNA string\n",
    "print('RNA: ', rna)"
   ]
  },
  {
   "cell_type": "code",
   "execution_count": 24,
   "metadata": {},
   "outputs": [
    {
     "name": "stdout",
     "output_type": "stream",
     "text": [
      "RNA: AUGGUGGUAUCAGCUGGCCCUUGGUCCAGCGAGAAGGCAGAGACGAACAUUUUAGAAAUCAACGAGAAAUUGCGCCCCCAGCUGGCAGAGAACAAACAGCAGUUCAGAAACCUCAAAGAGAAAUGUUUUGUAACUCAACUGGCCGGCUUCCUGGCCAACCGACAGAAGAAAUACAAGUAUGAAGAGUGUAAAGACCUCAUAAAAUUUAUGCUGAGGAAUGAGCGACAGUUCAAGGAGGAGAAGCUUGCAGAGCAGCUCAAGCAAGCUGAGGAGCUCAGGCAAUAUAAAGUCCUGGUUCACUCUCAGGAACGAGAGCUGACCCAGUUAAGGGAGAAGUUACGGGAAGGGAGAGAUGCCUCCCGCUCAUUGAAUCAGCAUCUCCAGGCCCUCCUCACUCCGGAUAAGCCAGACAAGUCCCAGGGGCAGGACCUCCAAGAACAGCUGGCUGAGGGGUGUAGACUGGCACAGCAACUUUUCCAGAAGCUCAGCCCAGAAAAUGACGAAGAUGAGGAUGAAGAUGUUCAAGUUGAGGAGGCUGAGAAAGUACUGGAAUCAUCUGCCCCCAGGGAGGUGCAGAAGGCUGAAGAAAGCAAAGUCCCUGAGGACUCACUGGAGGAAUGUGCCAUCACUUGUUCAAAUAGCCACAGCCCUUGUGACUCCAACCAGCCUCACAAGAACAUCAACAUCACCUUUGAGGAAGACAAAGUCAACUCAACUCUGGUUGUAGACAGAGAAUCCUCUCAUGAUGAAUGUCAGGAUGCUGUAAACAUUCUCCCAGUCCCUGGCCCCACCUCUUCUGCCACAAACGUCAGCAUGGUGGUAUCAGCCGGCCCUUUGUCCAGCGAGAAGGCAGAGAUGAACAUUCUAGAAAUCAACGAGAAAUUGCAUCCCCAGCUGGCAGAGAAGAAACAGCAGUUCAGAAACCUCAAAGAGAAAUGUUUUGUAACUCAACUGGCCUGCUUCCUGGCCAACCAGCAGAACAAAUACAAAUAUGAAGAGUGCAAAGACCUCAUAAAAUCUAUGCUGAGGAAUGAGCGACAGUUCAAGGAGGAGAAGCUUGCAGAGCAGCUCAAGCAAGCUGAGGAGCUCAGGCAAUAUAAAGUCCUGGUUCACUCUCAGGAACGAGAGCUGACCCAGUUAAGGGAGAAGUUACGGGAAGGGAGAGAUGCCUCCCGCUCAUUGAAUCAGCAUCUCCAGGCCCUCCUCACUCCGGAUAAGCCAGACAAGUCCCAGGGGCAGGACCUCCAAGAACAGCUGGCUGAGGGGUGUAGACUGGCACAGCAACUUUUCCAGAAGCUCAGCCCAGAAAAUGACGAAGAUGAGGAUGAAGAUGUUCAAGUUGAGGAGGCUGAGAAAGUACUGGAAUCAUCUGCCCCCAGGGAGGUGCAGAAGGCUGAAGAAAGCAAAGUCCCUGAGGACUCACUGGAGGAAUGUGCCAUCACUUGUUCAAAUAGCCACGGCCCUUGUGACUCCAACCAGCCUCACAAGAACAUCAACAUCACCUUUGAGGAAGACAAAGUCAACUCAGCUCUGGUUGUAGACAGAGAAUCCUCUCAUGAUGAAUGUCAGGAUGCUGUAAACAUUCUCCCAGUCCCUGGCCCCACCUCUUCUGCCACAAACGUCAGCAUGGUGGUAUCAGCCGGCCCUUUGUCCAGCGAGAAGGCAGAGAUGAACAUUCUAGAAAUCAACGAGAAAUUGCAUCCCCAGCUGGCAGAGAAGAAACAGCAGUUCAGAAACCUCAAAGAGAAAUGUUUUGUAACUCAACUGGCCUGCUUCCUGGCCAACCAGCAGAACAAAUACAAAAAUGAAGAGUGCAAAGACCUCAUAAAAUCUAUGCUGAGGAAUGAGCGACAGUUCAAGGAGGAGAAGCUUGCAGAGCAGCUCAAGCAAGCUGAGGAGCUCAGGCAAUAUAAAGUCCUGGUUCACUCUCAGGAACGAGAGCUGACCCAGUUAAGGGAGAAGUUACGGGAAGGGAGAGAUGCCUCCUGCUCAUUGAAUCAGCAUCUCCAGGCCCUCCUCACUCCGGAUGAGCCAGACAAGUCCCAGGGGCAGGACCUCCAAGAACAGCUGGCUGAGGGGUGUAGACUGGCACAGCACCUUGUCCAAAAGCUCAGCCCAGAAAAUGACAACGAUGACGAUGAAGAUGUUCAAGUUGAGGUGGCUGAGAAAGUGCAGAAAUCGUCUGCCCCCAGGGAGAUGCCGAAGGCUGAAGAAAAGGAAGUCCCUGAGGACUCACUGGAGGAAUGUGCCAUCACUUGUUCAAAUAGCCAUGGCCCUUAUGACUCCAACCAGCCACAUAGGAAAACCAAAAUCACAUUUGAGGAAGACAAAGUCGACUCAACUCUCAUUGGCUCAUCCUCUCAUGUUGAAUGGGAGGAUGCUGUACACAUUAUCCCAGAAAAUGAAAGUGAUGAUGAGGAAGAGGAAGAAAAAGGGCCAGUGUCUCCCAGGAAUCUGCAGGAGUCUGAAGAGGAGGAAGUCCCCCAGGAGUCCUGGGAUGAAGGUUAUUCGACUCUCUCAAUUCCUCCUGAAAUGUUGGCCUCGUACAAGUCUUACAGCGGCACAUUUCACUCAUUAGAGGAACAGCAAGUCUGCAUGGCUGUUGACAUAGGCGGACAUCGGUGGGAUCAAGUGAAAAAGGAGGACCAAGAGGCAACAGGUCCCAGGCUCAGCAGGGAGCUGCUGGAUGAGAAAGGGCCUGAAGUCUUGCAGGACUCACUGGAUAGAUGUUAUUCAACUCCUUCAGGUUAUCUUGAACUGACUGACUCAUGCCAGCCCUACAGAAGUGCCUUUUACAUAUUGGAGCAACAGCGUGUUGGCUGGGCUCUUGACAUGGAUGAAAUUGAAAAGUACCAAGAAGUGGAAGAAGACCAAGACCCAUCAUGCCCCAGGCUCAGCAGGGAGCUGCUGGAGGCAGUAGAGCCUGAAGUCUUGCAGGACUCACUGGAUAGAUGUUAUUCAACUCCUUCCAGUUGUCUUGAACAGCCUGACUCCUGCCUGCCCUAUGGAAGUUCCUUUUAUGCAUUGGAGGAAAAACAUGUUGGCUUUUCUCUUGACGUGGGAGAAAUUGAAAAGAAGGGGAAGGGGAAGAAAAGAAGGGGAAGAAGAUCAACGAAGAAAAGAAGGAGAAGGGGAAGAAAAGAAGGGGAAGAAGAUCAAAACCCACCAUGCCCCAGGCUCAGCGGCAUGCUGAUGGAAGUGGAAGAGCCUGAAGUCUUGCAGGACUCACUGGAUAGAUGUUAUUCGACUCCGUCAAUGUACUUUGAACUACCUGACUCAUUCCAGCACUACAGAAGUGUGUUUUACUCAUUUGAGGAACAGCACAUCAGCUUCGCCCUUGACGUGGACAAUAGGUUUCUUACUUUGAUGGGAACAAGUCUCCACCUGGUCUUCCAGAUGGGAGUCAUAUUCCCACAGUAA\n"
     ]
    }
   ],
   "source": [
    "# Method 2\n",
    "# Use the replace() function\n",
    "rna = joined_exons.replace('T', 'U')\n",
    "print('RNA:', rna)"
   ]
  },
  {
   "cell_type": "code",
   "execution_count": 25,
   "metadata": {},
   "outputs": [
    {
     "name": "stdout",
     "output_type": "stream",
     "text": [
      "RNA:  AUGGUGGUAUCAGCUGGCCCUUGGUCCAGCGAGAAGGCAGAGACGAACAUUUUAGAAAUCAACGAGAAAUUGCGCCCCCAGCUGGCAGAGAACAAACAGCAGUUCAGAAACCUCAAAGAGAAAUGUUUUGUAACUCAACUGGCCGGCUUCCUGGCCAACCGACAGAAGAAAUACAAGUAUGAAGAGUGUAAAGACCUCAUAAAAUUUAUGCUGAGGAAUGAGCGACAGUUCAAGGAGGAGAAGCUUGCAGAGCAGCUCAAGCAAGCUGAGGAGCUCAGGCAAUAUAAAGUCCUGGUUCACUCUCAGGAACGAGAGCUGACCCAGUUAAGGGAGAAGUUACGGGAAGGGAGAGAUGCCUCCCGCUCAUUGAAUCAGCAUCUCCAGGCCCUCCUCACUCCGGAUAAGCCAGACAAGUCCCAGGGGCAGGACCUCCAAGAACAGCUGGCUGAGGGGUGUAGACUGGCACAGCAACUUUUCCAGAAGCUCAGCCCAGAAAAUGACGAAGAUGAGGAUGAAGAUGUUCAAGUUGAGGAGGCUGAGAAAGUACUGGAAUCAUCUGCCCCCAGGGAGGUGCAGAAGGCUGAAGAAAGCAAAGUCCCUGAGGACUCACUGGAGGAAUGUGCCAUCACUUGUUCAAAUAGCCACAGCCCUUGUGACUCCAACCAGCCUCACAAGAACAUCAACAUCACCUUUGAGGAAGACAAAGUCAACUCAACUCUGGUUGUAGACAGAGAAUCCUCUCAUGAUGAAUGUCAGGAUGCUGUAAACAUUCUCCCAGUCCCUGGCCCCACCUCUUCUGCCACAAACGUCAGCAUGGUGGUAUCAGCCGGCCCUUUGUCCAGCGAGAAGGCAGAGAUGAACAUUCUAGAAAUCAACGAGAAAUUGCAUCCCCAGCUGGCAGAGAAGAAACAGCAGUUCAGAAACCUCAAAGAGAAAUGUUUUGUAACUCAACUGGCCUGCUUCCUGGCCAACCAGCAGAACAAAUACAAAUAUGAAGAGUGCAAAGACCUCAUAAAAUCUAUGCUGAGGAAUGAGCGACAGUUCAAGGAGGAGAAGCUUGCAGAGCAGCUCAAGCAAGCUGAGGAGCUCAGGCAAUAUAAAGUCCUGGUUCACUCUCAGGAACGAGAGCUGACCCAGUUAAGGGAGAAGUUACGGGAAGGGAGAGAUGCCUCCCGCUCAUUGAAUCAGCAUCUCCAGGCCCUCCUCACUCCGGAUAAGCCAGACAAGUCCCAGGGGCAGGACCUCCAAGAACAGCUGGCUGAGGGGUGUAGACUGGCACAGCAACUUUUCCAGAAGCUCAGCCCAGAAAAUGACGAAGAUGAGGAUGAAGAUGUUCAAGUUGAGGAGGCUGAGAAAGUACUGGAAUCAUCUGCCCCCAGGGAGGUGCAGAAGGCUGAAGAAAGCAAAGUCCCUGAGGACUCACUGGAGGAAUGUGCCAUCACUUGUUCAAAUAGCCACGGCCCUUGUGACUCCAACCAGCCUCACAAGAACAUCAACAUCACCUUUGAGGAAGACAAAGUCAACUCAGCUCUGGUUGUAGACAGAGAAUCCUCUCAUGAUGAAUGUCAGGAUGCUGUAAACAUUCUCCCAGUCCCUGGCCCCACCUCUUCUGCCACAAACGUCAGCAUGGUGGUAUCAGCCGGCCCUUUGUCCAGCGAGAAGGCAGAGAUGAACAUUCUAGAAAUCAACGAGAAAUUGCAUCCCCAGCUGGCAGAGAAGAAACAGCAGUUCAGAAACCUCAAAGAGAAAUGUUUUGUAACUCAACUGGCCUGCUUCCUGGCCAACCAGCAGAACAAAUACAAAAAUGAAGAGUGCAAAGACCUCAUAAAAUCUAUGCUGAGGAAUGAGCGACAGUUCAAGGAGGAGAAGCUUGCAGAGCAGCUCAAGCAAGCUGAGGAGCUCAGGCAAUAUAAAGUCCUGGUUCACUCUCAGGAACGAGAGCUGACCCAGUUAAGGGAGAAGUUACGGGAAGGGAGAGAUGCCUCCUGCUCAUUGAAUCAGCAUCUCCAGGCCCUCCUCACUCCGGAUGAGCCAGACAAGUCCCAGGGGCAGGACCUCCAAGAACAGCUGGCUGAGGGGUGUAGACUGGCACAGCACCUUGUCCAAAAGCUCAGCCCAGAAAAUGACAACGAUGACGAUGAAGAUGUUCAAGUUGAGGUGGCUGAGAAAGUGCAGAAAUCGUCUGCCCCCAGGGAGAUGCCGAAGGCUGAAGAAAAGGAAGUCCCUGAGGACUCACUGGAGGAAUGUGCCAUCACUUGUUCAAAUAGCCAUGGCCCUUAUGACUCCAACCAGCCACAUAGGAAAACCAAAAUCACAUUUGAGGAAGACAAAGUCGACUCAACUCUCAUUGGCUCAUCCUCUCAUGUUGAAUGGGAGGAUGCUGUACACAUUAUCCCAGAAAAUGAAAGUGAUGAUGAGGAAGAGGAAGAAAAAGGGCCAGUGUCUCCCAGGAAUCUGCAGGAGUCUGAAGAGGAGGAAGUCCCCCAGGAGUCCUGGGAUGAAGGUUAUUCGACUCUCUCAAUUCCUCCUGAAAUGUUGGCCUCGUACAAGUCUUACAGCGGCACAUUUCACUCAUUAGAGGAACAGCAAGUCUGCAUGGCUGUUGACAUAGGCGGACAUCGGUGGGAUCAAGUGAAAAAGGAGGACCAAGAGGCAACAGGUCCCAGGCUCAGCAGGGAGCUGCUGGAUGAGAAAGGGCCUGAAGUCUUGCAGGACUCACUGGAUAGAUGUUAUUCAACUCCUUCAGGUUAUCUUGAACUGACUGACUCAUGCCAGCCCUACAGAAGUGCCUUUUACAUAUUGGAGCAACAGCGUGUUGGCUGGGCUCUUGACAUGGAUGAAAUUGAAAAGUACCAAGAAGUGGAAGAAGACCAAGACCCAUCAUGCCCCAGGCUCAGCAGGGAGCUGCUGGAGGCAGUAGAGCCUGAAGUCUUGCAGGACUCACUGGAUAGAUGUUAUUCAACUCCUUCCAGUUGUCUUGAACAGCCUGACUCCUGCCUGCCCUAUGGAAGUUCCUUUUAUGCAUUGGAGGAAAAACAUGUUGGCUUUUCUCUUGACGUGGGAGAAAUUGAAAAGAAGGGGAAGGGGAAGAAAAGAAGGGGAAGAAGAUCAACGAAGAAAAGAAGGAGAAGGGGAAGAAAAGAAGGGGAAGAAGAUCAAAACCCACCAUGCCCCAGGCUCAGCGGCAUGCUGAUGGAAGUGGAAGAGCCUGAAGUCUUGCAGGACUCACUGGAUAGAUGUUAUUCGACUCCGUCAAUGUACUUUGAACUACCUGACUCAUUCCAGCACUACAGAAGUGUGUUUUACUCAUUUGAGGAACAGCACAUCAGCUUCGCCCUUGACGUGGACAAUAGGUUUCUUACUUUGAUGGGAACAAGUCUCCACCUGGUCUUCCAGAUGGGAGUCAUAUUCCCACAGUAA\n"
     ]
    }
   ],
   "source": [
    "# Method 3\n",
    "# Define a transcribe function\n",
    "\n",
    "def transcribe(seq):\n",
    "  return(seq.replace('T', 'U'))\n",
    "\n",
    "rna = transcribe(joined_exons)\n",
    "print('RNA: ', rna)"
   ]
  },
  {
   "cell_type": "markdown",
   "metadata": {},
   "source": [
    "## Translating DNA Genes into Proteins Using Dictionaries\n",
    "### Create a dictionary to contain the genetic code: codon to amino acid"
   ]
  },
  {
   "cell_type": "code",
   "execution_count": 26,
   "metadata": {},
   "outputs": [],
   "source": [
    "codon_dict = {\"AAA\":\"K\", \"AAC\":\"N\", \"AAG\":\"K\", \"AAU\":\"N\", \"ACA\":\"T\", \"ACC\":\"T\", \"ACG\":\"T\", \"ACU\":\"T\",\n",
    "              \"AGA\":\"R\", \"AGC\":\"S\", \"AGG\":\"R\", \"AGU\":\"S\", \"AUA\":\"I\", \"AUC\":\"I\", \"AUG\":\"M\", \"AUU\":\"I\",\n",
    "              \"CAA\":\"Q\", \"CAC\":\"H\", \"CAG\":\"Q\", \"CAU\":\"H\", \"CCA\":\"P\", \"CCC\":\"P\", \"CCG\":\"P\", \"CCU\":\"P\",\n",
    "              \"CGA\":\"R\", \"CGC\":\"R\", \"CGG\":\"R\", \"CGU\":\"R\", \"CUA\":\"L\", \"CUC\":\"L\", \"CUG\":\"L\", \"CUU\":\"L\",\n",
    "              \"GAA\":\"E\", \"GAC\":\"D\", \"GAG\":\"E\", \"GAU\":\"D\", \"GCA\":\"A\", \"GCC\":\"A\", \"GCG\":\"A\", \"GCU\":\"A\",\n",
    "              \"GGA\":\"G\", \"GGC\":\"G\", \"GGG\":\"G\", \"GGU\":\"G\", \"GUA\":\"V\", \"GUC\":\"V\", \"GUG\":\"V\", \"GUU\":\"V\",\n",
    "              \"UAA\":\"_\", \"UAC\":\"Y\", \"UAG\":\"_\", \"UAU\":\"T\", \"UCA\":\"S\", \"UCC\":\"S\", \"UCG\":\"S\", \"UCU\":\"S\",\n",
    "              \"UGA\":\"_\", \"UGC\":\"C\", \"UGG\":\"W\", \"UGU\":\"C\", \"UUA\":\"L\", \"UUC\":\"F\", \"UUG\":\"L\", \"UUU\":\"F\"}"
   ]
  },
  {
   "cell_type": "code",
   "execution_count": 27,
   "metadata": {},
   "outputs": [
    {
     "name": "stdout",
     "output_type": "stream",
     "text": [
      "AUGGUGGUA AUG GUG GUA\n"
     ]
    }
   ],
   "source": [
    "# Print the first codon and find out which amino acid it represents\n",
    "codon1 = rna[0:3]\n",
    "codon2 = rna[3:6]\n",
    "codon3 = rna[6:9]\n",
    "\n",
    "print(rna[0:9], codon1, codon2, codon3)"
   ]
  },
  {
   "cell_type": "code",
   "execution_count": 28,
   "metadata": {},
   "outputs": [
    {
     "name": "stdout",
     "output_type": "stream",
     "text": [
      "M V V\n"
     ]
    }
   ],
   "source": [
    "# Get the amino acids\n",
    "print(codon_dict.get(codon1), codon_dict.get(codon2), codon_dict.get(codon3))"
   ]
  },
  {
   "cell_type": "code",
   "execution_count": 29,
   "metadata": {},
   "outputs": [
    {
     "data": {
      "text/plain": [
       "'M'"
      ]
     },
     "execution_count": 29,
     "metadata": {},
     "output_type": "execute_result"
    }
   ],
   "source": [
    "codon_dict[rna[0:0+3]]"
   ]
  },
  {
   "cell_type": "code",
   "execution_count": 30,
   "metadata": {},
   "outputs": [
    {
     "data": {
      "text/plain": [
       "'MVVSAGPWSSEKAETNILEINEKLRPQLAENKQQFRNLKEKCFVTQLAGFLANRQKKYKTEECKDLIKFMLRNERQFKEEKLAEQLKQAEELRQTKVLVHSQERELTQLREKLREGRDASRSLNQHLQALLTPDKPDKSQGQDLQEQLAEGCRLAQQLFQKLSPENDEDEDEDVQVEEAEKVLESSAPREVQKAEESKVPEDSLEECAITCSNSHSPCDSNQPHKNINITFEEDKVNSTLVVDRESSHDECQDAVNILPVPGPTSSATNVSMVVSAGPLSSEKAEMNILEINEKLHPQLAEKKQQFRNLKEKCFVTQLACFLANQQNKYKTEECKDLIKSMLRNERQFKEEKLAEQLKQAEELRQTKVLVHSQERELTQLREKLREGRDASRSLNQHLQALLTPDKPDKSQGQDLQEQLAEGCRLAQQLFQKLSPENDEDEDEDVQVEEAEKVLESSAPREVQKAEESKVPEDSLEECAITCSNSHGPCDSNQPHKNINITFEEDKVNSALVVDRESSHDECQDAVNILPVPGPTSSATNVSMVVSAGPLSSEKAEMNILEINEKLHPQLAEKKQQFRNLKEKCFVTQLACFLANQQNKYKNEECKDLIKSMLRNERQFKEEKLAEQLKQAEELRQTKVLVHSQERELTQLREKLREGRDASCSLNQHLQALLTPDEPDKSQGQDLQEQLAEGCRLAQHLVQKLSPENDNDDDEDVQVEVAEKVQKSSAPREMPKAEEKEVPEDSLEECAITCSNSHGPTDSNQPHRKTKITFEEDKVDSTLIGSSSHVEWEDAVHIIPENESDDEEEEEKGPVSPRNLQESEEEEVPQESWDEGTSTLSIPPEMLASYKSYSGTFHSLEEQQVCMAVDIGGHRWDQVKKEDQEATGPRLSRELLDEKGPEVLQDSLDRCTSTPSGTLELTDSCQPYRSAFYILEQQRVGWALDMDEIEKYQEVEEDQDPSCPRLSRELLEAVEPEVLQDSLDRCTSTPSSCLEQPDSCLPTGSSFTALEEKHVGFSLDVGEIEKKGKGKKRRGRRSTKKRRRRGRKEGEEDQNPPCPRLSGMLMEVEEPEVLQDSLDRCTSTPSMYFELPDSFQHYRSVFYSFEEQHISFALDVDNRFLTLMGTSLHLVFQMGVIFPQ_'"
      ]
     },
     "execution_count": 30,
     "metadata": {},
     "output_type": "execute_result"
    }
   ],
   "source": [
    "# Write a loop to translate every codon to amino acid\n",
    "protein_seq = ''\n",
    "\n",
    "for n in range(0, len(rna), 3):\n",
    "  protein_seq += codon_dict[rna[n:n+3]]\n",
    "\n",
    "protein_seq\n"
   ]
  },
  {
   "cell_type": "markdown",
   "metadata": {},
   "source": [
    "### Exercise 17\n",
    "Convert the above to a `translate_rna` function."
   ]
  },
  {
   "cell_type": "code",
   "execution_count": 53,
   "metadata": {},
   "outputs": [
    {
     "data": {
      "text/plain": [
       "'MVVSAGPWSSEKAETNILEINEKLRPQLAENKQQFRNLKEKCFVTQLAGFLANRQKKYKTEECKDLIKFMLRNERQFKEEKLAEQLKQAEELRQTKVLVHSQERELTQLREKLREGRDASRSLNQHLQALLTPDKPDKSQGQDLQEQLAEGCRLAQQLFQKLSPENDEDEDEDVQVEEAEKVLESSAPREVQKAEESKVPEDSLEECAITCSNSHSPCDSNQPHKNINITFEEDKVNSTLVVDRESSHDECQDAVNILPVPGPTSSATNVSMVVSAGPLSSEKAEMNILEINEKLHPQLAEKKQQFRNLKEKCFVTQLACFLANQQNKYKTEECKDLIKSMLRNERQFKEEKLAEQLKQAEELRQTKVLVHSQERELTQLREKLREGRDASRSLNQHLQALLTPDKPDKSQGQDLQEQLAEGCRLAQQLFQKLSPENDEDEDEDVQVEEAEKVLESSAPREVQKAEESKVPEDSLEECAITCSNSHGPCDSNQPHKNINITFEEDKVNSALVVDRESSHDECQDAVNILPVPGPTSSATNVSMVVSAGPLSSEKAEMNILEINEKLHPQLAEKKQQFRNLKEKCFVTQLACFLANQQNKYKNEECKDLIKSMLRNERQFKEEKLAEQLKQAEELRQTKVLVHSQERELTQLREKLREGRDASCSLNQHLQALLTPDEPDKSQGQDLQEQLAEGCRLAQHLVQKLSPENDNDDDEDVQVEVAEKVQKSSAPREMPKAEEKEVPEDSLEECAITCSNSHGPTDSNQPHRKTKITFEEDKVDSTLIGSSSHVEWEDAVHIIPENESDDEEEEEKGPVSPRNLQESEEEEVPQESWDEGTSTLSIPPEMLASYKSYSGTFHSLEEQQVCMAVDIGGHRWDQVKKEDQEATGPRLSRELLDEKGPEVLQDSLDRCTSTPSGTLELTDSCQPYRSAFYILEQQRVGWALDMDEIEKYQEVEEDQDPSCPRLSRELLEAVEPEVLQDSLDRCTSTPSSCLEQPDSCLPTGSSFTALEEKHVGFSLDVGEIEKKGKGKKRRGRRSTKKRRRRGRKEGEEDQNPPCPRLSGMLMEVEEPEVLQDSLDRCTSTPSMYFELPDSFQHYRSVFYSFEEQHISFALDVDNRFLTLMGTSLHLVFQMGVIFPQ_'"
      ]
     },
     "execution_count": 53,
     "metadata": {},
     "output_type": "execute_result"
    }
   ],
   "source": [
    "def translate_rna(seq):\n",
    "\n",
    "  # Define dictionary for codons\n",
    "  codons = {\"AAA\":\"K\", \"AAC\":\"N\", \"AAG\":\"K\", \"AAU\":\"N\", \"ACA\":\"T\", \"ACC\":\"T\", \"ACG\":\"T\", \"ACU\":\"T\",\n",
    "            \"AGA\":\"R\", \"AGC\":\"S\", \"AGG\":\"R\", \"AGU\":\"S\", \"AUA\":\"I\", \"AUC\":\"I\", \"AUG\":\"M\", \"AUU\":\"I\",\n",
    "            \"CAA\":\"Q\", \"CAC\":\"H\", \"CAG\":\"Q\", \"CAU\":\"H\", \"CCA\":\"P\", \"CCC\":\"P\", \"CCG\":\"P\", \"CCU\":\"P\",\n",
    "            \"CGA\":\"R\", \"CGC\":\"R\", \"CGG\":\"R\", \"CGU\":\"R\", \"CUA\":\"L\", \"CUC\":\"L\", \"CUG\":\"L\", \"CUU\":\"L\",\n",
    "            \"GAA\":\"E\", \"GAC\":\"D\", \"GAG\":\"E\", \"GAU\":\"D\", \"GCA\":\"A\", \"GCC\":\"A\", \"GCG\":\"A\", \"GCU\":\"A\",\n",
    "            \"GGA\":\"G\", \"GGC\":\"G\", \"GGG\":\"G\", \"GGU\":\"G\", \"GUA\":\"V\", \"GUC\":\"V\", \"GUG\":\"V\", \"GUU\":\"V\",\n",
    "            \"UAA\":\"_\", \"UAC\":\"Y\", \"UAG\":\"_\", \"UAU\":\"T\", \"UCA\":\"S\", \"UCC\":\"S\", \"UCG\":\"S\", \"UCU\":\"S\",\n",
    "            \"UGA\":\"_\", \"UGC\":\"C\", \"UGG\":\"W\", \"UGU\":\"C\", \"UUA\":\"L\", \"UUC\":\"F\", \"UUG\":\"L\", \"UUU\":\"F\"}\n",
    "  # Create protein string\n",
    "  protein = ''\n",
    "  # Translate RNA to protein\n",
    "  for n in range(0, len(seq), 3):\n",
    "    protein += codons[seq[n:n+3]]\n",
    "\n",
    "  return(protein)\n",
    "\n",
    "translate_rna(rna)"
   ]
  }
 ],
 "metadata": {
  "interpreter": {
   "hash": "d520430c2800864d2d9a676ca8b1a29cac6e30dcf7665bdb307da338cbe83825"
  },
  "kernelspec": {
   "display_name": "Python 3",
   "language": "python",
   "name": "python3"
  },
  "language_info": {
   "codemirror_mode": {
    "name": "ipython",
    "version": 3
   },
   "file_extension": ".py",
   "mimetype": "text/x-python",
   "name": "python",
   "nbconvert_exporter": "python",
   "pygments_lexer": "ipython3",
   "version": "3.10.0"
  },
  "latex_envs": {
   "LaTeX_envs_menu_present": true,
   "autoclose": false,
   "autocomplete": true,
   "bibliofile": "biblio.bib",
   "cite_by": "apalike",
   "current_citInitial": 1,
   "eqLabelWithNumbers": true,
   "eqNumInitial": 1,
   "hotkeys": {
    "equation": "Ctrl-E",
    "itemize": "Ctrl-I"
   },
   "labels_anchors": false,
   "latex_user_defs": false,
   "report_style_numbering": false,
   "user_envs_cfg": false
  },
  "toc": {
   "base_numbering": 1,
   "nav_menu": {},
   "number_sections": true,
   "sideBar": true,
   "skip_h1_title": false,
   "title_cell": "Table of Contents",
   "title_sidebar": "Contents",
   "toc_cell": false,
   "toc_position": {},
   "toc_section_display": true,
   "toc_window_display": false
  },
  "varInspector": {
   "cols": {
    "lenName": 16,
    "lenType": 16,
    "lenVar": 40
   },
   "kernels_config": {
    "python": {
     "delete_cmd_postfix": "",
     "delete_cmd_prefix": "del ",
     "library": "var_list.py",
     "varRefreshCmd": "print(var_dic_list())"
    },
    "r": {
     "delete_cmd_postfix": ") ",
     "delete_cmd_prefix": "rm(",
     "library": "var_list.r",
     "varRefreshCmd": "cat(var_dic_list()) "
    }
   },
   "types_to_exclude": [
    "module",
    "function",
    "builtin_function_or_method",
    "instance",
    "_Feature"
   ],
   "window_display": false
  }
 },
 "nbformat": 4,
 "nbformat_minor": 2
}
