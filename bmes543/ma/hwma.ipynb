{
 "cells": [
  {
   "cell_type": "markdown",
   "metadata": {},
   "source": [
    "# Effects of Clioquinol on Yeast\n",
    "\n",
    "**Author:** [Tony Kabilan Okeke](mailto:tko35@drexel.edu)  \n",
    "**Date:**   04.17.2022"
   ]
  },
  {
   "cell_type": "markdown",
   "metadata": {},
   "source": [
    "Analyze the microarray dataset made available by the following study: [*\"The metal chelating and chaperoning effects of clioquinol: insights from yeast studies\"*](https://sacan.biomed.drexel.edu/lib/exe/fetch.php?rev=&media=course:qsb:ma:clioquinol.yeast.Li2010.pdf).\n",
    "\n",
    "The microarray data is available [here](https://www.ncbi.nlm.nih.gov/geo/query/acc.cgi?acc=GSE17257).\n",
    "\n",
    "- Show a hierarchical clustering of samples. (Just a hierarchical clustering (ie a dendrogram) of samples, not a heatmap of expression values).\n",
    "- Show a clustergram (heatmap, combined with clustering of samples and clustering of genes) of expression values.\n",
    "- Report the top 10 most different genes between the Clioquinol and control groups.\n",
    "- Report the functional annotations (GO Biological Processes and KEGG Pathways) that are significantly different between the two groups.\n",
    "- Discuss whether your results align with the findings reported in the paper.\n",
    "- 5% of your grade is for optimizing download & parse functions."
   ]
  },
  {
   "cell_type": "code",
   "execution_count": 1,
   "metadata": {},
   "outputs": [],
   "source": [
    "%load_ext autoreload"
   ]
  },
  {
   "cell_type": "code",
   "execution_count": 2,
   "metadata": {},
   "outputs": [],
   "source": [
    "# Imports\n",
    "%autoreload 2\n",
    "import matplotlib as mpl\n",
    "import seaborn as sns\n",
    "import pandas as pd\n",
    "import numpy as np\n",
    "import re, math, rich, tools\n",
    "from statsmodels.stats import multitest\n",
    "from scipy.cluster import hierarchy\n",
    "from scipy.spatial import distance\n",
    "from scipy import stats"
   ]
  },
  {
   "cell_type": "code",
   "execution_count": 3,
   "metadata": {},
   "outputs": [
    {
     "name": "stdout",
     "output_type": "stream",
     "text": [
      "Loading cached data...\n",
      "Loading cached data...\n"
     ]
    },
    {
     "data": {
      "text/html": [
       "<div>\n",
       "<style scoped>\n",
       "    .dataframe tbody tr th:only-of-type {\n",
       "        vertical-align: middle;\n",
       "    }\n",
       "\n",
       "    .dataframe tbody tr th {\n",
       "        vertical-align: top;\n",
       "    }\n",
       "\n",
       "    .dataframe thead tr th {\n",
       "        text-align: left;\n",
       "    }\n",
       "\n",
       "    .dataframe thead tr:last-of-type th {\n",
       "        text-align: right;\n",
       "    }\n",
       "</style>\n",
       "<table border=\"1\" class=\"dataframe\">\n",
       "  <thead>\n",
       "    <tr>\n",
       "      <th></th>\n",
       "      <th></th>\n",
       "      <th>GSM432203</th>\n",
       "      <th>GSM432204</th>\n",
       "      <th>GSM432205</th>\n",
       "      <th>GSM432206</th>\n",
       "      <th>GSM432207</th>\n",
       "      <th>GSM432208</th>\n",
       "    </tr>\n",
       "    <tr>\n",
       "      <th></th>\n",
       "      <th></th>\n",
       "      <th>Control</th>\n",
       "      <th>Control</th>\n",
       "      <th>Control</th>\n",
       "      <th>Clioquinol</th>\n",
       "      <th>Clioquinol</th>\n",
       "      <th>Clioquinol</th>\n",
       "    </tr>\n",
       "    <tr>\n",
       "      <th>ID</th>\n",
       "      <th>Gene</th>\n",
       "      <th></th>\n",
       "      <th></th>\n",
       "      <th></th>\n",
       "      <th></th>\n",
       "      <th></th>\n",
       "      <th></th>\n",
       "    </tr>\n",
       "  </thead>\n",
       "  <tbody>\n",
       "    <tr>\n",
       "      <th>AFFX-BioB-5_at</th>\n",
       "      <th>NaN</th>\n",
       "      <td>212.502</td>\n",
       "      <td>414.776</td>\n",
       "      <td>383.139</td>\n",
       "      <td>351.550</td>\n",
       "      <td>893.897</td>\n",
       "      <td>476.621</td>\n",
       "    </tr>\n",
       "    <tr>\n",
       "      <th>AFFX-BioB-M_at</th>\n",
       "      <th>NaN</th>\n",
       "      <td>237.005</td>\n",
       "      <td>469.306</td>\n",
       "      <td>473.493</td>\n",
       "      <td>407.539</td>\n",
       "      <td>1056.330</td>\n",
       "      <td>511.049</td>\n",
       "    </tr>\n",
       "    <tr>\n",
       "      <th>AFFX-BioB-3_at</th>\n",
       "      <th>NaN</th>\n",
       "      <td>216.365</td>\n",
       "      <td>463.476</td>\n",
       "      <td>466.453</td>\n",
       "      <td>385.204</td>\n",
       "      <td>1055.990</td>\n",
       "      <td>493.247</td>\n",
       "    </tr>\n",
       "    <tr>\n",
       "      <th>AFFX-BioC-5_at</th>\n",
       "      <th>NaN</th>\n",
       "      <td>336.581</td>\n",
       "      <td>731.790</td>\n",
       "      <td>716.848</td>\n",
       "      <td>647.458</td>\n",
       "      <td>1672.720</td>\n",
       "      <td>837.061</td>\n",
       "    </tr>\n",
       "    <tr>\n",
       "      <th>AFFX-BioC-3_at</th>\n",
       "      <th>NaN</th>\n",
       "      <td>575.513</td>\n",
       "      <td>1099.120</td>\n",
       "      <td>1117.000</td>\n",
       "      <td>1003.060</td>\n",
       "      <td>2141.200</td>\n",
       "      <td>1275.160</td>\n",
       "    </tr>\n",
       "  </tbody>\n",
       "</table>\n",
       "</div>"
      ],
      "text/plain": [
       "                    GSM432203 GSM432204 GSM432205  GSM432206  GSM432207  \\\n",
       "                      Control   Control   Control Clioquinol Clioquinol   \n",
       "ID             Gene                                                       \n",
       "AFFX-BioB-5_at NaN    212.502   414.776   383.139    351.550    893.897   \n",
       "AFFX-BioB-M_at NaN    237.005   469.306   473.493    407.539   1056.330   \n",
       "AFFX-BioB-3_at NaN    216.365   463.476   466.453    385.204   1055.990   \n",
       "AFFX-BioC-5_at NaN    336.581   731.790   716.848    647.458   1672.720   \n",
       "AFFX-BioC-3_at NaN    575.513  1099.120  1117.000   1003.060   2141.200   \n",
       "\n",
       "                     GSM432208  \n",
       "                    Clioquinol  \n",
       "ID             Gene             \n",
       "AFFX-BioB-5_at NaN     476.621  \n",
       "AFFX-BioB-M_at NaN     511.049  \n",
       "AFFX-BioB-3_at NaN     493.247  \n",
       "AFFX-BioC-5_at NaN     837.061  \n",
       "AFFX-BioC-3_at NaN    1275.160  "
      ]
     },
     "execution_count": 3,
     "metadata": {},
     "output_type": "execute_result"
    }
   ],
   "source": [
    "# Download and parse GSE and GPL data\n",
    "gse = tools.geodlparse('GSE17257')\n",
    "gpl = tools.geodlparse(*gse.metadata['platform_id'])\n",
    "\n",
    "# Prepare dataframe with expression values\n",
    "gse_data = pd.concat(\n",
    "    [ gsm.table.set_index('ID_REF')['VALUE'] for _,gsm in gse.gsms.items() ],\n",
    "    axis=1\n",
    ").set_axis([ x for x,_ in gse.gsms.items() ], axis=1, inplace=False)\n",
    "\n",
    "# Merge gse data with genes from the GPL\n",
    "gse_data = gse_data \\\n",
    "    .merge(gpl.table[['ID', 'Gene Symbol']], how='left', \n",
    "           left_index=True, right_on='ID') \\\n",
    "    .rename({'ID_REF': 'ID', 'Gene Symbol': 'Gene'}, axis=1) \\\n",
    "    .set_index(['ID', 'Gene']) \\\n",
    "    .sort_index(axis=1)\n",
    "\n",
    "# Label columns as 'Control' or 'Clioquinol'\n",
    "columns = gse.phenotype_data['title'] \\\n",
    "    .apply(lambda x: re.search(r'DMSO|CQ', x)[0]) \\\n",
    "    .replace({'DMSO': 'Control', 'CQ': 'Clioquinol'}) \\\n",
    "    .sort_index().reset_index()\n",
    "gse_data.columns = [columns['index'].values, columns['title'].values]\n",
    "\n",
    "gse_data.head()"
   ]
  },
  {
   "cell_type": "markdown",
   "metadata": {},
   "source": [
    "### Hierarchical Clustering of Samples"
   ]
  },
  {
   "cell_type": "code",
   "execution_count": 4,
   "metadata": {},
   "outputs": [],
   "source": [
    "# Filter out genes based on variance (keep the 90% percentile)\n",
    "# This data will be used for clustering to save time.\n",
    "gse_vars = gse_data.var(axis=1)\n",
    "sorted_vars = np.sort( gse_vars.values )\n",
    "min_var = sorted_vars[ math.floor(sorted_vars.size * .99) ]\n",
    "gse_filt = gse_data.drop( gse_data[ gse_vars < min_var ].index, axis=0 )"
   ]
  },
  {
   "cell_type": "code",
   "execution_count": 5,
   "metadata": {},
   "outputs": [
    {
     "data": {
      "image/png": "[encoded data removed]",
      "text/plain": [
       "<Figure size 432x288 with 1 Axes>"
      ]
     },
     "metadata": {
      "needs_background": "light"
     },
     "output_type": "display_data"
    }
   ],
   "source": [
    "# Compute distance matrix\n",
    "dist = distance.pdist(gse_filt.transpose(), metric='euclidean')\n",
    "# Perform hierarchical clustering\n",
    "phy = hierarchy.linkage(dist, method='ward', metric='euclidean')\n",
    "# Plot dendrogram\n",
    "with mpl.rc_context({'figure.figsize': (6, 4)}):\n",
    "    hierarchy.dendrogram(\n",
    "        phy, orientation='left', distance_sort='descending',\n",
    "        labels=[f'{x} ({y})' for x,y in gse_filt.columns.to_flat_index()]\n",
    "    )"
   ]
  },
  {
   "cell_type": "markdown",
   "metadata": {},
   "source": [
    "### Clustergram"
   ]
  },
  {
   "cell_type": "code",
   "execution_count": 6,
   "metadata": {},
   "outputs": [
    {
     "data": {
      "image/png": "[encoded data removed]",
      "text/plain": [
       "<Figure size 648x720 with 4 Axes>"
      ]
     },
     "metadata": {
      "needs_background": "light"
     },
     "output_type": "display_data"
    }
   ],
   "source": [
    "# Create clustergram\n",
    "fig = sns.clustermap(gse_filt.droplevel(0), method='ward', metric='euclidean',\n",
    "                     cmap='afmhot', figsize=(9,10), dendrogram_ratio=.2)\n",
    "## Set axis labels and tick labels\n",
    "fig.ax_heatmap.set_xlabel('Sample', fontsize=12)\n",
    "fig.ax_heatmap.set_ylabel('Gene', fontsize=12)\n",
    "fig.ax_heatmap.set_xticklabels(\n",
    "    [f'{y}\\n({x})' for x,y in gse_filt.columns.to_flat_index()],\n",
    "    rotation=0, fontsize=10\n",
    ");"
   ]
  },
  {
   "cell_type": "markdown",
   "metadata": {},
   "source": [
    "### Differentially Expressed Genes\n",
    "\n",
    "The top 10 different genes will be selected from genes with high fold changes\n",
    "(> 1.5, up or down-regulated), ordered by the adjusted p-values."
   ]
  },
  {
   "cell_type": "code",
   "execution_count": 7,
   "metadata": {},
   "outputs": [
    {
     "data": {
      "text/html": [
       "<pre style=\"white-space:pre;overflow-x:auto;line-height:normal;font-family:Menlo,'DejaVu Sans Mono',consolas,'Courier New',monospace\"><span style=\"font-weight: bold\">Top </span><span style=\"color: #008080; text-decoration-color: #008080; font-weight: bold\">10</span><span style=\"font-weight: bold\"> Most Different Genes Between Clioquinol and Control Groups</span>\n",
       "</pre>\n"
      ],
      "text/plain": [
       "\u001b[1mTop \u001b[0m\u001b[1;36m10\u001b[0m\u001b[1m Most Different Genes Between Clioquinol and Control Groups\u001b[0m\n"
      ]
     },
     "metadata": {},
     "output_type": "display_data"
    },
    {
     "data": {
      "text/html": [
       "<div>\n",
       "<style scoped>\n",
       "    .dataframe tbody tr th:only-of-type {\n",
       "        vertical-align: middle;\n",
       "    }\n",
       "\n",
       "    .dataframe tbody tr th {\n",
       "        vertical-align: top;\n",
       "    }\n",
       "\n",
       "    .dataframe thead th {\n",
       "        text-align: right;\n",
       "    }\n",
       "</style>\n",
       "<table border=\"1\" class=\"dataframe\">\n",
       "  <thead>\n",
       "    <tr style=\"text-align: right;\">\n",
       "      <th></th>\n",
       "      <th>Gene</th>\n",
       "      <th>signed_FC</th>\n",
       "      <th>pvalue</th>\n",
       "      <th>adj_pvalue</th>\n",
       "    </tr>\n",
       "  </thead>\n",
       "  <tbody>\n",
       "    <tr>\n",
       "      <th>0</th>\n",
       "      <td>GDE1</td>\n",
       "      <td>4.518178</td>\n",
       "      <td>1.851874e-08</td>\n",
       "      <td>0.000141</td>\n",
       "    </tr>\n",
       "    <tr>\n",
       "      <th>1</th>\n",
       "      <td>ZPS1</td>\n",
       "      <td>22.450493</td>\n",
       "      <td>5.477797e-08</td>\n",
       "      <td>0.000150</td>\n",
       "    </tr>\n",
       "    <tr>\n",
       "      <th>2</th>\n",
       "      <td>NHA1</td>\n",
       "      <td>3.510948</td>\n",
       "      <td>5.420390e-08</td>\n",
       "      <td>0.000150</td>\n",
       "    </tr>\n",
       "    <tr>\n",
       "      <th>3</th>\n",
       "      <td>KIN3</td>\n",
       "      <td>-2.904634</td>\n",
       "      <td>1.082083e-07</td>\n",
       "      <td>0.000227</td>\n",
       "    </tr>\n",
       "    <tr>\n",
       "      <th>4</th>\n",
       "      <td>STT4</td>\n",
       "      <td>2.612336</td>\n",
       "      <td>1.773988e-07</td>\n",
       "      <td>0.000277</td>\n",
       "    </tr>\n",
       "    <tr>\n",
       "      <th>5</th>\n",
       "      <td>SOG2</td>\n",
       "      <td>2.778441</td>\n",
       "      <td>2.520131e-07</td>\n",
       "      <td>0.000344</td>\n",
       "    </tr>\n",
       "    <tr>\n",
       "      <th>6</th>\n",
       "      <td>RPC40</td>\n",
       "      <td>-3.450987</td>\n",
       "      <td>2.987672e-07</td>\n",
       "      <td>0.000363</td>\n",
       "    </tr>\n",
       "    <tr>\n",
       "      <th>7</th>\n",
       "      <td>SDP1</td>\n",
       "      <td>-2.735229</td>\n",
       "      <td>4.745902e-07</td>\n",
       "      <td>0.000422</td>\n",
       "    </tr>\n",
       "    <tr>\n",
       "      <th>8</th>\n",
       "      <td>TUL1</td>\n",
       "      <td>2.056774</td>\n",
       "      <td>4.739991e-07</td>\n",
       "      <td>0.000422</td>\n",
       "    </tr>\n",
       "    <tr>\n",
       "      <th>9</th>\n",
       "      <td>DFG5</td>\n",
       "      <td>3.548155</td>\n",
       "      <td>4.738792e-07</td>\n",
       "      <td>0.000422</td>\n",
       "    </tr>\n",
       "  </tbody>\n",
       "</table>\n",
       "</div>"
      ],
      "text/plain": [
       "    Gene  signed_FC        pvalue  adj_pvalue\n",
       "0   GDE1   4.518178  1.851874e-08    0.000141\n",
       "1   ZPS1  22.450493  5.477797e-08    0.000150\n",
       "2   NHA1   3.510948  5.420390e-08    0.000150\n",
       "3   KIN3  -2.904634  1.082083e-07    0.000227\n",
       "4   STT4   2.612336  1.773988e-07    0.000277\n",
       "5   SOG2   2.778441  2.520131e-07    0.000344\n",
       "6  RPC40  -3.450987  2.987672e-07    0.000363\n",
       "7   SDP1  -2.735229  4.745902e-07    0.000422\n",
       "8   TUL1   2.056774  4.739991e-07    0.000422\n",
       "9   DFG5   3.548155  4.738792e-07    0.000422"
      ]
     },
     "execution_count": 7,
     "metadata": {},
     "output_type": "execute_result"
    }
   ],
   "source": [
    "# Compute the (signed) fold change (Clioquinol / Control)\n",
    "deg = gse_data.groupby(lambda x: x[1], axis=1).mean()\n",
    "signed_FC = (deg['Clioquinol'] / deg['Control']).values\n",
    "deg['signed_FC'] = np.where(signed_FC < 1, -1/signed_FC, signed_FC)\n",
    "\n",
    "# Compute p-values\n",
    "deg['pvalue'] = stats.ttest_ind(\n",
    "    gse_data.loc[:, gse_data.columns.get_level_values(1) == 'Clioquinol'].values,\n",
    "    gse_data.loc[:, gse_data.columns.get_level_values(1) == 'Control'].values,\n",
    "    axis=1\n",
    ").pvalue\n",
    "# Benjamini-Hochberg FDR Correction\n",
    "deg['adj_pvalue'] = multitest.fdrcorrection(deg['pvalue'])[1]\n",
    "\n",
    "# Remove any probes with no Gene symbols mapped\n",
    "deg = deg.iloc[:, 2:].reset_index().dropna(subset='Gene')\n",
    "# Select most different genes\n",
    "deg = deg[ (deg['adj_pvalue'] < .01) & (abs(deg['signed_FC']) > 1.5) ]\n",
    "\n",
    "# Sort genes by pvalues and  Fold Change\n",
    "deg = deg \\\n",
    "    .sort_values('signed_FC', key=abs, ascending=False) \\\n",
    "    .sort_values('adj_pvalue') \\\n",
    "    .reset_index(drop=True)\n",
    "\n",
    "# Report the top 10 most different genes between the Clioquinol and control groups\n",
    "rich.print(f\"[bold]Top 10 Most Different Genes Between Clioquinol and Control Groups[/bold]\")\n",
    "deg.iloc[:10, 1:]"
   ]
  },
  {
   "cell_type": "markdown",
   "metadata": {},
   "source": [
    "### Functional Annotations of Differentially Expressed Genes\n",
    "\n",
    "Functional Annotation analysis was performed using *DAVID Functional Annotation Tool*.  \n",
    "The results were downloaded to the following files: `'DAVID_BP.txt'`, `'DAVID_KEGG.txt'`.  \n",
    "The top results returned by DAVID are shown below.\n",
    "\n",
    "#### Gene Ontology Biological Processes\n",
    "\n",
    "![Gene Ontology Biological Processes](DAVID_BP.jpg)\n",
    "\n",
    "\n",
    "#### KEGG Pathways\n",
    "\n",
    "![KEGG Pathways](DAVID_KEGG.jpg)"
   ]
  },
  {
   "cell_type": "markdown",
   "metadata": {},
   "source": [
    "### Comparison with Results from *Li, C., Wang, J., & Zhou, B. (2010)*\n",
    "\n",
    "* The study found 448 downregulated genes and 600 upregulated genes (2-fold change).\n",
    "* In my analysis, I found 569 significantly downregulated genes and 527 upregulated genes."
   ]
  },
  {
   "cell_type": "code",
   "execution_count": 8,
   "metadata": {},
   "outputs": [
    {
     "name": "stdout",
     "output_type": "stream",
     "text": [
      "569 Downregulated Genes\n",
      "527 Upregulated Genes\n"
     ]
    }
   ],
   "source": [
    "print(f\"{(deg['signed_FC'] < 0).sum()} Downregulated Genes\",\n",
    "      f\"{(deg['signed_FC'] > 0).sum()} Upregulated Genes\", sep='\\n')"
   ]
  },
  {
   "cell_type": "markdown",
   "metadata": {},
   "source": [
    "* The upregulation of 19 transporters (or corresponding regulators) of transition metal ions in\n",
    "the Clioquinol treated samples was of particular interest in the study.\n",
    "* In my analysis, 12 of the 19 genes reported were found to be significantly (pvalue < 0.01) upregulated.\n",
    "  * The fold-change values I computed were within an acceptable margin of error of the values\n",
    "    reported in the study.\n",
    "  * The output of the following code block shows the transporter genes found and their Fold changes"
   ]
  },
  {
   "cell_type": "code",
   "execution_count": 9,
   "metadata": {},
   "outputs": [
    {
     "data": {
      "text/html": [
       "<div>\n",
       "<style scoped>\n",
       "    .dataframe tbody tr th:only-of-type {\n",
       "        vertical-align: middle;\n",
       "    }\n",
       "\n",
       "    .dataframe tbody tr th {\n",
       "        vertical-align: top;\n",
       "    }\n",
       "\n",
       "    .dataframe thead th {\n",
       "        text-align: right;\n",
       "    }\n",
       "</style>\n",
       "<table border=\"1\" class=\"dataframe\">\n",
       "  <thead>\n",
       "    <tr style=\"text-align: right;\">\n",
       "      <th></th>\n",
       "      <th>Gene</th>\n",
       "      <th>signed_FC</th>\n",
       "    </tr>\n",
       "  </thead>\n",
       "  <tbody>\n",
       "    <tr>\n",
       "      <th>0</th>\n",
       "      <td>ZPS1</td>\n",
       "      <td>22.450493</td>\n",
       "    </tr>\n",
       "    <tr>\n",
       "      <th>1</th>\n",
       "      <td>ZRT1</td>\n",
       "      <td>2.215286</td>\n",
       "    </tr>\n",
       "    <tr>\n",
       "      <th>2</th>\n",
       "      <td>ZRT3</td>\n",
       "      <td>2.791968</td>\n",
       "    </tr>\n",
       "    <tr>\n",
       "      <th>3</th>\n",
       "      <td>FET3</td>\n",
       "      <td>4.370772</td>\n",
       "    </tr>\n",
       "    <tr>\n",
       "      <th>4</th>\n",
       "      <td>PCA1</td>\n",
       "      <td>3.215591</td>\n",
       "    </tr>\n",
       "    <tr>\n",
       "      <th>5</th>\n",
       "      <td>SMF3</td>\n",
       "      <td>1.963703</td>\n",
       "    </tr>\n",
       "    <tr>\n",
       "      <th>6</th>\n",
       "      <td>ENB1</td>\n",
       "      <td>3.073379</td>\n",
       "    </tr>\n",
       "    <tr>\n",
       "      <th>7</th>\n",
       "      <td>ZAP1</td>\n",
       "      <td>6.882041</td>\n",
       "    </tr>\n",
       "    <tr>\n",
       "      <th>8</th>\n",
       "      <td>SMF1</td>\n",
       "      <td>1.974717</td>\n",
       "    </tr>\n",
       "    <tr>\n",
       "      <th>9</th>\n",
       "      <td>FRE3</td>\n",
       "      <td>2.413438</td>\n",
       "    </tr>\n",
       "    <tr>\n",
       "      <th>10</th>\n",
       "      <td>CTR2</td>\n",
       "      <td>1.898063</td>\n",
       "    </tr>\n",
       "    <tr>\n",
       "      <th>11</th>\n",
       "      <td>ARN1</td>\n",
       "      <td>6.454200</td>\n",
       "    </tr>\n",
       "  </tbody>\n",
       "</table>\n",
       "</div>"
      ],
      "text/plain": [
       "    Gene  signed_FC\n",
       "0   ZPS1  22.450493\n",
       "1   ZRT1   2.215286\n",
       "2   ZRT3   2.791968\n",
       "3   FET3   4.370772\n",
       "4   PCA1   3.215591\n",
       "5   SMF3   1.963703\n",
       "6   ENB1   3.073379\n",
       "7   ZAP1   6.882041\n",
       "8   SMF1   1.974717\n",
       "9   FRE3   2.413438\n",
       "10  CTR2   1.898063\n",
       "11  ARN1   6.454200"
      ]
     },
     "execution_count": 9,
     "metadata": {},
     "output_type": "execute_result"
    }
   ],
   "source": [
    "study_genes = ['CTR1', 'CTR2', 'FRE1', 'FRE2', 'FRE3', 'FRE5', 'FRE7', \n",
    "             'FTR1', 'FET3', 'ENB1', 'ARN1', 'VEL1', 'ZAP1', 'ZPS1', \n",
    "             'ZRT1', 'ZRT3', 'PCA1', 'SMF1', 'SMF3']\n",
    "deg[deg.Gene.isin(study_genes)].reset_index(drop=True)[['Gene', 'signed_FC']]"
   ]
  },
  {
   "cell_type": "markdown",
   "metadata": {},
   "source": [
    "* The differences between the findings reported in the paper and the my results are likely due to the difference in the amount of genes included in the analyses.\n",
    "  * In the study, only genes with positive signals (significant detection p-values) were used.  \n",
    "    As such, only 2729 genes (probes) were included in their analysis.\n",
    "  * However, in my analysis, all 10928 genes (probes) on the microarray were included.  \n",
    "    \n",
    "The inclusion of potentially less reliable signals (high detection p-values) is the most likely\n",
    "cause of the discrepancies between our results."
   ]
  }
 ],
 "metadata": {
  "interpreter": {
   "hash": "67e0f964b3466f5738b0815e7d98ae8f0b358b23e82348a28e5ef609e7edb7a9"
  },
  "kernelspec": {
   "display_name": "py-env",
   "language": "python",
   "name": "py-env"
  },
  "language_info": {
   "codemirror_mode": {
    "name": "ipython",
    "version": 3
   },
   "file_extension": ".py",
   "mimetype": "text/x-python",
   "name": "python",
   "nbconvert_exporter": "python",
   "pygments_lexer": "ipython3",
   "version": "3.9.12"
  },
  "orig_nbformat": 4
 },
 "nbformat": 4,
 "nbformat_minor": 2
}
