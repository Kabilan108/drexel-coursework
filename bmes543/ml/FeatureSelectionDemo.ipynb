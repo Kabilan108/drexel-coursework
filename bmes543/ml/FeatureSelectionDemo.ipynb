{
 "cells": [
  {
   "cell_type": "markdown",
   "metadata": {},
   "source": [
    "## Feature Selection Demo Using `scikit-learn`\n",
    "### PIMA Indians Diabetes Dataset\n",
    "\n",
    "In this tutorial, I will use the *\"PIMA Indians Diabetes\"* dataset, where all\n",
    "patients are females at least 21 years old of Pima Indian heritage.\n",
    "\n",
    "The classification task is to predict whether an individual has diabetes from\n",
    "the following features:\n",
    "\n",
    "1. *Pregnancies* - Number of times pregnant\n",
    "2. *Glucose* - Plasma glucose concentration at 2 hours in an oral glucose tolerance test\n",
    "3. *Blood Pressure* - Diastolic blood pressure (mmHg)\n",
    "4. *Skin Thickness* - Triceps skin fold thickness (mm)\n",
    "5. *Insulin* - 2-hour serun insulin (mu U/ml)\n",
    "6. *BMI* - Body mass index (weight in kg/(height in m)^2)\n",
    "7. *Diabetes Pedigree Function*\n",
    "8. *Age* (years)\n",
    "9. *Outcome* - Class variable (0 or 1)"
   ]
  },
  {
   "cell_type": "markdown",
   "metadata": {},
   "source": [
    "### Utility Functions & Imports"
   ]
  },
  {
   "cell_type": "code",
   "execution_count": 5,
   "metadata": {},
   "outputs": [
    {
     "name": "stdout",
     "output_type": "stream",
     "text": [
      "The autoreload extension is already loaded. To reload it, use:\n",
      "  %reload_ext autoreload\n"
     ]
    }
   ],
   "source": [
    "%matplotlib inline\n",
    "%load_ext autoreload\n",
    "%autoreload 2\n",
    "\n",
    "from sklearn.discriminant_analysis import QuadraticDiscriminantAnalysis\n",
    "from sklearn.model_selection import cross_val_score\n",
    "from sklearn.tree import DecisionTreeClassifier\n",
    "from sklearn.svm import SVC\n",
    "from itertools import islice\n",
    "from ToolBox import utils\n",
    "import pandas as pd\n",
    "import numpy as np\n",
    "import sys\n",
    "import os\n",
    "\n",
    "def crossvalidate(classifier, X, y):\n",
    "    # Perform four-fold cross-validation of the method\n",
    "    scores = cross_val_score(classifier, X, y, cv=4, n_jobs=-1)\n",
    "    print(f\"--- 4-Fold Cross-Validation Accuracy: {scores.mean()*100:.1f}% (+/-{scores.std()*100:.1f})\")\n",
    "\n",
    "classifier = SVC(kernel='linear')"
   ]
  },
  {
   "cell_type": "markdown",
   "metadata": {},
   "source": [
    "### Download Data File(s)"
   ]
  },
  {
   "cell_type": "code",
   "execution_count": 6,
   "metadata": {},
   "outputs": [
    {
     "name": "stdout",
     "output_type": "stream",
     "text": [
      "--- First 5 lines of data file:\n",
      "6,148,72,35,0,33.6,0.627,50,1\n",
      "1,85,66,29,0,26.6,0.351,31,0\n",
      "8,183,64,0,0,23.3,0.672,32,1\n",
      "1,89,66,23,94,28.1,0.167,21,0\n",
      "0,137,40,35,168,43.1,2.288,33,1\n"
     ]
    }
   ],
   "source": [
    "path = '/mnt/e/data/temp/pima-indians-diabetes.data'\n",
    "utils.download('https://raw.githubusercontent.com/jbrownlee/Datasets/master/pima-indians-diabetes.data.csv', path)\n",
    "print('--- First 5 lines of data file:')\n",
    "utils.io_head(path, 5)"
   ]
  },
  {
   "cell_type": "markdown",
   "metadata": {},
   "source": [
    "### Load Data"
   ]
  },
  {
   "cell_type": "code",
   "execution_count": 7,
   "metadata": {},
   "outputs": [
    {
     "name": "stdout",
     "output_type": "stream",
     "text": [
      "--- First 5 rows of data:\n"
     ]
    },
    {
     "data": {
      "text/html": [
       "<div>\n",
       "<style scoped>\n",
       "    .dataframe tbody tr th:only-of-type {\n",
       "        vertical-align: middle;\n",
       "    }\n",
       "\n",
       "    .dataframe tbody tr th {\n",
       "        vertical-align: top;\n",
       "    }\n",
       "\n",
       "    .dataframe thead th {\n",
       "        text-align: right;\n",
       "    }\n",
       "</style>\n",
       "<table border=\"1\" class=\"dataframe\">\n",
       "  <thead>\n",
       "    <tr style=\"text-align: right;\">\n",
       "      <th></th>\n",
       "      <th>numpregnancies</th>\n",
       "      <th>glucose</th>\n",
       "      <th>diastolic</th>\n",
       "      <th>tricepskin</th>\n",
       "      <th>insulin</th>\n",
       "      <th>bmi</th>\n",
       "      <th>pedigree</th>\n",
       "      <th>age</th>\n",
       "      <th>hasdiabetes</th>\n",
       "    </tr>\n",
       "  </thead>\n",
       "  <tbody>\n",
       "    <tr>\n",
       "      <th>0</th>\n",
       "      <td>6</td>\n",
       "      <td>148</td>\n",
       "      <td>72</td>\n",
       "      <td>35</td>\n",
       "      <td>0</td>\n",
       "      <td>33.6</td>\n",
       "      <td>0.627</td>\n",
       "      <td>50</td>\n",
       "      <td>1</td>\n",
       "    </tr>\n",
       "    <tr>\n",
       "      <th>1</th>\n",
       "      <td>1</td>\n",
       "      <td>85</td>\n",
       "      <td>66</td>\n",
       "      <td>29</td>\n",
       "      <td>0</td>\n",
       "      <td>26.6</td>\n",
       "      <td>0.351</td>\n",
       "      <td>31</td>\n",
       "      <td>0</td>\n",
       "    </tr>\n",
       "    <tr>\n",
       "      <th>2</th>\n",
       "      <td>8</td>\n",
       "      <td>183</td>\n",
       "      <td>64</td>\n",
       "      <td>0</td>\n",
       "      <td>0</td>\n",
       "      <td>23.3</td>\n",
       "      <td>0.672</td>\n",
       "      <td>32</td>\n",
       "      <td>1</td>\n",
       "    </tr>\n",
       "    <tr>\n",
       "      <th>3</th>\n",
       "      <td>1</td>\n",
       "      <td>89</td>\n",
       "      <td>66</td>\n",
       "      <td>23</td>\n",
       "      <td>94</td>\n",
       "      <td>28.1</td>\n",
       "      <td>0.167</td>\n",
       "      <td>21</td>\n",
       "      <td>0</td>\n",
       "    </tr>\n",
       "    <tr>\n",
       "      <th>4</th>\n",
       "      <td>0</td>\n",
       "      <td>137</td>\n",
       "      <td>40</td>\n",
       "      <td>35</td>\n",
       "      <td>168</td>\n",
       "      <td>43.1</td>\n",
       "      <td>2.288</td>\n",
       "      <td>33</td>\n",
       "      <td>1</td>\n",
       "    </tr>\n",
       "  </tbody>\n",
       "</table>\n",
       "</div>"
      ],
      "text/plain": [
       "   numpregnancies  glucose  diastolic  tricepskin  insulin   bmi  pedigree  \\\n",
       "0               6      148         72          35        0  33.6     0.627   \n",
       "1               1       85         66          29        0  26.6     0.351   \n",
       "2               8      183         64           0        0  23.3     0.672   \n",
       "3               1       89         66          23       94  28.1     0.167   \n",
       "4               0      137         40          35      168  43.1     2.288   \n",
       "\n",
       "   age  hasdiabetes  \n",
       "0   50            1  \n",
       "1   31            0  \n",
       "2   32            1  \n",
       "3   21            0  \n",
       "4   33            1  "
      ]
     },
     "execution_count": 7,
     "metadata": {},
     "output_type": "execute_result"
    }
   ],
   "source": [
    "names = ['numpregnancies', 'glucose', 'diastolic', 'tricepskin', 'insulin', \n",
    "         'bmi', 'pedigree', 'age', 'hasdiabetes']\n",
    "data = pd.read_csv(path, names=names)\n",
    "print('--- First 5 rows of data:')\n",
    "data.head(5)"
   ]
  },
  {
   "cell_type": "code",
   "execution_count": 8,
   "metadata": {},
   "outputs": [],
   "source": [
    "# Define data for ML\n",
    "X = data.values[:, :-1]\n",
    "y = data.values[:, -1]\n",
    "names = names[:-1]"
   ]
  },
  {
   "cell_type": "markdown",
   "metadata": {},
   "source": [
    "### Perform Classification Using All Features"
   ]
  },
  {
   "cell_type": "code",
   "execution_count": 9,
   "metadata": {},
   "outputs": [
    {
     "name": "stdout",
     "output_type": "stream",
     "text": [
      "--- 4-Fold Cross-Validation Accuracy: 76.3% (+/-1.7)\n"
     ]
    }
   ],
   "source": [
    "crossvalidate(classifier, X, y)"
   ]
  },
  {
   "cell_type": "markdown",
   "metadata": {},
   "source": [
    "### Select Features Using Filters\n",
    "\n",
    "For the list of available filters, see [scikit-learn.org](http://scikit-learn.org/stable/modules/generated/sklearn.feature_selection.SelectKBest.html)"
   ]
  },
  {
   "cell_type": "code",
   "execution_count": 10,
   "metadata": {},
   "outputs": [
    {
     "name": "stdout",
     "output_type": "stream",
     "text": [
      "--- Scores of the features\n",
      "insulin       : 2175.6\n",
      "glucose       : 1411.9\n",
      "age           : 181.3\n",
      "bmi           : 127.7\n",
      "numpregnancies: 111.5\n",
      "tricepskin    : 53.1\n",
      "diastolic     : 17.6\n",
      "pedigree      : 5.4\n"
     ]
    }
   ],
   "source": [
    "from sklearn.feature_selection import SelectKBest, chi2\n",
    "\n",
    "# Select top 3 features\n",
    "selector = SelectKBest(chi2, k=3)\n",
    "selector.fit(X, y)\n",
    "\n",
    "print('--- Scores of the features')\n",
    "sortedscores, sortednames = zip(*sorted(zip(selector.scores_, names), reverse=True))\n",
    "for name, score in zip(sortednames, sortedscores):\n",
    "    print(f\"{name:<14}: {round(score, 1)}\")"
   ]
  },
  {
   "cell_type": "code",
   "execution_count": 11,
   "metadata": {},
   "outputs": [
    {
     "name": "stdout",
     "output_type": "stream",
     "text": [
      "--- Data with only the top k features\n"
     ]
    },
    {
     "data": {
      "text/html": [
       "<div>\n",
       "<style scoped>\n",
       "    .dataframe tbody tr th:only-of-type {\n",
       "        vertical-align: middle;\n",
       "    }\n",
       "\n",
       "    .dataframe tbody tr th {\n",
       "        vertical-align: top;\n",
       "    }\n",
       "\n",
       "    .dataframe thead th {\n",
       "        text-align: right;\n",
       "    }\n",
       "</style>\n",
       "<table border=\"1\" class=\"dataframe\">\n",
       "  <thead>\n",
       "    <tr style=\"text-align: right;\">\n",
       "      <th></th>\n",
       "      <th>glucose</th>\n",
       "      <th>insulin</th>\n",
       "      <th>age</th>\n",
       "    </tr>\n",
       "  </thead>\n",
       "  <tbody>\n",
       "    <tr>\n",
       "      <th>0</th>\n",
       "      <td>148.0</td>\n",
       "      <td>0.0</td>\n",
       "      <td>50.0</td>\n",
       "    </tr>\n",
       "    <tr>\n",
       "      <th>1</th>\n",
       "      <td>85.0</td>\n",
       "      <td>0.0</td>\n",
       "      <td>31.0</td>\n",
       "    </tr>\n",
       "    <tr>\n",
       "      <th>2</th>\n",
       "      <td>183.0</td>\n",
       "      <td>0.0</td>\n",
       "      <td>32.0</td>\n",
       "    </tr>\n",
       "    <tr>\n",
       "      <th>3</th>\n",
       "      <td>89.0</td>\n",
       "      <td>94.0</td>\n",
       "      <td>21.0</td>\n",
       "    </tr>\n",
       "    <tr>\n",
       "      <th>4</th>\n",
       "      <td>137.0</td>\n",
       "      <td>168.0</td>\n",
       "      <td>33.0</td>\n",
       "    </tr>\n",
       "  </tbody>\n",
       "</table>\n",
       "</div>"
      ],
      "text/plain": [
       "   glucose  insulin   age\n",
       "0    148.0      0.0  50.0\n",
       "1     85.0      0.0  31.0\n",
       "2    183.0      0.0  32.0\n",
       "3     89.0     94.0  21.0\n",
       "4    137.0    168.0  33.0"
      ]
     },
     "execution_count": 11,
     "metadata": {},
     "output_type": "execute_result"
    }
   ],
   "source": [
    "print(\"--- Data with only the top k features\")\n",
    "subX = selector.transform(X)\n",
    "subnames = selector.transform([names])[0]\n",
    "pd.DataFrame(data=subX, columns=subnames).head(5)"
   ]
  },
  {
   "cell_type": "code",
   "execution_count": 12,
   "metadata": {},
   "outputs": [
    {
     "name": "stdout",
     "output_type": "stream",
     "text": [
      "--- 4-Fold Cross-Validation Accuracy: 73.7% (+/-3.3)\n"
     ]
    }
   ],
   "source": [
    "# Perform classification with the selected features\n",
    "crossvalidate(classifier, selector.transform(X), y)"
   ]
  },
  {
   "cell_type": "markdown",
   "metadata": {},
   "source": [
    "### Select Features Using Recursive Elimination"
   ]
  },
  {
   "cell_type": "code",
   "execution_count": 13,
   "metadata": {},
   "outputs": [
    {
     "name": "stdout",
     "output_type": "stream",
     "text": [
      "--- Selected Features (5)\n"
     ]
    },
    {
     "data": {
      "text/plain": [
       "['numpregnancies', 'glucose', 'diastolic', 'bmi', 'pedigree']"
      ]
     },
     "execution_count": 13,
     "metadata": {},
     "output_type": "execute_result"
    }
   ],
   "source": [
    "from sklearn.feature_selection import RFECV\n",
    "from sklearn.linear_model import LogisticRegression\n",
    "\n",
    "# RFECV using the SVM classifier would take forever; let's use a faster method.\n",
    "# quickclassifier = DecisionTreeClassifier()\n",
    "quickclassifier = LogisticRegression(solver='liblinear')\n",
    "selector = RFECV(quickclassifier, cv=4, scoring='accuracy')\n",
    "\n",
    "selector.fit(X, y)\n",
    "\n",
    "print(f'--- Selected Features ({selector.n_features_})')\n",
    "[names[i] for i in range(len(names)) if selector.get_support()[i]]"
   ]
  },
  {
   "cell_type": "code",
   "execution_count": 14,
   "metadata": {},
   "outputs": [
    {
     "data": {
      "text/plain": [
       "[<matplotlib.lines.Line2D at 0x7fc18c605310>]"
      ]
     },
     "execution_count": 14,
     "metadata": {},
     "output_type": "execute_result"
    },
    {
     "data": {
      "image/png": "[encoded data removed]",
      "text/plain": [
       "<Figure size 432x288 with 1 Axes>"
      ]
     },
     "metadata": {
      "needs_background": "light"
     },
     "output_type": "display_data"
    }
   ],
   "source": [
    "from pylab import plot, xlabel, ylabel\n",
    "xlabel('Number of Features Removed')\n",
    "ylabel('Cross Validation Accuracy')\n",
    "\n",
    "scores = selector.cv_results_['mean_test_score']\n",
    "plot(range(len(scores)), scores)"
   ]
  },
  {
   "cell_type": "code",
   "execution_count": 15,
   "metadata": {},
   "outputs": [
    {
     "name": "stdout",
     "output_type": "stream",
     "text": [
      "--- 4-Fold Cross-Validation Accuracy: 76.7% (+/-1.3)\n"
     ]
    }
   ],
   "source": [
    "crossvalidate(classifier, selector.transform(X), y)"
   ]
  },
  {
   "cell_type": "markdown",
   "metadata": {},
   "source": [
    "### Sequential Forward Selection"
   ]
  },
  {
   "cell_type": "code",
   "execution_count": 17,
   "metadata": {},
   "outputs": [
    {
     "name": "stdout",
     "output_type": "stream",
     "text": [
      "--- Selected Features (8):\n",
      "(0, 1, 2, 3, 4, 5, 6, 7)\n"
     ]
    },
    {
     "data": {
      "text/plain": [
       "['numpregnancies',\n",
       " 'glucose',\n",
       " 'diastolic',\n",
       " 'tricepskin',\n",
       " 'insulin',\n",
       " 'bmi',\n",
       " 'pedigree',\n",
       " 'age']"
      ]
     },
     "execution_count": 17,
     "metadata": {},
     "output_type": "execute_result"
    }
   ],
   "source": [
    "from mlxtend.feature_selection import SequentialFeatureSelector as SFS\n",
    "from sklearn.linear_model import LinearRegression\n",
    "from sklearn.linear_model import LogisticRegression\n",
    "from sklearn.feature_selection import RFECV\n",
    "\n",
    "quickclassifier = LogisticRegression(solver='liblinear')\n",
    "\n",
    "# We'll use k_features to select all the way to the end, so I can manually\n",
    "# visualize/decide how many features work best.\n",
    "# You may want to avoid that if it takes to much time.\n",
    "selector = SFS(quickclassifier, cv=4, scoring='accuracy',\n",
    "               k_features=X.shape[1], forward=True)\n",
    "selector.fit(X, y)\n",
    "\n",
    "# Features shown here are NOT ordered by their performance.\n",
    "print(f\"--- Selected Features ({len(selector.k_feature_idx_)}):\")\n",
    "print(selector.k_feature_idx_)\n",
    "[names[i] for i in selector.k_feature_idx_]"
   ]
  },
  {
   "cell_type": "code",
   "execution_count": 18,
   "metadata": {},
   "outputs": [],
   "source": [
    "# Get each added attribute and the resulting score\n",
    "selectnames = []\n",
    "selectscores = []\n",
    "\n",
    "for x in selector.get_metric_dict().values():\n",
    "    newnames = set([names[i] for i in x['feature_idx']]).difference(selectnames)\n",
    "    selectnames.append(','.join(newnames))\n",
    "    names = names + list(newnames)\n",
    "    selectscores.append(x['avg_score'])"
   ]
  },
  {
   "cell_type": "code",
   "execution_count": 22,
   "metadata": {},
   "outputs": [
    {
     "data": {
      "text/plain": [
       "[0.75,\n",
       " 0.7552083333333333,\n",
       " 0.7643229166666667,\n",
       " 0.765625,\n",
       " 0.7734375,\n",
       " 0.7786458333333334,\n",
       " 0.77734375,\n",
       " 0.7682291666666667]"
      ]
     },
     "execution_count": 22,
     "metadata": {},
     "output_type": "execute_result"
    }
   ],
   "source": [
    "selectscores"
   ]
  },
  {
   "cell_type": "code",
   "execution_count": 21,
   "metadata": {},
   "outputs": [
    {
     "data": {
      "image/png": "[encoded data removed]",
      "text/plain": [
       "<Figure size 432x288 with 1 Axes>"
      ]
     },
     "metadata": {
      "needs_background": "light"
     },
     "output_type": "display_data"
    }
   ],
   "source": [
    "xlabel(\"Added Feature\")\n",
    "ylabel(\"Cross validation accuracy\")\n",
    "plot(range(1, len(selectscores)+1), selectscores)\n",
    "import matplotlib.pyplot as plt\n",
    "plt.xticks(range(1, len(selectscores)+1),selectnames,rotation=60);"
   ]
  }
 ],
 "metadata": {
  "kernelspec": {
   "display_name": "Python 3.9.12 ('py-env')",
   "language": "python",
   "name": "python3"
  },
  "language_info": {
   "codemirror_mode": {
    "name": "ipython",
    "version": 3
   },
   "file_extension": ".py",
   "mimetype": "text/x-python",
   "name": "python",
   "nbconvert_exporter": "python",
   "pygments_lexer": "ipython3",
   "version": "3.9.12"
  },
  "orig_nbformat": 4,
  "vscode": {
   "interpreter": {
    "hash": "67e0f964b3466f5738b0815e7d98ae8f0b358b23e82348a28e5ef609e7edb7a9"
   }
  }
 },
 "nbformat": 4,
 "nbformat_minor": 2
}
