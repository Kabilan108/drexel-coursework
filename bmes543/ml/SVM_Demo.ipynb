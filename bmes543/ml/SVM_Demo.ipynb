{
 "cells": [
  {
   "cell_type": "markdown",
   "metadata": {},
   "source": [
    "# Machine Learning Demo\n",
    "### Gene Expression Classification Using Support Vector Machine (SVM)\n",
    "\n",
    "By [Ahmet Sacan](mailto:ahmetmsacan@gmail.com)  \n",
    "Modified By [Tony Kabilan Okeke](mailto:tko35@drexel.edu)\n",
    "\n",
    "Data was retreived from [Kaggle](https://www.kaggle.com/datasets/crawford/gene-expression/metadata?select=actual.csv).  \n",
    "Data originally published in *\"Molecular Classification of Cancer: Class Discovery and Class Prediction By Gene Expression Monitoring\", Golub'99*"
   ]
  },
  {
   "cell_type": "markdown",
   "metadata": {},
   "source": [
    "### Load Packages"
   ]
  },
  {
   "cell_type": "code",
   "execution_count": 219,
   "metadata": {},
   "outputs": [
    {
     "name": "stdout",
     "output_type": "stream",
     "text": [
      "The autoreload extension is already loaded. To reload it, use:\n",
      "  %reload_ext autoreload\n"
     ]
    }
   ],
   "source": [
    "%load_ext autoreload"
   ]
  },
  {
   "cell_type": "code",
   "execution_count": 220,
   "metadata": {},
   "outputs": [],
   "source": [
    "# Imports\n",
    "%autoreload 2\n",
    "import pandas as pd\n",
    "import numpy as np\n",
    "import kaggle\n",
    "import rich\n",
    "from ToolBox.utils import color_bool\n",
    "from sklearn import svm\n",
    "from sklearn.model_selection import KFold\n",
    "from sklearn.model_selection import cross_val_score\n",
    "from sklearn.feature_selection import SequentialFeatureSelector"
   ]
  },
  {
   "cell_type": "markdown",
   "metadata": {},
   "source": [
    "### Prepare Data\n",
    "\n",
    "In our code below, we'll use the convention of samples being on each row  \n",
    "and features (genes) being on each column.  "
   ]
  },
  {
   "cell_type": "code",
   "execution_count": 221,
   "metadata": {},
   "outputs": [],
   "source": [
    "# Retrieve data from kaggle\n",
    "kaggle.api.authenticate()\n",
    "kaggle.api.dataset_download_files('crawford/gene-expression', path='data', unzip=True)"
   ]
  },
  {
   "cell_type": "code",
   "execution_count": 222,
   "metadata": {},
   "outputs": [
    {
     "data": {
      "text/html": [
       "<div>\n",
       "<style scoped>\n",
       "    .dataframe tbody tr th:only-of-type {\n",
       "        vertical-align: middle;\n",
       "    }\n",
       "\n",
       "    .dataframe tbody tr th {\n",
       "        vertical-align: top;\n",
       "    }\n",
       "\n",
       "    .dataframe thead th {\n",
       "        text-align: right;\n",
       "    }\n",
       "</style>\n",
       "<table border=\"1\" class=\"dataframe\">\n",
       "  <thead>\n",
       "    <tr style=\"text-align: right;\">\n",
       "      <th></th>\n",
       "      <th></th>\n",
       "      <th>AFFX-BioB-5_at</th>\n",
       "      <th>AFFX-BioB-M_at</th>\n",
       "      <th>AFFX-BioB-3_at</th>\n",
       "      <th>AFFX-BioC-5_at</th>\n",
       "      <th>AFFX-BioC-3_at</th>\n",
       "      <th>AFFX-BioDn-5_at</th>\n",
       "      <th>AFFX-BioDn-3_at</th>\n",
       "      <th>AFFX-CreX-5_at</th>\n",
       "      <th>AFFX-CreX-3_at</th>\n",
       "      <th>AFFX-BioB-5_st</th>\n",
       "      <th>...</th>\n",
       "      <th>U48730_at</th>\n",
       "      <th>U58516_at</th>\n",
       "      <th>U73738_at</th>\n",
       "      <th>X06956_at</th>\n",
       "      <th>X16699_at</th>\n",
       "      <th>X83863_at</th>\n",
       "      <th>Z17240_at</th>\n",
       "      <th>L49218_f_at</th>\n",
       "      <th>M71243_f_at</th>\n",
       "      <th>Z78285_f_at</th>\n",
       "    </tr>\n",
       "    <tr>\n",
       "      <th>sample</th>\n",
       "      <th>cancer</th>\n",
       "      <th></th>\n",
       "      <th></th>\n",
       "      <th></th>\n",
       "      <th></th>\n",
       "      <th></th>\n",
       "      <th></th>\n",
       "      <th></th>\n",
       "      <th></th>\n",
       "      <th></th>\n",
       "      <th></th>\n",
       "      <th></th>\n",
       "      <th></th>\n",
       "      <th></th>\n",
       "      <th></th>\n",
       "      <th></th>\n",
       "      <th></th>\n",
       "      <th></th>\n",
       "      <th></th>\n",
       "      <th></th>\n",
       "      <th></th>\n",
       "      <th></th>\n",
       "    </tr>\n",
       "  </thead>\n",
       "  <tbody>\n",
       "    <tr>\n",
       "      <th>1</th>\n",
       "      <th>ALL</th>\n",
       "      <td>-214</td>\n",
       "      <td>-153</td>\n",
       "      <td>-58</td>\n",
       "      <td>88</td>\n",
       "      <td>-295</td>\n",
       "      <td>-558</td>\n",
       "      <td>199</td>\n",
       "      <td>-176</td>\n",
       "      <td>252</td>\n",
       "      <td>206</td>\n",
       "      <td>...</td>\n",
       "      <td>185</td>\n",
       "      <td>511</td>\n",
       "      <td>-125</td>\n",
       "      <td>389</td>\n",
       "      <td>-37</td>\n",
       "      <td>793</td>\n",
       "      <td>329</td>\n",
       "      <td>36</td>\n",
       "      <td>191</td>\n",
       "      <td>-37</td>\n",
       "    </tr>\n",
       "    <tr>\n",
       "      <th>2</th>\n",
       "      <th>ALL</th>\n",
       "      <td>-139</td>\n",
       "      <td>-73</td>\n",
       "      <td>-1</td>\n",
       "      <td>283</td>\n",
       "      <td>-264</td>\n",
       "      <td>-400</td>\n",
       "      <td>-330</td>\n",
       "      <td>-168</td>\n",
       "      <td>101</td>\n",
       "      <td>74</td>\n",
       "      <td>...</td>\n",
       "      <td>169</td>\n",
       "      <td>837</td>\n",
       "      <td>-36</td>\n",
       "      <td>442</td>\n",
       "      <td>-17</td>\n",
       "      <td>782</td>\n",
       "      <td>295</td>\n",
       "      <td>11</td>\n",
       "      <td>76</td>\n",
       "      <td>-14</td>\n",
       "    </tr>\n",
       "    <tr>\n",
       "      <th>3</th>\n",
       "      <th>ALL</th>\n",
       "      <td>-76</td>\n",
       "      <td>-49</td>\n",
       "      <td>-307</td>\n",
       "      <td>309</td>\n",
       "      <td>-376</td>\n",
       "      <td>-650</td>\n",
       "      <td>33</td>\n",
       "      <td>-367</td>\n",
       "      <td>206</td>\n",
       "      <td>-215</td>\n",
       "      <td>...</td>\n",
       "      <td>315</td>\n",
       "      <td>1199</td>\n",
       "      <td>33</td>\n",
       "      <td>168</td>\n",
       "      <td>52</td>\n",
       "      <td>1138</td>\n",
       "      <td>777</td>\n",
       "      <td>41</td>\n",
       "      <td>228</td>\n",
       "      <td>-41</td>\n",
       "    </tr>\n",
       "    <tr>\n",
       "      <th>4</th>\n",
       "      <th>ALL</th>\n",
       "      <td>-135</td>\n",
       "      <td>-114</td>\n",
       "      <td>265</td>\n",
       "      <td>12</td>\n",
       "      <td>-419</td>\n",
       "      <td>-585</td>\n",
       "      <td>158</td>\n",
       "      <td>-253</td>\n",
       "      <td>49</td>\n",
       "      <td>31</td>\n",
       "      <td>...</td>\n",
       "      <td>240</td>\n",
       "      <td>835</td>\n",
       "      <td>218</td>\n",
       "      <td>174</td>\n",
       "      <td>-110</td>\n",
       "      <td>627</td>\n",
       "      <td>170</td>\n",
       "      <td>-50</td>\n",
       "      <td>126</td>\n",
       "      <td>-91</td>\n",
       "    </tr>\n",
       "    <tr>\n",
       "      <th>5</th>\n",
       "      <th>ALL</th>\n",
       "      <td>-106</td>\n",
       "      <td>-125</td>\n",
       "      <td>-76</td>\n",
       "      <td>168</td>\n",
       "      <td>-230</td>\n",
       "      <td>-284</td>\n",
       "      <td>4</td>\n",
       "      <td>-122</td>\n",
       "      <td>70</td>\n",
       "      <td>252</td>\n",
       "      <td>...</td>\n",
       "      <td>156</td>\n",
       "      <td>649</td>\n",
       "      <td>57</td>\n",
       "      <td>504</td>\n",
       "      <td>-26</td>\n",
       "      <td>250</td>\n",
       "      <td>314</td>\n",
       "      <td>14</td>\n",
       "      <td>56</td>\n",
       "      <td>-25</td>\n",
       "    </tr>\n",
       "  </tbody>\n",
       "</table>\n",
       "<p>5 rows × 7129 columns</p>\n",
       "</div>"
      ],
      "text/plain": [
       "               AFFX-BioB-5_at  AFFX-BioB-M_at  AFFX-BioB-3_at  AFFX-BioC-5_at  \\\n",
       "sample cancer                                                                   \n",
       "1      ALL               -214            -153             -58              88   \n",
       "2      ALL               -139             -73              -1             283   \n",
       "3      ALL                -76             -49            -307             309   \n",
       "4      ALL               -135            -114             265              12   \n",
       "5      ALL               -106            -125             -76             168   \n",
       "\n",
       "               AFFX-BioC-3_at  AFFX-BioDn-5_at  AFFX-BioDn-3_at  \\\n",
       "sample cancer                                                     \n",
       "1      ALL               -295             -558              199   \n",
       "2      ALL               -264             -400             -330   \n",
       "3      ALL               -376             -650               33   \n",
       "4      ALL               -419             -585              158   \n",
       "5      ALL               -230             -284                4   \n",
       "\n",
       "               AFFX-CreX-5_at  AFFX-CreX-3_at  AFFX-BioB-5_st  ...  U48730_at  \\\n",
       "sample cancer                                                  ...              \n",
       "1      ALL               -176             252             206  ...        185   \n",
       "2      ALL               -168             101              74  ...        169   \n",
       "3      ALL               -367             206            -215  ...        315   \n",
       "4      ALL               -253              49              31  ...        240   \n",
       "5      ALL               -122              70             252  ...        156   \n",
       "\n",
       "               U58516_at  U73738_at  X06956_at  X16699_at  X83863_at  \\\n",
       "sample cancer                                                          \n",
       "1      ALL           511       -125        389        -37        793   \n",
       "2      ALL           837        -36        442        -17        782   \n",
       "3      ALL          1199         33        168         52       1138   \n",
       "4      ALL           835        218        174       -110        627   \n",
       "5      ALL           649         57        504        -26        250   \n",
       "\n",
       "               Z17240_at  L49218_f_at  M71243_f_at  Z78285_f_at  \n",
       "sample cancer                                                    \n",
       "1      ALL           329           36          191          -37  \n",
       "2      ALL           295           11           76          -14  \n",
       "3      ALL           777           41          228          -41  \n",
       "4      ALL           170          -50          126          -91  \n",
       "5      ALL           314           14           56          -25  \n",
       "\n",
       "[5 rows x 7129 columns]"
      ]
     },
     "execution_count": 222,
     "metadata": {},
     "output_type": "execute_result"
    }
   ],
   "source": [
    "# Load the training and testing data retrieved from Kaggle\n",
    "data = []\n",
    "for ext in ['train', 'independent']:\n",
    "    data.append(pd.read_csv(f\"data/data_set_ALL_AML_{ext}.csv\"))\n",
    "\n",
    "# Merge the training and testing datasets\n",
    "# The data is transposed so features = columns and samples = rows\n",
    "df = pd.merge(*[ d.filter(regex=r'^[^call]') for d in data ]) \\\n",
    "    .drop('Gene Description', axis=1) \\\n",
    "    .rename({'Gene Accession Number': ''}, axis=1) \\\n",
    "    .set_index('') \\\n",
    "    .transpose()\n",
    "df.index = df.index.astype(int)\n",
    "\n",
    "# Add labels to data and transpose\n",
    "df = pd.read_csv('data/actual.csv') \\\n",
    "    .merge(df, how='left', left_on='patient', right_index=True) \\\n",
    "    .rename({'patient': 'sample'}, axis=1) \\\n",
    "    .set_index(['sample', 'cancer'])\n",
    "\n",
    "# Prepare data for machine learning\n",
    "y = df.index.get_level_values(1).to_numpy()  # Labels\n",
    "genes = df.columns  # Features\n",
    "X = df.values\n",
    "\n",
    "df.head()"
   ]
  },
  {
   "cell_type": "markdown",
   "metadata": {},
   "source": [
    "### Train & Test for 1 Fold\n",
    "\n",
    "First, let's train and test the SVM model for a single cross validation fold.  \n",
    "Later, we will explore how to do this for multiple folds in a mature \n",
    "cross-validation of a ML model.\n",
    "\n",
    "We will be using the *[K Fold]()* cross-validation strategy."
   ]
  },
  {
   "cell_type": "code",
   "execution_count": 223,
   "metadata": {},
   "outputs": [],
   "source": [
    "kf = KFold(n_splits=4, shuffle=True, random_state=69)\n",
    "train_idx, test_idx = list(kf.split(y))[0]\n",
    "\n",
    "X_train, X_test = X[train_idx], X[test_idx]\n",
    "y_train, y_test = y[train_idx], y[test_idx]"
   ]
  },
  {
   "cell_type": "markdown",
   "metadata": {},
   "source": [
    "#### Train (Learn) Model from Training Data"
   ]
  },
  {
   "cell_type": "code",
   "execution_count": 224,
   "metadata": {},
   "outputs": [
    {
     "data": {
      "text/plain": [
       "SVC(random_state=69)"
      ]
     },
     "execution_count": 224,
     "metadata": {},
     "output_type": "execute_result"
    }
   ],
   "source": [
    "# Initialize classifier\n",
    "clf = svm.SVC(kernel='rbf', random_state=69)\n",
    "\n",
    "# Fit training data to model\n",
    "clf.fit(X_train, y_train)"
   ]
  },
  {
   "cell_type": "markdown",
   "metadata": {},
   "source": [
    "#### Test (Predict) Test Data Classifications"
   ]
  },
  {
   "cell_type": "code",
   "execution_count": 225,
   "metadata": {},
   "outputs": [],
   "source": [
    "y_pred = clf.predict(X_test)"
   ]
  },
  {
   "cell_type": "markdown",
   "metadata": {},
   "source": [
    "When comparing `y_test` and `y_pred`, you need to use the proper functions\n",
    "for comparison of those data types i.e., if `y_test` and `y_pred` are text,\n",
    "you would use a text comparison function; if they were numbers, you would\n",
    "use a numerical comparison. It's your job to find out the best way to \n",
    "compare a prediction to the correct target value.\n",
    "\n",
    "Let's print the predictions (`y_pred`) and the correct `y_test` side-by-side.\n",
    "This is shown for instruction/de-bugging only. You don't need to show this\n",
    "in your analysis."
   ]
  },
  {
   "cell_type": "code",
   "execution_count": 226,
   "metadata": {},
   "outputs": [
    {
     "data": {
      "text/html": [
       "<style type=\"text/css\">\n",
       "#T_38855_row0_col0, #T_38855_row0_col1, #T_38855_row1_col0, #T_38855_row1_col1, #T_38855_row2_col0, #T_38855_row2_col1, #T_38855_row3_col0, #T_38855_row3_col1, #T_38855_row4_col0, #T_38855_row4_col1, #T_38855_row5_col0, #T_38855_row5_col1, #T_38855_row6_col0, #T_38855_row6_col1, #T_38855_row7_col0, #T_38855_row7_col1, #T_38855_row8_col0, #T_38855_row8_col1, #T_38855_row9_col0, #T_38855_row9_col1, #T_38855_row10_col0, #T_38855_row10_col1, #T_38855_row11_col0, #T_38855_row11_col1, #T_38855_row12_col0, #T_38855_row12_col1, #T_38855_row13_col0, #T_38855_row13_col1, #T_38855_row14_col0, #T_38855_row14_col1, #T_38855_row15_col0, #T_38855_row15_col1, #T_38855_row16_col0, #T_38855_row16_col1, #T_38855_row17_col0, #T_38855_row17_col1 {\n",
       "  background-color: ;\n",
       "}\n",
       "#T_38855_row0_col2, #T_38855_row1_col2, #T_38855_row2_col2, #T_38855_row3_col2, #T_38855_row4_col2, #T_38855_row5_col2, #T_38855_row6_col2, #T_38855_row9_col2, #T_38855_row10_col2, #T_38855_row11_col2, #T_38855_row13_col2, #T_38855_row14_col2, #T_38855_row15_col2, #T_38855_row16_col2, #T_38855_row17_col2 {\n",
       "  background-color: #6dcf6d;\n",
       "}\n",
       "#T_38855_row7_col2, #T_38855_row8_col2, #T_38855_row12_col2 {\n",
       "  background-color: #ff5862;\n",
       "}\n",
       "</style>\n",
       "<table id=\"T_38855\">\n",
       "  <thead>\n",
       "    <tr>\n",
       "      <th class=\"blank level0\" >&nbsp;</th>\n",
       "      <th id=\"T_38855_level0_col0\" class=\"col_heading level0 col0\" >Labels</th>\n",
       "      <th id=\"T_38855_level0_col1\" class=\"col_heading level0 col1\" >Prediction</th>\n",
       "      <th id=\"T_38855_level0_col2\" class=\"col_heading level0 col2\" >Correct</th>\n",
       "    </tr>\n",
       "  </thead>\n",
       "  <tbody>\n",
       "    <tr>\n",
       "      <th id=\"T_38855_level0_row0\" class=\"row_heading level0 row0\" >0</th>\n",
       "      <td id=\"T_38855_row0_col0\" class=\"data row0 col0\" >ALL</td>\n",
       "      <td id=\"T_38855_row0_col1\" class=\"data row0 col1\" >ALL</td>\n",
       "      <td id=\"T_38855_row0_col2\" class=\"data row0 col2\" >True</td>\n",
       "    </tr>\n",
       "    <tr>\n",
       "      <th id=\"T_38855_level0_row1\" class=\"row_heading level0 row1\" >1</th>\n",
       "      <td id=\"T_38855_row1_col0\" class=\"data row1 col0\" >ALL</td>\n",
       "      <td id=\"T_38855_row1_col1\" class=\"data row1 col1\" >ALL</td>\n",
       "      <td id=\"T_38855_row1_col2\" class=\"data row1 col2\" >True</td>\n",
       "    </tr>\n",
       "    <tr>\n",
       "      <th id=\"T_38855_level0_row2\" class=\"row_heading level0 row2\" >2</th>\n",
       "      <td id=\"T_38855_row2_col0\" class=\"data row2 col0\" >ALL</td>\n",
       "      <td id=\"T_38855_row2_col1\" class=\"data row2 col1\" >ALL</td>\n",
       "      <td id=\"T_38855_row2_col2\" class=\"data row2 col2\" >True</td>\n",
       "    </tr>\n",
       "    <tr>\n",
       "      <th id=\"T_38855_level0_row3\" class=\"row_heading level0 row3\" >3</th>\n",
       "      <td id=\"T_38855_row3_col0\" class=\"data row3 col0\" >ALL</td>\n",
       "      <td id=\"T_38855_row3_col1\" class=\"data row3 col1\" >ALL</td>\n",
       "      <td id=\"T_38855_row3_col2\" class=\"data row3 col2\" >True</td>\n",
       "    </tr>\n",
       "    <tr>\n",
       "      <th id=\"T_38855_level0_row4\" class=\"row_heading level0 row4\" >4</th>\n",
       "      <td id=\"T_38855_row4_col0\" class=\"data row4 col0\" >ALL</td>\n",
       "      <td id=\"T_38855_row4_col1\" class=\"data row4 col1\" >ALL</td>\n",
       "      <td id=\"T_38855_row4_col2\" class=\"data row4 col2\" >True</td>\n",
       "    </tr>\n",
       "    <tr>\n",
       "      <th id=\"T_38855_level0_row5\" class=\"row_heading level0 row5\" >5</th>\n",
       "      <td id=\"T_38855_row5_col0\" class=\"data row5 col0\" >ALL</td>\n",
       "      <td id=\"T_38855_row5_col1\" class=\"data row5 col1\" >ALL</td>\n",
       "      <td id=\"T_38855_row5_col2\" class=\"data row5 col2\" >True</td>\n",
       "    </tr>\n",
       "    <tr>\n",
       "      <th id=\"T_38855_level0_row6\" class=\"row_heading level0 row6\" >6</th>\n",
       "      <td id=\"T_38855_row6_col0\" class=\"data row6 col0\" >ALL</td>\n",
       "      <td id=\"T_38855_row6_col1\" class=\"data row6 col1\" >ALL</td>\n",
       "      <td id=\"T_38855_row6_col2\" class=\"data row6 col2\" >True</td>\n",
       "    </tr>\n",
       "    <tr>\n",
       "      <th id=\"T_38855_level0_row7\" class=\"row_heading level0 row7\" >7</th>\n",
       "      <td id=\"T_38855_row7_col0\" class=\"data row7 col0\" >AML</td>\n",
       "      <td id=\"T_38855_row7_col1\" class=\"data row7 col1\" >ALL</td>\n",
       "      <td id=\"T_38855_row7_col2\" class=\"data row7 col2\" >False</td>\n",
       "    </tr>\n",
       "    <tr>\n",
       "      <th id=\"T_38855_level0_row8\" class=\"row_heading level0 row8\" >8</th>\n",
       "      <td id=\"T_38855_row8_col0\" class=\"data row8 col0\" >AML</td>\n",
       "      <td id=\"T_38855_row8_col1\" class=\"data row8 col1\" >ALL</td>\n",
       "      <td id=\"T_38855_row8_col2\" class=\"data row8 col2\" >False</td>\n",
       "    </tr>\n",
       "    <tr>\n",
       "      <th id=\"T_38855_level0_row9\" class=\"row_heading level0 row9\" >9</th>\n",
       "      <td id=\"T_38855_row9_col0\" class=\"data row9 col0\" >ALL</td>\n",
       "      <td id=\"T_38855_row9_col1\" class=\"data row9 col1\" >ALL</td>\n",
       "      <td id=\"T_38855_row9_col2\" class=\"data row9 col2\" >True</td>\n",
       "    </tr>\n",
       "    <tr>\n",
       "      <th id=\"T_38855_level0_row10\" class=\"row_heading level0 row10\" >10</th>\n",
       "      <td id=\"T_38855_row10_col0\" class=\"data row10 col0\" >ALL</td>\n",
       "      <td id=\"T_38855_row10_col1\" class=\"data row10 col1\" >ALL</td>\n",
       "      <td id=\"T_38855_row10_col2\" class=\"data row10 col2\" >True</td>\n",
       "    </tr>\n",
       "    <tr>\n",
       "      <th id=\"T_38855_level0_row11\" class=\"row_heading level0 row11\" >11</th>\n",
       "      <td id=\"T_38855_row11_col0\" class=\"data row11 col0\" >AML</td>\n",
       "      <td id=\"T_38855_row11_col1\" class=\"data row11 col1\" >AML</td>\n",
       "      <td id=\"T_38855_row11_col2\" class=\"data row11 col2\" >True</td>\n",
       "    </tr>\n",
       "    <tr>\n",
       "      <th id=\"T_38855_level0_row12\" class=\"row_heading level0 row12\" >12</th>\n",
       "      <td id=\"T_38855_row12_col0\" class=\"data row12 col0\" >AML</td>\n",
       "      <td id=\"T_38855_row12_col1\" class=\"data row12 col1\" >ALL</td>\n",
       "      <td id=\"T_38855_row12_col2\" class=\"data row12 col2\" >False</td>\n",
       "    </tr>\n",
       "    <tr>\n",
       "      <th id=\"T_38855_level0_row13\" class=\"row_heading level0 row13\" >13</th>\n",
       "      <td id=\"T_38855_row13_col0\" class=\"data row13 col0\" >AML</td>\n",
       "      <td id=\"T_38855_row13_col1\" class=\"data row13 col1\" >AML</td>\n",
       "      <td id=\"T_38855_row13_col2\" class=\"data row13 col2\" >True</td>\n",
       "    </tr>\n",
       "    <tr>\n",
       "      <th id=\"T_38855_level0_row14\" class=\"row_heading level0 row14\" >14</th>\n",
       "      <td id=\"T_38855_row14_col0\" class=\"data row14 col0\" >ALL</td>\n",
       "      <td id=\"T_38855_row14_col1\" class=\"data row14 col1\" >ALL</td>\n",
       "      <td id=\"T_38855_row14_col2\" class=\"data row14 col2\" >True</td>\n",
       "    </tr>\n",
       "    <tr>\n",
       "      <th id=\"T_38855_level0_row15\" class=\"row_heading level0 row15\" >15</th>\n",
       "      <td id=\"T_38855_row15_col0\" class=\"data row15 col0\" >ALL</td>\n",
       "      <td id=\"T_38855_row15_col1\" class=\"data row15 col1\" >ALL</td>\n",
       "      <td id=\"T_38855_row15_col2\" class=\"data row15 col2\" >True</td>\n",
       "    </tr>\n",
       "    <tr>\n",
       "      <th id=\"T_38855_level0_row16\" class=\"row_heading level0 row16\" >16</th>\n",
       "      <td id=\"T_38855_row16_col0\" class=\"data row16 col0\" >ALL</td>\n",
       "      <td id=\"T_38855_row16_col1\" class=\"data row16 col1\" >ALL</td>\n",
       "      <td id=\"T_38855_row16_col2\" class=\"data row16 col2\" >True</td>\n",
       "    </tr>\n",
       "    <tr>\n",
       "      <th id=\"T_38855_level0_row17\" class=\"row_heading level0 row17\" >17</th>\n",
       "      <td id=\"T_38855_row17_col0\" class=\"data row17 col0\" >ALL</td>\n",
       "      <td id=\"T_38855_row17_col1\" class=\"data row17 col1\" >ALL</td>\n",
       "      <td id=\"T_38855_row17_col2\" class=\"data row17 col2\" >True</td>\n",
       "    </tr>\n",
       "  </tbody>\n",
       "</table>\n"
      ],
      "text/plain": [
       "<pandas.io.formats.style.Styler at 0x7fb737400ac0>"
      ]
     },
     "execution_count": 226,
     "metadata": {},
     "output_type": "execute_result"
    }
   ],
   "source": [
    "pd.DataFrame([y_test, y_pred, y_test == y_pred]) \\\n",
    "    .transpose() \\\n",
    "    .rename({0: 'Labels', 1: 'Prediction', 2: 'Correct'}, axis=1) \\\n",
    "    .style.applymap(color_bool)"
   ]
  },
  {
   "cell_type": "markdown",
   "metadata": {},
   "source": [
    "#### Performance Summary for 1-Fold"
   ]
  },
  {
   "cell_type": "code",
   "execution_count": 227,
   "metadata": {},
   "outputs": [
    {
     "data": {
      "text/html": [
       "<pre style=\"white-space:pre;overflow-x:auto;line-height:normal;font-family:Menlo,'DejaVu Sans Mono',consolas,'Courier New',monospace\"> ncorrect = <span style=\"color: #008080; text-decoration-color: #008080; font-weight: bold\">15</span>\n",
       "   nerror = <span style=\"color: #008080; text-decoration-color: #008080; font-weight: bold\">3</span>\n",
       " accuracy = <span style=\"color: #008080; text-decoration-color: #008080; font-weight: bold\">0.833</span>\n",
       "errorrate = <span style=\"color: #008080; text-decoration-color: #008080; font-weight: bold\">0.167</span>\n",
       "</pre>\n"
      ],
      "text/plain": [
       " ncorrect = \u001b[1;36m15\u001b[0m\n",
       "   nerror = \u001b[1;36m3\u001b[0m\n",
       " accuracy = \u001b[1;36m0.833\u001b[0m\n",
       "errorrate = \u001b[1;36m0.167\u001b[0m\n"
      ]
     },
     "metadata": {},
     "output_type": "display_data"
    }
   ],
   "source": [
    "ncorrect = (y_pred == y_test).sum()\n",
    "nerror = (y_pred != y_test).sum()\n",
    "accuracy = ncorrect / len(y_test)\n",
    "errorrate = nerror / len(y_test)\n",
    "\n",
    "rich.print(f\" ncorrect = {ncorrect}\\n   nerror = {nerror}\\n\",\n",
    "           f\"accuracy = {accuracy:.3f}\\nerrorrate = {errorrate:.3f}\")"
   ]
  },
  {
   "cell_type": "markdown",
   "metadata": {},
   "source": [
    "### Evaluation Function that Trains and Tests a Model for 1-Fold\n",
    "\n",
    "Let's take what we did and put it in a function that returns the number\n",
    "of errors for 1 fold."
   ]
  },
  {
   "cell_type": "code",
   "execution_count": 228,
   "metadata": {},
   "outputs": [],
   "source": [
    "def svm_train_and_test(X_train, y_train, X_test, y_test):\n",
    "    \"\"\"\n",
    "    Train a SVM and test it.\n",
    "    @params {X,y}_train\n",
    "        training dataset and labels\n",
    "    @params {X,y}_test\n",
    "        testing dataset and labels\n",
    "    @return\n",
    "        model error rate\n",
    "    \"\"\"\n",
    "\n",
    "    # Train (learn) model\n",
    "    clf = svm.SVC(kernel='rbf', random_state=69)\n",
    "    clf.fit(X_train, y_train)\n",
    "\n",
    "    # Test (predict) test data\n",
    "    y_pred = clf.predict(X_test)\n",
    "\n",
    "    return (y_pred != y_test).sum() / len(y_test)"
   ]
  },
  {
   "cell_type": "markdown",
   "metadata": {},
   "source": [
    "#### Train & Test Using the evaluation function\n",
    "\n",
    "The evaluation function does exactly what we demonstrated above, so we should\n",
    "get the same (or similar) results as before."
   ]
  },
  {
   "cell_type": "code",
   "execution_count": 229,
   "metadata": {},
   "outputs": [
    {
     "data": {
      "text/html": [
       "<pre style=\"white-space:pre;overflow-x:auto;line-height:normal;font-family:Menlo,'DejaVu Sans Mono',consolas,'Courier New',monospace\">errorrate = <span style=\"color: #008080; text-decoration-color: #008080; font-weight: bold\">0.167</span>\n",
       "</pre>\n"
      ],
      "text/plain": [
       "errorrate = \u001b[1;36m0.167\u001b[0m\n"
      ]
     },
     "metadata": {},
     "output_type": "display_data"
    }
   ],
   "source": [
    "errorrate = svm_train_and_test(X_train, y_train, X_test, y_test)\n",
    "rich.print(f\"errorrate = {errorrate:.3f}\")"
   ]
  },
  {
   "cell_type": "markdown",
   "metadata": {},
   "source": [
    "#### Evaluate for All 4 Folds"
   ]
  },
  {
   "cell_type": "code",
   "execution_count": 230,
   "metadata": {},
   "outputs": [
    {
     "data": {
      "text/html": [
       "<pre style=\"white-space:pre;overflow-x:auto;line-height:normal;font-family:Menlo,'DejaVu Sans Mono',consolas,'Courier New',monospace\"><span style=\"font-weight: bold\">[</span><span style=\"color: #008080; text-decoration-color: #008080; font-weight: bold\">0.167</span> <span style=\"color: #008080; text-decoration-color: #008080; font-weight: bold\">0.333</span> <span style=\"color: #008080; text-decoration-color: #008080; font-weight: bold\">0.111</span> <span style=\"color: #008080; text-decoration-color: #008080; font-weight: bold\">0.056</span><span style=\"font-weight: bold\">]</span>\n",
       "</pre>\n"
      ],
      "text/plain": [
       "\u001b[1m[\u001b[0m\u001b[1;36m0.167\u001b[0m \u001b[1;36m0.333\u001b[0m \u001b[1;36m0.111\u001b[0m \u001b[1;36m0.056\u001b[0m\u001b[1m]\u001b[0m\n"
      ]
     },
     "metadata": {},
     "output_type": "display_data"
    }
   ],
   "source": [
    "errorrate = []\n",
    "for train, test in kf.split(y):\n",
    "    errorrate.append(svm_train_and_test(X[train], y[train], X[test], y[test]))\n",
    "errorrate = np.array(errorrate)\n",
    "\n",
    "rich.print( errorrate.round(3) )"
   ]
  },
  {
   "cell_type": "markdown",
   "metadata": {},
   "source": [
    "#### Total Performance Across All Folds"
   ]
  },
  {
   "cell_type": "code",
   "execution_count": 231,
   "metadata": {},
   "outputs": [
    {
     "data": {
      "text/html": [
       "<pre style=\"white-space:pre;overflow-x:auto;line-height:normal;font-family:Menlo,'DejaVu Sans Mono',consolas,'Courier New',monospace\">Total Error Rate = <span style=\"color: #008080; text-decoration-color: #008080; font-weight: bold\">0.1667</span>\n",
       "</pre>\n"
      ],
      "text/plain": [
       "Total Error Rate = \u001b[1;36m0.1667\u001b[0m\n"
      ]
     },
     "metadata": {},
     "output_type": "display_data"
    }
   ],
   "source": [
    "rich.print( f'Total Error Rate = {errorrate.mean():.4f}' )"
   ]
  },
  {
   "cell_type": "markdown",
   "metadata": {},
   "source": [
    "### Cross-Validation Made Easy\n",
    "\n",
    "We don't have to train and test for each fold ourselves. We can let `cross_val_score` do the\n",
    "work for us. We need to provide the evaluation function we created, all the\n",
    "`X` and `y` data. `cross_val_score` will call the evaluation function just like we did above\n",
    "and return the number of errors for each fold.\n",
    "\n",
    "`cross_val_score` returns the accuracy for each fold."
   ]
  },
  {
   "cell_type": "code",
   "execution_count": 232,
   "metadata": {},
   "outputs": [
    {
     "data": {
      "text/html": [
       "<pre style=\"white-space:pre;overflow-x:auto;line-height:normal;font-family:Menlo,'DejaVu Sans Mono',consolas,'Courier New',monospace\">Total Error Rate = <span style=\"color: #008080; text-decoration-color: #008080; font-weight: bold\">0.167</span>\n",
       "</pre>\n"
      ],
      "text/plain": [
       "Total Error Rate = \u001b[1;36m0.167\u001b[0m\n"
      ]
     },
     "metadata": {},
     "output_type": "display_data"
    }
   ],
   "source": [
    "errors = 1 - cross_val_score(clf, X, y, cv=kf)\n",
    "rich.print(f'Total Error Rate = {errors.mean():.3f}')"
   ]
  },
  {
   "cell_type": "markdown",
   "metadata": {},
   "source": [
    "### Feature Selection\n",
    "\n",
    "In feature selection, we try to find a subset of features (genes) that give as\n",
    "accurate (or sometimes more accurate) predictions.  \n",
    "Having created an evaluation function, there is not left much to code. We'll\n",
    "use `` which will call our evaluation function with different feature combinations\n",
    "and give us back the best subset it can find.  \n",
    "Note that feature selection can take a long time to complete. To save time, I\n",
    "have decided to limit the feature selection to 50 genes that are most correlated\n",
    "with the target class."
   ]
  },
  {
   "cell_type": "code",
   "execution_count": 233,
   "metadata": {},
   "outputs": [],
   "source": [
    "corrvals = np.corrcoef(X.T, (y == 'ALL').astype(int), rowvar=True)[:, -1]\n",
    "I = corrvals.argsort()[:50]"
   ]
  },
  {
   "cell_type": "markdown",
   "metadata": {},
   "source": [
    "Now do feature selection out of the onews we decieded to consider"
   ]
  },
  {
   "cell_type": "code",
   "execution_count": 234,
   "metadata": {},
   "outputs": [
    {
     "data": {
      "text/plain": [
       "SequentialFeatureSelector(cv=KFold(n_splits=4, random_state=69, shuffle=True),\n",
       "                          estimator=SVC(random_state=69))"
      ]
     },
     "execution_count": 234,
     "metadata": {},
     "output_type": "execute_result"
    }
   ],
   "source": [
    "# Ifilter_selected =\n",
    "clf = svm.SVC(kernel='rbf', random_state=69)\n",
    "sfs = SequentialFeatureSelector(clf, direction='forward', cv=kf)\n",
    "sfs.fit(X[:,I], y)"
   ]
  },
  {
   "cell_type": "code",
   "execution_count": 244,
   "metadata": {},
   "outputs": [
    {
     "data": {
      "text/plain": [
       "(72, 25)"
      ]
     },
     "execution_count": 244,
     "metadata": {},
     "output_type": "execute_result"
    }
   ],
   "source": [
    "X[:,I][:, sfs.get_support()].shape"
   ]
  },
  {
   "cell_type": "code",
   "execution_count": 239,
   "metadata": {},
   "outputs": [
    {
     "data": {
      "text/plain": [
       "(72, 50)"
      ]
     },
     "execution_count": 239,
     "metadata": {},
     "output_type": "execute_result"
    }
   ],
   "source": [
    "X[:,I].shape"
   ]
  },
  {
   "cell_type": "code",
   "execution_count": 187,
   "metadata": {},
   "outputs": [
    {
     "name": "stdout",
     "output_type": "stream",
     "text": [
      "Feature Selection resulted in the following genes: X95735_at, X17042_at, M23197_at, M84526_at, L09209_s_at, U46499_at, M27891_at, M16038_at, M22960_at, M63138_at, M55150_at, M62762_at, U50136_rna1_at, X61587_at, X16546_at, M11147_at, M32304_s_at, X52056_at, D49950_at, M19507_at, X14008_rna1_f_at, M81695_s_at, X62654_rna1_at, X64072_s_at, Y00787_s_at\n"
     ]
    }
   ],
   "source": [
    "print('Feature Selection resulted in the following genes:', \n",
    "      ', '.join(genes.values[I][sfs.get_support()]))"
   ]
  },
  {
   "cell_type": "markdown",
   "metadata": {},
   "source": [
    "### Performance of Selected Features\n",
    "\n",
    "Repeat cross-validation to get the performance of selected features."
   ]
  },
  {
   "cell_type": "code",
   "execution_count": 197,
   "metadata": {},
   "outputs": [],
   "source": [
    "accuracy = cross_val_score(clf, X[:,I][:,sfs.get_support()], y, cv=kf)"
   ]
  },
  {
   "cell_type": "code",
   "execution_count": 209,
   "metadata": {},
   "outputs": [
    {
     "data": {
      "text/html": [
       "<pre style=\"white-space:pre;overflow-x:auto;line-height:normal;font-family:Menlo,'DejaVu Sans Mono',consolas,'Courier New',monospace\">Average Accuracy: <span style=\"color: #008080; text-decoration-color: #008080; font-weight: bold\">0.9861</span>\n",
       "</pre>\n"
      ],
      "text/plain": [
       "Average Accuracy: \u001b[1;36m0.9861\u001b[0m\n"
      ]
     },
     "metadata": {},
     "output_type": "display_data"
    }
   ],
   "source": [
    "rich.print(f'Average Accuracy: {accuracy.mean():.4f}')"
   ]
  },
  {
   "cell_type": "markdown",
   "metadata": {},
   "source": [
    "### Normalize Data (Using Standard-Normalization and Re-do it all)\n",
    "\n",
    "This is something that we should've done before. But let's now normalize\n",
    "to see the accuracy we can achieve with normalized data."
   ]
  },
  {
   "cell_type": "code",
   "execution_count": 214,
   "metadata": {},
   "outputs": [],
   "source": [
    "X_std = (X - X.mean()) / X.std()"
   ]
  },
  {
   "cell_type": "markdown",
   "metadata": {},
   "source": [
    "#### Accuracy of Using Normalized Data for Prediction"
   ]
  },
  {
   "cell_type": "code",
   "execution_count": 217,
   "metadata": {},
   "outputs": [
    {
     "data": {
      "text/html": [
       "<pre style=\"white-space:pre;overflow-x:auto;line-height:normal;font-family:Menlo,'DejaVu Sans Mono',consolas,'Courier New',monospace\">Average Accuracy: <span style=\"color: #008080; text-decoration-color: #008080; font-weight: bold\">0.8333</span>\n",
       "</pre>\n"
      ],
      "text/plain": [
       "Average Accuracy: \u001b[1;36m0.8333\u001b[0m\n"
      ]
     },
     "metadata": {},
     "output_type": "display_data"
    }
   ],
   "source": [
    "accuracy = cross_val_score(clf, X_std, y, cv=kf)\n",
    "rich.print(f'Average Accuracy: {accuracy.mean():.4f}')"
   ]
  },
  {
   "cell_type": "markdown",
   "metadata": {},
   "source": [
    "### Feature Selection with Normalized Data"
   ]
  },
  {
   "cell_type": "code",
   "execution_count": 218,
   "metadata": {},
   "outputs": [
    {
     "name": "stdout",
     "output_type": "stream",
     "text": [
      "Feature Selection resulted in the following genes: X95735_at, X17042_at, M23197_at, M84526_at, L09209_s_at, U46499_at, M27891_at, M16038_at, M22960_at, M63138_at, M55150_at, M62762_at, U50136_rna1_at, X61587_at, X16546_at, M11147_at, M32304_s_at, X52056_at, D49950_at, M19507_at, X14008_rna1_f_at, M81695_s_at, X62654_rna1_at, X64072_s_at, Y00787_s_at\n"
     ]
    },
    {
     "data": {
      "text/html": [
       "<pre style=\"white-space:pre;overflow-x:auto;line-height:normal;font-family:Menlo,'DejaVu Sans Mono',consolas,'Courier New',monospace\">Average Accuracy: <span style=\"color: #008080; text-decoration-color: #008080; font-weight: bold\">0.9861</span>\n",
       "</pre>\n"
      ],
      "text/plain": [
       "Average Accuracy: \u001b[1;36m0.9861\u001b[0m\n"
      ]
     },
     "metadata": {},
     "output_type": "display_data"
    }
   ],
   "source": [
    "corrvals = np.corrcoef(X_std.T, (y == 'ALL').astype(int), rowvar=True)[:, -1]\n",
    "I = corrvals.argsort()[:50]\n",
    "\n",
    "clf = svm.SVC(kernel='rbf', random_state=69)\n",
    "sfs = SequentialFeatureSelector(clf, direction='forward', cv=kf)\n",
    "sfs.fit(X_std[:,I], y)\n",
    "\n",
    "print('Feature Selection resulted in the following genes:', \n",
    "      ', '.join(genes.values[I][sfs.get_support()]))\n",
    "\n",
    "accuracy = cross_val_score(clf, X_std[:,I][:,sfs.get_support()], y, cv=kf)\n",
    "rich.print(f'Average Accuracy: {accuracy.mean():.4f}')"
   ]
  }
 ],
 "metadata": {
  "interpreter": {
   "hash": "67e0f964b3466f5738b0815e7d98ae8f0b358b23e82348a28e5ef609e7edb7a9"
  },
  "kernelspec": {
   "display_name": "Python 3.9.12 ('py-env')",
   "language": "python",
   "name": "python3"
  },
  "language_info": {
   "codemirror_mode": {
    "name": "ipython",
    "version": 3
   },
   "file_extension": ".py",
   "mimetype": "text/x-python",
   "name": "python",
   "nbconvert_exporter": "python",
   "pygments_lexer": "ipython3",
   "version": "3.9.12"
  },
  "orig_nbformat": 4
 },
 "nbformat": 4,
 "nbformat_minor": 2
}
