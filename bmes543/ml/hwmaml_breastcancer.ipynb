{
 "cells": [
  {
   "cell_type": "markdown",
   "metadata": {},
   "source": [
    "# Microarray Analysis - Machine Learning\n",
    "\n",
    "**Author:** [Tony Kabilan Okeke](mailto:tko35@drexel.edu)\n",
    "\n",
    "In this study, you will analyze a Breast Cancer dataset [GSE7390](https://www.ncbi.nlm.nih.gov/geo/query/acc.cgi?acc=gse7390), and identify a gene signature for prediction of Breast Cancer relapse.  \n",
    "Use SVM to predict relapse. Use a forward-selection strategy and 10-fold crossvalidation to determine the best gene signature."
   ]
  },
  {
   "cell_type": "code",
   "execution_count": 1,
   "metadata": {},
   "outputs": [],
   "source": [
    "%load_ext autoreload"
   ]
  },
  {
   "cell_type": "code",
   "execution_count": 4,
   "metadata": {},
   "outputs": [],
   "source": [
    "# Imports\n",
    "%autoreload 2\n",
    "import pandas as pd\n",
    "import numpy as np\n",
    "import rich\n",
    "import re\n",
    "\n",
    "from tools import geodlparse, hwmaml_breastcancer_trainandtest\n",
    "from sklearn import svm\n",
    "from sklearn.preprocessing import StandardScaler\n",
    "from sklearn.feature_selection import SequentialFeatureSelector\n",
    "from sklearn.model_selection import StratifiedKFold, train_test_split, cross_val_score"
   ]
  },
  {
   "cell_type": "code",
   "execution_count": 3,
   "metadata": {},
   "outputs": [
    {
     "name": "stdout",
     "output_type": "stream",
     "text": [
      "Loading cached data...\n"
     ]
    }
   ],
   "source": [
    "# Download and parse data\n",
    "gse = geodlparse('GSE7390')\n",
    "gse_data = pd.concat(\n",
    "    [ gsm.table.set_index('ID_REF')['VALUE'] for _,gsm in gse.gsms.items() ],\n",
    "    axis=1\n",
    ").set_axis([ x for x,_ in gse.gsms.items() ], axis=1, inplace=False)\n",
    "\n",
    "# Retrieve sample groups (labels)\n",
    "groups = gse.phenotype_data.filter(regex='e\\\\.rfs$', axis=1) \\\n",
    "    .replace({'0': 'No Replapse', '1': 'Relapse'}).sort_index()\n",
    "\n",
    "# Select the 76 genes identified in Wang, 2005\n",
    "with open('data/genelist.txt', 'r') as file:\n",
    "    genelist = [re.match(r'^\\d{6}\\w+', x)[0] for x in file.readlines()]\n",
    "\n",
    "gse_data = gse_data.filter(genelist, axis=0).T \\\n",
    "    .rename_axis('', axis=1) \\\n",
    "    .sort_index(axis=1)\n",
    "\n",
    "# Define variables for ml\n",
    "X = gse_data.values\n",
    "X = StandardScaler().fit_transform(X)  # normalize data\n",
    "y = groups['characteristics_ch1.14.e.rfs'].values\n",
    "genes = gse_data.columns"
   ]
  },
  {
   "cell_type": "code",
   "execution_count": 9,
   "metadata": {},
   "outputs": [
    {
     "data": {
      "text/html": [
       "<pre style=\"white-space:pre;overflow-x:auto;line-height:normal;font-family:Menlo,'DejaVu Sans Mono',consolas,'Courier New',monospace\">The accuracy of the SVM model for a single fold is <span style=\"color: #008080; text-decoration-color: #008080; font-weight: bold\">60.00</span>%\n",
       "</pre>\n"
      ],
      "text/plain": [
       "The accuracy of the SVM model for a single fold is \u001b[1;36m60.00\u001b[0m%\n"
      ]
     },
     "metadata": {},
     "output_type": "display_data"
    }
   ],
   "source": [
    "# Split the data into training (90%) and testing sets (10%)\n",
    "X_train, X_test, y_train, y_test = train_test_split(X, y, train_size=.9, random_state=69)\n",
    "\n",
    "# Split the data into stratified folds and select the first partition\n",
    "skf = StratifiedKFold(n_splits=4, random_state=69, shuffle=True)\n",
    "train_idx, test_idx = list(skf.split(X_train, y_train))[0]\n",
    "X_train, y_train = X_train[train_idx], y_train[train_idx]\n",
    "\n",
    "# Fit the training data to the SVM \n",
    "clf = svm.SVC(kernel='rbf')\n",
    "clf.fit(X_train, y_train)\n",
    "\n",
    "# Get model predictions\n",
    "y_pred = clf.predict(X_test)\n",
    "\n",
    "# Calculate and report model accuracy\n",
    "accuracy = (y_pred == y_test).mean()\n",
    "rich.print(f'The accuracy of the SVM model for a single fold is {accuracy*100:.2f}%')"
   ]
  },
  {
   "cell_type": "markdown",
   "metadata": {},
   "source": [
    "Write an evaluation function `hwmalml_breastcancer_trainandtest(X_train, y_train, X_test, y_test)`\n",
    "that trains an SVM using `X_train` and `y_train`, where `X_train` is the gene\n",
    "expression data for a subset of the samples, and `y_train` is a binary vector\n",
    "of class labels (indicating cancer relapse status) and calculates the **accuracy**\n",
    "on the test data (`X_test` and `y_test`).\n",
    "\n",
    "The `hwmaml_breastcancer_trainandtest` function is defined in the `tools.py` module."
   ]
  },
  {
   "cell_type": "code",
   "execution_count": 10,
   "metadata": {},
   "outputs": [
    {
     "data": {
      "text/html": [
       "<pre style=\"white-space:pre;overflow-x:auto;line-height:normal;font-family:Menlo,'DejaVu Sans Mono',consolas,'Courier New',monospace\">The accuracy of the SVM model for a single fold is <span style=\"color: #008080; text-decoration-color: #008080; font-weight: bold\">60.00</span>%\n",
       "</pre>\n"
      ],
      "text/plain": [
       "The accuracy of the SVM model for a single fold is \u001b[1;36m60.00\u001b[0m%\n"
      ]
     },
     "metadata": {},
     "output_type": "display_data"
    }
   ],
   "source": [
    "accuracy = hwmaml_breastcancer_trainandtest(X_train, y_train, X_test, y_test)\n",
    "rich.print(f'The accuracy of the SVM model for a single fold is {accuracy*100:.2f}%')"
   ]
  },
  {
   "cell_type": "markdown",
   "metadata": {},
   "source": [
    "### Feature Selection\n",
    "\n",
    "Perform forward selection of features (genes) that give the best prediction \n",
    "results (as measured by accuracy).  \n",
    "\n",
    "- Create a 10-fold cross-validation of all data samples\n",
    "- Report the names of the genes that were selected to have the best accuracy"
   ]
  },
  {
   "cell_type": "code",
   "execution_count": 11,
   "metadata": {},
   "outputs": [
    {
     "data": {
      "text/html": [
       "<pre style=\"white-space:pre;overflow-x:auto;line-height:normal;font-family:Menlo,'DejaVu Sans Mono',consolas,'Courier New',monospace\">Feature Selection resulted in the following genes:\n",
       "200965_s_at, 201068_s_at, 201368_at, 201663_s_at, 201664_at, 202239_at, 202687_s_at, \n",
       "203306_s_at, 203391_at, 204073_s_at, 204218_at, 205034_at, 205848_at, 208683_at, 209524_at, \n",
       "209835_x_at, 210028_s_at, 211382_s_at, 211762_s_at, 212014_x_at, 212567_s_at, 214919_s_at, \n",
       "216693_x_at, 217102_at, 217404_s_at, 217471_at, 217771_at, 217815_at, 218430_s_at, \n",
       "218533_s_at, 218914_at, 219510_at, 219588_s_at, 219724_s_at, 220886_at, 221028_s_at, \n",
       "221241_s_at, 221634_at\n",
       "</pre>\n"
      ],
      "text/plain": [
       "Feature Selection resulted in the following genes:\n",
       "200965_s_at, 201068_s_at, 201368_at, 201663_s_at, 201664_at, 202239_at, 202687_s_at, \n",
       "203306_s_at, 203391_at, 204073_s_at, 204218_at, 205034_at, 205848_at, 208683_at, 209524_at, \n",
       "209835_x_at, 210028_s_at, 211382_s_at, 211762_s_at, 212014_x_at, 212567_s_at, 214919_s_at, \n",
       "216693_x_at, 217102_at, 217404_s_at, 217471_at, 217771_at, 217815_at, 218430_s_at, \n",
       "218533_s_at, 218914_at, 219510_at, 219588_s_at, 219724_s_at, 220886_at, 221028_s_at, \n",
       "221241_s_at, 221634_at\n"
      ]
     },
     "metadata": {},
     "output_type": "display_data"
    }
   ],
   "source": [
    "# Initialize cross-validator\n",
    "skf = StratifiedKFold(n_splits=10, random_state=69, shuffle=True)\n",
    "# Initialize SVM classifier\n",
    "clf = svm.SVC(kernel='rbf')\n",
    "# Perform feature selection\n",
    "sfs = SequentialFeatureSelector(clf, direction='forward', cv=skf, n_jobs=-1)\n",
    "sfs.fit(X, y);\n",
    "\n",
    "rich.print('Feature Selection resulted in the following genes:\\n', \n",
    "           ', '.join(genes[sfs.get_support()]), sep='')"
   ]
  },
  {
   "cell_type": "code",
   "execution_count": 12,
   "metadata": {},
   "outputs": [
    {
     "data": {
      "text/html": [
       "<pre style=\"white-space:pre;overflow-x:auto;line-height:normal;font-family:Menlo,'DejaVu Sans Mono',consolas,'Courier New',monospace\">The SVM accuracy is <span style=\"color: #008080; text-decoration-color: #008080; font-weight: bold\">73.842</span>%\n",
       "</pre>\n"
      ],
      "text/plain": [
       "The SVM accuracy is \u001b[1;36m73.842\u001b[0m%\n"
      ]
     },
     "metadata": {},
     "output_type": "display_data"
    }
   ],
   "source": [
    "# Using the list of genes selected, report the 10-fold cross-validation accuracy\n",
    "# of the SVM model\n",
    "accuracy = cross_val_score(clf, X[:,sfs.get_support()], y, cv=skf)\n",
    "rich.print(f'The SVM accuracy is {accuracy.mean()*100:.3f}%')"
   ]
  }
 ],
 "metadata": {
  "kernelspec": {
   "display_name": "Python 3.9.12 ('py-env')",
   "language": "python",
   "name": "python3"
  },
  "language_info": {
   "codemirror_mode": {
    "name": "ipython",
    "version": 3
   },
   "file_extension": ".py",
   "mimetype": "text/x-python",
   "name": "python",
   "nbconvert_exporter": "python",
   "pygments_lexer": "ipython3",
   "version": "3.9.12"
  },
  "orig_nbformat": 4,
  "vscode": {
   "interpreter": {
    "hash": "67e0f964b3466f5738b0815e7d98ae8f0b358b23e82348a28e5ef609e7edb7a9"
   }
  }
 },
 "nbformat": 4,
 "nbformat_minor": 2
}
