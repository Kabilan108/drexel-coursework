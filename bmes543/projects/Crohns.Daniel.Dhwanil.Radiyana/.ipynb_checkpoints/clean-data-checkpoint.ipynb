{
 "cells": [
  {
   "cell_type": "markdown",
   "id": "d6768163",
   "metadata": {
    "hideCode": false,
    "hidePrompt": false
   },
   "source": [
    "# BMES 543 Final Project\n",
    "This notebook will go through all GSE and clean them, perform DGE analysis and ready them for ML models\n",
    "<p>Daniel Thompson \n",
    "<p>Dhwanil Patel\n",
    "<p>Radiyana Mancheva\n",
    "<p>Date: 5/28/22 </p>"
   ]
  },
  {
   "cell_type": "markdown",
   "id": "6dba2e31",
   "metadata": {
    "hideCode": false,
    "hidePrompt": false
   },
   "source": [
    "# Imports\n",
    "All python packages used for the project"
   ]
  },
  {
   "cell_type": "code",
   "execution_count": 2,
   "id": "14d3817e",
   "metadata": {
    "hideCode": false,
    "hidePrompt": false
   },
   "outputs": [],
   "source": [
    "%load_ext autoreload\n",
    "%autoreload 2\n",
    "import sys,os; sys.path.append(os.environ['BMESAHMETDIR']); import bmes\n",
    "\n",
    "import pandas as pd\n",
    "import re\n",
    "import matplotlib.pyplot as plt\n",
    "from scipy import stats\n",
    "import math\n",
    "import random\n",
    "import pickle\n",
    "\n",
    "PATH = os.path.join(bmes.tempdir(),\"BMES543_crohns_project\")"
   ]
  },
  {
   "cell_type": "markdown",
   "id": "f622ba1e",
   "metadata": {},
   "source": [
    "# Prepare Datasets for Analysis\n",
    "Load data in from pickle files, extract records of interest and attach labels (exp vs ctrol and genes )"
   ]
  },
  {
   "cell_type": "markdown",
   "id": "03730030",
   "metadata": {
    "heading_collapsed": true,
    "hideCode": false,
    "hidePrompt": false
   },
   "source": [
    "## Extract Data\n",
    "take the output from the gather dataset notebook (extract data from .pkl file) and form into a df and add gene symbol"
   ]
  },
  {
   "cell_type": "markdown",
   "id": "4b67e0d6",
   "metadata": {
    "hidden": true,
    "hideCode": false,
    "hidePrompt": false
   },
   "source": [
    "### GSE179285\n",
    "- https://www-ncbi-nlm-nih-gov.ezproxy.u-pec.fr/geo/query/acc.cgi?acc=GSE179285\n",
    "- terminal ileum - 2 samples (12 healthy 55 terminal ileum)\n",
    "\n",
    "- 8 true control\n",
    "\n"
   ]
  },
  {
   "cell_type": "markdown",
   "id": "fbf35fff",
   "metadata": {
    "heading_collapsed": true,
    "hidden": true,
    "hideCode": false,
    "hidePrompt": false
   },
   "source": [
    "#### Output\n",
    "this output splits the exp group but later on joins them back together\n",
    "- cotrol_df_GSE179285\n",
    "- uninflam_df_GSE179285\n",
    "- inflam_df_GSE179285"
   ]
  },
  {
   "cell_type": "code",
   "execution_count": 12,
   "id": "77d5ad15",
   "metadata": {
    "hidden": true,
    "hideCode": false,
    "hidePrompt": false
   },
   "outputs": [],
   "source": [
    "df_pheno_GSE179285 = pd.read_pickle(os.path.join(PATH,\"GSE179285_phenotype_data.pkl\"))\n",
    "df_data_GSE179285 = pd.read_pickle(os.path.join(PATH,\"GSE179285_data.pkl\"))\n",
    "df_gpl_GSE179285 = pd.read_pickle(os.path.join(PATH,\"GPL_GSE179285_data.pkl\"))\n",
    "\n",
    "df_data_GSE179285.set_index('ID_REF',inplace=True)"
   ]
  },
  {
   "cell_type": "code",
   "execution_count": 13,
   "id": "b6e7ff96",
   "metadata": {
    "hidden": true,
    "hideCode": false,
    "hidePrompt": false
   },
   "outputs": [
    {
     "name": "stderr",
     "output_type": "stream",
     "text": [
      "/var/folders/f_/lzxrkkdj3y70kvr6vz8hk34w0000gn/T/ipykernel_6653/2490800219.py:13: PerformanceWarning: DataFrame is highly fragmented.  This is usually the result of calling `frame.insert` many times, which has poor performance.  Consider joining all columns at once using pd.concat(axis=1) instead. To get a de-fragmented frame, use `newframe = frame.copy()`\n",
      "  df_data_GSE179285[\"gene\"] = genes\n"
     ]
    }
   ],
   "source": [
    "# change the data to gene symbol \n",
    "# add to others\n",
    "genes = []\n",
    "probe_dict = {}\n",
    "\n",
    "for i,r in enumerate(df_gpl_GSE179285[\"ID\"]):\n",
    "    probe_dict[r] = df_gpl_GSE179285.loc[i,\"GENE_SYMBOL\"]\n",
    "\n",
    "    \n",
    "for i in df_data_GSE179285.index:\n",
    "    genes.append(probe_dict[i])\n",
    "\n",
    "df_data_GSE179285[\"gene\"] = genes"
   ]
  },
  {
   "cell_type": "code",
   "execution_count": 14,
   "id": "8a5612d5",
   "metadata": {
    "hidden": true,
    "hideCode": false,
    "hidePrompt": false
   },
   "outputs": [],
   "source": [
    "# df_pheno_GSE179285[\"source_name_ch1\"].unique()"
   ]
  },
  {
   "cell_type": "code",
   "execution_count": 15,
   "id": "55577e3e",
   "metadata": {
    "hidden": true,
    "hideCode": false,
    "hidePrompt": false
   },
   "outputs": [],
   "source": [
    "ctrl_map_GSE179285 = df_pheno_GSE179285[\"source_name_ch1\"].apply(lambda x: True if re.findall(r\"Controls uninflamed terminal ileum\",x) else False)\n",
    "uninflamed_term_map_GSE179285 = df_pheno_GSE179285[\"source_name_ch1\"].apply(lambda x: True if re.findall(r\"Crohn's uninflamed terminal ileum\",x) else False)\n",
    "inflamed_term_map_GSE179285 = df_pheno_GSE179285[\"source_name_ch1\"].apply(lambda x: True if re.findall(r\"Crohn's inflamed terminal ileum\",x) else False)"
   ]
  },
  {
   "cell_type": "code",
   "execution_count": 16,
   "id": "688bcd0b",
   "metadata": {
    "hidden": true,
    "hideCode": false,
    "hidePrompt": false
   },
   "outputs": [],
   "source": [
    "# add to others\n",
    "df_data_GSE179285.dropna(subset=['gene'],inplace=True)\n",
    "df_data_GSE179285.set_index('gene',inplace=True)"
   ]
  },
  {
   "cell_type": "code",
   "execution_count": 17,
   "id": "f596aef7",
   "metadata": {
    "hidden": true,
    "hideCode": false,
    "hidePrompt": false
   },
   "outputs": [],
   "source": [
    "# get gsm of interest\n",
    "control_list = df_pheno_GSE179285.loc[ctrl_map_GSE179285,\"geo_accession\"].values\n",
    "uninflam_list = df_pheno_GSE179285.loc[uninflamed_term_map_GSE179285,\"geo_accession\"].values\n",
    "inflam_list = df_pheno_GSE179285.loc[inflamed_term_map_GSE179285,\"geo_accession\"].values"
   ]
  },
  {
   "cell_type": "code",
   "execution_count": 18,
   "id": "d9841550",
   "metadata": {
    "hidden": true,
    "hideCode": false,
    "hidePrompt": false
   },
   "outputs": [],
   "source": [
    "cotrol_df_GSE179285 = df_data_GSE179285.loc[:,df_data_GSE179285.columns.isin(control_list)].copy()\n",
    "uninflam_df_GSE179285 = df_data_GSE179285.loc[:,df_data_GSE179285.columns.isin(uninflam_list)].copy()\n",
    "inflam_df_GSE179285 = df_data_GSE179285.loc[:,df_data_GSE179285.columns.isin(inflam_list)].copy()"
   ]
  },
  {
   "cell_type": "markdown",
   "id": "dada6d39",
   "metadata": {
    "heading_collapsed": true,
    "hidden": true,
    "hideCode": false,
    "hidePrompt": false
   },
   "source": [
    "### GSE112366\n",
    "- https://www.ncbi.nlm.nih.gov/geo/query/acc.cgi?acc=GSE112366\n",
    "- terminal ileum baseline w0\n",
    "- 26 control w0 - true"
   ]
  },
  {
   "cell_type": "markdown",
   "id": "f836c3a2",
   "metadata": {
    "hidden": true,
    "hideCode": false,
    "hidePrompt": false
   },
   "source": [
    "#### Output\n",
    "- cotrol_df_GSE112366\n",
    "- exp_df_GSE112366"
   ]
  },
  {
   "cell_type": "code",
   "execution_count": 19,
   "id": "d29b74cf",
   "metadata": {
    "hidden": true,
    "hideCode": false,
    "hidePrompt": false
   },
   "outputs": [],
   "source": [
    "# GSE112366_series_matrix.txt\n",
    "df_pheno_GSE112366 = pd.read_pickle(os.path.join(PATH,\"GSE112366_phenotype_data.pkl\"))\n",
    "df_data_GSE112366 = pd.read_pickle(os.path.join(PATH,\"GSE112366_data.pkl\"))\n",
    "df_gpl_GSE112366 = pd.read_pickle(os.path.join(PATH,\"GPL_GSE112366_data.pkl\"))\n",
    "\n",
    "df_data_GSE112366.set_index('ID_REF',inplace=True)"
   ]
  },
  {
   "cell_type": "code",
   "execution_count": 20,
   "id": "158146f8",
   "metadata": {
    "hidden": true,
    "hideCode": false,
    "hidePrompt": false
   },
   "outputs": [
    {
     "name": "stderr",
     "output_type": "stream",
     "text": [
      "/var/folders/f_/lzxrkkdj3y70kvr6vz8hk34w0000gn/T/ipykernel_6653/1826656429.py:12: PerformanceWarning: DataFrame is highly fragmented.  This is usually the result of calling `frame.insert` many times, which has poor performance.  Consider joining all columns at once using pd.concat(axis=1) instead. To get a de-fragmented frame, use `newframe = frame.copy()`\n",
      "  df_data_GSE112366[\"gene\"] = genes # data\n"
     ]
    }
   ],
   "source": [
    "# change the data to gene symbol\n",
    "genes = []\n",
    "probe_dict = {}\n",
    "\n",
    "for i,r in enumerate(df_gpl_GSE112366[\"ID\"]):\n",
    "    probe_dict[r] = df_gpl_GSE112366.loc[i,\"Gene Symbol\"]\n",
    "\n",
    "    \n",
    "for i in df_data_GSE112366.index: # data.index\n",
    "    genes.append(probe_dict[i])\n",
    "\n",
    "df_data_GSE112366[\"gene\"] = genes # data"
   ]
  },
  {
   "cell_type": "code",
   "execution_count": 21,
   "id": "14f73174",
   "metadata": {
    "hidden": true,
    "hideCode": false,
    "hidePrompt": false
   },
   "outputs": [],
   "source": [
    "# with pd.option_context('display.max_rows', 5, 'display.max_columns', None): \n",
    "#     display(df_pheno_GSE112366)\n",
    "\n",
    "# df_pheno_GSE112366[\"characteristics_ch1.1.diagnosis\"]"
   ]
  },
  {
   "cell_type": "code",
   "execution_count": 22,
   "id": "d799c7c6",
   "metadata": {
    "hidden": true,
    "hideCode": false,
    "hidePrompt": false
   },
   "outputs": [],
   "source": [
    "ctrl_map_GSE112366 = df_pheno_GSE112366[\"characteristics_ch1.1.diagnosis\"].apply(lambda x: True if re.findall(r\"Normal\",x) else False)\n",
    "exp_map_GSE112366 = df_pheno_GSE112366[\"title\"].apply(lambda x: True if re.findall(r\"WK0\",x) else False)\n",
    "# df_pheno_GSE112366.loc[exp_map_GSE112366,:]"
   ]
  },
  {
   "cell_type": "code",
   "execution_count": 23,
   "id": "0f55a454",
   "metadata": {
    "hidden": true,
    "hideCode": false,
    "hidePrompt": false
   },
   "outputs": [],
   "source": [
    "# add to others\n",
    "df_data_GSE112366.dropna(subset=['gene'],inplace=True)\n",
    "df_data_GSE112366.set_index('gene',inplace=True)\n"
   ]
  },
  {
   "cell_type": "code",
   "execution_count": 24,
   "id": "c6eed77e",
   "metadata": {
    "hidden": true,
    "hideCode": false,
    "hidePrompt": false
   },
   "outputs": [],
   "source": [
    "# get gsm of interest\n",
    "control_list = df_pheno_GSE112366.loc[ctrl_map_GSE112366,\"geo_accession\"].values\n",
    "exp_list = df_pheno_GSE112366.loc[exp_map_GSE112366,\"geo_accession\"].values"
   ]
  },
  {
   "cell_type": "code",
   "execution_count": 25,
   "id": "962b762d",
   "metadata": {
    "hidden": true,
    "hideCode": false,
    "hidePrompt": false
   },
   "outputs": [],
   "source": [
    "cotrol_df_GSE112366 = df_data_GSE112366.loc[:,df_data_GSE112366.columns.isin(control_list)].copy()\n",
    "exp_df_GSE112366 = df_data_GSE112366.loc[:,df_data_GSE112366.columns.isin(exp_list)].copy()"
   ]
  },
  {
   "cell_type": "markdown",
   "id": "59682f11",
   "metadata": {
    "heading_collapsed": true,
    "hideCode": false,
    "hidePrompt": false
   },
   "source": [
    "## Clean Data\n",
    "34 control samples within data\n",
    "- Output: 2 df containing control and exp groups for each of the GSE"
   ]
  },
  {
   "cell_type": "markdown",
   "id": "4fe74c8b",
   "metadata": {
    "heading_collapsed": true,
    "hidden": true,
    "hideCode": false,
    "hidePrompt": false
   },
   "source": [
    "### Clean GSE179285\n",
    "Remove duplicate genes from df (average), merge control and exp samples to one df,  uppercase genes and remove dash / spaces from gene name\n",
    "- about 10 mins to run\n",
    "- Output: mergeddf_GSE179285"
   ]
  },
  {
   "cell_type": "code",
   "execution_count": 26,
   "id": "01beae48",
   "metadata": {
    "hidden": true,
    "hideCode": false,
    "hidePrompt": false
   },
   "outputs": [],
   "source": [
    "uninflam_df_GSE179285.columns = [\"U_\"+str(i) for i,c in enumerate(uninflam_df_GSE179285.columns)]\n",
    "inflam_df_GSE179285.columns = [\"I_\"+str(i) for i,c in enumerate(inflam_df_GSE179285.columns)]\n",
    "cotrol_df_GSE179285.columns = [\"C_\"+str(i) for i,c in enumerate(cotrol_df_GSE179285.columns)]\n",
    "# find duplicates, average expression, put back in \n",
    "\n",
    "dup_genes = uninflam_df_GSE179285.loc[uninflam_df_GSE179285.index.duplicated(),:].index.values\n",
    "\n",
    "i = 0\n",
    "\n",
    "for g in dup_genes:\n",
    "    \n",
    "    tu = uninflam_df_GSE179285.loc[uninflam_df_GSE179285.index == g,:].mean()\n",
    "    ti = inflam_df_GSE179285.loc[inflam_df_GSE179285.index == g,:].mean()\n",
    "    ci = cotrol_df_GSE179285.loc[cotrol_df_GSE179285.index == g,:].mean()\n",
    "    \n",
    "    \n",
    "    uninflam_df_GSE179285.drop(index=g,inplace=True)\n",
    "    inflam_df_GSE179285.drop(index=g,inplace=True)\n",
    "    cotrol_df_GSE179285.drop(index=g,inplace=True)\n",
    "    \n",
    "    uninflam_df_GSE179285.loc[g] = tu.values\n",
    "    inflam_df_GSE179285.loc[g] = ti.values\n",
    "    cotrol_df_GSE179285.loc[g] = ci.values"
   ]
  },
  {
   "cell_type": "code",
   "execution_count": 27,
   "id": "5f03a530",
   "metadata": {
    "hidden": true,
    "hideCode": false,
    "hidePrompt": false
   },
   "outputs": [],
   "source": [
    "mergeddf_GSE179285 = uninflam_df_GSE179285.merge(inflam_df_GSE179285,on=\"gene\").merge(cotrol_df_GSE179285,on=\"gene\")\n",
    "\n",
    "new_genes =[i.upper().replace(\" \",\"\").replace(\"-\",\"\") for i in mergeddf_GSE179285.index]\n",
    "mergeddf_GSE179285.index = new_genes"
   ]
  },
  {
   "cell_type": "code",
   "execution_count": 28,
   "id": "203746c0",
   "metadata": {
    "hidden": true,
    "hideCode": false,
    "hidePrompt": false
   },
   "outputs": [],
   "source": [
    "mergeddf_GSE179285.to_pickle(os.path.join(PATH,\"GSE179285_df_cleaned_merged.pkl\"))"
   ]
  },
  {
   "cell_type": "markdown",
   "id": "07624fed",
   "metadata": {
    "heading_collapsed": true,
    "hidden": true,
    "hideCode": false,
    "hidePrompt": false
   },
   "source": [
    "### Clean GSE112366\n",
    "Remove duplicate genes from df and merge control and exp samples to one df\n",
    "- Output: mergeddf_GSE112366"
   ]
  },
  {
   "cell_type": "code",
   "execution_count": 34,
   "id": "f2db5207",
   "metadata": {
    "hidden": true,
    "hideCode": false,
    "hidePrompt": false
   },
   "outputs": [],
   "source": [
    "exp_df_GSE112366.columns = [\"E_\"+str(i) for i,c in enumerate(exp_df_GSE112366.columns)]\n",
    "cotrol_df_GSE112366.columns = [\"C_\"+str(i) for i,c in enumerate(cotrol_df_GSE112366.columns)]\n",
    "# find duplicates, average expression, put back in \n",
    "\n",
    "dup_genes = cotrol_df_GSE112366.loc[cotrol_df_GSE112366.index.duplicated(),:].index.values\n",
    "\n",
    "i = 0\n",
    "\n",
    "for g in dup_genes:\n",
    "    \n",
    "    eu = exp_df_GSE112366.loc[exp_df_GSE112366.index == g,:].mean()\n",
    "    ci = cotrol_df_GSE112366.loc[cotrol_df_GSE112366.index == g,:].mean()\n",
    "    \n",
    "    \n",
    "    exp_df_GSE112366.drop(index=g,inplace=True)\n",
    "    cotrol_df_GSE112366.drop(index=g,inplace=True)\n",
    "   \n",
    "    exp_df_GSE112366.loc[g] = eu.values\n",
    "    cotrol_df_GSE112366.loc[g] = ci.values\n",
    "    \n",
    "mergeddf_GSE112366 =exp_df_GSE112366.merge(cotrol_df_GSE112366,on=\"gene\")\n",
    "\n",
    "new_genes =[i.upper().replace(\" \",\"\").replace(\"-\",\"\") for i in mergeddf_GSE112366.index]\n",
    "mergeddf_GSE112366.index = new_genes\n",
    "\n",
    "mergeddf_GSE112366.to_pickle(os.path.join(PATH,\"GSE112366_df_cleaned_merged.pkl\"))"
   ]
  },
  {
   "cell_type": "markdown",
   "id": "1ab3fa17",
   "metadata": {
    "hideCode": false,
    "hidePrompt": false
   },
   "source": [
    "# Analysis\n",
    "Perform differential gene expression analysis and explore pathways"
   ]
  },
  {
   "cell_type": "markdown",
   "id": "aff4ab6c",
   "metadata": {
    "hideCode": false,
    "hidePrompt": false
   },
   "source": [
    "## GSE112366\n",
    "497 sig genes found  "
   ]
  },
  {
   "cell_type": "code",
   "execution_count": 6,
   "id": "9cbc39ef",
   "metadata": {
    "hideCode": false,
    "hidePrompt": false
   },
   "outputs": [],
   "source": [
    "mergeddf_GSE112366 = pd.read_pickle(os.path.join(PATH,\"GSE112366_df_cleaned_merged.pkl\"))\n",
    "\n",
    "E = mergeddf_GSE112366.loc[:,mergeddf_GSE112366.filter(regex=(\"E_*\")).columns.values]\n",
    "C = mergeddf_GSE112366.loc[:,mergeddf_GSE112366.filter(regex=(\"C_*\")).columns.values]\n",
    "\n",
    "genes = E.index\n",
    "stats_list = []\n",
    "fc = []\n",
    "\n",
    "for g in genes:\n",
    "    [tstat,pval] = stats.ttest_ind(E.loc[g,:].values,C.loc[g,:].values)\n",
    "    fc.append(E.loc[g,:].values.mean() - C.loc[g,:].values.mean()) # log2 fold change E - C\n",
    "    stats_list.append(pval)\n",
    "    \n",
    "\n"
   ]
  },
  {
   "cell_type": "code",
   "execution_count": 7,
   "id": "5c962d33",
   "metadata": {
    "hideCode": false,
    "hidePrompt": false
   },
   "outputs": [],
   "source": [
    "res = -np.log10(stats_list)\n",
    "\n",
    "allgenes = pd.DataFrame(data={\"gene\":genes,\"pval\":res,\"log2FC\":fc})"
   ]
  },
  {
   "cell_type": "code",
   "execution_count": 8,
   "id": "9406116f",
   "metadata": {
    "hideCode": false,
    "hidePrompt": false
   },
   "outputs": [
    {
     "data": {
      "text/plain": [
       "<matplotlib.lines.Line2D at 0x15cc54880>"
      ]
     },
     "execution_count": 8,
     "metadata": {},
     "output_type": "execute_result"
    },
    {
     "data": {
      "text/plain": [
       "<Figure size 1440x1440 with 0 Axes>"
      ]
     },
     "metadata": {},
     "output_type": "display_data"
    },
    {
     "data": {
      "image/png": "[encoded data removed]",
      "text/plain": [
       "<Figure size 432x288 with 1 Axes>"
      ]
     },
     "metadata": {
      "needs_background": "light"
     },
     "output_type": "display_data"
    }
   ],
   "source": [
    "# volcano plot used to visualize genes of interest\n",
    "plt.figure(figsize=(20,20))\n",
    "allgenes.plot.scatter(y = \"pval\",x=\"log2FC\")\n",
    "plt.xlabel(\"log2(Treated:Control)\",fontsize=14)\n",
    "plt.ylabel(\"-log10(pvalue)\",fontsize=14)\n",
    "plt.axhline(y=-math.log10(0.01), color='r', linestyle='-')\n",
    "plt.axvline(x=math.log2(2), color='r', linestyle='-')\n",
    "plt.axvline(x= math.log2(1/2), color='r', linestyle='-')"
   ]
  },
  {
   "cell_type": "code",
   "execution_count": 9,
   "id": "dcdfe8f8",
   "metadata": {
    "hideCode": false,
    "hidePrompt": false
   },
   "outputs": [],
   "source": [
    "pmask = (allgenes[\"pval\"]> -math.log10(0.05)).values.tolist()\n",
    "emask = (allgenes[\"log2FC\"] > math.log2(1.5)).values.tolist()\n",
    "nemask = (allgenes[\"log2FC\"]< math.log2(1/1.5)).values.tolist()\n",
    "\n",
    "comb_mask = [p and (e or n) for p,e,n in zip(pmask,emask,nemask)]\n",
    "\n",
    "\n",
    "# pmask = (allgenes[\"pval\"]> -math.log10(0.05)).values.tolist()\n",
    "# emask = (allgenes[\"log2FC\"] > math.log2(1.5)).values.tolist()\n",
    "# nemask = (allgenes[\"log2FC\"]< math.log2(1/1.5)).values.tolist()\n",
    "\n",
    "# comb_mask = [p and (e or n) for p,e,n in zip(pmask,emask,nemask)]s\n"
   ]
  },
  {
   "cell_type": "code",
   "execution_count": 10,
   "id": "80dc9190",
   "metadata": {
    "hideCode": false,
    "hidePrompt": false,
    "scrolled": true
   },
   "outputs": [
    {
     "name": "stdout",
     "output_type": "stream",
     "text": [
      "497 sig genes found \n"
     ]
    }
   ],
   "source": [
    "sig_gene_GSE112366 = []\n",
    "for g in allgenes.loc[comb_mask,\"gene\"]:\n",
    "    sig_gene_GSE112366.append(g)\n",
    "\n",
    "print(\"{} sig genes found \".format(len(sig_gene_GSE112366)))"
   ]
  },
  {
   "cell_type": "code",
   "execution_count": 11,
   "id": "224ef424",
   "metadata": {
    "hideCode": false,
    "hidePrompt": false
   },
   "outputs": [
    {
     "name": "stdout",
     "output_type": "stream",
     "text": [
      "TLR2 Found\n",
      "NPY Found\n",
      "FOS Found\n",
      "ALDH1A2 Found\n",
      "AREG Found\n",
      "MAFF Found\n"
     ]
    }
   ],
   "source": [
    "for g in sig_gene_GSE112366:\n",
    "    if g in [\"LDLR\", \"TLR2\", \"FOXM1\", \"NPY\" , \"LPL\" , \"ALDH1A2\",\"MAFF\",\"FOS\",\"MABF\",\"MCL1\",\"NFKBIA\",\"JUNB\",\"AREG\",\"ATF3\",\"NR1H3\"]:\n",
    "        print(g + \" Found\")\n",
    "#https://journals.plos.org/plosone/article?id=10.1371/journal.pone.0265189#pone.0265189.s007"
   ]
  },
  {
   "cell_type": "markdown",
   "id": "b55c39cc",
   "metadata": {
    "hideCode": false,
    "hidePrompt": false
   },
   "source": [
    "## GSE179285\n",
    "415 sig genes found "
   ]
  },
  {
   "cell_type": "code",
   "execution_count": 44,
   "id": "2e01648e",
   "metadata": {
    "hideCode": false,
    "hidePrompt": false
   },
   "outputs": [],
   "source": [
    "mergeddf_GSE179285 = pd.read_pickle(os.path.join(PATH,\"GSE179285_df_cleaned_merged.pkl\"))"
   ]
  },
  {
   "cell_type": "code",
   "execution_count": 45,
   "id": "6fca2f65",
   "metadata": {
    "hideCode": false,
    "hidePrompt": false
   },
   "outputs": [],
   "source": [
    "expdf = mergeddf_GSE179285.filter(regex=(\"U_*|I_*\")).copy()\n",
    "expdf.columns = [\"E_\"+str(i) for i,e in enumerate(expdf)]\n",
    "cdf = mergeddf_GSE179285.filter(regex=(\"C_*\")).copy()\n",
    "\n",
    "mergeddf_GSE179285 = expdf.merge(cdf,left_index=True,right_index=True)"
   ]
  },
  {
   "cell_type": "code",
   "execution_count": 46,
   "id": "60e62141",
   "metadata": {
    "hideCode": false,
    "hidePrompt": false
   },
   "outputs": [],
   "source": [
    "# norm_df = mergeddf_GSE179285.apply(lambda x: (x - np.mean(x)) /np.std(x) )\n",
    "norm_df = mergeddf_GSE179285.copy()\n",
    "\n",
    "FC =  norm_df.filter(regex=(\"E_*\")).mean(axis=1) - norm_df.filter(regex=(\"C_*\")).mean(axis=1)"
   ]
  },
  {
   "cell_type": "code",
   "execution_count": 47,
   "id": "ed769e84",
   "metadata": {
    "hideCode": false,
    "hidePrompt": false
   },
   "outputs": [],
   "source": [
    "genes = expdf.index\n",
    "stats_list = []\n",
    "\n",
    "for g in genes:\n",
    "    pval = stats.ttest_ind(expdf.loc[g,:].values,cdf.loc[g,:].values).pvalue\n",
    "    stats_list.append(pval)\n",
    "    \n",
    "res = -np.log10(stats_list)\n",
    "\n",
    "allgenes = pd.DataFrame(data={\"gene\":genes,\"pval\":res,\"log2FC\":FC})"
   ]
  },
  {
   "cell_type": "code",
   "execution_count": 48,
   "id": "64981ccc",
   "metadata": {
    "hideCode": false,
    "hidePrompt": false
   },
   "outputs": [
    {
     "data": {
      "text/plain": [
       "<matplotlib.lines.Line2D at 0x15c6683a0>"
      ]
     },
     "execution_count": 48,
     "metadata": {},
     "output_type": "execute_result"
    },
    {
     "data": {
      "image/png": "[encoded data removed]",
      "text/plain": [
       "<Figure size 720x720 with 1 Axes>"
      ]
     },
     "metadata": {
      "needs_background": "light"
     },
     "output_type": "display_data"
    }
   ],
   "source": [
    "plt.rcParams['figure.figsize'] = [10,10]\n",
    "allgenes.plot.scatter(y = \"pval\",x=\"log2FC\")\n",
    "plt.xlabel(\"log2(Treated:Control)\",fontsize=14)\n",
    "plt.ylabel(\"-log10(pvalue)\",fontsize=14)\n",
    "plt.axhline(y=-math.log10(0.01), color='r', linestyle='-')\n",
    "plt.axvline(x=math.log2(2), color='r', linestyle='-')\n",
    "plt.axvline(x= math.log2(1/2), color='r', linestyle='-')"
   ]
  },
  {
   "cell_type": "code",
   "execution_count": 49,
   "id": "c78b4777",
   "metadata": {
    "hideCode": false,
    "hidePrompt": false
   },
   "outputs": [
    {
     "name": "stdout",
     "output_type": "stream",
     "text": [
      "415 sig genes found \n"
     ]
    }
   ],
   "source": [
    "pmask = (allgenes[\"pval\"]> -math.log10(0.05)).values.tolist()\n",
    "emask = (allgenes[\"log2FC\"] > math.log2(1.5)).values.tolist()\n",
    "nemask = (allgenes[\"log2FC\"]< math.log2(1/1.5)).values.tolist()\n",
    "\n",
    "comb_mask = [p and (e or n) for p,e,n in zip(pmask,emask,nemask)]\n",
    "\n",
    "sig_gene_GSE179285 = []\n",
    "for g in allgenes.loc[comb_mask,\"gene\"]:\n",
    "    sig_gene_GSE179285.append(g)\n",
    "    \n",
    "print(\"{} sig genes found \".format(len(sig_gene_GSE179285)))"
   ]
  },
  {
   "cell_type": "code",
   "execution_count": 50,
   "id": "24c582f1",
   "metadata": {},
   "outputs": [
    {
     "data": {
      "text/plain": [
       "['FZD7',\n",
       " 'TNNC2',\n",
       " 'TRAPPC10',\n",
       " 'CPXM2',\n",
       " 'DIO3OS',\n",
       " 'PAG1',\n",
       " 'GPRIN2',\n",
       " 'IL15RA',\n",
       " 'SLC14A2',\n",
       " 'SYNPO',\n",
       " 'VAV3',\n",
       " 'TPPP3',\n",
       " 'PNP',\n",
       " 'IGSF9',\n",
       " 'C2',\n",
       " 'TCIRG1',\n",
       " 'CRIP1',\n",
       " 'NAT8',\n",
       " 'C9ORF24',\n",
       " 'PKLR',\n",
       " 'ATP10B',\n",
       " 'KDM6A',\n",
       " 'MPZL3',\n",
       " 'CARD6',\n",
       " 'KCNJ13',\n",
       " 'TMEM50B',\n",
       " 'FAM47E',\n",
       " 'CDK20',\n",
       " 'CFI',\n",
       " 'RFX2',\n",
       " 'APOL2',\n",
       " 'MMRN2',\n",
       " 'CARD17',\n",
       " 'CHDH',\n",
       " 'XBP1',\n",
       " 'GRK5',\n",
       " 'SLCO2A1',\n",
       " 'CDHR1',\n",
       " 'TNFSF13',\n",
       " 'BTN3A3',\n",
       " 'SERINC1',\n",
       " 'MRAP2',\n",
       " 'ZMYND15',\n",
       " 'CCDC28A',\n",
       " 'NOS2',\n",
       " 'SGK223',\n",
       " 'PSMB8',\n",
       " 'APOL1',\n",
       " 'HS3ST1',\n",
       " 'GSTA1',\n",
       " 'TAP1',\n",
       " 'TRIM69',\n",
       " 'FOLH1',\n",
       " 'CCRL1',\n",
       " 'ZDHHC11',\n",
       " 'GSDMB',\n",
       " 'SCARNA17',\n",
       " 'SLC28A2',\n",
       " 'CASP10',\n",
       " 'DEFB1',\n",
       " 'EDN1',\n",
       " 'HCP5',\n",
       " 'NAAA',\n",
       " 'FBXO6',\n",
       " 'RPS6KA2',\n",
       " 'ARHGAP44',\n",
       " 'TBXAS1',\n",
       " 'LIPE',\n",
       " 'CAMK2N1',\n",
       " 'C6ORF115',\n",
       " 'LGALS2',\n",
       " 'ANO5',\n",
       " 'DUOX2',\n",
       " 'TAPBPL',\n",
       " 'MAOA',\n",
       " 'PLEKHA1',\n",
       " 'HCG26',\n",
       " 'AKAP1',\n",
       " 'PYY',\n",
       " 'IRF1',\n",
       " 'CRELD2',\n",
       " 'PRRG4',\n",
       " 'DMRTA1',\n",
       " 'TSTA3',\n",
       " 'TMEM200A',\n",
       " 'PDZK1IP1',\n",
       " 'CASP1',\n",
       " 'IGIP',\n",
       " 'LRRC32',\n",
       " 'IDH2',\n",
       " 'MANF',\n",
       " 'LYN',\n",
       " 'CTSS',\n",
       " 'GSTA5',\n",
       " 'IL17RB',\n",
       " 'GSTA2',\n",
       " 'C5ORF35',\n",
       " 'ZNF91',\n",
       " 'GUCA2B',\n",
       " 'CYP2J2',\n",
       " 'ACVRL1',\n",
       " 'TC2N',\n",
       " 'GMPPB',\n",
       " 'FMO1',\n",
       " 'SLC25A15',\n",
       " 'C14ORF167',\n",
       " 'FOLH1B',\n",
       " 'XIST',\n",
       " 'LOC401847',\n",
       " 'KCNH6',\n",
       " 'RNF149',\n",
       " 'ZC3H12A',\n",
       " 'CCND2',\n",
       " 'TMEM125',\n",
       " 'C17ORF76',\n",
       " 'MFSD6L',\n",
       " 'PDK2',\n",
       " 'CARD16',\n",
       " 'LOC100131733',\n",
       " 'PARP9',\n",
       " 'PIM3',\n",
       " 'CKMT2',\n",
       " 'ICA1',\n",
       " 'HOXA5',\n",
       " 'MECOM',\n",
       " 'SOX14',\n",
       " 'PSMB9',\n",
       " 'NFKBIZ',\n",
       " 'CLDN2',\n",
       " 'CD93',\n",
       " 'LRG1',\n",
       " 'ENKUR',\n",
       " 'ADCY4',\n",
       " 'BAK1',\n",
       " 'C2CD4B',\n",
       " 'RHOBTB2',\n",
       " 'KCNE3',\n",
       " 'CARD14',\n",
       " 'MS4A7',\n",
       " 'TFEC',\n",
       " 'STX7',\n",
       " 'FAM105A',\n",
       " 'CFB',\n",
       " 'LIMK2',\n",
       " 'LCN2',\n",
       " 'MPP5',\n",
       " 'JDP2',\n",
       " 'CD14',\n",
       " 'LOC100505938',\n",
       " 'STAT1',\n",
       " 'P2RY1',\n",
       " 'GPR160',\n",
       " 'IFITM4P',\n",
       " 'IFITM3',\n",
       " 'LOC100653245',\n",
       " 'CCL11',\n",
       " 'NAT8B',\n",
       " 'LINC00467',\n",
       " 'PRAM1',\n",
       " 'LILRB2',\n",
       " 'ND3',\n",
       " 'CHP2',\n",
       " 'GSTA3',\n",
       " 'KCNK1',\n",
       " 'EHD4',\n",
       " 'B3GNT6',\n",
       " 'FBXL3',\n",
       " 'IGKV1D8',\n",
       " 'KCNMB1',\n",
       " 'C1QC',\n",
       " 'CCRL2',\n",
       " 'STAU2',\n",
       " 'IL18R1',\n",
       " 'KDELR3',\n",
       " 'DBNDD2',\n",
       " 'CD163',\n",
       " 'FCER1G',\n",
       " 'CYBRD1',\n",
       " 'IL20RA',\n",
       " 'PYY2',\n",
       " 'PECAM1',\n",
       " 'FCN1',\n",
       " 'GPR171',\n",
       " 'TMC5',\n",
       " 'IL18',\n",
       " 'FCGR3A',\n",
       " 'GBP4',\n",
       " 'TCF21',\n",
       " 'CLDN8',\n",
       " 'IGHA1',\n",
       " 'ADD3',\n",
       " 'CLCA4',\n",
       " 'PCDH18',\n",
       " 'TMEM229A',\n",
       " 'ASPHD2',\n",
       " 'SAMD9L',\n",
       " 'NEURL1B',\n",
       " 'APCDD1',\n",
       " 'MAP3K5',\n",
       " 'GMDS',\n",
       " 'MMAA',\n",
       " 'ESAM',\n",
       " 'DHRS4',\n",
       " 'MGC16025',\n",
       " 'UBE2L6',\n",
       " 'TINAGL1',\n",
       " 'ROBO4',\n",
       " 'GADD45G',\n",
       " 'PHLPP2',\n",
       " 'APOL3',\n",
       " 'MANSC1',\n",
       " 'AGPHD1',\n",
       " 'ELF3',\n",
       " 'PSMB10',\n",
       " 'CCDC48',\n",
       " 'CEBPD',\n",
       " 'LAP3',\n",
       " 'HSPA12B',\n",
       " 'P4HB',\n",
       " 'LILRB3',\n",
       " 'LOC283663',\n",
       " 'GBP1',\n",
       " 'RAB3C',\n",
       " 'CES2',\n",
       " 'GUCA2A',\n",
       " 'GALM',\n",
       " 'INPP1',\n",
       " 'SIGLECP3',\n",
       " 'C1QTNF5',\n",
       " 'MUC1',\n",
       " 'LIPG',\n",
       " 'ETV7',\n",
       " 'HSD11B2',\n",
       " 'FLRT3',\n",
       " 'NPY',\n",
       " 'CXCR6',\n",
       " 'NPNT',\n",
       " 'EMILIN2',\n",
       " 'IGLV657',\n",
       " 'LGALS9',\n",
       " 'O3FAR1',\n",
       " 'C10ORF116',\n",
       " 'MT1F',\n",
       " 'NCOA7',\n",
       " 'CLEC14A',\n",
       " 'FGL2',\n",
       " 'BATF2',\n",
       " 'HRH1',\n",
       " 'CXCL10',\n",
       " 'NR1H4',\n",
       " 'FOXN3',\n",
       " 'PLVAP',\n",
       " 'RGS18',\n",
       " 'KIF19',\n",
       " 'ABLIM2',\n",
       " 'GLTP',\n",
       " 'CEACAM3',\n",
       " 'LAD1',\n",
       " 'GIP',\n",
       " 'MS4A4A',\n",
       " 'TGM2',\n",
       " 'HLAF',\n",
       " 'CD209',\n",
       " 'SLC10A2',\n",
       " 'PXMP2',\n",
       " 'ANK3',\n",
       " 'BDH2',\n",
       " 'NGEF',\n",
       " 'ANKRD58',\n",
       " 'BLNK',\n",
       " 'ANGPTL4',\n",
       " 'MXRA5',\n",
       " 'C4ORF7',\n",
       " 'CXCL6',\n",
       " 'GBP5',\n",
       " 'TDP2',\n",
       " 'HLAE',\n",
       " 'SAA2',\n",
       " 'CPA3',\n",
       " 'MYL5',\n",
       " 'PKP2',\n",
       " 'PRF1',\n",
       " 'RNF141',\n",
       " 'TYMP',\n",
       " 'IGLL5',\n",
       " 'PHYH',\n",
       " 'KRT81',\n",
       " 'LOC100505633',\n",
       " 'EMB',\n",
       " 'VNN1',\n",
       " 'SORL1',\n",
       " 'LOC100652818',\n",
       " 'VPREB3',\n",
       " 'GPX2',\n",
       " 'C6ORF123',\n",
       " 'CPVL',\n",
       " 'EHF',\n",
       " 'GLS',\n",
       " 'GBP2',\n",
       " 'MS4A2',\n",
       " 'GALNT8',\n",
       " 'NCF2',\n",
       " 'GSDMD',\n",
       " 'C1ORF38',\n",
       " 'MMP25',\n",
       " 'LOC100506130',\n",
       " 'FPR1',\n",
       " 'TTC39A',\n",
       " 'GALNT3',\n",
       " 'RGS5',\n",
       " 'WNT2B',\n",
       " 'HOXB5',\n",
       " 'NAT1',\n",
       " 'SULT1E1',\n",
       " 'LMBRD1',\n",
       " 'CLECL1',\n",
       " 'EIF1AY',\n",
       " 'AP1AR',\n",
       " 'VWF',\n",
       " 'FGR',\n",
       " 'IFI30',\n",
       " 'PLAUR',\n",
       " 'LOC100506748',\n",
       " 'PIGZ',\n",
       " 'DNAJB9',\n",
       " 'TLR2',\n",
       " 'SLAMF7',\n",
       " 'MT1G',\n",
       " 'MRC1',\n",
       " 'SH3D19',\n",
       " 'DPEP1',\n",
       " 'RAB25',\n",
       " 'COL4A1',\n",
       " 'CPNE2',\n",
       " 'C5ORF41',\n",
       " 'GATM',\n",
       " 'PLA2G7',\n",
       " 'CEACAM6',\n",
       " 'TPSAB1',\n",
       " 'ACE',\n",
       " 'ANKRD22',\n",
       " 'EMR2',\n",
       " 'SLAMF8',\n",
       " 'CD34',\n",
       " 'HLADRB3',\n",
       " 'CD19',\n",
       " 'KCNS3',\n",
       " 'SYTL3',\n",
       " 'MADCAM1',\n",
       " 'FCGR1B',\n",
       " 'PLN',\n",
       " 'PSME2',\n",
       " 'KHK',\n",
       " 'STBD1',\n",
       " 'IRF9',\n",
       " 'TSHZ1',\n",
       " 'GJB2',\n",
       " 'CEACAM5',\n",
       " 'IL4R',\n",
       " 'RNF125',\n",
       " 'DACT2',\n",
       " 'EMBP1',\n",
       " 'MAOB',\n",
       " 'FCRLA',\n",
       " 'IFITM1',\n",
       " 'HCK',\n",
       " 'PTAFR',\n",
       " 'IL2RA',\n",
       " 'GRIN3A',\n",
       " 'CD164',\n",
       " 'HDC',\n",
       " 'HOXD1',\n",
       " 'CES3',\n",
       " 'LYPD5',\n",
       " 'HEPH',\n",
       " 'IDO1',\n",
       " 'FAM82A1',\n",
       " 'MLN',\n",
       " 'HLADPA1',\n",
       " 'WARS',\n",
       " 'CDH16',\n",
       " 'ETS2',\n",
       " 'CLIC6',\n",
       " 'IL32',\n",
       " 'OSR2',\n",
       " 'HLAB',\n",
       " 'CBX7',\n",
       " 'GIMAP6',\n",
       " 'GOLM1',\n",
       " 'FUT3',\n",
       " 'KAZALD1',\n",
       " 'CXCL16',\n",
       " 'RASL11A',\n",
       " 'CIB2',\n",
       " 'XDH',\n",
       " 'ECSCR',\n",
       " 'HECA',\n",
       " 'PLSCR1',\n",
       " 'OAT',\n",
       " 'RBP1',\n",
       " 'UNC5CL',\n",
       " 'GGT5',\n",
       " 'CD52',\n",
       " 'FMO5',\n",
       " 'C14ORF129',\n",
       " 'CCDC68',\n",
       " 'SLC23A3',\n",
       " 'TNS4',\n",
       " 'CXCL2',\n",
       " 'BIK',\n",
       " 'BEND7',\n",
       " 'MUC4',\n",
       " 'NCF4',\n",
       " 'RTP4',\n",
       " 'LOC100132330']"
      ]
     },
     "execution_count": 50,
     "metadata": {},
     "output_type": "execute_result"
    }
   ],
   "source": [
    "allgenes.loc[comb_mask,:].sort_values(by=[\"pval\",\"log2FC\"],ascending=False).loc[:,\"gene\"].tolist()\n"
   ]
  },
  {
   "cell_type": "code",
   "execution_count": 18,
   "id": "545b067d",
   "metadata": {
    "hideCode": false,
    "hidePrompt": false
   },
   "outputs": [
    {
     "name": "stdout",
     "output_type": "stream",
     "text": [
      "TLR2 Found\n",
      "NPY Found\n"
     ]
    }
   ],
   "source": [
    "for g in sig_gene_GSE179285:\n",
    "    if g in [\"LDLR\", \"TLR2\", \"FOXM1\", \"NPY\" , \"LPL\" , \"ALDH1A2\",\"MAFF\",\"FOS\",\"MABF\",\"MCL1\",\"NFKBIA\",\"JUNB\",\"AREG\",\"ATF3\",\"NR1H3\"]:\n",
    "        print(g + \" Found\")\n",
    "#https://journals.plos.org/plosone/article?id=10.1371/journal.pone.0265189#pone.0265189.s007"
   ]
  },
  {
   "cell_type": "markdown",
   "id": "1f9cbee4",
   "metadata": {},
   "source": [
    "## GSE52746 (Validation set)\n",
    "205 sig genes found "
   ]
  },
  {
   "cell_type": "code",
   "execution_count": 19,
   "id": "86c470ea",
   "metadata": {},
   "outputs": [],
   "source": [
    "val_df = pd.read_pickle(os.path.join(PATH,\"validation_znorm.pkl\"))\n",
    "\n",
    "FC =  val_df.filter(regex=(\"E_*\")).mean(axis=1) - val_df.filter(regex=(\"C_*\")).mean(axis=1)\n",
    "\n",
    "expdf = val_df.filter(regex=(\"E*\")).copy()\n",
    "cdf = val_df.filter(regex=(\"C_*\")).copy()\n",
    "\n",
    "\n",
    "genes = expdf.index\n",
    "stats_list = []\n",
    "\n",
    "for g in genes:\n",
    "    pval = stats.ttest_ind(expdf.loc[g,:].values,cdf.loc[g,:].values).pvalue\n",
    "    stats_list.append(pval)\n",
    "    \n",
    "res = -np.log10(stats_list)\n",
    "\n",
    "allgenes = pd.DataFrame(data={\"gene\":genes,\"pval\":res,\"log2FC\":FC})"
   ]
  },
  {
   "cell_type": "code",
   "execution_count": 20,
   "id": "1e0ecdaf",
   "metadata": {},
   "outputs": [
    {
     "data": {
      "text/plain": [
       "<matplotlib.lines.Line2D at 0x15c6f2590>"
      ]
     },
     "execution_count": 20,
     "metadata": {},
     "output_type": "execute_result"
    },
    {
     "data": {
      "image/png": "[encoded data removed]",
      "text/plain": [
       "<Figure size 720x720 with 1 Axes>"
      ]
     },
     "metadata": {
      "needs_background": "light"
     },
     "output_type": "display_data"
    }
   ],
   "source": [
    "plt.rcParams['figure.figsize'] = [10,10]\n",
    "allgenes.plot.scatter(y = \"pval\",x=\"log2FC\")\n",
    "plt.xlabel(\"log2(Treated:Control)\",fontsize=14)\n",
    "plt.ylabel(\"-log10(pvalue)\",fontsize=14)\n",
    "plt.axhline(y=-math.log10(0.05), color='r', linestyle='-')\n",
    "plt.axvline(x=math.log2(2), color='r', linestyle='-')\n",
    "plt.axvline(x= math.log2(1/2), color='r', linestyle='-')"
   ]
  },
  {
   "cell_type": "code",
   "execution_count": 21,
   "id": "2750a928",
   "metadata": {},
   "outputs": [
    {
     "name": "stdout",
     "output_type": "stream",
     "text": [
      "205 sig genes found \n"
     ]
    }
   ],
   "source": [
    "pmask = (allgenes[\"pval\"]> -math.log10(0.05)).values.tolist()\n",
    "emask = (allgenes[\"log2FC\"] > math.log2(1.5)).values.tolist()\n",
    "nemask = (allgenes[\"log2FC\"]< math.log2(1/1.5)).values.tolist()\n",
    "\n",
    "comb_mask = [p and (e or n) for p,e,n in zip(pmask,emask,nemask)]\n",
    "\n",
    "sig_gene_val = []\n",
    "for g in allgenes.loc[comb_mask,\"gene\"]:\n",
    "    sig_gene_val.append(g)\n",
    "    \n",
    "print(\"{} sig genes found \".format(len(sig_gene_val)))"
   ]
  },
  {
   "cell_type": "code",
   "execution_count": 36,
   "id": "7482d8ef",
   "metadata": {},
   "outputs": [
    {
     "data": {
      "text/html": [
       "<div>\n",
       "<style scoped>\n",
       "    .dataframe tbody tr th:only-of-type {\n",
       "        vertical-align: middle;\n",
       "    }\n",
       "\n",
       "    .dataframe tbody tr th {\n",
       "        vertical-align: top;\n",
       "    }\n",
       "\n",
       "    .dataframe thead th {\n",
       "        text-align: right;\n",
       "    }\n",
       "</style>\n",
       "<table border=\"1\" class=\"dataframe\">\n",
       "  <thead>\n",
       "    <tr style=\"text-align: right;\">\n",
       "      <th></th>\n",
       "      <th>gene</th>\n",
       "      <th>pval</th>\n",
       "      <th>log2FC</th>\n",
       "    </tr>\n",
       "    <tr>\n",
       "      <th>gene</th>\n",
       "      <th></th>\n",
       "      <th></th>\n",
       "      <th></th>\n",
       "    </tr>\n",
       "  </thead>\n",
       "  <tbody>\n",
       "    <tr>\n",
       "      <th>A1BG</th>\n",
       "      <td>A1BG</td>\n",
       "      <td>0.073593</td>\n",
       "      <td>-0.021079</td>\n",
       "    </tr>\n",
       "    <tr>\n",
       "      <th>NAT2</th>\n",
       "      <td>NAT2</td>\n",
       "      <td>1.302214</td>\n",
       "      <td>-0.261413</td>\n",
       "    </tr>\n",
       "    <tr>\n",
       "      <th>ADA</th>\n",
       "      <td>ADA</td>\n",
       "      <td>1.122044</td>\n",
       "      <td>0.314077</td>\n",
       "    </tr>\n",
       "    <tr>\n",
       "      <th>CDH2</th>\n",
       "      <td>CDH2</td>\n",
       "      <td>0.347694</td>\n",
       "      <td>-0.035558</td>\n",
       "    </tr>\n",
       "    <tr>\n",
       "      <th>AKT3</th>\n",
       "      <td>AKT3</td>\n",
       "      <td>0.158463</td>\n",
       "      <td>0.013073</td>\n",
       "    </tr>\n",
       "    <tr>\n",
       "      <th>...</th>\n",
       "      <td>...</td>\n",
       "      <td>...</td>\n",
       "      <td>...</td>\n",
       "    </tr>\n",
       "    <tr>\n",
       "      <th>PTBP3</th>\n",
       "      <td>PTBP3</td>\n",
       "      <td>0.470859</td>\n",
       "      <td>0.140897</td>\n",
       "    </tr>\n",
       "    <tr>\n",
       "      <th>KCNE2</th>\n",
       "      <td>KCNE2</td>\n",
       "      <td>0.636520</td>\n",
       "      <td>-0.153712</td>\n",
       "    </tr>\n",
       "    <tr>\n",
       "      <th>DGCR2</th>\n",
       "      <td>DGCR2</td>\n",
       "      <td>0.131550</td>\n",
       "      <td>-0.022891</td>\n",
       "    </tr>\n",
       "    <tr>\n",
       "      <th>CASP8AP2</th>\n",
       "      <td>CASP8AP2</td>\n",
       "      <td>0.053882</td>\n",
       "      <td>-0.023918</td>\n",
       "    </tr>\n",
       "    <tr>\n",
       "      <th>SCO2</th>\n",
       "      <td>SCO2</td>\n",
       "      <td>0.501727</td>\n",
       "      <td>-0.122659</td>\n",
       "    </tr>\n",
       "  </tbody>\n",
       "</table>\n",
       "<p>18479 rows × 3 columns</p>\n",
       "</div>"
      ],
      "text/plain": [
       "              gene      pval    log2FC\n",
       "gene                                  \n",
       "A1BG          A1BG  0.073593 -0.021079\n",
       "NAT2          NAT2  1.302214 -0.261413\n",
       "ADA            ADA  1.122044  0.314077\n",
       "CDH2          CDH2  0.347694 -0.035558\n",
       "AKT3          AKT3  0.158463  0.013073\n",
       "...            ...       ...       ...\n",
       "PTBP3        PTBP3  0.470859  0.140897\n",
       "KCNE2        KCNE2  0.636520 -0.153712\n",
       "DGCR2        DGCR2  0.131550 -0.022891\n",
       "CASP8AP2  CASP8AP2  0.053882 -0.023918\n",
       "SCO2          SCO2  0.501727 -0.122659\n",
       "\n",
       "[18479 rows x 3 columns]"
      ]
     },
     "execution_count": 36,
     "metadata": {},
     "output_type": "execute_result"
    }
   ],
   "source": [
    "allgenes"
   ]
  },
  {
   "cell_type": "code",
   "execution_count": 43,
   "id": "c04d8f42",
   "metadata": {},
   "outputs": [
    {
     "data": {
      "text/plain": [
       "['SLC6A14',\n",
       " 'DMBT1',\n",
       " 'CXCL1',\n",
       " 'REG1B',\n",
       " 'LPCAT1',\n",
       " 'DUOXA2',\n",
       " 'PFKFB3',\n",
       " 'PCSK1',\n",
       " 'CXCL8',\n",
       " 'CXCL3',\n",
       " 'IL1B',\n",
       " 'CFB',\n",
       " 'DUOX2',\n",
       " 'SAMD9L',\n",
       " 'IFI6',\n",
       " 'APOL1',\n",
       " 'EGR2',\n",
       " 'BHLHE40',\n",
       " 'SGMS1',\n",
       " 'CFI',\n",
       " 'ADM',\n",
       " 'DOCK4',\n",
       " 'LCN2',\n",
       " 'GZMB',\n",
       " 'C2CD4A',\n",
       " 'CXCL2',\n",
       " 'LAMB1',\n",
       " 'IFIT3',\n",
       " 'S100A8',\n",
       " 'DUSP4',\n",
       " 'EGR3',\n",
       " 'PTGS2',\n",
       " 'ELL2',\n",
       " 'C2',\n",
       " 'C4BPA',\n",
       " 'CCN1',\n",
       " 'SLC2A3',\n",
       " 'PDE4B',\n",
       " 'PARP9',\n",
       " 'IRF1',\n",
       " 'CCN2',\n",
       " 'NCOA7',\n",
       " 'MAP3K8',\n",
       " 'S100A9',\n",
       " 'TAP1',\n",
       " 'SERPINA1',\n",
       " 'STAT1',\n",
       " 'IFI44',\n",
       " 'PI3',\n",
       " 'PDZK1IP1',\n",
       " 'NAMPT',\n",
       " 'CBR3',\n",
       " 'CH25H',\n",
       " 'IFITM2',\n",
       " 'CXCL11',\n",
       " 'BTN3A3',\n",
       " 'MUC1',\n",
       " 'ETS2',\n",
       " 'CCL2',\n",
       " 'WARS1',\n",
       " 'GBP1',\n",
       " 'MMP3',\n",
       " 'NNMT',\n",
       " 'CD44',\n",
       " 'IDO1',\n",
       " 'DHRS11',\n",
       " 'DPP10AS1',\n",
       " 'UBE2L6',\n",
       " 'FCGR3B',\n",
       " 'LAMP3',\n",
       " 'DAPP1',\n",
       " 'BCL2A1',\n",
       " 'MAFF',\n",
       " 'CXCL6',\n",
       " 'IL6',\n",
       " 'PRDM1',\n",
       " 'PODXL',\n",
       " 'SOD2',\n",
       " 'F3',\n",
       " 'G0S2',\n",
       " 'CHI3L1',\n",
       " 'ERO1A',\n",
       " 'DEFA6',\n",
       " 'TCN1',\n",
       " 'HLADMA',\n",
       " 'CASP1',\n",
       " 'XAF1',\n",
       " 'TRIM22',\n",
       " 'GBP2',\n",
       " 'ZC3H12A',\n",
       " 'CXCL10',\n",
       " 'DDIT4',\n",
       " 'XDH',\n",
       " 'PMAIP1',\n",
       " 'TIMP1',\n",
       " 'RILPL2',\n",
       " 'ARFGAP3',\n",
       " 'FBXO6',\n",
       " 'CD38',\n",
       " 'BIRC3',\n",
       " 'IL1A',\n",
       " 'TNFAIP3',\n",
       " 'UBD',\n",
       " 'SATB2AS1',\n",
       " 'TPK1',\n",
       " 'NR4A2',\n",
       " 'PROK2',\n",
       " 'PLAU',\n",
       " 'COL4A1',\n",
       " 'PLEK',\n",
       " 'CXCL9',\n",
       " 'PHLDA1',\n",
       " 'PLAAT4',\n",
       " 'ENPP2',\n",
       " 'VNN1',\n",
       " 'COL1A2',\n",
       " 'SLC5A1',\n",
       " 'RGS2',\n",
       " 'TACSTD2',\n",
       " 'FPR1',\n",
       " 'WNT5A',\n",
       " 'ROBO1',\n",
       " 'ANXA1',\n",
       " 'PLAUR',\n",
       " 'TIPARP',\n",
       " 'HLADRB1',\n",
       " 'CD83',\n",
       " 'CCL20',\n",
       " 'DRAM1',\n",
       " 'TMEM158',\n",
       " 'PLK2',\n",
       " 'ELOVL5',\n",
       " 'MMP1',\n",
       " 'TLR2',\n",
       " 'IFIT2',\n",
       " 'CD55',\n",
       " 'DSE',\n",
       " 'C4BPB',\n",
       " 'PLAAT3',\n",
       " 'IL33',\n",
       " 'ABCA8',\n",
       " 'GPX8',\n",
       " 'PARP14',\n",
       " 'CASP5',\n",
       " 'MMP10',\n",
       " 'NFKBIZ',\n",
       " 'IER3',\n",
       " 'NEXN',\n",
       " 'ASS1',\n",
       " 'TNFAIP6',\n",
       " 'REG1A',\n",
       " 'CSRNP1',\n",
       " 'LPL',\n",
       " 'HK2',\n",
       " 'TNFSF13B',\n",
       " 'CCL4',\n",
       " 'SNORA61',\n",
       " 'AQP9',\n",
       " 'RGS5',\n",
       " 'RND1',\n",
       " 'CD274',\n",
       " 'PSMB9',\n",
       " 'LIPG',\n",
       " 'C1R',\n",
       " 'COL1A1',\n",
       " 'SNRK',\n",
       " 'GPR183',\n",
       " 'TNC',\n",
       " 'ADGRL4',\n",
       " 'TMEM45A',\n",
       " 'MICB',\n",
       " 'PLA2G2A',\n",
       " 'SERPINA3',\n",
       " 'CASP4LP',\n",
       " 'HPGDS',\n",
       " 'SMOC2',\n",
       " 'MXRA5',\n",
       " 'CALHM6',\n",
       " 'IFNG',\n",
       " 'ISG15',\n",
       " 'LY75',\n",
       " 'CARD6',\n",
       " 'PLA1A',\n",
       " 'MNDA',\n",
       " 'GEM',\n",
       " 'CXCR2',\n",
       " 'GBP5',\n",
       " 'ATF3',\n",
       " 'COL6A3',\n",
       " 'ART3',\n",
       " 'SRGN',\n",
       " 'COL15A1',\n",
       " 'MMP9',\n",
       " 'LILRB2',\n",
       " 'TAGAP',\n",
       " 'DEFA5',\n",
       " 'ISX',\n",
       " 'SELE',\n",
       " 'ADGRG6',\n",
       " 'MMP12',\n",
       " 'CXCL5',\n",
       " 'EPSTI1',\n",
       " 'FSTL1',\n",
       " 'MUC4',\n",
       " 'SERPING1']"
      ]
     },
     "execution_count": 43,
     "metadata": {},
     "output_type": "execute_result"
    }
   ],
   "source": [
    "allgenes.loc[comb_mask,:].sort_values(by=[\"pval\",\"log2FC\"],ascending=False).loc[:,\"gene\"].tolist()\n",
    "\n"
   ]
  },
  {
   "cell_type": "markdown",
   "id": "e7c64110",
   "metadata": {
    "hideCode": false,
    "hidePrompt": false
   },
   "source": [
    "# Aggregate Data\n",
    "Create 2 df \n",
    "1. containing all exp and control groups from GSE112366 and GSE179285 with only the shared genes between all 3 GSE ( validation dataset contraint ).\n",
    "2. containing all exp and control groups from GSE112366 and GSE179285 with only the shared significant genes between all 3 GSE ( validation dataset contraint )\n",
    "\n",
    "- 14796 shared genes between all 3 \n",
    "    - variance filter was applied where top 100 genes with highest variance after normalization were taken\n",
    "- 82 significant genes between all 3\n",
    "    - all 7 were found in the 100 selected after the variance threshold was applied\n",
    "    \n",
    "<br>\n",
    "- varaince threshold did not find sig genes from study\n",
    "    - https://journals.plos.org/plosone/article?id=10.1371/journal.pone.0265189#pone.0265189.s007\n",
    "</br>\n",
    "<br>\n",
    "NOTE: Variance filter was applied after similar genes were found between merged datasets and validation dataset"
   ]
  },
  {
   "cell_type": "markdown",
   "id": "2b96f519",
   "metadata": {
    "heading_collapsed": true,
    "hideCode": false,
    "hidePrompt": false
   },
   "source": [
    "## All Similar Genes"
   ]
  },
  {
   "cell_type": "code",
   "execution_count": 3,
   "id": "dcd68975",
   "metadata": {
    "hidden": true,
    "hideCode": false,
    "hidePrompt": false
   },
   "outputs": [],
   "source": [
    "mergeddf_GSE112366 = pd.read_pickle(os.path.join(PATH,\"GSE112366_df_cleaned_merged.pkl\"))\n",
    "mergeddf_GSE179285 = pd.read_pickle(os.path.join(PATH,\"GSE179285_df_cleaned_merged.pkl\"))\n",
    "val_df = pd.read_pickle(os.path.join(PATH,\"validation_znorm.pkl\"))\n",
    "\n",
    "g1 =set( [i.upper().replace(\" \",\"\").replace(\"-\",\"\") for i in mergeddf_GSE112366.index])\n",
    "g2 =set( [i.upper().replace(\" \",\"\").replace(\"-\",\"\") for i in mergeddf_GSE179285.index])\n",
    "g3 =set( [i.upper().replace(\" \",\"\").replace(\"-\",\"\") for i in val_df.index])\n",
    "\n",
    "mergeddf_GSE112366.index =  [i.upper().replace(\" \",\"\").replace(\"-\",\"\") for i in mergeddf_GSE112366.index]\n",
    "mergeddf_GSE179285.index =  [i.upper().replace(\" \",\"\").replace(\"-\",\"\") for i in mergeddf_GSE179285.index]\n",
    "val_df.index =  [i.upper().replace(\" \",\"\").replace(\"-\",\"\") for i in val_df.index]\n",
    "\n",
    "\n",
    "mergeddf_GSE112366.index.name = \"gene\"\n",
    "mergeddf_GSE179285.index.name = \"gene\"\n",
    "val_df.index.name = \"gene\"\n",
    "\n",
    "val_df.to_pickle(os.path.join(PATH,\"validation_znorm.pkl\"))\n",
    "        \n",
    "# len(sim_genes_all_3)\n",
    "\n",
    "# similar genes witin all 3 \n",
    "sim_genes_all_3 = list(g1.intersection(g2,g3))"
   ]
  },
  {
   "cell_type": "code",
   "execution_count": 4,
   "id": "fb48e658",
   "metadata": {
    "hidden": true
   },
   "outputs": [],
   "source": [
    "df1 = mergeddf_GSE179285.copy()\n",
    "df2 = mergeddf_GSE112366.copy()\n",
    "\n",
    "df = df1.merge(df2,on=\"gene\")\n",
    "               \n",
    "exp_all = df.loc[df.index.isin(sim_genes_all_3),:].filter(regex=\"E_*|U_*|I_*\").copy()\n",
    "c_all = df.loc[df.index.isin(sim_genes_all_3),:].filter(regex=\"C_*\").copy()\n",
    "\n",
    "Ecolnum = [\"E_\"+str(i+1) for i,c in enumerate(exp_all.columns)]\n",
    "Ccolnum = [\"C_\"+str(i+1) for i,c in enumerate(c_all.columns)]\n",
    "\n",
    "\n",
    "new_col_names = Ecolnum+Ccolnum\n",
    "\n",
    "norm_df_exp = exp_all.apply(lambda x: (x - np.mean(x)) /np.std(x) )\n",
    "norm_df_c = c_all.apply(lambda x: (x - np.mean(x)) /np.std(x) )\n",
    "\n",
    "all_data_df = norm_df_exp.merge(norm_df_c,on=\"gene\")"
   ]
  },
  {
   "cell_type": "code",
   "execution_count": 5,
   "id": "ef698ea3",
   "metadata": {
    "hidden": true
   },
   "outputs": [],
   "source": [
    "all_data_df.columns = new_col_names"
   ]
  },
  {
   "cell_type": "code",
   "execution_count": 6,
   "id": "1da74311",
   "metadata": {
    "hidden": true
   },
   "outputs": [],
   "source": [
    "### variance Threshold\n",
    "highest_variance_top_100_genes = all_data_df.var(axis=1).sort_values(ascending=False).index[:100]\n",
    "\n",
    "for g in highest_variance_top_100_genes:\n",
    "    if g in [\"LDLR\", \"TLR2\", \"FOXM1\", \"NPY\" , \"LPL\" , \"ALDH1A2\",\"MAFF\",\"FOS\",\"MABF\",\"MCL1\",\"NFKBIA\",\"JUNB\",\"AREG\",\"ATF3\",\"NR1H3\"]:\n",
    "        print(g + \" Found\")\n",
    "#https://journals.plos.org/plosone/article?id=10.1371/journal.pone.0265189#pone.0265189.s007"
   ]
  },
  {
   "cell_type": "code",
   "execution_count": 7,
   "id": "336f934a",
   "metadata": {
    "hidden": true
   },
   "outputs": [],
   "source": [
    "# filter these genes from all genes and save as df\n",
    "\n",
    "varfilter_all_data_df = all_data_df.loc[all_data_df.index.isin(highest_variance_top_100_genes),:]"
   ]
  },
  {
   "cell_type": "code",
   "execution_count": 8,
   "id": "800a84e3",
   "metadata": {
    "hidden": true
   },
   "outputs": [],
   "source": [
    "varfilter_all_data_df.to_pickle(os.path.join(PATH,\"all_genes_znorm.pkl\"))"
   ]
  },
  {
   "cell_type": "markdown",
   "id": "c9ad6599",
   "metadata": {
    "heading_collapsed": true,
    "hideCode": false,
    "hidePrompt": false
   },
   "source": [
    "## DE Genes"
   ]
  },
  {
   "cell_type": "code",
   "execution_count": 34,
   "id": "404e3b59",
   "metadata": {
    "hidden": true
   },
   "outputs": [],
   "source": [
    "# sig genes within GSE\n",
    "len(set(sig_gene_GSE112366).intersection(set(sig_gene_GSE179285)))\n",
    "sim_sig_genes = list(set(sig_gene_GSE112366).intersection(set(sig_gene_GSE179285),set(val_df.index.tolist())))\n",
    "\n",
    "sim_sig_genes = val_df.loc[val_df.index.isin(sim_sig_genes),:].index.tolist()"
   ]
  },
  {
   "cell_type": "code",
   "execution_count": 35,
   "id": "50966bee",
   "metadata": {
    "hidden": true
   },
   "outputs": [
    {
     "data": {
      "text/plain": [
       "82"
      ]
     },
     "execution_count": 35,
     "metadata": {},
     "output_type": "execute_result"
    }
   ],
   "source": [
    "assert len(sim_sig_genes) == 82"
   ]
  },
  {
   "cell_type": "code",
   "execution_count": 36,
   "id": "c7e70103",
   "metadata": {
    "hidden": true,
    "hideCode": false,
    "hidePrompt": false
   },
   "outputs": [],
   "source": [
    "df1 = mergeddf_GSE179285.copy()\n",
    "df2 = mergeddf_GSE112366.copy()\n",
    "\n",
    "df1.index.name = \"gene\"\n",
    "df2.index.name = \"gene\"\n",
    "\n",
    "df = df1.merge(df2,on=\"gene\")\n",
    "               \n",
    "exp_all = df.loc[df.index.isin(sim_sig_genes),:].filter(regex=\"E_*|U_*|I_*\").copy()\n",
    "c_all = df.loc[df.index.isin(sim_sig_genes),:].filter(regex=\"C_*\").copy()\n",
    "\n",
    "Ecolnum = [\"E_\"+str(i+1) for i,c in enumerate(exp_all.columns)]\n",
    "Ccolnum = [\"C_\"+str(i+1) for i,c in enumerate(c_all.columns)]\n",
    "\n",
    "\n",
    "new_col_names = Ecolnum+Ccolnum\n",
    "\n",
    "norm_df_exp = exp_all.apply(lambda x: (x - np.mean(x)) /np.std(x) )\n",
    "norm_df_c = c_all.apply(lambda x: (x - np.mean(x)) /np.std(x) )\n",
    "\n",
    "all_data_df = norm_df_exp.merge(norm_df_c,on=\"gene\")\n",
    "all_data_df.columns = new_col_names\n",
    "\n",
    "all_data_df.to_pickle(os.path.join(PATH,\"sig_genes_znorm.pkl\"))"
   ]
  },
  {
   "cell_type": "code",
   "execution_count": 37,
   "id": "85cb7d99",
   "metadata": {
    "hidden": true
   },
   "outputs": [
    {
     "data": {
      "text/plain": [
       "7"
      ]
     },
     "execution_count": 37,
     "metadata": {},
     "output_type": "execute_result"
    }
   ],
   "source": [
    "sum(all_data_df.index.isin(varfilter_all_data_df.index)) # number of sig genes found in var filter "
   ]
  },
  {
   "cell_type": "code",
   "execution_count": 38,
   "id": "0e8ed8fb",
   "metadata": {
    "hidden": true
   },
   "outputs": [
    {
     "data": {
      "text/plain": [
       "28"
      ]
     },
     "execution_count": 38,
     "metadata": {},
     "output_type": "execute_result"
    }
   ],
   "source": [
    "sum(all_data_df.index.isin(sig_gene_val)) # how many sig genes between 2 GSE align with sig genes found in val set"
   ]
  },
  {
   "cell_type": "markdown",
   "id": "0814ee6e",
   "metadata": {},
   "source": [
    "# Visualization "
   ]
  },
  {
   "cell_type": "code",
   "execution_count": 22,
   "id": "63d6c41c",
   "metadata": {},
   "outputs": [],
   "source": [
    "mergeddf_GSE112366 = pd.read_pickle(os.path.join(PATH,\"GSE112366_df_cleaned_merged.pkl\"))\n",
    "mergeddf_GSE179285 = pd.read_pickle(os.path.join(PATH,\"GSE179285_df_cleaned_merged.pkl\"))\n",
    "val_df = pd.read_pickle(os.path.join(PATH,\"validation_znorm.pkl\"))\n",
    "\n",
    "all_genes_df =  pd.read_pickle(os.path.join(PATH,\"all_genes_znorm.pkl\"))\n",
    "sig_genes_df = pd.read_pickle(os.path.join(PATH,\"sig_genes_znorm.pkl\"))"
   ]
  },
  {
   "cell_type": "code",
   "execution_count": 23,
   "id": "8646a2bb",
   "metadata": {},
   "outputs": [
    {
     "data": {
      "image/png": "[encoded data removed]",
      "text/plain": [
       "<Figure size 720x720 with 1 Axes>"
      ]
     },
     "metadata": {},
     "output_type": "display_data"
    }
   ],
   "source": [
    "import matplotlib.pyplot as plt\n",
    "from matplotlib_venn import venn3\n",
    "\n",
    "# https://stackoverflow.com/questions/19841535/python-matplotlib-venn-diagram\n",
    "\n",
    "set1 = set(mergeddf_GSE112366.index)\n",
    "set2 = set(mergeddf_GSE179285.index)\n",
    "set3 = set(val_df.index)\n",
    "\n",
    "o = venn3([set1, set2, set3], ('GSE112366 ( Train - Drug )', 'GSE179285 ( Train )', 'GSE52746 ( Validation )'))\n",
    "for t in o.set_labels: t.set_fontsize(14)\n",
    "for t in o.subset_labels: t.set_fontsize(16)\n",
    "plt.show()"
   ]
  },
  {
   "cell_type": "code",
   "execution_count": 24,
   "id": "a15eeb3e",
   "metadata": {},
   "outputs": [
    {
     "data": {
      "image/png": "[encoded data removed]",
      "text/plain": [
       "<Figure size 720x720 with 1 Axes>"
      ]
     },
     "metadata": {},
     "output_type": "display_data"
    }
   ],
   "source": [
    "set1 = set(sig_gene_GSE112366)\n",
    "set2 = set(sig_gene_GSE179285)\n",
    "set3 = set(val_df.index)\n",
    "\n",
    "plt.figure(figsize=(10,10))\n",
    "\n",
    "o = venn3([set1, set2, set3], ('GSE112366 ( Train - Drug )', 'GSE179285 ( Train )', 'GSE52746 ( Validation )'))\n",
    "for t in o.set_labels: t.set_fontsize(14)\n",
    "for t in o.subset_labels: t.set_fontsize(16)\n",
    "plt.show()"
   ]
  },
  {
   "cell_type": "code",
   "execution_count": 25,
   "id": "1296997f",
   "metadata": {},
   "outputs": [],
   "source": [
    "features_from_feature_selection = ['GAPDH', 'RARRES1', 'BTNL8', 'MMP9', 'FABP1', 'RPL4', 'TCL1A',\n",
    "       'RPL38', 'RBP2', 'IL1B', 'CXCL9', 'TMSB10', 'ANXA10', 'CLRN3',\n",
    "       'SH3BGRL3', 'NOS2', 'RPS20', 'LCT', 'MTTP', 'SPARCL1', 'PRR15L',\n",
    "       'RPS11', 'ADAMDEC1', 'FAM3B', 'SLC5A1', 'REG3G', 'DDC', 'CD163',\n",
    "       'MYO1A', 'MEP1B', 'LGALS2', 'HEPACAM2', 'GZMA', 'LRRC19', 'TSPAN8',\n",
    "       'SLC3A1', 'LCN2', 'SMOC2', 'SPINK4', 'ADH1C', 'PFN1', 'EIF3L',\n",
    "       'RPL14', 'HLAA', 'GCNT3', 'RPL30', 'UBA52', 'FOLH1', 'TFF3',\n",
    "       'CD63']"
   ]
  },
  {
   "cell_type": "code",
   "execution_count": 26,
   "id": "78cd7ea4",
   "metadata": {},
   "outputs": [
    {
     "name": "stdout",
     "output_type": "stream",
     "text": [
      "Number of sig genes found in all genes after variance filter\n",
      "7\n",
      "\n",
      "NOS2\n",
      "CHP2\n",
      "KCNJ13\n",
      "SLC10A2\n",
      "LCN2\n",
      "FOLH1\n",
      "CEACAM6\n"
     ]
    }
   ],
   "source": [
    "print(\"Number of sig genes found in all genes after variance filter\")\n",
    "print(sum(sig_genes_df.index.isin(all_genes_df.index))) # number of sig genes found in var filter \n",
    "print()\n",
    "for i in sig_genes_df.index:\n",
    "    if i in all_genes_df.index.tolist():\n",
    "        print(i)"
   ]
  },
  {
   "cell_type": "code",
   "execution_count": 27,
   "id": "176c1e93",
   "metadata": {},
   "outputs": [
    {
     "name": "stdout",
     "output_type": "stream",
     "text": [
      "Number of genes found sig genes after feature sel for SVM\n",
      "3\n",
      "\n",
      "FOLH1\n",
      "LCN2\n",
      "NOS2\n"
     ]
    }
   ],
   "source": [
    "print(\"Number of genes found sig genes after feature sel for SVM\")\n",
    "\n",
    "s1 = set(sig_genes_df.index)\n",
    "s2 = set(features_from_feature_selection)\n",
    "\n",
    "print(len(s2.intersection(s1))) # number of sig genes found in var filter \n",
    "print()\n",
    "for i in s1:\n",
    "    if i in s2:\n",
    "        print(i)"
   ]
  },
  {
   "cell_type": "code",
   "execution_count": 28,
   "id": "c4fe003e",
   "metadata": {},
   "outputs": [
    {
     "data": {
      "text/plain": [
       "50"
      ]
     },
     "execution_count": 28,
     "metadata": {},
     "output_type": "execute_result"
    }
   ],
   "source": [
    "len(features_from_feature_selection)"
   ]
  },
  {
   "cell_type": "code",
   "execution_count": 29,
   "id": "34d3c4b5",
   "metadata": {},
   "outputs": [],
   "source": [
    "# https://www.ncbi.nlm.nih.gov/pmc/articles/PMC4985244/\n",
    "# https://pubmed.ncbi.nlm.nih.gov/26263469/\n",
    "# https://www.ncbi.nlm.nih.gov/pmc/articles/PMC3912315/"
   ]
  },
  {
   "cell_type": "code",
   "execution_count": 30,
   "id": "109a120e",
   "metadata": {
    "scrolled": true
   },
   "outputs": [
    {
     "name": "stdout",
     "output_type": "stream",
     "text": [
      "Number of genes found sig genes after feature sel for Logistic Regression\n",
      "4\n",
      "\n",
      "FOLH1\n",
      "LCN2\n",
      "NOS2\n",
      "CHP2\n"
     ]
    }
   ],
   "source": [
    "features_from_feature_selection =['GAPDH',\n",
    " 'BTNL8',\n",
    " 'MMP9',\n",
    " 'RPL4',\n",
    " 'CYP3A7',\n",
    " 'TCL1A',\n",
    " 'RPL38',\n",
    " 'IL1B',\n",
    " 'CXCL9',\n",
    " 'TMSB10',\n",
    " 'ANXA10',\n",
    " 'CLRN3',\n",
    " 'SH3BGRL3',\n",
    " 'TM4SF4',\n",
    " 'FCGBP',\n",
    " 'HBB',\n",
    " 'NOS2',\n",
    " 'RPS20',\n",
    " 'LCT',\n",
    " 'SPARCL1',\n",
    " 'PRR15L',\n",
    " 'CHP2',\n",
    " 'RPS11',\n",
    " 'ADAMDEC1',\n",
    " 'LTB',\n",
    " 'CD163',\n",
    " 'GZMA',\n",
    " 'LRRC19',\n",
    " 'LCN2',\n",
    " 'CLCA1',\n",
    " 'SPINK4',\n",
    " 'EIF3L',\n",
    " 'RPL14',\n",
    " 'HLAA',\n",
    " 'GCNT3',\n",
    " 'RPL30',\n",
    " 'ACTB',\n",
    " 'UBA52',\n",
    " 'TPT1',\n",
    " 'FTH1',\n",
    " 'FOLH1',\n",
    " 'RPS3',\n",
    " 'RPL13A',\n",
    " 'UBC',\n",
    " 'NEAT1',\n",
    " 'FTL',\n",
    " 'RPL22',\n",
    " 'RPL3',\n",
    " 'MALAT1',\n",
    " 'HSPA8']\n",
    "\n",
    "print(\"Number of genes found sig genes after feature sel for Logistic Regression\")\n",
    "\n",
    "s1 = set(sig_genes_df.index)\n",
    "s2 = set(features_from_feature_selection)\n",
    "\n",
    "print(len(s1.intersection(s2))) # number of sig genes found in var filter \n",
    "print()\n",
    "for i in s1:\n",
    "    if i in s2:\n",
    "        print(i)\n",
    "        \n"
   ]
  },
  {
   "cell_type": "code",
   "execution_count": 31,
   "id": "748530c8",
   "metadata": {},
   "outputs": [
    {
     "name": "stdout",
     "output_type": "stream",
     "text": [
      "50\n"
     ]
    }
   ],
   "source": [
    "print(len(features_from_feature_selection))"
   ]
  },
  {
   "cell_type": "code",
   "execution_count": 32,
   "id": "c0cddaa6",
   "metadata": {},
   "outputs": [
    {
     "name": "stdout",
     "output_type": "stream",
     "text": [
      "NOS2\n"
     ]
    }
   ],
   "source": [
    "features_sig_logreg = ['SAMD9L','IRF1','FPR1','TLR2','GSTA1','NPY','GUCA2B','IDO1','CXCL6'\n",
    ",'NOS2','VPREB3','LILRB2','CXCL10','TC2N','CRIP1','GBP5','DPEP1','MXRA5'\n",
    ",'CARD6','CLDN2','ANO5','KCNJ13','BTN3A3','LRG1','PYY','ANKRD22','PLAUR'\n",
    ",'HOXA5','MUC1','CD14','KCNE3','IL17RB','GUCA2A','STAT1','GBP1','DUOX2'\n",
    ",'GBP4','VWF','MRAP2','CASP10','CFI']\n",
    "\n",
    "for g in [\"NOS2\",\"LCN2\",\"FOLH1\"]:\n",
    "    if g in features_sig_logreg:\n",
    "        print(g)"
   ]
  },
  {
   "cell_type": "code",
   "execution_count": 33,
   "id": "20db9e74",
   "metadata": {},
   "outputs": [
    {
     "name": "stdout",
     "output_type": "stream",
     "text": [
      "NOS2\n",
      "LCN2\n",
      "FOLH1\n"
     ]
    }
   ],
   "source": [
    "features_sig_logreg = ['SAMD9L','IRF1','FPR1','TLR2','GSTA1','NPY','GUCA2B','IDO1','CXCL6'\n",
    ",'NOS2','VPREB3','LILRB2','CXCL10','TC2N','PSMB8','CRIP1','GBP5','GSTA3'\n",
    ",'DPEP1','MXRA5','CARD6','CLDN2','ANO5','CCL11','NCF2','FBXO6','BTN3A3'\n",
    ",'CD19','PLA2G7','LRG1','NAT8B','PYY','ANKRD22','RHOBTB2','HOXA5','CD14'\n",
    ",'LCN2','KCNE3','GBP1','COL4A1','FOLH1']\n",
    "\n",
    "for g in [\"NOS2\",\"LCN2\",\"FOLH1\"]:\n",
    "    if g in features_sig_logreg:\n",
    "        print(g)\n",
    "\n",
    "\n"
   ]
  },
  {
   "cell_type": "code",
   "execution_count": null,
   "id": "c010e08e",
   "metadata": {},
   "outputs": [],
   "source": []
  }
 ],
 "metadata": {
  "hide_code_all_hidden": false,
  "kernelspec": {
   "display_name": "BMES543",
   "language": "python",
   "name": "bmes543"
  },
  "language_info": {
   "codemirror_mode": {
    "name": "ipython",
    "version": 3
   },
   "file_extension": ".py",
   "mimetype": "text/x-python",
   "name": "python",
   "nbconvert_exporter": "python",
   "pygments_lexer": "ipython3",
   "version": "3.10.4"
  },
  "toc": {
   "base_numbering": 1,
   "nav_menu": {},
   "number_sections": true,
   "sideBar": true,
   "skip_h1_title": false,
   "title_cell": "Table of Contents",
   "title_sidebar": "Contents",
   "toc_cell": false,
   "toc_position": {
    "height": "calc(100% - 180px)",
    "left": "10px",
    "top": "150px",
    "width": "165px"
   },
   "toc_section_display": true,
   "toc_window_display": true
  },
  "varInspector": {
   "cols": {
    "lenName": 16,
    "lenType": 16,
    "lenVar": 40
   },
   "kernels_config": {
    "python": {
     "delete_cmd_postfix": "",
     "delete_cmd_prefix": "del ",
     "library": "var_list.py",
     "varRefreshCmd": "print(var_dic_list())"
    },
    "r": {
     "delete_cmd_postfix": ") ",
     "delete_cmd_prefix": "rm(",
     "library": "var_list.r",
     "varRefreshCmd": "cat(var_dic_list()) "
    }
   },
   "types_to_exclude": [
    "module",
    "function",
    "builtin_function_or_method",
    "instance",
    "_Feature"
   ],
   "window_display": false
  }
 },
 "nbformat": 4,
 "nbformat_minor": 5
}
