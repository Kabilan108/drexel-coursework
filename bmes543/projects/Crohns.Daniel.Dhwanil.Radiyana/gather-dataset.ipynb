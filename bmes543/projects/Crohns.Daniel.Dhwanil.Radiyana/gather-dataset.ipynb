{
 "cells": [
  {
   "cell_type": "markdown",
   "id": "69484674",
   "metadata": {},
   "source": [
    "# Data Prep\n",
    "This notebook is used to load gse into a temp dir, import into python and clean the data so that it is ready for differential gene expression analysis and ML model\n",
    "<br>\n",
    "<p>Daniel Thompson \n",
    "<p>Dhwanil Patel\n",
    "<p>Radiyana Mancheva\n",
    "<p>5/18/22\n",
    "    \n",
    "Files being saved to temp dir\n",
    "\n",
    "- GPL_GSE112366_data.pkl\n",
    "- GSE112366_phenotype_data.pkl\n",
    "- GSE112366_data.pkl\n",
    "\n",
    "- GPL_GSE179285_data.pkl\n",
    "- GSE179285_phenotype_data.pkl\n",
    "- GSE179285_data.pkl\n",
    "\n",
    "- validation_znorm.pkl\n",
    "\n"
   ]
  },
  {
   "cell_type": "markdown",
   "id": "5dea8a1b",
   "metadata": {
    "heading_collapsed": true
   },
   "source": [
    "# Import Packages"
   ]
  },
  {
   "cell_type": "code",
   "execution_count": 2,
   "id": "219000c8",
   "metadata": {
    "hidden": true
   },
   "outputs": [
    {
     "name": "stdout",
     "output_type": "stream",
     "text": [
      "The autoreload extension is already loaded. To reload it, use:\n",
      "  %reload_ext autoreload\n"
     ]
    },
    {
     "ename": "ModuleNotFoundError",
     "evalue": "No module named 'bmes'",
     "output_type": "error",
     "traceback": [
      "\u001b[1;31m---------------------------------------------------------------------------\u001b[0m",
      "\u001b[1;31mModuleNotFoundError\u001b[0m                       Traceback (most recent call last)",
      "Input \u001b[1;32mIn [2]\u001b[0m, in \u001b[0;36m<cell line: 4>\u001b[1;34m()\u001b[0m\n\u001b[0;32m      2\u001b[0m get_ipython()\u001b[38;5;241m.\u001b[39mrun_line_magic(\u001b[38;5;124m'\u001b[39m\u001b[38;5;124mautoreload\u001b[39m\u001b[38;5;124m'\u001b[39m, \u001b[38;5;124m'\u001b[39m\u001b[38;5;124m2\u001b[39m\u001b[38;5;124m'\u001b[39m)\n\u001b[0;32m      3\u001b[0m \u001b[38;5;28;01mimport\u001b[39;00m \u001b[38;5;21;01msys\u001b[39;00m\u001b[38;5;241m,\u001b[39m\u001b[38;5;21;01mos\u001b[39;00m; sys\u001b[38;5;241m.\u001b[39mpath\u001b[38;5;241m.\u001b[39mappend(os\u001b[38;5;241m.\u001b[39menviron[\u001b[38;5;124m'\u001b[39m\u001b[38;5;124mBMESAHMETDIR\u001b[39m\u001b[38;5;124m'\u001b[39m]); \n\u001b[1;32m----> 4\u001b[0m \u001b[38;5;28;01mimport\u001b[39;00m \u001b[38;5;21;01mbmes\u001b[39;00m\n\u001b[0;32m      6\u001b[0m \u001b[38;5;66;03m# bmes.pipinstall('Bio','biopython')\u001b[39;00m\n\u001b[0;32m      7\u001b[0m \u001b[38;5;66;03m# bmes.pipinstall('GEOparse')\u001b[39;00m\n\u001b[0;32m      8\u001b[0m \u001b[38;5;66;03m# bmes.pipinstall('pandasql')\u001b[39;00m\n\u001b[0;32m     11\u001b[0m \u001b[38;5;28;01mimport\u001b[39;00m \u001b[38;5;21;01mGEOparse\u001b[39;00m\n",
      "\u001b[1;31mModuleNotFoundError\u001b[0m: No module named 'bmes'"
     ]
    }
   ],
   "source": [
    "% load_ext autoreload\n",
    "% autoreload 2\n",
    "import sys,os; sys.path.append(os.environ['BMESAHMETDIR']); \n",
    "import bmes\n",
    "\n",
    "# bmes.pipinstall('Bio','biopython')\n",
    "# bmes.pipinstall('GEOparse')\n",
    "# bmes.pipinstall('pandasql')\n",
    "\n",
    "import GEOparse\n",
    "import pandas as pd\n",
    "import numpy as np\n",
    "import re\n",
    "\n",
    "import mygene"
   ]
  },
  {
   "cell_type": "code",
   "execution_count": null,
   "id": "eeef47cb",
   "metadata": {
    "hidden": true
   },
   "outputs": [],
   "source": [
    "# check if directory exist \n",
    "\n",
    "PATH = os.path.join(bmes.tempdir(),\"BMES543_crohns_project\")\n",
    "if not os.path.isdir(PATH):\n",
    "    os.mkdir(PATH)\n",
    "\n",
    "# print path if needed\n",
    "# print(PATH)"
   ]
  },
  {
   "cell_type": "markdown",
   "id": "beb35775",
   "metadata": {},
   "source": [
    "# Load Data"
   ]
  },
  {
   "cell_type": "markdown",
   "id": "5db03f18",
   "metadata": {
    "heading_collapsed": true
   },
   "source": [
    "## GSE112366\n",
    "- save gpl, gsm in df and phenotype data\n",
    "- https://www.ncbi.nlm.nih.gov/geo/query/acc.cgi?acc=GSE112366"
   ]
  },
  {
   "cell_type": "code",
   "execution_count": null,
   "id": "733f14be",
   "metadata": {
    "hidden": true,
    "scrolled": true
   },
   "outputs": [],
   "source": [
    "gse = GEOparse.get_GEO(geo=\"GSE112366\", destdir=bmes.tempdir());"
   ]
  },
  {
   "cell_type": "code",
   "execution_count": null,
   "id": "3c170db1",
   "metadata": {
    "hidden": true
   },
   "outputs": [],
   "source": [
    "# adapted from Dr. Sacan's in class example\n",
    "\n",
    "# which group each sample belongs to \n",
    "\n",
    "\n",
    "sampletable={}\n",
    "gsm= list(gse.gsms.values())\n",
    "for sample in gsm:\n",
    "\n",
    "    sampletable[sample.metadata[\"geo_accession\"][0]]=sample.metadata[\"title\"][0]\n",
    "# print(sampletable)\n",
    "\n",
    "# Data for each GSM is available in gse.gsms[...].table\n",
    "\n",
    "# Combine GSM's into a single data table.\n",
    "gsedata = None\n",
    "for gsmid in gse.gsms.keys():\n",
    "    gsmdata = gse.gsms[gsmid].table.rename(columns={'VALUE':gsmid});\n",
    "    if gsedata is None: gsedata=gsmdata;\n",
    "    else:\n",
    "        assert(gsedata['ID_REF'].equals(gsmdata['ID_REF'])) #just make sure that the same probes are listed in the same order.\n",
    "        gsedata = pd.concat([gsedata,gsmdata[gsmid]],axis=1);\n",
    "# print(gsedata.shape) # (22283, 198)\n",
    "# gsedata.head()\n",
    "# gse.show_metadata()\n",
    "\n",
    "# save data as pkl\n",
    "gsedata.to_pickle(os.path.join(PATH,\"GSE112366_data.pkl\"))\n",
    "gse.phenotype_data.to_pickle(os.path.join(PATH,\"GSE112366_phenotype_data.pkl\"))\n",
    "phenotype_data = gse.phenotype_data\n",
    "gpl = list(gse.gpls.values())[0].table;\n",
    "gpl.to_pickle(os.path.join(PATH,\"GPL_GSE112366_data.pkl\"))\n"
   ]
  },
  {
   "cell_type": "markdown",
   "id": "7e0f15f0",
   "metadata": {
    "heading_collapsed": true
   },
   "source": [
    "## GSE179285\n",
    "- save gpl, gsm in df and phenotype data\n",
    "- https://www-ncbi-nlm-nih-gov.ezproxy.u-pec.fr/geo/query/acc.cgi?acc=GSE179285"
   ]
  },
  {
   "cell_type": "code",
   "execution_count": null,
   "id": "dd6324bc",
   "metadata": {
    "hidden": true
   },
   "outputs": [],
   "source": [
    "# taken from Dr. Sacan in class example\n",
    "\n",
    "gse = GEOparse.get_GEO(geo=\"GSE179285\", destdir=bmes.tempdir());\n",
    "sampletable={}\n",
    "gsm= list(gse.gsms.values())\n",
    "for sample in gsm:\n",
    "\n",
    "    sampletable[sample.metadata[\"geo_accession\"][0]]=sample.metadata[\"title\"][0]\n",
    "# print(sampletable)\n",
    "\n",
    "# Data for each GSM is available in gse.gsms[...].table\n",
    "\n",
    "# Combine GSM's into a single data table.\n",
    "gsedata = None\n",
    "for gsmid in gse.gsms.keys():\n",
    "    gsmdata = gse.gsms[gsmid].table.rename(columns={'VALUE':gsmid});\n",
    "    if gsedata is None: gsedata=gsmdata;\n",
    "    else:\n",
    "        assert(gsedata['ID_REF'].equals(gsmdata['ID_REF'])) #just make sure that the same probes are listed in the same order.\n",
    "        gsedata = pd.concat([gsedata,gsmdata[gsmid]],axis=1);\n",
    "# print(gsedata.shape) # (22283, 198)\n",
    "# gsedata.head()\n",
    "# gse.show_metadata()\n",
    "\n",
    "# save data as pkl\n",
    "gsedata.to_pickle(os.path.join(PATH,\"GSE179285_data.pkl\"))\n",
    "gse.phenotype_data.to_pickle(os.path.join(PATH,\"GSE179285_phenotype_data.pkl\"))\n",
    "phenotype_data = gse.phenotype_data\n",
    "gpl = list(gse.gpls.values())[0].table;\n",
    "gpl.to_pickle(os.path.join(PATH,\"GPL_GSE179285_data.pkl\"))\n",
    "\n"
   ]
  },
  {
   "cell_type": "markdown",
   "id": "7d93761b",
   "metadata": {
    "heading_collapsed": true
   },
   "source": [
    "## GSE52746\n",
    "- saved df is labeled, genes added and z-norm\n",
    "- verification dataset: https://www.ncbi.nlm.nih.gov/geo/query/acc.cgi?acc=GSE52746"
   ]
  },
  {
   "cell_type": "code",
   "execution_count": null,
   "id": "b7090798",
   "metadata": {
    "hidden": true,
    "scrolled": true
   },
   "outputs": [],
   "source": [
    "# taken from Dr. Sacan in class example\n",
    "\n",
    "gse = GEOparse.get_GEO(geo=\"GSE52746\", destdir=bmes.tempdir());\n",
    "\n",
    "sampletable={}\n",
    "gsm= list(gse.gsms.values())\n",
    "for sample in gsm:\n",
    "\n",
    "    sampletable[sample.metadata[\"geo_accession\"][0]]=sample.metadata[\"title\"][0]\n",
    "# print(sampletable)\n",
    "\n",
    "# Data for each GSM is available in gse.gsms[...].table\n",
    "\n",
    "# Combine GSM's into a single data table.\n",
    "gsedata = None\n",
    "for gsmid in gse.gsms.keys():\n",
    "    gsmdata = gse.gsms[gsmid].table.rename(columns={'VALUE':gsmid});\n",
    "    if gsedata is None: gsedata=gsmdata;\n",
    "    else:\n",
    "        assert(gsedata['ID_REF'].equals(gsmdata['ID_REF'])) #just make sure that the same probes are listed in the same order.\n",
    "        gsedata = pd.concat([gsedata,gsmdata[gsmid]],axis=1);\n",
    "# print(gsedata.shape) # (22283, 198)\n",
    "# gsedata.head()\n",
    "# gse.show_metadata()"
   ]
  },
  {
   "cell_type": "code",
   "execution_count": null,
   "id": "da2b126a",
   "metadata": {
    "hidden": true
   },
   "outputs": [],
   "source": [
    "phenotype_data = gse.phenotype_data\n",
    "gsedata.set_index('ID_REF',inplace=True)\n",
    "gpl = list(gse.gpls.values())[0].table;"
   ]
  },
  {
   "cell_type": "code",
   "execution_count": null,
   "id": "339211fc",
   "metadata": {
    "hidden": true
   },
   "outputs": [],
   "source": [
    "probe_id_dict = {}\n",
    "for pos,i in enumerate(gpl[\"ID\"]):\n",
    "    probe_id_dict[i] = gpl.loc[pos,\"ENTREZ_GENE_ID\"]"
   ]
  },
  {
   "cell_type": "code",
   "execution_count": null,
   "id": "b9d58348",
   "metadata": {
    "hidden": true
   },
   "outputs": [],
   "source": [
    "# some probes are for control / cannot be found in gpl, this code will label them as control\n",
    "entrez_id_list = []\n",
    "\n",
    "for i in gsedata.index:\n",
    "    try:\n",
    "        entrez_id_list.append(str(int(probe_id_dict[i])))\n",
    "    except:\n",
    "        entrez_id_list.append(\"control\")"
   ]
  },
  {
   "cell_type": "code",
   "execution_count": null,
   "id": "280449df",
   "metadata": {
    "hidden": true
   },
   "outputs": [],
   "source": [
    "# matching probe to gene using mygene package\n",
    "# https://sulab.org/2013/10/quick-id-mapping-using-mygene-info/\n",
    "mg = mygene.MyGeneInfo()\n",
    "\n",
    "out = mg.querymany(entrez_id_list, scopes='entrezgene', fields='symbol', species='human')\n",
    "\n",
    "genes = []\n",
    "for i in out:\n",
    "    try:\n",
    "        genes.append(i[\"symbol\"])\n",
    "    except:\n",
    "        genes.append(\"control\")"
   ]
  },
  {
   "cell_type": "code",
   "execution_count": null,
   "id": "3e663f55",
   "metadata": {
    "hidden": true
   },
   "outputs": [],
   "source": [
    "# reorganize df\n",
    "gsedata.reset_index(inplace=True)\n",
    "\n",
    "gsedata.drop(\"ID_REF\",inplace=True,axis=1)\n",
    "\n",
    "gsedata.index = genes\n",
    "gsedata.drop(\"control\",inplace=True)"
   ]
  },
  {
   "cell_type": "code",
   "execution_count": null,
   "id": "33d7a90f",
   "metadata": {
    "hidden": true
   },
   "outputs": [],
   "source": [
    "# getting samples of interest\n",
    "\n",
    "# phenotype_data[\"source_name_ch1\"].unique()\n",
    "\n",
    "group = {'Human colon biopsies from active CD patient without anti-TNF therapy':[\"E_\",0],\n",
    "'Human colon biopsies from non-inflammatory control':[\"C_\",0]}\n",
    "\n",
    "new_gsm_labels = []\n",
    "\n",
    "for record in phenotype_data.index:\n",
    "    g = phenotype_data.loc[record,\"source_name_ch1\"]\n",
    "    if g in ['Human colon biopsies from active CD patient without anti-TNF therapy','Human colon biopsies from non-inflammatory control']:\n",
    "        label = group[g][0]+str(group[g][1])\n",
    "        group[g][1] = group[g][1]+1\n",
    "        new_gsm_labels.append(label)\n",
    "    else:\n",
    "        new_gsm_labels.append(\"NA\")    \n",
    "        \n",
    "gsedata.columns = new_gsm_labels\n",
    "gsedata.drop(\"NA\",axis=1,inplace=True)"
   ]
  },
  {
   "cell_type": "code",
   "execution_count": null,
   "id": "fe0d20f2",
   "metadata": {
    "hidden": true
   },
   "outputs": [],
   "source": [
    "# z-norm and save df \n",
    "\n",
    "norm_gsedata = gsedata.apply(lambda x: (x - np.mean(x)) /np.std(x) )\n",
    "\n",
    "norm_gsedata.to_pickle(os.path.join(PATH,\"validation_znorm.pkl\"))"
   ]
  }
 ],
 "metadata": {
  "kernelspec": {
   "display_name": "Python 3 (ipykernel)",
   "language": "python",
   "name": "python3"
  },
  "language_info": {
   "codemirror_mode": {
    "name": "ipython",
    "version": 3
   },
   "file_extension": ".py",
   "mimetype": "text/x-python",
   "name": "python",
   "nbconvert_exporter": "python",
   "pygments_lexer": "ipython3",
   "version": "3.9.12"
  },
  "toc": {
   "base_numbering": 1,
   "nav_menu": {},
   "number_sections": true,
   "sideBar": true,
   "skip_h1_title": false,
   "title_cell": "Table of Contents",
   "title_sidebar": "Contents",
   "toc_cell": false,
   "toc_position": {},
   "toc_section_display": true,
   "toc_window_display": false
  },
  "varInspector": {
   "cols": {
    "lenName": 16,
    "lenType": 16,
    "lenVar": 40
   },
   "kernels_config": {
    "python": {
     "delete_cmd_postfix": "",
     "delete_cmd_prefix": "del ",
     "library": "var_list.py",
     "varRefreshCmd": "print(var_dic_list())"
    },
    "r": {
     "delete_cmd_postfix": ") ",
     "delete_cmd_prefix": "rm(",
     "library": "var_list.r",
     "varRefreshCmd": "cat(var_dic_list()) "
    }
   },
   "types_to_exclude": [
    "module",
    "function",
    "builtin_function_or_method",
    "instance",
    "_Feature"
   ],
   "window_display": false
  }
 },
 "nbformat": 4,
 "nbformat_minor": 5
}
