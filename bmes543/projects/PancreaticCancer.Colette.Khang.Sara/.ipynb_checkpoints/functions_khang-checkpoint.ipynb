{
 "cells": [
  {
   "cell_type": "markdown",
   "metadata": {},
   "source": [
    "# PANCREATIC CANCER GENE EXPRESSION ANALYSIS\n",
    "\n",
    "BY COLETTE TROUILLOT, KHANG DUONG, SARA CHUNG"
   ]
  },
  {
   "cell_type": "code",
   "execution_count": 1,
   "metadata": {},
   "outputs": [
    {
     "name": "stdout",
     "output_type": "stream",
     "text": [
      "Requirement already satisfied: researchpy in c:\\users\\ctrou\\anaconda3\\lib\\site-packages (0.3.2)\n",
      "Requirement already satisfied: pandas in c:\\users\\ctrou\\anaconda3\\lib\\site-packages (from researchpy) (1.2.4)\n",
      "Requirement already satisfied: numpy in c:\\users\\ctrou\\anaconda3\\lib\\site-packages (from researchpy) (1.20.1)\n",
      "Requirement already satisfied: statsmodels in c:\\users\\ctrou\\anaconda3\\lib\\site-packages (from researchpy) (0.12.2)\n",
      "Requirement already satisfied: scipy in c:\\users\\ctrou\\anaconda3\\lib\\site-packages (from researchpy) (1.6.2)\n",
      "Requirement already satisfied: patsy in c:\\users\\ctrou\\anaconda3\\lib\\site-packages (from researchpy) (0.5.1)\n",
      "Requirement already satisfied: python-dateutil>=2.7.3 in c:\\users\\ctrou\\anaconda3\\lib\\site-packages (from pandas->researchpy) (2.8.1)\n",
      "Requirement already satisfied: pytz>=2017.3 in c:\\users\\ctrou\\anaconda3\\lib\\site-packages (from pandas->researchpy) (2021.1)\n",
      "Requirement already satisfied: six>=1.5 in c:\\users\\ctrou\\anaconda3\\lib\\site-packages (from python-dateutil>=2.7.3->pandas->researchpy) (1.15.0)\n"
     ]
    }
   ],
   "source": [
    "import sys\n",
    "import os\n",
    "\n",
    "!{sys.executable} -m pip install researchpy\n",
    "\n",
    "\n",
    "#import modules for handling data\n",
    "import GEOparse\n",
    "import pandas as pd\n",
    "import numpy as np\n",
    "import math\n",
    "import seaborn\n",
    "import matplotlib.pyplot as plt\n",
    "from matplotlib_venn import venn3_unweighted\n",
    "import math\n",
    "\n",
    "#import functions\n",
    "import functions_khang as functions\n",
    "import researchpy as rp\n",
    "import scipy.stats as stats\n",
    "\n",
    "#import machine learning models and tools \n",
    "from sklearn import tree\n",
    "from sklearn.svm import SVC\n",
    "from sklearn.model_selection import train_test_split\n",
    "from sklearn.model_selection import cross_val_score\n",
    "from sklearn.neighbors import KNeighborsClassifier\n",
    "from sklearn.feature_selection import SequentialFeatureSelector\n",
    "from sklearn.decomposition import PCA"
   ]
  },
  {
   "cell_type": "code",
   "execution_count": 2,
   "metadata": {},
   "outputs": [],
   "source": [
    "# Dataset 1 (Training): \"GSE15471\"\n",
    "# Dataset 2 (Testing): \"GSE16515\"\n",
    "# Dataset 3 (testing): \"GSE22780\""
   ]
  },
  {
   "cell_type": "markdown",
   "metadata": {},
   "source": [
    "#### DOWNLOAD DATASETS"
   ]
  },
  {
   "cell_type": "code",
   "execution_count": 26,
   "metadata": {
    "scrolled": true
   },
   "outputs": [
    {
     "name": "stderr",
     "output_type": "stream",
     "text": [
      "05-Jun-2022 12:26:09 DEBUG utils - Directory ./ already exists. Skipping.\n",
      "05-Jun-2022 12:26:09 INFO GEOparse - File already exist: using local version.\n",
      "05-Jun-2022 12:26:09 INFO GEOparse - Parsing ./GSE15471_family.soft.gz: \n",
      "05-Jun-2022 12:26:09 DEBUG GEOparse - DATABASE: GeoMiame\n",
      "05-Jun-2022 12:26:09 DEBUG GEOparse - SERIES: GSE15471\n",
      "05-Jun-2022 12:26:09 DEBUG GEOparse - PLATFORM: GPL570\n",
      "C:\\Users\\ctrou\\anaconda3\\lib\\site-packages\\GEOparse\\GEOparse.py:113: DtypeWarning: Columns (2) have mixed types.Specify dtype option on import or set low_memory=False.\n",
      "  return parse_GSE(filepath, open_kwargs=open_kwargs)\n",
      "05-Jun-2022 12:26:11 DEBUG GEOparse - SAMPLE: GSM388076\n",
      "05-Jun-2022 12:26:11 DEBUG GEOparse - SAMPLE: GSM388077\n",
      "05-Jun-2022 12:26:11 DEBUG GEOparse - SAMPLE: GSM388078\n",
      "05-Jun-2022 12:26:11 DEBUG GEOparse - SAMPLE: GSM388079\n",
      "05-Jun-2022 12:26:12 DEBUG GEOparse - SAMPLE: GSM388080\n",
      "05-Jun-2022 12:26:12 DEBUG GEOparse - SAMPLE: GSM388081\n",
      "05-Jun-2022 12:26:12 DEBUG GEOparse - SAMPLE: GSM388082\n",
      "05-Jun-2022 12:26:12 DEBUG GEOparse - SAMPLE: GSM388083\n",
      "05-Jun-2022 12:26:12 DEBUG GEOparse - SAMPLE: GSM388084\n",
      "05-Jun-2022 12:26:12 DEBUG GEOparse - SAMPLE: GSM388085\n",
      "05-Jun-2022 12:26:12 DEBUG GEOparse - SAMPLE: GSM388086\n",
      "05-Jun-2022 12:26:12 DEBUG GEOparse - SAMPLE: GSM388087\n",
      "05-Jun-2022 12:26:13 DEBUG GEOparse - SAMPLE: GSM388088\n",
      "05-Jun-2022 12:26:13 DEBUG GEOparse - SAMPLE: GSM388089\n",
      "05-Jun-2022 12:26:13 DEBUG GEOparse - SAMPLE: GSM388090\n",
      "05-Jun-2022 12:26:13 DEBUG GEOparse - SAMPLE: GSM388091\n",
      "05-Jun-2022 12:26:13 DEBUG GEOparse - SAMPLE: GSM388092\n",
      "05-Jun-2022 12:26:13 DEBUG GEOparse - SAMPLE: GSM388093\n",
      "05-Jun-2022 12:26:13 DEBUG GEOparse - SAMPLE: GSM388094\n",
      "05-Jun-2022 12:26:13 DEBUG GEOparse - SAMPLE: GSM388095\n",
      "05-Jun-2022 12:26:14 DEBUG GEOparse - SAMPLE: GSM388096\n",
      "05-Jun-2022 12:26:14 DEBUG GEOparse - SAMPLE: GSM388097\n",
      "05-Jun-2022 12:26:14 DEBUG GEOparse - SAMPLE: GSM388098\n",
      "05-Jun-2022 12:26:14 DEBUG GEOparse - SAMPLE: GSM388099\n",
      "05-Jun-2022 12:26:14 DEBUG GEOparse - SAMPLE: GSM388100\n",
      "05-Jun-2022 12:26:14 DEBUG GEOparse - SAMPLE: GSM388101\n",
      "05-Jun-2022 12:26:14 DEBUG GEOparse - SAMPLE: GSM388102\n",
      "05-Jun-2022 12:26:14 DEBUG GEOparse - SAMPLE: GSM388103\n",
      "05-Jun-2022 12:26:15 DEBUG GEOparse - SAMPLE: GSM388104\n",
      "05-Jun-2022 12:26:15 DEBUG GEOparse - SAMPLE: GSM388105\n",
      "05-Jun-2022 12:26:15 DEBUG GEOparse - SAMPLE: GSM388106\n",
      "05-Jun-2022 12:26:15 DEBUG GEOparse - SAMPLE: GSM388107\n",
      "05-Jun-2022 12:26:15 DEBUG GEOparse - SAMPLE: GSM388108\n",
      "05-Jun-2022 12:26:15 DEBUG GEOparse - SAMPLE: GSM388109\n",
      "05-Jun-2022 12:26:15 DEBUG GEOparse - SAMPLE: GSM388110\n",
      "05-Jun-2022 12:26:15 DEBUG GEOparse - SAMPLE: GSM388111\n",
      "05-Jun-2022 12:26:16 DEBUG GEOparse - SAMPLE: GSM388112\n",
      "05-Jun-2022 12:26:16 DEBUG GEOparse - SAMPLE: GSM388113\n",
      "05-Jun-2022 12:26:16 DEBUG GEOparse - SAMPLE: GSM388114\n",
      "05-Jun-2022 12:26:16 DEBUG GEOparse - SAMPLE: GSM388115\n",
      "05-Jun-2022 12:26:16 DEBUG GEOparse - SAMPLE: GSM388116\n",
      "05-Jun-2022 12:26:16 DEBUG GEOparse - SAMPLE: GSM388117\n",
      "05-Jun-2022 12:26:16 DEBUG GEOparse - SAMPLE: GSM388118\n",
      "05-Jun-2022 12:26:16 DEBUG GEOparse - SAMPLE: GSM388119\n",
      "05-Jun-2022 12:26:17 DEBUG GEOparse - SAMPLE: GSM388120\n",
      "05-Jun-2022 12:26:17 DEBUG GEOparse - SAMPLE: GSM388121\n",
      "05-Jun-2022 12:26:17 DEBUG GEOparse - SAMPLE: GSM388122\n",
      "05-Jun-2022 12:26:17 DEBUG GEOparse - SAMPLE: GSM388123\n",
      "05-Jun-2022 12:26:17 DEBUG GEOparse - SAMPLE: GSM388124\n",
      "05-Jun-2022 12:26:17 DEBUG GEOparse - SAMPLE: GSM388125\n",
      "05-Jun-2022 12:26:17 DEBUG GEOparse - SAMPLE: GSM388126\n",
      "05-Jun-2022 12:26:18 DEBUG GEOparse - SAMPLE: GSM388127\n",
      "05-Jun-2022 12:26:18 DEBUG GEOparse - SAMPLE: GSM388128\n",
      "05-Jun-2022 12:26:18 DEBUG GEOparse - SAMPLE: GSM388129\n",
      "05-Jun-2022 12:26:18 DEBUG GEOparse - SAMPLE: GSM388130\n",
      "05-Jun-2022 12:26:18 DEBUG GEOparse - SAMPLE: GSM388131\n",
      "05-Jun-2022 12:26:18 DEBUG GEOparse - SAMPLE: GSM388132\n",
      "05-Jun-2022 12:26:18 DEBUG GEOparse - SAMPLE: GSM388133\n",
      "05-Jun-2022 12:26:18 DEBUG GEOparse - SAMPLE: GSM388134\n",
      "05-Jun-2022 12:26:19 DEBUG GEOparse - SAMPLE: GSM388135\n",
      "05-Jun-2022 12:26:19 DEBUG GEOparse - SAMPLE: GSM388136\n",
      "05-Jun-2022 12:26:19 DEBUG GEOparse - SAMPLE: GSM388137\n",
      "05-Jun-2022 12:26:19 DEBUG GEOparse - SAMPLE: GSM388138\n",
      "05-Jun-2022 12:26:19 DEBUG GEOparse - SAMPLE: GSM388139\n",
      "05-Jun-2022 12:26:19 DEBUG GEOparse - SAMPLE: GSM388140\n",
      "05-Jun-2022 12:26:19 DEBUG GEOparse - SAMPLE: GSM388141\n",
      "05-Jun-2022 12:26:19 DEBUG GEOparse - SAMPLE: GSM388142\n",
      "05-Jun-2022 12:26:20 DEBUG GEOparse - SAMPLE: GSM388143\n",
      "05-Jun-2022 12:26:20 DEBUG GEOparse - SAMPLE: GSM388144\n",
      "05-Jun-2022 12:26:20 DEBUG GEOparse - SAMPLE: GSM388145\n",
      "05-Jun-2022 12:26:20 DEBUG GEOparse - SAMPLE: GSM388146\n",
      "05-Jun-2022 12:26:20 DEBUG GEOparse - SAMPLE: GSM388147\n",
      "05-Jun-2022 12:26:20 DEBUG GEOparse - SAMPLE: GSM388148\n",
      "05-Jun-2022 12:26:20 DEBUG GEOparse - SAMPLE: GSM388149\n",
      "05-Jun-2022 12:26:21 DEBUG GEOparse - SAMPLE: GSM388150\n",
      "05-Jun-2022 12:26:21 DEBUG GEOparse - SAMPLE: GSM388151\n",
      "05-Jun-2022 12:26:21 DEBUG GEOparse - SAMPLE: GSM388152\n",
      "05-Jun-2022 12:26:21 DEBUG GEOparse - SAMPLE: GSM388153\n",
      "05-Jun-2022 12:26:25 DEBUG utils - Directory ./ already exists. Skipping.\n",
      "05-Jun-2022 12:26:25 INFO GEOparse - File already exist: using local version.\n",
      "05-Jun-2022 12:26:25 INFO GEOparse - Parsing ./GSE16515_family.soft.gz: \n",
      "05-Jun-2022 12:26:25 DEBUG GEOparse - DATABASE: GeoMiame\n",
      "05-Jun-2022 12:26:25 DEBUG GEOparse - SERIES: GSE16515\n",
      "05-Jun-2022 12:26:25 DEBUG GEOparse - PLATFORM: GPL570\n",
      "C:\\Users\\ctrou\\anaconda3\\lib\\site-packages\\GEOparse\\GEOparse.py:113: DtypeWarning: Columns (2) have mixed types.Specify dtype option on import or set low_memory=False.\n",
      "  return parse_GSE(filepath, open_kwargs=open_kwargs)\n",
      "05-Jun-2022 12:26:26 DEBUG GEOparse - SAMPLE: GSM414924\n",
      "05-Jun-2022 12:26:27 DEBUG GEOparse - SAMPLE: GSM414925\n",
      "05-Jun-2022 12:26:27 DEBUG GEOparse - SAMPLE: GSM414926\n",
      "05-Jun-2022 12:26:27 DEBUG GEOparse - SAMPLE: GSM414927\n",
      "05-Jun-2022 12:26:27 DEBUG GEOparse - SAMPLE: GSM414928\n",
      "05-Jun-2022 12:26:27 DEBUG GEOparse - SAMPLE: GSM414929\n",
      "05-Jun-2022 12:26:27 DEBUG GEOparse - SAMPLE: GSM414930\n",
      "05-Jun-2022 12:26:27 DEBUG GEOparse - SAMPLE: GSM414931\n",
      "05-Jun-2022 12:26:27 DEBUG GEOparse - SAMPLE: GSM414932\n",
      "05-Jun-2022 12:26:28 DEBUG GEOparse - SAMPLE: GSM414933\n",
      "05-Jun-2022 12:26:28 DEBUG GEOparse - SAMPLE: GSM414934\n",
      "05-Jun-2022 12:26:28 DEBUG GEOparse - SAMPLE: GSM414935\n",
      "05-Jun-2022 12:26:28 DEBUG GEOparse - SAMPLE: GSM414936\n",
      "05-Jun-2022 12:26:28 DEBUG GEOparse - SAMPLE: GSM414937\n",
      "05-Jun-2022 12:26:28 DEBUG GEOparse - SAMPLE: GSM414938\n",
      "05-Jun-2022 12:26:28 DEBUG GEOparse - SAMPLE: GSM414939\n",
      "05-Jun-2022 12:26:28 DEBUG GEOparse - SAMPLE: GSM414940\n",
      "05-Jun-2022 12:26:29 DEBUG GEOparse - SAMPLE: GSM414941\n",
      "05-Jun-2022 12:26:29 DEBUG GEOparse - SAMPLE: GSM414942\n",
      "05-Jun-2022 12:26:29 DEBUG GEOparse - SAMPLE: GSM414943\n",
      "05-Jun-2022 12:26:29 DEBUG GEOparse - SAMPLE: GSM414944\n",
      "05-Jun-2022 12:26:29 DEBUG GEOparse - SAMPLE: GSM414945\n",
      "05-Jun-2022 12:26:29 DEBUG GEOparse - SAMPLE: GSM414946\n",
      "05-Jun-2022 12:26:29 DEBUG GEOparse - SAMPLE: GSM414947\n",
      "05-Jun-2022 12:26:29 DEBUG GEOparse - SAMPLE: GSM414948\n",
      "05-Jun-2022 12:26:29 DEBUG GEOparse - SAMPLE: GSM414949\n",
      "05-Jun-2022 12:26:30 DEBUG GEOparse - SAMPLE: GSM414950\n",
      "05-Jun-2022 12:26:30 DEBUG GEOparse - SAMPLE: GSM414951\n",
      "05-Jun-2022 12:26:30 DEBUG GEOparse - SAMPLE: GSM414952\n",
      "05-Jun-2022 12:26:30 DEBUG GEOparse - SAMPLE: GSM414953\n",
      "05-Jun-2022 12:26:30 DEBUG GEOparse - SAMPLE: GSM414954\n",
      "05-Jun-2022 12:26:30 DEBUG GEOparse - SAMPLE: GSM414955\n",
      "05-Jun-2022 12:26:30 DEBUG GEOparse - SAMPLE: GSM414956\n",
      "05-Jun-2022 12:26:30 DEBUG GEOparse - SAMPLE: GSM414957\n",
      "05-Jun-2022 12:26:31 DEBUG GEOparse - SAMPLE: GSM414958\n",
      "05-Jun-2022 12:26:31 DEBUG GEOparse - SAMPLE: GSM414959\n",
      "05-Jun-2022 12:26:31 DEBUG GEOparse - SAMPLE: GSM414960\n",
      "05-Jun-2022 12:26:31 DEBUG GEOparse - SAMPLE: GSM414961\n",
      "05-Jun-2022 12:26:31 DEBUG GEOparse - SAMPLE: GSM414962\n",
      "05-Jun-2022 12:26:31 DEBUG GEOparse - SAMPLE: GSM414963\n",
      "05-Jun-2022 12:26:31 DEBUG GEOparse - SAMPLE: GSM414964\n",
      "05-Jun-2022 12:26:31 DEBUG GEOparse - SAMPLE: GSM414965\n",
      "05-Jun-2022 12:26:32 DEBUG GEOparse - SAMPLE: GSM414966\n",
      "05-Jun-2022 12:26:32 DEBUG GEOparse - SAMPLE: GSM414967\n",
      "05-Jun-2022 12:26:32 DEBUG GEOparse - SAMPLE: GSM414968\n",
      "05-Jun-2022 12:26:32 DEBUG GEOparse - SAMPLE: GSM414969\n",
      "05-Jun-2022 12:26:32 DEBUG GEOparse - SAMPLE: GSM414970\n"
     ]
    },
    {
     "name": "stderr",
     "output_type": "stream",
     "text": [
      "05-Jun-2022 12:26:32 DEBUG GEOparse - SAMPLE: GSM414971\n",
      "05-Jun-2022 12:26:32 DEBUG GEOparse - SAMPLE: GSM414972\n",
      "05-Jun-2022 12:26:32 DEBUG GEOparse - SAMPLE: GSM414973\n",
      "05-Jun-2022 12:26:32 DEBUG GEOparse - SAMPLE: GSM414974\n",
      "05-Jun-2022 12:26:33 DEBUG GEOparse - SAMPLE: GSM414975\n",
      "05-Jun-2022 12:26:35 DEBUG utils - Directory ./ already exists. Skipping.\n",
      "05-Jun-2022 12:26:35 INFO GEOparse - File already exist: using local version.\n",
      "05-Jun-2022 12:26:35 INFO GEOparse - Parsing ./GSE22780_family.soft.gz: \n",
      "05-Jun-2022 12:26:35 DEBUG GEOparse - DATABASE: GeoMiame\n",
      "05-Jun-2022 12:26:35 DEBUG GEOparse - SERIES: GSE22780\n",
      "05-Jun-2022 12:26:35 DEBUG GEOparse - PLATFORM: GPL570\n",
      "C:\\Users\\ctrou\\anaconda3\\lib\\site-packages\\GEOparse\\GEOparse.py:113: DtypeWarning: Columns (2) have mixed types.Specify dtype option on import or set low_memory=False.\n",
      "  return parse_GSE(filepath, open_kwargs=open_kwargs)\n",
      "05-Jun-2022 12:26:37 DEBUG GEOparse - SAMPLE: GSM563305\n",
      "05-Jun-2022 12:26:37 DEBUG GEOparse - SAMPLE: GSM563306\n",
      "05-Jun-2022 12:26:37 DEBUG GEOparse - SAMPLE: GSM563307\n",
      "05-Jun-2022 12:26:38 DEBUG GEOparse - SAMPLE: GSM563308\n",
      "05-Jun-2022 12:26:38 DEBUG GEOparse - SAMPLE: GSM563309\n",
      "05-Jun-2022 12:26:38 DEBUG GEOparse - SAMPLE: GSM563310\n",
      "05-Jun-2022 12:26:38 DEBUG GEOparse - SAMPLE: GSM563311\n",
      "05-Jun-2022 12:26:38 DEBUG GEOparse - SAMPLE: GSM563312\n",
      "05-Jun-2022 12:26:38 DEBUG GEOparse - SAMPLE: GSM563313\n",
      "05-Jun-2022 12:26:39 DEBUG GEOparse - SAMPLE: GSM563314\n",
      "05-Jun-2022 12:26:39 DEBUG GEOparse - SAMPLE: GSM563315\n",
      "05-Jun-2022 12:26:39 DEBUG GEOparse - SAMPLE: GSM563316\n",
      "05-Jun-2022 12:26:39 DEBUG GEOparse - SAMPLE: GSM563317\n",
      "05-Jun-2022 12:26:39 DEBUG GEOparse - SAMPLE: GSM563318\n",
      "05-Jun-2022 12:26:39 DEBUG GEOparse - SAMPLE: GSM563319\n",
      "05-Jun-2022 12:26:39 DEBUG GEOparse - SAMPLE: GSM563320\n"
     ]
    }
   ],
   "source": [
    "gsedata1 = functions.get_gsedata(\"GSE15471\", 1)\n",
    "\n",
    "gsedata2 = functions.get_gsedata(\"GSE16515\", 0)\n",
    "\n",
    "gsedata3 = functions.get_gsedata(\"GSE22780\", 3)"
   ]
  },
  {
   "cell_type": "markdown",
   "metadata": {},
   "source": [
    "#### DIFFERENTIAL GENE EXPRESSION ANALYSIS"
   ]
  },
  {
   "cell_type": "code",
   "execution_count": 20,
   "metadata": {},
   "outputs": [],
   "source": [
    "##todo: add pvalue parameter\n",
    "sig_genes1 = functions.get_fold_change(gsedata1,1.5,0.02)\n",
    "sig_genes2 = functions.get_fold_change(gsedata2,1.5,0.02)\n",
    "sig_genes3 = functions.get_fold_change(gsedata3,1.5,0.02)\n",
    "\n",
    "#UNCOMMENT BELOW IF YOU WANT TO GENERATE A CSV FILE WITH THE SIGNIFICANT GENES\n",
    "#sig_genes1.to_csv('sig_genes1.csv', index = True)\n",
    "#sig_genes2.to_csv('sig_genes2.csv', index = True)\n",
    "#sig_genes3.to_csv('sig_genes3.csv', index = True)"
   ]
  },
  {
   "cell_type": "code",
   "execution_count": null,
   "metadata": {},
   "outputs": [],
   "source": []
  },
  {
   "cell_type": "code",
   "execution_count": 21,
   "metadata": {},
   "outputs": [
    {
     "data": {
      "image/png": "[encoded data removed]",
      "text/plain": [
       "<Figure size 432x288 with 1 Axes>"
      ]
     },
     "metadata": {},
     "output_type": "display_data"
    }
   ],
   "source": [
    "A = set(sig_genes1.index)\n",
    "B = set(sig_genes2.index)\n",
    "C = set(sig_genes3.index)\n",
    "\n",
    "venn = venn3_unweighted([set(sig_genes1.index), set(sig_genes2.index), set(sig_genes3.index)], ('Dataset1', 'Dataset2', 'Dataset3'))\n",
    "#venn.get_label_by_id('100').set_text('\\n'.join(A-B-C))\n",
    "#venn.get_label_by_id('110').set_text('\\n'.join(A&B-C))\n",
    "#venn.get_label_by_id('011').set_text('\\n'.join(B&C-A))\n",
    "#venn.get_label_by_id('001').set_text('\\n'.join(C-A-B))\n",
    "#venn.get_label_by_id('010').set_text('')\n",
    "plt.show()\n"
   ]
  },
  {
   "cell_type": "code",
   "execution_count": 10,
   "metadata": {},
   "outputs": [
    {
     "name": "stdout",
     "output_type": "stream",
     "text": [
      "['ALB' 'AQP12A /// AQP12B' 'AQP8' 'CEACAM5' 'CEACAM6' 'CELA2B' 'CLDN18'\n",
      " 'COL10A1' 'COL11A1' 'CTRL' 'CXCL5' 'ERP27' 'GABRP' 'GJB2' 'GNMT' 'GP2'\n",
      " 'GPRC5A' 'IGFBP3'\n",
      " 'IGHG1 /// IGHG2 /// IGHM /// IGHV4-31 /// MIR8071-1 /// MIR8071-2'\n",
      " 'INHBA' 'KRT19' 'KRT7' 'LCN2' 'PDIA2' 'PHLDA2' 'PNLIPRP1' 'PNLIPRP2'\n",
      " 'POSTN' 'S100P' 'SERPINI2' 'SLC6A14' 'SPX' 'SYCN' 'TCN1' 'TEX11' 'TMC5'\n",
      " 'TMED6']\n"
     ]
    }
   ],
   "source": [
    "# this will be used to output the shared genes to be used for DAVID Enrichment Analysis\n",
    "#print(np.intersect1d(sig_genes1.index,sig_genes2.index))\n"
   ]
  },
  {
   "cell_type": "markdown",
   "metadata": {},
   "source": [
    "#### CREATING MACHINE LEARNING MODELS"
   ]
  },
  {
   "cell_type": "code",
   "execution_count": 34,
   "metadata": {},
   "outputs": [],
   "source": [
    "#get the genes that are present in all three datasets\n",
    "common_genes = gsedata3.index.intersection(gsedata1.index.intersection(gsedata2.index))\n",
    "gsedata1.index.name='Gene Symbols'\n",
    "gsedata2.index.name='Gene Symbols'\n",
    "gsedata3.index.name='Gene Symbols'\n",
    "\n",
    "\n",
    "#use the common genes set all three datasets to have equal # of features\n",
    "gsedata1_common = gsedata1.loc[common_genes].groupby('Gene Symbols').mean()\n",
    "gsedata2_common = gsedata2.loc[common_genes].groupby('Gene Symbols').mean()\n",
    "gsedata3_common = gsedata3.loc[common_genes].groupby('Gene Symbols').mean()\n",
    "\n",
    "#set variance threshold for feature selection using primary dataset\n",
    "x_df = gsedata1_common.transpose()\n",
    "\n",
    "variance = np.sort(x_df.var())[math.floor(0.99 * x_df.shape[1])]\n",
    "\n",
    "#filter out genes below variance threshold for each dataset\n",
    "x = x_df.loc[:, x_df.var() > variance].values\n",
    "y = gsedata1_common.columns.values\n",
    "\n",
    "\n",
    "x2_df = gsedata2_common.transpose()\n",
    "x2 = x2_df.loc[:, x_df.var() > variance].values\n",
    "y2 = gsedata2_common.columns.values\n",
    "\n",
    "x3_df = gsedata3_common.transpose()\n",
    "x3 = x3_df.loc[:, x_df.var() > variance].values\n",
    "y3 = gsedata3_common.columns.values"
   ]
  },
  {
   "cell_type": "code",
   "execution_count": 37,
   "metadata": {},
   "outputs": [
    {
     "data": {
      "text/plain": [
       "Text(0, 0.5, 'number of genes')"
      ]
     },
     "execution_count": 37,
     "metadata": {},
     "output_type": "execute_result"
    },
    {
     "data": {
      "image/png": "[encoded data removed]",
      "text/plain": [
       "<Figure size 432x288 with 1 Axes>"
      ]
     },
     "metadata": {
      "needs_background": "light"
     },
     "output_type": "display_data"
    }
   ],
   "source": [
    "plt.hist(x_df.var(), 100);\n",
    "plt.xlim(0,1)\n",
    "plt.xlabel('Variance')\n",
    "plt.ylabel('Number of Genes')"
   ]
  },
  {
   "cell_type": "markdown",
   "metadata": {},
   "source": [
    "##### DECISION TREE"
   ]
  },
  {
   "cell_type": "code",
   "execution_count": null,
   "metadata": {},
   "outputs": [],
   "source": [
    "mdl_tree = tree.DecisionTreeClassifier(max_depth=2)\n",
    "\n",
    "print('Dataset1 cross-validation accuracy (all features): ', (cross_val_score(mdl_tree, x_df.values, y, cv = 5)).mean())\n",
    "mdl_tree = mdl_tree.fit(x_df.values, y)\n",
    "\n",
    "print('Dataset2 accuracy (all features): ', mdl_tree.score(x2_df.values, y2))\n",
    "print('Dataset3 accuracy (all features): ', mdl_tree.score(x3_df.values, y3))\n",
    "\n",
    "print()\n",
    "\n",
    "print('Datasets with selected features based on variance')\n",
    "## SELECTING FEATURES BASED ON GENE VARIANCE\n",
    "print('Dataset1 cross-validation accuracy (selected features): ', (cross_val_score(mdl_tree, x, y, cv = 5)).mean())\n",
    "mdl_tree = mdl_tree.fit(x, y)\n",
    "\n",
    "print('Dataset2 accuracy (selected features): ', mdl_tree.score(x2, y2))\n",
    "print('Dataset3 accuracy (selected features): ', mdl_tree.score(x3, y3))"
   ]
  },
  {
   "cell_type": "markdown",
   "metadata": {},
   "source": [
    "##### SUPPORT VECTOR MACHINE"
   ]
  },
  {
   "cell_type": "code",
   "execution_count": null,
   "metadata": {},
   "outputs": [],
   "source": [
    "##CROSS VALIDATION FOR SUPPORT VECTOR MACHINE\n",
    "mdlSVM = SVC(kernel='rbf')\n",
    "\n",
    "print('Dataset1 cross-validation accuracy (all features): ', (cross_val_score(mdlSVM, x_df.values, y, cv = 5)).mean())\n",
    "mdlSVM = mdlSVM.fit(x_df.values, y)\n",
    "\n",
    "print('Dataset2 accuracy (all features): ', mdlSVM.score(x2_df.values, y2))\n",
    "print('Dataset3 accuracy (all features): ', mdlSVM.score(x3_df.values, y3))\n",
    "\n",
    "print()\n",
    "\n",
    "\n",
    "## SELECTING FEATURES BASED ON GENE VARIANCE\n",
    "print('Datasets with selected features based on variance')\n",
    "print('Dataset1 cross-validation accuracy (selected features): ', (cross_val_score(mdlSVM, x, y, cv = 5)).mean())\n",
    "mdlSVM = mdlSVM.fit(x, y)\n",
    "\n",
    "print('Dataset2 accuracy (selected features): ', mdlSVM.score(x2, y2))\n",
    "print('Dataset3 accuracy (selected features): ', mdlSVM.score(x3, y3))\n",
    "\n",
    "\n"
   ]
  },
  {
   "cell_type": "markdown",
   "metadata": {},
   "source": [
    "##### K-NEAREST NEIGHBOR"
   ]
  },
  {
   "cell_type": "code",
   "execution_count": null,
   "metadata": {},
   "outputs": [],
   "source": [
    "##CROSS VALIDATION FOR K-NEAREST NEIGHBOR\n",
    "mdlKNN = KNeighborsClassifier(n_neighbors = 3)\n",
    "\n",
    "print('Dataset1 cross-validation accuracy (all features): ', (cross_val_score(mdlKNN, x_df.values, y, cv = 5)).mean())\n",
    "mdlKNN = mdlKNN.fit(x_df.values, y)\n",
    "\n",
    "print('Dataset2 accuracy (all features): ', mdlKNN.score(x2_df.values, y2))\n",
    "print('Dataset3 accuracy (all features): ', mdlKNN.score(x3_df.values, y3))\n",
    "\n",
    "print()\n",
    "\n",
    "print('Datasets with selected features based on variance')\n",
    "## SELECTING FEATURES BASED ON GENE VARIANCE\n",
    "print('Dataset1 cross-validation accuracy (selected features): ', (cross_val_score(mdlKNN, x, y, cv = 5)).mean())\n",
    "mdlKNN = mdlKNN.fit(x, y)\n",
    "\n",
    "print('Dataset2 accuracy (selected features): ', mdlKNN.score(x2, y2))\n",
    "print('Dataset3 accuracy (selected features): ', mdlKNN.score(x3, y3))"
   ]
  },
  {
   "cell_type": "markdown",
   "metadata": {},
   "source": [
    "#### FEATURE SELECTION (WORK IN PROGRESS)"
   ]
  },
  {
   "cell_type": "code",
   "execution_count": null,
   "metadata": {},
   "outputs": [],
   "source": [
    "mdlKNN = KNeighborsClassifier(n_neighbors=3)\n",
    "sfs = SequentialFeatureSelector(mdlKNN, n_features_to_select=\"auto\", direction='forward', cv=5, scoring = 'accuracy')"
   ]
  },
  {
   "cell_type": "code",
   "execution_count": null,
   "metadata": {},
   "outputs": [],
   "source": [
    "sfs.fit(x,y)"
   ]
  },
  {
   "cell_type": "code",
   "execution_count": null,
   "metadata": {},
   "outputs": [],
   "source": [
    "x_selected = sfs.transform(x)\n",
    "x2_selected = sfs.transform(x2)\n",
    "x3_selected = sfs.transform(x3)"
   ]
  },
  {
   "cell_type": "code",
   "execution_count": null,
   "metadata": {},
   "outputs": [],
   "source": [
    "x_selected.shape"
   ]
  },
  {
   "cell_type": "code",
   "execution_count": null,
   "metadata": {},
   "outputs": [],
   "source": [
    "sfs.get_me"
   ]
  },
  {
   "cell_type": "code",
   "execution_count": null,
   "metadata": {},
   "outputs": [],
   "source": [
    "mdlSVM = SVC(kernel='rbf')\n",
    "\n",
    "print('Datasets with selected features based on SFS')\n",
    "print('Dataset1 cross-validation accuracy (selected features): ', (cross_val_score(mdlSVM, x_selected, y, cv = 5)).mean())\n",
    "mdlSVM = mdlSVM.fit(x_selected, y)\n",
    "\n",
    "print('Dataset2 accuracy (selected features): ', mdlSVM.score(x2_selected, y2))\n",
    "print('Dataset3 accuracy (selected features): ', mdlSVM.score(x3_selected, y3))"
   ]
  },
  {
   "cell_type": "code",
   "execution_count": null,
   "metadata": {},
   "outputs": [],
   "source": [
    "mdlKNN = KNeighborsClassifier(n_neighbors = 3)\n",
    "\n",
    "print('Datasets with selected features based on SFS')\n",
    "print('Dataset1 cross-validation accuracy (selected features): ', (cross_val_score(mdlKNN, x_selected, y, cv = 5)).mean())\n",
    "mdlKNN = mdlKNN.fit(x_selected, y)\n",
    "\n",
    "print('Dataset2 accuracy (selected features): ', mdlKNN.score(x2_selected, y2))\n",
    "print('Dataset3 accuracy (selected features): ', mdlKNN.score(x3_selected, y3))"
   ]
  },
  {
   "cell_type": "markdown",
   "metadata": {},
   "source": [
    "#### PRINCIPAL COMPONENT ANALYSIS"
   ]
  },
  {
   "cell_type": "code",
   "execution_count": null,
   "metadata": {},
   "outputs": [],
   "source": [
    "pca = PCA(n_components=2)\n",
    "\n",
    "principalComponents = pca.fit_transform(x)\n",
    "\n",
    "\n",
    "principalComponentsDf = pd.DataFrame(principalComponents, columns = ['PC 1', 'PC 2'])\n",
    "\n",
    "explained_variance = pca.explained_variance_ratio_\n"
   ]
  },
  {
   "cell_type": "code",
   "execution_count": null,
   "metadata": {},
   "outputs": [],
   "source": [
    "fig = plt.figure(figsize = (10,10))\n",
    "ax = fig.add_subplot(1,1,1) \n",
    "ax.set_xlabel(f'PC 1 ({explained_variance[0]: .3f})', fontsize = 20)\n",
    "ax.set_ylabel(f'PC 2 ({explained_variance[1]: .3f})', fontsize = 20)\n",
    "ax.set_title('PCA with 2 Components', fontsize = 20)\n",
    "groups = np.unique(y)\n",
    "colors = ['r', 'b']\n",
    "\n",
    "for group, color in zip(groups,colors):\n",
    "  \n",
    "    ax.scatter(principalComponentsDf.loc[y == group, 'PC 1']\n",
    "               , principalComponentsDf.loc[y == group, 'PC 2']\n",
    "               , c = color\n",
    "               , s = 50)\n",
    "ax.legend(groups)\n",
    "ax.grid()"
   ]
  }
 ],
 "metadata": {
  "interpreter": {
   "hash": "85195534fe9c3ad7633c7df1aa1e5609051098722e85f1686ce2cb1d8a1f6300"
  },
  "kernelspec": {
   "display_name": "Python 3",
   "language": "python",
   "name": "python3"
  },
  "language_info": {
   "codemirror_mode": {
    "name": "ipython",
    "version": 3
   },
   "file_extension": ".py",
   "mimetype": "text/x-python",
   "name": "python",
   "nbconvert_exporter": "python",
   "pygments_lexer": "ipython3",
   "version": "3.8.8"
  }
 },
 "nbformat": 4,
 "nbformat_minor": 2
}
