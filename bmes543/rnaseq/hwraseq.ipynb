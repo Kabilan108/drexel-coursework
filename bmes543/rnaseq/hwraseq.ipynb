{
 "cells": [
  {
   "cell_type": "markdown",
   "metadata": {},
   "source": [
    "# RNA-Seq Analysis\n",
    "\n",
    "**Author:** [Tony Kabilan Okeke](mailto:tko35@drexel.edu)  \n",
    "**Date:** 22 May 2022\n",
    "\n",
    "In this assignment, we you will re-analyze the RNA-Seq data reported in the \n",
    "following paper: *[Regulation of Glucose-Dependent Expression by the RNA Helicase Dbp2 in Saccharomyces cerevisiae](https://www.ncbi.nlm.nih.gov/pmc/articles/PMC4224148/)*\n",
    "\n",
    "The corresponding data for this study is at [GSE58097](https://www.ncbi.nlm.nih.gov/geo/query/acc.cgi?acc=GSE58097).\n",
    "\n",
    "The following runs were included in this analysis:\n",
    "- Wild Type - [SRR1302790](https://www.ncbi.nlm.nih.gov/sra?term=SRX555485)\n",
    "- Mutant - [SRR1302792](https://www.ncbi.nlm.nih.gov/sra?term=SRX555486)"
   ]
  },
  {
   "cell_type": "code",
   "execution_count": 1,
   "metadata": {},
   "outputs": [],
   "source": [
    "%load_ext autoreload\n",
    "%autoreload 2\n",
    "\n",
    "# Imports\n",
    "from urllib.request import urlretrieve\n",
    "from multiprocessing import cpu_count\n",
    "from glob import glob\n",
    "import pandas as pd\n",
    "import numpy as np\n",
    "import subprocess\n",
    "import os\n",
    "\n",
    "# Paths to command line tools\n",
    "#ahmet: minimize copy-paste in code/text. Better to create an additional variable for BINDIR='.../bin' then you can use e.g., BWA=f\"{BINDIR/bwa}\". And DATADIR='/mnt/h/data'. These common-prefix variables will make it easier to later change these locations, so you only change one place when you want to use a different folder.\n",
    "FEATURECOUNTS = \"/home/kabil/.anaconda3/envs/binf/bin/featureCounts\"\n",
    "FASTQDUMP = \"/home/kabil/.anaconda3/envs/binf/bin/fastq-dump\"\n",
    "PREFETCH = \"/home/kabil/.anaconda3/envs/binf/bin/prefetch\"\n",
    "BWA = \"/home/kabil/.anaconda3/envs/binf/bin/bwa\"\n",
    "\n",
    "# Directories and files\n",
    "fastqdir = \"/mnt/h/data/fastq\"\n",
    "samdir = \"/mnt/h/data/samfiles\"\n",
    "yeastgenome = \"/mnt/h/data/refseq/NC_001133.9_genomic.fna.gz\"\n",
    "yeastannot = \"/mnt/h/data/refseq/NC_001133.9_genomic.gtf.gz\"\n",
    "genomelink = \"https://ftp.ncbi.nih.gov/genomes/refseq/fungi/Saccharomyces_cerevisiae/reference/GCF_000146045.2_R64/GCF_000146045.2_R64_genomic.fna.gz\"\n",
    "annotlink = \"https://ftp.ncbi.nih.gov/genomes/refseq/fungi/Saccharomyces_cerevisiae/reference/GCF_000146045.2_R64/GCF_000146045.2_R64_genomic.gtf.gz\""
   ]
  },
  {
   "cell_type": "markdown",
   "metadata": {},
   "source": [
    "### Download `fastq` Files from SRA"
   ]
  },
  {
   "cell_type": "code",
   "execution_count": 2,
   "metadata": {},
   "outputs": [
    {
     "name": "stdout",
     "output_type": "stream",
     "text": [
      "SRR1302790 fastq files already exist.\n",
      "SRR1302792 fastq files already exist.\n"
     ]
    }
   ],
   "source": [
    "# Load fastq files\n",
    "runs = ['SRR1302790', 'SRR1302792']\n",
    "\n",
    "for run in runs:\n",
    "    if not os.path.exists(f\"{fastqdir}/{run}_pass_1.fastq.gz\"):\n",
    "        # This produces 2 (paired end) files for each read\n",
    "        cmd = (f\"{FASTQDUMP} --outdir {fastqdir} --skip-technical --gzip \" +\n",
    "               f\"--read-filter pass --dumpbase --split-3 --clip {run}\")\n",
    "\n",
    "        subprocess.call(f\"{PREFETCH} {run}\", shell=True)\n",
    "        subprocess.call(cmd, shell=True)\n",
    "    else:\n",
    "        print(f\"{run} fastq files already exist.\")"
   ]
  },
  {
   "cell_type": "markdown",
   "metadata": {},
   "source": [
    "### Download and Index the Yeast Genome\n",
    "\n",
    "The yeast genome was retrieved through the NCBI FTP site at [/genomes/refseq/Saccharomyces_cerevisiae/.../GCF_000146045.2_R64_genomic.fna.gz](https://ftp.ncbi.nih.gov/genomes/refseq/fungi/Saccharomyces_cerevisiae/reference/GCF_000146045.2_R64/GCF_000146045.2_R64_genomic.fna.gz).  \n",
    "The genome annotation file was also downloaded from the same [site](https://ftp.ncbi.nih.gov/genomes/refseq/fungi/Saccharomyces_cerevisiae/reference/GCF_000146045.2_R64/GCF_000146045.2_R64_genomic.gff.gz)."
   ]
  },
  {
   "cell_type": "code",
   "execution_count": 3,
   "metadata": {},
   "outputs": [],
   "source": [
    "# Download genome\n",
    "if not os.path.exists(yeastgenome):\n",
    "    print(\"Downloading yeast reference genome...\")\n",
    "    urlretrieve(genomelink, yeastgenome)\n",
    "\n",
    "# Download annotation\n",
    "if not os.path.exists(yeastannot):\n",
    "    print(\"Downloading genome annotation...\")\n",
    "    urlretrieve(annotlink, yeastannot)\n",
    "\n",
    "# Index genome\n",
    "if not os.path.exists(yeastgenome + '.bwt'):\n",
    "    print(\"Indexing yeast reference genome...\")\n",
    "    cmd = f\"{BWA} index '{yeastgenome}'\"\n",
    "    subprocess.call(cmd, shell=True)"
   ]
  },
  {
   "cell_type": "markdown",
   "metadata": {},
   "source": [
    "### Map Reads to Yeast Reference Genome\n",
    "\n",
    "Running `fastq-dump` with the `--split-3` option produces 2 files for each\n",
    "run; for each run, both files will be passed to `bwa` as a read pair, so only\n",
    "2 SAM files will be created."
   ]
  },
  {
   "cell_type": "code",
   "execution_count": 4,
   "metadata": {},
   "outputs": [
    {
     "name": "stdout",
     "output_type": "stream",
     "text": [
      "SRR1302790 has already been mapped.\n",
      "SRR1302792 has already been mapped.\n"
     ]
    }
   ],
   "source": [
    "# Create read pairs\n",
    "readpairs = []\n",
    "for run in runs:\n",
    "    readpairs.append( ' '.join(glob(f\"{fastqdir}/{run}_pass_[12].fastq.gz\")) ) \n",
    "\n",
    "# Map reads to the reference genome\n",
    "samfiles = []\n",
    "for run, readpair in zip(runs, readpairs):\n",
    "    samfile = f\"{samdir}/{run}.sam\"\n",
    "\n",
    "    if not os.path.exists(samfile):\n",
    "        cmd = f\"{BWA} mem -t {cpu_count()} {yeastgenome} {readpair} > {samfile}\"\n",
    "        subprocess.call(cmd, shell=True)\n",
    "    else:\n",
    "        print(f\"{run} has already been mapped.\")\n",
    "\n",
    "    samfiles.append(samfile)"
   ]
  },
  {
   "cell_type": "markdown",
   "metadata": {},
   "source": [
    "### Feature Counts"
   ]
  },
  {
   "cell_type": "code",
   "execution_count": 5,
   "metadata": {},
   "outputs": [
    {
     "name": "stdout",
     "output_type": "stream",
     "text": [
      "feauture_counts.txt already exists.\n"
     ]
    }
   ],
   "source": [
    "# Generate table of feature counts for WT and Mutant samples\n",
    "if not os.path.exists(\"results/feature_counts.txt\"):\n",
    "    cmd = (f\"{FEATURECOUNTS} -p -a {yeastannot} -o results/feature_counts.txt \" +\n",
    "           f\"{' '.join(samfiles)} -O -T {cpu_count()} \" +\n",
    "           f\"--tmpDir /mnt/h/tmp/ -t exon -g gene_id\") \n",
    "    subprocess.call(cmd, shell=True)\n",
    "else:\n",
    "    print('feauture_counts.txt already exists.')"
   ]
  },
  {
   "cell_type": "code",
   "execution_count": 6,
   "metadata": {},
   "outputs": [],
   "source": [
    "# Load feature counts\n",
    "df = pd.read_table('results/feature_counts.txt', skiprows=1) \\\n",
    "    .rename({f'{samdir}/SRR1302790.sam': 'WT',\n",
    "             f'{samdir}/SRR1302792.sam': 'Mutant',\n",
    "             'Geneid': 'Gene'}, axis=1)\n",
    "# Use pseudo-counts to avoid inf fold changes\n",
    "df[['WT', 'Mutant']] = df[['WT', 'Mutant']] + 1\n",
    "\n",
    "# Perform TPM Normalization\n",
    "df[['WT', 'Mutant']] = df[['WT', 'Mutant']].div(df.Length, axis=0)\n",
    "df[['WT', 'Mutant']] = df[['WT', 'Mutant']] / df[['WT', 'Mutant']].sum() * 1e6"
   ]
  },
  {
   "cell_type": "markdown",
   "metadata": {},
   "source": [
    "### Differential Gene Expression"
   ]
  },
  {
   "cell_type": "code",
   "execution_count": 7,
   "metadata": {},
   "outputs": [
    {
     "data": {
      "text/html": [
       "<div>\n",
       "<style scoped>\n",
       "    .dataframe tbody tr th:only-of-type {\n",
       "        vertical-align: middle;\n",
       "    }\n",
       "\n",
       "    .dataframe tbody tr th {\n",
       "        vertical-align: top;\n",
       "    }\n",
       "\n",
       "    .dataframe thead th {\n",
       "        text-align: right;\n",
       "    }\n",
       "</style>\n",
       "<table border=\"1\" class=\"dataframe\">\n",
       "  <thead>\n",
       "    <tr style=\"text-align: right;\">\n",
       "      <th></th>\n",
       "      <th>Gene</th>\n",
       "      <th>Chr</th>\n",
       "      <th>FoldChange</th>\n",
       "    </tr>\n",
       "  </thead>\n",
       "  <tbody>\n",
       "    <tr>\n",
       "      <th>0</th>\n",
       "      <td>YFL014W</td>\n",
       "      <td>NC_001138.5</td>\n",
       "      <td>801.449474</td>\n",
       "    </tr>\n",
       "    <tr>\n",
       "      <th>1</th>\n",
       "      <td>YBR115C</td>\n",
       "      <td>NC_001134.8</td>\n",
       "      <td>-323.410199</td>\n",
       "    </tr>\n",
       "    <tr>\n",
       "      <th>2</th>\n",
       "      <td>YPR157W</td>\n",
       "      <td>NC_001148.4</td>\n",
       "      <td>321.143255</td>\n",
       "    </tr>\n",
       "    <tr>\n",
       "      <th>3</th>\n",
       "      <td>YDL048C</td>\n",
       "      <td>NC_001136.10</td>\n",
       "      <td>299.833276</td>\n",
       "    </tr>\n",
       "    <tr>\n",
       "      <th>4</th>\n",
       "      <td>YGR248W</td>\n",
       "      <td>NC_001139.9</td>\n",
       "      <td>277.168362</td>\n",
       "    </tr>\n",
       "    <tr>\n",
       "      <th>5</th>\n",
       "      <td>YGR052W</td>\n",
       "      <td>NC_001139.9</td>\n",
       "      <td>276.768792</td>\n",
       "    </tr>\n",
       "    <tr>\n",
       "      <th>6</th>\n",
       "      <td>YNL112W</td>\n",
       "      <td>NC_001146.8;NC_001146.8</td>\n",
       "      <td>-264.086003</td>\n",
       "    </tr>\n",
       "    <tr>\n",
       "      <th>7</th>\n",
       "      <td>YBR054W</td>\n",
       "      <td>NC_001134.8</td>\n",
       "      <td>247.015566</td>\n",
       "    </tr>\n",
       "    <tr>\n",
       "      <th>8</th>\n",
       "      <td>YLR297W</td>\n",
       "      <td>NC_001144.5</td>\n",
       "      <td>243.609418</td>\n",
       "    </tr>\n",
       "    <tr>\n",
       "      <th>9</th>\n",
       "      <td>YGR138C</td>\n",
       "      <td>NC_001139.9</td>\n",
       "      <td>234.155755</td>\n",
       "    </tr>\n",
       "  </tbody>\n",
       "</table>\n",
       "</div>"
      ],
      "text/plain": [
       "      Gene                      Chr  FoldChange\n",
       "0  YFL014W              NC_001138.5  801.449474\n",
       "1  YBR115C              NC_001134.8 -323.410199\n",
       "2  YPR157W              NC_001148.4  321.143255\n",
       "3  YDL048C             NC_001136.10  299.833276\n",
       "4  YGR248W              NC_001139.9  277.168362\n",
       "5  YGR052W              NC_001139.9  276.768792\n",
       "6  YNL112W  NC_001146.8;NC_001146.8 -264.086003\n",
       "7  YBR054W              NC_001134.8  247.015566\n",
       "8  YLR297W              NC_001144.5  243.609418\n",
       "9  YGR138C              NC_001139.9  234.155755"
      ]
     },
     "execution_count": 7,
     "metadata": {},
     "output_type": "execute_result"
    }
   ],
   "source": [
    "# Compute fold-change between mutant and WT\n",
    "fc = df['Mutant'] / df['WT']\n",
    "df['FoldChange'] = np.where(fc < 1, -1/fc, fc)  # signed fold-change\n",
    "\n",
    "# List 10 most different denes between groups\n",
    "df = df.sort_values('FoldChange', key=abs, ascending=False) \\\n",
    "    .reset_index(drop=True)\n",
    "df[['Gene', 'Chr', 'FoldChange']].head(10)"
   ]
  },
  {
   "cell_type": "markdown",
   "metadata": {},
   "source": [
    "#### Functional Enrichment Analysis\n",
    "\n",
    "Only genes that exhibit a 5-fold change or higher were included in the \n",
    "functional enrichment analysis.  \n",
    "\n",
    "The functional enrichment results are stored in the `results/enrichment_go_terms.txt`\n",
    "and `results/enrichment_kegg_paths.txt`; the top 10 enriched go terms and kegg\n",
    "pathways are shown below."
   ]
  },
  {
   "cell_type": "code",
   "execution_count": 8,
   "metadata": {},
   "outputs": [
    {
     "data": {
      "text/html": [
       "<style type=\"text/css\">\n",
       "</style>\n",
       "<table id=\"T_f9a40\">\n",
       "  <caption>Enriched GO TERMS</caption>\n",
       "  <thead>\n",
       "    <tr>\n",
       "      <th class=\"blank level0\" >&nbsp;</th>\n",
       "      <th id=\"T_f9a40_level0_col0\" class=\"col_heading level0 col0\" >Term</th>\n",
       "      <th id=\"T_f9a40_level0_col1\" class=\"col_heading level0 col1\" >PValue</th>\n",
       "      <th id=\"T_f9a40_level0_col2\" class=\"col_heading level0 col2\" >Count</th>\n",
       "    </tr>\n",
       "  </thead>\n",
       "  <tbody>\n",
       "    <tr>\n",
       "      <th id=\"T_f9a40_level0_row0\" class=\"row_heading level0 row0\" >0</th>\n",
       "      <td id=\"T_f9a40_row0_col0\" class=\"data row0 col0\" >GO:0031505~fungal-type cell wall organization</td>\n",
       "      <td id=\"T_f9a40_row0_col1\" class=\"data row0 col1\" >0.000000</td>\n",
       "      <td id=\"T_f9a40_row0_col2\" class=\"data row0 col2\" >53</td>\n",
       "    </tr>\n",
       "    <tr>\n",
       "      <th id=\"T_f9a40_level0_row1\" class=\"row_heading level0 row1\" >1</th>\n",
       "      <td id=\"T_f9a40_row1_col0\" class=\"data row1 col0\" >GO:1902600~hydrogen ion transmembrane transport</td>\n",
       "      <td id=\"T_f9a40_row1_col1\" class=\"data row1 col1\" >0.000000</td>\n",
       "      <td id=\"T_f9a40_row1_col2\" class=\"data row1 col2\" >38</td>\n",
       "    </tr>\n",
       "    <tr>\n",
       "      <th id=\"T_f9a40_level0_row2\" class=\"row_heading level0 row2\" >2</th>\n",
       "      <td id=\"T_f9a40_row2_col0\" class=\"data row2 col0\" >GO:0055085~transmembrane transport</td>\n",
       "      <td id=\"T_f9a40_row2_col1\" class=\"data row2 col1\" >0.000000</td>\n",
       "      <td id=\"T_f9a40_row2_col2\" class=\"data row2 col2\" >73</td>\n",
       "    </tr>\n",
       "    <tr>\n",
       "      <th id=\"T_f9a40_level0_row3\" class=\"row_heading level0 row3\" >3</th>\n",
       "      <td id=\"T_f9a40_row3_col0\" class=\"data row3 col0\" >GO:1904659~glucose transmembrane transport</td>\n",
       "      <td id=\"T_f9a40_row3_col1\" class=\"data row3 col1\" >0.000000</td>\n",
       "      <td id=\"T_f9a40_row3_col2\" class=\"data row3 col2\" >15</td>\n",
       "    </tr>\n",
       "    <tr>\n",
       "      <th id=\"T_f9a40_level0_row4\" class=\"row_heading level0 row4\" >4</th>\n",
       "      <td id=\"T_f9a40_row4_col0\" class=\"data row4 col0\" >GO:0015761~mannose transport</td>\n",
       "      <td id=\"T_f9a40_row4_col1\" class=\"data row4 col1\" >0.000000</td>\n",
       "      <td id=\"T_f9a40_row4_col2\" class=\"data row4 col2\" >14</td>\n",
       "    </tr>\n",
       "    <tr>\n",
       "      <th id=\"T_f9a40_level0_row5\" class=\"row_heading level0 row5\" >5</th>\n",
       "      <td id=\"T_f9a40_row5_col0\" class=\"data row5 col0\" >GO:0015755~fructose transport</td>\n",
       "      <td id=\"T_f9a40_row5_col1\" class=\"data row5 col1\" >0.000000</td>\n",
       "      <td id=\"T_f9a40_row5_col2\" class=\"data row5 col2\" >14</td>\n",
       "    </tr>\n",
       "    <tr>\n",
       "      <th id=\"T_f9a40_level0_row6\" class=\"row_heading level0 row6\" >6</th>\n",
       "      <td id=\"T_f9a40_row6_col0\" class=\"data row6 col0\" >GO:0008645~hexose transport</td>\n",
       "      <td id=\"T_f9a40_row6_col1\" class=\"data row6 col1\" >0.000000</td>\n",
       "      <td id=\"T_f9a40_row6_col2\" class=\"data row6 col2\" >14</td>\n",
       "    </tr>\n",
       "    <tr>\n",
       "      <th id=\"T_f9a40_level0_row7\" class=\"row_heading level0 row7\" >7</th>\n",
       "      <td id=\"T_f9a40_row7_col0\" class=\"data row7 col0\" >GO:0008643~carbohydrate transport</td>\n",
       "      <td id=\"T_f9a40_row7_col1\" class=\"data row7 col1\" >0.000000</td>\n",
       "      <td id=\"T_f9a40_row7_col2\" class=\"data row7 col2\" >19</td>\n",
       "    </tr>\n",
       "    <tr>\n",
       "      <th id=\"T_f9a40_level0_row8\" class=\"row_heading level0 row8\" >8</th>\n",
       "      <td id=\"T_f9a40_row8_col0\" class=\"data row8 col0\" >GO:0030435~sporulation resulting in formation of a cellular spore</td>\n",
       "      <td id=\"T_f9a40_row8_col1\" class=\"data row8 col1\" >0.000001</td>\n",
       "      <td id=\"T_f9a40_row8_col2\" class=\"data row8 col2\" >36</td>\n",
       "    </tr>\n",
       "    <tr>\n",
       "      <th id=\"T_f9a40_level0_row9\" class=\"row_heading level0 row9\" >9</th>\n",
       "      <td id=\"T_f9a40_row9_col0\" class=\"data row9 col0\" >GO:0006122~mitochondrial electron transport, ubiquinol to cytochrome c</td>\n",
       "      <td id=\"T_f9a40_row9_col1\" class=\"data row9 col1\" >0.000003</td>\n",
       "      <td id=\"T_f9a40_row9_col2\" class=\"data row9 col2\" >11</td>\n",
       "    </tr>\n",
       "    <tr>\n",
       "      <th id=\"T_f9a40_level0_row10\" class=\"row_heading level0 row10\" >10</th>\n",
       "      <td id=\"T_f9a40_row10_col0\" class=\"data row10 col0\" >GO:0006754~ATP biosynthetic process</td>\n",
       "      <td id=\"T_f9a40_row10_col1\" class=\"data row10 col1\" >0.000035</td>\n",
       "      <td id=\"T_f9a40_row10_col2\" class=\"data row10 col2\" >10</td>\n",
       "    </tr>\n",
       "  </tbody>\n",
       "</table>\n"
      ],
      "text/plain": [
       "<pandas.io.formats.style.Styler at 0x7f421c35cd90>"
      ]
     },
     "metadata": {},
     "output_type": "display_data"
    },
    {
     "data": {
      "text/html": [
       "<style type=\"text/css\">\n",
       "</style>\n",
       "<table id=\"T_faeb9\">\n",
       "  <caption>Enriched KEGG PATHS</caption>\n",
       "  <thead>\n",
       "    <tr>\n",
       "      <th class=\"blank level0\" >&nbsp;</th>\n",
       "      <th id=\"T_faeb9_level0_col0\" class=\"col_heading level0 col0\" >Term</th>\n",
       "      <th id=\"T_faeb9_level0_col1\" class=\"col_heading level0 col1\" >PValue</th>\n",
       "      <th id=\"T_faeb9_level0_col2\" class=\"col_heading level0 col2\" >Count</th>\n",
       "    </tr>\n",
       "  </thead>\n",
       "  <tbody>\n",
       "    <tr>\n",
       "      <th id=\"T_faeb9_level0_row0\" class=\"row_heading level0 row0\" >0</th>\n",
       "      <td id=\"T_faeb9_row0_col0\" class=\"data row0 col0\" >sce01100:Metabolic pathways</td>\n",
       "      <td id=\"T_faeb9_row0_col1\" class=\"data row0 col1\" >0.000000</td>\n",
       "      <td id=\"T_faeb9_row0_col2\" class=\"data row0 col2\" >142</td>\n",
       "    </tr>\n",
       "    <tr>\n",
       "      <th id=\"T_faeb9_level0_row1\" class=\"row_heading level0 row1\" >1</th>\n",
       "      <td id=\"T_faeb9_row1_col0\" class=\"data row1 col0\" >sce00190:Oxidative phosphorylation</td>\n",
       "      <td id=\"T_faeb9_row1_col1\" class=\"data row1 col1\" >0.000000</td>\n",
       "      <td id=\"T_faeb9_row1_col2\" class=\"data row1 col2\" >34</td>\n",
       "    </tr>\n",
       "    <tr>\n",
       "      <th id=\"T_faeb9_level0_row2\" class=\"row_heading level0 row2\" >2</th>\n",
       "      <td id=\"T_faeb9_row2_col0\" class=\"data row2 col0\" >sce01200:Carbon metabolism</td>\n",
       "      <td id=\"T_faeb9_row2_col1\" class=\"data row2 col1\" >0.000031</td>\n",
       "      <td id=\"T_faeb9_row2_col2\" class=\"data row2 col2\" >28</td>\n",
       "    </tr>\n",
       "    <tr>\n",
       "      <th id=\"T_faeb9_level0_row3\" class=\"row_heading level0 row3\" >3</th>\n",
       "      <td id=\"T_faeb9_row3_col0\" class=\"data row3 col0\" >sce00500:Starch and sucrose metabolism</td>\n",
       "      <td id=\"T_faeb9_row3_col1\" class=\"data row3 col1\" >0.000052</td>\n",
       "      <td id=\"T_faeb9_row3_col2\" class=\"data row3 col2\" >15</td>\n",
       "    </tr>\n",
       "    <tr>\n",
       "      <th id=\"T_faeb9_level0_row4\" class=\"row_heading level0 row4\" >4</th>\n",
       "      <td id=\"T_faeb9_row4_col0\" class=\"data row4 col0\" >sce00010:Glycolysis / Gluconeogenesis</td>\n",
       "      <td id=\"T_faeb9_row4_col1\" class=\"data row4 col1\" >0.001567</td>\n",
       "      <td id=\"T_faeb9_row4_col2\" class=\"data row4 col2\" >15</td>\n",
       "    </tr>\n",
       "    <tr>\n",
       "      <th id=\"T_faeb9_level0_row5\" class=\"row_heading level0 row5\" >5</th>\n",
       "      <td id=\"T_faeb9_row5_col0\" class=\"data row5 col0\" >sce04113:Meiosis - yeast</td>\n",
       "      <td id=\"T_faeb9_row5_col1\" class=\"data row5 col1\" >0.001569</td>\n",
       "      <td id=\"T_faeb9_row5_col2\" class=\"data row5 col2\" >27</td>\n",
       "    </tr>\n",
       "    <tr>\n",
       "      <th id=\"T_faeb9_level0_row6\" class=\"row_heading level0 row6\" >6</th>\n",
       "      <td id=\"T_faeb9_row6_col0\" class=\"data row6 col0\" >sce01110:Biosynthesis of secondary metabolites</td>\n",
       "      <td id=\"T_faeb9_row6_col1\" class=\"data row6 col1\" >0.002828</td>\n",
       "      <td id=\"T_faeb9_row6_col2\" class=\"data row6 col2\" >55</td>\n",
       "    </tr>\n",
       "    <tr>\n",
       "      <th id=\"T_faeb9_level0_row7\" class=\"row_heading level0 row7\" >7</th>\n",
       "      <td id=\"T_faeb9_row7_col0\" class=\"data row7 col0\" >sce00520:Amino sugar and nucleotide sugar metabolism</td>\n",
       "      <td id=\"T_faeb9_row7_col1\" class=\"data row7 col1\" >0.008197</td>\n",
       "      <td id=\"T_faeb9_row7_col2\" class=\"data row7 col2\" >10</td>\n",
       "    </tr>\n",
       "    <tr>\n",
       "      <th id=\"T_faeb9_level0_row8\" class=\"row_heading level0 row8\" >8</th>\n",
       "      <td id=\"T_faeb9_row8_col0\" class=\"data row8 col0\" >sce01250:Biosynthesis of nucleotide sugars</td>\n",
       "      <td id=\"T_faeb9_row8_col1\" class=\"data row8 col1\" >0.008618</td>\n",
       "      <td id=\"T_faeb9_row8_col2\" class=\"data row8 col2\" >8</td>\n",
       "    </tr>\n",
       "    <tr>\n",
       "      <th id=\"T_faeb9_level0_row9\" class=\"row_heading level0 row9\" >9</th>\n",
       "      <td id=\"T_faeb9_row9_col0\" class=\"data row9 col0\" >sce00730:Thiamine metabolism</td>\n",
       "      <td id=\"T_faeb9_row9_col1\" class=\"data row9 col1\" >0.009211</td>\n",
       "      <td id=\"T_faeb9_row9_col2\" class=\"data row9 col2\" >7</td>\n",
       "    </tr>\n",
       "    <tr>\n",
       "      <th id=\"T_faeb9_level0_row10\" class=\"row_heading level0 row10\" >10</th>\n",
       "      <td id=\"T_faeb9_row10_col0\" class=\"data row10 col0\" >sce00052:Galactose metabolism</td>\n",
       "      <td id=\"T_faeb9_row10_col1\" class=\"data row10 col1\" >0.011068</td>\n",
       "      <td id=\"T_faeb9_row10_col2\" class=\"data row10 col2\" >8</td>\n",
       "    </tr>\n",
       "  </tbody>\n",
       "</table>\n"
      ],
      "text/plain": [
       "<pandas.io.formats.style.Styler at 0x7f41e8c19610>"
      ]
     },
     "metadata": {},
     "output_type": "display_data"
    }
   ],
   "source": [
    "fc_thr = 5\n",
    "genes = df[df['FoldChange'] > fc_thr].Gene.to_list()\n",
    "\n",
    "# Display DAVID results\n",
    "for file in ['go_terms', 'kegg_paths']:\n",
    "    tbl = pd.read_table(f'results/enrichment_{file}.txt')\n",
    "    display( \n",
    "        tbl.loc[:10, ['Term', 'PValue', 'Count']].style \\\n",
    "            .set_caption('Enriched ' + file.replace('_', ' ').upper())\n",
    "    )"
   ]
  }
 ],
 "metadata": {
  "kernelspec": {
   "display_name": "Python 3.9.12 ('py-env')",
   "language": "python",
   "name": "python3"
  },
  "language_info": {
   "codemirror_mode": {
    "name": "ipython",
    "version": 3
   },
   "file_extension": ".py",
   "mimetype": "text/x-python",
   "name": "python",
   "nbconvert_exporter": "python",
   "pygments_lexer": "ipython3",
   "version": "3.9.12"
  },
  "orig_nbformat": 4,
  "vscode": {
   "interpreter": {
    "hash": "67e0f964b3466f5738b0815e7d98ae8f0b358b23e82348a28e5ef609e7edb7a9"
   }
  }
 },
 "nbformat": 4,
 "nbformat_minor": 2
}
