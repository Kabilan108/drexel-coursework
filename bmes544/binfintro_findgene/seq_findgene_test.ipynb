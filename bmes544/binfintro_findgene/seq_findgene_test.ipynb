{
 "cells": [
  {
   "cell_type": "markdown",
   "metadata": {},
   "source": [
    "# Find ORF and Translate to Protein\n",
    "\n",
    "**Authors:** [Tony Kabilan Okeke](mailto:tko35@drexel.edu), [Ifeanyi Osuchukwu](mailto:imo27@drexel.edu)  \n",
    "**Template Author:** [Ahmet Sacan](mailto:ahmetmsacan@gmail.com)  \n",
    "**Date:** 01.08.2022"
   ]
  },
  {
   "cell_type": "code",
   "execution_count": 1,
   "metadata": {},
   "outputs": [],
   "source": [
    "# Import packages and functions\n",
    "from dnatools import seq_transcribe, seq_findgene, pprint\n",
    "from urllib.request import urlretrieve\n",
    "from Bio.SeqIO import parse\n",
    "\n",
    "# Download data from NCBI for testing\n",
    "url = \"https://www.ncbi.nlm.nih.gov/sviewer/viewer.cgi?tool=portal&save=file&log$=seqview&db=nuccore&report=fasta&sort=&id=568815587&from=5225466&to=5227071&strand=on&maxplex=1\"\n",
    "urlretrieve(url, \"NC_000011.fasta\");"
   ]
  },
  {
   "cell_type": "markdown",
   "metadata": {},
   "source": [
    "## Test Cases for `seq_transcribe`"
   ]
  },
  {
   "cell_type": "code",
   "execution_count": 2,
   "metadata": {},
   "outputs": [
    {
     "name": "stdout",
     "output_type": "stream",
     "text": [
      "{\n",
      "  \"noncode\": \"ATGAGGTAAG\",\n",
      "  \"mrna\": \"CUUACCUCAU\",\n",
      "  \"ptn\": \"LTS\"\n",
      "}\n"
     ]
    }
   ],
   "source": [
    "pprint( seq_transcribe('CTTACCTCAT') )"
   ]
  },
  {
   "cell_type": "code",
   "execution_count": 3,
   "metadata": {},
   "outputs": [
    {
     "name": "stdout",
     "output_type": "stream",
     "text": [
      "{\n",
      "  \"noncode\": \"CTTACCTCAT\",\n",
      "  \"mrna\": \"AUGAGGUAAG\",\n",
      "  \"ptn\": \"MR*\"\n",
      "}\n"
     ]
    }
   ],
   "source": [
    "pprint( seq_transcribe('ATGAGGTAAG') )"
   ]
  },
  {
   "cell_type": "code",
   "execution_count": 4,
   "metadata": {},
   "outputs": [
    {
     "name": "stdout",
     "output_type": "stream",
     "text": [
      "{\n",
      "  \"noncode\": \"TATTATCGATTCACGT\",\n",
      "  \"mrna\": \"ACGUGAAUCGAUAAUA\",\n",
      "  \"ptn\": \"T*IDN\"\n",
      "}\n"
     ]
    }
   ],
   "source": [
    "pprint( seq_transcribe('ACGTGAATCGATAATA') )"
   ]
  },
  {
   "cell_type": "code",
   "execution_count": 5,
   "metadata": {},
   "outputs": [
    {
     "name": "stdout",
     "output_type": "stream",
     "text": [
      "{\n",
      "  \"noncode\": \"TCA\",\n",
      "  \"mrna\": \"UGA\",\n",
      "  \"ptn\": \"*\"\n",
      "}\n"
     ]
    }
   ],
   "source": [
    "pprint( seq_transcribe('TGA') )"
   ]
  },
  {
   "cell_type": "code",
   "execution_count": 6,
   "metadata": {},
   "outputs": [
    {
     "name": "stdout",
     "output_type": "stream",
     "text": [
      "{\n",
      "  \"noncode\": \"GCAATGAAAATAAATGTTTTTTATTAGGCAGAATCCAGATGCTCAAGGCCCTTCATAATATCCCCCAGTTTAGTAGTTGGACTTAGGGAACAAAGGAACCTTTAATAGAAATTGGACAGCAAGAAAGCGAGCTTAGTGATACTTGTGGGCCAGGGCATTAGCCACACCAGCCACCACTTTCTGATAGGCAGCCTGCACTGGTGGGGTGAATTCTTTGCCAAAGTGATGGGCCAGCACACAGACCAGCACGTTGCCCAGGAGCTGTGGGAGGAAGATAAGAGGTATGAACATGATTAGCAAAAGGGCCTAGCTTGGACTCAGAATAATCCAGCCTTATCCCAACCATAAAATAAAAGCAGAATGGTAGCTGGATTGTAGCTGCTATTAGCAATATGAAACCTCTTACATCAGTTACAATTTATATGCAGAAATATTTATATGCAGAGATATTGCTATTGCCTTAACCCAGAAATTATCACTGTTATTCTTTAGAATGGTGCAAAGAGGCATGATACATTGTATCATTATTGCCCTGAAAGAAAGAGATTAGGGAAAGTATTAGAAATAAGATAAACAAAAAAGTATATTAAAAGAAGAAAGCATTTTTTAAAATTACAAATGCAAAATTACCCTGATTTGGTCAATATGTGTACACATATTAAAACATTACACTTTAACCCATAAATATGTATAATGATTATGTATCAATTAAAAATAAAAGAAAATAAAGTAGGGAGATTATGAATATGCAAATAAGCACACATATATTCCAAATAGTAATGTACTAGGCAGACTGTGTAAAGTTTTTTTTTAAGTTACTTAATGTATCTCAGAGATATTTCCTTTTGTTATACACAATGTTAAGGCATTAAGTATAATAGTAAAAATTGCGGAGAAGAAAAAAAAAGAAAGCAAGAATTAAACAAAAGAAAACAATTGTTATGAACAGCAAATAAAAGAAACTAAAACGATCCTGAGACTTCCACACTGATGCAATCATTCGTCTGTTTCCCATTCTAAACTGTACCCTGTTACTTATCCCCTTCCTATGACATGAACTTAACCATAGAAAAGAAGGGGAAAGAAAACATCAAGCGTCCCATAGACTCACCCTGAAGTTCTCAGGATCCACGTGCAGCTTGTCACAGTGCAGCTCACTCAGTGTGGCAAAGGTGCCCTTGAGGTTGTCCAGGTGAGCCAGGCCATCACTAAAGGCACCGAGCACTTTCTTGCCATGAGCCTTCACCTTAGGGTTGCCCATAACAGCATCAGGAGTGGACAGATCCCCAAAGGACTCAAAGAACCTCTGGGTCCAAGGGTAGACCACCAGCAGCCTAAGGGTGGGAAAATAGACCAATAGGCAGAGAGAGTCAGTGCCTATCAGAAACCCAAGAGTCTTCTCTGTCTCCACATGCCCAGTTTCTATTGGTCTCCTTAAACCTGTCTTGTAACCTTGATACCAACCTGCCCAGGGCCTCACCACCAACTTCATCCACGTTCACCTTGCCCCACAGGGCAGTAACGGCAGACTTCTCCTCAGGAGTCAGATGCACCATGGTGTCTGTTTGAGGTTGCTAGTGAACACAGTTGTGTCAGAAGCAAATGT\",\n",
      "  \"mrna\": \"ACAUUUGCUUCUGACACAACUGUGUUCACUAGCAACCUCAAACAGACACCAUGGUGCAUCUGACUCCUGAGGAGAAGUCUGCCGUUACUGCCCUGUGGGGCAAGGUGAACGUGGAUGAAGUUGGUGGUGAGGCCCUGGGCAGGUUGGUAUCAAGGUUACAAGACAGGUUUAAGGAGACCAAUAGAAACUGGGCAUGUGGAGACAGAGAAGACUCUUGGGUUUCUGAUAGGCACUGACUCUCUCUGCCUAUUGGUCUAUUUUCCCACCCUUAGGCUGCUGGUGGUCUACCCUUGGACCCAGAGGUUCUUUGAGUCCUUUGGGGAUCUGUCCACUCCUGAUGCUGUUAUGGGCAACCCUAAGGUGAAGGCUCAUGGCAAGAAAGUGCUCGGUGCCUUUAGUGAUGGCCUGGCUCACCUGGACAACCUCAAGGGCACCUUUGCCACACUGAGUGAGCUGCACUGUGACAAGCUGCACGUGGAUCCUGAGAACUUCAGGGUGAGUCUAUGGGACGCUUGAUGUUUUCUUUCCCCUUCUUUUCUAUGGUUAAGUUCAUGUCAUAGGAAGGGGAUAAGUAACAGGGUACAGUUUAGAAUGGGAAACAGACGAAUGAUUGCAUCAGUGUGGAAGUCUCAGGAUCGUUUUAGUUUCUUUUAUUUGCUGUUCAUAACAAUUGUUUUCUUUUGUUUAAUUCUUGCUUUCUUUUUUUUUCUUCUCCGCAAUUUUUACUAUUAUACUUAAUGCCUUAACAUUGUGUAUAACAAAAGGAAAUAUCUCUGAGAUACAUUAAGUAACUUAAAAAAAAACUUUACACAGUCUGCCUAGUACAUUACUAUUUGGAAUAUAUGUGUGCUUAUUUGCAUAUUCAUAAUCUCCCUACUUUAUUUUCUUUUAUUUUUAAUUGAUACAUAAUCAUUAUACAUAUUUAUGGGUUAAAGUGUAAUGUUUUAAUAUGUGUACACAUAUUGACCAAAUCAGGGUAAUUUUGCAUUUGUAAUUUUAAAAAAUGCUUUCUUCUUUUAAUAUACUUUUUUGUUUAUCUUAUUUCUAAUACUUUCCCUAAUCUCUUUCUUUCAGGGCAAUAAUGAUACAAUGUAUCAUGCCUCUUUGCACCAUUCUAAAGAAUAACAGUGAUAAUUUCUGGGUUAAGGCAAUAGCAAUAUCUCUGCAUAUAAAUAUUUCUGCAUAUAAAUUGUAACUGAUGUAAGAGGUUUCAUAUUGCUAAUAGCAGCUACAAUCCAGCUACCAUUCUGCUUUUAUUUUAUGGUUGGGAUAAGGCUGGAUUAUUCUGAGUCCAAGCUAGGCCCUUUUGCUAAUCAUGUUCAUACCUCUUAUCUUCCUCCCACAGCUCCUGGGCAACGUGCUGGUCUGUGUGCUGGCCCAUCACUUUGGCAAAGAAUUCACCCCACCAGUGCAGGCUGCCUAUCAGAAAGUGGUGGCUGGUGUGGCUAAUGCCCUGGCCCACAAGUAUCACUAAGCUCGCUUUCUUGCUGUCCAAUUUCUAUUAAAGGUUCCUUUGUUCCCUAAGUCCAACUACUAAACUGGGGGAUAUUAUGAAGGGCCUUGAGCAUCUGGAUUCUGCCUAAUAAAAAACAUUUAUUUUCAUUGC\",\n",
      "  \"ptn\": \"TFASDTTVFTSNLKQTPWCI*LLRRSLPLLPCGAR*TWMKLVVRPWAGWYQGYKTGLRRPIETGHVETEKTLGFLIGTDSLCLLVYFPTLRLLVVYPWTQRFFESFGDLSTPDAVMGNPKVKAHGKKVLGAFSDGLAHLDNLKGTFATLSELHCDKLHVDPENFRVSLWDA*CFLSPSFLWLSSCHRKGISNRVQFRMGNRRMIASVWKSQDRFSFFYLLFITIVFFCLILAFFFFLLRNFYYYT*CLNIVYNKRKYL*DTLSNLKKNFTQSA*YITIWNICVLICIFIISLLYFLLFLIDT*SLYIFMG*SVMF*YVYTY*PNQGNFAFVILKNAFFF*YTFLFILFLILSLISFFQGNNDTMYHASLHHSKE*Q**FLG*GNSNISAYKYFCI*IVTDVRGFILLIAATIQLPFCFYFMVGIRLDYSESKLGPFANHVHTSYLPPTAPGQRAGLCAGPSLWQRIHPTSAGCLSESGGWCG*CPGPQVSLSSLSCCPISIKGSFVP*VQLLNWGIL*RALSIWILPNKKHLFSL\"\n",
      "}\n"
     ]
    }
   ],
   "source": [
    "# Test it on a real DNA sequence\n",
    "# NC_000011.10:c5227071-5225466 Homo sapiens chromosome 11, GRCh38.p13 Primary Assembly\n",
    "\n",
    "# Parse data downloaded from NCBI\n",
    "dna = ''.join([str(seq.seq) for seq in parse(\"NC_000011.fasta\", \"fasta\")])\n",
    "\n",
    "pprint( seq_transcribe(dna) )"
   ]
  },
  {
   "cell_type": "code",
   "execution_count": 7,
   "metadata": {},
   "outputs": [
    {
     "name": "stdout",
     "output_type": "stream",
     "text": [
      "{\n",
      "  \"noncode\": \"CTAATAATAATAATAGGGGGGGGGGGG\",\n",
      "  \"mrna\": \"CCCCCCCCCCCCUAUUAUUAUUAUUAG\",\n",
      "  \"ptn\": \"PPPPYYYY*\"\n",
      "}\n"
     ]
    }
   ],
   "source": [
    "# Add your own test case that encodes 4 Proline residues, 4 Tyrosine residues\n",
    "# followed by a stop codon\n",
    "pprint( seq_transcribe('CCCCCCCCCCCCTATTATTATTATTAG') )"
   ]
  },
  {
   "cell_type": "markdown",
   "metadata": {},
   "source": [
    "## Test Cases for `seq_findgene`"
   ]
  },
  {
   "cell_type": "code",
   "execution_count": 8,
   "metadata": {},
   "outputs": [
    {
     "data": {
      "text/plain": [
       "'MR*'"
      ]
     },
     "execution_count": 8,
     "metadata": {},
     "output_type": "execute_result"
    }
   ],
   "source": [
    "# With a single start and a single stop codon\n",
    "seq_findgene('CTTACCTCAT')"
   ]
  },
  {
   "cell_type": "code",
   "execution_count": 9,
   "metadata": {},
   "outputs": [
    {
     "data": {
      "text/plain": [
       "'MR*'"
      ]
     },
     "execution_count": 9,
     "metadata": {},
     "output_type": "execute_result"
    }
   ],
   "source": [
    "# With a single start and a single stop codon (Complement of the previous sequence)\n",
    "seq_findgene('ATGAGGTAAG')"
   ]
  },
  {
   "cell_type": "code",
   "execution_count": 10,
   "metadata": {},
   "outputs": [
    {
     "data": {
      "text/plain": [
       "''"
      ]
     },
     "execution_count": 10,
     "metadata": {},
     "output_type": "execute_result"
    }
   ],
   "source": [
    "# With no start or stop codon\n",
    "seq_findgene('ACGTGAATCGATAATA')"
   ]
  },
  {
   "cell_type": "code",
   "execution_count": 11,
   "metadata": {},
   "outputs": [
    {
     "data": {
      "text/plain": [
       "'MGN*'"
      ]
     },
     "execution_count": 11,
     "metadata": {},
     "output_type": "execute_result"
    }
   ],
   "source": [
    "# With multiple start and stop codons\n",
    "seq_findgene('CCCATGGGCAACTAGTATGCCGTGA')"
   ]
  },
  {
   "cell_type": "code",
   "execution_count": 12,
   "metadata": {},
   "outputs": [
    {
     "data": {
      "text/plain": [
       "'MKLVVRPWAGWYQGYKTGLRRPIETGHVETEKTLGFLIGTDSLCLLVYFPTLRLLVVYPWTQRFFESFGDLSTPDAVMGNPKVKAHGKKVLGAFSDGLAHLDNLKGTFATLSELHCDKLHVDPENFRVSLWDA*'"
      ]
     },
     "execution_count": 12,
     "metadata": {},
     "output_type": "execute_result"
    }
   ],
   "source": [
    "# Test it on a real DNA sequence\n",
    "dna = ''.join([str(seq.seq) for seq in parse(\"NC_000011.fasta\", \"fasta\")])\n",
    "seq_findgene(dna)"
   ]
  },
  {
   "cell_type": "code",
   "execution_count": 13,
   "metadata": {},
   "outputs": [
    {
     "data": {
      "text/plain": [
       "'MPPPPYYYY*'"
      ]
     },
     "execution_count": 13,
     "metadata": {},
     "output_type": "execute_result"
    }
   ],
   "source": [
    "# Add your own test case that encodes: 1 Methionine, 4 Proline, and 4 Tyrosine amino acids, followed\n",
    "# by a stop codon. Add at least one nucleotide before and after this open reading frame -- make sure\n",
    "# the additional nucleotides you add do not end up producing a longer ORF.\n",
    "seq_findgene('CATGCCCCCCCCCCCCTACTACTACTACTGAC')"
   ]
  }
 ],
 "metadata": {
  "kernelspec": {
   "display_name": "Python 3",
   "language": "python",
   "name": "python3"
  },
  "language_info": {
   "codemirror_mode": {
    "name": "ipython",
    "version": 3
   },
   "file_extension": ".py",
   "mimetype": "text/x-python",
   "name": "python",
   "nbconvert_exporter": "python",
   "pygments_lexer": "ipython3",
   "version": "3.9.9"
  }
 },
 "nbformat": 4,
 "nbformat_minor": 2
}
