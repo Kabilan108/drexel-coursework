{
 "cells": [
  {
   "cell_type": "markdown",
   "metadata": {},
   "source": [
    "# Genome Assembly - Greedy Algorithm\n",
    "\n",
    "**Authors:** [Tony Kabilan Okeke](mailto:tko35@drexel.edu), [Ifeanyi Osuchukwu](mailto:imo27@drexel.edu)  \n",
    "**Date:** 02.24.2022\n",
    "\n",
    "Write a function `fastq_assemble_greedy( fastqfile_OR_reads )` in a separate `fastq_assemble_greedy.m` (or `fastq_assemble_greedy.py`) file, that takes in either the name of a fastq file containing short reads, or a cell array of short reads (a list of short reads in Python), implements the \"greedy algorithm\" of genome assembly, and returns the assembled contigs as a cell array of texts (in python, return a list of texts).\n",
    "\n",
    "The greedy sequence assemble algorithm includes the following steps:\n",
    "\n",
    "- Find two reads having the longest overlap;\n",
    "  - merge these two reads into a single, longer read.\n",
    "  - If there are more than two pairs with the same longest overlap, use the one that would produce a merged sequence that comes before the other alphabetically.\n",
    "- Repeat the previous step so long as at least two reads can be found sharing one or more residues overlap.\n",
    "- Return the collection of extended, merged reads you end up with.\n",
    "\n",
    "Once you complete the `fastq_assemble_greedy()` function, run the test cases below and save this report as a pdf file, where the output of these cases are shown. You do not need to make any changes in any of the codes below."
   ]
  },
  {
   "cell_type": "code",
   "execution_count": 1,
   "metadata": {},
   "outputs": [],
   "source": [
    "# Imports \n",
    "from fastq_assemble_greedy import fastq_assemble_greedy\n",
    "import bmes"
   ]
  },
  {
   "cell_type": "markdown",
   "metadata": {},
   "source": [
    "### Test Case 1"
   ]
  },
  {
   "cell_type": "code",
   "execution_count": 2,
   "metadata": {},
   "outputs": [
    {
     "data": {
      "text/plain": [
       "['AAABBA', 'BBB']"
      ]
     },
     "execution_count": 2,
     "metadata": {},
     "output_type": "execute_result"
    }
   ],
   "source": [
    "fastq_assemble_greedy( ['AAA','AAB','ABB','BBA','BBB'] )"
   ]
  },
  {
   "cell_type": "markdown",
   "metadata": {},
   "source": [
    "### Test Case 2"
   ]
  },
  {
   "cell_type": "code",
   "execution_count": 3,
   "metadata": {},
   "outputs": [
    {
     "data": {
      "text/plain": [
       "['AAAAA', 'BBBBB']"
      ]
     },
     "execution_count": 3,
     "metadata": {},
     "output_type": "execute_result"
    }
   ],
   "source": [
    "fastq_assemble_greedy( ['AAA','AAAA','AAAAA','BBB','BBBB','BBBBB'] )"
   ]
  },
  {
   "cell_type": "markdown",
   "metadata": {},
   "source": [
    "### Test Case 3"
   ]
  },
  {
   "cell_type": "code",
   "execution_count": 4,
   "metadata": {},
   "outputs": [
    {
     "data": {
      "text/plain": [
       "['AAABBA', 'BBB']"
      ]
     },
     "execution_count": 4,
     "metadata": {},
     "output_type": "execute_result"
    }
   ],
   "source": [
    "file = bmes.downloadurl(\"http://sacan.biomed.drexel.edu/lib/exe/fetch.php?rev=&media=course:binf:genomeassembly:hwgenomeassembly:genomeassembly_test1.fastq\", \"test1.fastq\")\n",
    "fastq_assemble_greedy( file )"
   ]
  },
  {
   "cell_type": "markdown",
   "metadata": {},
   "source": [
    "### Test Case 4"
   ]
  },
  {
   "cell_type": "code",
   "execution_count": 5,
   "metadata": {},
   "outputs": [
    {
     "data": {
      "text/plain": [
       "['FGHIABCDEFGHIABCDGH']"
      ]
     },
     "execution_count": 5,
     "metadata": {},
     "output_type": "execute_result"
    }
   ],
   "source": [
    "file = bmes.downloadurl(\"http://sacan.biomed.drexel.edu/lib/exe/fetch.php?rev=&media=course:binf:genomeassembly:hwgenomeassembly:genomeassembly_test2.fastq\", \"test2.fastq\")\n",
    "fastq_assemble_greedy( file )"
   ]
  },
  {
   "cell_type": "markdown",
   "metadata": {},
   "source": [
    "### Test Case 5"
   ]
  },
  {
   "cell_type": "code",
   "execution_count": 6,
   "metadata": {},
   "outputs": [
    {
     "data": {
      "text/plain": [
       "['AAABBA', 'BBB', 'CCC']"
      ]
     },
     "execution_count": 6,
     "metadata": {},
     "output_type": "execute_result"
    }
   ],
   "source": [
    "file = bmes.downloadurl(\"http://sacan.biomed.drexel.edu/lib/exe/fetch.php?rev=&media=course:binf:genomeassembly:hwgenomeassembly:genomeassembly_test3.fastq\", \"test3.fastq\")\n",
    "fastq_assemble_greedy( file )"
   ]
  }
 ],
 "metadata": {
  "interpreter": {
   "hash": "89aa419059693679b3c628b5998a9aeb8e5d050944c8675e82ec1608501e11b2"
  },
  "kernelspec": {
   "display_name": "Python 3.9.9 ('bmes544')",
   "language": "python",
   "name": "python3"
  },
  "language_info": {
   "codemirror_mode": {
    "name": "ipython",
    "version": 3
   },
   "file_extension": ".py",
   "mimetype": "text/x-python",
   "name": "python",
   "nbconvert_exporter": "python",
   "pygments_lexer": "ipython3",
   "version": "3.9.9"
  },
  "orig_nbformat": 4
 },
 "nbformat": 4,
 "nbformat_minor": 2
}
