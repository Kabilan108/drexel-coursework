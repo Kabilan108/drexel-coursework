{
 "cells": [
  {
   "cell_type": "markdown",
   "metadata": {},
   "source": [
    "# Finding Closest Pair of Sequences\n",
    "\n",
    "Template Executed by: [[WRITE YOUR NAME HERE]]\n",
    "\n",
    "Write your function in a file named \"ptns_closestpair.py\", which is imported in this notebook.\n",
    "\n",
    "You do not need to change anything in this Jupyter notebook. Run this file to produce the outputs. Then save it as a PDF. Submit both your PDF file, as well as ptns_closestpair.py file on Blackboard."
   ]
  },
  {
   "cell_type": "code",
   "execution_count": null,
   "metadata": {},
   "outputs": [],
   "source": [
    "%load_ext autoreload\n",
    "%autoreload 2\n",
    "#See bmes.ahmet/README.TXT for setting up BMESAHMETDIR environment variable.\n",
    "import sys,os; sys.path.append(os.environ['BMESAHMETDIR']); import bmes\n",
    "\n",
    "bmes.pipinstall('Bio','biopython')\n",
    "from Bio import SeqIO\n",
    "\n",
    "from ptns_closestpair import ptns_closestpair"
   ]
  },
  {
   "cell_type": "markdown",
   "metadata": {},
   "source": [
    "## Test 1"
   ]
  },
  {
   "cell_type": "code",
   "execution_count": null,
   "metadata": {},
   "outputs": [],
   "source": [
    "ptns = ['ANNA','ALLIE','HANNAH'];\n",
    "\n",
    "result = ptns_closestpair( ptns );\n",
    "print(result)"
   ]
  },
  {
   "cell_type": "markdown",
   "metadata": {},
   "source": [
    "## Test 2"
   ]
  },
  {
   "cell_type": "code",
   "execution_count": null,
   "metadata": {},
   "outputs": [],
   "source": [
    "ptns = ['AHMET','AMY','EMILY'];\n",
    "\n",
    "result = ptns_closestpair( ptns );\n",
    "print(result)"
   ]
  },
  {
   "cell_type": "markdown",
   "metadata": {},
   "source": [
    "## Test 3"
   ]
  },
  {
   "cell_type": "code",
   "execution_count": null,
   "metadata": {},
   "outputs": [],
   "source": [
    "file = bmes.downloadurl('https://sacan.biomed.drexel.edu/lib/exe/fetch.php?rev=&media=course:binf:data:uteroglobin.blastresults.fasta','uteroglobin.blastresults.fasta');\n",
    "ptns = [str(fastaptn.seq) for fastaptn in SeqIO.parse(file,'fasta') ]\n",
    "\n",
    "result = ptns_closestpair( ptns );\n",
    "print(result)"
   ]
  },
  {
   "cell_type": "markdown",
   "metadata": {},
   "source": [
    "## Appendix"
   ]
  },
  {
   "cell_type": "code",
   "execution_count": null,
   "metadata": {},
   "outputs": [],
   "source": [
    "# Printing the file here as well for easy reference when grading.\n",
    "from pathlib import Path\n",
    "txt = Path('ptns_closestpair.py').read_text()\n",
    "print(txt)"
   ]
  }
 ],
 "metadata": {
  "kernelspec": {
   "display_name": "Python 3 (ipykernel)",
   "language": "python",
   "name": "python3"
  },
  "language_info": {
   "codemirror_mode": {
    "name": "ipython",
    "version": 3
   },
   "file_extension": ".py",
   "mimetype": "text/x-python",
   "name": "python",
   "nbconvert_exporter": "python",
   "pygments_lexer": "ipython3",
   "version": "3.9.7"
  }
 },
 "nbformat": 4,
 "nbformat_minor": 4
}
