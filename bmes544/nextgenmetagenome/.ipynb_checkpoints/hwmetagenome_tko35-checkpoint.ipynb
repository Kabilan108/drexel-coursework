{
 "cells": [
  {
   "cell_type": "markdown",
   "metadata": {},
   "source": [
    "# Metagenomic Analysis\n",
    "\n",
    "**Authors:** [Tony Kabilan Okeke](mailto:tko35@drexel.edu), [Ifeanyi Osuchukwu](mailto:imo27@drexel.edu)  \n",
    "**Date:** 02.28.2022\n",
    "\n",
    "Identification of the types and abundances of the micobial species living on the human body is important for understanding the interactions of these microorganisms among themselves and with the host. A change or difference in the composition of the microbiome has been implicated in a number of diseases.\n",
    "\n",
    "In this assignment, you will analyze a (hypothetical) sample from oral cavity and identify the species and abundances of the bacteria. You are given the short reads obtained from Next-Gen sequencing of the sample. The data used for this assignment was extracted/adapted from the publication [*\"Next Generation Sequencing Data of a Defined Microbial Mock Community\"*](https://www.nature.com/articles/sdata201681)\n",
    "\n",
    "The data used here has been manipulated and should not be used to draw any scientific conclusions.\n",
    "\n",
    "To simplify the assignment, you are only asked to find out the fraction of 3 microorganism species."
   ]
  },
  {
   "cell_type": "code",
   "execution_count": 1,
   "metadata": {},
   "outputs": [],
   "source": [
    "%load_ext autoreload"
   ]
  },
  {
   "cell_type": "code",
   "execution_count": 16,
   "metadata": {},
   "outputs": [],
   "source": [
    "%autoreload 2\n",
    "# Imports\n",
    "import matplotlib.pyplot as plt\n",
    "import pandas as pd\n",
    "import simplesam\n",
    "import bmes\n",
    "import re\n",
    "import os\n",
    "from Bio import SeqIO\n",
    "\n",
    "%matplotlib inline"
   ]
  },
  {
   "cell_type": "code",
   "execution_count": 3,
   "metadata": {},
   "outputs": [],
   "source": [
    "# Set up datadir and BWA path\n",
    "DATADIR = bmes.datadir() + '/hwmetagenome/'\n",
    "if not bmes.isfolder(DATADIR):\n",
    "    bmes.mkdirif(DATADIR)\n",
    "\n",
    "if bmes.computername() == 'KabilansPC':\n",
    "    BWAEXE = \"/home/kabil/.anaconda3/envs/blast/bin/bwa\"\n",
    "else:\n",
    "    BWAEXE = bmes.bwaexe(); # Ahmet's installation"
   ]
  },
  {
   "cell_type": "code",
   "execution_count": 4,
   "metadata": {},
   "outputs": [],
   "source": [
    "# Definitions\n",
    "def download_genome(accesion: str, file: str) -> str:\n",
    "    if not bmes.isfileandnotempty(DATADIR + file):\n",
    "        bmes.downloadurl(\n",
    "            f\"https://eutils.ncbi.nlm.nih.gov/entrez/eutils/efetch.fcgi?db=nuccore&id={accesion}&rettype=fasta\",\n",
    "            DATADIR + file\n",
    "        )    \n",
    "    return (DATADIR + file)"
   ]
  },
  {
   "cell_type": "markdown",
   "metadata": {},
   "source": [
    "### Download Next-Gen Sequence Data (fastq file)\n",
    "\n",
    "A small data file is provided so you can develop and test your analysis code quickly. Your final results should be based on the largest data file."
   ]
  },
  {
   "cell_type": "code",
   "execution_count": 5,
   "metadata": {},
   "outputs": [],
   "source": [
    "#fastqfile = \"http://sacan.biomed.drexel.edu/ftp/SRR3656745_pass.randsample.select.102.fastq\"\n",
    "\n",
    "# Uncomment the following lines to test your code on the larger file, \n",
    "# once it works for the smaller file above.\n",
    "# fastqfile = \"http://sacan.biomed.drexel.edu/ftp/SRR3656745_pass.randsample.select.1001.fastq\"\n",
    "\n",
    "# Uncomment the following line to test your code on this larger file once it\n",
    "# works for the smaller file(s) above.\n",
    "#fastqfile = \"http://sacan.biomed.drexel.edu/ftp/SRR3656745_pass.randsample.select.10001.fastq\"\n",
    "\n",
    "# Uncomment the following line to test your code on this larger file, once it\n",
    "# works for the smaller file(s) above.\n",
    "# Your final results should be based on this data file.\n",
    "fastqfile = \"http://sacan.biomed.drexel.edu/ftp/SRR3656745_pass.randsample.select.86588.fastq\"\n",
    "\n",
    "if bool(re.search('^(https?://|ftps?://)', fastqfile)):\n",
    "    fastqfile = bmes.downloadurl(fastqfile, DATADIR + \"randsample.86588.fastq\")"
   ]
  },
  {
   "cell_type": "markdown",
   "metadata": {},
   "source": [
    "### Download the Genomes\n",
    "\n",
    "Download the following genomes:\n",
    "- Olsenella uli (NC_014363.1)\n",
    "- Segniliparus rotundu (NC_014168.1)\n",
    "- Escherichia coli K-12 (NC_000913.1)"
   ]
  },
  {
   "cell_type": "code",
   "execution_count": 6,
   "metadata": {},
   "outputs": [],
   "source": [
    "genomes = {\n",
    "    \"O_uli\": download_genome(\"NC_014363.1\", \"Olsenella_uli.fasta\"),\n",
    "    \"S_rotundu\": download_genome(\"NC_014168.1\", \"Segniliparus_rotundu.fasta\"),\n",
    "    \"E_coli\": download_genome(\"NC_000913.1\", \"Escherichia_coli.fasta\")\n",
    "}"
   ]
  },
  {
   "cell_type": "markdown",
   "metadata": {},
   "source": [
    "### Basic Mapping: Map the `FASTQ` file to the Following Three Genomes Separately\n",
    "\n",
    "Use `BWA` to map the reads to each of the genomes.\n",
    "\n",
    "Check the result of the BWA to assign each short read to one of the genomes, or assign it \"Unknown\" if it cannot be mapped to any of the genomes.\n",
    "\n",
    "- If a short read does not map to any organism, increase the count for the Unknown group by 1.  \n",
    "Not-aligned short reads have a ReferenceName `'*'` and a Position 0.\n",
    "- If a short read maps to only one organism, increase the count for that organism by 1.\n",
    "- If a short read maps to more than one organism, use a fractional increase in the organism counts.  \n",
    "E.g., if a read is mapped to the first and third organisms only, increase the counts for the first and third organisms by 0.5, and do not increase the count for the second organism.  \n",
    "E.g., if a read is mapped to all three organisms, increase each of their counts by 1/3.\n",
    "\n",
    "**Note:** `BWA` may return more than one hit within a genome for a read. You need to make sure such hits are not counted multiple times for a genome."
   ]
  },
  {
   "cell_type": "code",
   "execution_count": 7,
   "metadata": {},
   "outputs": [
    {
     "name": "stdout",
     "output_type": "stream",
     "text": [
      "O_uli genome already exists.\n",
      "S_rotundu genome already exists.\n",
      "E_coli genome already exists.\n"
     ]
    }
   ],
   "source": [
    "# Index the reference genomes\n",
    "for species in genomes:\n",
    "    if not bmes.isfileandnotempty(genomes[species] + '.bwt'):\n",
    "        cmd = f\"{BWAEXE} index '{genomes[species]}'\"\n",
    "        os.system(cmd)\n",
    "    else:\n",
    "        print(f\"{species} genome already exists.\")"
   ]
  },
  {
   "cell_type": "code",
   "execution_count": 8,
   "metadata": {},
   "outputs": [],
   "source": [
    "# Align sequence to reference genomes\n",
    "samfiles = dict()\n",
    "\n",
    "for species in genomes:\n",
    "    samfiles[species] = f\"{DATADIR}{fastqfile.split('/')[-1]}_{genomes[species].split('/')[-1]}.sam\"\n",
    "    if not bmes.isfileandnotempty(samfiles[species]):\n",
    "        cmd = f\"{BWAEXE} mem '{genomes[species]}' '{fastqfile}'\"\n",
    "        bmes.system_redirecttofile(cmd, samfiles[species])"
   ]
  },
  {
   "cell_type": "code",
   "execution_count": 9,
   "metadata": {},
   "outputs": [],
   "source": [
    "# Parse sam files into data frames\n",
    "sams = {k:[] for k in genomes}\n",
    "\n",
    "for species in genomes:\n",
    "    with open(samfiles[species], 'r') as f:\n",
    "        samiter = simplesam.Reader(f)\n",
    "        for sam in samiter:\n",
    "            sams[species].append(sam)"
   ]
  },
  {
   "cell_type": "code",
   "execution_count": 13,
   "metadata": {},
   "outputs": [
    {
     "data": {
      "text/html": [
       "<div>\n",
       "<style scoped>\n",
       "    .dataframe tbody tr th:only-of-type {\n",
       "        vertical-align: middle;\n",
       "    }\n",
       "\n",
       "    .dataframe tbody tr th {\n",
       "        vertical-align: top;\n",
       "    }\n",
       "\n",
       "    .dataframe thead th {\n",
       "        text-align: right;\n",
       "    }\n",
       "</style>\n",
       "<table border=\"1\" class=\"dataframe\">\n",
       "  <thead>\n",
       "    <tr style=\"text-align: right;\">\n",
       "      <th></th>\n",
       "      <th>O_uli</th>\n",
       "      <th>S_rotundu</th>\n",
       "      <th>E_coli</th>\n",
       "      <th>Unknown</th>\n",
       "    </tr>\n",
       "  </thead>\n",
       "  <tbody>\n",
       "    <tr>\n",
       "      <th>SRR3656745.86422854</th>\n",
       "      <td>0.0</td>\n",
       "      <td>0.0</td>\n",
       "      <td>0.0</td>\n",
       "      <td>1.0</td>\n",
       "    </tr>\n",
       "    <tr>\n",
       "      <th>SRR3656745.64990421</th>\n",
       "      <td>0.0</td>\n",
       "      <td>0.0</td>\n",
       "      <td>0.0</td>\n",
       "      <td>1.0</td>\n",
       "    </tr>\n",
       "    <tr>\n",
       "      <th>SRR3656745.91602156</th>\n",
       "      <td>0.0</td>\n",
       "      <td>0.0</td>\n",
       "      <td>0.0</td>\n",
       "      <td>1.0</td>\n",
       "    </tr>\n",
       "    <tr>\n",
       "      <th>SRR3656745.79507769</th>\n",
       "      <td>0.0</td>\n",
       "      <td>0.0</td>\n",
       "      <td>0.0</td>\n",
       "      <td>1.0</td>\n",
       "    </tr>\n",
       "    <tr>\n",
       "      <th>SRR3656745.38036230</th>\n",
       "      <td>0.0</td>\n",
       "      <td>0.0</td>\n",
       "      <td>0.0</td>\n",
       "      <td>1.0</td>\n",
       "    </tr>\n",
       "  </tbody>\n",
       "</table>\n",
       "</div>"
      ],
      "text/plain": [
       "                     O_uli  S_rotundu  E_coli  Unknown\n",
       "SRR3656745.86422854    0.0        0.0     0.0      1.0\n",
       "SRR3656745.64990421    0.0        0.0     0.0      1.0\n",
       "SRR3656745.91602156    0.0        0.0     0.0      1.0\n",
       "SRR3656745.79507769    0.0        0.0     0.0      1.0\n",
       "SRR3656745.38036230    0.0        0.0     0.0      1.0"
      ]
     },
     "execution_count": 13,
     "metadata": {},
     "output_type": "execute_result"
    }
   ],
   "source": [
    "# Get list of short read names\n",
    "read_names = [r.id for r in SeqIO.parse(fastqfile, 'fastq')]\n",
    "# Initialize data frame to count mappings\n",
    "counts = {species: {k:0 for k in read_names} for species in genomes}\n",
    "\n",
    "for species in genomes:\n",
    "    for name in read_names:\n",
    "        for i in range(len(sams[species])):\n",
    "            if sams[species][i].qname == name and sams[species][i].pos > 0:\n",
    "                # +1 if read is mapped to reference genome\n",
    "                counts[species][name] += 1\n",
    "\n",
    "# Convert counts to data frame\n",
    "df = pd.DataFrame.from_dict(counts)\n",
    "# Set all counts > 1 to 1 (Avoid counting multiple hits)\n",
    "df = df.where(df < 1, 1)\n",
    "# Add Unknown column\n",
    "df['Unknown'] = (df.sum(axis=1) == 0).astype(int)\n",
    "# Normalize rows\n",
    "df = df.div(df.sum(axis=1), axis=0)\n",
    "\n",
    "df.head()"
   ]
  },
  {
   "cell_type": "markdown",
   "metadata": {},
   "source": [
    "### Results\n",
    "\n",
    "#### Total Read Counts\n",
    "\n",
    "Show a bar graph of total read counts assigned to each organism and to the Unknown group. The x axis of the bar graph should show the organisms (including the Unknown group), and the y axis should show the counts of reads mapped to each organism."
   ]
  },
  {
   "cell_type": "code",
   "execution_count": 14,
   "metadata": {},
   "outputs": [
    {
     "name": "stderr",
     "output_type": "stream",
     "text": [
      "/tmp/ipykernel_721/1566673506.py:7: UserWarning: FixedFormatter should only be used together with FixedLocator\n",
      "  ax.set_xticklabels(['O. uli', 'S. rotundu', 'E. coli', 'Unknown'], fontsize=12)\n"
     ]
    },
    {
     "data": {
      "image/png": "[encoded data removed]",
      "text/plain": [
       "<Figure size 432x288 with 1 Axes>"
      ]
     },
     "metadata": {
      "needs_background": "light"
     },
     "output_type": "display_data"
    }
   ],
   "source": [
    "total_maps = df.sum().to_list()\n",
    "species = df.columns.to_list()\n",
    "\n",
    "fig = plt.figure()\n",
    "ax = fig.add_axes([0,0,1,1])\n",
    "ax.bar(species, total_maps, color='red', alpha=.4)\n",
    "ax.set_xticklabels(['O. uli', 'S. rotundu', 'E. coli', 'Unknown'], fontsize=12)\n",
    "ax.set_xlabel(\"Organisms\", fontsize=14)\n",
    "ax.set_ylabel(\"Short Read Maps\", fontsize=14)\n",
    "ax.set_title(\"Number of Short Read Maps by Organism\", fontsize=14)\n",
    "plt.show()"
   ]
  },
  {
   "cell_type": "markdown",
   "metadata": {},
   "source": [
    "#### Percent Abundances\n",
    "\n",
    "Show the percent abundances of the species (**excluding** the Unknown group) as a bar graph. Label the bars with the species names. Make sure you normalize the counts of the reads assigned to each organism by the genome size of that organism. The percentages of the three organisms should add up to 100%."
   ]
  },
  {
   "cell_type": "code",
   "execution_count": 15,
   "metadata": {},
   "outputs": [
    {
     "name": "stderr",
     "output_type": "stream",
     "text": [
      "/tmp/ipykernel_721/2736224981.py:11: UserWarning: FixedFormatter should only be used together with FixedLocator\n",
      "  ax.set_xticklabels(['O. uli', 'S. rotundu', 'E. coli'], fontsize=12)\n"
     ]
    },
    {
     "data": {
      "image/png": "[encoded data removed]",
      "text/plain": [
       "<Figure size 432x288 with 1 Axes>"
      ]
     },
     "metadata": {
      "needs_background": "light"
     },
     "output_type": "display_data"
    }
   ],
   "source": [
    "# Determine genome sizes\n",
    "sizes = {k: len(r.seq) for k,v in genomes.items() for r in SeqIO.parse(v, 'fasta') }\n",
    "\n",
    "# Compute normalized percent abundance\n",
    "size_per_maps = [size/maps for maps, size in zip(total_maps, sizes.values())]\n",
    "norm_spm = [100*spm/sum(size_per_maps) for spm in size_per_maps]\n",
    "\n",
    "fig = plt.figure()\n",
    "ax = fig.add_axes([0,0,1,1])\n",
    "ax.bar(species[:-1], norm_spm, color='red', alpha=.4)\n",
    "ax.set_xticklabels(['O. uli', 'S. rotundu', 'E. coli'], fontsize=12)\n",
    "ax.set_xlabel(\"Organisms\", fontsize=14)\n",
    "ax.set_ylabel(\"Percent Abundance\", fontsize=14)\n",
    "ax.set_title(\"Normalized Percent Abbundance by Organism\", fontsize=14)\n",
    "plt.show()"
   ]
  }
 ],
 "metadata": {
  "interpreter": {
   "hash": "89aa419059693679b3c628b5998a9aeb8e5d050944c8675e82ec1608501e11b2"
  },
  "kernelspec": {
   "display_name": "Python 3",
   "language": "python",
   "name": "python3"
  },
  "language_info": {
   "codemirror_mode": {
    "name": "ipython",
    "version": 3
   },
   "file_extension": ".py",
   "mimetype": "text/x-python",
   "name": "python",
   "nbconvert_exporter": "python",
   "pygments_lexer": "ipython3",
   "version": "3.8.8"
  }
 },
 "nbformat": 4,
 "nbformat_minor": 2
}
