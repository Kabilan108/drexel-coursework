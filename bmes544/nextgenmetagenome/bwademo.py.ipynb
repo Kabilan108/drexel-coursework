{
 "cells": [
  {
   "cell_type": "markdown",
   "metadata": {},
   "source": [
    "# Burrows-Wheeler Aligner\n",
    "\n",
    "Burrows-Wheeler Aligner (BWA) is an algorithm/program to align short sequencing reads against a large reference genome. The genome is first 'indexed' once to allow fast alignment.\n",
    "\n",
    "Example data files used in this tutorial are taken/adapted from [here](http://depts.washington.edu/cshlab/xpression/html/example.shtml)."
   ]
  },
  {
   "cell_type": "code",
   "execution_count": 1,
   "metadata": {},
   "outputs": [],
   "source": [
    "%load_ext autoreload"
   ]
  },
  {
   "cell_type": "code",
   "execution_count": 24,
   "metadata": {},
   "outputs": [],
   "source": [
    "%autoreload 2\n",
    "import simplesam\n",
    "import bmes\n",
    "import os \n",
    "from IPython.display import display\n",
    "from ToolBox import utils"
   ]
  },
  {
   "cell_type": "markdown",
   "metadata": {},
   "source": [
    "### Set Up `DATADIR` and `BWA` Path\n",
    "\n",
    "Since genome files and fastq files can be very large, you need to keep it in a different folder than your source files (so that when you submit your work, I don't end up with many copies of these large data files). If you want to use a different folder, set it here."
   ]
  },
  {
   "cell_type": "code",
   "execution_count": 19,
   "metadata": {},
   "outputs": [
    {
     "name": "stdout",
     "output_type": "stream",
     "text": [
      "/home/kabil/.anaconda3/envs/blast/bin/bwa\n"
     ]
    }
   ],
   "source": [
    "DATADIR = bmes.datadir() + '/bwafiles/'\n",
    "bmes.mkdirif(DATADIR)\n",
    "\n",
    "\n",
    "#BWAEXE = bmes.bwaexe(); # Ahmet's installation\n",
    "BWAEXE = \"/home/kabil/.anaconda3/envs/blast/bin/bwa\"\n",
    "print(BWAEXE)"
   ]
  },
  {
   "cell_type": "markdown",
   "metadata": {},
   "source": [
    "### Set up genome and `fastq` files. Download if absent.\n",
    "\n",
    "- Make sure you know how to get the URL for genomefile from: https://www.ncbi.nlm.nih.gov/nuccore/NC_005296.1\n",
    "- Visit that webpage, download genome as Fasta file and examine the download url."
   ]
  },
  {
   "cell_type": "code",
   "execution_count": 14,
   "metadata": {},
   "outputs": [],
   "source": [
    "genomefile = DATADIR +  \"/CGA009.fasta\"\n",
    "fastqfile = DATADIR + '/example.small.fastq'\n",
    "\n",
    "if not bmes.isfileandnotempty(genomefile):\n",
    "\tgenomefile = bmes.downloadurl(\"https://www.ncbi.nlm.nih.gov/sviewer/viewer.cgi?tool=portal&save=file&log$=seqview&db=nuccore&report=fasta&id=39933080&conwithfeat=on\", genomefile)\n",
    "if not bmes.isfileandnotempty(fastqfile):\n",
    "\tfastqfile = bmes.downloadurl(\"http://sacan.biomed.drexel.edu/lib/exe/fetch.php?rev=&media=course:binf:nextgen:bwademo:example.small.fastq\", fastqfile)"
   ]
  },
  {
   "cell_type": "markdown",
   "metadata": {},
   "source": [
    "### Contents of the Genome FASTA File"
   ]
  },
  {
   "cell_type": "code",
   "execution_count": 15,
   "metadata": {},
   "outputs": [
    {
     "name": "stdout",
     "output_type": "stream",
     "text": [
      ">NC_005296.1 Rhodopseudomonas palustris CGA009, complete sequence\n",
      "ATCGGTCGAGGCGAAATCTTCACCCTGCCCTCGGAATCATATCCATTGCAGCGGAGGGGCCGTCGTGGTT\n",
      "TTCATAGTCCACCCGCGACGCCCACGGCTCTTCAGATCAGCGCGGTTTGAGAACCAAGGGCGGACATGCA\n",
      "AATCGGCGGCGGTGTGCATGTTGGTGGCTTTTCCAAATGACGGTCGAACTGCAACTCATAGCAATATGGG\n",
      "GCTGGCGAAGCCGTGTCTGAATTCATGCGGAGGCCTTCGTTCGAAGGTTTCTGGCGAACGACGACACCGG\n"
     ]
    }
   ],
   "source": [
    "utils.io_head(genomefile)"
   ]
  },
  {
   "cell_type": "markdown",
   "metadata": {},
   "source": [
    "### Contents of the FASTQ Sequence Reads File"
   ]
  },
  {
   "cell_type": "code",
   "execution_count": 16,
   "metadata": {},
   "outputs": [
    {
     "name": "stdout",
     "output_type": "stream",
     "text": [
      "@HWUSI-EAS300R_0005_FC62TL2AAXX:8:30:18447:12115#0/1\n",
      "CGTAGCTGTGTGTACAAGGCCCGGGAACGTATTCACCGTG\n",
      "+HWUSI-EAS300R_0005_FC62TL2AAXX:8:30:18447:12115#0/1\n",
      "acdd^aa_Z^d^ddc`^_Q_aaa`_ddc\\dfdffff\\fff\n",
      "@HWUSI-EAS300R_0005_FC62TL2AAXX:8:30:19255:12112#0/1\n",
      "CGTAAATGGACAGCATGACCCGACATCCCACACTCGCCGC\n",
      "+HWUSI-EAS300R_0005_FC62TL2AAXX:8:30:19255:12112#0/1\n",
      "hhhcfhhhhhhhhhhhhghhhhhhffhhhhhhhhhhhhhg\n"
     ]
    }
   ],
   "source": [
    "utils.io_head(fastqfile, 8)"
   ]
  },
  {
   "cell_type": "markdown",
   "metadata": {},
   "source": [
    "### Index the reference genome"
   ]
  },
  {
   "cell_type": "code",
   "execution_count": 20,
   "metadata": {},
   "outputs": [
    {
     "name": "stderr",
     "output_type": "stream",
     "text": [
      "[bwa_index] Pack FASTA... 0.04 sec\n",
      "[bwa_index] Construct BWT for the packed sequence...\n",
      "[bwa_index] 1.45 seconds elapse.\n",
      "[bwa_index] Update BWT... 0.02 sec\n",
      "[bwa_index] Pack forward-only FASTA... 0.02 sec\n",
      "[bwa_index] Construct SA from BWT and Occ... 0.52 sec\n",
      "[main] Version: 0.7.17-r1188\n",
      "[main] CMD: /home/kabil/.anaconda3/envs/blast/bin/bwa index /tmp/bmes/Dropbox_bmes.ahmet/bwafiles/CGA009.fasta\n",
      "[main] Real time: 2.100 sec; CPU: 2.050 sec\n"
     ]
    }
   ],
   "source": [
    "# Index the reference genome\n",
    "if not bmes.isfileandnotempty(genomefile + '.bwt'):\n",
    "    cmd = BWAEXE + ' index \"' + genomefile + '\"'\n",
    "    os.system(cmd)"
   ]
  },
  {
   "cell_type": "markdown",
   "metadata": {},
   "source": [
    "### Align Sequence Reads to Reference Genome\n",
    "\n",
    "It's also a good idea to check if we have performed this step before. Let's use `*.sam` for the resulting filename and use the presence of this file to determine whether we have done this alignment step before. Note that if you change the `genomefile` or `fastqfile` and the `samfile` was previously created with a different `genomefile` and/or `fastqfile`, the results would no longer be correct."
   ]
  },
  {
   "cell_type": "code",
   "execution_count": 21,
   "metadata": {},
   "outputs": [
    {
     "name": "stdout",
     "output_type": "stream",
     "text": [
      "Executing command: /home/kabil/.anaconda3/envs/blast/bin/bwa mem \"/tmp/bmes/Dropbox_bmes.ahmet/bwafiles/CGA009.fasta\" \"/tmp/bmes/Dropbox_bmes.ahmet/bwafiles/example.small.fastq\" > \"/tmp/bmes/Dropbox_bmes.ahmet/bwafiles/example.small.fastq.sam\" 2>\"/tmp/tmp1kgpb6o9\"\n",
      "[M::bwa_idx_load_from_disk] read 0 ALT contigs\n",
      "[M::process] read 25 sequences (1000 bp)...\n",
      "[M::mem_process_seqs] Processed 25 reads in 0.001 CPU sec, 0.004 real sec\n",
      "[main] Version: 0.7.17-r1188\n",
      "[main] CMD: /home/kabil/.anaconda3/envs/blast/bin/bwa mem /tmp/bmes/Dropbox_bmes.ahmet/bwafiles/CGA009.fasta /tmp/bmes/Dropbox_bmes.ahmet/bwafiles/example.small.fastq\n",
      "[main] Real time: 0.011 sec; CPU: 0.007 sec\n",
      "\n"
     ]
    }
   ],
   "source": [
    "samfile = fastqfile + '.sam'\n",
    "\n",
    "if not bmes.isfileandnotempty(samfile):\n",
    "    cmd = BWAEXE + ' mem \"' + genomefile + '\"' ' \"' + fastqfile + '\"'\n",
    "    bmes.system_redirecttofile(cmd,samfile)"
   ]
  },
  {
   "cell_type": "markdown",
   "metadata": {},
   "source": [
    "### Contents of the SAM File"
   ]
  },
  {
   "cell_type": "code",
   "execution_count": 23,
   "metadata": {},
   "outputs": [
    {
     "name": "stdout",
     "output_type": "stream",
     "text": [
      "@SQ\tSN:NC_005296.1\tLN:5459213\n",
      "@PG\tID:bwa\tPN:bwa\tVN:0.7.17-r1188\tCL:/home/kabil/.anaconda3/envs/blast/bin/bwa mem /tmp/bmes/Dropbox_bmes.ahmet/bwafiles/CGA009.fasta /tmp/bmes/Dropbox_bmes.ahmet/bwafiles/example.small.fastq\n",
      "HWUSI-EAS300R_0005_FC62TL2AAXX:8:30:18447:12115#0\t0\tNC_005296.1\t5250128\t0\t7S33M\t*\t0\t0\tCGTAGCTGTGTGTACAAGGCCCGGGAACGTATTCACCGTG\tacdd^aa_Z^d^ddc`^_Q_aaa`_ddc\\dfdffff\\fff\tNM:i:0\tMD:Z:33\tAS:i:33\tXS:i:33\tXA:Z:NC_005296.1,+4996363,7S33M,0;\n",
      "HWUSI-EAS300R_0005_FC62TL2AAXX:8:30:19255:12112#0\t0\tNC_005296.1\t1993021\t60\t4S36M\t*\t0\t0\tCGTAAATGGACAGCATGACCCGACATCCCACACTCGCCGC\thhhcfhhhhhhhhhhhhghhhhhhffhhhhhhhhhhhhhg\tNM:i:0\tMD:Z:36\tAS:i:36\tXS:i:0\n",
      "HWUSI-EAS300R_0005_FC62TL2AAXX:8:30:19304:12111#0\t0\tNC_005296.1\t4996358\t0\t4S36M\t*\t0\t0\tAGGGGGGCGGTGTGTACAAGGCCCGGGAACGTATTCACCG\thhhhhhhhhhhhhhhhhhhhhhhhhhhhhhhghhhhhhhh\tNM:i:0\tMD:Z:36\tAS:i:36\tXS:i:36\tXA:Z:NC_005296.1,+5250123,4S36M,0;\n"
     ]
    }
   ],
   "source": [
    "utils.io_head(samfile, 5)"
   ]
  },
  {
   "cell_type": "markdown",
   "metadata": {},
   "source": [
    "### Parse the alignment results\n",
    "\n",
    "`samread()` is available in Matlab's bioinformatics toolbox. If you do not have `samread()` or are not working in Matlab, google for other options. SAM files are text files. Google SAM format specification to explore what types of data are being provied e.g. [here](https://samtools.github.io/hts-specs/SAMv1.pdf).\n",
    "\n",
    "We'll be using `simplesam` to parse the SAM files. This is an alternative for `pysam` that doesn't require a C compiler during installation."
   ]
  },
  {
   "cell_type": "code",
   "execution_count": 25,
   "metadata": {},
   "outputs": [
    {
     "name": "stdout",
     "output_type": "stream",
     "text": [
      "  -----Object  Properties-----  \n"
     ]
    },
    {
     "data": {
      "text/plain": [
       "{'qname': 'HWUSI-EAS300R_0005_FC62TL2AAXX:8:30:18447:12115#0',\n",
       " 'flag': 0,\n",
       " 'rname': 'NC_005296.1',\n",
       " 'pos': 5250128,\n",
       " 'mapq': 0,\n",
       " 'cigar': '7S33M',\n",
       " 'rnext': '*',\n",
       " 'pnext': 0,\n",
       " 'tlen': 0,\n",
       " 'seq': 'CGTAGCTGTGTGTACAAGGCCCGGGAACGTATTCACCGTG',\n",
       " 'qual': 'acdd^aa_Z^d^ddc`^_Q_aaa`_ddc\\\\dfdffff\\\\fff',\n",
       " '_tags': ['NM:i:0',\n",
       "  'MD:Z:33',\n",
       "  'AS:i:33',\n",
       "  'XS:i:33',\n",
       "  'XA:Z:NC_005296.1,+4996363,7S33M,0;'],\n",
       " '_cache': {}}"
      ]
     },
     "metadata": {},
     "output_type": "display_data"
    },
    {
     "name": "stdout",
     "output_type": "stream",
     "text": [
      "-----Additional  Properties-----\n",
      "ismapped: True\n",
      "isreversecomplement: False\n",
      "duplicate: False\n",
      "secondary: False\n",
      "tags: {'NM': 0, 'MD': '33', 'AS': 33, 'XS': 33, 'XA': 'NC_005296.1,+4996363,7S33M,0;'}\n",
      "    -----Using the Flag-----    \n",
      "isunmapped: 0\n",
      "isreversecomplement: 0\n"
     ]
    }
   ],
   "source": [
    "sams = []\n",
    "with open(samfile,'r') as f:\n",
    "    samiter = simplesam.Reader(f)\n",
    "    for sam in samiter:\n",
    "        sams.append(sam)\n",
    "\n",
    "# Inspect first entry\n",
    "sam = sams[0]\n",
    "\n",
    "print(\"  -----Object  Properties-----  \")\n",
    "display(vars(sam))\n",
    "\n",
    "print(\"-----Additional  Properties-----\")\n",
    "\n",
    "print(\"ismapped: \" + str(sam.mapped))\n",
    "print(\"isreversecomplement: \" + str(sam.reverse))\n",
    "print(\"duplicate: \" + str(sam.duplicate))\n",
    "print(\"secondary: \" + str(sam.secondary))\n",
    "print(\"tags: \" + str(sam.tags))\n",
    "\n",
    "print(\"    -----Using the Flag-----    \")\n",
    "isunmapped = sam.flag & 4\n",
    "print(\"isunmapped: \" + str(isunmapped))\n",
    "#or use: not sam.mapped\n",
    "\n",
    "isreversecomplement = sam.flag & 16\n",
    "print(\"isreversecomplement: \" + str(isreversecomplement))\n",
    "#or use: sam.reverse"
   ]
  }
 ],
 "metadata": {
  "kernelspec": {
   "display_name": "Python 3",
   "language": "python",
   "name": "python3"
  },
  "language_info": {
   "codemirror_mode": {
    "name": "ipython",
    "version": 3
   },
   "file_extension": ".py",
   "mimetype": "text/x-python",
   "name": "python",
   "nbconvert_exporter": "python",
   "pygments_lexer": "ipython3",
   "version": "3.9.9"
  }
 },
 "nbformat": 4,
 "nbformat_minor": 2
}
