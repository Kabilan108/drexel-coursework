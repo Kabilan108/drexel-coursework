{
 "cells": [
  {
   "cell_type": "markdown",
   "metadata": {},
   "source": [
    "## Phylogenetic Tree Construction Example"
   ]
  },
  {
   "cell_type": "code",
   "execution_count": 3,
   "metadata": {},
   "outputs": [],
   "source": [
    "%load_ext autoreload"
   ]
  },
  {
   "cell_type": "code",
   "execution_count": 12,
   "metadata": {},
   "outputs": [],
   "source": [
    "%autoreload 2\n",
    "# Imports\n",
    "import numpy as np\n",
    "import matplotlib.pyplot as plt\n",
    "from scipy.cluster import hierarchy\n",
    "from scipy.spatial import distance"
   ]
  },
  {
   "cell_type": "code",
   "execution_count": 12,
   "metadata": {},
   "outputs": [],
   "source": [
    "# I will use short pre-aligned sequences for this demonstration.\n",
    "seqs = \"\"\"\n",
    "----------LYLAPGAQAAG\n",
    "GAVTMNMFCAGSEGGAVDSCQ\n",
    "LRCSGHLLTPTSLWPSIVPCA\n",
    "----IFAVCYAIKYSA-----\n",
    "HDTGVLHVCAGFRRALLAACD\n",
    "TRIHPENICAGKIEGGISPCK\n",
    "GKIKDFSLCAHYTSENSDSCL\n",
    "GSVRTDHICALADEAKMDRCE\n",
    "GAIHPHNVCAGYP--------\n",
    "WIIEKTHLCAGFPQGGTGTCQ\n",
    "\"\"\"\n",
    "\n",
    "# Split into a list and remove blank lines.\n",
    "seqs = list(filter(None, seqs.splitlines()))\n",
    "\n",
    "names = 'XP_007974475,XP_015687330,XP_007974474,XP_022060919,EGW14543,XP_016853777,XP_004912463,XP_020633913,XP_009953276,XP_025902882'.split(',');\n",
    "\n",
    "# Number of sequences\n",
    "N = len(seqs)"
   ]
  },
  {
   "cell_type": "markdown",
   "metadata": {},
   "source": [
    "### Calculate a distance matrix between entries"
   ]
  },
  {
   "cell_type": "code",
   "execution_count": 42,
   "metadata": {},
   "outputs": [],
   "source": [
    "import rich\n",
    "import pandas as pd"
   ]
  },
  {
   "cell_type": "code",
   "execution_count": 66,
   "metadata": {},
   "outputs": [
    {
     "data": {
      "text/html": [
       "<pre style=\"white-space:pre;overflow-x:auto;line-height:normal;font-family:Menlo,'DejaVu Sans Mono',consolas,'Courier New',monospace\"><span style=\"font-weight: bold\">[[</span>  <span style=\"color: #008080; text-decoration-color: #008080; font-weight: bold\">0</span>.         <span style=\"color: #008080; text-decoration-color: #008080; font-weight: bold\">100</span>.          <span style=\"color: #008080; text-decoration-color: #008080; font-weight: bold\">90.47619048</span>  <span style=\"color: #008080; text-decoration-color: #008080; font-weight: bold\">80.95238095</span>  <span style=\"color: #008080; text-decoration-color: #008080; font-weight: bold\">95.23809524</span>\n",
       "   <span style=\"color: #008080; text-decoration-color: #008080; font-weight: bold\">95.23809524</span>  <span style=\"color: #008080; text-decoration-color: #008080; font-weight: bold\">95.23809524</span>  <span style=\"color: #008080; text-decoration-color: #008080; font-weight: bold\">95.23809524</span>  <span style=\"color: #008080; text-decoration-color: #008080; font-weight: bold\">95.23809524</span>  <span style=\"color: #008080; text-decoration-color: #008080; font-weight: bold\">95.23809524</span><span style=\"font-weight: bold\">]</span>\n",
       " <span style=\"font-weight: bold\">[</span><span style=\"color: #008080; text-decoration-color: #008080; font-weight: bold\">100</span>.           <span style=\"color: #008080; text-decoration-color: #008080; font-weight: bold\">0</span>.          <span style=\"color: #008080; text-decoration-color: #008080; font-weight: bold\">90.47619048</span>  <span style=\"color: #008080; text-decoration-color: #008080; font-weight: bold\">90.47619048</span>  <span style=\"color: #008080; text-decoration-color: #008080; font-weight: bold\">80.95238095</span>\n",
       "   <span style=\"color: #008080; text-decoration-color: #008080; font-weight: bold\">76.19047619</span>  <span style=\"color: #008080; text-decoration-color: #008080; font-weight: bold\">71.42857143</span>  <span style=\"color: #008080; text-decoration-color: #008080; font-weight: bold\">71.42857143</span>  <span style=\"color: #008080; text-decoration-color: #008080; font-weight: bold\">76.19047619</span>  <span style=\"color: #008080; text-decoration-color: #008080; font-weight: bold\">71.42857143</span><span style=\"font-weight: bold\">]</span>\n",
       " <span style=\"font-weight: bold\">[</span> <span style=\"color: #008080; text-decoration-color: #008080; font-weight: bold\">90.47619048</span>  <span style=\"color: #008080; text-decoration-color: #008080; font-weight: bold\">90.47619048</span>   <span style=\"color: #008080; text-decoration-color: #008080; font-weight: bold\">0</span>.         <span style=\"color: #008080; text-decoration-color: #008080; font-weight: bold\">100</span>.          <span style=\"color: #008080; text-decoration-color: #008080; font-weight: bold\">95.23809524</span>\n",
       "   <span style=\"color: #008080; text-decoration-color: #008080; font-weight: bold\">80.95238095</span>  <span style=\"color: #008080; text-decoration-color: #008080; font-weight: bold\">90.47619048</span>  <span style=\"color: #008080; text-decoration-color: #008080; font-weight: bold\">95.23809524</span>  <span style=\"color: #008080; text-decoration-color: #008080; font-weight: bold\">95.23809524</span>  <span style=\"color: #008080; text-decoration-color: #008080; font-weight: bold\">90.47619048</span><span style=\"font-weight: bold\">]</span>\n",
       " <span style=\"font-weight: bold\">[</span> <span style=\"color: #008080; text-decoration-color: #008080; font-weight: bold\">80.95238095</span>  <span style=\"color: #008080; text-decoration-color: #008080; font-weight: bold\">90.47619048</span> <span style=\"color: #008080; text-decoration-color: #008080; font-weight: bold\">100</span>.           <span style=\"color: #008080; text-decoration-color: #008080; font-weight: bold\">0</span>.          <span style=\"color: #008080; text-decoration-color: #008080; font-weight: bold\">90.47619048</span>\n",
       "   <span style=\"color: #008080; text-decoration-color: #008080; font-weight: bold\">95.23809524</span>  <span style=\"color: #008080; text-decoration-color: #008080; font-weight: bold\">90.47619048</span>  <span style=\"color: #008080; text-decoration-color: #008080; font-weight: bold\">95.23809524</span>  <span style=\"color: #008080; text-decoration-color: #008080; font-weight: bold\">66.66666667</span>  <span style=\"color: #008080; text-decoration-color: #008080; font-weight: bold\">95.23809524</span><span style=\"font-weight: bold\">]</span>\n",
       " <span style=\"font-weight: bold\">[</span> <span style=\"color: #008080; text-decoration-color: #008080; font-weight: bold\">95.23809524</span>  <span style=\"color: #008080; text-decoration-color: #008080; font-weight: bold\">80.95238095</span>  <span style=\"color: #008080; text-decoration-color: #008080; font-weight: bold\">95.23809524</span>  <span style=\"color: #008080; text-decoration-color: #008080; font-weight: bold\">90.47619048</span>   <span style=\"color: #008080; text-decoration-color: #008080; font-weight: bold\">0</span>.\n",
       "   <span style=\"color: #008080; text-decoration-color: #008080; font-weight: bold\">80.95238095</span>  <span style=\"color: #008080; text-decoration-color: #008080; font-weight: bold\">85.71428571</span>  <span style=\"color: #008080; text-decoration-color: #008080; font-weight: bold\">76.19047619</span>  <span style=\"color: #008080; text-decoration-color: #008080; font-weight: bold\">80.95238095</span>  <span style=\"color: #008080; text-decoration-color: #008080; font-weight: bold\">71.42857143</span><span style=\"font-weight: bold\">]</span>\n",
       " <span style=\"font-weight: bold\">[</span> <span style=\"color: #008080; text-decoration-color: #008080; font-weight: bold\">95.23809524</span>  <span style=\"color: #008080; text-decoration-color: #008080; font-weight: bold\">76.19047619</span>  <span style=\"color: #008080; text-decoration-color: #008080; font-weight: bold\">80.95238095</span>  <span style=\"color: #008080; text-decoration-color: #008080; font-weight: bold\">95.23809524</span>  <span style=\"color: #008080; text-decoration-color: #008080; font-weight: bold\">80.95238095</span>\n",
       "    <span style=\"color: #008080; text-decoration-color: #008080; font-weight: bold\">0</span>.          <span style=\"color: #008080; text-decoration-color: #008080; font-weight: bold\">80.95238095</span>  <span style=\"color: #008080; text-decoration-color: #008080; font-weight: bold\">76.19047619</span>  <span style=\"color: #008080; text-decoration-color: #008080; font-weight: bold\">66.66666667</span>  <span style=\"color: #008080; text-decoration-color: #008080; font-weight: bold\">66.66666667</span><span style=\"font-weight: bold\">]</span>\n",
       " <span style=\"font-weight: bold\">[</span> <span style=\"color: #008080; text-decoration-color: #008080; font-weight: bold\">95.23809524</span>  <span style=\"color: #008080; text-decoration-color: #008080; font-weight: bold\">71.42857143</span>  <span style=\"color: #008080; text-decoration-color: #008080; font-weight: bold\">90.47619048</span>  <span style=\"color: #008080; text-decoration-color: #008080; font-weight: bold\">90.47619048</span>  <span style=\"color: #008080; text-decoration-color: #008080; font-weight: bold\">85.71428571</span>\n",
       "   <span style=\"color: #008080; text-decoration-color: #008080; font-weight: bold\">80.95238095</span>   <span style=\"color: #008080; text-decoration-color: #008080; font-weight: bold\">0</span>.          <span style=\"color: #008080; text-decoration-color: #008080; font-weight: bold\">76.19047619</span>  <span style=\"color: #008080; text-decoration-color: #008080; font-weight: bold\">76.19047619</span>  <span style=\"color: #008080; text-decoration-color: #008080; font-weight: bold\">76.19047619</span><span style=\"font-weight: bold\">]</span>\n",
       " <span style=\"font-weight: bold\">[</span> <span style=\"color: #008080; text-decoration-color: #008080; font-weight: bold\">95.23809524</span>  <span style=\"color: #008080; text-decoration-color: #008080; font-weight: bold\">71.42857143</span>  <span style=\"color: #008080; text-decoration-color: #008080; font-weight: bold\">95.23809524</span>  <span style=\"color: #008080; text-decoration-color: #008080; font-weight: bold\">95.23809524</span>  <span style=\"color: #008080; text-decoration-color: #008080; font-weight: bold\">76.19047619</span>\n",
       "   <span style=\"color: #008080; text-decoration-color: #008080; font-weight: bold\">76.19047619</span>  <span style=\"color: #008080; text-decoration-color: #008080; font-weight: bold\">76.19047619</span>   <span style=\"color: #008080; text-decoration-color: #008080; font-weight: bold\">0</span>.          <span style=\"color: #008080; text-decoration-color: #008080; font-weight: bold\">85.71428571</span>  <span style=\"color: #008080; text-decoration-color: #008080; font-weight: bold\">80.95238095</span><span style=\"font-weight: bold\">]</span>\n",
       " <span style=\"font-weight: bold\">[</span> <span style=\"color: #008080; text-decoration-color: #008080; font-weight: bold\">95.23809524</span>  <span style=\"color: #008080; text-decoration-color: #008080; font-weight: bold\">76.19047619</span>  <span style=\"color: #008080; text-decoration-color: #008080; font-weight: bold\">95.23809524</span>  <span style=\"color: #008080; text-decoration-color: #008080; font-weight: bold\">66.66666667</span>  <span style=\"color: #008080; text-decoration-color: #008080; font-weight: bold\">80.95238095</span>\n",
       "   <span style=\"color: #008080; text-decoration-color: #008080; font-weight: bold\">66.66666667</span>  <span style=\"color: #008080; text-decoration-color: #008080; font-weight: bold\">76.19047619</span>  <span style=\"color: #008080; text-decoration-color: #008080; font-weight: bold\">85.71428571</span>   <span style=\"color: #008080; text-decoration-color: #008080; font-weight: bold\">0</span>.          <span style=\"color: #008080; text-decoration-color: #008080; font-weight: bold\">76.19047619</span><span style=\"font-weight: bold\">]</span>\n",
       " <span style=\"font-weight: bold\">[</span> <span style=\"color: #008080; text-decoration-color: #008080; font-weight: bold\">95.23809524</span>  <span style=\"color: #008080; text-decoration-color: #008080; font-weight: bold\">71.42857143</span>  <span style=\"color: #008080; text-decoration-color: #008080; font-weight: bold\">90.47619048</span>  <span style=\"color: #008080; text-decoration-color: #008080; font-weight: bold\">95.23809524</span>  <span style=\"color: #008080; text-decoration-color: #008080; font-weight: bold\">71.42857143</span>\n",
       "   <span style=\"color: #008080; text-decoration-color: #008080; font-weight: bold\">66.66666667</span>  <span style=\"color: #008080; text-decoration-color: #008080; font-weight: bold\">76.19047619</span>  <span style=\"color: #008080; text-decoration-color: #008080; font-weight: bold\">80.95238095</span>  <span style=\"color: #008080; text-decoration-color: #008080; font-weight: bold\">76.19047619</span>   <span style=\"color: #008080; text-decoration-color: #008080; font-weight: bold\">0</span>.        <span style=\"font-weight: bold\">]]</span>\n",
       "</pre>\n"
      ],
      "text/plain": [
       "\u001b[1m[\u001b[0m\u001b[1m[\u001b[0m  \u001b[1;36m0\u001b[0m.         \u001b[1;36m100\u001b[0m.          \u001b[1;36m90.47619048\u001b[0m  \u001b[1;36m80.95238095\u001b[0m  \u001b[1;36m95.23809524\u001b[0m\n",
       "   \u001b[1;36m95.23809524\u001b[0m  \u001b[1;36m95.23809524\u001b[0m  \u001b[1;36m95.23809524\u001b[0m  \u001b[1;36m95.23809524\u001b[0m  \u001b[1;36m95.23809524\u001b[0m\u001b[1m]\u001b[0m\n",
       " \u001b[1m[\u001b[0m\u001b[1;36m100\u001b[0m.           \u001b[1;36m0\u001b[0m.          \u001b[1;36m90.47619048\u001b[0m  \u001b[1;36m90.47619048\u001b[0m  \u001b[1;36m80.95238095\u001b[0m\n",
       "   \u001b[1;36m76.19047619\u001b[0m  \u001b[1;36m71.42857143\u001b[0m  \u001b[1;36m71.42857143\u001b[0m  \u001b[1;36m76.19047619\u001b[0m  \u001b[1;36m71.42857143\u001b[0m\u001b[1m]\u001b[0m\n",
       " \u001b[1m[\u001b[0m \u001b[1;36m90.47619048\u001b[0m  \u001b[1;36m90.47619048\u001b[0m   \u001b[1;36m0\u001b[0m.         \u001b[1;36m100\u001b[0m.          \u001b[1;36m95.23809524\u001b[0m\n",
       "   \u001b[1;36m80.95238095\u001b[0m  \u001b[1;36m90.47619048\u001b[0m  \u001b[1;36m95.23809524\u001b[0m  \u001b[1;36m95.23809524\u001b[0m  \u001b[1;36m90.47619048\u001b[0m\u001b[1m]\u001b[0m\n",
       " \u001b[1m[\u001b[0m \u001b[1;36m80.95238095\u001b[0m  \u001b[1;36m90.47619048\u001b[0m \u001b[1;36m100\u001b[0m.           \u001b[1;36m0\u001b[0m.          \u001b[1;36m90.47619048\u001b[0m\n",
       "   \u001b[1;36m95.23809524\u001b[0m  \u001b[1;36m90.47619048\u001b[0m  \u001b[1;36m95.23809524\u001b[0m  \u001b[1;36m66.66666667\u001b[0m  \u001b[1;36m95.23809524\u001b[0m\u001b[1m]\u001b[0m\n",
       " \u001b[1m[\u001b[0m \u001b[1;36m95.23809524\u001b[0m  \u001b[1;36m80.95238095\u001b[0m  \u001b[1;36m95.23809524\u001b[0m  \u001b[1;36m90.47619048\u001b[0m   \u001b[1;36m0\u001b[0m.\n",
       "   \u001b[1;36m80.95238095\u001b[0m  \u001b[1;36m85.71428571\u001b[0m  \u001b[1;36m76.19047619\u001b[0m  \u001b[1;36m80.95238095\u001b[0m  \u001b[1;36m71.42857143\u001b[0m\u001b[1m]\u001b[0m\n",
       " \u001b[1m[\u001b[0m \u001b[1;36m95.23809524\u001b[0m  \u001b[1;36m76.19047619\u001b[0m  \u001b[1;36m80.95238095\u001b[0m  \u001b[1;36m95.23809524\u001b[0m  \u001b[1;36m80.95238095\u001b[0m\n",
       "    \u001b[1;36m0\u001b[0m.          \u001b[1;36m80.95238095\u001b[0m  \u001b[1;36m76.19047619\u001b[0m  \u001b[1;36m66.66666667\u001b[0m  \u001b[1;36m66.66666667\u001b[0m\u001b[1m]\u001b[0m\n",
       " \u001b[1m[\u001b[0m \u001b[1;36m95.23809524\u001b[0m  \u001b[1;36m71.42857143\u001b[0m  \u001b[1;36m90.47619048\u001b[0m  \u001b[1;36m90.47619048\u001b[0m  \u001b[1;36m85.71428571\u001b[0m\n",
       "   \u001b[1;36m80.95238095\u001b[0m   \u001b[1;36m0\u001b[0m.          \u001b[1;36m76.19047619\u001b[0m  \u001b[1;36m76.19047619\u001b[0m  \u001b[1;36m76.19047619\u001b[0m\u001b[1m]\u001b[0m\n",
       " \u001b[1m[\u001b[0m \u001b[1;36m95.23809524\u001b[0m  \u001b[1;36m71.42857143\u001b[0m  \u001b[1;36m95.23809524\u001b[0m  \u001b[1;36m95.23809524\u001b[0m  \u001b[1;36m76.19047619\u001b[0m\n",
       "   \u001b[1;36m76.19047619\u001b[0m  \u001b[1;36m76.19047619\u001b[0m   \u001b[1;36m0\u001b[0m.          \u001b[1;36m85.71428571\u001b[0m  \u001b[1;36m80.95238095\u001b[0m\u001b[1m]\u001b[0m\n",
       " \u001b[1m[\u001b[0m \u001b[1;36m95.23809524\u001b[0m  \u001b[1;36m76.19047619\u001b[0m  \u001b[1;36m95.23809524\u001b[0m  \u001b[1;36m66.66666667\u001b[0m  \u001b[1;36m80.95238095\u001b[0m\n",
       "   \u001b[1;36m66.66666667\u001b[0m  \u001b[1;36m76.19047619\u001b[0m  \u001b[1;36m85.71428571\u001b[0m   \u001b[1;36m0\u001b[0m.          \u001b[1;36m76.19047619\u001b[0m\u001b[1m]\u001b[0m\n",
       " \u001b[1m[\u001b[0m \u001b[1;36m95.23809524\u001b[0m  \u001b[1;36m71.42857143\u001b[0m  \u001b[1;36m90.47619048\u001b[0m  \u001b[1;36m95.23809524\u001b[0m  \u001b[1;36m71.42857143\u001b[0m\n",
       "   \u001b[1;36m66.66666667\u001b[0m  \u001b[1;36m76.19047619\u001b[0m  \u001b[1;36m80.95238095\u001b[0m  \u001b[1;36m76.19047619\u001b[0m   \u001b[1;36m0\u001b[0m.        \u001b[1m]\u001b[0m\u001b[1m]\u001b[0m\n"
      ]
     },
     "metadata": {},
     "output_type": "display_data"
    }
   ],
   "source": [
    "# Number of sequences\n",
    "N = df.shape[0]\n",
    "\n",
    "# Initialize distance matrix\n",
    "dist = np.zeros((N,N))\n",
    "\n",
    "for i in range(N):\n",
    "    for j in range(i+1, N):\n",
    "        dist[i,j] = sum([ 1  for k in range(len(df.seq[i])) if df.seq[i][k]!=df.seq[j][k] ])/float(len(df.seq[i])) * 100\n",
    "        dist[j,i] = dist[i,j]\n",
    "\n",
    "rich.print(dist)"
   ]
  },
  {
   "cell_type": "code",
   "execution_count": 62,
   "metadata": {},
   "outputs": [
    {
     "data": {
      "text/html": [
       "<pre style=\"white-space:pre;overflow-x:auto;line-height:normal;font-family:Menlo,'DejaVu Sans Mono',consolas,'Courier New',monospace\"><span style=\"font-weight: bold\">[[</span>  <span style=\"color: #008080; text-decoration-color: #008080; font-weight: bold\">0</span>.         <span style=\"color: #008080; text-decoration-color: #008080; font-weight: bold\">100</span>.          <span style=\"color: #008080; text-decoration-color: #008080; font-weight: bold\">90.47619048</span>  <span style=\"color: #008080; text-decoration-color: #008080; font-weight: bold\">80.95238095</span>  <span style=\"color: #008080; text-decoration-color: #008080; font-weight: bold\">95.23809524</span>\n",
       "   <span style=\"color: #008080; text-decoration-color: #008080; font-weight: bold\">95.23809524</span>  <span style=\"color: #008080; text-decoration-color: #008080; font-weight: bold\">95.23809524</span>  <span style=\"color: #008080; text-decoration-color: #008080; font-weight: bold\">95.23809524</span>  <span style=\"color: #008080; text-decoration-color: #008080; font-weight: bold\">95.23809524</span>  <span style=\"color: #008080; text-decoration-color: #008080; font-weight: bold\">95.23809524</span><span style=\"font-weight: bold\">]</span>\n",
       " <span style=\"font-weight: bold\">[</span><span style=\"color: #008080; text-decoration-color: #008080; font-weight: bold\">100</span>.           <span style=\"color: #008080; text-decoration-color: #008080; font-weight: bold\">0</span>.          <span style=\"color: #008080; text-decoration-color: #008080; font-weight: bold\">90.47619048</span>  <span style=\"color: #008080; text-decoration-color: #008080; font-weight: bold\">90.47619048</span>  <span style=\"color: #008080; text-decoration-color: #008080; font-weight: bold\">80.95238095</span>\n",
       "   <span style=\"color: #008080; text-decoration-color: #008080; font-weight: bold\">76.19047619</span>  <span style=\"color: #008080; text-decoration-color: #008080; font-weight: bold\">71.42857143</span>  <span style=\"color: #008080; text-decoration-color: #008080; font-weight: bold\">71.42857143</span>  <span style=\"color: #008080; text-decoration-color: #008080; font-weight: bold\">76.19047619</span>  <span style=\"color: #008080; text-decoration-color: #008080; font-weight: bold\">71.42857143</span><span style=\"font-weight: bold\">]</span>\n",
       " <span style=\"font-weight: bold\">[</span> <span style=\"color: #008080; text-decoration-color: #008080; font-weight: bold\">90.47619048</span>  <span style=\"color: #008080; text-decoration-color: #008080; font-weight: bold\">90.47619048</span>   <span style=\"color: #008080; text-decoration-color: #008080; font-weight: bold\">0</span>.         <span style=\"color: #008080; text-decoration-color: #008080; font-weight: bold\">100</span>.          <span style=\"color: #008080; text-decoration-color: #008080; font-weight: bold\">95.23809524</span>\n",
       "   <span style=\"color: #008080; text-decoration-color: #008080; font-weight: bold\">80.95238095</span>  <span style=\"color: #008080; text-decoration-color: #008080; font-weight: bold\">90.47619048</span>  <span style=\"color: #008080; text-decoration-color: #008080; font-weight: bold\">95.23809524</span>  <span style=\"color: #008080; text-decoration-color: #008080; font-weight: bold\">95.23809524</span>  <span style=\"color: #008080; text-decoration-color: #008080; font-weight: bold\">90.47619048</span><span style=\"font-weight: bold\">]</span>\n",
       " <span style=\"font-weight: bold\">[</span> <span style=\"color: #008080; text-decoration-color: #008080; font-weight: bold\">80.95238095</span>  <span style=\"color: #008080; text-decoration-color: #008080; font-weight: bold\">90.47619048</span> <span style=\"color: #008080; text-decoration-color: #008080; font-weight: bold\">100</span>.           <span style=\"color: #008080; text-decoration-color: #008080; font-weight: bold\">0</span>.          <span style=\"color: #008080; text-decoration-color: #008080; font-weight: bold\">90.47619048</span>\n",
       "   <span style=\"color: #008080; text-decoration-color: #008080; font-weight: bold\">95.23809524</span>  <span style=\"color: #008080; text-decoration-color: #008080; font-weight: bold\">90.47619048</span>  <span style=\"color: #008080; text-decoration-color: #008080; font-weight: bold\">95.23809524</span>  <span style=\"color: #008080; text-decoration-color: #008080; font-weight: bold\">66.66666667</span>  <span style=\"color: #008080; text-decoration-color: #008080; font-weight: bold\">95.23809524</span><span style=\"font-weight: bold\">]</span>\n",
       " <span style=\"font-weight: bold\">[</span> <span style=\"color: #008080; text-decoration-color: #008080; font-weight: bold\">95.23809524</span>  <span style=\"color: #008080; text-decoration-color: #008080; font-weight: bold\">80.95238095</span>  <span style=\"color: #008080; text-decoration-color: #008080; font-weight: bold\">95.23809524</span>  <span style=\"color: #008080; text-decoration-color: #008080; font-weight: bold\">90.47619048</span>   <span style=\"color: #008080; text-decoration-color: #008080; font-weight: bold\">0</span>.\n",
       "   <span style=\"color: #008080; text-decoration-color: #008080; font-weight: bold\">80.95238095</span>  <span style=\"color: #008080; text-decoration-color: #008080; font-weight: bold\">85.71428571</span>  <span style=\"color: #008080; text-decoration-color: #008080; font-weight: bold\">76.19047619</span>  <span style=\"color: #008080; text-decoration-color: #008080; font-weight: bold\">80.95238095</span>  <span style=\"color: #008080; text-decoration-color: #008080; font-weight: bold\">71.42857143</span><span style=\"font-weight: bold\">]</span>\n",
       " <span style=\"font-weight: bold\">[</span> <span style=\"color: #008080; text-decoration-color: #008080; font-weight: bold\">95.23809524</span>  <span style=\"color: #008080; text-decoration-color: #008080; font-weight: bold\">76.19047619</span>  <span style=\"color: #008080; text-decoration-color: #008080; font-weight: bold\">80.95238095</span>  <span style=\"color: #008080; text-decoration-color: #008080; font-weight: bold\">95.23809524</span>  <span style=\"color: #008080; text-decoration-color: #008080; font-weight: bold\">80.95238095</span>\n",
       "    <span style=\"color: #008080; text-decoration-color: #008080; font-weight: bold\">0</span>.          <span style=\"color: #008080; text-decoration-color: #008080; font-weight: bold\">80.95238095</span>  <span style=\"color: #008080; text-decoration-color: #008080; font-weight: bold\">76.19047619</span>  <span style=\"color: #008080; text-decoration-color: #008080; font-weight: bold\">66.66666667</span>  <span style=\"color: #008080; text-decoration-color: #008080; font-weight: bold\">66.66666667</span><span style=\"font-weight: bold\">]</span>\n",
       " <span style=\"font-weight: bold\">[</span> <span style=\"color: #008080; text-decoration-color: #008080; font-weight: bold\">95.23809524</span>  <span style=\"color: #008080; text-decoration-color: #008080; font-weight: bold\">71.42857143</span>  <span style=\"color: #008080; text-decoration-color: #008080; font-weight: bold\">90.47619048</span>  <span style=\"color: #008080; text-decoration-color: #008080; font-weight: bold\">90.47619048</span>  <span style=\"color: #008080; text-decoration-color: #008080; font-weight: bold\">85.71428571</span>\n",
       "   <span style=\"color: #008080; text-decoration-color: #008080; font-weight: bold\">80.95238095</span>   <span style=\"color: #008080; text-decoration-color: #008080; font-weight: bold\">0</span>.          <span style=\"color: #008080; text-decoration-color: #008080; font-weight: bold\">76.19047619</span>  <span style=\"color: #008080; text-decoration-color: #008080; font-weight: bold\">76.19047619</span>  <span style=\"color: #008080; text-decoration-color: #008080; font-weight: bold\">76.19047619</span><span style=\"font-weight: bold\">]</span>\n",
       " <span style=\"font-weight: bold\">[</span> <span style=\"color: #008080; text-decoration-color: #008080; font-weight: bold\">95.23809524</span>  <span style=\"color: #008080; text-decoration-color: #008080; font-weight: bold\">71.42857143</span>  <span style=\"color: #008080; text-decoration-color: #008080; font-weight: bold\">95.23809524</span>  <span style=\"color: #008080; text-decoration-color: #008080; font-weight: bold\">95.23809524</span>  <span style=\"color: #008080; text-decoration-color: #008080; font-weight: bold\">76.19047619</span>\n",
       "   <span style=\"color: #008080; text-decoration-color: #008080; font-weight: bold\">76.19047619</span>  <span style=\"color: #008080; text-decoration-color: #008080; font-weight: bold\">76.19047619</span>   <span style=\"color: #008080; text-decoration-color: #008080; font-weight: bold\">0</span>.          <span style=\"color: #008080; text-decoration-color: #008080; font-weight: bold\">85.71428571</span>  <span style=\"color: #008080; text-decoration-color: #008080; font-weight: bold\">80.95238095</span><span style=\"font-weight: bold\">]</span>\n",
       " <span style=\"font-weight: bold\">[</span> <span style=\"color: #008080; text-decoration-color: #008080; font-weight: bold\">95.23809524</span>  <span style=\"color: #008080; text-decoration-color: #008080; font-weight: bold\">76.19047619</span>  <span style=\"color: #008080; text-decoration-color: #008080; font-weight: bold\">95.23809524</span>  <span style=\"color: #008080; text-decoration-color: #008080; font-weight: bold\">66.66666667</span>  <span style=\"color: #008080; text-decoration-color: #008080; font-weight: bold\">80.95238095</span>\n",
       "   <span style=\"color: #008080; text-decoration-color: #008080; font-weight: bold\">66.66666667</span>  <span style=\"color: #008080; text-decoration-color: #008080; font-weight: bold\">76.19047619</span>  <span style=\"color: #008080; text-decoration-color: #008080; font-weight: bold\">85.71428571</span>   <span style=\"color: #008080; text-decoration-color: #008080; font-weight: bold\">0</span>.          <span style=\"color: #008080; text-decoration-color: #008080; font-weight: bold\">76.19047619</span><span style=\"font-weight: bold\">]</span>\n",
       " <span style=\"font-weight: bold\">[</span> <span style=\"color: #008080; text-decoration-color: #008080; font-weight: bold\">95.23809524</span>  <span style=\"color: #008080; text-decoration-color: #008080; font-weight: bold\">71.42857143</span>  <span style=\"color: #008080; text-decoration-color: #008080; font-weight: bold\">90.47619048</span>  <span style=\"color: #008080; text-decoration-color: #008080; font-weight: bold\">95.23809524</span>  <span style=\"color: #008080; text-decoration-color: #008080; font-weight: bold\">71.42857143</span>\n",
       "   <span style=\"color: #008080; text-decoration-color: #008080; font-weight: bold\">66.66666667</span>  <span style=\"color: #008080; text-decoration-color: #008080; font-weight: bold\">76.19047619</span>  <span style=\"color: #008080; text-decoration-color: #008080; font-weight: bold\">80.95238095</span>  <span style=\"color: #008080; text-decoration-color: #008080; font-weight: bold\">76.19047619</span>   <span style=\"color: #008080; text-decoration-color: #008080; font-weight: bold\">0</span>.        <span style=\"font-weight: bold\">]]</span>\n",
       "</pre>\n"
      ],
      "text/plain": [
       "\u001b[1m[\u001b[0m\u001b[1m[\u001b[0m  \u001b[1;36m0\u001b[0m.         \u001b[1;36m100\u001b[0m.          \u001b[1;36m90.47619048\u001b[0m  \u001b[1;36m80.95238095\u001b[0m  \u001b[1;36m95.23809524\u001b[0m\n",
       "   \u001b[1;36m95.23809524\u001b[0m  \u001b[1;36m95.23809524\u001b[0m  \u001b[1;36m95.23809524\u001b[0m  \u001b[1;36m95.23809524\u001b[0m  \u001b[1;36m95.23809524\u001b[0m\u001b[1m]\u001b[0m\n",
       " \u001b[1m[\u001b[0m\u001b[1;36m100\u001b[0m.           \u001b[1;36m0\u001b[0m.          \u001b[1;36m90.47619048\u001b[0m  \u001b[1;36m90.47619048\u001b[0m  \u001b[1;36m80.95238095\u001b[0m\n",
       "   \u001b[1;36m76.19047619\u001b[0m  \u001b[1;36m71.42857143\u001b[0m  \u001b[1;36m71.42857143\u001b[0m  \u001b[1;36m76.19047619\u001b[0m  \u001b[1;36m71.42857143\u001b[0m\u001b[1m]\u001b[0m\n",
       " \u001b[1m[\u001b[0m \u001b[1;36m90.47619048\u001b[0m  \u001b[1;36m90.47619048\u001b[0m   \u001b[1;36m0\u001b[0m.         \u001b[1;36m100\u001b[0m.          \u001b[1;36m95.23809524\u001b[0m\n",
       "   \u001b[1;36m80.95238095\u001b[0m  \u001b[1;36m90.47619048\u001b[0m  \u001b[1;36m95.23809524\u001b[0m  \u001b[1;36m95.23809524\u001b[0m  \u001b[1;36m90.47619048\u001b[0m\u001b[1m]\u001b[0m\n",
       " \u001b[1m[\u001b[0m \u001b[1;36m80.95238095\u001b[0m  \u001b[1;36m90.47619048\u001b[0m \u001b[1;36m100\u001b[0m.           \u001b[1;36m0\u001b[0m.          \u001b[1;36m90.47619048\u001b[0m\n",
       "   \u001b[1;36m95.23809524\u001b[0m  \u001b[1;36m90.47619048\u001b[0m  \u001b[1;36m95.23809524\u001b[0m  \u001b[1;36m66.66666667\u001b[0m  \u001b[1;36m95.23809524\u001b[0m\u001b[1m]\u001b[0m\n",
       " \u001b[1m[\u001b[0m \u001b[1;36m95.23809524\u001b[0m  \u001b[1;36m80.95238095\u001b[0m  \u001b[1;36m95.23809524\u001b[0m  \u001b[1;36m90.47619048\u001b[0m   \u001b[1;36m0\u001b[0m.\n",
       "   \u001b[1;36m80.95238095\u001b[0m  \u001b[1;36m85.71428571\u001b[0m  \u001b[1;36m76.19047619\u001b[0m  \u001b[1;36m80.95238095\u001b[0m  \u001b[1;36m71.42857143\u001b[0m\u001b[1m]\u001b[0m\n",
       " \u001b[1m[\u001b[0m \u001b[1;36m95.23809524\u001b[0m  \u001b[1;36m76.19047619\u001b[0m  \u001b[1;36m80.95238095\u001b[0m  \u001b[1;36m95.23809524\u001b[0m  \u001b[1;36m80.95238095\u001b[0m\n",
       "    \u001b[1;36m0\u001b[0m.          \u001b[1;36m80.95238095\u001b[0m  \u001b[1;36m76.19047619\u001b[0m  \u001b[1;36m66.66666667\u001b[0m  \u001b[1;36m66.66666667\u001b[0m\u001b[1m]\u001b[0m\n",
       " \u001b[1m[\u001b[0m \u001b[1;36m95.23809524\u001b[0m  \u001b[1;36m71.42857143\u001b[0m  \u001b[1;36m90.47619048\u001b[0m  \u001b[1;36m90.47619048\u001b[0m  \u001b[1;36m85.71428571\u001b[0m\n",
       "   \u001b[1;36m80.95238095\u001b[0m   \u001b[1;36m0\u001b[0m.          \u001b[1;36m76.19047619\u001b[0m  \u001b[1;36m76.19047619\u001b[0m  \u001b[1;36m76.19047619\u001b[0m\u001b[1m]\u001b[0m\n",
       " \u001b[1m[\u001b[0m \u001b[1;36m95.23809524\u001b[0m  \u001b[1;36m71.42857143\u001b[0m  \u001b[1;36m95.23809524\u001b[0m  \u001b[1;36m95.23809524\u001b[0m  \u001b[1;36m76.19047619\u001b[0m\n",
       "   \u001b[1;36m76.19047619\u001b[0m  \u001b[1;36m76.19047619\u001b[0m   \u001b[1;36m0\u001b[0m.          \u001b[1;36m85.71428571\u001b[0m  \u001b[1;36m80.95238095\u001b[0m\u001b[1m]\u001b[0m\n",
       " \u001b[1m[\u001b[0m \u001b[1;36m95.23809524\u001b[0m  \u001b[1;36m76.19047619\u001b[0m  \u001b[1;36m95.23809524\u001b[0m  \u001b[1;36m66.66666667\u001b[0m  \u001b[1;36m80.95238095\u001b[0m\n",
       "   \u001b[1;36m66.66666667\u001b[0m  \u001b[1;36m76.19047619\u001b[0m  \u001b[1;36m85.71428571\u001b[0m   \u001b[1;36m0\u001b[0m.          \u001b[1;36m76.19047619\u001b[0m\u001b[1m]\u001b[0m\n",
       " \u001b[1m[\u001b[0m \u001b[1;36m95.23809524\u001b[0m  \u001b[1;36m71.42857143\u001b[0m  \u001b[1;36m90.47619048\u001b[0m  \u001b[1;36m95.23809524\u001b[0m  \u001b[1;36m71.42857143\u001b[0m\n",
       "   \u001b[1;36m66.66666667\u001b[0m  \u001b[1;36m76.19047619\u001b[0m  \u001b[1;36m80.95238095\u001b[0m  \u001b[1;36m76.19047619\u001b[0m   \u001b[1;36m0\u001b[0m.        \u001b[1m]\u001b[0m\u001b[1m]\u001b[0m\n"
      ]
     },
     "metadata": {},
     "output_type": "display_data"
    }
   ],
   "source": [
    "# Python has external libraries for calculation of sequence distances with common correction methods. \n",
    "# I will calculate the distance myself here.\n",
    "\n",
    "# You can optimize this code, realizing the matrix is a symmetric matrix\n",
    "# (so you only have to calculate one half of the matrix). And that\n",
    "# diagonals are zeros (so you don't have to calculate the diagonals.\n",
    "\n",
    "dists = np.zeros((N,N))\n",
    "\n",
    "for i in range(N):\n",
    "    for j in range(N):\n",
    "        # You need to define distances between entries. I will use the \n",
    "        # \"p-distance\", i.e., percentage of mismatched characters as the distance measure. \n",
    "        # One can apply a distance correction strategy to get a more accurate evolutionary \n",
    "        # time metric, but I will not do that here.\n",
    "        # If the sequences weren't pre-aligned, you would need to align them first before \n",
    "        # calculating their distance.\n",
    "        dists[i,j] = sum([ 1  for k in range(0,len(seqs[i])) if seqs[i][k]!=seqs[j][k] ])/float(len(seqs[i])) * 100\n",
    "\n",
    "rich.print(dists)"
   ]
  },
  {
   "cell_type": "code",
   "execution_count": 24,
   "metadata": {},
   "outputs": [
    {
     "data": {
      "image/png": "[encoded data removed]",
      "text/plain": [
       "<Figure size 1008x360 with 1 Axes>"
      ]
     },
     "metadata": {
      "needs_background": "light"
     },
     "output_type": "display_data"
    }
   ],
   "source": [
    "# Construct and draw the phylogenetic tree\n",
    "phy = hierarchy.linkage(distance.squareform(dists), \"average\")\n",
    "\n",
    "plt.figure(figsize=(14,5))\n",
    "hierarchy.dendrogram(phy, orientation='top', labels=names, distance_sort='descending',\n",
    "                     show_leaf_counts=True)\n",
    "plt.xticks(rotation=45)\n",
    "plt.show()\n",
    "\n",
    "# The x axis shows \"the distance at which entries merge\" rather than \"distance from ancestor\". \n",
    "# You can divide the x tick labels shown here by 2 to obtain the distance from ancestor \n",
    "# (ie. the branch lengths)."
   ]
  },
  {
   "cell_type": "code",
   "execution_count": 68,
   "metadata": {},
   "outputs": [
    {
     "data": {
      "image/png": "[encoded data removed]",
      "text/plain": [
       "<Figure size 1008x360 with 1 Axes>"
      ]
     },
     "metadata": {
      "needs_background": "light"
     },
     "output_type": "display_data"
    }
   ],
   "source": [
    "# Construct and draw the phylogenetic tree\n",
    "phy = hierarchy.linkage(distance.squareform(dist), \"average\")\n",
    "\n",
    "plt.figure(figsize=(14,5))\n",
    "hierarchy.dendrogram(phy, orientation='top', labels=names, distance_sort='descending',\n",
    "                     show_leaf_counts=True)\n",
    "plt.xticks(rotation=45)\n",
    "plt.show()"
   ]
  },
  {
   "cell_type": "code",
   "execution_count": 17,
   "metadata": {},
   "outputs": [
    {
     "data": {
      "application/vnd.plotly.v1+json": {
       "config": {
        "plotlyServerURL": "https://plot.ly"
       },
       "data": [
        {
         "hoverinfo": "text",
         "marker": {
          "color": "rgb(61,153,112)"
         },
         "mode": "lines",
         "type": "scatter",
         "x": [
          5,
          5,
          15,
          15
         ],
         "xaxis": "x",
         "y": [
          0,
          3,
          3,
          0
         ],
         "yaxis": "y"
        },
        {
         "hoverinfo": "text",
         "marker": {
          "color": "rgb(255,65,54)"
         },
         "mode": "lines",
         "type": "scatter",
         "x": [
          45,
          45,
          55,
          55
         ],
         "xaxis": "x",
         "y": [
          0,
          2,
          2,
          0
         ],
         "yaxis": "y"
        },
        {
         "hoverinfo": "text",
         "marker": {
          "color": "rgb(255,65,54)"
         },
         "mode": "lines",
         "type": "scatter",
         "x": [
          35,
          35,
          50,
          50
         ],
         "xaxis": "x",
         "y": [
          0,
          4,
          4,
          2
         ],
         "yaxis": "y"
        },
        {
         "hoverinfo": "text",
         "marker": {
          "color": "rgb(255,65,54)"
         },
         "mode": "lines",
         "type": "scatter",
         "x": [
          25,
          25,
          42.5,
          42.5
         ],
         "xaxis": "x",
         "y": [
          0,
          6,
          6,
          4
         ],
         "yaxis": "y"
        },
        {
         "hoverinfo": "text",
         "marker": {
          "color": "rgb(0,116,217)"
         },
         "mode": "lines",
         "type": "scatter",
         "x": [
          10,
          10,
          33.75,
          33.75
         ],
         "xaxis": "x",
         "y": [
          3,
          20,
          20,
          6
         ],
         "yaxis": "y"
        }
       ],
       "layout": {
        "autosize": false,
        "height": null,
        "hovermode": "closest",
        "showlegend": false,
        "template": {
         "data": {
          "bar": [
           {
            "error_x": {
             "color": "#2a3f5f"
            },
            "error_y": {
             "color": "#2a3f5f"
            },
            "marker": {
             "line": {
              "color": "#E5ECF6",
              "width": 0.5
             },
             "pattern": {
              "fillmode": "overlay",
              "size": 10,
              "solidity": 0.2
             }
            },
            "type": "bar"
           }
          ],
          "barpolar": [
           {
            "marker": {
             "line": {
              "color": "#E5ECF6",
              "width": 0.5
             },
             "pattern": {
              "fillmode": "overlay",
              "size": 10,
              "solidity": 0.2
             }
            },
            "type": "barpolar"
           }
          ],
          "carpet": [
           {
            "aaxis": {
             "endlinecolor": "#2a3f5f",
             "gridcolor": "white",
             "linecolor": "white",
             "minorgridcolor": "white",
             "startlinecolor": "#2a3f5f"
            },
            "baxis": {
             "endlinecolor": "#2a3f5f",
             "gridcolor": "white",
             "linecolor": "white",
             "minorgridcolor": "white",
             "startlinecolor": "#2a3f5f"
            },
            "type": "carpet"
           }
          ],
          "choropleth": [
           {
            "colorbar": {
             "outlinewidth": 0,
             "ticks": ""
            },
            "type": "choropleth"
           }
          ],
          "contour": [
           {
            "colorbar": {
             "outlinewidth": 0,
             "ticks": ""
            },
            "colorscale": [
             [
              0,
              "#0d0887"
             ],
             [
              0.1111111111111111,
              "#46039f"
             ],
             [
              0.2222222222222222,
              "#7201a8"
             ],
             [
              0.3333333333333333,
              "#9c179e"
             ],
             [
              0.4444444444444444,
              "#bd3786"
             ],
             [
              0.5555555555555556,
              "#d8576b"
             ],
             [
              0.6666666666666666,
              "#ed7953"
             ],
             [
              0.7777777777777778,
              "#fb9f3a"
             ],
             [
              0.8888888888888888,
              "#fdca26"
             ],
             [
              1,
              "#f0f921"
             ]
            ],
            "type": "contour"
           }
          ],
          "contourcarpet": [
           {
            "colorbar": {
             "outlinewidth": 0,
             "ticks": ""
            },
            "type": "contourcarpet"
           }
          ],
          "heatmap": [
           {
            "colorbar": {
             "outlinewidth": 0,
             "ticks": ""
            },
            "colorscale": [
             [
              0,
              "#0d0887"
             ],
             [
              0.1111111111111111,
              "#46039f"
             ],
             [
              0.2222222222222222,
              "#7201a8"
             ],
             [
              0.3333333333333333,
              "#9c179e"
             ],
             [
              0.4444444444444444,
              "#bd3786"
             ],
             [
              0.5555555555555556,
              "#d8576b"
             ],
             [
              0.6666666666666666,
              "#ed7953"
             ],
             [
              0.7777777777777778,
              "#fb9f3a"
             ],
             [
              0.8888888888888888,
              "#fdca26"
             ],
             [
              1,
              "#f0f921"
             ]
            ],
            "type": "heatmap"
           }
          ],
          "heatmapgl": [
           {
            "colorbar": {
             "outlinewidth": 0,
             "ticks": ""
            },
            "colorscale": [
             [
              0,
              "#0d0887"
             ],
             [
              0.1111111111111111,
              "#46039f"
             ],
             [
              0.2222222222222222,
              "#7201a8"
             ],
             [
              0.3333333333333333,
              "#9c179e"
             ],
             [
              0.4444444444444444,
              "#bd3786"
             ],
             [
              0.5555555555555556,
              "#d8576b"
             ],
             [
              0.6666666666666666,
              "#ed7953"
             ],
             [
              0.7777777777777778,
              "#fb9f3a"
             ],
             [
              0.8888888888888888,
              "#fdca26"
             ],
             [
              1,
              "#f0f921"
             ]
            ],
            "type": "heatmapgl"
           }
          ],
          "histogram": [
           {
            "marker": {
             "pattern": {
              "fillmode": "overlay",
              "size": 10,
              "solidity": 0.2
             }
            },
            "type": "histogram"
           }
          ],
          "histogram2d": [
           {
            "colorbar": {
             "outlinewidth": 0,
             "ticks": ""
            },
            "colorscale": [
             [
              0,
              "#0d0887"
             ],
             [
              0.1111111111111111,
              "#46039f"
             ],
             [
              0.2222222222222222,
              "#7201a8"
             ],
             [
              0.3333333333333333,
              "#9c179e"
             ],
             [
              0.4444444444444444,
              "#bd3786"
             ],
             [
              0.5555555555555556,
              "#d8576b"
             ],
             [
              0.6666666666666666,
              "#ed7953"
             ],
             [
              0.7777777777777778,
              "#fb9f3a"
             ],
             [
              0.8888888888888888,
              "#fdca26"
             ],
             [
              1,
              "#f0f921"
             ]
            ],
            "type": "histogram2d"
           }
          ],
          "histogram2dcontour": [
           {
            "colorbar": {
             "outlinewidth": 0,
             "ticks": ""
            },
            "colorscale": [
             [
              0,
              "#0d0887"
             ],
             [
              0.1111111111111111,
              "#46039f"
             ],
             [
              0.2222222222222222,
              "#7201a8"
             ],
             [
              0.3333333333333333,
              "#9c179e"
             ],
             [
              0.4444444444444444,
              "#bd3786"
             ],
             [
              0.5555555555555556,
              "#d8576b"
             ],
             [
              0.6666666666666666,
              "#ed7953"
             ],
             [
              0.7777777777777778,
              "#fb9f3a"
             ],
             [
              0.8888888888888888,
              "#fdca26"
             ],
             [
              1,
              "#f0f921"
             ]
            ],
            "type": "histogram2dcontour"
           }
          ],
          "mesh3d": [
           {
            "colorbar": {
             "outlinewidth": 0,
             "ticks": ""
            },
            "type": "mesh3d"
           }
          ],
          "parcoords": [
           {
            "line": {
             "colorbar": {
              "outlinewidth": 0,
              "ticks": ""
             }
            },
            "type": "parcoords"
           }
          ],
          "pie": [
           {
            "automargin": true,
            "type": "pie"
           }
          ],
          "scatter": [
           {
            "marker": {
             "colorbar": {
              "outlinewidth": 0,
              "ticks": ""
             }
            },
            "type": "scatter"
           }
          ],
          "scatter3d": [
           {
            "line": {
             "colorbar": {
              "outlinewidth": 0,
              "ticks": ""
             }
            },
            "marker": {
             "colorbar": {
              "outlinewidth": 0,
              "ticks": ""
             }
            },
            "type": "scatter3d"
           }
          ],
          "scattercarpet": [
           {
            "marker": {
             "colorbar": {
              "outlinewidth": 0,
              "ticks": ""
             }
            },
            "type": "scattercarpet"
           }
          ],
          "scattergeo": [
           {
            "marker": {
             "colorbar": {
              "outlinewidth": 0,
              "ticks": ""
             }
            },
            "type": "scattergeo"
           }
          ],
          "scattergl": [
           {
            "marker": {
             "colorbar": {
              "outlinewidth": 0,
              "ticks": ""
             }
            },
            "type": "scattergl"
           }
          ],
          "scattermapbox": [
           {
            "marker": {
             "colorbar": {
              "outlinewidth": 0,
              "ticks": ""
             }
            },
            "type": "scattermapbox"
           }
          ],
          "scatterpolar": [
           {
            "marker": {
             "colorbar": {
              "outlinewidth": 0,
              "ticks": ""
             }
            },
            "type": "scatterpolar"
           }
          ],
          "scatterpolargl": [
           {
            "marker": {
             "colorbar": {
              "outlinewidth": 0,
              "ticks": ""
             }
            },
            "type": "scatterpolargl"
           }
          ],
          "scatterternary": [
           {
            "marker": {
             "colorbar": {
              "outlinewidth": 0,
              "ticks": ""
             }
            },
            "type": "scatterternary"
           }
          ],
          "surface": [
           {
            "colorbar": {
             "outlinewidth": 0,
             "ticks": ""
            },
            "colorscale": [
             [
              0,
              "#0d0887"
             ],
             [
              0.1111111111111111,
              "#46039f"
             ],
             [
              0.2222222222222222,
              "#7201a8"
             ],
             [
              0.3333333333333333,
              "#9c179e"
             ],
             [
              0.4444444444444444,
              "#bd3786"
             ],
             [
              0.5555555555555556,
              "#d8576b"
             ],
             [
              0.6666666666666666,
              "#ed7953"
             ],
             [
              0.7777777777777778,
              "#fb9f3a"
             ],
             [
              0.8888888888888888,
              "#fdca26"
             ],
             [
              1,
              "#f0f921"
             ]
            ],
            "type": "surface"
           }
          ],
          "table": [
           {
            "cells": {
             "fill": {
              "color": "#EBF0F8"
             },
             "line": {
              "color": "white"
             }
            },
            "header": {
             "fill": {
              "color": "#C8D4E3"
             },
             "line": {
              "color": "white"
             }
            },
            "type": "table"
           }
          ]
         },
         "layout": {
          "annotationdefaults": {
           "arrowcolor": "#2a3f5f",
           "arrowhead": 0,
           "arrowwidth": 1
          },
          "autotypenumbers": "strict",
          "coloraxis": {
           "colorbar": {
            "outlinewidth": 0,
            "ticks": ""
           }
          },
          "colorscale": {
           "diverging": [
            [
             0,
             "#8e0152"
            ],
            [
             0.1,
             "#c51b7d"
            ],
            [
             0.2,
             "#de77ae"
            ],
            [
             0.3,
             "#f1b6da"
            ],
            [
             0.4,
             "#fde0ef"
            ],
            [
             0.5,
             "#f7f7f7"
            ],
            [
             0.6,
             "#e6f5d0"
            ],
            [
             0.7,
             "#b8e186"
            ],
            [
             0.8,
             "#7fbc41"
            ],
            [
             0.9,
             "#4d9221"
            ],
            [
             1,
             "#276419"
            ]
           ],
           "sequential": [
            [
             0,
             "#0d0887"
            ],
            [
             0.1111111111111111,
             "#46039f"
            ],
            [
             0.2222222222222222,
             "#7201a8"
            ],
            [
             0.3333333333333333,
             "#9c179e"
            ],
            [
             0.4444444444444444,
             "#bd3786"
            ],
            [
             0.5555555555555556,
             "#d8576b"
            ],
            [
             0.6666666666666666,
             "#ed7953"
            ],
            [
             0.7777777777777778,
             "#fb9f3a"
            ],
            [
             0.8888888888888888,
             "#fdca26"
            ],
            [
             1,
             "#f0f921"
            ]
           ],
           "sequentialminus": [
            [
             0,
             "#0d0887"
            ],
            [
             0.1111111111111111,
             "#46039f"
            ],
            [
             0.2222222222222222,
             "#7201a8"
            ],
            [
             0.3333333333333333,
             "#9c179e"
            ],
            [
             0.4444444444444444,
             "#bd3786"
            ],
            [
             0.5555555555555556,
             "#d8576b"
            ],
            [
             0.6666666666666666,
             "#ed7953"
            ],
            [
             0.7777777777777778,
             "#fb9f3a"
            ],
            [
             0.8888888888888888,
             "#fdca26"
            ],
            [
             1,
             "#f0f921"
            ]
           ]
          },
          "colorway": [
           "#636efa",
           "#EF553B",
           "#00cc96",
           "#ab63fa",
           "#FFA15A",
           "#19d3f3",
           "#FF6692",
           "#B6E880",
           "#FF97FF",
           "#FECB52"
          ],
          "font": {
           "color": "#2a3f5f"
          },
          "geo": {
           "bgcolor": "white",
           "lakecolor": "white",
           "landcolor": "#E5ECF6",
           "showlakes": true,
           "showland": true,
           "subunitcolor": "white"
          },
          "hoverlabel": {
           "align": "left"
          },
          "hovermode": "closest",
          "mapbox": {
           "style": "light"
          },
          "paper_bgcolor": "white",
          "plot_bgcolor": "#E5ECF6",
          "polar": {
           "angularaxis": {
            "gridcolor": "white",
            "linecolor": "white",
            "ticks": ""
           },
           "bgcolor": "#E5ECF6",
           "radialaxis": {
            "gridcolor": "white",
            "linecolor": "white",
            "ticks": ""
           }
          },
          "scene": {
           "xaxis": {
            "backgroundcolor": "#E5ECF6",
            "gridcolor": "white",
            "gridwidth": 2,
            "linecolor": "white",
            "showbackground": true,
            "ticks": "",
            "zerolinecolor": "white"
           },
           "yaxis": {
            "backgroundcolor": "#E5ECF6",
            "gridcolor": "white",
            "gridwidth": 2,
            "linecolor": "white",
            "showbackground": true,
            "ticks": "",
            "zerolinecolor": "white"
           },
           "zaxis": {
            "backgroundcolor": "#E5ECF6",
            "gridcolor": "white",
            "gridwidth": 2,
            "linecolor": "white",
            "showbackground": true,
            "ticks": "",
            "zerolinecolor": "white"
           }
          },
          "shapedefaults": {
           "line": {
            "color": "#2a3f5f"
           }
          },
          "ternary": {
           "aaxis": {
            "gridcolor": "white",
            "linecolor": "white",
            "ticks": ""
           },
           "baxis": {
            "gridcolor": "white",
            "linecolor": "white",
            "ticks": ""
           },
           "bgcolor": "#E5ECF6",
           "caxis": {
            "gridcolor": "white",
            "linecolor": "white",
            "ticks": ""
           }
          },
          "title": {
           "x": 0.05
          },
          "xaxis": {
           "automargin": true,
           "gridcolor": "white",
           "linecolor": "white",
           "ticks": "",
           "title": {
            "standoff": 15
           },
           "zerolinecolor": "white",
           "zerolinewidth": 2
          },
          "yaxis": {
           "automargin": true,
           "gridcolor": "white",
           "linecolor": "white",
           "ticks": "",
           "title": {
            "standoff": 15
           },
           "zerolinecolor": "white",
           "zerolinewidth": 2
          }
         }
        },
        "width": null,
        "xaxis": {
         "mirror": "allticks",
         "rangemode": "tozero",
         "showgrid": false,
         "showline": true,
         "showticklabels": true,
         "tickmode": "array",
         "ticks": "outside",
         "ticktext": [
          "B",
          "F",
          "C",
          "E",
          "A",
          "D"
         ],
         "tickvals": [
          5,
          15,
          25,
          35,
          45,
          55
         ],
         "type": "linear",
         "zeroline": false
        },
        "yaxis": {
         "mirror": "allticks",
         "rangemode": "tozero",
         "showgrid": false,
         "showline": true,
         "showticklabels": true,
         "ticks": "outside",
         "type": "linear",
         "zeroline": false
        }
       }
      },
      "text/html": [
       "<div>                            <div id=\"2c8cd0c7-6e8b-486a-8aaf-95b074e0d74b\" class=\"plotly-graph-div\" style=\"height:infpx; width:infpx;\"></div>            <script type=\"text/javascript\">                require([\"plotly\"], function(Plotly) {                    window.PLOTLYENV=window.PLOTLYENV || {};                                    if (document.getElementById(\"2c8cd0c7-6e8b-486a-8aaf-95b074e0d74b\")) {                    Plotly.newPlot(                        \"2c8cd0c7-6e8b-486a-8aaf-95b074e0d74b\",                        [{\"hoverinfo\":\"text\",\"marker\":{\"color\":\"rgb(61,153,112)\"},\"mode\":\"lines\",\"x\":[5.0,5.0,15.0,15.0],\"xaxis\":\"x\",\"y\":[0.0,3.0,3.0,0.0],\"yaxis\":\"y\",\"type\":\"scatter\"},{\"hoverinfo\":\"text\",\"marker\":{\"color\":\"rgb(255,65,54)\"},\"mode\":\"lines\",\"x\":[45.0,45.0,55.0,55.0],\"xaxis\":\"x\",\"y\":[0.0,2.0,2.0,0.0],\"yaxis\":\"y\",\"type\":\"scatter\"},{\"hoverinfo\":\"text\",\"marker\":{\"color\":\"rgb(255,65,54)\"},\"mode\":\"lines\",\"x\":[35.0,35.0,50.0,50.0],\"xaxis\":\"x\",\"y\":[0.0,4.0,4.0,2.0],\"yaxis\":\"y\",\"type\":\"scatter\"},{\"hoverinfo\":\"text\",\"marker\":{\"color\":\"rgb(255,65,54)\"},\"mode\":\"lines\",\"x\":[25.0,25.0,42.5,42.5],\"xaxis\":\"x\",\"y\":[0.0,6.0,6.0,4.0],\"yaxis\":\"y\",\"type\":\"scatter\"},{\"hoverinfo\":\"text\",\"marker\":{\"color\":\"rgb(0,116,217)\"},\"mode\":\"lines\",\"x\":[10.0,10.0,33.75,33.75],\"xaxis\":\"x\",\"y\":[3.0,20.0,20.0,6.0],\"yaxis\":\"y\",\"type\":\"scatter\"}],                        {\"autosize\":false,\"height\":null,\"hovermode\":\"closest\",\"showlegend\":false,\"width\":null,\"xaxis\":{\"mirror\":\"allticks\",\"rangemode\":\"tozero\",\"showgrid\":false,\"showline\":true,\"showticklabels\":true,\"tickmode\":\"array\",\"ticks\":\"outside\",\"ticktext\":[\"B\",\"F\",\"C\",\"E\",\"A\",\"D\"],\"tickvals\":[5.0,15.0,25.0,35.0,45.0,55.0],\"type\":\"linear\",\"zeroline\":false},\"yaxis\":{\"mirror\":\"allticks\",\"rangemode\":\"tozero\",\"showgrid\":false,\"showline\":true,\"showticklabels\":true,\"ticks\":\"outside\",\"type\":\"linear\",\"zeroline\":false},\"template\":{\"data\":{\"bar\":[{\"error_x\":{\"color\":\"#2a3f5f\"},\"error_y\":{\"color\":\"#2a3f5f\"},\"marker\":{\"line\":{\"color\":\"#E5ECF6\",\"width\":0.5},\"pattern\":{\"fillmode\":\"overlay\",\"size\":10,\"solidity\":0.2}},\"type\":\"bar\"}],\"barpolar\":[{\"marker\":{\"line\":{\"color\":\"#E5ECF6\",\"width\":0.5},\"pattern\":{\"fillmode\":\"overlay\",\"size\":10,\"solidity\":0.2}},\"type\":\"barpolar\"}],\"carpet\":[{\"aaxis\":{\"endlinecolor\":\"#2a3f5f\",\"gridcolor\":\"white\",\"linecolor\":\"white\",\"minorgridcolor\":\"white\",\"startlinecolor\":\"#2a3f5f\"},\"baxis\":{\"endlinecolor\":\"#2a3f5f\",\"gridcolor\":\"white\",\"linecolor\":\"white\",\"minorgridcolor\":\"white\",\"startlinecolor\":\"#2a3f5f\"},\"type\":\"carpet\"}],\"choropleth\":[{\"colorbar\":{\"outlinewidth\":0,\"ticks\":\"\"},\"type\":\"choropleth\"}],\"contour\":[{\"colorbar\":{\"outlinewidth\":0,\"ticks\":\"\"},\"colorscale\":[[0.0,\"#0d0887\"],[0.1111111111111111,\"#46039f\"],[0.2222222222222222,\"#7201a8\"],[0.3333333333333333,\"#9c179e\"],[0.4444444444444444,\"#bd3786\"],[0.5555555555555556,\"#d8576b\"],[0.6666666666666666,\"#ed7953\"],[0.7777777777777778,\"#fb9f3a\"],[0.8888888888888888,\"#fdca26\"],[1.0,\"#f0f921\"]],\"type\":\"contour\"}],\"contourcarpet\":[{\"colorbar\":{\"outlinewidth\":0,\"ticks\":\"\"},\"type\":\"contourcarpet\"}],\"heatmap\":[{\"colorbar\":{\"outlinewidth\":0,\"ticks\":\"\"},\"colorscale\":[[0.0,\"#0d0887\"],[0.1111111111111111,\"#46039f\"],[0.2222222222222222,\"#7201a8\"],[0.3333333333333333,\"#9c179e\"],[0.4444444444444444,\"#bd3786\"],[0.5555555555555556,\"#d8576b\"],[0.6666666666666666,\"#ed7953\"],[0.7777777777777778,\"#fb9f3a\"],[0.8888888888888888,\"#fdca26\"],[1.0,\"#f0f921\"]],\"type\":\"heatmap\"}],\"heatmapgl\":[{\"colorbar\":{\"outlinewidth\":0,\"ticks\":\"\"},\"colorscale\":[[0.0,\"#0d0887\"],[0.1111111111111111,\"#46039f\"],[0.2222222222222222,\"#7201a8\"],[0.3333333333333333,\"#9c179e\"],[0.4444444444444444,\"#bd3786\"],[0.5555555555555556,\"#d8576b\"],[0.6666666666666666,\"#ed7953\"],[0.7777777777777778,\"#fb9f3a\"],[0.8888888888888888,\"#fdca26\"],[1.0,\"#f0f921\"]],\"type\":\"heatmapgl\"}],\"histogram\":[{\"marker\":{\"pattern\":{\"fillmode\":\"overlay\",\"size\":10,\"solidity\":0.2}},\"type\":\"histogram\"}],\"histogram2d\":[{\"colorbar\":{\"outlinewidth\":0,\"ticks\":\"\"},\"colorscale\":[[0.0,\"#0d0887\"],[0.1111111111111111,\"#46039f\"],[0.2222222222222222,\"#7201a8\"],[0.3333333333333333,\"#9c179e\"],[0.4444444444444444,\"#bd3786\"],[0.5555555555555556,\"#d8576b\"],[0.6666666666666666,\"#ed7953\"],[0.7777777777777778,\"#fb9f3a\"],[0.8888888888888888,\"#fdca26\"],[1.0,\"#f0f921\"]],\"type\":\"histogram2d\"}],\"histogram2dcontour\":[{\"colorbar\":{\"outlinewidth\":0,\"ticks\":\"\"},\"colorscale\":[[0.0,\"#0d0887\"],[0.1111111111111111,\"#46039f\"],[0.2222222222222222,\"#7201a8\"],[0.3333333333333333,\"#9c179e\"],[0.4444444444444444,\"#bd3786\"],[0.5555555555555556,\"#d8576b\"],[0.6666666666666666,\"#ed7953\"],[0.7777777777777778,\"#fb9f3a\"],[0.8888888888888888,\"#fdca26\"],[1.0,\"#f0f921\"]],\"type\":\"histogram2dcontour\"}],\"mesh3d\":[{\"colorbar\":{\"outlinewidth\":0,\"ticks\":\"\"},\"type\":\"mesh3d\"}],\"parcoords\":[{\"line\":{\"colorbar\":{\"outlinewidth\":0,\"ticks\":\"\"}},\"type\":\"parcoords\"}],\"pie\":[{\"automargin\":true,\"type\":\"pie\"}],\"scatter\":[{\"marker\":{\"colorbar\":{\"outlinewidth\":0,\"ticks\":\"\"}},\"type\":\"scatter\"}],\"scatter3d\":[{\"line\":{\"colorbar\":{\"outlinewidth\":0,\"ticks\":\"\"}},\"marker\":{\"colorbar\":{\"outlinewidth\":0,\"ticks\":\"\"}},\"type\":\"scatter3d\"}],\"scattercarpet\":[{\"marker\":{\"colorbar\":{\"outlinewidth\":0,\"ticks\":\"\"}},\"type\":\"scattercarpet\"}],\"scattergeo\":[{\"marker\":{\"colorbar\":{\"outlinewidth\":0,\"ticks\":\"\"}},\"type\":\"scattergeo\"}],\"scattergl\":[{\"marker\":{\"colorbar\":{\"outlinewidth\":0,\"ticks\":\"\"}},\"type\":\"scattergl\"}],\"scattermapbox\":[{\"marker\":{\"colorbar\":{\"outlinewidth\":0,\"ticks\":\"\"}},\"type\":\"scattermapbox\"}],\"scatterpolar\":[{\"marker\":{\"colorbar\":{\"outlinewidth\":0,\"ticks\":\"\"}},\"type\":\"scatterpolar\"}],\"scatterpolargl\":[{\"marker\":{\"colorbar\":{\"outlinewidth\":0,\"ticks\":\"\"}},\"type\":\"scatterpolargl\"}],\"scatterternary\":[{\"marker\":{\"colorbar\":{\"outlinewidth\":0,\"ticks\":\"\"}},\"type\":\"scatterternary\"}],\"surface\":[{\"colorbar\":{\"outlinewidth\":0,\"ticks\":\"\"},\"colorscale\":[[0.0,\"#0d0887\"],[0.1111111111111111,\"#46039f\"],[0.2222222222222222,\"#7201a8\"],[0.3333333333333333,\"#9c179e\"],[0.4444444444444444,\"#bd3786\"],[0.5555555555555556,\"#d8576b\"],[0.6666666666666666,\"#ed7953\"],[0.7777777777777778,\"#fb9f3a\"],[0.8888888888888888,\"#fdca26\"],[1.0,\"#f0f921\"]],\"type\":\"surface\"}],\"table\":[{\"cells\":{\"fill\":{\"color\":\"#EBF0F8\"},\"line\":{\"color\":\"white\"}},\"header\":{\"fill\":{\"color\":\"#C8D4E3\"},\"line\":{\"color\":\"white\"}},\"type\":\"table\"}]},\"layout\":{\"annotationdefaults\":{\"arrowcolor\":\"#2a3f5f\",\"arrowhead\":0,\"arrowwidth\":1},\"autotypenumbers\":\"strict\",\"coloraxis\":{\"colorbar\":{\"outlinewidth\":0,\"ticks\":\"\"}},\"colorscale\":{\"diverging\":[[0,\"#8e0152\"],[0.1,\"#c51b7d\"],[0.2,\"#de77ae\"],[0.3,\"#f1b6da\"],[0.4,\"#fde0ef\"],[0.5,\"#f7f7f7\"],[0.6,\"#e6f5d0\"],[0.7,\"#b8e186\"],[0.8,\"#7fbc41\"],[0.9,\"#4d9221\"],[1,\"#276419\"]],\"sequential\":[[0.0,\"#0d0887\"],[0.1111111111111111,\"#46039f\"],[0.2222222222222222,\"#7201a8\"],[0.3333333333333333,\"#9c179e\"],[0.4444444444444444,\"#bd3786\"],[0.5555555555555556,\"#d8576b\"],[0.6666666666666666,\"#ed7953\"],[0.7777777777777778,\"#fb9f3a\"],[0.8888888888888888,\"#fdca26\"],[1.0,\"#f0f921\"]],\"sequentialminus\":[[0.0,\"#0d0887\"],[0.1111111111111111,\"#46039f\"],[0.2222222222222222,\"#7201a8\"],[0.3333333333333333,\"#9c179e\"],[0.4444444444444444,\"#bd3786\"],[0.5555555555555556,\"#d8576b\"],[0.6666666666666666,\"#ed7953\"],[0.7777777777777778,\"#fb9f3a\"],[0.8888888888888888,\"#fdca26\"],[1.0,\"#f0f921\"]]},\"colorway\":[\"#636efa\",\"#EF553B\",\"#00cc96\",\"#ab63fa\",\"#FFA15A\",\"#19d3f3\",\"#FF6692\",\"#B6E880\",\"#FF97FF\",\"#FECB52\"],\"font\":{\"color\":\"#2a3f5f\"},\"geo\":{\"bgcolor\":\"white\",\"lakecolor\":\"white\",\"landcolor\":\"#E5ECF6\",\"showlakes\":true,\"showland\":true,\"subunitcolor\":\"white\"},\"hoverlabel\":{\"align\":\"left\"},\"hovermode\":\"closest\",\"mapbox\":{\"style\":\"light\"},\"paper_bgcolor\":\"white\",\"plot_bgcolor\":\"#E5ECF6\",\"polar\":{\"angularaxis\":{\"gridcolor\":\"white\",\"linecolor\":\"white\",\"ticks\":\"\"},\"bgcolor\":\"#E5ECF6\",\"radialaxis\":{\"gridcolor\":\"white\",\"linecolor\":\"white\",\"ticks\":\"\"}},\"scene\":{\"xaxis\":{\"backgroundcolor\":\"#E5ECF6\",\"gridcolor\":\"white\",\"gridwidth\":2,\"linecolor\":\"white\",\"showbackground\":true,\"ticks\":\"\",\"zerolinecolor\":\"white\"},\"yaxis\":{\"backgroundcolor\":\"#E5ECF6\",\"gridcolor\":\"white\",\"gridwidth\":2,\"linecolor\":\"white\",\"showbackground\":true,\"ticks\":\"\",\"zerolinecolor\":\"white\"},\"zaxis\":{\"backgroundcolor\":\"#E5ECF6\",\"gridcolor\":\"white\",\"gridwidth\":2,\"linecolor\":\"white\",\"showbackground\":true,\"ticks\":\"\",\"zerolinecolor\":\"white\"}},\"shapedefaults\":{\"line\":{\"color\":\"#2a3f5f\"}},\"ternary\":{\"aaxis\":{\"gridcolor\":\"white\",\"linecolor\":\"white\",\"ticks\":\"\"},\"baxis\":{\"gridcolor\":\"white\",\"linecolor\":\"white\",\"ticks\":\"\"},\"bgcolor\":\"#E5ECF6\",\"caxis\":{\"gridcolor\":\"white\",\"linecolor\":\"white\",\"ticks\":\"\"}},\"title\":{\"x\":0.05},\"xaxis\":{\"automargin\":true,\"gridcolor\":\"white\",\"linecolor\":\"white\",\"ticks\":\"\",\"title\":{\"standoff\":15},\"zerolinecolor\":\"white\",\"zerolinewidth\":2},\"yaxis\":{\"automargin\":true,\"gridcolor\":\"white\",\"linecolor\":\"white\",\"ticks\":\"\",\"title\":{\"standoff\":15},\"zerolinecolor\":\"white\",\"zerolinewidth\":2}}}},                        {\"responsive\": true}                    ).then(function(){\n",
       "                            \n",
       "var gd = document.getElementById('2c8cd0c7-6e8b-486a-8aaf-95b074e0d74b');\n",
       "var x = new MutationObserver(function (mutations, observer) {{\n",
       "        var display = window.getComputedStyle(gd).display;\n",
       "        if (!display || display === 'none') {{\n",
       "            console.log([gd, 'removed!']);\n",
       "            Plotly.purge(gd);\n",
       "            observer.disconnect();\n",
       "        }}\n",
       "}});\n",
       "\n",
       "// Listen for the removal of the full notebook cells\n",
       "var notebookContainer = gd.closest('#notebook-container');\n",
       "if (notebookContainer) {{\n",
       "    x.observe(notebookContainer, {childList: true});\n",
       "}}\n",
       "\n",
       "// Listen for the clearing of the current output cell\n",
       "var outputEl = gd.closest('.output');\n",
       "if (outputEl) {{\n",
       "    x.observe(outputEl, {childList: true});\n",
       "}}\n",
       "\n",
       "                        })                };                });            </script>        </div>"
      ]
     },
     "metadata": {},
     "output_type": "display_data"
    }
   ],
   "source": [
    "import plotly.figure_factory as ff\n",
    "\n",
    "\n",
    "fig = ff.create_dendrogram(dist, labels=names,\n",
    "distfun=lambda x: distance.squareform(np.where(x, x, x.T)),\n",
    "linkagefun=lambda x: hierarchy.linkage(x, 'complete'))\n",
    "fig.show()"
   ]
  },
  {
   "cell_type": "code",
   "execution_count": 10,
   "metadata": {},
   "outputs": [
    {
     "data": {
      "image/png": "[encoded data removed]",
      "text/plain": [
       "<Figure size 1008x360 with 1 Axes>"
      ]
     },
     "metadata": {
      "needs_background": "light"
     },
     "output_type": "display_data"
    }
   ],
   "source": [
    "names = ['A', 'B', 'C', 'D', 'E', 'F']\n",
    "dist = np.array([[0, 4,  3, 2, 4, 11], [0, 0, 20, 8, 6,  3], [0, 0,  0, 6, 5, 18],\n",
    "                [0, 0,  0, 0, 3, 13], [0, 0,  0, 0, 0,  8], [0, 0,  0, 0, 0,  0]])\n",
    "phy = hierarchy.linkage(distance.squareform(np.where(dist, dist, dist.T)), 'complete')\n",
    "\n",
    "mpl_fig = plt.figure(figsize=(14,5))\n",
    "hierarchy.dendrogram(phy, orientation='top', labels=names, distance_sort='descending',\n",
    "                     show_leaf_counts=True)\n",
    "plt.xticks(rotation=45)\n",
    "plt.show()"
   ]
  },
  {
   "cell_type": "code",
   "execution_count": 34,
   "metadata": {},
   "outputs": [
    {
     "data": {
      "image/png": "[encoded data removed]",
      "text/plain": [
       "<Figure size 1008x360 with 1 Axes>"
      ]
     },
     "metadata": {
      "needs_background": "light"
     },
     "output_type": "display_data"
    }
   ],
   "source": [
    "names = ['A', 'B', 'C', 'D', 'E', 'F']\n",
    "dist = np.array([[0, 4,  3, 2, 4, 11], [0, 0, 20, 8, 6,  3], [0, 0,  0, 6, 5, 18],\n",
    "                [0, 0,  0, 0, 3, 13], [0, 0,  0, 0, 0,  8], [0, 0,  0, 0, 0,  0]])\n",
    "phy = hierarchy.linkage(distance.squareform(np.where(dist, dist, dist.T)), 'single')\n",
    "\n",
    "mpl_fig = plt.figure(figsize=(14,5))\n",
    "hierarchy.dendrogram(phy, orientation='top', labels=names, distance_sort='descending',\n",
    "                     show_leaf_counts=True)\n",
    "plt.xticks(rotation=45)\n",
    "plt.show()"
   ]
  },
  {
   "cell_type": "code",
   "execution_count": 31,
   "metadata": {},
   "outputs": [
    {
     "data": {
      "image/png": "[encoded data removed]",
      "text/plain": [
       "<Figure size 1008x360 with 1 Axes>"
      ]
     },
     "metadata": {
      "needs_background": "light"
     },
     "output_type": "display_data"
    }
   ],
   "source": [
    "names = ['A', 'B', 'C', 'D', 'E', 'F']\n",
    "dist = np.array([[0, 4,  3, 2, 4, 11], [0, 0, 20, 8, 6,  3], [0, 0,  0, 6, 5, 18],\n",
    "                [0, 0,  0, 0, 3, 13], [0, 0,  0, 0, 0,  8], [0, 0,  0, 0, 0,  0]])\n",
    "phy = hierarchy.linkage(distance.squareform(np.where(dist, dist, dist.T)), 'average')\n",
    "\n",
    "mpl_fig = plt.figure(figsize=(14,5))\n",
    "hierarchy.dendrogram(phy, orientation='top', labels=names, distance_sort='descending',\n",
    "                     show_leaf_counts=True)\n",
    "plt.xticks(rotation=45)\n",
    "plt.show()"
   ]
  },
  {
   "cell_type": "code",
   "execution_count": 33,
   "metadata": {},
   "outputs": [
    {
     "data": {
      "application/vnd.plotly.v1+json": {
       "config": {
        "plotlyServerURL": "https://plot.ly"
       },
       "data": [
        {
         "hoverinfo": "text",
         "marker": {
          "color": "rgb(61,153,112)"
         },
         "mode": "lines",
         "type": "scatter",
         "x": [
          5,
          5,
          15,
          15
         ],
         "xaxis": "x",
         "y": [
          0,
          3,
          3,
          0
         ],
         "yaxis": "y"
        },
        {
         "hoverinfo": "text",
         "marker": {
          "color": "rgb(255,65,54)"
         },
         "mode": "lines",
         "type": "scatter",
         "x": [
          45,
          45,
          55,
          55
         ],
         "xaxis": "x",
         "y": [
          0,
          2,
          2,
          0
         ],
         "yaxis": "y"
        },
        {
         "hoverinfo": "text",
         "marker": {
          "color": "rgb(255,65,54)"
         },
         "mode": "lines",
         "type": "scatter",
         "x": [
          35,
          35,
          50,
          50
         ],
         "xaxis": "x",
         "y": [
          0,
          3.5,
          3.5,
          2
         ],
         "yaxis": "y"
        },
        {
         "hoverinfo": "text",
         "marker": {
          "color": "rgb(255,65,54)"
         },
         "mode": "lines",
         "type": "scatter",
         "x": [
          25,
          25,
          42.5,
          42.5
         ],
         "xaxis": "x",
         "y": [
          0,
          4.666666666666667,
          4.666666666666667,
          3.5
         ],
         "yaxis": "y"
        },
        {
         "hoverinfo": "text",
         "marker": {
          "color": "rgb(0,116,217)"
         },
         "mode": "lines",
         "type": "scatter",
         "x": [
          10,
          10,
          33.75,
          33.75
         ],
         "xaxis": "x",
         "y": [
          3,
          11,
          11,
          4.666666666666667
         ],
         "yaxis": "y"
        }
       ],
       "layout": {
        "autosize": false,
        "height": null,
        "hovermode": "closest",
        "showlegend": false,
        "template": {
         "data": {
          "bar": [
           {
            "error_x": {
             "color": "#2a3f5f"
            },
            "error_y": {
             "color": "#2a3f5f"
            },
            "marker": {
             "line": {
              "color": "#E5ECF6",
              "width": 0.5
             },
             "pattern": {
              "fillmode": "overlay",
              "size": 10,
              "solidity": 0.2
             }
            },
            "type": "bar"
           }
          ],
          "barpolar": [
           {
            "marker": {
             "line": {
              "color": "#E5ECF6",
              "width": 0.5
             },
             "pattern": {
              "fillmode": "overlay",
              "size": 10,
              "solidity": 0.2
             }
            },
            "type": "barpolar"
           }
          ],
          "carpet": [
           {
            "aaxis": {
             "endlinecolor": "#2a3f5f",
             "gridcolor": "white",
             "linecolor": "white",
             "minorgridcolor": "white",
             "startlinecolor": "#2a3f5f"
            },
            "baxis": {
             "endlinecolor": "#2a3f5f",
             "gridcolor": "white",
             "linecolor": "white",
             "minorgridcolor": "white",
             "startlinecolor": "#2a3f5f"
            },
            "type": "carpet"
           }
          ],
          "choropleth": [
           {
            "colorbar": {
             "outlinewidth": 0,
             "ticks": ""
            },
            "type": "choropleth"
           }
          ],
          "contour": [
           {
            "colorbar": {
             "outlinewidth": 0,
             "ticks": ""
            },
            "colorscale": [
             [
              0,
              "#0d0887"
             ],
             [
              0.1111111111111111,
              "#46039f"
             ],
             [
              0.2222222222222222,
              "#7201a8"
             ],
             [
              0.3333333333333333,
              "#9c179e"
             ],
             [
              0.4444444444444444,
              "#bd3786"
             ],
             [
              0.5555555555555556,
              "#d8576b"
             ],
             [
              0.6666666666666666,
              "#ed7953"
             ],
             [
              0.7777777777777778,
              "#fb9f3a"
             ],
             [
              0.8888888888888888,
              "#fdca26"
             ],
             [
              1,
              "#f0f921"
             ]
            ],
            "type": "contour"
           }
          ],
          "contourcarpet": [
           {
            "colorbar": {
             "outlinewidth": 0,
             "ticks": ""
            },
            "type": "contourcarpet"
           }
          ],
          "heatmap": [
           {
            "colorbar": {
             "outlinewidth": 0,
             "ticks": ""
            },
            "colorscale": [
             [
              0,
              "#0d0887"
             ],
             [
              0.1111111111111111,
              "#46039f"
             ],
             [
              0.2222222222222222,
              "#7201a8"
             ],
             [
              0.3333333333333333,
              "#9c179e"
             ],
             [
              0.4444444444444444,
              "#bd3786"
             ],
             [
              0.5555555555555556,
              "#d8576b"
             ],
             [
              0.6666666666666666,
              "#ed7953"
             ],
             [
              0.7777777777777778,
              "#fb9f3a"
             ],
             [
              0.8888888888888888,
              "#fdca26"
             ],
             [
              1,
              "#f0f921"
             ]
            ],
            "type": "heatmap"
           }
          ],
          "heatmapgl": [
           {
            "colorbar": {
             "outlinewidth": 0,
             "ticks": ""
            },
            "colorscale": [
             [
              0,
              "#0d0887"
             ],
             [
              0.1111111111111111,
              "#46039f"
             ],
             [
              0.2222222222222222,
              "#7201a8"
             ],
             [
              0.3333333333333333,
              "#9c179e"
             ],
             [
              0.4444444444444444,
              "#bd3786"
             ],
             [
              0.5555555555555556,
              "#d8576b"
             ],
             [
              0.6666666666666666,
              "#ed7953"
             ],
             [
              0.7777777777777778,
              "#fb9f3a"
             ],
             [
              0.8888888888888888,
              "#fdca26"
             ],
             [
              1,
              "#f0f921"
             ]
            ],
            "type": "heatmapgl"
           }
          ],
          "histogram": [
           {
            "marker": {
             "pattern": {
              "fillmode": "overlay",
              "size": 10,
              "solidity": 0.2
             }
            },
            "type": "histogram"
           }
          ],
          "histogram2d": [
           {
            "colorbar": {
             "outlinewidth": 0,
             "ticks": ""
            },
            "colorscale": [
             [
              0,
              "#0d0887"
             ],
             [
              0.1111111111111111,
              "#46039f"
             ],
             [
              0.2222222222222222,
              "#7201a8"
             ],
             [
              0.3333333333333333,
              "#9c179e"
             ],
             [
              0.4444444444444444,
              "#bd3786"
             ],
             [
              0.5555555555555556,
              "#d8576b"
             ],
             [
              0.6666666666666666,
              "#ed7953"
             ],
             [
              0.7777777777777778,
              "#fb9f3a"
             ],
             [
              0.8888888888888888,
              "#fdca26"
             ],
             [
              1,
              "#f0f921"
             ]
            ],
            "type": "histogram2d"
           }
          ],
          "histogram2dcontour": [
           {
            "colorbar": {
             "outlinewidth": 0,
             "ticks": ""
            },
            "colorscale": [
             [
              0,
              "#0d0887"
             ],
             [
              0.1111111111111111,
              "#46039f"
             ],
             [
              0.2222222222222222,
              "#7201a8"
             ],
             [
              0.3333333333333333,
              "#9c179e"
             ],
             [
              0.4444444444444444,
              "#bd3786"
             ],
             [
              0.5555555555555556,
              "#d8576b"
             ],
             [
              0.6666666666666666,
              "#ed7953"
             ],
             [
              0.7777777777777778,
              "#fb9f3a"
             ],
             [
              0.8888888888888888,
              "#fdca26"
             ],
             [
              1,
              "#f0f921"
             ]
            ],
            "type": "histogram2dcontour"
           }
          ],
          "mesh3d": [
           {
            "colorbar": {
             "outlinewidth": 0,
             "ticks": ""
            },
            "type": "mesh3d"
           }
          ],
          "parcoords": [
           {
            "line": {
             "colorbar": {
              "outlinewidth": 0,
              "ticks": ""
             }
            },
            "type": "parcoords"
           }
          ],
          "pie": [
           {
            "automargin": true,
            "type": "pie"
           }
          ],
          "scatter": [
           {
            "marker": {
             "colorbar": {
              "outlinewidth": 0,
              "ticks": ""
             }
            },
            "type": "scatter"
           }
          ],
          "scatter3d": [
           {
            "line": {
             "colorbar": {
              "outlinewidth": 0,
              "ticks": ""
             }
            },
            "marker": {
             "colorbar": {
              "outlinewidth": 0,
              "ticks": ""
             }
            },
            "type": "scatter3d"
           }
          ],
          "scattercarpet": [
           {
            "marker": {
             "colorbar": {
              "outlinewidth": 0,
              "ticks": ""
             }
            },
            "type": "scattercarpet"
           }
          ],
          "scattergeo": [
           {
            "marker": {
             "colorbar": {
              "outlinewidth": 0,
              "ticks": ""
             }
            },
            "type": "scattergeo"
           }
          ],
          "scattergl": [
           {
            "marker": {
             "colorbar": {
              "outlinewidth": 0,
              "ticks": ""
             }
            },
            "type": "scattergl"
           }
          ],
          "scattermapbox": [
           {
            "marker": {
             "colorbar": {
              "outlinewidth": 0,
              "ticks": ""
             }
            },
            "type": "scattermapbox"
           }
          ],
          "scatterpolar": [
           {
            "marker": {
             "colorbar": {
              "outlinewidth": 0,
              "ticks": ""
             }
            },
            "type": "scatterpolar"
           }
          ],
          "scatterpolargl": [
           {
            "marker": {
             "colorbar": {
              "outlinewidth": 0,
              "ticks": ""
             }
            },
            "type": "scatterpolargl"
           }
          ],
          "scatterternary": [
           {
            "marker": {
             "colorbar": {
              "outlinewidth": 0,
              "ticks": ""
             }
            },
            "type": "scatterternary"
           }
          ],
          "surface": [
           {
            "colorbar": {
             "outlinewidth": 0,
             "ticks": ""
            },
            "colorscale": [
             [
              0,
              "#0d0887"
             ],
             [
              0.1111111111111111,
              "#46039f"
             ],
             [
              0.2222222222222222,
              "#7201a8"
             ],
             [
              0.3333333333333333,
              "#9c179e"
             ],
             [
              0.4444444444444444,
              "#bd3786"
             ],
             [
              0.5555555555555556,
              "#d8576b"
             ],
             [
              0.6666666666666666,
              "#ed7953"
             ],
             [
              0.7777777777777778,
              "#fb9f3a"
             ],
             [
              0.8888888888888888,
              "#fdca26"
             ],
             [
              1,
              "#f0f921"
             ]
            ],
            "type": "surface"
           }
          ],
          "table": [
           {
            "cells": {
             "fill": {
              "color": "#EBF0F8"
             },
             "line": {
              "color": "white"
             }
            },
            "header": {
             "fill": {
              "color": "#C8D4E3"
             },
             "line": {
              "color": "white"
             }
            },
            "type": "table"
           }
          ]
         },
         "layout": {
          "annotationdefaults": {
           "arrowcolor": "#2a3f5f",
           "arrowhead": 0,
           "arrowwidth": 1
          },
          "autotypenumbers": "strict",
          "coloraxis": {
           "colorbar": {
            "outlinewidth": 0,
            "ticks": ""
           }
          },
          "colorscale": {
           "diverging": [
            [
             0,
             "#8e0152"
            ],
            [
             0.1,
             "#c51b7d"
            ],
            [
             0.2,
             "#de77ae"
            ],
            [
             0.3,
             "#f1b6da"
            ],
            [
             0.4,
             "#fde0ef"
            ],
            [
             0.5,
             "#f7f7f7"
            ],
            [
             0.6,
             "#e6f5d0"
            ],
            [
             0.7,
             "#b8e186"
            ],
            [
             0.8,
             "#7fbc41"
            ],
            [
             0.9,
             "#4d9221"
            ],
            [
             1,
             "#276419"
            ]
           ],
           "sequential": [
            [
             0,
             "#0d0887"
            ],
            [
             0.1111111111111111,
             "#46039f"
            ],
            [
             0.2222222222222222,
             "#7201a8"
            ],
            [
             0.3333333333333333,
             "#9c179e"
            ],
            [
             0.4444444444444444,
             "#bd3786"
            ],
            [
             0.5555555555555556,
             "#d8576b"
            ],
            [
             0.6666666666666666,
             "#ed7953"
            ],
            [
             0.7777777777777778,
             "#fb9f3a"
            ],
            [
             0.8888888888888888,
             "#fdca26"
            ],
            [
             1,
             "#f0f921"
            ]
           ],
           "sequentialminus": [
            [
             0,
             "#0d0887"
            ],
            [
             0.1111111111111111,
             "#46039f"
            ],
            [
             0.2222222222222222,
             "#7201a8"
            ],
            [
             0.3333333333333333,
             "#9c179e"
            ],
            [
             0.4444444444444444,
             "#bd3786"
            ],
            [
             0.5555555555555556,
             "#d8576b"
            ],
            [
             0.6666666666666666,
             "#ed7953"
            ],
            [
             0.7777777777777778,
             "#fb9f3a"
            ],
            [
             0.8888888888888888,
             "#fdca26"
            ],
            [
             1,
             "#f0f921"
            ]
           ]
          },
          "colorway": [
           "#636efa",
           "#EF553B",
           "#00cc96",
           "#ab63fa",
           "#FFA15A",
           "#19d3f3",
           "#FF6692",
           "#B6E880",
           "#FF97FF",
           "#FECB52"
          ],
          "font": {
           "color": "#2a3f5f"
          },
          "geo": {
           "bgcolor": "white",
           "lakecolor": "white",
           "landcolor": "#E5ECF6",
           "showlakes": true,
           "showland": true,
           "subunitcolor": "white"
          },
          "hoverlabel": {
           "align": "left"
          },
          "hovermode": "closest",
          "mapbox": {
           "style": "light"
          },
          "paper_bgcolor": "white",
          "plot_bgcolor": "#E5ECF6",
          "polar": {
           "angularaxis": {
            "gridcolor": "white",
            "linecolor": "white",
            "ticks": ""
           },
           "bgcolor": "#E5ECF6",
           "radialaxis": {
            "gridcolor": "white",
            "linecolor": "white",
            "ticks": ""
           }
          },
          "scene": {
           "xaxis": {
            "backgroundcolor": "#E5ECF6",
            "gridcolor": "white",
            "gridwidth": 2,
            "linecolor": "white",
            "showbackground": true,
            "ticks": "",
            "zerolinecolor": "white"
           },
           "yaxis": {
            "backgroundcolor": "#E5ECF6",
            "gridcolor": "white",
            "gridwidth": 2,
            "linecolor": "white",
            "showbackground": true,
            "ticks": "",
            "zerolinecolor": "white"
           },
           "zaxis": {
            "backgroundcolor": "#E5ECF6",
            "gridcolor": "white",
            "gridwidth": 2,
            "linecolor": "white",
            "showbackground": true,
            "ticks": "",
            "zerolinecolor": "white"
           }
          },
          "shapedefaults": {
           "line": {
            "color": "#2a3f5f"
           }
          },
          "ternary": {
           "aaxis": {
            "gridcolor": "white",
            "linecolor": "white",
            "ticks": ""
           },
           "baxis": {
            "gridcolor": "white",
            "linecolor": "white",
            "ticks": ""
           },
           "bgcolor": "#E5ECF6",
           "caxis": {
            "gridcolor": "white",
            "linecolor": "white",
            "ticks": ""
           }
          },
          "title": {
           "x": 0.05
          },
          "xaxis": {
           "automargin": true,
           "gridcolor": "white",
           "linecolor": "white",
           "ticks": "",
           "title": {
            "standoff": 15
           },
           "zerolinecolor": "white",
           "zerolinewidth": 2
          },
          "yaxis": {
           "automargin": true,
           "gridcolor": "white",
           "linecolor": "white",
           "ticks": "",
           "title": {
            "standoff": 15
           },
           "zerolinecolor": "white",
           "zerolinewidth": 2
          }
         }
        },
        "width": null,
        "xaxis": {
         "mirror": "allticks",
         "rangemode": "tozero",
         "showgrid": false,
         "showline": true,
         "showticklabels": true,
         "tickmode": "array",
         "ticks": "outside",
         "ticktext": [
          "B",
          "F",
          "C",
          "E",
          "A",
          "D"
         ],
         "tickvals": [
          5,
          15,
          25,
          35,
          45,
          55
         ],
         "type": "linear",
         "zeroline": false
        },
        "yaxis": {
         "mirror": "allticks",
         "rangemode": "tozero",
         "showgrid": false,
         "showline": true,
         "showticklabels": true,
         "ticks": "outside",
         "type": "linear",
         "zeroline": false
        }
       }
      },
      "text/html": [
       "<div>                            <div id=\"ff580e1e-119f-4890-b951-708881dbaeeb\" class=\"plotly-graph-div\" style=\"height:infpx; width:infpx;\"></div>            <script type=\"text/javascript\">                require([\"plotly\"], function(Plotly) {                    window.PLOTLYENV=window.PLOTLYENV || {};                                    if (document.getElementById(\"ff580e1e-119f-4890-b951-708881dbaeeb\")) {                    Plotly.newPlot(                        \"ff580e1e-119f-4890-b951-708881dbaeeb\",                        [{\"hoverinfo\":\"text\",\"marker\":{\"color\":\"rgb(61,153,112)\"},\"mode\":\"lines\",\"x\":[5.0,5.0,15.0,15.0],\"xaxis\":\"x\",\"y\":[0.0,3.0,3.0,0.0],\"yaxis\":\"y\",\"type\":\"scatter\"},{\"hoverinfo\":\"text\",\"marker\":{\"color\":\"rgb(255,65,54)\"},\"mode\":\"lines\",\"x\":[45.0,45.0,55.0,55.0],\"xaxis\":\"x\",\"y\":[0.0,2.0,2.0,0.0],\"yaxis\":\"y\",\"type\":\"scatter\"},{\"hoverinfo\":\"text\",\"marker\":{\"color\":\"rgb(255,65,54)\"},\"mode\":\"lines\",\"x\":[35.0,35.0,50.0,50.0],\"xaxis\":\"x\",\"y\":[0.0,3.5,3.5,2.0],\"yaxis\":\"y\",\"type\":\"scatter\"},{\"hoverinfo\":\"text\",\"marker\":{\"color\":\"rgb(255,65,54)\"},\"mode\":\"lines\",\"x\":[25.0,25.0,42.5,42.5],\"xaxis\":\"x\",\"y\":[0.0,4.666666666666667,4.666666666666667,3.5],\"yaxis\":\"y\",\"type\":\"scatter\"},{\"hoverinfo\":\"text\",\"marker\":{\"color\":\"rgb(0,116,217)\"},\"mode\":\"lines\",\"x\":[10.0,10.0,33.75,33.75],\"xaxis\":\"x\",\"y\":[3.0,11.0,11.0,4.666666666666667],\"yaxis\":\"y\",\"type\":\"scatter\"}],                        {\"autosize\":false,\"height\":null,\"hovermode\":\"closest\",\"showlegend\":false,\"width\":null,\"xaxis\":{\"mirror\":\"allticks\",\"rangemode\":\"tozero\",\"showgrid\":false,\"showline\":true,\"showticklabels\":true,\"tickmode\":\"array\",\"ticks\":\"outside\",\"ticktext\":[\"B\",\"F\",\"C\",\"E\",\"A\",\"D\"],\"tickvals\":[5.0,15.0,25.0,35.0,45.0,55.0],\"type\":\"linear\",\"zeroline\":false},\"yaxis\":{\"mirror\":\"allticks\",\"rangemode\":\"tozero\",\"showgrid\":false,\"showline\":true,\"showticklabels\":true,\"ticks\":\"outside\",\"type\":\"linear\",\"zeroline\":false},\"template\":{\"data\":{\"bar\":[{\"error_x\":{\"color\":\"#2a3f5f\"},\"error_y\":{\"color\":\"#2a3f5f\"},\"marker\":{\"line\":{\"color\":\"#E5ECF6\",\"width\":0.5},\"pattern\":{\"fillmode\":\"overlay\",\"size\":10,\"solidity\":0.2}},\"type\":\"bar\"}],\"barpolar\":[{\"marker\":{\"line\":{\"color\":\"#E5ECF6\",\"width\":0.5},\"pattern\":{\"fillmode\":\"overlay\",\"size\":10,\"solidity\":0.2}},\"type\":\"barpolar\"}],\"carpet\":[{\"aaxis\":{\"endlinecolor\":\"#2a3f5f\",\"gridcolor\":\"white\",\"linecolor\":\"white\",\"minorgridcolor\":\"white\",\"startlinecolor\":\"#2a3f5f\"},\"baxis\":{\"endlinecolor\":\"#2a3f5f\",\"gridcolor\":\"white\",\"linecolor\":\"white\",\"minorgridcolor\":\"white\",\"startlinecolor\":\"#2a3f5f\"},\"type\":\"carpet\"}],\"choropleth\":[{\"colorbar\":{\"outlinewidth\":0,\"ticks\":\"\"},\"type\":\"choropleth\"}],\"contour\":[{\"colorbar\":{\"outlinewidth\":0,\"ticks\":\"\"},\"colorscale\":[[0.0,\"#0d0887\"],[0.1111111111111111,\"#46039f\"],[0.2222222222222222,\"#7201a8\"],[0.3333333333333333,\"#9c179e\"],[0.4444444444444444,\"#bd3786\"],[0.5555555555555556,\"#d8576b\"],[0.6666666666666666,\"#ed7953\"],[0.7777777777777778,\"#fb9f3a\"],[0.8888888888888888,\"#fdca26\"],[1.0,\"#f0f921\"]],\"type\":\"contour\"}],\"contourcarpet\":[{\"colorbar\":{\"outlinewidth\":0,\"ticks\":\"\"},\"type\":\"contourcarpet\"}],\"heatmap\":[{\"colorbar\":{\"outlinewidth\":0,\"ticks\":\"\"},\"colorscale\":[[0.0,\"#0d0887\"],[0.1111111111111111,\"#46039f\"],[0.2222222222222222,\"#7201a8\"],[0.3333333333333333,\"#9c179e\"],[0.4444444444444444,\"#bd3786\"],[0.5555555555555556,\"#d8576b\"],[0.6666666666666666,\"#ed7953\"],[0.7777777777777778,\"#fb9f3a\"],[0.8888888888888888,\"#fdca26\"],[1.0,\"#f0f921\"]],\"type\":\"heatmap\"}],\"heatmapgl\":[{\"colorbar\":{\"outlinewidth\":0,\"ticks\":\"\"},\"colorscale\":[[0.0,\"#0d0887\"],[0.1111111111111111,\"#46039f\"],[0.2222222222222222,\"#7201a8\"],[0.3333333333333333,\"#9c179e\"],[0.4444444444444444,\"#bd3786\"],[0.5555555555555556,\"#d8576b\"],[0.6666666666666666,\"#ed7953\"],[0.7777777777777778,\"#fb9f3a\"],[0.8888888888888888,\"#fdca26\"],[1.0,\"#f0f921\"]],\"type\":\"heatmapgl\"}],\"histogram\":[{\"marker\":{\"pattern\":{\"fillmode\":\"overlay\",\"size\":10,\"solidity\":0.2}},\"type\":\"histogram\"}],\"histogram2d\":[{\"colorbar\":{\"outlinewidth\":0,\"ticks\":\"\"},\"colorscale\":[[0.0,\"#0d0887\"],[0.1111111111111111,\"#46039f\"],[0.2222222222222222,\"#7201a8\"],[0.3333333333333333,\"#9c179e\"],[0.4444444444444444,\"#bd3786\"],[0.5555555555555556,\"#d8576b\"],[0.6666666666666666,\"#ed7953\"],[0.7777777777777778,\"#fb9f3a\"],[0.8888888888888888,\"#fdca26\"],[1.0,\"#f0f921\"]],\"type\":\"histogram2d\"}],\"histogram2dcontour\":[{\"colorbar\":{\"outlinewidth\":0,\"ticks\":\"\"},\"colorscale\":[[0.0,\"#0d0887\"],[0.1111111111111111,\"#46039f\"],[0.2222222222222222,\"#7201a8\"],[0.3333333333333333,\"#9c179e\"],[0.4444444444444444,\"#bd3786\"],[0.5555555555555556,\"#d8576b\"],[0.6666666666666666,\"#ed7953\"],[0.7777777777777778,\"#fb9f3a\"],[0.8888888888888888,\"#fdca26\"],[1.0,\"#f0f921\"]],\"type\":\"histogram2dcontour\"}],\"mesh3d\":[{\"colorbar\":{\"outlinewidth\":0,\"ticks\":\"\"},\"type\":\"mesh3d\"}],\"parcoords\":[{\"line\":{\"colorbar\":{\"outlinewidth\":0,\"ticks\":\"\"}},\"type\":\"parcoords\"}],\"pie\":[{\"automargin\":true,\"type\":\"pie\"}],\"scatter\":[{\"marker\":{\"colorbar\":{\"outlinewidth\":0,\"ticks\":\"\"}},\"type\":\"scatter\"}],\"scatter3d\":[{\"line\":{\"colorbar\":{\"outlinewidth\":0,\"ticks\":\"\"}},\"marker\":{\"colorbar\":{\"outlinewidth\":0,\"ticks\":\"\"}},\"type\":\"scatter3d\"}],\"scattercarpet\":[{\"marker\":{\"colorbar\":{\"outlinewidth\":0,\"ticks\":\"\"}},\"type\":\"scattercarpet\"}],\"scattergeo\":[{\"marker\":{\"colorbar\":{\"outlinewidth\":0,\"ticks\":\"\"}},\"type\":\"scattergeo\"}],\"scattergl\":[{\"marker\":{\"colorbar\":{\"outlinewidth\":0,\"ticks\":\"\"}},\"type\":\"scattergl\"}],\"scattermapbox\":[{\"marker\":{\"colorbar\":{\"outlinewidth\":0,\"ticks\":\"\"}},\"type\":\"scattermapbox\"}],\"scatterpolar\":[{\"marker\":{\"colorbar\":{\"outlinewidth\":0,\"ticks\":\"\"}},\"type\":\"scatterpolar\"}],\"scatterpolargl\":[{\"marker\":{\"colorbar\":{\"outlinewidth\":0,\"ticks\":\"\"}},\"type\":\"scatterpolargl\"}],\"scatterternary\":[{\"marker\":{\"colorbar\":{\"outlinewidth\":0,\"ticks\":\"\"}},\"type\":\"scatterternary\"}],\"surface\":[{\"colorbar\":{\"outlinewidth\":0,\"ticks\":\"\"},\"colorscale\":[[0.0,\"#0d0887\"],[0.1111111111111111,\"#46039f\"],[0.2222222222222222,\"#7201a8\"],[0.3333333333333333,\"#9c179e\"],[0.4444444444444444,\"#bd3786\"],[0.5555555555555556,\"#d8576b\"],[0.6666666666666666,\"#ed7953\"],[0.7777777777777778,\"#fb9f3a\"],[0.8888888888888888,\"#fdca26\"],[1.0,\"#f0f921\"]],\"type\":\"surface\"}],\"table\":[{\"cells\":{\"fill\":{\"color\":\"#EBF0F8\"},\"line\":{\"color\":\"white\"}},\"header\":{\"fill\":{\"color\":\"#C8D4E3\"},\"line\":{\"color\":\"white\"}},\"type\":\"table\"}]},\"layout\":{\"annotationdefaults\":{\"arrowcolor\":\"#2a3f5f\",\"arrowhead\":0,\"arrowwidth\":1},\"autotypenumbers\":\"strict\",\"coloraxis\":{\"colorbar\":{\"outlinewidth\":0,\"ticks\":\"\"}},\"colorscale\":{\"diverging\":[[0,\"#8e0152\"],[0.1,\"#c51b7d\"],[0.2,\"#de77ae\"],[0.3,\"#f1b6da\"],[0.4,\"#fde0ef\"],[0.5,\"#f7f7f7\"],[0.6,\"#e6f5d0\"],[0.7,\"#b8e186\"],[0.8,\"#7fbc41\"],[0.9,\"#4d9221\"],[1,\"#276419\"]],\"sequential\":[[0.0,\"#0d0887\"],[0.1111111111111111,\"#46039f\"],[0.2222222222222222,\"#7201a8\"],[0.3333333333333333,\"#9c179e\"],[0.4444444444444444,\"#bd3786\"],[0.5555555555555556,\"#d8576b\"],[0.6666666666666666,\"#ed7953\"],[0.7777777777777778,\"#fb9f3a\"],[0.8888888888888888,\"#fdca26\"],[1.0,\"#f0f921\"]],\"sequentialminus\":[[0.0,\"#0d0887\"],[0.1111111111111111,\"#46039f\"],[0.2222222222222222,\"#7201a8\"],[0.3333333333333333,\"#9c179e\"],[0.4444444444444444,\"#bd3786\"],[0.5555555555555556,\"#d8576b\"],[0.6666666666666666,\"#ed7953\"],[0.7777777777777778,\"#fb9f3a\"],[0.8888888888888888,\"#fdca26\"],[1.0,\"#f0f921\"]]},\"colorway\":[\"#636efa\",\"#EF553B\",\"#00cc96\",\"#ab63fa\",\"#FFA15A\",\"#19d3f3\",\"#FF6692\",\"#B6E880\",\"#FF97FF\",\"#FECB52\"],\"font\":{\"color\":\"#2a3f5f\"},\"geo\":{\"bgcolor\":\"white\",\"lakecolor\":\"white\",\"landcolor\":\"#E5ECF6\",\"showlakes\":true,\"showland\":true,\"subunitcolor\":\"white\"},\"hoverlabel\":{\"align\":\"left\"},\"hovermode\":\"closest\",\"mapbox\":{\"style\":\"light\"},\"paper_bgcolor\":\"white\",\"plot_bgcolor\":\"#E5ECF6\",\"polar\":{\"angularaxis\":{\"gridcolor\":\"white\",\"linecolor\":\"white\",\"ticks\":\"\"},\"bgcolor\":\"#E5ECF6\",\"radialaxis\":{\"gridcolor\":\"white\",\"linecolor\":\"white\",\"ticks\":\"\"}},\"scene\":{\"xaxis\":{\"backgroundcolor\":\"#E5ECF6\",\"gridcolor\":\"white\",\"gridwidth\":2,\"linecolor\":\"white\",\"showbackground\":true,\"ticks\":\"\",\"zerolinecolor\":\"white\"},\"yaxis\":{\"backgroundcolor\":\"#E5ECF6\",\"gridcolor\":\"white\",\"gridwidth\":2,\"linecolor\":\"white\",\"showbackground\":true,\"ticks\":\"\",\"zerolinecolor\":\"white\"},\"zaxis\":{\"backgroundcolor\":\"#E5ECF6\",\"gridcolor\":\"white\",\"gridwidth\":2,\"linecolor\":\"white\",\"showbackground\":true,\"ticks\":\"\",\"zerolinecolor\":\"white\"}},\"shapedefaults\":{\"line\":{\"color\":\"#2a3f5f\"}},\"ternary\":{\"aaxis\":{\"gridcolor\":\"white\",\"linecolor\":\"white\",\"ticks\":\"\"},\"baxis\":{\"gridcolor\":\"white\",\"linecolor\":\"white\",\"ticks\":\"\"},\"bgcolor\":\"#E5ECF6\",\"caxis\":{\"gridcolor\":\"white\",\"linecolor\":\"white\",\"ticks\":\"\"}},\"title\":{\"x\":0.05},\"xaxis\":{\"automargin\":true,\"gridcolor\":\"white\",\"linecolor\":\"white\",\"ticks\":\"\",\"title\":{\"standoff\":15},\"zerolinecolor\":\"white\",\"zerolinewidth\":2},\"yaxis\":{\"automargin\":true,\"gridcolor\":\"white\",\"linecolor\":\"white\",\"ticks\":\"\",\"title\":{\"standoff\":15},\"zerolinecolor\":\"white\",\"zerolinewidth\":2}}}},                        {\"responsive\": true}                    ).then(function(){\n",
       "                            \n",
       "var gd = document.getElementById('ff580e1e-119f-4890-b951-708881dbaeeb');\n",
       "var x = new MutationObserver(function (mutations, observer) {{\n",
       "        var display = window.getComputedStyle(gd).display;\n",
       "        if (!display || display === 'none') {{\n",
       "            console.log([gd, 'removed!']);\n",
       "            Plotly.purge(gd);\n",
       "            observer.disconnect();\n",
       "        }}\n",
       "}});\n",
       "\n",
       "// Listen for the removal of the full notebook cells\n",
       "var notebookContainer = gd.closest('#notebook-container');\n",
       "if (notebookContainer) {{\n",
       "    x.observe(notebookContainer, {childList: true});\n",
       "}}\n",
       "\n",
       "// Listen for the clearing of the current output cell\n",
       "var outputEl = gd.closest('.output');\n",
       "if (outputEl) {{\n",
       "    x.observe(outputEl, {childList: true});\n",
       "}}\n",
       "\n",
       "                        })                };                });            </script>        </div>"
      ]
     },
     "metadata": {},
     "output_type": "display_data"
    }
   ],
   "source": [
    "fig = ff.create_dendrogram(dist, labels=names,\n",
    "distfun=lambda x: distance.squareform(np.where(x, x, x.T)),\n",
    "linkagefun=lambda x: hierarchy.linkage(x, 'average'))\n",
    "fig.show()"
   ]
  },
  {
   "cell_type": "code",
   "execution_count": 27,
   "metadata": {},
   "outputs": [],
   "source": [
    "def get_newick(node, parent_dist, leaf_names, newick='') -> str:\n",
    "    \"\"\"\n",
    "    Convert sciply.cluster.hierarchy.to_tree()-output to Newick format.\n",
    "\n",
    "    :param node: output of sciply.cluster.hierarchy.to_tree()\n",
    "    :param parent_dist: output of sciply.cluster.hierarchy.to_tree().dist\n",
    "    :param leaf_names: list of leaf names\n",
    "    :param newick: leave empty, this variable is used in recursion.\n",
    "    :returns: tree in Newick format\n",
    "    \"\"\"\n",
    "    if node.is_leaf():\n",
    "        return \"%s:%.2f%s\" % (leaf_names[node.id], parent_dist - node.dist, newick)\n",
    "    else:\n",
    "        if len(newick) > 0:\n",
    "            newick = \"):%.2f%s\" % (parent_dist - node.dist, newick)\n",
    "        else:\n",
    "            newick = \");\"\n",
    "        newick = get_newick(node.get_left(), node.dist, leaf_names, newick=newick)\n",
    "        newick = get_newick(node.get_right(), node.dist, leaf_names, newick=\",%s\" % (newick))\n",
    "        newick = \"(%s\" % (newick)\n",
    "        return newick"
   ]
  },
  {
   "cell_type": "code",
   "execution_count": 28,
   "metadata": {},
   "outputs": [
    {
     "data": {
      "text/plain": [
       "'((F:3.00,B:3.00):1.00,(((D:2.00,A:2.00):1.00,C:3.00):0.00,E:3.00):1.00);'"
      ]
     },
     "execution_count": 28,
     "metadata": {},
     "output_type": "execute_result"
    }
   ],
   "source": [
    "phy = hierarchy.linkage(distance.squareform(np.where(dist, dist, dist.T)), 'single')\n",
    "tree = hierarchy.to_tree(phy, False)\n",
    "get_newick(tree, tree.dist, names)"
   ]
  }
 ],
 "metadata": {
  "kernelspec": {
   "display_name": "Python 3",
   "language": "python",
   "name": "python3"
  },
  "language_info": {
   "codemirror_mode": {
    "name": "ipython",
    "version": 3
   },
   "file_extension": ".py",
   "mimetype": "text/x-python",
   "name": "python",
   "nbconvert_exporter": "python",
   "pygments_lexer": "ipython3",
   "version": "3.9.9"
  }
 },
 "nbformat": 4,
 "nbformat_minor": 2
}
