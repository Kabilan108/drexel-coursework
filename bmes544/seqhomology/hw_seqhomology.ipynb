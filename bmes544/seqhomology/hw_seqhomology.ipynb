{
 "cells": [
  {
   "cell_type": "markdown",
   "metadata": {},
   "source": [
    "# Sequence Homology\n",
    "\n",
    "**Authors:** [Tony Kabilan Okeke](mailto:tko35@drexel.edu), [Ifeanyi Osuchukwu](mailto:imo27@drexel.edu)  \n",
    "**Date:** 01.31.2022"
   ]
  },
  {
   "cell_type": "markdown",
   "metadata": {},
   "source": [
    "## Parse `BLAST` Query Results"
   ]
  },
  {
   "cell_type": "code",
   "execution_count": 1,
   "metadata": {},
   "outputs": [],
   "source": [
    "# Imports\n",
    "import matplotlib.pyplot as plt\n",
    "import re\n",
    "from Bio.Blast import NCBIXML"
   ]
  },
  {
   "cell_type": "code",
   "execution_count": 2,
   "metadata": {},
   "outputs": [],
   "source": [
    "# Load Query Results\n",
    "with open(\"ptn_query_report.xml\", 'r') as file:\n",
    "  # Retrieve alignment records\n",
    "  records = next(NCBIXML.parse(file))"
   ]
  },
  {
   "cell_type": "markdown",
   "metadata": {},
   "source": [
    "### Top Protein Hit\n",
    "\n",
    "Print the name of the top protein hit (Hits were ordered by alignment score)."
   ]
  },
  {
   "cell_type": "code",
   "execution_count": 3,
   "metadata": {},
   "outputs": [
    {
     "name": "stdout",
     "output_type": "stream",
     "text": [
      "Scientific Name for Top Hit:\n",
      "Chain A, 3C-like proteinase [Severe acute respiratory syndrome coronavirus 2]\n"
     ]
    }
   ],
   "source": [
    "matches = re.search(r'.+?\\]', records.alignments[0].hit_def)\n",
    "print( \"Scientific Name for Top Hit:\\n{}\".format(matches[0]) )"
   ]
  },
  {
   "cell_type": "markdown",
   "metadata": {},
   "source": [
    "### Unique Species Names of All Returned Hits\n",
    "\n",
    "Print a unique list of species names of all the hits."
   ]
  },
  {
   "cell_type": "code",
   "execution_count": 4,
   "metadata": {},
   "outputs": [
    {
     "name": "stdout",
     "output_type": "stream",
     "text": [
      "The following species were present in the hits:\n",
      " - Escherichia coli K-12\n",
      " - Feline infectious peritonitis virus\n",
      " - Feline infectious peritonitis virus (strain 79-1146)\n",
      " - Human coronavirus 229E\n",
      " - Human coronavirus HKU1 (isolate N1)\n",
      " - Human coronavirus NL63\n",
      " - Infectious bronchitis virus\n",
      " - Middle East respiratory syndrome-related coronavirus\n",
      " - Murine hepatitis virus strain A59\n",
      " - Mus musculus\n",
      " - Mycolicibacterium smegmatis\n",
      " - Paenibacillus glycanilyticus\n",
      " - Porcine epidemic diarrhea virus\n",
      " - Porcine epidemic diarrhea virus CV777\n",
      " - Porcine transmissible gastroenteritis coronavirus strain Purdue\n",
      " - SARS coronavirus BJ01\n",
      " - SARS coronavirus BJ162\n",
      " - SARS coronavirus Sino1-11\n",
      " - Severe acute respiratory syndrome coronavirus\n",
      " - Severe acute respiratory syndrome coronavirus 2\n",
      " - Severe acute respiratory syndrome-related coronavirus\n",
      " - Shewanella oneidensis MR-1\n",
      " - Transmissible gastroenteritis virus\n",
      " - Tylonycteris bat coronavirus HKU4\n",
      " - unidentified\n"
     ]
    }
   ],
   "source": [
    "# Initialize empty list of species\n",
    "hit_species = []\n",
    "\n",
    "# Loop through all alignments and extract the species\n",
    "for alignment in records.alignments:\n",
    "  # Extract species\n",
    "  species = re.search(r'\\ \\[(.*?)\\]\\ ?', alignment.title)\n",
    "  # Append to list\n",
    "  hit_species.append(species[1])\n",
    "\n",
    "# Identify and sort unique species\n",
    "unique_species = sorted( list( set(hit_species) ) )\n",
    "\n",
    "# Print the unique species\n",
    "print( \"The following species were present in the hits:\", *unique_species, sep='\\n - ')"
   ]
  },
  {
   "cell_type": "markdown",
   "metadata": {},
   "source": [
    "### Top Scoring Mouse Protein Alignment\n",
    "\n",
    "Find the top scoring hit with a mouse protein. Print the sequence alignment of the query with this mouse protein."
   ]
  },
  {
   "cell_type": "code",
   "execution_count": 5,
   "metadata": {},
   "outputs": [
    {
     "name": "stdout",
     "output_type": "stream",
     "text": [
      "Query:    GCMVQVTCGTTTLNGL-WLDDVVYCPRHVICTSEDMLNPNYEDLLIRKSNHNFLVQAGNVQLRVIGHSMQN\n",
      "Match:     C   +TC +  L+G  W ++  +CP H  C       P  +DL  +  N+ F     + + R  G  +Q \n",
      "Subject:  ACHSSLTCKSNWLHGWDWSEEKKHCPAHEPCLPFSYHFPTPDDLCEKIWNNTF---KASPERRNSGRCLQK\n"
     ]
    }
   ],
   "source": [
    "# Identify the top scoring mouse protein and retrieve the alignment information\n",
    "top_mouse = records.alignments[ hit_species.index('Mus musculus') ].hsps[0]\n",
    "\n",
    "# Print alignment\n",
    "print(f'{\"Query:\":10s}{top_mouse.query}',\n",
    "      f'{\"Match:\":10s}{top_mouse.match}',\n",
    "      f'{\"Subject:\":10s}{top_mouse.sbjct}',\n",
    "      sep='\\n')"
   ]
  },
  {
   "cell_type": "markdown",
   "metadata": {},
   "source": [
    "### Percent Identity Histogram"
   ]
  },
  {
   "cell_type": "code",
   "execution_count": 6,
   "metadata": {},
   "outputs": [
    {
     "data": {
      "image/png": "[encoded data removed]",
      "text/plain": [
       "<Figure size 576x432 with 1 Axes>"
      ]
     },
     "metadata": {
      "needs_background": "light"
     },
     "output_type": "display_data"
    }
   ],
   "source": [
    "# Initialize list\n",
    "pct_identity = []\n",
    "\n",
    "# Compute % identities for the first hsp of each hit\n",
    "for alignment in records.alignments:\n",
    "  hsp = alignment.hsps[0]\n",
    "  isMatch = [ m == s for (m,s) in zip(hsp.query, hsp.sbjct) ]\n",
    "  pct_identity.append( sum(isMatch) / len(hsp.match) * 100 )\n",
    "\n",
    "# Plot histogram\n",
    "fig, ax = plt.subplots(figsize = (8,6))\n",
    "ax.hist(pct_identity, bins=20, alpha=0.6, facecolor='#da0f20',\n",
    "        edgecolor='000000', linewidth=0.2)\n",
    "ax.set_xlabel('Percent Identity', fontsize=14), ax.set_xlim(20, 100)\n",
    "ax.set_ylabel('Count', fontsize=14), ax.set_ylim(0, 33)\n",
    "ax.set_title('Percent Identities of Alignments', fontsize=16)\n",
    "ax.tick_params(axis='both', which='major', labelsize=14)\n",
    "ax.grid(False)\n",
    "plt.style.use('bmh')"
   ]
  }
 ],
 "metadata": {
  "interpreter": {
   "hash": "89aa419059693679b3c628b5998a9aeb8e5d050944c8675e82ec1608501e11b2"
  },
  "kernelspec": {
   "display_name": "Python 3 (ipykernel)",
   "language": "python",
   "name": "python3"
  },
  "language_info": {
   "codemirror_mode": {
    "name": "ipython",
    "version": 3
   },
   "file_extension": ".py",
   "mimetype": "text/x-python",
   "name": "python",
   "nbconvert_exporter": "python",
   "pygments_lexer": "ipython3",
   "version": "3.9.9"
  }
 },
 "nbformat": 4,
 "nbformat_minor": 2
}
