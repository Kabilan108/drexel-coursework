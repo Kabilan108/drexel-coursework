{
 "cells": [
  {
   "cell_type": "code",
   "execution_count": 29,
   "metadata": {},
   "outputs": [
    {
     "name": "stdout",
     "output_type": "stream",
     "text": [
      "The autoreload extension is already loaded. To reload it, use:\n",
      "  %reload_ext autoreload\n"
     ]
    }
   ],
   "source": [
    "%load_ext autoreload\n",
    "%autoreload 2\n",
    "import sys,os; sys.path.append(os.environ['BMESAHMETDIR']); import bmes\n",
    "\n",
    "bmes.pipinstall('Bio','biopython')\n",
    "\n",
    "import Bio\n",
    "def fasta_readfirst(file):\n",
    "  for ret in Bio.SeqIO.parse(file,'fasta'): return ret;\n"
   ]
  },
  {
   "cell_type": "code",
   "execution_count": 30,
   "metadata": {},
   "outputs": [],
   "source": [
    "## Obtaining the sequences\n",
    "#% Search the web for AGRE1_RAT Adhesion G protein-coupled receptor E2\n",
    "#% protein. Download the protein sequence.\n",
    "ratptnfile = bmes.downloadurl('https://www.uniprot.org/uniprot/Q5Y4N8.fasta','rat.agre1.ptn.fasta')\n",
    "\n",
    "#% also find and download the human protein, AGRE1_HUMAN\n",
    "humptnfile = bmes.downloadurl('https://www.uniprot.org/uniprot/Q14246.fasta')"
   ]
  },
  {
   "cell_type": "code",
   "execution_count": 31,
   "metadata": {},
   "outputs": [
    {
     "name": "stdout",
     "output_type": "stream",
     "text": [
      ">sp|Q5Y4N8|AGRE1_RAT Adhesion G protein-coupled receptor E2 OS=Rattus norvegicus OX=10116 GN=Adgre1 PE=2 SV=1\n",
      "MWGFWLLLFWGFSGTHRWGMTTLAILGQRLNGVNECQDTTTCPAYATCTDTTESYYCTCK\n",
      "QGFLPSNGQTNFQGPGVECQDVNECLRSDSPCGSNSVCTNIPGRARCSCLSGFSSSAGGS\n",
      "WILGSPGHFLCTDVDECLTIGICPKNSNCSNSVGSYSCTCQSGFVSNGSTCEDEDECVTR\n",
      "NACPEHATCHNTLGSYYCTCNEGLEFSGGGPMFQGLEESCEDVDECSRNSTLCGPSFICI\n",
      "NTLGSYSCSCPAGFSLSTFQIPGHPADGNCTDIDECDDICPSNSSCTNTLGSYFCTCHPG\n",
      "FASSNGQLNFTDQEVTCEDIDECTQDPFRCGRNSSCTNVPGSYNCSCLPDFRMDPGGSQA\n",
      "HGNFTCKRIPFKCKEDLIPKSEQIEQCQAGQGRNLDYTSFCTFVNATFTILDNTCENKSA\n",
      "PVSLQSAATSVSLMLEQASTWFEFSREETSTLGTILLETVESTMLAALLTPSGNASQTIR\n",
      "TEYLEIESKVINEECNEENVSINLKARGDKMDVGCFIIKESESTGTPGVAFVSFAHMDSV\n",
      "LDERFFEDGQASWKLRMNSHVVGGTVTGERKEDFSKPIVYTLQHIQPKQKSERSICVSWN\n",
      "TDVEDGRWTPSGCETVEASETHTVCSCNRMTNLAIIMASGELTMEFSLYIISYVGTVISL\n",
      "VCLALAIATFLLFRAVQNHNTYLHLHLCVCLFLAKILFLTGIDKTDNQTACAIIAGFLHY\n",
      "LFLACFFWMLVEAVMLFLMVRNLKVVNYFSSRNIKMLHLCAFGYGLPVVVVIISATVHPW\n",
      "GYGMHNRCWLNTETGFIWSFLGPVCMIITINSALLAWTLWVLRQKLCSVNSEVSKLKDTR\n",
      "LLTFKAIAQIFILGCSWVLGIFQIGPLASIMAYLFTTINSLQGAFIFLIHCLLNRQVRDE\n",
      "YRKLLTRKTDLSSHSQTSGILLSSMPSTSKTG\n",
      "\n"
     ]
    }
   ],
   "source": [
    "#%% Reading fasta file\n",
    "ratptn = fasta_readfirst(ratptnfile)\n",
    "print(ratptn.format('fasta'))"
   ]
  },
  {
   "cell_type": "markdown",
   "metadata": {},
   "source": [
    "## Sequence alignments\n",
    "\n",
    "There are different variations of pairwise2.align.global and pairwise2.align.local, with the codes listed below. e.g., pairwise2.align.globalds can be used to align using a substitution matrix and using linear gap penalty.\n",
    "\n",
    "The match parameters are:\n",
    "\n",
    "    CODE  DESCRIPTION\n",
    "    x     No parameters. Identical characters have score of 1, otherwise 0.\n",
    "    m     A match score is the score of identical chars, otherwise mismatch\n",
    "          score.\n",
    "    d     A dictionary returns the score of any pair of characters.\n",
    "    c     A callback function returns scores.\n",
    "\n",
    "The gap penalty parameters are:\n",
    "\n",
    "    CODE  DESCRIPTION\n",
    "    x     No gap penalties.\n",
    "    s     Same open and extend gap penalties for both sequences.\n",
    "    d     The sequences have different open and extend gap penalties.\n",
    "    c     A callback function returns the gap penalties.\n"
   ]
  },
  {
   "cell_type": "code",
   "execution_count": 32,
   "metadata": {},
   "outputs": [],
   "source": [
    "ratptn = fasta_readfirst(ratptnfile)\n",
    "humptn = fasta_readfirst(humptnfile)\n",
    "submat = Bio.Align.substitution_matrices.load(\"BLOSUM62\");"
   ]
  },
  {
   "cell_type": "code",
   "execution_count": 33,
   "metadata": {},
   "outputs": [
    {
     "data": {
      "text/plain": [
       "2.0"
      ]
     },
     "execution_count": 33,
     "metadata": {},
     "output_type": "execute_result"
    }
   ],
   "source": [
    "#submat acts as a dictionary. e.g.:\n",
    "submat['L']['I']"
   ]
  },
  {
   "cell_type": "markdown",
   "metadata": {},
   "source": [
    "### Local alignment"
   ]
  },
  {
   "cell_type": "code",
   "execution_count": 34,
   "metadata": {},
   "outputs": [
    {
     "name": "stdout",
     "output_type": "stream",
     "text": [
      "MWGFWLLLFWGFSGTHRWGMTTLAILGQRLNGVNECQDTTTCPAYATCTDTTESYYCTCKQGFLPSNGQTNFQGPGVECQDVNECLRSDSPCGSNSVCTNIPGRARCSCLSGFSSSAGGSWILGSPGHFLCTDVDECLTIGICPKNSNCSNSVGSYSCTCQSGFVSNGSTCEDEDECVTRNACPEHATCHNTLGSYYCTCNEGLEFSGGGPMFQGLEESCEDVDECSRNSTLCGPSFICINTLGSYSCSCPAGFSLSTFQIPGHPADGNCTDIDECDDICPSNSSCTNTLGSYFCTCHPGFASSNGQLNFTDQEVTCEDIDECTQDPFRCGRNSSCTNVPGSYNCSCLPDFRMDPGGSQAHGNFTCKRIPFKCKEDLIPKSEQIEQCQAGQGRNLDYTSFCTFVNATFTILDNTCENKSAPVSLQSAATSVSLMLEQASTWFEFSREETSTLGTILLETVESTMLAALLTPSGNASQTIRTEYLEIESKVINEECNEENVSINLKARGDKMDVGCFIIKESESTGTPGVAFVSFAHMDSVLDERFFEDGQA-----SWKLRMNSHVVGGTVTGERKEDFSKPIVYTLQHIQPKQKSERSICVSWNTDVEDGRWTPSGCETVEASETHTVCSCNRMTNLAIIMASGELTMEFSLYIISYVGTVISLVCLALAIATFLLFRAVQNHNTYLHLHLCVCLFLAKILFLTGIDKTDNQTACAIIAGFLHYLFLACFFWMLVEAVMLFLMVRNLKVVNYFSSRNIKMLHLCAFGYGLPVVVVIISATVHPWGYGMHNRCWLNTETGFIWSFLGPVCMIITINSALLAWTLWVLRQKLCSVNSEVSKLKDTRLLTFKAIAQIFILGCSWVLGIFQIGPLASIMAYLFTTINSLQGAFIFLIHCLLNRQVRDEYRKLLTRKTDLSSHSQTSGILLSSMPSTSKTG\n",
      "|.||.||||||....|.|.............| |.|.|.|.||||||||.|..||||.||||||.||||..|..|||.|.|..||..|..|||.||.|.|..||..||||.||||..|..|..|.||.|.|||..||||...||..|.|.||.|||||.||.||.|..|||||.|||....||||||||.||.|.|.|.||.|.|.|.|...||||..||||.|||.                                                  ..||.||.||||.||||||||||||.||||||||||.|.|.|||||.|||..||.||.|||..|||.|.|...|...|.|||..|||.|.|..||||||.||...||.|||.|......|.|||...|..|..||..||||...|||.....|....|.|.|||..|..||||.|.|..||.|||..||....||.|.....|||||.|||||||.||.||||...|.|.||||..||..|.|||||.|.|||||||..|.|||.||||.|.||     ..||.|||.||||..|||.|..||.||.|||..||||||.||.|||||.|||..||||..||...|||||.|.||||.|.|||.|||||||||.|||||||.||..||||||.||||||||.|...||||||||||||||.|||.|||.||.||||...||||||||||||||||||||||||.|||||||||||||||||||||||.||||||||..||.|||.|.|.|||||||||||||||||||||||||..|.|||.||.||||.|||.|.|||.|||.|||||||||||.||.||||||||||||||||.|..||||||.|||||||||||||||||.|||.||....|.||..||.||||.||||||||.||||\n",
      "MRGFNLLLFWGCCVMHSWEGHIRPTRKPNTKG-NNCRDSTLCPAYATCTNTVDSYYCACKQGFLSSNGQNHFKDPGVRCKDIDECSQSPQPCGPNSSCKNLSGRYKCSCLDGFSSPTGNDWVPGKPGNFSCTDINECLTSSVCPEHSDCVNSMGSYSCSCQVGFISRNSTCEDVDECADPRACPEHATCNNTVGNYSCFCNPGFESSSGHLSFQGLKASCEDIDECT--------------------------------------------------EMCPINSTCTNTPGSYFCTCHPGFAPSNGQLNFTDQGVECRDIDECRQDPSTCGPNSICTNALGSYSCGCIAGFHPNPEGSQKDGNFSCQRVLFKCKEDVIPDNKQIQQCQEGTAVKPAYVSFCAQINNIFSVLDKVCENKTTVVSLKNTTESFVPVLKQISTWTKFTKEETSSLATVFLESVESMTLASFWKPSANITPAVRTEYLDIESKVINKECSEENVTLDLVAKGDKMKIGCSTIEESESTETTGVAFVSFVGMESVLNERFFKDHQAPLTTSEIKLKMNSRVVGGIMTGEKKDGFSDPIIYTLENIQPKQKFERPICVSWSTDVKGGRWTSFGCVILEASETYTICSCNQMANLAVIMASGELTMDFSLYIISHVGIIISLVCLVLAIATFLLCRSIRNHNTYLHLHLCVCLLLAKTLFLAGIHKTDNKMGCAIIAGFLHYLFLACFFWMLVEAVILFLMVRNLKVVNYFSSRNIKMLHICAFGYGLPMLVVVISASVQPQGYGMHNRCWLNTETGFIWSFLGPVCTVIVINSLLLTWTLWILRQRLSSVNAEVSTLKDTRLLTFKAFAQLFILGCSWVLGIFQIGPVAGVMAYLFTIINSLQGAFIFLIHCLLNGQVREEYKRWITGKTKPSSQSQTSRILLSSMPSASKTG\n",
      "  Score=3221\n",
      "\n"
     ]
    }
   ],
   "source": [
    "gap_open=-10;\n",
    "gap_extend=-1;\n",
    "#This step may take a few minutes, the (current) implementation of the alignment functions \n",
    "#  in Biopython is not very efficient.\n",
    "align=Bio.pairwise2.align.localds(ratptn.seq,humptn.seq, submat, gap_open, gap_extend)\n",
    "#localds may return multiple local alignments. Let's show only the first one.\n",
    "print(Bio.pairwise2.format_alignment(*(align[0])))"
   ]
  },
  {
   "cell_type": "markdown",
   "metadata": {},
   "source": [
    "### Global Alignment"
   ]
  },
  {
   "cell_type": "code",
   "execution_count": 35,
   "metadata": {},
   "outputs": [
    {
     "name": "stdout",
     "output_type": "stream",
     "text": [
      "MWGFWLLLFWGFSGTHRWGMTTLAILGQRLNGVNECQDTTTCPAYATCTDTTESYYCTCKQGFLPSNGQTNFQGPGVECQDVNECLRSDSPCGSNSVCTNIPGRARCSCLSGFSSSAGGSWILGSPGHFLCTDVDECLTIGICPKNSNCSNSVGSYSCTCQSGFVSNGSTCEDEDECVTRNACPEHATCHNTLGSYYCTCNEGLEFSGGGPMFQGLEESCEDVDECSRNSTLCGPSFICINTLGSYSCSCPAGFSLSTFQIPGHPADGNCTDIDECDDICPSNSSCTNTLGSYFCTCHPGFASSNGQLNFTDQEVTCEDIDECTQDPFRCGRNSSCTNVPGSYNCSCLPDFRMDPGGSQAHGNFTCKRIPFKCKEDLIPKSEQIEQCQAGQGRNLDYTSFCTFVNATFTILDNTCENKSAPVSLQSAATSVSLMLEQASTWFEFSREETSTLGTILLETVESTMLAALLTPSGNASQTIRTEYLEIESKVINEECNEENVSINLKARGDKMDVGCFIIKESESTGTPGVAFVSFAHMDSVLDERFFEDGQA-----SWKLRMNSHVVGGTVTGERKEDFSKPIVYTLQHIQPKQKSERSICVSWNTDVEDGRWTPSGCETVEASETHTVCSCNRMTNLAIIMASGELTMEFSLYIISYVGTVISLVCLALAIATFLLFRAVQNHNTYLHLHLCVCLFLAKILFLTGIDKTDNQTACAIIAGFLHYLFLACFFWMLVEAVMLFLMVRNLKVVNYFSSRNIKMLHLCAFGYGLPVVVVIISATVHPWGYGMHNRCWLNTETGFIWSFLGPVCMIITINSALLAWTLWVLRQKLCSVNSEVSKLKDTRLLTFKAIAQIFILGCSWVLGIFQIGPLASIMAYLFTTINSLQGAFIFLIHCLLNRQVRDEYRKLLTRKTDLSSHSQTSGILLSSMPSTSKTG\n",
      "|.||.||||||....|.|.............| |.|.|.|.||||||||.|..||||.||||||.||||..|..|||.|.|..||..|..|||.||.|.|..||..||||.||||..|..|..|.||.|.|||..||||...||..|.|.||.|||||.||.||.|..|||||.|||....||||||||.||.|.|.|.||.|.|.|.|...||||..||||.|||.                                                  ..||.||.||||.||||||||||||.||||||||||.|.|.|||||.|||..||.||.|||..|||.|.|...|...|.|||..|||.|.|..||||||.||...||.|||.|......|.|||...|..|..||..||||...|||.....|....|.|.|||..|..||||.|.|..||.|||..||....||.|.....|||||.|||||||.||.||||...|.|.||||..||..|.|||||.|.|||||||..|.|||.||||.|.||     ..||.|||.||||..|||.|..||.||.|||..||||||.||.|||||.|||..||||..||...|||||.|.||||.|.|||.|||||||||.|||||||.||..||||||.||||||||.|...||||||||||||||.|||.|||.||.||||...||||||||||||||||||||||||.|||||||||||||||||||||||.||||||||..||.|||.|.|.|||||||||||||||||||||||||..|.|||.||.||||.|||.|.|||.|||.|||||||||||.||.||||||||||||||||.|..||||||.|||||||||||||||||.|||.||....|.||..||.||||.||||||||.||||\n",
      "MRGFNLLLFWGCCVMHSWEGHIRPTRKPNTKG-NNCRDSTLCPAYATCTNTVDSYYCACKQGFLSSNGQNHFKDPGVRCKDIDECSQSPQPCGPNSSCKNLSGRYKCSCLDGFSSPTGNDWVPGKPGNFSCTDINECLTSSVCPEHSDCVNSMGSYSCSCQVGFISRNSTCEDVDECADPRACPEHATCNNTVGNYSCFCNPGFESSSGHLSFQGLKASCEDIDECT--------------------------------------------------EMCPINSTCTNTPGSYFCTCHPGFAPSNGQLNFTDQGVECRDIDECRQDPSTCGPNSICTNALGSYSCGCIAGFHPNPEGSQKDGNFSCQRVLFKCKEDVIPDNKQIQQCQEGTAVKPAYVSFCAQINNIFSVLDKVCENKTTVVSLKNTTESFVPVLKQISTWTKFTKEETSSLATVFLESVESMTLASFWKPSANITPAVRTEYLDIESKVINKECSEENVTLDLVAKGDKMKIGCSTIEESESTETTGVAFVSFVGMESVLNERFFKDHQAPLTTSEIKLKMNSRVVGGIMTGEKKDGFSDPIIYTLENIQPKQKFERPICVSWSTDVKGGRWTSFGCVILEASETYTICSCNQMANLAVIMASGELTMDFSLYIISHVGIIISLVCLVLAIATFLLCRSIRNHNTYLHLHLCVCLLLAKTLFLAGIHKTDNKMGCAIIAGFLHYLFLACFFWMLVEAVILFLMVRNLKVVNYFSSRNIKMLHICAFGYGLPMLVVVISASVQPQGYGMHNRCWLNTETGFIWSFLGPVCTVIVINSLLLTWTLWILRQRLSSVNAEVSTLKDTRLLTFKAFAQLFILGCSWVLGIFQIGPVAGVMAYLFTIINSLQGAFIFLIHCLLNGQVREEYKRWITGKTKPSSQSQTSRILLSSMPSASKTG\n",
      "  Score=3221\n",
      "\n"
     ]
    }
   ],
   "source": [
    "align=Bio.pairwise2.align.globalds(ratptn.seq,humptn.seq, submat, gap_open, gap_extend)\n",
    "print(Bio.pairwise2.format_alignment(*(align[0])))"
   ]
  },
  {
   "cell_type": "code",
   "execution_count": null,
   "metadata": {},
   "outputs": [],
   "source": []
  }
 ],
 "metadata": {
  "kernelspec": {
   "display_name": "Python 3",
   "language": "python",
   "name": "python3"
  },
  "language_info": {
   "codemirror_mode": {
    "name": "ipython",
    "version": 3
   },
   "file_extension": ".py",
   "mimetype": "text/x-python",
   "name": "python",
   "nbconvert_exporter": "python",
   "pygments_lexer": "ipython3",
   "version": "3.8.8"
  }
 },
 "nbformat": 4,
 "nbformat_minor": 4
}
