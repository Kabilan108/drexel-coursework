{
  "cells": [
    {
      "attachments": {},
      "cell_type": "markdown",
      "metadata": {},
      "source": [
        "# Data Basics Assignment\n",
        "\n",
        "**Author:** [Tony Kabilan Okeke](mailto:tko35@drexel.edu)  \n",
        "**Date:** January 10, 2023"
      ]
    },
    {
      "attachments": {},
      "cell_type": "markdown",
      "metadata": {},
      "source": [
        "In this assignment you are going to analyze this [Immunotherapy dataset](http://archive.ics.uci.edu/ml/datasets/Immunotherapy+Dataset). The study that has produced the dataset is described [here](https://www.ncbi.nlm.nih.gov/pubmed/28086200). The dataset contains only the immunotherapy subset of patients. Review the paper for description of the attributes."
      ]
    },
    {
      "cell_type": "markdown",
      "metadata": {},
      "source": [
        "- Create a `hwdatabasics.mlx`, `hwdatabasics.ipynb` or `hwdatabasics.rmd` file to perform the following tasks."
      ]
    },
    {
      "cell_type": "code",
      "execution_count": 1,
      "metadata": {},
      "outputs": [],
      "source": [
        "from os import chdir\n",
        "chdir('/home/muaddib/sietch/courses/bmes547/1_data/homework/')"
      ]
    },
    {
      "cell_type": "code",
      "execution_count": 31,
      "metadata": {},
      "outputs": [],
      "source": [
        "# Imports from standard-library\n",
        "\n",
        "# Imports from third-party packages\n",
        "from infoml.utils import downloadurl\n",
        "from scipy import stats\n",
        "import matplotlib.pyplot as plt\n",
        "import seaborn as sns\n",
        "import pandas as pd\n",
        "\n",
        "# Download the data\n",
        "url = \"https://archive.ics.uci.edu/ml/machine-learning-databases/00428/Immunotherapy.xlsx\"\n",
        "datafile = downloadurl(url, 'immunotherapy.xlsx')\n",
        "\n",
        "# Load the data\n",
        "df = pd.read_excel(datafile)"
      ]
    },
    {
      "cell_type": "markdown",
      "metadata": {},
      "source": [
        "- For each attribute, find its correlation with the result of treatment. Exclude result of treatment as an attribute so you do not find its correlation with itself. Note that correlation is not the best measurement for categroical features, especially if there are more than 2 categories. But, for this assignment, we'll ignore this caveat and calculate correlation anyway. You do not need to convert categorical features for this assignment, just use the numbers as they are."
      ]
    },
    {
      "cell_type": "code",
      "execution_count": 3,
      "metadata": {},
      "outputs": [],
      "source": [
        "# Calculate correlation with treatment results\n",
        "corr = df.corr().iloc[:-1, -1]\n",
        "\n",
        "# Store in a dataframe\n",
        "results = (pd.DataFrame(corr)\n",
        "    .rename(columns={'Result_of_Treatment': 'correlation'}))"
      ]
    },
    {
      "attachments": {},
      "cell_type": "markdown",
      "metadata": {},
      "source": [
        "- For each attribute, find if there is a statistically significant difference in that attribute, between successful and failed treatments. Use *two-sample t-test* for the comparison and find the p-value. Report the names of attributes that you found to be statistically significantly different. You need to decide your own p-value threshold."
      ]
    },
    {
      "cell_type": "code",
      "execution_count": 6,
      "metadata": {},
      "outputs": [
        {
          "name": "stdout",
          "output_type": "stream",
          "text": [
            "The following features are statistically significant: age, Time\n"
          ]
        }
      ],
      "source": [
        "# Test for statistically significant difference between groups\n",
        "# Assume that the data is normally distributed, and variance is equal\n",
        "pvals = stats.ttest_ind(\n",
        "    df[df['Result_of_Treatment'] == 1].iloc[:, :-1],\n",
        "    df[df['Result_of_Treatment'] == 0].iloc[:, :-1],\n",
        "    equal_var=True\n",
        ").pvalue\n",
        "\n",
        "# Store in a dataframe\n",
        "results['pvalue'] = pvals\n",
        "\n",
        "# Report the statistically significant results\n",
        "p_thr = 0.1\n",
        "sig = results[results['pvalue'] < p_thr].index.to_list()\n",
        "print(\"The following features are statistically significant:\", ', '.join(sig))"
      ]
    },
    {
      "attachments": {},
      "cell_type": "markdown",
      "metadata": {},
      "source": [
        "- Report the significant correlation coefficients and p-values of **all of** the attributes in a tabular format [First column containing variable names, second column containing correlation values, and third column containing pvalues). The reported table must be sorted in increasing order by p-values."
      ]
    },
    {
      "cell_type": "code",
      "execution_count": 7,
      "metadata": {},
      "outputs": [
        {
          "data": {
            "text/html": [
              "<div>\n",
              "<style scoped>\n",
              "    .dataframe tbody tr th:only-of-type {\n",
              "        vertical-align: middle;\n",
              "    }\n",
              "\n",
              "    .dataframe tbody tr th {\n",
              "        vertical-align: top;\n",
              "    }\n",
              "\n",
              "    .dataframe thead th {\n",
              "        text-align: right;\n",
              "    }\n",
              "</style>\n",
              "<table border=\"1\" class=\"dataframe\">\n",
              "  <thead>\n",
              "    <tr style=\"text-align: right;\">\n",
              "      <th></th>\n",
              "      <th>feature</th>\n",
              "      <th>correlation</th>\n",
              "      <th>pvalue</th>\n",
              "    </tr>\n",
              "  </thead>\n",
              "  <tbody>\n",
              "    <tr>\n",
              "      <th>2</th>\n",
              "      <td>Time</td>\n",
              "      <td>-0.361172</td>\n",
              "      <td>0.000470</td>\n",
              "    </tr>\n",
              "    <tr>\n",
              "      <th>1</th>\n",
              "      <td>age</td>\n",
              "      <td>-0.188314</td>\n",
              "      <td>0.075490</td>\n",
              "    </tr>\n",
              "    <tr>\n",
              "      <th>4</th>\n",
              "      <td>Type</td>\n",
              "      <td>0.083396</td>\n",
              "      <td>0.434530</td>\n",
              "    </tr>\n",
              "    <tr>\n",
              "      <th>3</th>\n",
              "      <td>Number_of_Warts</td>\n",
              "      <td>-0.047160</td>\n",
              "      <td>0.658927</td>\n",
              "    </tr>\n",
              "    <tr>\n",
              "      <th>5</th>\n",
              "      <td>Area</td>\n",
              "      <td>0.043349</td>\n",
              "      <td>0.684972</td>\n",
              "    </tr>\n",
              "    <tr>\n",
              "      <th>6</th>\n",
              "      <td>induration_diameter</td>\n",
              "      <td>-0.031273</td>\n",
              "      <td>0.769820</td>\n",
              "    </tr>\n",
              "    <tr>\n",
              "      <th>0</th>\n",
              "      <td>sex</td>\n",
              "      <td>0.018831</td>\n",
              "      <td>0.860167</td>\n",
              "    </tr>\n",
              "  </tbody>\n",
              "</table>\n",
              "</div>"
            ],
            "text/plain": [
              "               feature  correlation    pvalue\n",
              "2                 Time    -0.361172  0.000470\n",
              "1                  age    -0.188314  0.075490\n",
              "4                 Type     0.083396  0.434530\n",
              "3      Number_of_Warts    -0.047160  0.658927\n",
              "5                 Area     0.043349  0.684972\n",
              "6  induration_diameter    -0.031273  0.769820\n",
              "0                  sex     0.018831  0.860167"
            ]
          },
          "execution_count": 7,
          "metadata": {},
          "output_type": "execute_result"
        }
      ],
      "source": [
        "# Report the correlation and p-value for each feature\n",
        "(results\n",
        "    .reset_index()\n",
        "    .rename(columns={'index': 'feature'})\n",
        "    .sort_values('pvalue'))"
      ]
    },
    {
      "attachments": {},
      "cell_type": "markdown",
      "metadata": {},
      "source": [
        "- For the attributes with the most significant p-value, create a box plot showing a summary of the values of that attribute, for successfule and failed treatments."
      ]
    },
    {
      "cell_type": "code",
      "execution_count": 49,
      "metadata": {},
      "outputs": [
        {
          "data": {
            "image/png": "[encoded data removed]",
            "text/plain": [
              "<Figure size 432x288 with 2 Axes>"
            ]
          },
          "metadata": {
            "needs_background": "light"
          },
          "output_type": "display_data"
        }
      ],
      "source": [
        "# Create a boxplot for the significant features\n",
        "fig, ax = plt.subplots(1, len(sig), figsize=(len(sig)*3, 4))\n",
        "for i, s in enumerate(sig):\n",
        "    sns.boxplot(x='Result_of_Treatment', y=s, data=df, ax=ax[i])\n",
        "    ax[i].set_title(s.capitalize())\n",
        "    ax[i].set_xlabel('')\n",
        "\n",
        "# Add x axis title\n",
        "fig.text(0.5, 0.01, 'Result of Treatment', ha='center', va='bottom', fontsize=12)\n",
        "\n",
        "plt.tight_layout()\n",
        "sns.despine()\n"
      ]
    }
  ],
  "metadata": {
    "kernelspec": {
      "display_name": "bmes547",
      "language": "python",
      "name": "python3"
    },
    "language_info": {
      "codemirror_mode": {
        "name": "ipython",
        "version": 3
      },
      "file_extension": ".py",
      "mimetype": "text/x-python",
      "name": "python",
      "nbconvert_exporter": "python",
      "pygments_lexer": "ipython3",
      "version": "3.10.8"
    },
    "orig_nbformat": 4,
    "vscode": {
      "interpreter": {
        "hash": "feeceb9510cbb24940cf481ca2f233c4c9462349a26307d01069b9997c44ee08"
      }
    }
  },
  "nbformat": 4,
  "nbformat_minor": 2
}
