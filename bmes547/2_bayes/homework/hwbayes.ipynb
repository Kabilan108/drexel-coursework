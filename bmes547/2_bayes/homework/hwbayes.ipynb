{
 "cells": [
  {
   "attachments": {},
   "cell_type": "markdown",
   "metadata": {},
   "source": [
    "# Bayes Assignment\n",
    "\n",
    "**Author:** [Tony Kabilan Okeke](mailto:tko35@drexel.edu)"
   ]
  },
  {
   "cell_type": "code",
   "execution_count": 1,
   "metadata": {},
   "outputs": [],
   "source": [
    "%load_ext autoreload\n",
    "%autoreload 2"
   ]
  },
  {
   "cell_type": "code",
   "execution_count": 2,
   "metadata": {},
   "outputs": [],
   "source": [
    "# Imports from third party libraries\n",
    "from sympy import exp, sqrt, pi , solve\n",
    "from sympy.abc import x\n",
    "from scipy import stats\n",
    "import matplotlib.pyplot as plt\n",
    "import numpy as np\n",
    "\n",
    "# My imports\n",
    "from hwbayes_montyhall import hwbayes_montyhall"
   ]
  },
  {
   "attachments": {},
   "cell_type": "markdown",
   "metadata": {},
   "source": [
    "## Bayes Decision Theory\n",
    "\n",
    "Write code to answer each question and print out the result (so that the result\n",
    "would be part of your PDF report).\n",
    "\n",
    "Consider the following class-conditional density functions. Note that the $N()$\n",
    "notation below is given as $N(mean, variance)$$. Make sure you pay attention to\n",
    "the difference between standard deviation and variance in any function you use.\n",
    "\n",
    "1. $P(x | w_1) = N(1,1)$\n",
    "2. $P(x | w_2) = N(2, 3^2)$ (This is a normal distribution of 3, variance of 9).\n",
    "3. And the folllowing prior probabilities:\n",
    "   1. $P(w_1) = 0.6$\n",
    "   2. $P(w_2) = 0.4$"
   ]
  },
  {
   "cell_type": "code",
   "execution_count": 3,
   "metadata": {},
   "outputs": [],
   "source": [
    "# Define function for generating normal distribution (exact values)\n",
    "N = lambda x, mu, sigma: stats.norm.pdf(x, mu, sigma)\n",
    "\n",
    "# Define equation for normal distribution (symbolic equation)\n",
    "f = lambda mu, sigma: 1 / (sigma * sqrt(2 * pi)) * exp(-.5 * (x - mu) ** 2 / sigma ** 2)\n",
    "\n",
    "# Define function for calculating the likelihood ratio\n",
    "likelihood = lambda x, params1, params2: (N(x, *params1) * 0.6) / (N(x, *params2) * 0.4)\n",
    "\n",
    "# Define function for classifying a point\n",
    "def classify(x, params1, params2):\n",
    "    LR = likelihood(x, params1, params2)\n",
    "    group = \"w1\" if LR > 1 else \"w2\"\n",
    "    print(f'Likelihood ratio: {LR:.2f}\\nClass: {group}')\n",
    "\n",
    "# Define function for plotting probability distribution curve\n",
    "def plot_dist(x, y, color, label, ax):\n",
    "    ax.plot(x, y, color=color, lw=1, label=label)\n",
    "    ax.fill_between(x, y, color=color, alpha=0.2)"
   ]
  },
  {
   "attachments": {},
   "cell_type": "markdown",
   "metadata": {},
   "source": [
    "### PDFs:  $P(x|w_1)$ and $P(x|w_2)$\n",
    "\n",
    "Plot the PDFs for $P(x|w_1)$ and $P(x|w_2)$ for `x = -10:0.15:10` on the same\n",
    "figure."
   ]
  },
  {
   "cell_type": "code",
   "execution_count": 4,
   "metadata": {},
   "outputs": [
    {
     "data": {
      "image/png": "[encoded data removed]",
      "text/plain": [
       "<Figure size 360x216 with 1 Axes>"
      ]
     },
     "metadata": {
      "needs_background": "light"
     },
     "output_type": "display_data"
    }
   ],
   "source": [
    "# Define x range and distributions\n",
    "xrng = np.arange(-10, 10, 0.15)\n",
    "Pxw1 = N(xrng, 1, 1)\n",
    "Pxw2 = N(xrng, 2, 3)\n",
    "\n",
    "# PLot the PDFs P(x|w1) and P(x|w2)\n",
    "fig, ax = plt.subplots(figsize=(5, 3))\n",
    "plot_dist(xrng, Pxw1, 'green', 'P(x|w1)', ax)\n",
    "plot_dist(xrng, Pxw2, 'red', 'P(x|w2)', ax)\n",
    "ax.set_xlabel('x')\n",
    "ax.set_ylabel('Probability Density')\n",
    "plt.legend();"
   ]
  },
  {
   "attachments": {},
   "cell_type": "markdown",
   "metadata": {},
   "source": [
    "### Posterior Probabilities: $P(w_1|x)$ and $P(w_2|x)$\n",
    "\n",
    "**Note:** For any given x, the posterior probabilities must sum to 1.\n",
    "\n",
    "$$\n",
    "\\begin{align*}\n",
    "posterior &= \\frac{likelihood * prior}{evidence} \\\\\n",
    "P(w|x) &= \\frac{P(x|w) * P(w)}{P(x)} \\\\\n",
    "evidence &= P(x|w_1) * P(w_1) + P(x|w_2) * P(w_2) \\\\\n",
    "P(w_1) = 0.6, &~ P(w_2) = 0.4\n",
    "\\end{align*}\n",
    "$$"
   ]
  },
  {
   "cell_type": "code",
   "execution_count": 5,
   "metadata": {},
   "outputs": [
    {
     "data": {
      "image/png": "[encoded data removed]",
      "text/plain": [
       "<Figure size 360x216 with 1 Axes>"
      ]
     },
     "metadata": {
      "needs_background": "light"
     },
     "output_type": "display_data"
    }
   ],
   "source": [
    "# Define prior probabilities and evidence\n",
    "Pw1, Pw2 = 0.6, 0.4\n",
    "Pe = Pxw1 * Pw1 + Pxw2 * Pw2\n",
    "\n",
    "# Calculate posterior probabilities\n",
    "Pw1x = Pxw1 * Pw1 / Pe\n",
    "Pw2x = Pxw2 * Pw2 / Pe\n",
    "\n",
    "# Plot the posterior probabilities\n",
    "fig, ax = plt.subplots(figsize=(5, 3))\n",
    "plot_dist(xrng, Pw1x, 'green', 'P(w1|x)', ax)\n",
    "plot_dist(xrng, Pw2x, 'red', 'P(w2|x)', ax)\n",
    "ax.set_xlabel('x')\n",
    "ax.set_ylabel('Probability')\n",
    "plt.legend();"
   ]
  },
  {
   "attachments": {},
   "cell_type": "markdown",
   "metadata": {},
   "source": [
    "### Likelihood Ratio: $\\frac{P(w_1|x)}{P(w_2|x)}$ and Decision Threshold(s)\n",
    "\n",
    "Print the values of the decision thresholds, as well as plot them as lines on\n",
    "the likelihood ratio plot. You may find the decision boundaries analytically\n",
    "(using `syms` & `solve()`) or using an external tool (e.g., Wolfram-Alpha) and\n",
    "hardcoding what you get from the external tool.\n",
    "\n",
    "$$\n",
    "\\begin{align*}\n",
    "    \\text{To solve for the decision threshold }&\n",
    "    \\text{we set the likelihood ratio to 1.} \\\\\n",
    "    \\frac{P(w_1|x)}{P(w_2|x)} &= 1 \\\\\n",
    "    \\frac{P(x|w_1) * P(w_1)}{P(x|w_2) * P(w_2)} &= 1 \\\\\n",
    "    \\frac{N(1,1)\\cdot P(w_1)}{N(2,3^2) \\cdot P(w_2)} &= 1\n",
    "\\end{align*}\n",
    "$$"
   ]
  },
  {
   "cell_type": "code",
   "execution_count": 6,
   "metadata": {},
   "outputs": [
    {
     "data": {
      "image/png": "[encoded data removed]",
      "text/plain": [
       "<Figure size 432x288 with 1 Axes>"
      ]
     },
     "metadata": {
      "needs_background": "light"
     },
     "output_type": "display_data"
    }
   ],
   "source": [
    "# Solve equation for x\n",
    "decision_threshold = solve((f(1,1) * Pw1) / (f(2,3) * Pw2) - 1)\n",
    "\n",
    "# Calculate likelihood ratio\n",
    "LR = Pw1x / Pw2x\n",
    "\n",
    "# Plot the likelihood ratio\n",
    "fig, ax = plt.subplots(figsize=(6, 4))\n",
    "ax.plot(xrng, LR, color='red', lw=2, label='Likelihood Ratio')\n",
    "ax.set_xlabel('x', fontsize=12);\n",
    "ax.set_ylabel('Likelihood Ratio', fontsize=12);\n",
    "\n",
    "# Show decision boundaries\n",
    "for i, dt in enumerate(decision_threshold):\n",
    "    lab = 'Decision Threshold' if i == 1 else None\n",
    "    ax.axvline(dt, color='blue', ls='--', lw=1, label=lab)\n",
    "    ax.text(dt, 3, f'x = {dt:.2f}', rotation=270, fontsize=12)\n",
    "ax.axhline(1, color='black', ls='--', lw=1)\n",
    "ax.text(-10, 1.1, 'LR = 1', fontsize=12)\n",
    "\n",
    "# Add legend (in top left corner) with no bounding box\n",
    "ax.legend(loc='upper left', fontsize=11, frameon=False);"
   ]
  },
  {
   "attachments": {},
   "cell_type": "markdown",
   "metadata": {},
   "source": [
    "#### Likelihood Ratio for a Sample with `x = -3`\n",
    "\n",
    "Print the value of the likelihood ratio. Comment/print how you would classify\n",
    "this sample; as $w_1$ or $w_2$?"
   ]
  },
  {
   "cell_type": "code",
   "execution_count": 7,
   "metadata": {},
   "outputs": [
    {
     "name": "stdout",
     "output_type": "stream",
     "text": [
      "Likelihood ratio: 0.01\n",
      "Class: w2\n"
     ]
    }
   ],
   "source": [
    "classify(-3, (1, 1), (2, 3))"
   ]
  },
  {
   "attachments": {},
   "cell_type": "markdown",
   "metadata": {},
   "source": [
    "#### Likelihood Ratio for a Sample with `x = 0`\n",
    "\n",
    "Print the value of the likelihood ratio. Comment/print how you would classify\n",
    "this sample; as $w_1$ or $w_2$?"
   ]
  },
  {
   "cell_type": "code",
   "execution_count": 8,
   "metadata": {},
   "outputs": [
    {
     "name": "stdout",
     "output_type": "stream",
     "text": [
      "Likelihood ratio: 3.41\n",
      "Class: w1\n"
     ]
    }
   ],
   "source": [
    "classify(0, (1, 1), (2, 3))"
   ]
  },
  {
   "attachments": {},
   "cell_type": "markdown",
   "metadata": {},
   "source": [
    "#### Likelihood Ratio for a Sample with `x = 3`\n",
    "\n",
    "Print the value of the likelihood ratio. Comment/print how you would classify\n",
    "this sample; as $w_1$ or $w_2$?"
   ]
  },
  {
   "cell_type": "code",
   "execution_count": 9,
   "metadata": {},
   "outputs": [
    {
     "name": "stdout",
     "output_type": "stream",
     "text": [
      "Likelihood ratio: 0.64\n",
      "Class: w2\n"
     ]
    }
   ],
   "source": [
    "classify(3, (1, 1), (2, 3))"
   ]
  },
  {
   "attachments": {},
   "cell_type": "markdown",
   "metadata": {},
   "source": [
    "## Monty Hall Simulation\n",
    "\n",
    "Keep the test cases below as they are."
   ]
  },
  {
   "cell_type": "code",
   "execution_count": 10,
   "metadata": {},
   "outputs": [
    {
     "name": "stdout",
     "output_type": "stream",
     "text": [
      "Win ratio when never switching door: 34.70%\n"
     ]
    }
   ],
   "source": [
    "# 0: Never switch door\n",
    "winratio = hwbayes_montyhall(0, 1000)\n",
    "print(f'Win ratio when never switching door: {winratio:.2f}%')"
   ]
  },
  {
   "cell_type": "code",
   "execution_count": 11,
   "metadata": {},
   "outputs": [
    {
     "name": "stdout",
     "output_type": "stream",
     "text": [
      "Win ratio when always switching door: 66.60%\n"
     ]
    }
   ],
   "source": [
    "# 1: Always switch door\n",
    "winratio = hwbayes_montyhall(1, 1000)\n",
    "print(f'Win ratio when always switching door: {winratio:.2f}%')"
   ]
  },
  {
   "cell_type": "code",
   "execution_count": 12,
   "metadata": {},
   "outputs": [
    {
     "name": "stdout",
     "output_type": "stream",
     "text": [
      "Win ratio when switching door at random: 51.60%\n"
     ]
    }
   ],
   "source": [
    "# 2: Switch door at random (switch or stay with equal probability)\n",
    "winratio = hwbayes_montyhall(2, 1000)\n",
    "print(f'Win ratio when switching door at random: {winratio:.2f}%')"
   ]
  }
 ],
 "metadata": {
  "kernelspec": {
   "display_name": "bmes547",
   "language": "python",
   "name": "python3"
  },
  "language_info": {
   "codemirror_mode": {
    "name": "ipython",
    "version": 3
   },
   "file_extension": ".py",
   "mimetype": "text/x-python",
   "name": "python",
   "nbconvert_exporter": "python",
   "pygments_lexer": "ipython3",
   "version": "3.10.8"
  },
  "orig_nbformat": 4,
  "vscode": {
   "interpreter": {
    "hash": "feeceb9510cbb24940cf481ca2f233c4c9462349a26307d01069b9997c44ee08"
   }
  }
 },
 "nbformat": 4,
 "nbformat_minor": 2
}
