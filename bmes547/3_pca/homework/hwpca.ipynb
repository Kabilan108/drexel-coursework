{
 "cells": [
  {
   "attachments": {},
   "cell_type": "markdown",
   "metadata": {},
   "source": [
    "# PCA Assignment\n",
    "## Visualization of Gene Expression Profiles from Disease and Healthy Tissues\n",
    "\n",
    "**Author:** [Tony Kabilan Okeke](mailto:tko35@drexel.edu)\n",
    "\n",
    "In this assignment you will analyze the [GSE7307](https://www.ncbi.nlm.nih.gov/geo/query/acc.cgi?acc=GSE7307)\n",
    "gene expression dataset.\n",
    "\n",
    "The data contains samples from different human diseases and from different\n",
    "tissue types. For each sample, expression values of genes are given. For this\n",
    "assignment you are provided only with a subset of the diseases."
   ]
  },
  {
   "cell_type": "code",
   "execution_count": null,
   "metadata": {},
   "outputs": [],
   "source": [
    "# Download the data file.\n",
    "URL = ('http://sacan.biomed.drexel.edu/lib/exe/fetch.php?'\n",
    "       'media=course:ml:data:diseases_subset.xlsx')\n",
    "data = bmes.downloadurl(URL, 'diseases_subset.xlsx')"
   ]
  },
  {
   "attachments": {},
   "cell_type": "markdown",
   "metadata": {},
   "source": [
    "### Load the Data\n",
    "\n",
    "Read the data from the file and convert it into a usable format."
   ]
  },
  {
   "cell_type": "code",
   "execution_count": null,
   "metadata": {},
   "outputs": [],
   "source": []
  },
  {
   "attachments": {},
   "cell_type": "markdown",
   "metadata": {},
   "source": [
    "### PCA Visualization\n",
    "\n",
    "Visualize (in 2D) the provided dataset. Use a scatter-plot where each point\n",
    "represents a sample. Use a different color and/or marker for each disease.\n",
    "Samples from the same disease should have the same color and /or marker."
   ]
  },
  {
   "cell_type": "code",
   "execution_count": null,
   "metadata": {},
   "outputs": [],
   "source": []
  },
  {
   "attachments": {},
   "cell_type": "markdown",
   "metadata": {},
   "source": [
    "### Interpret the Results\n",
    "\n",
    "Answer the questions below using comments and/or any supporting programming\n",
    "code."
   ]
  },
  {
   "attachments": {},
   "cell_type": "markdown",
   "metadata": {},
   "source": [
    "Samples from which disease are the most tightly clustered in the 2D PCA plot?\n",
    "Support your observation with quantitative analysis."
   ]
  },
  {
   "cell_type": "code",
   "execution_count": null,
   "metadata": {},
   "outputs": [],
   "source": []
  },
  {
   "attachments": {},
   "cell_type": "markdown",
   "metadata": {},
   "source": [
    "How many dimensions should one keep (and not necessarily visualize) in order to\n",
    "capture at least a total of 75% of the variance in the original dataset?"
   ]
  },
  {
   "cell_type": "code",
   "execution_count": null,
   "metadata": {},
   "outputs": [],
   "source": []
  },
  {
   "attachments": {},
   "cell_type": "markdown",
   "metadata": {},
   "source": [
    "What is the reconstruction error if we used the first 3 principal components to\n",
    "represent the dataset? Remember to compare the reconstructed data, not with the\n",
    "\"original data\", but with the \"mean-shifted original data\"."
   ]
  },
  {
   "cell_type": "code",
   "execution_count": null,
   "metadata": {},
   "outputs": [],
   "source": []
  }
 ],
 "metadata": {
  "kernelspec": {
   "display_name": "Python 3",
   "language": "python",
   "name": "python3"
  },
  "language_info": {
   "name": "python",
   "version": "3.10.6 (main, Nov 14 2022, 16:10:14) [GCC 11.3.0]"
  },
  "orig_nbformat": 4,
  "vscode": {
   "interpreter": {
    "hash": "916dbcbb3f70747c44a77c7bcd40155683ae19c65e1c03b4aa3499c5328201f1"
   }
  }
 },
 "nbformat": 4,
 "nbformat_minor": 2
}
