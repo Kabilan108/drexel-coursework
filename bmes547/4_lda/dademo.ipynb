{
 "cells": [
  {
   "cell_type": "code",
   "execution_count": 64,
   "metadata": {},
   "outputs": [
    {
     "name": "stdout",
     "output_type": "stream",
     "text": [
      "The autoreload extension is already loaded. To reload it, use:\n",
      "  %reload_ext autoreload\n"
     ]
    }
   ],
   "source": [
    "%load_ext autoreload\n",
    "%autoreload 2\n",
    "#See bmes.ahmet/README.TXT for setting up BMESAHMETDIR environment variable.\n",
    "import sys,os; sys.path.append(os.environ['BMESAHMETDIR']); import bmes\n",
    "\n",
    "import sklearn\n",
    "import numpy as np\n",
    "import matplotlib.colors as colors\n",
    "import matplotlib.pyplot as plt\n",
    "import seaborn as sns\n",
    "import pandas as pd"
   ]
  },
  {
   "cell_type": "code",
   "execution_count": 26,
   "metadata": {},
   "outputs": [],
   "source": [
    "# Get iris data from sklearn\n",
    "from sklearn.datasets import load_iris\n",
    "iris = load_iris()\n",
    "\n",
    "# Keep only versicolor and virginica\n",
    "X = iris['data'][iris['target'] > 0, :2]\n",
    "T = iris['target'][iris['target'] > 0]\n",
    "groups = ['versicolor', 'virginica']"
   ]
  },
  {
   "cell_type": "code",
   "execution_count": 32,
   "metadata": {},
   "outputs": [],
   "source": [
    "# LDA\n",
    "from sklearn.discriminant_analysis import LinearDiscriminantAnalysis\n",
    "\n",
    "lda = LinearDiscriminantAnalysis()\n",
    "lda.fit(X, T)\n",
    "\n",
    "# Coefficients\n",
    "A = lda.coef_[0]\n",
    "B = lda.intercept_"
   ]
  },
  {
   "cell_type": "code",
   "execution_count": 109,
   "metadata": {},
   "outputs": [],
   "source": [
    "import seaborn as sns"
   ]
  },
  {
   "cell_type": "code",
   "execution_count": 124,
   "metadata": {},
   "outputs": [
    {
     "data": {
      "text/plain": [
       "<matplotlib.contour.QuadContourSet at 0x7f378c293fd0>"
      ]
     },
     "execution_count": 124,
     "metadata": {},
     "output_type": "execute_result"
    },
    {
     "data": {
      "image/png": "[encoded data removed]",
      "text/plain": [
       "<Figure size 576x432 with 1 Axes>"
      ]
     },
     "metadata": {
      "needs_background": "light"
     },
     "output_type": "display_data"
    }
   ],
   "source": [
    "# Create meshgrid\n",
    "nx, ny = 500, 500\n",
    "X_min, X_max = X[:, 0].min(), X[:, 0].max()\n",
    "Y_min, Y_max = X[:, 1].min(), X[:, 1].max()\n",
    "\n",
    "# Create meshgrid\n",
    "xx, yy = np.meshgrid(\n",
    "    np.linspace(X_min, X_max, nx),\n",
    "    np.linspace(Y_min, Y_max, ny)\n",
    ")\n",
    "\n",
    "# Flatten meshgrid to array\n",
    "# Xmesh = np.column_stack((xx.flatten(), yy.flatten()))\n",
    "Xmesh = np.c_[xx.ravel(), yy.ravel()]\n",
    "\n",
    "# Get prediction probabilities\n",
    "# Z = lda.predict_proba(Xmesh)\n",
    "Z = lda.predict(Xmesh)\n",
    "\n",
    "# Reshape the prediction probabilities to meshgrid shape\n",
    "Z = Z.reshape(xx.shape)\n",
    "\n",
    "# Plot data\n",
    "fig, ax = plt.subplots(figsize=(8, 6))\n",
    "sns.scatterplot(\n",
    "    x=X[:, 0], y=X[:, 1], hue=T, s=80, alpha=1, legend='full',\n",
    "    palette=sns.color_palette('Set2', 2), ax=ax\n",
    ")\n",
    "\n",
    "cmap = colors.ListedColormap(sns.color_palette('Set2', 2).as_hex())\n",
    "# # Plot filled contour with appropriate labels (and colors)\n",
    "ax.contourf(xx, yy, Z, cmap=cmap, alpha=0.5)\n",
    "# ax.set_xlabel('Sepal length')\n",
    "# ax.set_ylabel('Sepal width')"
   ]
  },
  {
   "cell_type": "code",
   "execution_count": null,
   "metadata": {},
   "outputs": [],
   "source": [
    "# Create meshgrid\n",
    "nx, ny = 500, 500\n",
    "X_min, X_max = X[:, 0].min(), X[:, 0].max()\n",
    "Y_min, Y_max = X[:, 1].min(), X[:, 1].max()\n",
    "\n",
    "# Create meshgrid\n",
    "xx, yy = np.meshgrid(\n",
    "    np.linspace(X_min, X_max, nx),\n",
    "    np.linspace(Y_min, Y_max, ny)\n",
    ")\n",
    "\n",
    "# Flatten meshgrid to array\n",
    "# Xmesh = np.column_stack((xx.flatten(), yy.flatten()))\n",
    "Xmesh = np.c_[xx.ravel(), yy.ravel()]\n",
    "\n",
    "# Get predictions\n",
    "Z = lda.predict(Xmesh)\n",
    "# Decode predictions\n",
    "# Z = np.where(Z == 1, 'versicolor', 'virginica')\n",
    "# Reshape predictions to meshgrid\n",
    "Z = Z.reshape(xx.shape)\n",
    "\n",
    "# Scatterpolot\n",
    "fig, ax = plt.subplots(figsize=(8, 6))\n",
    "g = sns.scatterplot(\n",
    "    x=X[:,0], y=X[:,1], hue=T, edgecolor='black', linewidth=1\n",
    ")\n",
    "\n",
    "# extract the colormap, so the regions can be colored in the same colors as the scatterplot\n",
    "colormap = colors.ListedColormap(sns.color_palette().as_hex()[:2])\n",
    "ax.contourf(xx, yy, Z, alpha=0.5, cmap=colormap);"
   ]
  },
  {
   "cell_type": "code",
   "execution_count": 60,
   "metadata": {},
   "outputs": [
    {
     "data": {
      "text/plain": [
       "array([1, 1, 1, 1, 1, 1, 1, 1, 1, 1, 1, 1, 1, 1, 1, 1, 1, 1, 1, 1, 1, 1,\n",
       "       1, 1, 1, 1, 1, 1, 1, 1, 1, 1, 1, 1, 1, 1, 1, 1, 1, 1, 1, 1, 1, 1,\n",
       "       1, 1, 1, 1, 1, 1, 2, 2, 2, 2, 2, 2, 2, 2, 2, 2, 2, 2, 2, 2, 2, 2,\n",
       "       2, 2, 2, 2, 2, 2, 2, 2, 2, 2, 2, 2, 2, 2, 2, 2, 2, 2, 2, 2, 2, 2,\n",
       "       2, 2, 2, 2, 2, 2, 2, 2, 2, 2, 2, 2])"
      ]
     },
     "execution_count": 60,
     "metadata": {},
     "output_type": "execute_result"
    }
   ],
   "source": [
    "T"
   ]
  },
  {
   "cell_type": "code",
   "execution_count": 56,
   "metadata": {},
   "outputs": [
    {
     "data": {
      "text/plain": [
       "(500, 500)"
      ]
     },
     "execution_count": 56,
     "metadata": {},
     "output_type": "execute_result"
    }
   ],
   "source": []
  },
  {
   "cell_type": "code",
   "execution_count": 48,
   "metadata": {},
   "outputs": [
    {
     "data": {
      "text/plain": [
       "array([[0.94508016, 0.05491984],\n",
       "       [0.94450304, 0.05549696],\n",
       "       [0.94392022, 0.05607978],\n",
       "       ...,\n",
       "       [0.0337982 , 0.9662018 ],\n",
       "       [0.03343875, 0.96656125],\n",
       "       [0.03308298, 0.96691702]])"
      ]
     },
     "execution_count": 48,
     "metadata": {},
     "output_type": "execute_result"
    }
   ],
   "source": [
    "lda.predict_proba(Xmesh)"
   ]
  },
  {
   "cell_type": "code",
   "execution_count": 49,
   "metadata": {},
   "outputs": [
    {
     "data": {
      "text/plain": [
       "(250000,)"
      ]
     },
     "execution_count": 49,
     "metadata": {},
     "output_type": "execute_result"
    }
   ],
   "source": [
    "lda.predict(Xmesh).shape"
   ]
  },
  {
   "cell_type": "code",
   "execution_count": 39,
   "metadata": {},
   "outputs": [
    {
     "data": {
      "text/plain": [
       "(250000, 2)"
      ]
     },
     "execution_count": 39,
     "metadata": {},
     "output_type": "execute_result"
    }
   ],
   "source": [
    "np.column_stack((xx.flatten(), yy.flatten())).shape"
   ]
  },
  {
   "cell_type": "code",
   "execution_count": 43,
   "metadata": {},
   "outputs": [
    {
     "data": {
      "text/plain": [
       "(250000, 2)"
      ]
     },
     "execution_count": 43,
     "metadata": {},
     "output_type": "execute_result"
    }
   ],
   "source": [
    "np.c_[xx.ravel(), yy.ravel()].shape"
   ]
  }
 ],
 "metadata": {
  "kernelspec": {
   "display_name": "bmes547",
   "language": "python",
   "name": "python3"
  },
  "language_info": {
   "codemirror_mode": {
    "name": "ipython",
    "version": 3
   },
   "file_extension": ".py",
   "mimetype": "text/x-python",
   "name": "python",
   "nbconvert_exporter": "python",
   "pygments_lexer": "ipython3",
   "version": "3.10.8"
  },
  "orig_nbformat": 4
 },
 "nbformat": 4,
 "nbformat_minor": 2
}
