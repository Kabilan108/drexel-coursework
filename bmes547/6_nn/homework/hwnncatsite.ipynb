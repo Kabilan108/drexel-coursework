{
 "cells": [
  {
   "attachments": {},
   "cell_type": "markdown",
   "metadata": {},
   "source": [
    "# Classification of Active Sites using Neural Network\n",
    "\n",
    "**Author:** [Tony Kabilan Okeke](mailto:tko35@drexel.edu)\n",
    "\n",
    "template by: AhmetSacan. \n",
    "\n",
    "In this assignment, you are going to predict catalytic residues in proteins \n",
    "using sequence and structural information. The dataset (courtesy of Natalia \n",
    "Petrova) is a subset of the data used in \"Prediction of catalytic residues \n",
    "using Support Vector Machine with selected protein sequence and structural \n",
    "properties\", Natalia Petrova and Cathy Wu, 2006. http://bmcbioinformatics.biomedcentral.com/articles/10.1186/1471-2105-7-312\n",
    "\n",
    "Please review that publication to learn more about this dataset and the catalytic residue prediction problem."
   ]
  },
  {
   "cell_type": "code",
   "execution_count": 1,
   "metadata": {},
   "outputs": [
    {
     "name": "stderr",
     "output_type": "stream",
     "text": [
      "2023-02-27 18:08:59.954294: I tensorflow/core/platform/cpu_feature_guard.cc:193] This TensorFlow binary is optimized with oneAPI Deep Neural Network Library (oneDNN) to use the following CPU instructions in performance-critical operations:  AVX2 FMA\n",
      "To enable them in other operations, rebuild TensorFlow with the appropriate compiler flags.\n",
      "2023-02-27 18:09:00.232662: E tensorflow/stream_executor/cuda/cuda_blas.cc:2981] Unable to register cuBLAS factory: Attempting to register factory for plugin cuBLAS when one has already been registered\n",
      "2023-02-27 18:09:01.056784: W tensorflow/stream_executor/platform/default/dso_loader.cc:64] Could not load dynamic library 'libnvinfer.so.7'; dlerror: libnvinfer.so.7: cannot open shared object file: No such file or directory; LD_LIBRARY_PATH: /usr/lib/x86_64-linux-gnu:/usr/lib/x86_64-linux-gnu:/home/muaddib/.conda/envs/keras/lib/\n",
      "2023-02-27 18:09:01.056920: W tensorflow/stream_executor/platform/default/dso_loader.cc:64] Could not load dynamic library 'libnvinfer_plugin.so.7'; dlerror: libnvinfer_plugin.so.7: cannot open shared object file: No such file or directory; LD_LIBRARY_PATH: /usr/lib/x86_64-linux-gnu:/usr/lib/x86_64-linux-gnu:/home/muaddib/.conda/envs/keras/lib/\n",
      "2023-02-27 18:09:01.056932: W tensorflow/compiler/tf2tensorrt/utils/py_utils.cc:38] TF-TRT Warning: Cannot dlopen some TensorRT libraries. If you would like to use Nvidia GPU with TensorRT, please make sure the missing libraries mentioned above are installed properly.\n"
     ]
    }
   ],
   "source": [
    "%load_ext autoreload\n",
    "%autoreload 2\n",
    "\n",
    "# Import necessary libraries\n",
    "from sklearn.model_selection import KFold\n",
    "from keras.callbacks import TensorBoard\n",
    "from keras.models import Sequential\n",
    "from keras.layers import Dense\n",
    "\n",
    "import matplotlib.pyplot as plt\n",
    "import seaborn as sns\n",
    "import numpy as np\n",
    "\n",
    "# Import loadcatsite\n",
    "from loadcatsite import loadcatsite"
   ]
  },
  {
   "attachments": {},
   "cell_type": "markdown",
   "metadata": {},
   "source": [
    "## Load the data\n",
    "\n",
    "Get the data using the loadcatsite() function. No changes needed for this \n",
    "section. You need to have a `loadcatsite.py` file available in the same folder."
   ]
  },
  {
   "cell_type": "code",
   "execution_count": 2,
   "metadata": {},
   "outputs": [],
   "source": [
    "# Load data\n",
    "X, T, names = loadcatsite()"
   ]
  },
  {
   "attachments": {},
   "cell_type": "markdown",
   "metadata": {},
   "source": [
    "## General Guidelines\n",
    "\n",
    "- Do not show the Network GUI. You may show the GUI when you are developing\n",
    "  and testing your code; your final code and report should not contain the GUI.\n",
    "- Do not use any validation set when training the network.\n",
    "- You may use any number of hidden units in your final code. You may try \n",
    "  different numbers of hidden units to decide how many hidden units you want to\n",
    "  use, but you do not need to include code to that effect.\n",
    "\n",
    "## Train a network for classification using all features\n",
    "\n",
    "Use only one of the training & test subsets of the cross-validation sets when \n",
    "reporting training & test accuracies in this section."
   ]
  },
  {
   "cell_type": "code",
   "execution_count": 3,
   "metadata": {},
   "outputs": [],
   "source": [
    "# NUMHIDDEN variable should control how many hidden units you are using for\n",
    "# this network.\n",
    "NUMHIDDEN = 10;\n",
    "\n",
    "# KFOLD variable should control how many cross-validation sets are used. The\n",
    "# rest of your code should work correctly if the value of this variable is\n",
    "# modified. \n",
    "KFOLD = 3;"
   ]
  },
  {
   "attachments": {},
   "cell_type": "markdown",
   "metadata": {},
   "source": [
    "## Set up the cross-validation indices\n",
    "\n",
    "- Use only the first cross-validation set to divide the dataset into training\n",
    "  and testing.\n",
    "- Create the network, set its parameters, and train on the training set.\n",
    "- Test the network on the test data.\n",
    "- Report the test accuracy.\n",
    "- No repetitions needed for this section,"
   ]
  },
  {
   "cell_type": "code",
   "execution_count": 4,
   "metadata": {},
   "outputs": [
    {
     "name": "stderr",
     "output_type": "stream",
     "text": [
      "2023-02-27 18:09:04.328829: I tensorflow/stream_executor/cuda/cuda_gpu_executor.cc:966] could not open file to read NUMA node: /sys/bus/pci/devices/0000:01:00.0/numa_node\n",
      "Your kernel may have been built without NUMA support.\n",
      "2023-02-27 18:09:04.349045: I tensorflow/stream_executor/cuda/cuda_gpu_executor.cc:966] could not open file to read NUMA node: /sys/bus/pci/devices/0000:01:00.0/numa_node\n",
      "Your kernel may have been built without NUMA support.\n",
      "2023-02-27 18:09:04.349206: I tensorflow/stream_executor/cuda/cuda_gpu_executor.cc:966] could not open file to read NUMA node: /sys/bus/pci/devices/0000:01:00.0/numa_node\n",
      "Your kernel may have been built without NUMA support.\n",
      "2023-02-27 18:09:04.350093: I tensorflow/core/platform/cpu_feature_guard.cc:193] This TensorFlow binary is optimized with oneAPI Deep Neural Network Library (oneDNN) to use the following CPU instructions in performance-critical operations:  AVX2 FMA\n",
      "To enable them in other operations, rebuild TensorFlow with the appropriate compiler flags.\n",
      "2023-02-27 18:09:04.356630: I tensorflow/stream_executor/cuda/cuda_gpu_executor.cc:966] could not open file to read NUMA node: /sys/bus/pci/devices/0000:01:00.0/numa_node\n",
      "Your kernel may have been built without NUMA support.\n",
      "2023-02-27 18:09:04.356921: I tensorflow/stream_executor/cuda/cuda_gpu_executor.cc:966] could not open file to read NUMA node: /sys/bus/pci/devices/0000:01:00.0/numa_node\n",
      "Your kernel may have been built without NUMA support.\n",
      "2023-02-27 18:09:04.357079: I tensorflow/stream_executor/cuda/cuda_gpu_executor.cc:966] could not open file to read NUMA node: /sys/bus/pci/devices/0000:01:00.0/numa_node\n",
      "Your kernel may have been built without NUMA support.\n",
      "2023-02-27 18:09:05.604726: I tensorflow/stream_executor/cuda/cuda_gpu_executor.cc:966] could not open file to read NUMA node: /sys/bus/pci/devices/0000:01:00.0/numa_node\n",
      "Your kernel may have been built without NUMA support.\n",
      "2023-02-27 18:09:05.604848: I tensorflow/stream_executor/cuda/cuda_gpu_executor.cc:966] could not open file to read NUMA node: /sys/bus/pci/devices/0000:01:00.0/numa_node\n",
      "Your kernel may have been built without NUMA support.\n",
      "2023-02-27 18:09:05.604861: I tensorflow/core/common_runtime/gpu/gpu_device.cc:1700] Could not identify NUMA node of platform GPU id 0, defaulting to 0.  Your kernel may not have been built with NUMA support.\n",
      "2023-02-27 18:09:05.604928: I tensorflow/stream_executor/cuda/cuda_gpu_executor.cc:966] could not open file to read NUMA node: /sys/bus/pci/devices/0000:01:00.0/numa_node\n",
      "Your kernel may have been built without NUMA support.\n",
      "2023-02-27 18:09:05.604974: I tensorflow/core/common_runtime/gpu/gpu_device.cc:1616] Created device /job:localhost/replica:0/task:0/device:GPU:0 with 2083 MB memory:  -> device: 0, name: NVIDIA GeForce GTX 1650, pci bus id: 0000:01:00.0, compute capability: 7.5\n"
     ]
    },
    {
     "name": "stdout",
     "output_type": "stream",
     "text": [
      "Test accuracy: 87.50%\n"
     ]
    }
   ],
   "source": [
    "# Use only the first cross-validation set to divide the dataset into training and testing.\n",
    "kf = KFold(n_splits=KFOLD, shuffle=True, random_state=0)\n",
    "train_idx, test_idx = next(kf.split(X))\n",
    "X_train, X_test = X[train_idx], X[test_idx]\n",
    "T_train, T_test = T[train_idx], T[test_idx]\n",
    "\n",
    "# Create the network, set its parameters, and train on the training set.\n",
    "net = Sequential([\n",
    "    Dense(units=NUMHIDDEN, activation='sigmoid', input_dim=X.shape[1]),  # Hidden layer\n",
    "    Dense(units=1, activation='sigmoid')  # Output layer\n",
    "])\n",
    "net.compile(\n",
    "    optimizer='adam', loss='binary_crossentropy', metrics=['accuracy'], \n",
    ")\n",
    "net.fit(X_train, T_train, epochs=200, verbose=0)\n",
    "\n",
    "# Test the network on the test data.\n",
    "loss, accuracy = net.evaluate(X_test, T_test, verbose=0)   \n",
    "\n",
    "# Report the test accuracy.\n",
    "print('Test accuracy: {:.2f}%'.format(accuracy * 100))\n",
    "\n",
    "# No repetitions needed for this section"
   ]
  },
  {
   "attachments": {},
   "cell_type": "markdown",
   "metadata": {},
   "source": [
    "## Train a network for classification using a subset of the features\n",
    "\n",
    "Create a subset of the dataset that includes only the following features:\n",
    "amino acid P, amino acid V, nearest_cleft_distance, and ScoreConsScore.\n",
    "\n",
    "Report cross-validated training and test accuracies on this new dataset. You\n",
    "must report average accuracies across multiple repetitions and across all\n",
    "cross-validation sets.\n",
    "\n",
    "```psuedocode\n",
    "foreach repetition\n",
    "    set up the cross-validation indices\n",
    "    foreach cross-validation set\n",
    "        train & test the network\n",
    "    end\n",
    "    calculate and store the training and test accuracies for this repetition\n",
    "    ignore the fact that there may be different number of samples in each fold\n",
    "end\n",
    "```"
   ]
  },
  {
   "cell_type": "code",
   "execution_count": 5,
   "metadata": {},
   "outputs": [],
   "source": [
    "# NUMHIDDEN variable should control how many hidden units you are using for\n",
    "# this network.\n",
    "NUMHIDDEN = 10;\n",
    "\n",
    "# KFOLD variable should control how many cross-validation sets are used. The\n",
    "# rest of your code should work correctly if the value of this variable is\n",
    "# modified. \n",
    "KFOLD = 3;\n",
    "\n",
    "# NUMREPEATS variable should control how many times you repeat through all\n",
    "# of the cross-validation sets.\n",
    "NUMREPEATS = 4;\n",
    "\n",
    "# Create a subset of data including only 4 features\n",
    "cols = ['AminoAcidP', 'AminoAcidV', 'nearest_cleft_distance', 'ScoreConsScore']\n",
    "X_sub = X[:, [names.index(col) for col in cols]]\n",
    "\n",
    "# Define the model with only 4 input features\n",
    "net = Sequential([\n",
    "    Dense(units=NUMHIDDEN, activation='sigmoid', input_dim=X_sub.shape[1]),  # Hidden layer\n",
    "    Dense(units=1, activation='sigmoid')  # Output layer\n",
    "])\n",
    "net.compile(\n",
    "    optimizer='adam', loss='binary_crossentropy', metrics=['accuracy'], \n",
    ")"
   ]
  },
  {
   "cell_type": "code",
   "execution_count": 6,
   "metadata": {},
   "outputs": [],
   "source": [
    "# Store accuracies\n",
    "accuracies = {\n",
    "    'train': np.zeros((NUMREPEATS, KFOLD)),\n",
    "    'test': np.zeros((NUMREPEATS, KFOLD)),\n",
    "}\n",
    "\n",
    "for i in range(NUMREPEATS):\n",
    "    # Iniitalize cross-validation\n",
    "    kf = KFold(n_splits=KFOLD, shuffle=True, random_state=i)\n",
    "\n",
    "    for j, (train_idx, test_idx) in enumerate(kf.split(X_sub)):\n",
    "        # Split the data into training and testing\n",
    "        X_train, X_test = X_sub[train_idx], X_sub[test_idx]\n",
    "        T_train, T_test = T[train_idx], T[test_idx]\n",
    "\n",
    "        # Train the network\n",
    "        net.fit(X_train, T_train, epochs=200, verbose=0)\n",
    "\n",
    "        # Test the network on the training data\n",
    "        loss, accuracy = net.evaluate(X_train, T_train, verbose=0)\n",
    "        accuracies['train'][i, j] = accuracy\n",
    "\n",
    "        # Test the network on the test data\n",
    "        loss, accuracy = net.evaluate(X_test, T_test, verbose=0)\n",
    "        accuracies['test'][i, j] = accuracy"
   ]
  },
  {
   "attachments": {},
   "cell_type": "markdown",
   "metadata": {},
   "source": [
    "After you complete all repetitions,\n",
    "\n",
    "- Report the average training accuracy across all repetitions.\n",
    "- Report the average test accuracy across all repetitions.\n",
    "- Show distribution of training and test accuracies across all repetitions and\n",
    "  cross-folds in a boxplot."
   ]
  },
  {
   "cell_type": "code",
   "execution_count": 7,
   "metadata": {},
   "outputs": [
    {
     "name": "stdout",
     "output_type": "stream",
     "text": [
      "Average training accuracy: (81.26 ± 0.82) %\n",
      "Average test accuracy: (81.07 ± 1.62) %\n"
     ]
    },
    {
     "data": {
      "image/png": "[encoded data removed]",
      "text/plain": [
       "<Figure size 300x400 with 1 Axes>"
      ]
     },
     "metadata": {},
     "output_type": "display_data"
    }
   ],
   "source": [
    "# Report average accuracies\n",
    "print('Average training accuracy: ({:.2f} ± {:.2f}) %'.format(accuracies['train'].mean() * 100, accuracies['train'].std() * 100))\n",
    "print('Average test accuracy: ({:.2f} ± {:.2f}) %'.format(accuracies['test'].mean() * 100, accuracies['test'].std() * 100))\n",
    "\n",
    "# Boxplot of accuracies\n",
    "fig, ax = plt.subplots(figsize=(3, 4))\n",
    "sns.boxplot(\n",
    "    data=[accuracies['train'].ravel()*100, accuracies['test'].ravel()*100], \n",
    "    palette='Set2',\n",
    "    ax=ax\n",
    ")\n",
    "sns.despine()\n",
    "ax.set_xticklabels(['Training', 'Test'])\n",
    "ax.set_ylabel('Accuracy (%)');"
   ]
  }
 ],
 "metadata": {
  "kernelspec": {
   "display_name": "keras",
   "language": "python",
   "name": "python3"
  },
  "language_info": {
   "codemirror_mode": {
    "name": "ipython",
    "version": 3
   },
   "file_extension": ".py",
   "mimetype": "text/x-python",
   "name": "python",
   "nbconvert_exporter": "python",
   "pygments_lexer": "ipython3",
   "version": "3.10.9"
  },
  "orig_nbformat": 4
 },
 "nbformat": 4,
 "nbformat_minor": 2
}
