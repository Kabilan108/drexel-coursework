{
 "cells": [
  {
   "attachments": {},
   "cell_type": "markdown",
   "metadata": {},
   "source": [
    "# Classification of Active Sites using Neural Network\n",
    "\n",
    "**Author:** [Tony Kabilan Okeke](mailto:tko35@drexel.edu)\n",
    "\n",
    "template by: AhmetSacan. \n",
    "\n",
    "In this assignment, you are going to predict catalytic residues in proteins \n",
    "using sequence and structural information. The dataset (courtesy of Natalia \n",
    "Petrova) is a subset of the data used in \"Prediction of catalytic residues \n",
    "using Support Vector Machine with selected protein sequence and structural \n",
    "properties\", Natalia Petrova and Cathy Wu, 2006. http://bmcbioinformatics.biomedcentral.com/articles/10.1186/1471-2105-7-312\n",
    "\n",
    "Please review that publication to learn more about this dataset and the catalytic residue prediction problem."
   ]
  },
  {
   "attachments": {},
   "cell_type": "markdown",
   "metadata": {},
   "source": [
    "## Load the data\n",
    "\n",
    "Get the data using the loadcatsite() function. No changes needed for this \n",
    "section. You need to have a `loadcatsite.py` file available in the same folder."
   ]
  },
  {
   "cell_type": "code",
   "execution_count": null,
   "metadata": {
    "vscode": {
     "languageId": "plaintext"
    }
   },
   "outputs": [],
   "source": [
    "X, T, names = loadcatsite()"
   ]
  },
  {
   "attachments": {},
   "cell_type": "markdown",
   "metadata": {},
   "source": [
    "## General Guidelines\n",
    "\n",
    "- Do not show the Network GUI. You may show the GUI when you are developing\n",
    "  and testing your code; your final code and report should not contain the GUI.\n",
    "- Do not use any validation set when training the network.\n",
    "- You may use any number of hidden units in your final code. You may try \n",
    "  different numbers of hidden units to decide how many hidden units you want to\n",
    "  use, but you do not need to include code to that effect.\n",
    "\n",
    "## Train a network for classification using all features\n",
    "\n",
    "Use only one of the training & test subsets of the cross-validation sets when \n",
    "reporting training & test accuracies in this section."
   ]
  },
  {
   "cell_type": "code",
   "execution_count": null,
   "metadata": {
    "vscode": {
     "languageId": "plaintext"
    }
   },
   "outputs": [],
   "source": [
    "# NUMHIDDEN variable should control how many hidden units you are using for\n",
    "# this network.\n",
    "NUMHIDDEN = 1;\n",
    "\n",
    "# KFOLD variable should control how many cross-validation sets are used. The\n",
    "# rest of your code should work correctly if the value of this variable is\n",
    "# modified. \n",
    "KFOLD = 3;"
   ]
  },
  {
   "attachments": {},
   "cell_type": "markdown",
   "metadata": {},
   "source": [
    "## Set up the cross-validation indices\n",
    "\n",
    "- Use only the first cross-validation set to divide the dataset into training\n",
    "  and testing.\n",
    "- Create the network, set its parameters, and train on the training set.\n",
    "- Test the network on the test data.\n",
    "- Report the test accuracy.\n",
    "- No repetitions needed for this section,"
   ]
  },
  {
   "cell_type": "code",
   "execution_count": null,
   "metadata": {
    "vscode": {
     "languageId": "plaintext"
    }
   },
   "outputs": [],
   "source": []
  },
  {
   "attachments": {},
   "cell_type": "markdown",
   "metadata": {},
   "source": [
    "## Train a network for classification using a subset of the features\n",
    "\n",
    "Create a subset of the dataset that includes only the following features:\n",
    "amino acid P, amino acid V, nearest_cleft_distance, and ScoreConsScore.\n",
    "\n",
    "Report cross-validated training and test accuracies on this new dataset. You\n",
    "must report average accuracies across multiple repetitions and across all\n",
    "cross-validation sets."
   ]
  },
  {
   "cell_type": "code",
   "execution_count": null,
   "metadata": {
    "vscode": {
     "languageId": "plaintext"
    }
   },
   "outputs": [],
   "source": [
    "# NUMHIDDEN variable should control how many hidden units you are using for\n",
    "# this network.\n",
    "NUMHIDDEN = 1;\n",
    "\n",
    "# KFOLD variable should control how many cross-validation sets are used. The\n",
    "# rest of your code should work correctly if the value of this variable is\n",
    "# modified. \n",
    "KFOLD = 3;\n",
    "\n",
    "# NUMREPEATS variable should control how many times you repeat through all\n",
    "# of the cross-validation sets.\n",
    "NUMREPEATS = 4;"
   ]
  },
  {
   "attachments": {},
   "cell_type": "markdown",
   "metadata": {},
   "source": [
    "```psuedocode\n",
    "foreach repetition\n",
    "    set up the cross-validation indices\n",
    "    foreach cross-validation set\n",
    "        train & test the network\n",
    "    end\n",
    "    calculate and store the training and test accuracies for this repetition\n",
    "    ignore the fact that there may be different number of samples in each fold\n",
    "end\n",
    "```"
   ]
  },
  {
   "cell_type": "code",
   "execution_count": null,
   "metadata": {
    "vscode": {
     "languageId": "plaintext"
    }
   },
   "outputs": [],
   "source": []
  },
  {
   "attachments": {},
   "cell_type": "markdown",
   "metadata": {},
   "source": [
    "After you complete all repetitions,\n",
    "\n",
    "- Report the average training accuracy across all repetitions.\n",
    "- Report the average test accuracy across all repetitions.\n",
    "- Show distribution of training and test accuracies across all repetitions and\n",
    "  cross-folds in a boxplot."
   ]
  },
  {
   "cell_type": "code",
   "execution_count": null,
   "metadata": {
    "vscode": {
     "languageId": "plaintext"
    }
   },
   "outputs": [],
   "source": []
  }
 ],
 "metadata": {
  "language_info": {
   "name": "python"
  },
  "orig_nbformat": 4
 },
 "nbformat": 4,
 "nbformat_minor": 2
}
