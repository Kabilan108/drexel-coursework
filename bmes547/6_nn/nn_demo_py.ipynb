{
 "cells": [
  {
   "attachments": {},
   "cell_type": "markdown",
   "metadata": {},
   "source": [
    "## Demonstration of Artificial Neural Networks"
   ]
  },
  {
   "cell_type": "code",
   "execution_count": 17,
   "metadata": {},
   "outputs": [
    {
     "name": "stdout",
     "output_type": "stream",
     "text": [
      "The autoreload extension is already loaded. To reload it, use:\n",
      "  %reload_ext autoreload\n"
     ]
    }
   ],
   "source": [
    "%load_ext autoreload\n",
    "%autoreload 2\n",
    "#See bmes.ahmet/README.TXT for setting up BMESAHMETDIR environment variable.\n",
    "import sys,os; sys.path.append(os.environ['BMESAHMETDIR']); import bmes\n",
    "\n",
    "import pandas as pd\n",
    "import numpy as np\n",
    "import sklearn\n",
    "from pylab import *"
   ]
  },
  {
   "cell_type": "code",
   "execution_count": null,
   "metadata": {},
   "outputs": [],
   "source": [
    "# To load an Arff file, use:\n",
    "from scipy.io import arff\n",
    "#followed by:\n",
    "# data, meta = arff.loadarff( arffile )"
   ]
  },
  {
   "cell_type": "code",
   "execution_count": 19,
   "metadata": {},
   "outputs": [],
   "source": [
    "XT=np.array([[0,0,0],[1,0,1],[0,1,1],[1,1,0], [0,0,0],[1,0,1],[0,1,1],[1,1,0]]);\n",
    "X=XT[:,:-1]; T=XT[:,-1];"
   ]
  },
  {
   "cell_type": "code",
   "execution_count": 20,
   "metadata": {},
   "outputs": [],
   "source": [
    "# For k-fold separation (e.g., k=4):\n",
    "from sklearn.model_selection import StratifiedKFold\n",
    "\n",
    "skf = StratifiedKFold(n_splits=4)\n",
    "Itrain,Itest = next(skf.split(X,T)) #and obtain the first training & test sets\n",
    "Xtrain = X[Itrain,:]\n",
    "Ttrain = T[Itrain]\n",
    "Xtest = X[Itest, :]\n",
    "Ttest = T[Itest]\n",
    "#...\n",
    "\n",
    "# to use skf in a for loop, you can use:\n",
    "# for Itrain, Itest in skf.split(X,T):\n",
    "#   ..."
   ]
  },
  {
   "cell_type": "code",
   "execution_count": 22,
   "metadata": {},
   "outputs": [
    {
     "name": "stdout",
     "output_type": "stream",
     "text": [
      "[0 0 0 0 0 0]\n"
     ]
    }
   ],
   "source": [
    "# Use MLPClassifier for classification and MLPRegressor for regression.\n",
    "from sklearn.neural_network import MLPClassifier\n",
    "\n",
    "# Create the network, set its parameters, train and predict:\n",
    "# e.g., with 1 hidden unit:\n",
    "mlp = MLPClassifier(hidden_layer_sizes=(1,), activation='logistic')\n",
    "mlp.fit(Xtrain,Ttrain)\n",
    "Ytrain = mlp.predict(Xtrain)\n",
    "print(Ytrain)"
   ]
  },
  {
   "cell_type": "code",
   "execution_count": null,
   "metadata": {},
   "outputs": [],
   "source": [
    "# you can let the mlp do the accuracy calculation:\n",
    "mlp.score(Xtest,Ttest)\n",
    "\n",
    "# additional performance metrics (precision, recall) available from:\n",
    "from sklearn.metrics import classification_report"
   ]
  }
 ],
 "metadata": {
  "kernelspec": {
   "display_name": "Python 3 (ipykernel)",
   "language": "python",
   "name": "python3"
  },
  "language_info": {
   "codemirror_mode": {
    "name": "ipython",
    "version": 3
   },
   "file_extension": ".py",
   "mimetype": "text/x-python",
   "name": "python",
   "nbconvert_exporter": "python",
   "pygments_lexer": "ipython3",
   "version": "3.10.8"
  }
 },
 "nbformat": 4,
 "nbformat_minor": 2
}
