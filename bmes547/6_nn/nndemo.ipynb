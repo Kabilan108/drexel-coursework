{
 "cells": [
  {
   "attachments": {},
   "cell_type": "markdown",
   "metadata": {},
   "source": [
    "# Demonstration of Artificial Neural Netowrks\n",
    "\n",
    "Parts of the code are based on a similar demonstration written by Ahmet Sacan\n",
    "in MATLAB."
   ]
  },
  {
   "cell_type": "code",
   "execution_count": 1,
   "metadata": {},
   "outputs": [
    {
     "name": "stderr",
     "output_type": "stream",
     "text": [
      "2023-02-26 19:18:39.747298: I tensorflow/core/platform/cpu_feature_guard.cc:193] This TensorFlow binary is optimized with oneAPI Deep Neural Network Library (oneDNN) to use the following CPU instructions in performance-critical operations:  AVX2 FMA\n",
      "To enable them in other operations, rebuild TensorFlow with the appropriate compiler flags.\n",
      "2023-02-26 19:18:42.003411: E tensorflow/stream_executor/cuda/cuda_blas.cc:2981] Unable to register cuBLAS factory: Attempting to register factory for plugin cuBLAS when one has already been registered\n",
      "2023-02-26 19:18:44.208764: W tensorflow/stream_executor/platform/default/dso_loader.cc:64] Could not load dynamic library 'libnvinfer.so.7'; dlerror: libnvinfer.so.7: cannot open shared object file: No such file or directory; LD_LIBRARY_PATH: /usr/lib/x86_64-linux-gnu:/usr/lib/x86_64-linux-gnu:/home/muaddib/.conda/envs/keras/lib/\n",
      "2023-02-26 19:18:44.209783: W tensorflow/stream_executor/platform/default/dso_loader.cc:64] Could not load dynamic library 'libnvinfer_plugin.so.7'; dlerror: libnvinfer_plugin.so.7: cannot open shared object file: No such file or directory; LD_LIBRARY_PATH: /usr/lib/x86_64-linux-gnu:/usr/lib/x86_64-linux-gnu:/home/muaddib/.conda/envs/keras/lib/\n",
      "2023-02-26 19:18:44.209800: W tensorflow/compiler/tf2tensorrt/utils/py_utils.cc:38] TF-TRT Warning: Cannot dlopen some TensorRT libraries. If you would like to use Nvidia GPU with TensorRT, please make sure the missing libraries mentioned above are installed properly.\n"
     ]
    }
   ],
   "source": [
    "# Imports for data manipulation\n",
    "import matplotlib.pyplot as plt\n",
    "import seaborn as sns\n",
    "import pandas as pd\n",
    "import numpy as np\n",
    "from infoml import datasets\n",
    "\n",
    "# Imports for ML\n",
    "from tensorflow.keras.callbacks import TensorBoard\n",
    "from keras.utils.vis_utils import plot_model\n",
    "from tensorflow.keras import layers\n",
    "from tensorflow import keras\n",
    "from sklearn.neural_network import MLPClassifier\n",
    "import tensorflow as tf\n",
    "\n",
    "#See bmes.ahmet/README.TXT for setting up BMESAHMETDIR environment variable.\n",
    "import sys,os; sys.path.append(os.environ['BMESAHMETDIR']); import bmes\n",
    "\n",
    "# Set seed for reproducibility\n",
    "np.random.seed(0)\n",
    "tf.random.set_seed(0)"
   ]
  },
  {
   "attachments": {},
   "cell_type": "markdown",
   "metadata": {},
   "source": [
    "## [Keras] Simple Classification Example\n",
    "\n",
    "For a classification problem, you need to make sure you are using a network\n",
    "designed for classification tasks and you either get outputs that are already\n",
    "binary, or that you can interpret as binary."
   ]
  },
  {
   "cell_type": "code",
   "execution_count": 93,
   "metadata": {},
   "outputs": [],
   "source": [
    "# Set up sample data for the AND problem (truth table)\n",
    "XT = np.array([[0, 0, 0], [1, 0, 0], [0, 1, 0], [1, 1, 1]])\n",
    "\n",
    "# Set up sample data for the XOR problem (truth table)\n",
    "XT = np.array([[0, 0, 0], [1, 0, 1], [0, 1, 1], [1, 1, 0]])\n",
    "\n",
    "# Larder data set for XOR\n",
    "XT = np.array([[0, 0, 0], [1, 0, 1], [0, 1, 1], [1, 1, 0], \n",
    "               [0, 0, 0], [1, 0, 1], [0, 1, 1], [1, 1, 0]])\n",
    "\n",
    "# Define data and labels\n",
    "X = XT[:, :-1]\n",
    "y = XT[:, -1].reshape(-1, 1)"
   ]
  },
  {
   "cell_type": "code",
   "execution_count": 103,
   "metadata": {},
   "outputs": [
    {
     "name": "stdout",
     "output_type": "stream",
     "text": [
      "1/1 [==============================] - 0s 54ms/step\n",
      "Accuracy:  0.75\n"
     ]
    }
   ],
   "source": [
    "# Create the network and configure the options\n",
    "net = keras.Sequential()\n",
    "net.add( layers.Dense(units=1, input_dim=X.shape[1], activation='sigmoid') )\n",
    "\n",
    "# Do not use validation and test sets\n",
    "net.compile(loss='binary_crossentropy', metrics=['accuracy'])\n",
    "\n",
    "# Train the network\n",
    "history = net.fit(X, y, epochs=100, verbose=0);\n",
    "\n",
    "# Visualize the network\n",
    "plot_model(net, show_shapes=True, show_layer_names=True, to_file='model.png')"
   ]
  },
  {
   "attachments": {},
   "cell_type": "markdown",
   "metadata": {},
   "source": [
    "#### Test Network Performance\n",
    "\n",
    "Here, I am just calculating the \"training\" performance. For a proper evaluation, \n",
    "you would need to report performance on a separate \"test\" set and/or perform \n",
    "cross-validation."
   ]
  },
  {
   "cell_type": "code",
   "execution_count": 104,
   "metadata": {},
   "outputs": [
    {
     "name": "stdout",
     "output_type": "stream",
     "text": [
      "1/1 [==============================] - 0s 44ms/step\n",
      "Accuracy:  0.75\n"
     ]
    },
    {
     "data": {
      "image/png": "[encoded data removed]",
      "text/plain": [
       "<Figure size 600x300 with 2 Axes>"
      ]
     },
     "metadata": {},
     "output_type": "display_data"
    }
   ],
   "source": [
    "# Evaluate \"training\" performance\n",
    "yhat = net.predict(X)\n",
    "\n",
    "# You need to examine target and network output values to make sure you are\n",
    "# comparing them correctly. Here, targets are 0 or 1; and the network\n",
    "# output is a continuous value between 0 and 1. I am thresholding network's\n",
    "# output Y, to convert it to 0 or 1 and use that as a classification decision.\n",
    "yhat = (yhat > 0.5).astype(int)\n",
    "\n",
    "# Calculate the accuracy\n",
    "acc = np.mean(yhat == y)\n",
    "print('Accuracy: ', acc)\n",
    "\n",
    "# Plot training loss and accuracy over time\n",
    "fig, ax = plt.subplots(1, 2, figsize=(6,3))\n",
    "ax[0].plot(history.history['loss'])\n",
    "ax[0].set_title('Model Loss')\n",
    "ax[0].set_ylabel('Loss')\n",
    "ax[0].set_xlabel('Epoch');\n",
    "ax[1].plot(history.history['accuracy'])\n",
    "ax[1].set_title('Model Accuracy')\n",
    "ax[1].set_ylabel('Accuracy')\n",
    "ax[1].set_xlabel('Epoch');\n",
    "plt.tight_layout()"
   ]
  },
  {
   "attachments": {},
   "cell_type": "markdown",
   "metadata": {},
   "source": [
    "## [sklearn] Simple Classification Example\n",
    "\n",
    "For a classification problem, you need to make sure you are using a network\n",
    "designed for classification tasks and you either get outputs that are already\n",
    "binary, or that you can interpret as binary."
   ]
  },
  {
   "cell_type": "code",
   "execution_count": 105,
   "metadata": {},
   "outputs": [
    {
     "name": "stdout",
     "output_type": "stream",
     "text": [
      "Accuracy:  0.5\n",
      "[[4 0]\n",
      " [4 0]]\n",
      "              precision    recall  f1-score   support\n",
      "\n",
      "           0       0.50      1.00      0.67         4\n",
      "           1       0.00      0.00      0.00         4\n",
      "\n",
      "    accuracy                           0.50         8\n",
      "   macro avg       0.25      0.50      0.33         8\n",
      "weighted avg       0.25      0.50      0.33         8\n",
      "\n"
     ]
    },
    {
     "name": "stderr",
     "output_type": "stream",
     "text": [
      "/home/muaddib/.conda/envs/keras/lib/python3.10/site-packages/sklearn/metrics/_classification.py:1344: UndefinedMetricWarning: Precision and F-score are ill-defined and being set to 0.0 in labels with no predicted samples. Use `zero_division` parameter to control this behavior.\n",
      "  _warn_prf(average, modifier, msg_start, len(result))\n",
      "/home/muaddib/.conda/envs/keras/lib/python3.10/site-packages/sklearn/metrics/_classification.py:1344: UndefinedMetricWarning: Precision and F-score are ill-defined and being set to 0.0 in labels with no predicted samples. Use `zero_division` parameter to control this behavior.\n",
      "  _warn_prf(average, modifier, msg_start, len(result))\n",
      "/home/muaddib/.conda/envs/keras/lib/python3.10/site-packages/sklearn/metrics/_classification.py:1344: UndefinedMetricWarning: Precision and F-score are ill-defined and being set to 0.0 in labels with no predicted samples. Use `zero_division` parameter to control this behavior.\n",
      "  _warn_prf(average, modifier, msg_start, len(result))\n"
     ]
    }
   ],
   "source": [
    "mlp = MLPClassifier(hidden_layer_sizes=(1,), activation='logistic', max_iter=1000)\n",
    "mlp.fit(X, y.ravel())\n",
    "\n",
    "# Evaluate \"training\" performance\n",
    "yhat = mlp.predict(X)\n",
    "\n",
    "# Calculate the accuracy\n",
    "acc = mlp.score(X, y)\n",
    "print('Accuracy: ', acc)\n",
    "\n",
    "# Classification report\n",
    "from sklearn.metrics import classification_report, confusion_matrix\n",
    "print(confusion_matrix(y,yhat))\n",
    "print(classification_report(y,yhat))"
   ]
  },
  {
   "attachments": {},
   "cell_type": "markdown",
   "metadata": {},
   "source": [
    "## Neural Network Regression\n",
    "\n",
    "For a regression problem, you need to make sure you are using a network\n",
    "designed to produce real-valued outputs."
   ]
  },
  {
   "attachments": {},
   "cell_type": "markdown",
   "metadata": {},
   "source": [
    "### Setup the data for house dataset\n",
    "\n",
    "The *house dataset* contains information about 506 real estate properties,\n",
    "and their relative valuation."
   ]
  },
  {
   "cell_type": "code",
   "execution_count": 4,
   "metadata": {},
   "outputs": [],
   "source": [
    "# Load the dataset\n",
    "X, y, labs = datasets.load_boston()"
   ]
  },
  {
   "attachments": {},
   "cell_type": "markdown",
   "metadata": {},
   "source": [
    "#### Only one fold cross-validation\n",
    "\n",
    "I will use only the first \"fold\". For a proper implementation, you need to repeat the training & evaluation on all folds and report the averaage performance on these test sets."
   ]
  },
  {
   "cell_type": "code",
   "execution_count": 5,
   "metadata": {},
   "outputs": [],
   "source": [
    "from sklearn.model_selection import KFold"
   ]
  },
  {
   "cell_type": "code",
   "execution_count": 12,
   "metadata": {},
   "outputs": [
    {
     "name": "stdout",
     "output_type": "stream",
     "text": [
      "MSE:  [93.65806579589844, 93.65806579589844]\n",
      "RMSE:  [9.67770974 9.67770974]\n"
     ]
    }
   ],
   "source": [
    "# Set up the cross-validation\n",
    "kf = KFold(n_splits=4, shuffle=True, random_state=0)\n",
    "\n",
    "# Keep only the first fold\n",
    "train_idx, test_idx = next(kf.split(X))\n",
    "X_train, X_test = X[train_idx], X[test_idx]\n",
    "y_train, y_test = y[train_idx], y[test_idx]\n",
    "\n",
    "# Define the neural network\n",
    "net = keras.Sequential()\n",
    "net.add( layers.Dense(units=1, input_dim=X.shape[1], activation='linear') )\n",
    "\n",
    "# Do not use validation and test sets\n",
    "net.compile(loss='mse', metrics=['mse'], optimizer='adam')\n",
    "\n",
    "# Train the network\n",
    "history = net.fit(X_train, y_train, epochs=100, verbose=0);\n",
    "\n",
    "# Evaluate \"training\" performance\n",
    "mse = net.evaluate(X_test, y_test, verbose=0)\n",
    "print('MSE: ', mse)\n",
    "print('RMSE: ', np.sqrt(mse))"
   ]
  },
  {
   "cell_type": "code",
   "execution_count": 13,
   "metadata": {},
   "outputs": [
    {
     "name": "stdout",
     "output_type": "stream",
     "text": [
      "4/4 [==============================] - 0s 3ms/step\n"
     ]
    }
   ],
   "source": [
    "Ypred = net.predict(X_test)"
   ]
  },
  {
   "cell_type": "code",
   "execution_count": 19,
   "metadata": {},
   "outputs": [
    {
     "data": {
      "text/plain": [
       "array([[[29.20764732],\n",
       "        [21.6       ]],\n",
       "\n",
       "       [[24.32217979],\n",
       "        [22.9       ]],\n",
       "\n",
       "       [[29.14893341],\n",
       "        [27.1       ]],\n",
       "\n",
       "       [[25.29543304],\n",
       "        [16.5       ]],\n",
       "\n",
       "       [[27.83885384],\n",
       "        [15.        ]]])"
      ]
     },
     "execution_count": 19,
     "metadata": {},
     "output_type": "execute_result"
    }
   ],
   "source": [
    "np.stack((Ypred[:5], y_test[:5].reshape(-1,1)), axis=1)"
   ]
  },
  {
   "attachments": {},
   "cell_type": "markdown",
   "metadata": {},
   "source": [
    "#### [sklearn] Only one fold cross-validation\n",
    "\n",
    "I will use only the first \"fold\". For a proper implementation, you need to repeat the training & evaluation on all folds and report the averaage performance on these test sets."
   ]
  },
  {
   "cell_type": "code",
   "execution_count": null,
   "metadata": {},
   "outputs": [],
   "source": [
    "## Prepare Training & Test Sets.\n",
    "# I am generating Training & Test sets for only 1 of the folds. In your applications, you would need to run for all folds.\n",
    "\n",
    "# For k-fold separation (e.g., k=4):\n",
    "# For classification problems, use StratifiedKFold; for regression problems use KFold.\n",
    "from sklearn.model_selection import KFold\n",
    "\n",
    "kf = KFold(n_splits=4)\n",
    "Itrain,Itest = next(kf.split(X,Y)) #and obtain the first training & test set\n",
    "Xtrain = X[Itrain,:]\n",
    "Ttrain = T[Itrain]\n",
    "Xtest = X[Itest, :]\n",
    "Ttest = T[Itest]\n",
    "#...\n",
    "\n",
    "# to use skf in a for loop, you can use:\n",
    "# for Itrain, Itest in skf.split(X,T):\n",
    "#   ..."
   ]
  },
  {
   "cell_type": "code",
   "execution_count": 32,
   "metadata": {},
   "outputs": [
    {
     "name": "stdout",
     "output_type": "stream",
     "text": [
      "[[15.84603792 21.6       ]\n",
      " [-2.8027831  22.9       ]\n",
      " [ 5.89114718 27.1       ]\n",
      " [ 7.99055907 16.5       ]\n",
      " [ 5.70189429 15.        ]]\n"
     ]
    },
    {
     "name": "stderr",
     "output_type": "stream",
     "text": [
      "/home/muaddib/.conda/envs/keras/lib/python3.10/site-packages/sklearn/neural_network/_multilayer_perceptron.py:679: ConvergenceWarning: Stochastic Optimizer: Maximum iterations (200) reached and the optimization hasn't converged yet.\n",
      "  warnings.warn(\n"
     ]
    }
   ],
   "source": [
    "# Use MLPClassifier for classification and MLPRegressor for regression.\n",
    "from sklearn.neural_network import MLPRegressor\n",
    "\n",
    "# Create the network, set its parameters, train and predict:\n",
    "# e.g., with 1 hidden unit:\n",
    "mlp = MLPRegressor(hidden_layer_sizes=(1,), activation='identity')\n",
    "mlp.fit(X_train, y_train)\n",
    "\n",
    "Y_pred = mlp.predict(X_test)\n",
    "print(np.stack((Y_pred[0:5],y_test[0:5]),axis=1) ) #just printing the first few predictions..."
   ]
  },
  {
   "cell_type": "code",
   "execution_count": 37,
   "metadata": {},
   "outputs": [
    {
     "name": "stdout",
     "output_type": "stream",
     "text": [
      "Test set R^2 (proportion of variance) score: -37.59454599548945\n"
     ]
    },
    {
     "data": {
      "text/plain": [
       "-37.59454599548945"
      ]
     },
     "execution_count": 37,
     "metadata": {},
     "output_type": "execute_result"
    }
   ],
   "source": [
    "# you can let the mlp do the score calculation:\n",
    "print('Test set R^2 (proportion of variance) score: ' + str( mlp.score(X_test,y_test) ) )\n",
    "\n",
    "# or calculate R^2 yourself:\n",
    "from sklearn.metrics import r2_score\n",
    "r2_score(y_test,Y_pred)"
   ]
  }
 ],
 "metadata": {
  "kernelspec": {
   "display_name": "keras",
   "language": "python",
   "name": "python3"
  },
  "language_info": {
   "codemirror_mode": {
    "name": "ipython",
    "version": 3
   },
   "file_extension": ".py",
   "mimetype": "text/x-python",
   "name": "python",
   "nbconvert_exporter": "python",
   "pygments_lexer": "ipython3",
   "version": "3.10.9"
  },
  "orig_nbformat": 4
 },
 "nbformat": 4,
 "nbformat_minor": 2
}
