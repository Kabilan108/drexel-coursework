{
 "cells": [
  {
   "cell_type": "markdown",
   "metadata": {},
   "source": [
    "## Neural Network Demo"
   ]
  },
  {
   "cell_type": "code",
   "execution_count": 2,
   "metadata": {},
   "outputs": [],
   "source": [
    "%load_ext autoreload\n",
    "%autoreload 2\n",
    "#See bmes.ahmet/README.TXT for setting up BMESAHMETDIR environment variable.\n",
    "import sys,os; sys.path.append(os.environ['BMESAHMETDIR']); import bmes\n",
    "\n",
    "import pandas as pd\n",
    "import numpy as np\n",
    "import sklearn\n",
    "from pylab import *"
   ]
  },
  {
   "attachments": {},
   "cell_type": "markdown",
   "metadata": {},
   "source": [
    "## Simple Classification Example"
   ]
  },
  {
   "cell_type": "code",
   "execution_count": 7,
   "metadata": {},
   "outputs": [
    {
     "name": "stdout",
     "output_type": "stream",
     "text": [
      "[[0 0 0]\n",
      " [1 0 1]\n",
      " [0 1 1]\n",
      " [1 1 0]\n",
      " [0 0 0]\n",
      " [1 0 1]\n",
      " [0 1 1]\n",
      " [1 1 0]]\n"
     ]
    }
   ],
   "source": [
    "XT=np.array([[0,0,0],[1,0,1],[0,1,1],[1,1,0], [0,0,0],[1,0,1],[0,1,1],[1,1,0]]);\n",
    "X=XT[:,:-1]; T=XT[:,-1];\n",
    "print(XT)"
   ]
  },
  {
   "cell_type": "code",
   "execution_count": 15,
   "metadata": {},
   "outputs": [
    {
     "name": "stdout",
     "output_type": "stream",
     "text": [
      "[1 1 1 1 1 1 1 1]\n"
     ]
    }
   ],
   "source": [
    "# Use MLPClassifier for classification and MLPRegressor for regression.\n",
    "from sklearn.neural_network import MLPClassifier\n",
    "\n",
    "# Create the network, set its parameters, train and predict:\n",
    "# e.g., with 1 hidden unit:\n",
    "mlp = MLPClassifier(hidden_layer_sizes=(1,), activation='logistic')\n",
    "mlp.fit(X,T)\n",
    "Y = mlp.predict(X)\n",
    "print(Y)"
   ]
  },
  {
   "cell_type": "code",
   "execution_count": 16,
   "metadata": {},
   "outputs": [
    {
     "name": "stdout",
     "output_type": "stream",
     "text": [
      "Accuracy: 0.5\n",
      "              precision    recall  f1-score   support\n",
      "\n",
      "           0       0.00      0.00      0.00         4\n",
      "           1       0.50      1.00      0.67         4\n",
      "\n",
      "    accuracy                           0.50         8\n",
      "   macro avg       0.25      0.50      0.33         8\n",
      "weighted avg       0.25      0.50      0.33         8\n",
      "\n"
     ]
    },
    {
     "name": "stderr",
     "output_type": "stream",
     "text": [
      "c:\\ProgramData\\Anaconda\\lib\\site-packages\\sklearn\\metrics\\_classification.py:1318: UndefinedMetricWarning: Precision and F-score are ill-defined and being set to 0.0 in labels with no predicted samples. Use `zero_division` parameter to control this behavior.\n",
      "  _warn_prf(average, modifier, msg_start, len(result))\n",
      "c:\\ProgramData\\Anaconda\\lib\\site-packages\\sklearn\\metrics\\_classification.py:1318: UndefinedMetricWarning: Precision and F-score are ill-defined and being set to 0.0 in labels with no predicted samples. Use `zero_division` parameter to control this behavior.\n",
      "  _warn_prf(average, modifier, msg_start, len(result))\n",
      "c:\\ProgramData\\Anaconda\\lib\\site-packages\\sklearn\\metrics\\_classification.py:1318: UndefinedMetricWarning: Precision and F-score are ill-defined and being set to 0.0 in labels with no predicted samples. Use `zero_division` parameter to control this behavior.\n",
      "  _warn_prf(average, modifier, msg_start, len(result))\n"
     ]
    }
   ],
   "source": [
    "# you can let the mlp do the accuracy calculation:\n",
    "print('Accuracy: ' + str( mlp.score(X,T) ) )\n",
    "\n",
    "# For classification problems, additional performance metrics (precision, recall) available from:\n",
    "from sklearn.metrics import classification_report\n",
    "print(classification_report(T,Y))"
   ]
  },
  {
   "attachments": {},
   "cell_type": "markdown",
   "metadata": {},
   "source": [
    "## Neural Network Regression"
   ]
  },
  {
   "cell_type": "code",
   "execution_count": 3,
   "metadata": {},
   "outputs": [
    {
     "data": {
      "text/plain": [
       "((506, 13), (506,))"
      ]
     },
     "execution_count": 3,
     "metadata": {},
     "output_type": "execute_result"
    }
   ],
   "source": [
    "#% house_dataset contains\n",
    "#% information about 506 real estate properties, and their relative valuation (in the last column).\n",
    "housefile = bmes.downloadurl('https://sacan.biomed.drexel.edu/lib/exe/fetch.php?rev=&media=course:ml:nn:nndemo:house_dataset.csv','house_dataset.csv');\n",
    "\n",
    "import pandas\n",
    "t = pandas.read_csv(housefile,header=None);\n",
    "X=t.iloc[:,:-1].to_numpy()\n",
    "T=t.iloc[:,-1].to_numpy()\n",
    "X.shape, T.shape"
   ]
  },
  {
   "cell_type": "code",
   "execution_count": 4,
   "metadata": {},
   "outputs": [],
   "source": [
    "## Prepare Training & Test Sets.\n",
    "# I am generating Training & Test sets for only 1 of the folds. In your applications, you would need to run for all folds.\n",
    "\n",
    "# For k-fold separation (e.g., k=4):\n",
    "# For classification problems, use StratifiedKFold; for regression problems use KFold.\n",
    "from sklearn.model_selection import KFold\n",
    "\n",
    "kf = KFold(n_splits=4)\n",
    "Itrain,Itest = next(kf.split(X,T)) #and obtain the first training & test set\n",
    "Xtrain = X[Itrain,:]\n",
    "Ttrain = T[Itrain]\n",
    "Xtest = X[Itest, :]\n",
    "Ttest = T[Itest]\n",
    "#...\n",
    "\n",
    "# to use skf in a for loop, you can use:\n",
    "# for Itrain, Itest in skf.split(X,T):\n",
    "#   ..."
   ]
  },
  {
   "cell_type": "code",
   "execution_count": 12,
   "metadata": {},
   "outputs": [
    {
     "name": "stdout",
     "output_type": "stream",
     "text": [
      "[[ 1.74170829 24.        ]\n",
      " [14.38899218 21.6       ]\n",
      " [ 3.49192581 34.7       ]\n",
      " [ 0.39394965 33.4       ]\n",
      " [ 5.61135048 36.2       ]]\n"
     ]
    },
    {
     "name": "stderr",
     "output_type": "stream",
     "text": [
      "/home/muaddib/.conda/envs/bmes547/lib/python3.10/site-packages/sklearn/neural_network/_multilayer_perceptron.py:684: ConvergenceWarning: Stochastic Optimizer: Maximum iterations (200) reached and the optimization hasn't converged yet.\n",
      "  warnings.warn(\n"
     ]
    }
   ],
   "source": [
    "# Use MLPClassifier for classification and MLPRegressor for regression.\n",
    "from sklearn.neural_network import MLPRegressor\n",
    "\n",
    "# Create the network, set its parameters, train and predict:\n",
    "# e.g., with 1 hidden unit:\n",
    "mlp = MLPRegressor(hidden_layer_sizes=(1,), activation='identity')\n",
    "mlp.fit(Xtrain,Ttrain)\n",
    "\n",
    "Ytest = mlp.predict(Xtest)\n",
    "print(np.stack((Ytest[0:5],Ttest[0:5]),axis=1) ) #just printing the first few predictions..."
   ]
  },
  {
   "cell_type": "code",
   "execution_count": null,
   "metadata": {},
   "outputs": [],
   "source": []
  },
  {
   "cell_type": "code",
   "execution_count": 17,
   "metadata": {},
   "outputs": [
    {
     "name": "stdout",
     "output_type": "stream",
     "text": [
      "Test set R^2 (proportion of variance) score: -18.794118619500324\n"
     ]
    },
    {
     "data": {
      "text/plain": [
       "-18.794118619500324"
      ]
     },
     "execution_count": 17,
     "metadata": {},
     "output_type": "execute_result"
    }
   ],
   "source": [
    "# you can let the mlp do the score calculation:\n",
    "print('Test set R^2 (proportion of variance) score: ' + str( mlp.score(Xtest,Ttest) ) )\n",
    "\n",
    "# or calculate R^2 yourself:\n",
    "from sklearn.metrics import r2_score\n",
    "r2_score(Ttest,Ytest)"
   ]
  }
 ],
 "metadata": {
  "kernelspec": {
   "display_name": "base",
   "language": "python",
   "name": "python3"
  },
  "language_info": {
   "codemirror_mode": {
    "name": "ipython",
    "version": 3
   },
   "file_extension": ".py",
   "mimetype": "text/x-python",
   "name": "python",
   "nbconvert_exporter": "python",
   "pygments_lexer": "ipython3",
   "version": "3.10.8"
  },
  "vscode": {
   "interpreter": {
    "hash": "a7efeda51ab66cbc0f4c54a7d4464d7301853633942c4395c7ec7c64649ddfc5"
   }
  }
 },
 "nbformat": 4,
 "nbformat_minor": 2
}
