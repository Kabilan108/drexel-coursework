{
 "cells": [
  {
   "attachments": {},
   "cell_type": "markdown",
   "metadata": {},
   "source": [
    "# Feature Selection Demo with `Scikit-Learn`\n",
    "\n",
    "## PIMA Indians Diabetes Dataset\n",
    "\n",
    "In this tutorial, I will use the \"PIMA Indian Diabetes\" dataset, where all\n",
    "patients are females at least 21 years old of Pima Indian heritage.\n",
    "\n",
    "The classification task is to predict whether an individual has diabetes from\n",
    "the following features:\n",
    "\n",
    "1. *Pregnancies:* Number of times pregnant \n",
    "2. *Glucose:* Plasma glucose concentration a 2 hours in an oral glucose tolerance test \n",
    "3. *BloodPressure:* Diastolic blood pressure (mm Hg) \n",
    "4. *SkinThickness:* Triceps skin fold thickness (mm) \n",
    "5. *Insulin:* 2-Hour serum insulin (mu U/ml) \n",
    "6. *BMI:* Body mass index (weight in kg/(height in m)^2) \n",
    "7. *DiabetesPedigreeFunction:* Diabetes pedigree function \n",
    "8. *Age:* (years) \n",
    "9. *Outcome:* Class variable (0 or 1) "
   ]
  },
  {
   "attachments": {},
   "cell_type": "markdown",
   "metadata": {},
   "source": [
    "## Utility Functions & Imports"
   ]
  },
  {
   "cell_type": "code",
   "execution_count": 1,
   "metadata": {},
   "outputs": [],
   "source": [
    "%matplotlib inline\n",
    "%load_ext autoreload\n",
    "%autoreload 2"
   ]
  },
  {
   "cell_type": "code",
   "execution_count": 57,
   "metadata": {},
   "outputs": [],
   "source": [
    "# Imports from third-party libraries\n",
    "from sklearn.feature_selection import (SelectKBest, chi2, f_classif, mutual_info_classif,\n",
    "                                       RFECV, SequentialFeatureSelector)\n",
    "from sklearn.discriminant_analysis import QuadraticDiscriminantAnalysis\n",
    "from sklearn.model_selection import cross_val_score\n",
    "from sklearn.tree import DecisionTreeClassifier\n",
    "from sklearn.linear_model import LogisticRegression\n",
    "from sklearn.svm import SVC\n",
    "from infoml import utils, CONFIG\n",
    "import matplotlib.pyplot as plt\n",
    "import seaborn as sns\n",
    "import pandas as pd\n",
    "import numpy as np\n",
    "\n",
    "# Import bmes\n",
    "import sys, os; sys.path.append(os.environ['BMESAHMETDIR'])\n",
    "import bmes\n",
    "\n",
    "# Classifiers\n",
    "clf = {\n",
    "    'DT': DecisionTreeClassifier(random_state=0),\n",
    "    'QDA': QuadraticDiscriminantAnalysis(),\n",
    "    'SVM': SVC(kernel='linear', random_state=0),\n",
    "    'LR': LogisticRegression(random_state=0, solver='liblinear')\n",
    "}\n",
    "\n",
    "\n",
    "def crossval(clf, X, y, cv=4):\n",
    "    scores = cross_val_score(clf, X, y, cv=cv, n_jobs=-1)\n",
    "    print('--- {}-fold cross-validation accuracy: {:.2f} +/- {:.2f} ---'.format(cv, scores.mean(), scores.std()))\n",
    "    return scores.mean(), scores.std()\n",
    "\n",
    "def printfeatscores(selector, features):\n",
    "    print('--- Scores of the features:')\n",
    "    \n",
    "    scores, feats = zip(*sorted(zip(selector.scores_, features), reverse=True))\n",
    "    for score, feat in zip(scores, feats):\n",
    "        print('{:<14}'.format(feat) + ': ' + str(round(score, 2)))"
   ]
  },
  {
   "cell_type": "code",
   "execution_count": 4,
   "metadata": {},
   "outputs": [
    {
     "name": "stderr",
     "output_type": "stream",
     "text": [
      "Intel(R) Extension for Scikit-learn* enabled (https://github.com/intel/scikit-learn-intelex)\n"
     ]
    }
   ],
   "source": [
    "# Accelerate scikit-learn\n",
    "from sklearnex import patch_sklearn\n",
    "patch_sklearn()"
   ]
  },
  {
   "attachments": {},
   "cell_type": "markdown",
   "metadata": {},
   "source": [
    "## Download data file(s)"
   ]
  },
  {
   "cell_type": "code",
   "execution_count": 13,
   "metadata": {},
   "outputs": [
    {
     "name": "stdout",
     "output_type": "stream",
     "text": [
      "--- First 5 lines of data file\n"
     ]
    },
    {
     "data": {
      "text/html": [
       "<pre style=\"white-space:pre;overflow-x:auto;line-height:normal;font-family:Menlo,'DejaVu Sans Mono',consolas,'Courier New',monospace\"><span style=\"color: #008080; text-decoration-color: #008080; font-weight: bold\">6</span>,<span style=\"color: #008080; text-decoration-color: #008080; font-weight: bold\">148</span>,<span style=\"color: #008080; text-decoration-color: #008080; font-weight: bold\">72</span>,<span style=\"color: #008080; text-decoration-color: #008080; font-weight: bold\">35</span>,<span style=\"color: #008080; text-decoration-color: #008080; font-weight: bold\">0</span>,<span style=\"color: #008080; text-decoration-color: #008080; font-weight: bold\">33.6</span>,<span style=\"color: #008080; text-decoration-color: #008080; font-weight: bold\">0.627</span>,<span style=\"color: #008080; text-decoration-color: #008080; font-weight: bold\">50</span>,<span style=\"color: #008080; text-decoration-color: #008080; font-weight: bold\">1</span>\n",
       "</pre>\n"
      ],
      "text/plain": [
       "\u001b[1;36m6\u001b[0m,\u001b[1;36m148\u001b[0m,\u001b[1;36m72\u001b[0m,\u001b[1;36m35\u001b[0m,\u001b[1;36m0\u001b[0m,\u001b[1;36m33.6\u001b[0m,\u001b[1;36m0.627\u001b[0m,\u001b[1;36m50\u001b[0m,\u001b[1;36m1\u001b[0m\n"
      ]
     },
     "metadata": {},
     "output_type": "display_data"
    },
    {
     "data": {
      "text/html": [
       "<pre style=\"white-space:pre;overflow-x:auto;line-height:normal;font-family:Menlo,'DejaVu Sans Mono',consolas,'Courier New',monospace\"><span style=\"color: #008080; text-decoration-color: #008080; font-weight: bold\">1</span>,<span style=\"color: #008080; text-decoration-color: #008080; font-weight: bold\">85</span>,<span style=\"color: #008080; text-decoration-color: #008080; font-weight: bold\">66</span>,<span style=\"color: #008080; text-decoration-color: #008080; font-weight: bold\">29</span>,<span style=\"color: #008080; text-decoration-color: #008080; font-weight: bold\">0</span>,<span style=\"color: #008080; text-decoration-color: #008080; font-weight: bold\">26.6</span>,<span style=\"color: #008080; text-decoration-color: #008080; font-weight: bold\">0.351</span>,<span style=\"color: #008080; text-decoration-color: #008080; font-weight: bold\">31</span>,<span style=\"color: #008080; text-decoration-color: #008080; font-weight: bold\">0</span>\n",
       "</pre>\n"
      ],
      "text/plain": [
       "\u001b[1;36m1\u001b[0m,\u001b[1;36m85\u001b[0m,\u001b[1;36m66\u001b[0m,\u001b[1;36m29\u001b[0m,\u001b[1;36m0\u001b[0m,\u001b[1;36m26.6\u001b[0m,\u001b[1;36m0.351\u001b[0m,\u001b[1;36m31\u001b[0m,\u001b[1;36m0\u001b[0m\n"
      ]
     },
     "metadata": {},
     "output_type": "display_data"
    },
    {
     "data": {
      "text/html": [
       "<pre style=\"white-space:pre;overflow-x:auto;line-height:normal;font-family:Menlo,'DejaVu Sans Mono',consolas,'Courier New',monospace\"><span style=\"color: #008080; text-decoration-color: #008080; font-weight: bold\">8</span>,<span style=\"color: #008080; text-decoration-color: #008080; font-weight: bold\">183</span>,<span style=\"color: #008080; text-decoration-color: #008080; font-weight: bold\">64</span>,<span style=\"color: #008080; text-decoration-color: #008080; font-weight: bold\">0</span>,<span style=\"color: #008080; text-decoration-color: #008080; font-weight: bold\">0</span>,<span style=\"color: #008080; text-decoration-color: #008080; font-weight: bold\">23.3</span>,<span style=\"color: #008080; text-decoration-color: #008080; font-weight: bold\">0.672</span>,<span style=\"color: #008080; text-decoration-color: #008080; font-weight: bold\">32</span>,<span style=\"color: #008080; text-decoration-color: #008080; font-weight: bold\">1</span>\n",
       "</pre>\n"
      ],
      "text/plain": [
       "\u001b[1;36m8\u001b[0m,\u001b[1;36m183\u001b[0m,\u001b[1;36m64\u001b[0m,\u001b[1;36m0\u001b[0m,\u001b[1;36m0\u001b[0m,\u001b[1;36m23.3\u001b[0m,\u001b[1;36m0.672\u001b[0m,\u001b[1;36m32\u001b[0m,\u001b[1;36m1\u001b[0m\n"
      ]
     },
     "metadata": {},
     "output_type": "display_data"
    }
   ],
   "source": [
    "datafile = CONFIG.datadir() / 'pima-indians.csv'\n",
    "URL = 'https://raw.githubusercontent.com/jbrownlee/Datasets/master/pima-indians-diabetes.data.csv'\n",
    "utils.downloadurl(URL, datafile);\n",
    "\n",
    "print('--- First 5 lines of data file')\n",
    "utils.iohead(datafile, 3)"
   ]
  },
  {
   "attachments": {},
   "cell_type": "markdown",
   "metadata": {},
   "source": [
    "## Load data"
   ]
  },
  {
   "cell_type": "code",
   "execution_count": 41,
   "metadata": {},
   "outputs": [
    {
     "data": {
      "text/html": [
       "<div>\n",
       "<style scoped>\n",
       "    .dataframe tbody tr th:only-of-type {\n",
       "        vertical-align: middle;\n",
       "    }\n",
       "\n",
       "    .dataframe tbody tr th {\n",
       "        vertical-align: top;\n",
       "    }\n",
       "\n",
       "    .dataframe thead th {\n",
       "        text-align: right;\n",
       "    }\n",
       "</style>\n",
       "<table border=\"1\" class=\"dataframe\">\n",
       "  <thead>\n",
       "    <tr style=\"text-align: right;\">\n",
       "      <th></th>\n",
       "      <th>numpregnancies</th>\n",
       "      <th>glucose</th>\n",
       "      <th>diastolic</th>\n",
       "      <th>tricepskin</th>\n",
       "      <th>insulin</th>\n",
       "      <th>bmi</th>\n",
       "      <th>pedigree</th>\n",
       "      <th>age</th>\n",
       "      <th>hasdiabetes</th>\n",
       "    </tr>\n",
       "  </thead>\n",
       "  <tbody>\n",
       "    <tr>\n",
       "      <th>0</th>\n",
       "      <td>6</td>\n",
       "      <td>148</td>\n",
       "      <td>72</td>\n",
       "      <td>35</td>\n",
       "      <td>0</td>\n",
       "      <td>33.6</td>\n",
       "      <td>0.627</td>\n",
       "      <td>50</td>\n",
       "      <td>1</td>\n",
       "    </tr>\n",
       "    <tr>\n",
       "      <th>1</th>\n",
       "      <td>1</td>\n",
       "      <td>85</td>\n",
       "      <td>66</td>\n",
       "      <td>29</td>\n",
       "      <td>0</td>\n",
       "      <td>26.6</td>\n",
       "      <td>0.351</td>\n",
       "      <td>31</td>\n",
       "      <td>0</td>\n",
       "    </tr>\n",
       "    <tr>\n",
       "      <th>2</th>\n",
       "      <td>8</td>\n",
       "      <td>183</td>\n",
       "      <td>64</td>\n",
       "      <td>0</td>\n",
       "      <td>0</td>\n",
       "      <td>23.3</td>\n",
       "      <td>0.672</td>\n",
       "      <td>32</td>\n",
       "      <td>1</td>\n",
       "    </tr>\n",
       "    <tr>\n",
       "      <th>3</th>\n",
       "      <td>1</td>\n",
       "      <td>89</td>\n",
       "      <td>66</td>\n",
       "      <td>23</td>\n",
       "      <td>94</td>\n",
       "      <td>28.1</td>\n",
       "      <td>0.167</td>\n",
       "      <td>21</td>\n",
       "      <td>0</td>\n",
       "    </tr>\n",
       "    <tr>\n",
       "      <th>4</th>\n",
       "      <td>0</td>\n",
       "      <td>137</td>\n",
       "      <td>40</td>\n",
       "      <td>35</td>\n",
       "      <td>168</td>\n",
       "      <td>43.1</td>\n",
       "      <td>2.288</td>\n",
       "      <td>33</td>\n",
       "      <td>1</td>\n",
       "    </tr>\n",
       "  </tbody>\n",
       "</table>\n",
       "</div>"
      ],
      "text/plain": [
       "   numpregnancies  glucose  diastolic  tricepskin  insulin   bmi  pedigree  \\\n",
       "0               6      148         72          35        0  33.6     0.627   \n",
       "1               1       85         66          29        0  26.6     0.351   \n",
       "2               8      183         64           0        0  23.3     0.672   \n",
       "3               1       89         66          23       94  28.1     0.167   \n",
       "4               0      137         40          35      168  43.1     2.288   \n",
       "\n",
       "   age  hasdiabetes  \n",
       "0   50            1  \n",
       "1   31            0  \n",
       "2   32            1  \n",
       "3   21            0  \n",
       "4   33            1  "
      ]
     },
     "execution_count": 41,
     "metadata": {},
     "output_type": "execute_result"
    }
   ],
   "source": [
    "names = ['numpregnancies', 'glucose', 'diastolic', 'tricepskin', 'insulin', \n",
    "         'bmi', 'pedigree', 'age', 'hasdiabetes']\n",
    "df = pd.read_csv(datafile, names=names)\n",
    "\n",
    "X = df.drop('hasdiabetes', axis=1).values\n",
    "y = df['hasdiabetes'].values\n",
    "features = np.array(names[:-1])\n",
    "\n",
    "df.head()"
   ]
  },
  {
   "attachments": {},
   "cell_type": "markdown",
   "metadata": {},
   "source": [
    "## Perform Classification using All Features"
   ]
  },
  {
   "cell_type": "code",
   "execution_count": 38,
   "metadata": {},
   "outputs": [
    {
     "name": "stdout",
     "output_type": "stream",
     "text": [
      "Decision tree classifier\n",
      "--- 4-fold cross-validation accuracy: 0.72 +/- 0.04 ---\n",
      "Quadratic discriminant analysis\n",
      "--- 4-fold cross-validation accuracy: 0.75 +/- 0.01 ---\n",
      "Support vector machine\n",
      "--- 4-fold cross-validation accuracy: 0.76 +/- 0.02 ---\n"
     ]
    }
   ],
   "source": [
    "print('Decision tree classifier')\n",
    "crossval(clf['DT'], X, y);\n",
    "\n",
    "print('Quadratic discriminant analysis')\n",
    "crossval(clf['QDA'], X, y);\n",
    "\n",
    "print('Support vector machine')\n",
    "crossval(clf['SVM'], X, y);"
   ]
  },
  {
   "attachments": {},
   "cell_type": "markdown",
   "metadata": {},
   "source": [
    "## Feature Selection: Filter Methods\n",
    "\n",
    "For a list of available filter methods, see the [Scikit-Learn documentation](https://scikit-learn.org/stable/modules/generated/sklearn.feature_selection.SelectKBest.html)."
   ]
  },
  {
   "cell_type": "code",
   "execution_count": 39,
   "metadata": {},
   "outputs": [
    {
     "name": "stdout",
     "output_type": "stream",
     "text": [
      "Chi-squared test\n",
      "\n",
      "--- Scores of the features:\n",
      "insulin       : 2175.57\n",
      "glucose       : 1411.89\n",
      "age           : 181.3\n",
      "bmi           : 127.67\n",
      "numpregnancies: 111.52\n",
      "tricepskin    : 53.11\n",
      "diastolic     : 17.61\n",
      "pedigree      : 5.39\n",
      "--- Data with only the top k features\n"
     ]
    },
    {
     "data": {
      "text/html": [
       "<div>\n",
       "<style scoped>\n",
       "    .dataframe tbody tr th:only-of-type {\n",
       "        vertical-align: middle;\n",
       "    }\n",
       "\n",
       "    .dataframe tbody tr th {\n",
       "        vertical-align: top;\n",
       "    }\n",
       "\n",
       "    .dataframe thead th {\n",
       "        text-align: right;\n",
       "    }\n",
       "</style>\n",
       "<table border=\"1\" class=\"dataframe\">\n",
       "  <thead>\n",
       "    <tr style=\"text-align: right;\">\n",
       "      <th></th>\n",
       "      <th>glucose</th>\n",
       "      <th>insulin</th>\n",
       "      <th>age</th>\n",
       "    </tr>\n",
       "  </thead>\n",
       "  <tbody>\n",
       "    <tr>\n",
       "      <th>0</th>\n",
       "      <td>148.0</td>\n",
       "      <td>0.0</td>\n",
       "      <td>50.0</td>\n",
       "    </tr>\n",
       "    <tr>\n",
       "      <th>1</th>\n",
       "      <td>85.0</td>\n",
       "      <td>0.0</td>\n",
       "      <td>31.0</td>\n",
       "    </tr>\n",
       "    <tr>\n",
       "      <th>2</th>\n",
       "      <td>183.0</td>\n",
       "      <td>0.0</td>\n",
       "      <td>32.0</td>\n",
       "    </tr>\n",
       "    <tr>\n",
       "      <th>3</th>\n",
       "      <td>89.0</td>\n",
       "      <td>94.0</td>\n",
       "      <td>21.0</td>\n",
       "    </tr>\n",
       "    <tr>\n",
       "      <th>4</th>\n",
       "      <td>137.0</td>\n",
       "      <td>168.0</td>\n",
       "      <td>33.0</td>\n",
       "    </tr>\n",
       "  </tbody>\n",
       "</table>\n",
       "</div>"
      ],
      "text/plain": [
       "   glucose  insulin   age\n",
       "0    148.0      0.0  50.0\n",
       "1     85.0      0.0  31.0\n",
       "2    183.0      0.0  32.0\n",
       "3     89.0     94.0  21.0\n",
       "4    137.0    168.0  33.0"
      ]
     },
     "metadata": {},
     "output_type": "display_data"
    },
    {
     "name": "stdout",
     "output_type": "stream",
     "text": [
      "--- 4-fold cross-validation accuracy: 0.74 +/- 0.03 ---\n"
     ]
    }
   ],
   "source": [
    "# Using chi-squared test\n",
    "print(\"Chi-squared test\\n\")\n",
    "\n",
    "selector = SelectKBest(chi2, k=3)\n",
    "selector.fit(X, y)\n",
    "\n",
    "printfeatscores(selector, features)\n",
    "\n",
    "print('--- Data with only the top k features')\n",
    "X_sub = selector.transform(X)\n",
    "sub_names = selector.transform([features])[0]\n",
    "display(pd.DataFrame(X_sub, columns=sub_names).head())\n",
    "\n",
    "crossval(clf['SVM'], X_sub, y);"
   ]
  },
  {
   "attachments": {},
   "cell_type": "markdown",
   "metadata": {},
   "source": [
    "## Recursive Feature Elimination (RFE)"
   ]
  },
  {
   "cell_type": "code",
   "execution_count": 56,
   "metadata": {},
   "outputs": [
    {
     "name": "stdout",
     "output_type": "stream",
     "text": [
      "--- Number of features selected: 5\n",
      "--- Features selected: ['numpregnancies' 'glucose' 'diastolic' 'bmi' 'pedigree']\n",
      "--- 4-fold cross-validation accuracy: 0.77 +/- 0.02 ---\n"
     ]
    },
    {
     "data": {
      "image/png": "[encoded data removed]",
      "text/plain": [
       "<Figure size 432x288 with 1 Axes>"
      ]
     },
     "metadata": {
      "needs_background": "light"
     },
     "output_type": "display_data"
    }
   ],
   "source": [
    "# RFECV usign the SVM classifier would take a long time; let's use a faster \n",
    "# method. We will use Logistic Regression instead.\n",
    "selector = RFECV(clf['LR'], cv=4, scoring='accuracy', n_jobs=-1)\n",
    "selector.fit(X, y)\n",
    "\n",
    "print('--- Number of features selected: {}'.format(selector.n_features_))\n",
    "print('--- Features selected: {}'.format(features[selector.support_]))\n",
    "\n",
    "# Plot results\n",
    "N = len(selector.cv_results_['mean_test_score'])\n",
    "fig, ax = plt.subplots(figsize=(6, 4))\n",
    "ax.errorbar(range(1, N+1), selector.cv_results_['mean_test_score'],\n",
    "            yerr=selector.cv_results_['std_test_score'], fmt='o-')\n",
    "ax.set_xticks(range(1, N+1), features, rotation=60, ha='right')\n",
    "ax.set_xlabel('Features Removed')\n",
    "ax.set_ylabel('Accuracy')\n",
    "\n",
    "# Crossvalidate with the selected features\n",
    "X_sub = selector.transform(X)\n",
    "crossval(clf['LR'], X_sub, y);"
   ]
  },
  {
   "attachments": {},
   "cell_type": "markdown",
   "metadata": {},
   "source": [
    "## Sequential Forward Selection (SFS)"
   ]
  },
  {
   "cell_type": "code",
   "execution_count": 67,
   "metadata": {},
   "outputs": [
    {
     "name": "stdout",
     "output_type": "stream",
     "text": [
      "--- Features selected: ['numpregnancies' 'glucose' 'diastolic' 'tricepskin' 'insulin' 'bmi'\n",
      " 'pedigree']\n"
     ]
    }
   ],
   "source": [
    "selector = SequentialFeatureSelector(\n",
    "    clf['LR'], n_features_to_select=7, cv=4, scoring='accuracy', direction=\"forward\", n_jobs=-1\n",
    ")\n",
    "selector.fit(X, y)\n",
    "\n",
    "print('--- Features selected: {}'.format(features[selector.support_]))"
   ]
  },
  {
   "cell_type": "code",
   "execution_count": null,
   "metadata": {},
   "outputs": [],
   "source": [
    "selector."
   ]
  },
  {
   "cell_type": "code",
   "execution_count": 63,
   "metadata": {},
   "outputs": [
    {
     "data": {
      "text/plain": [
       "array([ True,  True,  True, False, False,  True, False, False])"
      ]
     },
     "execution_count": 63,
     "metadata": {},
     "output_type": "execute_result"
    }
   ],
   "source": [
    "selector.get_support()"
   ]
  }
 ],
 "metadata": {
  "kernelspec": {
   "display_name": "bmes547",
   "language": "python",
   "name": "python3"
  },
  "language_info": {
   "codemirror_mode": {
    "name": "ipython",
    "version": 3
   },
   "file_extension": ".py",
   "mimetype": "text/x-python",
   "name": "python",
   "nbconvert_exporter": "python",
   "pygments_lexer": "ipython3",
   "version": "3.10.8"
  },
  "orig_nbformat": 4
 },
 "nbformat": 4,
 "nbformat_minor": 2
}
