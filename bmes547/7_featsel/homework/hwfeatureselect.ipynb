{
 "cells": [
  {
   "attachments": {},
   "cell_type": "markdown",
   "metadata": {},
   "source": [
    "# Feature Selection in Catalytic Site Prediction\n",
    "\n",
    "by **[Tony Kabilan Okeke](mailto:tko35@drexel.edu)**\n",
    "\n",
    "In this assignment, you are asked to perform feature selection in catalytic \n",
    "site prediction problem, with the  goal of improving prediction accuracy \n",
    "and/or simplifying the predictive model. You may use a filter or wrapper \n",
    "method for feature selection. You may use any classification method."
   ]
  },
  {
   "attachments": {},
   "cell_type": "markdown",
   "metadata": {},
   "source": [
    "## Setup"
   ]
  },
  {
   "cell_type": "code",
   "execution_count": 1,
   "metadata": {},
   "outputs": [
    {
     "name": "stderr",
     "output_type": "stream",
     "text": [
      "Intel(R) Extension for Scikit-learn* enabled (https://github.com/intel/scikit-learn-intelex)\n"
     ]
    }
   ],
   "source": [
    "# Import the necessary libraries\n",
    "from sklearn.model_selection import cross_validate\n",
    "from sklearn.feature_selection import RFECV\n",
    "from sklearn.svm import SVC\n",
    "import pandas as pd\n",
    "\n",
    "# BMES module\n",
    "import sys, os\n",
    "sys.path.append(os.environ['BMESAHMETDIR'])\n",
    "import bmes\n",
    "\n",
    "# Patch scikit-learn\n",
    "from sklearnex import patch_sklearn\n",
    "patch_sklearn()"
   ]
  },
  {
   "cell_type": "code",
   "execution_count": 2,
   "metadata": {},
   "outputs": [],
   "source": [
    "# Download the data\n",
    "URL = ('http://sacan.biomed.drexel.edu/lib/exe/fetch.php?rev=&media=course:'\n",
    "       'ml:featureselect:hwfeatureselect.catsite:catsitedata_withrandfeats.tab')\n",
    "datafile = bmes.downloadurl(URL, 'catsitedata_withrandfeats.tab')\n",
    "\n",
    "# Load the data\n",
    "df = pd.read_csv(datafile, sep='\\t')\n",
    "\n",
    "# Split the data into features and labels\n",
    "X = df.drop('class', axis=1).values\n",
    "y = df['class'].values\n",
    "features = df.drop('class', axis=1).columns.to_numpy()"
   ]
  },
  {
   "cell_type": "markdown",
   "metadata": {},
   "source": [
    "## Baseline Prediction\n",
    "Perform classification using all features. What is the performance?"
   ]
  },
  {
   "cell_type": "code",
   "execution_count": 3,
   "metadata": {
    "collapsed": true
   },
   "outputs": [
    {
     "name": "stdout",
     "output_type": "stream",
     "text": [
      "Accuracy: 0.84 +/- 0.03\n"
     ]
    }
   ],
   "source": [
    "# Classification using all features\n",
    "clf = SVC(kernel='linear')\n",
    "scores = cross_validate(\n",
    "    clf, X, y, cv=5, scoring='accuracy', n_jobs=-1\n",
    ")['test_score']\n",
    "\n",
    "# Print the accuracy\n",
    "print('Accuracy: {:.2f} +/- {:.2f}'.format(scores.mean(), scores.std()))"
   ]
  },
  {
   "cell_type": "markdown",
   "metadata": {},
   "source": [
    "## Select Features\n",
    "You can decide which feature selection method to use. After performing feature selection, report the names of the selected features."
   ]
  },
  {
   "cell_type": "code",
   "execution_count": 4,
   "metadata": {
    "collapsed": true
   },
   "outputs": [
    {
     "name": "stdout",
     "output_type": "stream",
     "text": [
      "Selected features (n=21):\n",
      "A, R, N, D, C, E, G, H, I, L, K, M, F, P, T, W, Y, V, nearest_cleft_distance, HB_main_chain_protein, ScoreConsScore, "
     ]
    }
   ],
   "source": [
    "# Use Recursive Feature Elimination with Cross-Validation to select features\n",
    "clf = SVC(kernel='linear')\n",
    "rfecv = RFECV(estimator=clf, cv=5, scoring='accuracy', n_jobs=-1)\n",
    "rfecv.fit(X, y)\n",
    "\n",
    "# Report selected features\n",
    "print(f'Selected features (n={rfecv.n_features_}):')\n",
    "for feat in features[rfecv.get_support()]:\n",
    "    print(feat, end=', ')"
   ]
  },
  {
   "cell_type": "markdown",
   "metadata": {},
   "source": [
    "## Prediction with the Selected Features\n",
    "What is the performance with the selected features?"
   ]
  },
  {
   "cell_type": "code",
   "execution_count": 5,
   "metadata": {
    "collapsed": true
   },
   "outputs": [
    {
     "name": "stdout",
     "output_type": "stream",
     "text": [
      "Accuracy: 0.84 +/- 0.01\n"
     ]
    }
   ],
   "source": [
    "# Classification using selected features\n",
    "X_sel = rfecv.transform(X)\n",
    "clf = SVC(kernel='linear')\n",
    "scores = cross_validate(\n",
    "    clf, X_sel, y, cv=5, scoring='accuracy', n_jobs=-1\n",
    ")['test_score']\n",
    "\n",
    "# Print the accuracy\n",
    "print('Accuracy: {:.2f} +/- {:.2f}'.format(scores.mean(), scores.std()))"
   ]
  }
 ],
 "metadata": {
  "kernelspec": {
   "display_name": "Python 3",
   "language": "python",
   "name": "python3"
  },
  "language_info": {
   "codemirror_mode": {
    "name": "ipython",
    "version": 3
   },
   "file_extension": ".py",
   "mimetype": "text/x-python",
   "name": "python",
   "nbconvert_exporter": "python",
   "pygments_lexer": "ipython3",
   "version": "3.10.8"
  }
 },
 "nbformat": 4,
 "nbformat_minor": 2
}
