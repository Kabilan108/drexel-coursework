{
 "cells": [
  {
   "attachments": {},
   "cell_type": "markdown",
   "metadata": {},
   "source": [
    "## Final Exam Classification Problem.\n",
    "\n",
    "by **[Tony Kabilan Okeke](mailto:tko35@drexel.edu)**\n",
    "\n",
    "Template by AhmetSacan.\n",
    "\n",
    "After you complete your work on this file, save it as a PDF. **Upload the PDF file and your grading_predictions.txt file on Blackboard**. You do not need upload any other files on Blackboard, but you must keep them in Dropbox."
   ]
  },
  {
   "cell_type": "code",
   "execution_count": 1,
   "metadata": {},
   "outputs": [
    {
     "name": "stderr",
     "output_type": "stream",
     "text": [
      "Intel(R) Extension for Scikit-learn* enabled (https://github.com/intel/scikit-learn-intelex)\n"
     ]
    }
   ],
   "source": [
    "%matplotlib inline\n",
    "%load_ext autoreload\n",
    "%autoreload 2\n",
    "\n",
    "# Import bmes\n",
    "import sys, os\n",
    "sys.path.append(os.environ['BMESAHMETDIR']); \n",
    "import bmes\n",
    "\n",
    "# Install sklearn and pandas\n",
    "bmes.pipinstall(['sklearn', 'pandas', 'sklearnex'])\n",
    "\n",
    "# Accelerate sklearn with intelex\n",
    "from sklearnex import patch_sklearn\n",
    "patch_sklearn()\n",
    "\n",
    "# Import from third party libraries\n",
    "from sklearn.feature_selection import SelectKBest, f_classif, VarianceThreshold\n",
    "from sklearn.ensemble import RandomForestClassifier\n",
    "from sklearn.linear_model import LogisticRegression\n",
    "from sklearn.model_selection import cross_validate\n",
    "from sklearn.tree import DecisionTreeClassifier\n",
    "from sklearn.preprocessing import MinMaxScaler\n",
    "from sklearn.pipeline import  make_pipeline\n",
    "from sklearn.svm import SVC\n",
    "from pandas import read_csv\n",
    "from tqdm.auto import tqdm\n",
    "import matplotlib.pyplot as plt"
   ]
  },
  {
   "cell_type": "code",
   "execution_count": 3,
   "metadata": {},
   "outputs": [
    {
     "name": "stdout",
     "output_type": "stream",
     "text": [
      "--- NOTICE: Attempting to download & save url [ http://sacan.biomed.drexel.edu/ftp/ml/final/given.txt ] to file [ /home/muaddib/Downloads/given.txt ] ...\n",
      "\n",
      "--- NOTICE: Attempting to download & save url [ http://sacan.biomed.drexel.edu/ftp/ml/final/grading.txt ] to file [ /home/muaddib/Downloads/grading.txt ] ...\n",
      "\n"
     ]
    }
   ],
   "source": [
    "# Download the files\n",
    "givenfile = bmes.downloadurl('http://sacan.biomed.drexel.edu/ftp/ml/final/given.txt','given.txt');\n",
    "gradingfile = bmes.downloadurl('http://sacan.biomed.drexel.edu/ftp/ml/final/grading.txt','grading.txt');"
   ]
  },
  {
   "attachments": {},
   "cell_type": "markdown",
   "metadata": {},
   "source": [
    "### Everything below here is left to you. You may create & use additional files/functions (in your Dropbox folder)."
   ]
  },
  {
   "attachments": {},
   "cell_type": "markdown",
   "metadata": {},
   "source": [
    "> ### Load the data and prepare for classification"
   ]
  },
  {
   "cell_type": "code",
   "execution_count": 18,
   "metadata": {},
   "outputs": [],
   "source": [
    "# Load given and grading files\n",
    "given = read_csv(givenfile)\n",
    "grading = read_csv(gradingfile)\n",
    "\n",
    "# Extract data for building the model from the `given` dataframe\n",
    "X = given.drop(['class'], axis=1).values\n",
    "y = given['class'].values\n",
    "features = given.drop(['class'], axis=1).columns"
   ]
  },
  {
   "attachments": {},
   "cell_type": "markdown",
   "metadata": {},
   "source": [
    "> ### Evaluate different classifiers\n",
    ">\n",
    "> Here, I will evaluate the performance of 4 different classifiers on the \n",
    "> dataset. I will use `cross_validate` which performs cross-validation on\n",
    "> on the given dataset. It internally splits the dataset into 5 folds and\n",
    "> trains the classifier on 4 folds and evaluates on the remaining fold.\n",
    ">\n",
    "> I am using a `MinMaxScaler` to scale the features to the range [0, 1]."
   ]
  },
  {
   "cell_type": "code",
   "execution_count": 5,
   "metadata": {},
   "outputs": [
    {
     "name": "stdout",
     "output_type": "stream",
     "text": [
      "RandomForestClassifier\n",
      "Accuracy: 71.00%\n",
      "\n",
      "DecisionTreeClassifier\n",
      "Accuracy: 63.00%\n",
      "\n",
      "LogisticRegression\n",
      "Accuracy: 84.00%\n",
      "\n",
      "SVC\n",
      "Accuracy: 83.00%\n",
      "\n"
     ]
    }
   ],
   "source": [
    "# Create a list of classifiers\n",
    "classifiers = [\n",
    "    make_pipeline(MinMaxScaler(), RandomForestClassifier()),\n",
    "    make_pipeline(MinMaxScaler(), DecisionTreeClassifier()),\n",
    "    make_pipeline(MinMaxScaler(), LogisticRegression(max_iter=1000)),\n",
    "    make_pipeline(MinMaxScaler(), SVC(kernel='linear'))\n",
    "]\n",
    "\n",
    "# Run cross-validation for each classifier\n",
    "for clf in classifiers:\n",
    "    scores = cross_validate(\n",
    "        clf, X, y, cv=5, scoring=['accuracy'], n_jobs=-1\n",
    "    )\n",
    "    print(clf.steps[-1][1].__class__.__name__)\n",
    "    print(f\"Accuracy: {scores['test_accuracy'].mean()*100:.2f}%\")\n",
    "    print('')"
   ]
  },
  {
   "cell_type": "code",
   "execution_count": 8,
   "metadata": {},
   "outputs": [],
   "source": [
    "clf = make_pipeline(MinMaxScaler(), SVC(kernel='linear')) # Select the best classifier\n",
    "clf.fit(X, y) # Fit the classifier to the data\n",
    "\n",
    "# Extract data for grading from the `grading` dataframe\n",
    "X = grading.values\n",
    "\n",
    "# Predict the classes for the grading data\n",
    "y_pred = clf.predict(X)"
   ]
  },
  {
   "attachments": {},
   "cell_type": "markdown",
   "metadata": {},
   "source": [
    "> Based on these results, Logistic Regression and Support Vector Machine\n",
    "> perform the best on the given dataset."
   ]
  },
  {
   "cell_type": "markdown",
   "metadata": {},
   "source": [
    "> ### Feature Selection\n",
    ">\n",
    "> Next, I will use a `SelectKBest` to select the best features using the\n",
    "> ANOVA F-value as the scoring metric (a filter method).\n",
    "> I will evaluate different values of `k` and select the best value.\n",
    "> Only Logistic Regression and Support Vector Machine are considered\n",
    "> for feature selection.\n",
    ">\n",
    "> Prior to using `SelectKBest`, I will remove features that have constant\n",
    "> values using `VarianceThreshold`, as these features do not contribute\n",
    "> to the classification task."
   ]
  },
  {
   "cell_type": "code",
   "execution_count": 6,
   "metadata": {},
   "outputs": [
    {
     "data": {
      "application/vnd.jupyter.widget-view+json": {
       "model_id": "2c0f5e92d38248cc8882321d413a9f65",
       "version_major": 2,
       "version_minor": 0
      },
      "text/plain": [
       "K values:   0%|          | 0/25 [00:00<?, ?it/s]"
      ]
     },
     "metadata": {},
     "output_type": "display_data"
    },
    {
     "data": {
      "image/png": "[encoded data removed]",
      "text/plain": [
       "<Figure size 432x288 with 1 Axes>"
      ]
     },
     "metadata": {
      "needs_background": "light"
     },
     "output_type": "display_data"
    }
   ],
   "source": [
    "# Create list of classifiers\n",
    "classifiers = [\n",
    "    make_pipeline(MinMaxScaler(), LogisticRegression(max_iter=1000)),\n",
    "    make_pipeline(MinMaxScaler(), SVC(kernel='linear'))\n",
    "]\n",
    "\n",
    "# Drop zero variance features\n",
    "selector = VarianceThreshold(threshold=0)\n",
    "X_var = selector.fit_transform(X)\n",
    "\n",
    "# Define range of K values to test\n",
    "k_values = range(100, 5000, 200)\n",
    "\n",
    "# Run cross-validation for each classifier and K value\n",
    "accuracy = {'LogisticRegression': [], 'SVC': []}\n",
    "for k in tqdm(k_values, desc='K values'):\n",
    "    selector = SelectKBest(f_classif, k=k)\n",
    "    X_new = selector.fit_transform(X_var, y)\n",
    "\n",
    "    for clf in classifiers:\n",
    "        scores  = cross_validate(\n",
    "            clf, X_new, y, cv=5, scoring=['accuracy'], n_jobs=-1\n",
    "        )\n",
    "        accuracy[clf.steps[-1][1].__class__.__name__].append(\n",
    "            scores['test_accuracy'].mean()\n",
    "        )\n",
    "\n",
    "# Plot the results\n",
    "fig, ax = plt.subplots(figsize=(6, 4))\n",
    "ax.plot(k_values, accuracy['LogisticRegression'], label='LogisticRegression')\n",
    "ax.plot(k_values, accuracy['SVC'], label='SVC')\n",
    "ax.set_xlabel('Number of features')\n",
    "ax.set_ylabel('Accuracy')\n",
    "ax.legend()\n",
    "\n",
    "## Highlight the best K value for each classifier\n",
    "best_k = {\n",
    "    'LogisticRegression': k_values[accuracy['LogisticRegression'].index(max(accuracy['LogisticRegression']))],\n",
    "    'SVC': k_values[accuracy['SVC'].index(max(accuracy['SVC']))]\n",
    "}\n",
    "ax.scatter(best_k['LogisticRegression'], max(accuracy['LogisticRegression']), color='k', s=100)\n",
    "ax.scatter(best_k['SVC'], max(accuracy['SVC']), color='k', s=100);"
   ]
  },
  {
   "attachments": {},
   "cell_type": "markdown",
   "metadata": {},
   "source": [
    "> Based on the figure above, the best model for this task is a Support\n",
    "> Vector Machine Classifier using the best 3300 features (as selected by\n",
    "> the ANOVA F-value)."
   ]
  },
  {
   "attachments": {},
   "cell_type": "markdown",
   "metadata": {},
   "source": [
    "> ### Build the Final Model"
   ]
  },
  {
   "cell_type": "code",
   "execution_count": 19,
   "metadata": {},
   "outputs": [],
   "source": [
    "# Drop zero variance features\n",
    "selector = VarianceThreshold(threshold=0)\n",
    "X_var = selector.fit_transform(X)\n",
    "\n",
    "# Select K best features\n",
    "selector = SelectKBest(f_classif, k=3300)\n",
    "X_sel = selector.fit_transform(X_var, y)\n",
    "I = selector.get_support(indices=True)\n",
    "\n",
    "# Fit the SVC classifier\n",
    "clf = make_pipeline(MinMaxScaler(), SVC(kernel='linear'))\n",
    "clf.fit(X_sel, y);"
   ]
  },
  {
   "attachments": {},
   "cell_type": "markdown",
   "metadata": {},
   "source": [
    "> ### Make Predictions on the Grading Dataset"
   ]
  },
  {
   "cell_type": "code",
   "execution_count": 20,
   "metadata": {},
   "outputs": [],
   "source": [
    "# Extract data for grading from the `grading` dataframe\n",
    "X_grading = grading.values\n",
    "\n",
    "# Select the K best features\n",
    "X_grading_sel = X_grading[:, I]\n",
    "\n",
    "# Predict the classes\n",
    "y_grading = clf.predict(X_grading_sel)"
   ]
  },
  {
   "attachments": {},
   "cell_type": "markdown",
   "metadata": {},
   "source": [
    "### Save your predictions for the \"grading\" data to grading_predictions.txt.\n",
    "Export your predictions for the grading samples to 'grading_predictions.txt'. The file needs to be a single column text file, with the first row containing 'class' and each of the additional rows containing your predicted class label for the grading samples. To create the grading_predictions.txt file, you may use numpy.savetext() or pandas.DataFrame.to_csv() functions (or any alternative method/function).\n",
    "\n",
    "\n",
    "You must have grading_predictions.txt file available in your dropbox, as\n",
    "well as upload the same file on Blackboard, for it to be considered for\n",
    "grading."
   ]
  },
  {
   "cell_type": "code",
   "execution_count": 10,
   "metadata": {},
   "outputs": [],
   "source": [
    "# Save the predictions\n",
    "with open('./grading_predictions.txt', 'w') as f:\n",
    "    f.write('class\\n')\n",
    "\n",
    "    for y in y_grading:\n",
    "        f.write(f'{y}\\n')"
   ]
  }
 ],
 "metadata": {
  "kernelspec": {
   "display_name": "bmes547",
   "language": "python",
   "name": "python3"
  },
  "language_info": {
   "codemirror_mode": {
    "name": "ipython",
    "version": 3
   },
   "file_extension": ".py",
   "mimetype": "text/x-python",
   "name": "python",
   "nbconvert_exporter": "python",
   "pygments_lexer": "ipython3",
   "version": "3.10.8"
  },
  "vscode": {
   "interpreter": {
    "hash": "feeceb9510cbb24940cf481ca2f233c4c9462349a26307d01069b9997c44ee08"
   }
  }
 },
 "nbformat": 4,
 "nbformat_minor": 2
}
