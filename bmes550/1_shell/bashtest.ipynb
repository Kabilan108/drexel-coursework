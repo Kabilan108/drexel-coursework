{
 "cells": [
  {
   "cell_type": "markdown",
   "metadata": {},
   "source": [
    "# Test Script for Bash Assignment\n",
    "\n",
    "By [Tony Kabilan Okeke](mailto:tko35@drexel.edu)"
   ]
  },
  {
   "cell_type": "code",
   "execution_count": 1,
   "metadata": {},
   "outputs": [],
   "source": [
    "# Imports\n",
    "import subprocess\n",
    "import sys\n",
    "import os\n",
    "\n",
    "# Set up bash location\n",
    "if sys.platform == 'win32':\n",
    "    if os.path.exists('C:/cygwin/bin/bash.exe'):\n",
    "        BASH = 'C:/cygwin/bin/bash.exe'\n",
    "    elif os.path.exists('C:/cygwin64/bin/bash.exe'):\n",
    "        BASH = 'C:/cygwin64/bin/bash.exe'\n",
    "    os.environ['PATH'] +=  os.path.dirname('C:/cygwin64/bin/bash.exe') + ';'\n",
    "else:\n",
    "    BASH = 'bash'"
   ]
  },
  {
   "cell_type": "markdown",
   "metadata": {},
   "source": [
    "> ## `helloworld.sh`"
   ]
  },
  {
   "cell_type": "code",
   "execution_count": 2,
   "metadata": {},
   "outputs": [
    {
     "name": "stdout",
     "output_type": "stream",
     "text": [
      "Hello World!\n"
     ]
    }
   ],
   "source": [
    "cmd = f'{BASH} hw_helloworld.sh 2>&1'\n",
    "!{cmd}"
   ]
  },
  {
   "cell_type": "markdown",
   "metadata": {},
   "source": [
    "> ## `wctop10lines.sh`\n",
    "> Write a script wctop10lines.sh that prints the name of the file, followed by \n",
    "> the number of words on the first 10 lines of each file in the current \n",
    "> directory. (Hint: head, pipe, wc)."
   ]
  },
  {
   "cell_type": "code",
   "execution_count": 9,
   "metadata": {},
   "outputs": [
    {
     "name": "stdout",
     "output_type": "stream",
     "text": [
      "homework.md \t 45 words\n",
      "hw_backupself.sh \t 46 words\n",
      "hw_backupself.sh.bak \t 46 words\n",
      "hw_bashtest.ipynb \t 22 words\n",
      "hw_bashtest.m \t 27 words\n",
      "hw_bashtest.mlx \t 55 words\n",
      "hw_compareab.sh \t 55 words\n",
      "hw_findrecentdocx.sh \t 64 words\n",
      "hw_helloworld.sh \t 4 words\n",
      "hw_listmyhome.sh \t 40 words\n",
      "hw_wctop10lines.sh \t 61 words\n"
     ]
    }
   ],
   "source": [
    "cmd = f'{BASH} hw_wctop10lines.sh 2>&1'\n",
    "!{cmd}"
   ]
  },
  {
   "cell_type": "markdown",
   "metadata": {},
   "source": [
    "> ## `listmyhome.sh`\n",
    "> Create some non-empty files in your home directory if none exist. Write a bash \n",
    "> script listmyhome.sh that goes into your home directory, lists the files in \n",
    "> that directory, with their file sizes and access permissions (additional \n",
    "> information, such as owner, modification date may be shown too). Then go back \n",
    "> to the original directory you started with.\n",
    "> \n",
    "> **Extra Credit (5%):** For each file, list only its name, file size, and \n",
    "> access permissions (do not show any other information)."
   ]
  },
  {
   "cell_type": "code",
   "execution_count": 10,
   "metadata": {},
   "outputs": [
    {
     "name": "stdout",
     "output_type": "stream",
     "text": [
      "total 236K\n",
      "-rwxr-xr-x  1 kabil kabil    0 Sep 29 18:02 abc.docx\n",
      "drwxr-xr-x 28 kabil kabil 4.0K Jul 27 23:41 .anaconda3\n",
      "drwxr-x---  2 kabil kabil 4.0K Sep 20 15:35 .android\n",
      "-rw-r--r--  1 kabil kabil  267 Sep 19 14:59 .bash_aliases\n",
      "-rw-------  1 kabil kabil  48K Sep 29 14:43 .bash_history\n",
      "-rw-r--r--  1 kabil kabil  220 Jan  6  2022 .bash_logout\n",
      "-rw-r--r--  1 kabil kabil 5.7K Sep 26 19:05 .bashrc\n",
      "lrwxrwxrwx  1 kabil kabil   12 Jul 30 20:37 BatCave -> /mnt/h/data/\n",
      "lrwxrwxrwx  1 kabil kabil    6 Jul  7 17:48 C -> /mnt/c\n",
      "drwxr-xr-x 10 kabil kabil 4.0K Jul 24 13:52 .cache\n",
      "drwxr-xr-x  2 kabil kabil 4.0K Jul  6 10:13 .conda\n",
      "drwxr-xr-x 10 kabil kabil 4.0K Sep 27 20:10 .config\n",
      "-rwxr-xr-x  1 kabil kabil    0 Sep 29 18:02 def.docx\n",
      "lrwxrwxrwx  1 kabil kabil   16 Sep 28 16:26 gdrive -> '/mnt/g/My Drive/'\n",
      "-rwxr-xr-x  1 kabil kabil    0 Sep 29 18:02 ged.docx\n",
      "-rwxr-xr-x  1 kabil kabil    0 Sep 29 18:02 gef.docx\n",
      "-rw-r--r--  1 kabil kabil  147 Sep 28 17:21 .gitconfig\n",
      "drwx------  3 kabil kabil 4.0K Sep 29 14:51 .gnupg\n",
      "drwxr-xr-x  2 kabil kabil 4.0K Jul  8 16:25 .ipynb_checkpoints\n",
      "drwxr-xr-x  3 kabil kabil 4.0K Jul  8 23:50 .ipython\n",
      "drwxr-xr-x  2 kabil kabil 4.0K Jul  8 16:16 .jupyter\n",
      "drwxr-xr-x  2 kabil kabil 4.0K Jul  6 09:59 .landscape\n",
      "-rw-------  1 kabil kabil  193 Sep 29 18:33 .lesshst\n",
      "drwx------  6 kabil kabil 4.0K Jul 14 20:30 .local\n",
      "-rw-r--r--  1 kabil kabil    0 Sep 29 01:20 .motd_shown\n",
      "drwxr-xr-x  3 kabil kabil 4.0K Sep 27 19:56 .pandoc\n",
      "drwx------  3 kabil kabil 4.0K Jul 20 16:12 .pki\n",
      "drwxr-xr-x  2 kabil kabil 4.0K Jul  6 10:36 .poshthemes\n",
      "-rw-r--r--  1 kabil kabil  807 Jan  6  2022 .profile\n",
      "-rw-------  1 kabil kabil  306 Sep 21 08:50 .python_history\n",
      "-rw-r--r--  1 kabil kabil  44K Sep 26 18:51 .radian_history\n",
      "-rw-r--r--  1 kabil kabil 2.3K Jul  8 15:49 .radian_profile\n",
      "-rw-------  1 kabil kabil 2.1K Jul  8 15:54 .Rhistory\n",
      "-rw-r--r--  1 kabil kabil 1.6K Jul  8 15:11 .Rprofile\n",
      "drwxr-xr-x  2 kabil kabil 4.0K Sep 26 19:19 .ssh\n",
      "-rw-r--r--  1 kabil kabil    0 Jul  6 10:00 .sudo_as_admin_successful\n",
      "lrwxrwxrwx  1 kabil kabil   12 Jul  8 00:13 Vault -> /mnt/z/Vault\n",
      "drwxr-xr-x  2 kabil kabil 4.0K Sep 29 14:51 .vim\n",
      "-rw-------  1 kabil kabil  19K Sep 29 18:31 .viminfo\n",
      "-rw-r--r--  1 kabil kabil  380 Jul  6 11:06 .vimrc\n",
      "drwxr-xr-x  5 kabil kabil 4.0K Jul  8 23:17 .vscode-server-insiders\n",
      "-rw-r--r--  1 kabil kabil  264 Sep 28 19:02 .wget-hsts\n"
     ]
    }
   ],
   "source": [
    "cmd = f'{BASH} hw_listmyhome.sh 2>&1'\n",
    "!{cmd}"
   ]
  },
  {
   "cell_type": "markdown",
   "metadata": {},
   "source": [
    "> ## `backupself.sh`\n",
    "> Write a bash script file that creates a backup copy of itself (append .bak to \n",
    "> whatever its own name is). e.g., backupself.sh should create a backup of \n",
    "> itself called backupself.sh.bak. If you run backupself.sh.bak it should create \n",
    "> backupself.sh.bak.bak"
   ]
  },
  {
   "cell_type": "code",
   "execution_count": 11,
   "metadata": {},
   "outputs": [],
   "source": [
    "os.remove('hw_backupself.sh.bak')\n",
    "cmd = f'{BASH} hw_backupself.sh 2>&1'\n",
    "!{cmd}\n",
    "info = os.stat('hw_backupself.sh.bak')"
   ]
  },
  {
   "cell_type": "markdown",
   "metadata": {},
   "source": [
    "> ## `findrecentdocx.sh`\n",
    "> Write a bash script findrecentdocx.sh that lists all of the recently modified \n",
    "> *.docx files (recursively) in a specified folder. Let recently mean in the \n",
    "> last week. If the target folder is not specified, use the current user's home \n",
    "> directory.\n",
    "> \n",
    "> Write your own test case here. As argument, use a folder that does contain \n",
    "> some recently modified docx files. Create new docx files in that folder if \n",
    "> you do not have any docx files."
   ]
  },
  {
   "cell_type": "code",
   "execution_count": 13,
   "metadata": {},
   "outputs": [
    {
     "name": "stdout",
     "output_type": "stream",
     "text": [
      "test/A.docx\n",
      "test/B.docx\n"
     ]
    }
   ],
   "source": [
    "cmd = f'{BASH} hw_findrecentdocx.sh test/ 2>&1'\n",
    "!{cmd}"
   ]
  },
  {
   "cell_type": "markdown",
   "metadata": {},
   "source": [
    "> ## `compareab.sh`\n",
    "> Write a bash script compareab.sh that takes a filename as input and prints \n",
    "> out whether the number of a's is greater than number of b's in the contents \n",
    "> of that file.\n",
    "> \n",
    "> Write your own test case here."
   ]
  },
  {
   "cell_type": "code",
   "execution_count": 16,
   "metadata": {},
   "outputs": [
    {
     "name": "stdout",
     "output_type": "stream",
     "text": [
      "There are the same number of a's and b's.\n"
     ]
    }
   ],
   "source": [
    "cmd = f'{BASH} hw_compareab.sh test/text.md 2>&1'\n",
    "!{cmd}"
   ]
  }
 ],
 "metadata": {
  "kernelspec": {
   "display_name": "Python 3.9.13 ('bmes550')",
   "language": "python",
   "name": "python3"
  },
  "language_info": {
   "codemirror_mode": {
    "name": "ipython",
    "version": 3
   },
   "file_extension": ".py",
   "mimetype": "text/x-python",
   "name": "python",
   "nbconvert_exporter": "python",
   "pygments_lexer": "ipython3",
   "version": "3.10.4"
  },
  "vscode": {
   "interpreter": {
    "hash": "e5c6703229e3dd9c482a1c23a1113da71743e131711127bdfb687457b67b9590"
   }
  }
 },
 "nbformat": 4,
 "nbformat_minor": 2
}
