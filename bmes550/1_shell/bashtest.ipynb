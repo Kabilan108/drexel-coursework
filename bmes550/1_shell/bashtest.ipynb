{
 "cells": [
  {
   "cell_type": "markdown",
   "metadata": {},
   "source": [
    "# Test Script for Bash Assignment\n",
    "\n",
    "By [Tony Kabilan Okeke](mailto:tko35@drexel.edu)"
   ]
  },
  {
   "cell_type": "code",
   "execution_count": 1,
   "metadata": {},
   "outputs": [],
   "source": [
    "# Imports\n",
    "import subprocess\n",
    "import sys\n",
    "import os\n",
    "\n",
    "# Set up bash location\n",
    "if sys.platform == 'win32':\n",
    "    if os.path.exists('C:/cygwin/bin/bash.exe'):\n",
    "        BASH = 'C:/cygwin/bin/bash.exe'\n",
    "    elif os.path.exists('C:/cygwin64/bin/bash.exe'):\n",
    "        BASH = 'C:/cygwin64/bin/bash.exe'\n",
    "    os.environ['PATH'] +=  os.path.dirname('C:/cygwin64/bin/bash.exe') + ';'\n",
    "else:\n",
    "    BASH = 'bash'"
   ]
  },
  {
   "cell_type": "markdown",
   "metadata": {},
   "source": [
    "> ## `helloworld.sh`"
   ]
  },
  {
   "cell_type": "code",
   "execution_count": 2,
   "metadata": {},
   "outputs": [
    {
     "name": "stdout",
     "output_type": "stream",
     "text": [
      "Hello World!\n"
     ]
    }
   ],
   "source": [
    "cmd = f'{BASH} hw_helloworld.sh 2>&1'\n",
    "!{cmd}"
   ]
  },
  {
   "cell_type": "markdown",
   "metadata": {},
   "source": [
    "> ## `wctop10lines.sh`\n",
    "> Write a script wctop10lines.sh that prints the name of the file, followed by \n",
    "> the number of words on the first 10 lines of each file in the current \n",
    "> directory. (Hint: head, pipe, wc)."
   ]
  },
  {
   "cell_type": "code",
   "execution_count": 3,
   "metadata": {},
   "outputs": [
    {
     "name": "stdout",
     "output_type": "stream",
     "text": [
      "FILE                     \tWORD COUNT\n",
      "bashtest.ipynb           \t22        \n",
      "homework.md              \t45        \n",
      "hw_backupself.sh         \t11        \n",
      "hw_backupself.sh.bak     \t11        \n",
      "hw_bashtest.mlx          \t60        \n",
      "hw_compareab.sh          \t33        \n",
      "hw_findrecentdocx.sh     \t59        \n",
      "hw_helloworld.sh         \t4         \n",
      "hw_listmyhome.sh         \t40        \n",
      "hw_wctop10lines.sh       \t48        \n"
     ]
    }
   ],
   "source": [
    "cmd = f'{BASH} hw_wctop10lines.sh 2>&1'\n",
    "!{cmd}"
   ]
  },
  {
   "cell_type": "markdown",
   "metadata": {},
   "source": [
    "> ## `listmyhome.sh`\n",
    "> Create some non-empty files in your home directory if none exist. Write a bash \n",
    "> script listmyhome.sh that goes into your home directory, lists the files in \n",
    "> that directory, with their file sizes and access permissions (additional \n",
    "> information, such as owner, modification date may be shown too). Then go back \n",
    "> to the original directory you started with.\n",
    "> \n",
    "> **Extra Credit (5%):** For each file, list only its name, file size, and \n",
    "> access permissions (do not show any other information)."
   ]
  },
  {
   "cell_type": "code",
   "execution_count": 4,
   "metadata": {},
   "outputs": [
    {
     "name": "stdout",
     "output_type": "stream",
     "text": [
      "PERMISSIONS \t SIZE \t FILENAME\n",
      "drwxr-xr-x  \t 4.0K  \t .anaconda3\n",
      "drwxr-x---  \t 4.0K  \t .android  \n",
      "-rw-r--r--  \t 267   \t .bash_aliases\n",
      "-rw-------  \t 51K   \t .bash_history\n",
      "-rw-r--r--  \t 220   \t .bash_logout\n",
      "-rw-r--r--  \t 5.7K  \t .bashrc   \n",
      "lrwxrwxrwx  \t 12    \t BatCave   \n",
      "lrwxrwxrwx  \t 6     \t C         \n",
      "drwxr-xr-x  \t 4.0K  \t .cache    \n",
      "drwxr-xr-x  \t 4.0K  \t .cargo    \n",
      "drwxr-xr-x  \t 4.0K  \t .conda    \n",
      "drwxr-xr-x  \t 4.0K  \t .config   \n",
      "lrwxrwxrwx  \t 16    \t gdrive    \n",
      "-rw-r--r--  \t 147   \t .gitconfig\n",
      "drwx------  \t 4.0K  \t .gnupg    \n",
      "drwxr-xr-x  \t 4.0K  \t .ipynb_checkpoints\n",
      "drwxr-xr-x  \t 4.0K  \t .ipython  \n",
      "drwxr-xr-x  \t 4.0K  \t .jupyter  \n",
      "drwxr-xr-x  \t 4.0K  \t .landscape\n",
      "-rw-------  \t 215   \t .lesshst  \n",
      "drwx------  \t 4.0K  \t .local    \n",
      "-rw-r--r--  \t 0     \t .motd_shown\n",
      "drwxr-xr-x  \t 4.0K  \t .pandoc   \n",
      "drwx------  \t 4.0K  \t .pki      \n",
      "drwxr-xr-x  \t 4.0K  \t .poshthemes\n",
      "-rw-r--r--  \t 828   \t .profile  \n",
      "-rw-------  \t 306   \t .python_history\n",
      "-rw-r--r--  \t 44K   \t .radian_history\n",
      "-rw-r--r--  \t 2.3K  \t .radian_profile\n",
      "-rw-------  \t 2.1K  \t .Rhistory \n",
      "-rw-r--r--  \t 1.6K  \t .Rprofile \n",
      "drwxr-xr-x  \t 4.0K  \t .rustup   \n",
      "drwxr-xr-x  \t 4.0K  \t .ssh      \n",
      "-rw-r--r--  \t 0     \t .sudo_as_admin_successful\n",
      "lrwxrwxrwx  \t 12    \t Vault     \n",
      "drwxr-xr-x  \t 4.0K  \t .vim      \n",
      "-rw-------  \t 17K   \t .viminfo  \n",
      "-rw-r--r--  \t 380   \t .vimrc    \n",
      "drwxr-xr-x  \t 4.0K  \t .vscode-server-insiders\n",
      "-rw-r--r--  \t 264   \t .wget-hsts\n"
     ]
    }
   ],
   "source": [
    "cmd = f'{BASH} hw_listmyhome.sh 2>&1'\n",
    "!{cmd}"
   ]
  },
  {
   "cell_type": "markdown",
   "metadata": {},
   "source": [
    "> ## `backupself.sh`\n",
    "> Write a bash script file that creates a backup copy of itself (append .bak to \n",
    "> whatever its own name is). e.g., backupself.sh should create a backup of \n",
    "> itself called backupself.sh.bak. If you run backupself.sh.bak it should create \n",
    "> backupself.sh.bak.bak"
   ]
  },
  {
   "cell_type": "code",
   "execution_count": 5,
   "metadata": {},
   "outputs": [
    {
     "data": {
      "text/plain": [
       "os.stat_result(st_mode=33279, st_ino=4222124650662400, st_dev=68, st_nlink=1, st_uid=1000, st_gid=1000, st_size=59, st_atime=1664812376, st_mtime=1664812376, st_ctime=1664812376)"
      ]
     },
     "execution_count": 5,
     "metadata": {},
     "output_type": "execute_result"
    }
   ],
   "source": [
    "os.remove('hw_backupself.sh.bak')\n",
    "cmd = f'{BASH} hw_backupself.sh 2>&1'\n",
    "!{cmd}\n",
    "info = os.stat('hw_backupself.sh.bak')\n",
    "info"
   ]
  },
  {
   "cell_type": "markdown",
   "metadata": {},
   "source": [
    "> ## `findrecentdocx.sh`\n",
    "> Write a bash script findrecentdocx.sh that lists all of the recently modified \n",
    "> *.docx files (recursively) in a specified folder. Let recently mean in the \n",
    "> last week. If the target folder is not specified, use the current user's home \n",
    "> directory.\n",
    "> \n",
    "> Write your own test case here. As argument, use a folder that does contain \n",
    "> some recently modified docx files. Create new docx files in that folder if \n",
    "> you do not have any docx files."
   ]
  },
  {
   "cell_type": "code",
   "execution_count": 6,
   "metadata": {},
   "outputs": [
    {
     "name": "stdout",
     "output_type": "stream",
     "text": [
      "test/A.docx\n",
      "test/B.docx\n",
      "test/subdir/G.docx\n",
      "test/subdir/H.docx\n"
     ]
    }
   ],
   "source": [
    "cmd = f'{BASH} hw_findrecentdocx.sh test/ 2>&1'\n",
    "!{cmd}"
   ]
  },
  {
   "cell_type": "markdown",
   "metadata": {},
   "source": [
    "> ## `compareab.sh`\n",
    "> Write a bash script compareab.sh that takes a filename as input and prints \n",
    "> out whether the number of a's is greater than number of b's in the contents \n",
    "> of that file.\n",
    "> \n",
    "> Write your own test case here."
   ]
  },
  {
   "cell_type": "code",
   "execution_count": 8,
   "metadata": {},
   "outputs": [
    {
     "name": "stdout",
     "output_type": "stream",
     "text": [
      "There are more a's than b's.\n"
     ]
    }
   ],
   "source": [
    "cmd = f'{BASH} hw_compareab.sh test/text.md 2>&1'\n",
    "!{cmd}"
   ]
  }
 ],
 "metadata": {
  "kernelspec": {
   "display_name": "Python 3.9.13 ('bmes550')",
   "language": "python",
   "name": "python3"
  },
  "language_info": {
   "codemirror_mode": {
    "name": "ipython",
    "version": 3
   },
   "file_extension": ".py",
   "mimetype": "text/x-python",
   "name": "python",
   "nbconvert_exporter": "python",
   "pygments_lexer": "ipython3",
   "version": "3.10.4"
  },
  "vscode": {
   "interpreter": {
    "hash": "e5c6703229e3dd9c482a1c23a1113da71743e131711127bdfb687457b67b9590"
   }
  }
 },
 "nbformat": 4,
 "nbformat_minor": 2
}
