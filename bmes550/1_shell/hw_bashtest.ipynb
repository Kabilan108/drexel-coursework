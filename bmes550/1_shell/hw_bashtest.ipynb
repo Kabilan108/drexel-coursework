{
 "cells": [
  {
   "cell_type": "markdown",
   "metadata": {},
   "source": [
    "# Test Script for Bash Assignment\n",
    "\n",
    "By [Tony Kabilan Okeke](mailto:tko35@drexel.edu)"
   ]
  },
  {
   "cell_type": "code",
   "execution_count": 1,
   "metadata": {},
   "outputs": [],
   "source": [
    "# Imports\n",
    "import subprocess\n",
    "import sys\n",
    "import os\n",
    "\n",
    "# Set up bash location\n",
    "if sys.platform == 'win32':\n",
    "    if os.path.exists('C:/cygwin/bin/bash.exe'):\n",
    "        BASH = 'C:/cygwin/bin/bash.exe'\n",
    "    elif os.path.exists('C:/cygwin64/bin/bash.exe'):\n",
    "        BASH = 'C:/cygwin64/bin/bash.exe'\n",
    "    os.environ['PATH'] +=  os.path.dirname('C:/cygwin64/bin/bash.exe') + ';'\n",
    "else:\n",
    "    BASH = 'bash'"
   ]
  },
  {
   "cell_type": "markdown",
   "metadata": {},
   "source": [
    "## `helloworld.sh`"
   ]
  },
  {
   "cell_type": "code",
   "execution_count": 4,
   "metadata": {},
   "outputs": [
    {
     "name": "stdout",
     "output_type": "stream",
     "text": [
      "Hello World!\n"
     ]
    }
   ],
   "source": [
    "cmd = f'{BASH} helloworld.sh 2>&1'\n",
    "!{cmd}"
   ]
  },
  {
   "cell_type": "markdown",
   "metadata": {},
   "source": [
    "## `wctop10lines.sh`"
   ]
  },
  {
   "cell_type": "code",
   "execution_count": null,
   "metadata": {},
   "outputs": [],
   "source": [
    "cmd = f'{BASH} wctop10lines.sh 2>&1'\n",
    "!{cmd}"
   ]
  },
  {
   "cell_type": "markdown",
   "metadata": {},
   "source": [
    "## `listmyhome.sh`"
   ]
  },
  {
   "cell_type": "code",
   "execution_count": null,
   "metadata": {},
   "outputs": [],
   "source": [
    "cmd = f'{BASH} listmyhome.sh 2>&1'\n",
    "!{cmd}"
   ]
  },
  {
   "cell_type": "markdown",
   "metadata": {},
   "source": [
    "## `backupself.sh`"
   ]
  },
  {
   "cell_type": "code",
   "execution_count": null,
   "metadata": {},
   "outputs": [],
   "source": [
    "os.remove('backupself.sh.bak')\n",
    "cmd = f'{BASH} backupself.sh 2>&1'\n",
    "!{cmd}\n",
    "info = os.listdir('backupself.sh.bak')  # Not sure if this works"
   ]
  },
  {
   "cell_type": "markdown",
   "metadata": {},
   "source": [
    "## `findrecentdocx.sh`\n",
    "\n",
    "Write your own test case here. As argument, use a folder that does contain some \n",
    "recently modified docx files. Create new docx files in that folder if you do not \n",
    "have any docx files."
   ]
  },
  {
   "cell_type": "code",
   "execution_count": null,
   "metadata": {},
   "outputs": [],
   "source": []
  },
  {
   "cell_type": "markdown",
   "metadata": {},
   "source": [
    "## `compareab.sh`\n",
    "\n",
    "Write your own test case here."
   ]
  },
  {
   "cell_type": "code",
   "execution_count": null,
   "metadata": {},
   "outputs": [],
   "source": []
  }
 ],
 "metadata": {
  "kernelspec": {
   "display_name": "Python 3.9.13 ('bmes550')",
   "language": "python",
   "name": "python3"
  },
  "language_info": {
   "codemirror_mode": {
    "name": "ipython",
    "version": 3
   },
   "file_extension": ".py",
   "mimetype": "text/x-python",
   "name": "python",
   "nbconvert_exporter": "python",
   "pygments_lexer": "ipython3",
   "version": "3.9.13"
  },
  "vscode": {
   "interpreter": {
    "hash": "e5c6703229e3dd9c482a1c23a1113da71743e131711127bdfb687457b67b9590"
   }
  }
 },
 "nbformat": 4,
 "nbformat_minor": 2
}
