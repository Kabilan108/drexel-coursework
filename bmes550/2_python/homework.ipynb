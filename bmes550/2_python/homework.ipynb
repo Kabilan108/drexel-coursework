{
 "cells": [
  {
   "cell_type": "markdown",
   "metadata": {},
   "source": [
    "# Python Homework\n",
    "\n",
    "**Author(s):** [Tony Kabilan Okeke](mailto:tko35@drexel.edu)\n",
    "\n",
    "\n",
    "## Submission Instructions\n",
    "\n",
    "Solve each of the problems described below. When you are done, print your Jupyter \n",
    "notebook into a PDF file from your browser. Keep your files (including this notebook \n",
    "file and a copy of your PDF file) in your Dropbox course folder. Upload only the pdf \n",
    "file on Blackboard."
   ]
  },
  {
   "cell_type": "markdown",
   "metadata": {},
   "source": [
    "## `getprostaterisk()`  [function, if]  [20pt]\n",
    "\n",
    "Write a function that implements the decision tree for prostate cancer risk, as described \n",
    "in Figure 3 of \"Decision Tree-Based Modeling of Androgen Pathway Genes and Prostate Cancer \n",
    "Risk\", Cancer Epidemiol Biomarkers Prev. 2011 Jun; 20(6): 1146–1155. The figure is also \n",
    "given below. The numbers within each node indicate #controls/#prostate-cancer cases. \n",
    "\n",
    "- Your function needs to have an input argument for each variable being tested. \n",
    "- Your function should calculate and return #prostate/(#numprostate + #control). \n",
    "- You need to decide for yourself what input arguments should be given to this function. \n",
    "- One should be able to use your function to obtain the Prostate Risk value for a new patient. \n",
    "- Demonstrate your function with three test cases that fall under separate nodes in the decision tree.\n",
    "\n",
    "<img src='https://www.ncbi.nlm.nih.gov/pmc/articles/PMC3111844/bin/nihms288508f3.jpg'>"
   ]
  },
  {
   "cell_type": "code",
   "execution_count": 1,
   "metadata": {},
   "outputs": [],
   "source": [
    "# Define your function below:\n",
    "\n",
    "def getprostaterisk(\n",
    "    history: bool, \n",
    "    euro_ances: float, \n",
    "    repeat: int, \n",
    "    haplotype: str\n",
    ") -> float:\n",
    "    \"\"\"\n",
    "    Compute the risk of prostate cancer using factors identified in \"Decision \n",
    "    Tree-Based Modeling of Androgen Pathway Genes and Prostate Cancer Risk\", \n",
    "    Cancer Epidemiol Biomarkers Prev. 2011 Jun; 20(6): 1146–1155\n",
    "\n",
    "    Parameters\n",
    "    ----------\n",
    "    history : bool\n",
    "        Does the patient have family history of prostate cancer\n",
    "    euro_ances : float\n",
    "        The patient's European ancestry as a percentage (0.5 = 50%)  \n",
    "    repeat : int\n",
    "        The number of AR GGC repeat polymorphisms in the patient's genome\n",
    "    haplotype : str\n",
    "        The patient's CYP3A4/CYP3A5 haplotype, one of \"AA\", \"AG\", \"GG\", \"GG\"\n",
    "\n",
    "    Returns\n",
    "    -------\n",
    "    risk : float\n",
    "        The patient's risk of prostate cancer relative to the \n",
    "    \"\"\"\n",
    "\n",
    "    assert isinstance(history, bool), \"history must either be True or False\"\n",
    "    assert 0 <= euro_ances <= 1, \"euro_ances must be between 0 and 1\"\n",
    "    assert isinstance(repeat, int), \"repeat must be an integer\"\n",
    "    assert isinstance(haplotype, str), \\\n",
    "        \"haplotype must be one of 'AA', 'AG', 'GG', or 'GG'\"\n",
    "    haplotype = haplotype.upper()\n",
    "\n",
    "    # Compute risk\n",
    "    if history:\n",
    "        if euro_ances >= 0.204:\n",
    "            if haplotype in ['GA', 'AG', 'GG']:\n",
    "                risk = 6.24\n",
    "                denom = 7 + 14\n",
    "            else:\n",
    "                risk = 0.94\n",
    "                denom = 10 + 3\n",
    "        else:\n",
    "            if repeat < 16:\n",
    "                risk = 5.46\n",
    "                denom = 4 + 7\n",
    "            else:\n",
    "                risk = 1.56\n",
    "                denom = 38 + 19\n",
    "    else:\n",
    "        risk = 1.00\n",
    "        denom = 343 + 110\n",
    "\n",
    "    # return #prostate / (#numprostate + #control)\n",
    "    return risk\n",
    "\n",
    "#==============================================================================\n",
    "# Add your test cases below:\n",
    "\n",
    "assert getprostaterisk(True, 0.5, 16, 'GA') == 6.24\n",
    "assert getprostaterisk(True, 0.1, 16, 'AA') == 1.56\n",
    "assert getprostaterisk(False, 0.8, 12, 'GG') == 1.00"
   ]
  },
  {
   "cell_type": "markdown",
   "metadata": {},
   "source": [
    "# `knearestneighbors()`  [function, list, for, if]  [20pt]\n",
    "\n",
    "Write a function knearestneighbors(v, x, k) that takes a list of numbers v, and a number x; \n",
    "and returns the list of k numbers in v that are are nearest to x.  The list of numbers you \n",
    "return should be ordered according to how close they are to x (with the closest one listed \n",
    "first). If v has fewer entries than k, then return all numbers in v as the answer. If the \n",
    "argument k is not given, use k=3.\n",
    "\n",
    "You may search for and use functions available in basic Python and/or in numpy. Using \n",
    "numpy is not required, but may simplify some of the tasks."
   ]
  },
  {
   "cell_type": "code",
   "execution_count": 2,
   "metadata": {},
   "outputs": [
    {
     "name": "stdout",
     "output_type": "stream",
     "text": [
      "[73, 77]\n",
      "[90, 99]\n",
      "[90, 90]\n",
      "[58, 59, 63]\n"
     ]
    }
   ],
   "source": [
    "# Define your function below:\n",
    "\n",
    "def knearestneighbors(v: list, x: float, k: int=3) -> list:\n",
    "    \"\"\"\n",
    "    Find the k nearest neighbors of x in the list x\n",
    "\n",
    "    Parameters\n",
    "    ----------\n",
    "    x : list\n",
    "        List of numbers to search\n",
    "    x : float\n",
    "        The number to find the k nearest neighbors of\n",
    "    k : int\n",
    "        The number of nearest neighbors to return\n",
    "\n",
    "    Returns\n",
    "    -------\n",
    "    neighbors : list\n",
    "        The k nearest neighbors of x in the list x\n",
    "    \"\"\"\n",
    "\n",
    "    assert isinstance(v, list), \"x must be a list\"\n",
    "    assert k > 0, \"k must be greater than 0\"\n",
    "\n",
    "    # Find the k nearest neighbors\n",
    "    neighbors = sorted(v, key=lambda y: abs(y - x))[:k] \n",
    "\n",
    "    return neighbors\n",
    "\n",
    "#==========================================================================================\n",
    "# Add your test cases below:\n",
    "\n",
    "# This test case should print: [73 77]\n",
    "print( knearestneighbors([73,90,99,77,59], 70, 2 ) )\n",
    "\n",
    "# This test case should print: [90 99]\n",
    "print( knearestneighbors([73,90,99,77,59], 90, 2 ) )\n",
    "\n",
    "# This test case should print: [90 90]\n",
    "print( knearestneighbors([73,90,99,77,59,90], 90, 2 ) )\n",
    "\n",
    "# This test case should print: [58 59 63]\n",
    "print( knearestneighbors([91,58,85,74,59,25,67,9,63,67], 57 ) )"
   ]
  },
  {
   "cell_type": "markdown",
   "metadata": {},
   "source": [
    "# `filterpatients()`  [functions, list, dictionary, for (or list comprehension)]  [20pt]\n",
    "\n",
    "You are working at a hospital's IT department. The hospital is recruiting patients for \n",
    "clinical trial of a new drug. In the current phase of the clinical trial, only female \n",
    "patients between the ages of 30 (inclusive) to 40 (inclusive) are being recruited. \n",
    "Your boss wants you to filter out the database of volunteer patients and extract the names \n",
    "of those matching the criteria. \n",
    "- Write a function filterpatients that takes as input the list of patients in the database, \n",
    "- where each patient is encoded as a python dictionary and \n",
    "- returns the names of eligible patients as a list of strings. \n",
    "- Assume that the gender is always given in lower case, either as 'f' or 'm'."
   ]
  },
  {
   "cell_type": "code",
   "execution_count": 3,
   "metadata": {},
   "outputs": [
    {
     "name": "stdout",
     "output_type": "stream",
     "text": [
      "['anna', 'elaina']\n",
      "['mary']\n"
     ]
    }
   ],
   "source": [
    "# Modify the template function given below:\n",
    "def filterpatients(patients: list) -> list:\n",
    "    \"\"\"\n",
    "    Filter out female patients between 30 and 40 (inclusive) from a list of \n",
    "    patients.\n",
    "\n",
    "    Parameters\n",
    "    ----------\n",
    "    patients : list\n",
    "        A list of dictionaries which define the patient's name, gender and age\n",
    "\n",
    "    Returns\n",
    "    -------\n",
    "    patients : list\n",
    "        List of patient names\n",
    "    \"\"\"\n",
    "\n",
    "    assert isinstance(patients, list), \"patients must be a list\"\n",
    "\n",
    "    return [p['name'] for p in patients if 30 <= p['age'] <= 40 and p['gender'] == 'f']\n",
    "\n",
    "#==========================================================================================\n",
    "# Do not change the test cases below\n",
    "# After you complete the filterpatients() function above, run this Cell to produce the output.\n",
    "\n",
    "# This test case should print: ['anna', 'elaina']\n",
    "print( filterpatients( [ {'name':'mary','gender':'f','age':25},\\\n",
    "                       {'name':'john','gender':'m','age':35},\\\n",
    "                       {'name':'anna','gender':'f','age':30},\\\n",
    "                       {'name':'paul','gender':'m','age':22},\\\n",
    "                       {'name':'elaina','gender':'f','age':38} ] ) )\n",
    "# This test case should print: ['mary']\n",
    "print( filterpatients( [ {'name':'mary','gender':'f','age':37},\\\n",
    "                       {'name':'john','gender':'m','age':35} ] ) )"
   ]
  },
  {
   "cell_type": "markdown",
   "metadata": {},
   "source": [
    "# Clover Graph  [plotting] [10pt]\n",
    "\n",
    "Draw a graph that should resemble a four-leafed clover, using The following equations:\n",
    "\n",
    "$x = cos(2t) cos(t)$\n",
    "\n",
    "$y = cos(2t) sin(t)$\n"
   ]
  },
  {
   "cell_type": "code",
   "execution_count": 4,
   "metadata": {},
   "outputs": [
    {
     "data": {
      "image/png": "[encoded data removed]",
      "text/plain": [
       "<Figure size 432x288 with 1 Axes>"
      ]
     },
     "metadata": {
      "needs_background": "light"
     },
     "output_type": "display_data"
    }
   ],
   "source": [
    "from sympy import cos, sin, plot_parametric\n",
    "from sympy.abc import t\n",
    "\n",
    "xfun = cos(2*t) * cos(t)\n",
    "yfun = cos(2*t) * sin(t)\n",
    "\n",
    "plot_parametric((xfun, yfun));"
   ]
  },
  {
   "cell_type": "markdown",
   "metadata": {},
   "source": [
    "# Symbolic Math [10pt]\n"
   ]
  },
  {
   "cell_type": "markdown",
   "metadata": {},
   "source": [
    "Find the derivative of $f(x)=Ae^{-cos(x)}$ with respect to x."
   ]
  },
  {
   "cell_type": "code",
   "execution_count": 5,
   "metadata": {},
   "outputs": [
    {
     "data": {
      "text/latex": [
       "$\\displaystyle A e^{- \\cos{\\left(x \\right)}} \\sin{\\left(x \\right)}$"
      ],
      "text/plain": [
       "A*exp(-cos(x))*sin(x)"
      ]
     },
     "execution_count": 5,
     "metadata": {},
     "output_type": "execute_result"
    }
   ],
   "source": [
    "from sympy.abc import x, A\n",
    "from sympy import exp, cos, diff\n",
    "\n",
    "fx = A * exp(-cos(x))\n",
    "diff(fx, x)"
   ]
  },
  {
   "cell_type": "markdown",
   "metadata": {},
   "source": [
    "Find the roots of the equation $x^2 + x = 12$"
   ]
  },
  {
   "cell_type": "code",
   "execution_count": 6,
   "metadata": {},
   "outputs": [
    {
     "name": "stdout",
     "output_type": "stream",
     "text": [
      "Roots: [-4, 3]\n"
     ]
    }
   ],
   "source": [
    "from sympy.abc import x\n",
    "from sympy import solve, Eq\n",
    "\n",
    "eqn = Eq(x**2 + x, 12)\n",
    "print(f\"Roots: {solve(eqn)}\")"
   ]
  },
  {
   "cell_type": "markdown",
   "metadata": {},
   "source": [
    "# `searchinfile()`  [file, string, list, for (or list comprehension)]  [20pt]\n",
    "\n",
    "- Define searchinfile(filename,keyword) function in a python file `searchinfile.py`\n",
    "- Your function should return a list of the line numbers where the keyword \n",
    "  appears (case insensitively) in that file."
   ]
  },
  {
   "cell_type": "code",
   "execution_count": 7,
   "metadata": {},
   "outputs": [
    {
     "name": "stdout",
     "output_type": "stream",
     "text": [
      "[2]\n",
      "[4, 5]\n",
      "[]\n",
      "[2, 3]\n"
     ]
    }
   ],
   "source": [
    "# Do not make any changes to the code within this Cell.\n",
    "# After completing your searchinfile.py file, run this Cell to produce the test-case print-outs.\n",
    "\n",
    "%load_ext autoreload\n",
    "%autoreload 2\n",
    "\n",
    "# Create some example files.\n",
    "with open('searchinfile_sample1.txt', 'w') as f: f.write('apple\\norange\\nbanana\\nraspberry\\nstrawberry')\n",
    "with open('searchinfile_sample2.txt', 'w') as f: f.write('cherry\\nblueberry\\nelderberry')\n",
    "    \n",
    "import os;\n",
    "if os.path.exists('searchinfile.py'):\n",
    "    import searchinfile\n",
    "    # this test case should print [2]\n",
    "    print( searchinfile.searchinfile('searchinfile_sample1.txt', 'orange') )\n",
    "    \n",
    "    # this test case should print [4, 5]\n",
    "    print( searchinfile.searchinfile('searchinfile_sample1.txt', 'BERRY') )\n",
    "\n",
    "    # this test case should print []\n",
    "    print( searchinfile.searchinfile('searchinfile_sample1.txt', 'watermelon') )\n",
    "    \n",
    "    # this test case should print [2, 3]\n",
    "    print( searchinfile.searchinfile('searchinfile_sample2.txt', 'berry') )"
   ]
  }
 ],
 "metadata": {
  "kernelspec": {
   "display_name": "Python 3.10.4 ('bmes550')",
   "language": "python",
   "name": "python3"
  },
  "language_info": {
   "codemirror_mode": {
    "name": "ipython",
    "version": 3
   },
   "file_extension": ".py",
   "mimetype": "text/x-python",
   "name": "python",
   "nbconvert_exporter": "python",
   "pygments_lexer": "ipython3",
   "version": "3.10.4"
  },
  "vscode": {
   "interpreter": {
    "hash": "e5c6703229e3dd9c482a1c23a1113da71743e131711127bdfb687457b67b9590"
   }
  }
 },
 "nbformat": 4,
 "nbformat_minor": 2
}
