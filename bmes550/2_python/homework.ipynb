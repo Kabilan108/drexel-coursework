{
 "cells": [
  {
   "cell_type": "markdown",
   "metadata": {},
   "source": [
    "### Author(s): [[WRITE YOUR NAME(S) HERE]]\n",
    "\n",
    "\n",
    "# Submission Instructions\n",
    "\n",
    "Solve each of the problems described below. When you are done, print your Jupyter notebook into a PDF file from your browser. Keep your files (including this notebook file and a copy of your PDF file) in your Dropbox course folder. Upload only the pdf file on Blackboard."
   ]
  },
  {
   "cell_type": "markdown",
   "metadata": {},
   "source": [
    "# getprostaterisk()  [function, if]  [20pt]\n",
    "\n",
    "Write a function that implements the decision tree for prostate cancer risk, as described in Figure 3 of \"Decision Tree-Based Modeling of Androgen Pathway Genes and Prostate Cancer Risk\", Cancer Epidemiol Biomarkers Prev. 2011 Jun; 20(6): 1146–1155. The figure is also given below. The numbers within each node indicate #controls/#prostate-cancer cases. Your function needs to have an input argument for each variable being tested. Your function should calculate and return #prostate/(#numprostate + #control). You need to decide for yourself what input arguments should be given to this function. One should be able to use your function to obtain the Prostate Risk value for a new patient. Demonstrate your function with three test cases that fall under separate nodes in the decision tree.\n",
    "\n",
    "<img src='https://www.ncbi.nlm.nih.gov/pmc/articles/PMC3111844/bin/nihms288508f3.jpg'>"
   ]
  },
  {
   "cell_type": "code",
   "execution_count": null,
   "metadata": {},
   "outputs": [],
   "source": [
    "# Define your function below:\n",
    "\n",
    "\n",
    "\n",
    "\n",
    "\n",
    "\n",
    "\n",
    "#==========================================================================================\n",
    "# Add your test cases below:\n",
    "\n",
    "\n"
   ]
  },
  {
   "cell_type": "markdown",
   "metadata": {},
   "source": [
    "# knearestneighbors()   [function, list, for, if] [20pt]\n",
    "\n",
    "Write a function knearestneighbors(v, x, k) that takes a list of numbers v, and a number x; and returns the list of k numbers in v that are are nearest to x.  The list of numbers you return should be ordered according to how close they are to x (with the closest one listed first). If v has fewer entries than k, then return all numbers in v as the answer. If the argument k is not given, use k=3.\n",
    "\n",
    "You may search for and use functions available in basic Python and/or in numpy. Using numpy is not required, but may simplify some of the tasks."
   ]
  },
  {
   "cell_type": "code",
   "execution_count": null,
   "metadata": {},
   "outputs": [],
   "source": [
    "# Modify the template function given below:\n",
    "\n",
    "def knearestneighbors(v, x, k=3):\n",
    "    return []\n",
    "\n",
    "\n",
    "\n",
    "\n",
    "\n",
    "\n",
    "#==========================================================================================\n",
    "# Do not change the test cases below\n",
    "# After you complete the knearestneighbors() function above, run this Cell to produce the output.\n",
    "\n",
    "\n",
    "# This test case should print: [73 77]\n",
    "print( knearestneighbors([73,90,99,77,59], 70, 2 ) )\n",
    "\n",
    "\n",
    "# This test case should print: [90 99]\n",
    "print( knearestneighbors([73,90,99,77,59], 90, 2 ) )\n",
    "\n",
    "\n",
    "# This test case should print: [90 90]\n",
    "print( knearestneighbors([73,90,99,77,59,90], 90, 2 ) )\n",
    "\n",
    "# This test case should print: [58 59 63]\n",
    "print( knearestneighbors([91,58,85,74,59,25,67,9,63,67], 57 ) )"
   ]
  },
  {
   "cell_type": "markdown",
   "metadata": {},
   "source": [
    "# filterpatients()   [functions, list, dictionary, for (or list comprehension)] [20pt]\n",
    "\n",
    "You are working at a hospital's IT department. The hospital is recruiting patients for clinical trial of a new drug. In the current phase of the clinical trial, only female patients between the ages of 30 (inclusive) to 40 (inclusive) are being recruited. Your boss wants you to filter out the database of volunteer patients and extract the names of those matching the criteria. Write a function filterpatients that takes as input the list of patients in the database, where each patient is encoded as a python dictionary and returns the names of eligible patients as a list of strings. Assume that the gender is always given in lower case, either as 'f' or 'm'."
   ]
  },
  {
   "cell_type": "code",
   "execution_count": null,
   "metadata": {},
   "outputs": [],
   "source": [
    "# Modify the template function given below:\n",
    "def filterpatients( data ):\n",
    "    return [];\n",
    "\n",
    "\n",
    "\n",
    "#==========================================================================================\n",
    "# Do not change the test cases below\n",
    "# After you complete the filterpatients() function above, run this Cell to produce the output.\n",
    "\n",
    "# This test case should print: ['anna', 'elaina']\n",
    "print( filterpatients( [ {'name':'mary','gender':'f','age':25},\\\n",
    "                       {'name':'john','gender':'m','age':35},\\\n",
    "                       {'name':'anna','gender':'f','age':30},\\\n",
    "                       {'name':'paul','gender':'m','age':22},\\\n",
    "                       {'name':'elaina','gender':'f','age':38} ] ) )\n",
    "# This test case should print: ['mary']\n",
    "print( filterpatients( [ {'name':'mary','gender':'f','age':37},\\\n",
    "                       {'name':'john','gender':'m','age':35} ] ) )"
   ]
  },
  {
   "cell_type": "markdown",
   "metadata": {},
   "source": [
    "# Clover Graph  [plotting] [10pt]\n",
    "\n",
    "Draw a graph that should resemble a four-leafed clover, using The following equations:\n",
    "\n",
    "$x = cos(2t) cos(t)$\n",
    "\n",
    "$y = cos(2t) sin(t)$\n"
   ]
  },
  {
   "cell_type": "code",
   "execution_count": null,
   "metadata": {},
   "outputs": [],
   "source": []
  },
  {
   "cell_type": "markdown",
   "metadata": {},
   "source": [
    "# Symbolic Math [10pt]\n"
   ]
  },
  {
   "cell_type": "markdown",
   "metadata": {},
   "source": [
    "Find the derivative of $f(x)=Ae^{-cos(x)}$ with respect to x."
   ]
  },
  {
   "cell_type": "code",
   "execution_count": null,
   "metadata": {},
   "outputs": [],
   "source": []
  },
  {
   "cell_type": "markdown",
   "metadata": {},
   "source": [
    "Find the roots of the equation $x^2 + x = 12$"
   ]
  },
  {
   "cell_type": "code",
   "execution_count": null,
   "metadata": {},
   "outputs": [],
   "source": []
  },
  {
   "cell_type": "markdown",
   "metadata": {},
   "source": [
    "# searchinfile()  [file, string, list, for (or list comprehension)] [20pt]\n",
    "\n",
    "Define searchinfile(filename,keyword) function in a python file searchinfile.py\n",
    "Your function should return a list of the line numbers where the keyword appears (case insensitively) in that file."
   ]
  },
  {
   "cell_type": "code",
   "execution_count": 12,
   "metadata": {},
   "outputs": [
    {
     "name": "stdout",
     "output_type": "stream",
     "text": [
      "The autoreload extension is already loaded. To reload it, use:\n",
      "  %reload_ext autoreload\n"
     ]
    }
   ],
   "source": [
    "# Do not make any changes to the code within this Cell.\n",
    "# After completing your searchinfile.py file, run this Cell to produce the test-case print-outs.\n",
    "\n",
    "%load_ext autoreload\n",
    "%autoreload 2\n",
    "\n",
    "# Create some example files.\n",
    "with open('searchinfile_sample1.txt', 'w') as f: f.write('apple\\norange\\nbanana\\nraspberry\\nstrawberry')\n",
    "with open('searchinfile_sample2.txt', 'w') as f: f.write('cherry\\nblueberry\\nelderberry')\n",
    "    \n",
    "import os;\n",
    "if os.path.exists('searchinfile.py'):\n",
    "    import searchinfile\n",
    "    # this test case should print [2]\n",
    "    print( searchinfile.searchinfile('searchinfile_sample1.txt', 'orange') )\n",
    "    \n",
    "    # this test case should print [4, 5]\n",
    "    print( searchinfile.searchinfile('searchinfile_sample1.txt', 'BERRY') )\n",
    "\n",
    "    # this test case should print []\n",
    "    print( searchinfile.searchinfile('searchinfile_sample1.txt', 'watermelon') )\n",
    "    \n",
    "    # this test case should print [2, 3]\n",
    "    print( searchinfile.searchinfile('searchinfile_sample2.txt', 'berry') )"
   ]
  }
 ],
 "metadata": {
  "kernelspec": {
   "display_name": "Python 3",
   "language": "python",
   "name": "python3"
  },
  "language_info": {
   "codemirror_mode": {
    "name": "ipython",
    "version": 3
   },
   "file_extension": ".py",
   "mimetype": "text/x-python",
   "name": "python",
   "nbconvert_exporter": "python",
   "pygments_lexer": "ipython3",
   "version": "3.8.8"
  }
 },
 "nbformat": 4,
 "nbformat_minor": 2
}
