{
 "cells": [
  {
   "cell_type": "markdown",
   "metadata": {},
   "source": [
    "# Python Homework\n",
    "\n",
    "**Author:** [Tony Kabilan Okeke](mailto:tko35@drexel.edu)\n",
    "\n",
    "\n",
    "## Submission Instructions\n",
    "\n",
    "Solve each of the problems described below. When you are done, print your Jupyter \n",
    "notebook into a PDF file from your browser. Keep your files (including this notebook \n",
    "file and a copy of your PDF file) in your Dropbox course folder. Upload only the pdf \n",
    "file on Blackboard."
   ]
  },
  {
   "cell_type": "markdown",
   "metadata": {},
   "source": [
    "## `bmicategory()` [function, if/switch] [10pt]\n",
    "\n",
    "Write a function `bmicategory()` that returns a dictionary of the Body mass \n",
    "index (bmi) value and category for a given height/weight combination. Body mass \n",
    "index is defined as follows:\n",
    "$$\n",
    "BMI=\\frac{weight(lb)*4.88}{(height(ft))^2}\n",
    "$$\n",
    "\n",
    "and the BMI categories are defined as the following:\n",
    "\n",
    "| CATEGORY                     |  BMI          |\n",
    "|:-----------------------------|:--------------|\n",
    "|Very severely underweight     |less than 15 |\n",
    "|Severely underweight          |from 15 (including 15) to 16 |\n",
    "|Underweight                   |from 16 (including 16) to 18.5 |\n",
    "|Normal                        |from 18.5 (including 18.5) to 25 |\n",
    "|Overweight                    |from 25 (including 25) to 30 |\n",
    "|Moderately obese              |from 30 (including 30) to 35 |\n",
    "|Severely obese                |from 35 (including 35) to 40 |\n",
    "|Very severely obese           |over 40 (including 40) |\n",
    "\n",
    "\n",
    "Below is an example call and the expected output from your function.\n",
    "\n",
    "```bash\n",
    ">> bmicategory( 7, weight=170 )\n",
    "\n",
    "{'bmi': 16.9306, 'category': 'Underweight'}\n",
    "```"
   ]
  },
  {
   "cell_type": "code",
   "execution_count": 1,
   "metadata": {},
   "outputs": [
    {
     "name": "stdout",
     "output_type": "stream",
     "text": [
      "Test Case 1: height=7ft, weight=170lb\n",
      "\t{'bmi': 16.9306, 'category': 'Underweight'}\n",
      "Test Case 2: height=6ft, weight=290lb\n",
      "\t{'bmi': 39.3111, 'category': 'Severely obese'}\n",
      "Test Case 3: height=5.5ft, weight=200lb\n",
      "\t{'bmi': 32.2645, 'category': 'Moderately obese'}\n"
     ]
    }
   ],
   "source": [
    "# Define your function below:\n",
    "def bmicategory(height: float, weight: float):\n",
    "    \"\"\"\n",
    "    Compute the BMI for a given height-weight combination and assign a \n",
    "    category.\n",
    "    \"\"\"\n",
    "\n",
    "    # Check for valid input\n",
    "    assert height > 0, \"height must be greater than 0\"\n",
    "    assert weight > 0, \"weight must be greater than 0\"\n",
    "\n",
    "    # Compute BMI\n",
    "    output = dict(bmi = round(weight * 4.88 / height**2, 4))\n",
    "\n",
    "    # Assign category\n",
    "    if output['bmi'] < 15:\n",
    "        output['category'] = 'Very severely underweight'\n",
    "    elif output['bmi'] < 16:\n",
    "        output['category'] = 'Severely underweight'\n",
    "    elif output['bmi'] < 18.5:\n",
    "        output['category'] = 'Underweight'\n",
    "    elif output['bmi'] < 25:\n",
    "        output['category'] = 'Normal'\n",
    "    elif output['bmi'] < 30:\n",
    "        output['category'] = 'Overweight'\n",
    "    elif output['bmi'] < 35:\n",
    "        output['category'] = 'Moderately obese'\n",
    "    elif output['bmi'] < 40:\n",
    "        output['category'] = 'Severely obese'\n",
    "    else:\n",
    "        output['category'] = 'Very severely obese'\n",
    "\n",
    "    return output\n",
    "\n",
    "\n",
    "#==============================================================================\n",
    "print('Test Case 1: height=7ft, weight=170lb', end='\\n\\t')\n",
    "print( bmicategory( 7, weight=170 ) ) \n",
    "\n",
    "print('Test Case 2: height=6ft, weight=290lb', end='\\n\\t')\n",
    "print( bmicategory( 6, weight=290 ) )\n",
    "\n",
    "print('Test Case 3: height=5.5ft, weight=200lb', end='\\n\\t')\n",
    "print( bmicategory( 5.5, weight=200 ) )"
   ]
  },
  {
   "cell_type": "markdown",
   "metadata": {},
   "source": [
    "## `getprostaterisk()`  [function, if]  [10pt]\n",
    "\n",
    "Write a function that implements the decision tree for prostate cancer risk, as described \n",
    "in Figure 3 of \"Decision Tree-Based Modeling of Androgen Pathway Genes and Prostate Cancer \n",
    "Risk\", Cancer Epidemiol Biomarkers Prev. 2011 Jun; 20(6): 1146–1155. The figure is also \n",
    "given below. The numbers within each node indicate #controls/#prostate-cancer cases. \n",
    "\n",
    "- Your function needs to have an input argument for each variable being tested. \n",
    "- Your function should calculate and return #prostate/(#numprostate + #control). \n",
    "- You need to decide for yourself what input arguments should be given to this function. \n",
    "- One should be able to use your function to obtain the Prostate Risk value for a new patient. \n",
    "- Demonstrate your function with three test cases that fall under separate nodes in the decision tree.\n",
    "\n",
    "<img src='https://www.ncbi.nlm.nih.gov/pmc/articles/PMC3111844/bin/nihms288508f3.jpg'>"
   ]
  },
  {
   "cell_type": "code",
   "execution_count": null,
   "metadata": {},
   "outputs": [
    {
     "name": "stdout",
     "output_type": "stream",
     "text": [
      "Test Case 1: history=False, euro_ances=0.8, repeat=12, halotype='GG'\n",
      "\tRisk = 0.2428\n",
      "Test Case 2: history=True, euro_ances=0.1, repeat=16, halotype='AA'\n",
      "\tRisk = 0.3333\n",
      "Test Case 3: history=True, euro_ances=0.1, repeat=10, halotype='AA'\n",
      "\tRisk = 0.6364\n",
      "Test Case 4: history=True, euro_ances=0.8, repeat=12, halotype='AA'\n",
      "\tRisk = 0.2308\n",
      "Test Case 5: history=True, euro_ances=0.5, repeat=16, halotype='GA'\n",
      "\tRisk = 0.6667\n"
     ]
    },
    {
     "ename": "",
     "evalue": "",
     "output_type": "error",
     "traceback": [
      "\u001b[1;31mnotebook controller is DISPOSED. \n",
      "\u001b[1;31mView Jupyter <a href='command:jupyter.viewOutput'>log</a> for further details."
     ]
    }
   ],
   "source": [
    "# Define your function below:\n",
    "def getprostaterisk(\n",
    "    history: bool, \n",
    "    euro_ances: float, \n",
    "    repeat: int, \n",
    "    haplotype: str\n",
    ") -> float:\n",
    "    \"\"\"\n",
    "    Compute the risk of prostate cancer using factors identified in \"Decision \n",
    "    Tree-Based Modeling of Androgen Pathway Genes and Prostate Cancer Risk\", \n",
    "    Cancer Epidemiol Biomarkers Prev. 2011 Jun; 20(6): 1146-1155\n",
    "    \"\"\"\n",
    "\n",
    "    # Check for invalid inputs\n",
    "    assert isinstance(history, bool), \"history must either be True or False\"\n",
    "    assert 0 <= euro_ances <= 1, \"euro_ances must be between 0 and 1\"\n",
    "    assert isinstance(repeat, int), \"repeat must be an integer\"\n",
    "    assert isinstance(haplotype, str), \\\n",
    "        \"haplotype must be one of 'AA', 'AG', 'GG', or 'GG'\"\n",
    "    haplotype = haplotype.upper()\n",
    "\n",
    "    # Compute risk\n",
    "    if history:\n",
    "        if euro_ances >= 0.204:\n",
    "            if haplotype in ['GA', 'AG', 'GG']:\n",
    "                return 14 / (7 + 14)\n",
    "            else:\n",
    "                return 3 / (10 + 3)\n",
    "        else:\n",
    "            if repeat < 16:\n",
    "                return 7 / (4 + 7)\n",
    "            else:\n",
    "                return 19 / (38 + 19)\n",
    "    else:\n",
    "        return 110 / (343 + 110)\n",
    "\n",
    "\n",
    "#==============================================================================\n",
    "# Add your test cases below:\n",
    "\n",
    "# This test case should print 110/453 = 0.2428\n",
    "print(\"Test Case 1: history=False, euro_ances=0.8, repeat=12, halotype='GG'\")\n",
    "print( f\"\\tRisk = {getprostaterisk(False, 0.8, 12, 'GG'):.4f}\" )\n",
    "\n",
    "# This test case should print 19/57 = 0.3333\n",
    "print(\"Test Case 2: history=True, euro_ances=0.1, repeat=16, halotype='AA'\")\n",
    "print( f\"\\tRisk = {getprostaterisk(True, 0.1, 16, 'AA'):.4f}\" )\n",
    "\n",
    "# This test case should print 7/11 = 0.6364\n",
    "print(\"Test Case 3: history=True, euro_ances=0.1, repeat=10, halotype='AA'\")\n",
    "print( f\"\\tRisk = {getprostaterisk(True, 0.1, 10, 'AA'):.4f}\" )\n",
    "\n",
    "# This test case should print 3/13 = 0.2308\n",
    "print(\"Test Case 4: history=True, euro_ances=0.8, repeat=12, halotype='AA'\")\n",
    "print( f\"\\tRisk = {getprostaterisk(True, 0.8, 12, 'AA'):.4f}\" )\n",
    "\n",
    "# This test case should print 14/21 = 0.6667\n",
    "print(\"Test Case 5: history=True, euro_ances=0.5, repeat=16, halotype='GA'\")\n",
    "print( f\"\\tRisk = {getprostaterisk(True, 0.5, 16, 'GA'):.4f}\" )"
   ]
  },
  {
   "cell_type": "markdown",
   "metadata": {},
   "source": [
    "# `knearestneighbors()`  [function, list, for, if]  [20pt]\n",
    "\n",
    "Write a function knearestneighbors(v, x, k) that takes a list of numbers v, and a number x; \n",
    "and returns the list of k numbers in v that are are nearest to x.  The list of numbers you \n",
    "return should be ordered according to how close they are to x (with the closest one listed \n",
    "first). If v has fewer entries than k, then return all numbers in v as the answer. If the \n",
    "argument k is not given, use k=3.\n",
    "\n",
    "You may search for and use functions available in basic Python and/or in numpy. Using \n",
    "numpy is not required, but may simplify some of the tasks."
   ]
  },
  {
   "cell_type": "code",
   "execution_count": null,
   "metadata": {},
   "outputs": [
    {
     "name": "stdout",
     "output_type": "stream",
     "text": [
      "[73, 77]\n",
      "[90, 99]\n",
      "[90, 90]\n",
      "[58, 59, 63]\n"
     ]
    },
    {
     "ename": "",
     "evalue": "",
     "output_type": "error",
     "traceback": [
      "\u001b[1;31mnotebook controller is DISPOSED. \n",
      "\u001b[1;31mView Jupyter <a href='command:jupyter.viewOutput'>log</a> for further details."
     ]
    }
   ],
   "source": [
    "# Modify the template function given below:\n",
    "def knearestneighbors(v: list, x: float, k: int=3) -> list:\n",
    "    \"\"\"\n",
    "    Find the k nearest neighbors of x in the list x\n",
    "    \"\"\"\n",
    "\n",
    "    # Check for invalid inputs\n",
    "    assert isinstance(v, list), \"x must be a list\"\n",
    "    assert k > 0, \"k must be greater than 0\"\n",
    "\n",
    "    # Find the k nearest neighbors\n",
    "    neighbors = sorted(v, key=lambda y: abs(y - x))[:k] \n",
    "\n",
    "    return neighbors\n",
    "\n",
    "\n",
    "#==========================================================================================\n",
    "# Do not change the test cases below\n",
    "# After you complete the knearestneighbors() function above, run this Cell to produce the output.\n",
    "\n",
    "\n",
    "# This test case should print: [73 77]\n",
    "print( knearestneighbors([73,90,99,77,59], 70, 2 ) )\n",
    "\n",
    "# This test case should print: [90 99]\n",
    "print( knearestneighbors([73,90,99,77,59], 90, 2 ) )\n",
    "\n",
    "# This test case should print: [90 90]\n",
    "print( knearestneighbors([73,90,99,77,59,90], 90, 2 ) )\n",
    "\n",
    "# This test case should print: [58 59 63]\n",
    "print( knearestneighbors([91,58,85,74,59,25,67,9,63,67], 57 ) )"
   ]
  },
  {
   "cell_type": "markdown",
   "metadata": {},
   "source": [
    "# `filterpatients()`  [functions, list, dictionary, for (or list comprehension)]  [20pt]\n",
    "\n",
    "You are working at a hospital's IT department. The hospital is recruiting patients for \n",
    "clinical trial of a new drug. In the current phase of the clinical trial, only female \n",
    "patients between the ages of 30 (inclusive) to 40 (inclusive) are being recruited. \n",
    "Your boss wants you to filter out the database of volunteer patients and extract the names \n",
    "of those matching the criteria. \n",
    "- Write a function filterpatients that takes as input the list of patients in the database, \n",
    "- where each patient is encoded as a python dictionary and \n",
    "- returns the names of eligible patients as a list of strings. \n",
    "- Assume that the gender is always given in lower case, either as 'f' or 'm'."
   ]
  },
  {
   "cell_type": "code",
   "execution_count": null,
   "metadata": {},
   "outputs": [
    {
     "name": "stdout",
     "output_type": "stream",
     "text": [
      "['anna', 'elaina']\n",
      "['mary']\n"
     ]
    },
    {
     "ename": "",
     "evalue": "",
     "output_type": "error",
     "traceback": [
      "\u001b[1;31mnotebook controller is DISPOSED. \n",
      "\u001b[1;31mView Jupyter <a href='command:jupyter.viewOutput'>log</a> for further details."
     ]
    }
   ],
   "source": [
    "# Modify the template function given below:\n",
    "def filterpatients(data: list) -> list:\n",
    "    \"\"\"\n",
    "    Filter out female patients between 30 and 40 (inclusive) from a list of \n",
    "    patients.\n",
    "    \"\"\"\n",
    "\n",
    "    # Check for invalid inputs\n",
    "    assert isinstance(data, list), \"patients must be a list\"\n",
    "\n",
    "    return [ p['name'] for p in data \\\n",
    "            if 30 <= p['age'] <= 40 and p['gender'] == 'f']\n",
    "\n",
    "\n",
    "#==========================================================================================\n",
    "# Do not change the test cases below\n",
    "# After you complete the filterpatients() function above, run this Cell to produce the output.\n",
    "\n",
    "# This test case should print: ['anna', 'elaina']\n",
    "print( filterpatients( [ {'name':'mary','gender':'f','age':25},\\\n",
    "                       {'name':'john','gender':'m','age':35},\\\n",
    "                       {'name':'anna','gender':'f','age':30},\\\n",
    "                       {'name':'paul','gender':'m','age':22},\\\n",
    "                       {'name':'elaina','gender':'f','age':38} ] ) )\n",
    "\n",
    "# This test case should print: ['mary']\n",
    "print( filterpatients( [ {'name':'mary','gender':'f','age':37},\\\n",
    "                       {'name':'john','gender':'m','age':35} ] ) )"
   ]
  },
  {
   "cell_type": "markdown",
   "metadata": {},
   "source": [
    "# Clover Graph  [plotting] [10pt]\n",
    "\n",
    "Draw a graph that should resemble a four-leafed clover, using The following equations:\n",
    "\n",
    "$x = cos(2t) cos(t)$\n",
    "\n",
    "$y = cos(2t) sin(t)$\n"
   ]
  },
  {
   "cell_type": "code",
   "execution_count": null,
   "metadata": {},
   "outputs": [
    {
     "data": {
      "image/png": "[encoded data removed]",
      "text/plain": [
       "<Figure size 432x288 with 1 Axes>"
      ]
     },
     "metadata": {
      "needs_background": "light"
     },
     "output_type": "display_data"
    },
    {
     "ename": "",
     "evalue": "",
     "output_type": "error",
     "traceback": [
      "\u001b[1;31mnotebook controller is DISPOSED. \n",
      "\u001b[1;31mView Jupyter <a href='command:jupyter.viewOutput'>log</a> for further details."
     ]
    }
   ],
   "source": [
    "from sympy import cos, sin, plot_parametric\n",
    "from sympy.abc import t\n",
    "\n",
    "xfun = cos(2*t) * cos(t)\n",
    "yfun = cos(2*t) * sin(t)\n",
    "\n",
    "plot_parametric((xfun, yfun));"
   ]
  },
  {
   "cell_type": "markdown",
   "metadata": {},
   "source": [
    "# Symbolic Math [10pt]\n"
   ]
  },
  {
   "cell_type": "markdown",
   "metadata": {},
   "source": [
    "Find the derivative of $f(x)=Ae^{-cos(x)}$ with respect to x."
   ]
  },
  {
   "cell_type": "code",
   "execution_count": null,
   "metadata": {},
   "outputs": [
    {
     "data": {
      "text/latex": [
       "$\\displaystyle A e^{- \\cos{\\left(x \\right)}} \\sin{\\left(x \\right)}$"
      ],
      "text/plain": [
       "A*exp(-cos(x))*sin(x)"
      ]
     },
     "execution_count": 6,
     "metadata": {},
     "output_type": "execute_result"
    },
    {
     "ename": "",
     "evalue": "",
     "output_type": "error",
     "traceback": [
      "\u001b[1;31mnotebook controller is DISPOSED. \n",
      "\u001b[1;31mView Jupyter <a href='command:jupyter.viewOutput'>log</a> for further details."
     ]
    }
   ],
   "source": [
    "from sympy.abc import x, A\n",
    "from sympy import exp, cos, diff\n",
    "\n",
    "fx = A * exp(-cos(x))\n",
    "diff(fx, x)"
   ]
  },
  {
   "cell_type": "markdown",
   "metadata": {},
   "source": [
    "Find the roots of the equation $x^2 + x = 12$"
   ]
  },
  {
   "cell_type": "code",
   "execution_count": null,
   "metadata": {},
   "outputs": [
    {
     "name": "stdout",
     "output_type": "stream",
     "text": [
      "Roots: [-4, 3]\n"
     ]
    },
    {
     "ename": "",
     "evalue": "",
     "output_type": "error",
     "traceback": [
      "\u001b[1;31mnotebook controller is DISPOSED. \n",
      "\u001b[1;31mView Jupyter <a href='command:jupyter.viewOutput'>log</a> for further details."
     ]
    }
   ],
   "source": [
    "from sympy.abc import x\n",
    "from sympy import solve, Eq\n",
    "\n",
    "eqn = Eq(x**2 + x, 12)\n",
    "print(f\"Roots: {solve(eqn)}\")"
   ]
  },
  {
   "cell_type": "markdown",
   "metadata": {},
   "source": [
    "# `searchinfile()`  [file, string, list, for (or list comprehension)]  [20pt]\n",
    "\n",
    "- Define searchinfile(filename,keyword) function in a python file `searchinfile.py`\n",
    "- Your function should return a list of the line numbers where the keyword \n",
    "  appears (case insensitively) in that file."
   ]
  },
  {
   "cell_type": "code",
   "execution_count": null,
   "metadata": {},
   "outputs": [
    {
     "name": "stdout",
     "output_type": "stream",
     "text": [
      "[2]\n",
      "[4, 5]\n",
      "[]\n",
      "[2, 3]\n"
     ]
    },
    {
     "ename": "",
     "evalue": "",
     "output_type": "error",
     "traceback": [
      "\u001b[1;31mnotebook controller is DISPOSED. \n",
      "\u001b[1;31mView Jupyter <a href='command:jupyter.viewOutput'>log</a> for further details."
     ]
    }
   ],
   "source": [
    "# Do not make any changes to the code within this Cell.\n",
    "# After completing your searchinfile.py file, run this Cell to produce the test-case print-outs.\n",
    "\n",
    "%load_ext autoreload\n",
    "%autoreload 2\n",
    " \n",
    "# Create some example files.\n",
    "with open('searchinfile_sample1.txt', 'w') as f: f.write('apple\\norange\\nbanana\\nraspberry\\nstrawberry')\n",
    "with open('searchinfile_sample2.txt', 'w') as f: f.write('cherry\\nblueberry\\nelderberry')\n",
    "    \n",
    "import os;\n",
    "if os.path.exists('searchinfile.py'):\n",
    "    import searchinfile\n",
    "    # this test case should print [2]\n",
    "    print( searchinfile.searchinfile('searchinfile_sample1.txt', 'orange') )\n",
    "    \n",
    "    # this test case should print [4, 5]\n",
    "    print( searchinfile.searchinfile('searchinfile_sample1.txt', 'BERRY') )\n",
    "\n",
    "    # this test case should print []\n",
    "    print( searchinfile.searchinfile('searchinfile_sample1.txt', 'watermelon') )\n",
    "    \n",
    "    # this test case should print [2, 3]\n",
    "    print( searchinfile.searchinfile('searchinfile_sample2.txt', 'berry') )"
   ]
  }
 ],
 "metadata": {
  "kernelspec": {
   "display_name": "bmes550",
   "language": "python",
   "name": "python3"
  },
  "language_info": {
   "codemirror_mode": {
    "name": "ipython",
    "version": 3
   },
   "file_extension": ".py",
   "mimetype": "text/x-python",
   "name": "python",
   "nbconvert_exporter": "python",
   "pygments_lexer": "ipython3",
   "version": "3.10.4"
  },
  "vscode": {
   "interpreter": {
    "hash": "e5c6703229e3dd9c482a1c23a1113da71743e131711127bdfb687457b67b9590"
   }
  }
 },
 "nbformat": 4,
 "nbformat_minor": 2
}
