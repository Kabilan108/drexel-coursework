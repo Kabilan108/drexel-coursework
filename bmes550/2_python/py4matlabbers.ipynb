{
 "cells": [
  {
   "cell_type": "markdown",
   "metadata": {},
   "source": [
    "# Python for Matlabbers "
   ]
  },
  {
   "cell_type": "markdown",
   "metadata": {},
   "source": [
    "## Using the Jupyter Notebook"
   ]
  },
  {
   "cell_type": "markdown",
   "metadata": {},
   "source": [
    "See Help->Keyboard shortcuts. Some useful shortcuts are:\n",
    "  * Enter: enter edit mode\n",
    "  * ESC: exit edit mode\n",
    "  * Up-down keys in exit mode: move between cells\n",
    "  * Ctrl+Enter: Run cell\n",
    "  * Shift+Enter: Run cell and move to the next cell\n",
    "  * Alt+Enter: Run cell and insert below\n",
    "  * Tab: Used to auto-complete\n",
    "  * M: change a code Cell to a Markdown Cell (while in Command mode)"
   ]
  },
  {
   "cell_type": "code",
   "execution_count": 29,
   "metadata": {},
   "outputs": [],
   "source": [
    "#Ipython configuration options..\n",
    "#tell Jupyter to show any plots within this page.\n",
    "%matplotlib inline\n",
    "\n",
    "%load_ext autoreload\n",
    "%autoreload 2"
   ]
  },
  {
   "cell_type": "markdown",
   "metadata": {},
   "source": [
    "# Python Syntax"
   ]
  },
  {
   "cell_type": "markdown",
   "metadata": {},
   "source": [
    "### Comments, Assignment, Printing"
   ]
  },
  {
   "cell_type": "code",
   "execution_count": 3,
   "metadata": {},
   "outputs": [
    {
     "name": "stdout",
     "output_type": "stream",
     "text": [
      "hello\n"
     ]
    },
    {
     "data": {
      "text/plain": [
       "'\\nmultiline\\ncomment\\n'"
      ]
     },
     "execution_count": 3,
     "metadata": {},
     "output_type": "execute_result"
    }
   ],
   "source": [
    "# single-line comment\n",
    "print('hello'); #endofline comment\n",
    "\n",
    "\"\"\"\n",
    "multiline\n",
    "comment\n",
    "\"\"\""
   ]
  },
  {
   "cell_type": "markdown",
   "metadata": {},
   "source": [
    "**NOTE**: Auto-printing of results may depend on the python interpreter you are using."
   ]
  },
  {
   "cell_type": "code",
   "execution_count": 41,
   "metadata": {},
   "outputs": [
    {
     "data": {
      "text/plain": [
       "6"
      ]
     },
     "execution_count": 41,
     "metadata": {},
     "output_type": "execute_result"
    }
   ],
   "source": [
    "# Semicolon at the end of a statement is optional.\n",
    "# If you don't put a semicolon and don't assign the result into a variable, the result is printed.\n",
    "# Jupyter shows the output only from the last statement (this behavior\n",
    "#  depends on your particular Jupyter installation).\n",
    "2+2\n",
    "3+3"
   ]
  },
  {
   "cell_type": "code",
   "execution_count": 42,
   "metadata": {},
   "outputs": [],
   "source": [
    "# Semicolon suppresses output (Jupyter rule; not a Python rule)\n",
    "2+2;"
   ]
  },
  {
   "cell_type": "code",
   "execution_count": 43,
   "metadata": {},
   "outputs": [],
   "source": [
    "# Assigning to a variable also suppresses output (even without a semicolon) (Jupyter rule; not a Python rule)\n",
    "a=2+2"
   ]
  },
  {
   "cell_type": "code",
   "execution_count": 44,
   "metadata": {},
   "outputs": [
    {
     "data": {
      "text/plain": [
       "4"
      ]
     },
     "execution_count": 44,
     "metadata": {},
     "output_type": "execute_result"
    }
   ],
   "source": [
    "# If you want to see the result, just have an additional statement with that variable.\n",
    "a=2+2\n",
    "a"
   ]
  },
  {
   "cell_type": "code",
   "execution_count": 45,
   "metadata": {},
   "outputs": [
    {
     "data": {
      "text/plain": [
       "6"
      ]
     },
     "execution_count": 45,
     "metadata": {},
     "output_type": "execute_result"
    }
   ],
   "source": [
    "# Jupyter prints the result of only the last statement in a multi-line cell.\n",
    "# This behavior may depend on your version of Python/Jupyter\n",
    "2+2\n",
    "3+3"
   ]
  },
  {
   "cell_type": "code",
   "execution_count": 6,
   "metadata": {},
   "outputs": [
    {
     "data": {
      "text/plain": [
       "(5, 6)"
      ]
     },
     "execution_count": 6,
     "metadata": {},
     "output_type": "execute_result"
    }
   ],
   "source": [
    "# You can assign multiple variables at once.\n",
    "a= b=2+2\n",
    "a,b = 5,6\n",
    "a,b"
   ]
  },
  {
   "cell_type": "code",
   "execution_count": 9,
   "metadata": {},
   "outputs": [
    {
     "name": "stdout",
     "output_type": "stream",
     "text": [
      "5\n",
      "a is 5\n"
     ]
    }
   ],
   "source": [
    "a=5;\n",
    "# Use print() to display values\n",
    "print(a)\n",
    "\n",
    "# Use + to combine strings. But any non-string variable needs to be explicitly\n",
    "# converted using str(). See String Formatting below for other options.\n",
    "print('a is '+ str(a))"
   ]
  },
  {
   "cell_type": "markdown",
   "metadata": {},
   "source": [
    "### Indentation\n",
    "Python is an \"indented\" language. Whereas you enclose block statements with the \"end\" keyword in Matlab; in Python you indent a block. When you need to end a block, just indent back. Remember to use a colon to start a block."
   ]
  },
  {
   "cell_type": "code",
   "execution_count": 48,
   "metadata": {},
   "outputs": [
    {
     "name": "stdout",
     "output_type": "stream",
     "text": [
      "(A) x is even.\n",
      "(C) y is odd.\n"
     ]
    }
   ],
   "source": [
    "x=8; y=5;\n",
    "if x%2==0:\n",
    "    print('apple')\n",
    "    print('(A) x is even.')\n",
    "    if y%2==0:\n",
    "        print('(B) y is even.')\n",
    "    else:\n",
    "        print('(C) y is odd.')\n",
    "else:\n",
    "    print('(D) x is odd.')\n",
    "    if y%2==0: print('(E) y is even.')\n",
    "    else:\n",
    "        print('(F) y is odd.')\n",
    "    print('hello world')\n"
   ]
  },
  {
   "cell_type": "markdown",
   "metadata": {},
   "source": [
    "## Exercise\n",
    "Let x contain a percentage grade between 0-100. Print the letter grade corresponding to x, following the percentage grading scale available [here](https://en.wikipedia.org/wiki/Academic_grading_in_the_United_States). Use the grading scale that is \"most commonly used in United States public high schools\"."
   ]
  },
  {
   "cell_type": "code",
   "execution_count": 49,
   "metadata": {},
   "outputs": [],
   "source": [
    "x=87;\n"
   ]
  },
  {
   "cell_type": "markdown",
   "metadata": {},
   "source": [
    "# Strings   (Text)"
   ]
  },
  {
   "cell_type": "code",
   "execution_count": 10,
   "metadata": {},
   "outputs": [
    {
     "data": {
      "text/plain": [
       "'first line\\\\nsecond line. this is literally \\\\\\\\\\\\ three backslashes.'"
      ]
     },
     "execution_count": 10,
     "metadata": {},
     "output_type": "execute_result"
    }
   ],
   "source": [
    "# You can create strings with single quotes or double-quotes.\n",
    "s='do not';\n",
    "s=\"do not\";\n",
    "# You need to escape any quote characters with a backslash\n",
    "s='don\\'t';\n",
    "# But you don't have to escape a single quote within a double quote (and vice versa)\n",
    "s=\"don't\";\n",
    "s='\"ahmet\" sacan';\n",
    "\n",
    "# The usual escape sequences work, e.g., \\n for a newline and \\t for tab.\n",
    "# In matlab, these escape sequences are not natively available, you had to use sprintf() to make use of them.\n",
    "s=\"first line\\nsecond line\";\n",
    "\n",
    "# Break-up a long string string by a backslash (make sure there are no spaces after the backslash)\n",
    "s=\"first line\\n\\\n",
    "second line\";\n",
    "# Three double quotes can be used to write a long multi-line string.\n",
    "s=\"\"\"first line\n",
    "second line\"\"\";\n",
    "\n",
    "# To create a \"raw\" string where backslashes are just backslashes, use r in front of the quote.\n",
    "s=r\"first line\\nsecond line. this is literally \\\\\\ three backslashes.\";\n",
    "s"
   ]
  },
  {
   "cell_type": "code",
   "execution_count": 1,
   "metadata": {},
   "outputs": [
    {
     "data": {
      "text/plain": [
       "3"
      ]
     },
     "execution_count": 1,
     "metadata": {},
     "output_type": "execute_result"
    }
   ],
   "source": [
    "# To get the length of a string, use len(). this is similar to Matlab's numel().\n",
    "s='a\\nb'\n",
    "len(s)"
   ]
  },
  {
   "cell_type": "code",
   "execution_count": 52,
   "metadata": {},
   "outputs": [
    {
     "data": {
      "text/plain": [
       "'hello world'"
      ]
     },
     "execution_count": 52,
     "metadata": {},
     "output_type": "execute_result"
    }
   ],
   "source": [
    "# You can concatenate strings with a plus sign or space. Don't enclose them in [] like you would in Matlab.\n",
    "s='hello ' + 'world'\n",
    "s='hello ' 'world'\n",
    "s"
   ]
  },
  {
   "cell_type": "code",
   "execution_count": 53,
   "metadata": {},
   "outputs": [
    {
     "data": {
      "text/plain": [
       "'hello worldhello worldhello worldhello worldhello world'"
      ]
     },
     "execution_count": 53,
     "metadata": {},
     "output_type": "execute_result"
    }
   ],
   "source": [
    "# Replicate a string with *\n",
    "s*5"
   ]
  },
  {
   "cell_type": "markdown",
   "metadata": {},
   "source": [
    "### Indexing Strings"
   ]
  },
  {
   "cell_type": "code",
   "execution_count": 2,
   "metadata": {},
   "outputs": [
    {
     "data": {
      "text/plain": [
       "'a'"
      ]
     },
     "execution_count": 2,
     "metadata": {},
     "output_type": "execute_result"
    }
   ],
   "source": [
    "s=\"apple_orange_banana\";\n",
    "\n",
    "# Python uses 0-based indexing. To access the first element, use 0.\n",
    "s[0]"
   ]
  },
  {
   "cell_type": "code",
   "execution_count": 55,
   "metadata": {},
   "outputs": [
    {
     "data": {
      "text/plain": [
       "'app'"
      ]
     },
     "execution_count": 55,
     "metadata": {},
     "output_type": "execute_result"
    }
   ],
   "source": [
    "# To select a range of elements, use the colon operator.\n",
    "# The upper index is not inclusive.\n",
    "s[0:3]"
   ]
  },
  {
   "cell_type": "code",
   "execution_count": 56,
   "metadata": {},
   "outputs": [
    {
     "data": {
      "text/plain": [
       "'ap'"
      ]
     },
     "execution_count": 56,
     "metadata": {},
     "output_type": "execute_result"
    }
   ],
   "source": [
    "# Leave out the lower bound to mean zero. Leave out the upper bound to mean the end\n",
    "s[:2]  #just a shorthand for s[0:2]"
   ]
  },
  {
   "cell_type": "code",
   "execution_count": 57,
   "metadata": {},
   "outputs": [
    {
     "data": {
      "text/plain": [
       "'ple_orange_banana'"
      ]
     },
     "execution_count": 57,
     "metadata": {},
     "output_type": "execute_result"
    }
   ],
   "source": [
    "s[2:] #just a shorthand for s[2:numel(s)]"
   ]
  },
  {
   "cell_type": "code",
   "execution_count": 58,
   "metadata": {},
   "outputs": [
    {
     "data": {
      "text/plain": [
       "'a'"
      ]
     },
     "execution_count": 58,
     "metadata": {},
     "output_type": "execute_result"
    }
   ],
   "source": [
    "# You can use a negative number to index from the end of string\n",
    "s[-1] # last character"
   ]
  },
  {
   "cell_type": "code",
   "execution_count": 59,
   "metadata": {},
   "outputs": [
    {
     "data": {
      "text/plain": [
       "'na'"
      ]
     },
     "execution_count": 59,
     "metadata": {},
     "output_type": "execute_result"
    }
   ],
   "source": [
    "s[-2:] # last two characters. same as s[-2:-1]"
   ]
  },
  {
   "cell_type": "code",
   "execution_count": 60,
   "metadata": {},
   "outputs": [
    {
     "data": {
      "text/plain": [
       "'apple_orange_bana'"
      ]
     },
     "execution_count": 60,
     "metadata": {},
     "output_type": "execute_result"
    }
   ],
   "source": [
    "s[:-2] # everything but last two characters"
   ]
  },
  {
   "cell_type": "code",
   "execution_count": 61,
   "metadata": {
    "scrolled": true
   },
   "outputs": [],
   "source": [
    "# Strings are read-only. You can not change an individual character of a string.\n",
    "#s[0]='x'; #ERROR"
   ]
  },
  {
   "cell_type": "markdown",
   "metadata": {},
   "source": [
    "### Exercise\n",
    "Replace the first element of s with 'x'."
   ]
  },
  {
   "cell_type": "code",
   "execution_count": null,
   "metadata": {},
   "outputs": [],
   "source": []
  },
  {
   "cell_type": "markdown",
   "metadata": {},
   "source": [
    "### String Functions"
   ]
  },
  {
   "cell_type": "code",
   "execution_count": 9,
   "metadata": {},
   "outputs": [
    {
     "name": "stdout",
     "output_type": "stream",
     "text": [
      "apple_orange_banana\n",
      "location of \"or\": 6\n",
      "location of \"x\": -1\n",
      "location of \"a\": 0\n"
     ]
    }
   ],
   "source": [
    "print(s)\n",
    "# Strings are objects. The functions are available with a dot.\n",
    "print('location of \"or\": ' + str( s.find('or')) ) # search for a string. returns the index\n",
    "\n",
    "print('location of \"x\": ' + str(s.find('x')) )\n",
    "\n",
    "print('location of \"a\": ' + str(s.find('a')) )"
   ]
  },
  {
   "cell_type": "code",
   "execution_count": 63,
   "metadata": {},
   "outputs": [
    {
     "data": {
      "text/plain": [
       "True"
      ]
     },
     "execution_count": 63,
     "metadata": {},
     "output_type": "execute_result"
    }
   ],
   "source": [
    "# Strings are objects in python, and they come with their own pre-defined methods.\n",
    "s.startswith('app')"
   ]
  },
  {
   "cell_type": "code",
   "execution_count": 64,
   "metadata": {},
   "outputs": [
    {
     "data": {
      "text/plain": [
       "False"
      ]
     },
     "execution_count": 64,
     "metadata": {},
     "output_type": "execute_result"
    }
   ],
   "source": [
    "s.endswith('zzz')"
   ]
  },
  {
   "cell_type": "code",
   "execution_count": 65,
   "metadata": {},
   "outputs": [
    {
     "data": {
      "text/plain": [
       "'apple_raisin_banana'"
      ]
     },
     "execution_count": 65,
     "metadata": {},
     "output_type": "execute_result"
    }
   ],
   "source": [
    "s.replace('orange','raisin') #this doesn't replace in s, but returns a new string."
   ]
  },
  {
   "cell_type": "code",
   "execution_count": 66,
   "metadata": {},
   "outputs": [
    {
     "data": {
      "text/plain": [
       "'apple_raisin_banana'"
      ]
     },
     "execution_count": 66,
     "metadata": {},
     "output_type": "execute_result"
    }
   ],
   "source": [
    "# To replace s itself, make an assignment\n",
    "s = s.replace('orange','raisin')\n",
    "s"
   ]
  },
  {
   "cell_type": "code",
   "execution_count": 11,
   "metadata": {
    "scrolled": true
   },
   "outputs": [
    {
     "data": {
      "text/plain": [
       "True"
      ]
     },
     "execution_count": 11,
     "metadata": {},
     "output_type": "execute_result"
    }
   ],
   "source": [
    "# Other String functions:\n",
    "'abc123'.isalnum() #check whether string is composed of all alphanumeric characters."
   ]
  },
  {
   "cell_type": "code",
   "execution_count": 68,
   "metadata": {},
   "outputs": [
    {
     "data": {
      "text/plain": [
       "True"
      ]
     },
     "execution_count": 68,
     "metadata": {},
     "output_type": "execute_result"
    }
   ],
   "source": [
    "'123'.isdigit()    #check whether string is composed of all digits."
   ]
  },
  {
   "cell_type": "code",
   "execution_count": 12,
   "metadata": {},
   "outputs": [
    {
     "data": {
      "text/plain": [
       "False"
      ]
     },
     "execution_count": 12,
     "metadata": {},
     "output_type": "execute_result"
    }
   ],
   "source": [
    "'a b c'.isspace()    #allspaces?"
   ]
  },
  {
   "cell_type": "code",
   "execution_count": 70,
   "metadata": {},
   "outputs": [
    {
     "data": {
      "text/plain": [
       "False"
      ]
     },
     "execution_count": 70,
     "metadata": {},
     "output_type": "execute_result"
    }
   ],
   "source": [
    "'abc'.isupper()    #all uppercase?"
   ]
  },
  {
   "cell_type": "code",
   "execution_count": 71,
   "metadata": {},
   "outputs": [
    {
     "data": {
      "text/plain": [
       "True"
      ]
     },
     "execution_count": 71,
     "metadata": {},
     "output_type": "execute_result"
    }
   ],
   "source": [
    "'abc'.islower()    #all lower?"
   ]
  },
  {
   "cell_type": "code",
   "execution_count": 72,
   "metadata": {},
   "outputs": [
    {
     "data": {
      "text/plain": [
       "'apple$#'"
      ]
     },
     "execution_count": 72,
     "metadata": {},
     "output_type": "execute_result"
    }
   ],
   "source": [
    "#convert to lower case (does not change the string itself).\n",
    "# matlab: lower('ApPlE$#')\n",
    "'ApPlE$#'.lower()"
   ]
  },
  {
   "cell_type": "code",
   "execution_count": 73,
   "metadata": {},
   "outputs": [
    {
     "data": {
      "text/plain": [
       "'APPLE$#'"
      ]
     },
     "execution_count": 73,
     "metadata": {},
     "output_type": "execute_result"
    }
   ],
   "source": [
    "# convert to upper case (does not change the string itself).\n",
    "# matlab: upper('ApPlE$#')\n",
    "'ApPlE$#'.upper()"
   ]
  },
  {
   "cell_type": "code",
   "execution_count": 119,
   "metadata": {},
   "outputs": [
    {
     "data": {
      "text/plain": [
       "'ap  ple'"
      ]
     },
     "execution_count": 119,
     "metadata": {},
     "output_type": "execute_result"
    }
   ],
   "source": [
    "# remove any whitespace from the beginning and end of string.\n",
    "# matlab: strtrim('  apple   ')\n",
    "'  ap  ple   '.strip()"
   ]
  },
  {
   "cell_type": "code",
   "execution_count": 121,
   "metadata": {},
   "outputs": [
    {
     "data": {
      "text/plain": [
       "['apple', 'orange', 'banana']"
      ]
     },
     "execution_count": 121,
     "metadata": {},
     "output_type": "execute_result"
    }
   ],
   "source": [
    "# split string into words (use additional argument if you want to split by other characters)\n",
    "# matlab: strsplit('apple   orange   banana', ' ', 'CollapseDelimiter',true)\n",
    "'apple   orange   banana'.split()"
   ]
  },
  {
   "cell_type": "code",
   "execution_count": 15,
   "metadata": {},
   "outputs": [
    {
     "data": {
      "text/plain": [
       "['app le', '', '5', '7']"
      ]
     },
     "execution_count": 15,
     "metadata": {},
     "output_type": "execute_result"
    }
   ],
   "source": [
    "'app le,,5,7'.split(',')"
   ]
  },
  {
   "cell_type": "code",
   "execution_count": 77,
   "metadata": {},
   "outputs": [
    {
     "data": {
      "text/plain": [
       "['apple', 'orange', 'banana']"
      ]
     },
     "execution_count": 77,
     "metadata": {},
     "output_type": "execute_result"
    }
   ],
   "source": [
    "# split string into lines.\n",
    "# matlab: strsplit(sprintf('apple\\norange\\nbanana'),sprintf('\\n'))\n",
    "'apple\\norange\\nbanana'.splitlines()"
   ]
  },
  {
   "cell_type": "code",
   "execution_count": 78,
   "metadata": {},
   "outputs": [
    {
     "data": {
      "text/plain": [
       "'apple | orange | banana'"
      ]
     },
     "execution_count": 78,
     "metadata": {},
     "output_type": "execute_result"
    }
   ],
   "source": [
    "# join a set of strings with a character.\n",
    "# matlab: strjoin({'apple', 'orange', 'banana'}, ' | ')\n",
    "' | '.join(['apple', 'orange', 'banana'])"
   ]
  },
  {
   "cell_type": "markdown",
   "metadata": {},
   "source": [
    "### String Formatting"
   ]
  },
  {
   "cell_type": "code",
   "execution_count": 18,
   "metadata": {},
   "outputs": [
    {
     "data": {
      "text/plain": [
       "'20.000 celcius = -6.67000 fahrenheit'"
      ]
     },
     "execution_count": 18,
     "metadata": {},
     "output_type": "execute_result"
    }
   ],
   "source": [
    "# Use % similar to sprintf. Remember to enclose the items in ().\n",
    "# matlab: sprintf('%f celcius = %f fahrenheit', 20, -6.67)\n",
    "'%.3f celcius = %.5f fahrenheit' % (20,-6.67)"
   ]
  },
  {
   "cell_type": "code",
   "execution_count": 80,
   "metadata": {},
   "outputs": [
    {
     "data": {
      "text/plain": [
       "'a, b, c, a'"
      ]
     },
     "execution_count": 80,
     "metadata": {},
     "output_type": "execute_result"
    }
   ],
   "source": [
    "# Or use '{}'.format(), which acts similar to %.\n",
    "'{0}, {1}, {2}, {0}'.format('a', 'b', 'c')"
   ]
  },
  {
   "cell_type": "code",
   "execution_count": 81,
   "metadata": {},
   "outputs": [
    {
     "data": {
      "text/plain": [
       "'00.33/002/0003'"
      ]
     },
     "execution_count": 81,
     "metadata": {},
     "output_type": "execute_result"
    }
   ],
   "source": [
    "'{0:05.2f}/{1:03d}/{2:04d}'.format(0.3333,2,3)"
   ]
  },
  {
   "cell_type": "code",
   "execution_count": 22,
   "metadata": {},
   "outputs": [
    {
     "name": "stdout",
     "output_type": "stream",
     "text": [
      "========== Without Widths:\n",
      "1 1 1 1\n",
      "2 4 8 8\n",
      "3 9 27 27\n",
      "4 16 64 64\n",
      "\n",
      "========== With Widths:\n",
      " 1   1     1 0000001\n",
      " 2   4     8 0000064\n",
      " 3   9    27 0000729\n",
      " 4  16    64 0004096\n"
     ]
    }
   ],
   "source": [
    "print('========== Without Widths:')\n",
    "x=1; print( '{0:d} {1:d} {2:d} {2:d}'.format(x, x*x, x*x*x, x*x*x*x*x*x) )\n",
    "x=2; print( '{0:d} {1:d} {2:d} {2:d}'.format(x, x*x, x*x*x, x*x*x*x*x*x) )\n",
    "x=3; print( '{0:d} {1:d} {2:d} {2:d}'.format(x, x*x, x*x*x, x*x*x*x*x*x) )\n",
    "x=4; print( '{0:d} {1:d} {2:d} {2:d}'.format(x, x*x, x*x*x, x*x*x*x*x*x) )\n",
    "\n",
    "print('\\n========== With Widths:')\n",
    "# The width is useful when printing a table, so numbers line up.\n",
    "x=1; print( '{0:2d} {1:3d} {2:5d} {3:07d}'.format(x, x*x, x*x*x, x*x*x*x*x*x) )\n",
    "x=2; print( '{0:2d} {1:3d} {2:5d} {3:07d}'.format(x, x*x, x*x*x, x*x*x*x*x*x) )\n",
    "x=3; print( '{0:2d} {1:3d} {2:5d} {3:07d}'.format(x, x*x, x*x*x, x*x*x*x*x*x) )\n",
    "x=4; print( '{0:2d} {1:3d} {2:5d} {3:07d}'.format(x, x*x, x*x*x, x*x*x*x*x*x) )"
   ]
  },
  {
   "cell_type": "markdown",
   "metadata": {
    "collapsed": true
   },
   "source": [
    "### String to Number Conversion"
   ]
  },
  {
   "cell_type": "code",
   "execution_count": 124,
   "metadata": {},
   "outputs": [
    {
     "data": {
      "text/plain": [
       "3.5"
      ]
     },
     "execution_count": 124,
     "metadata": {},
     "output_type": "execute_result"
    }
   ],
   "source": [
    "# use float() to convert a string to a number.\n",
    "# matlab: str2double('3.5')\n",
    "float('3.5')"
   ]
  },
  {
   "cell_type": "code",
   "execution_count": 140,
   "metadata": {},
   "outputs": [
    {
     "ename": "ValueError",
     "evalue": "could not convert string to float: 'A3.5'",
     "output_type": "error",
     "traceback": [
      "\u001b[1;31m---------------------------------------------------------------------------\u001b[0m",
      "\u001b[1;31mValueError\u001b[0m                                Traceback (most recent call last)",
      "\u001b[1;32m<ipython-input-140-9e55125ba1d0>\u001b[0m in \u001b[0;36m<module>\u001b[1;34m\u001b[0m\n\u001b[0;32m      1\u001b[0m \u001b[1;31m# Whereas Matlab's str2double() returns NaN for things it cannot parse, float() throws an error!\u001b[0m\u001b[1;33m\u001b[0m\u001b[1;33m\u001b[0m\u001b[1;33m\u001b[0m\u001b[0m\n\u001b[1;32m----> 2\u001b[1;33m \u001b[0mfloat\u001b[0m\u001b[1;33m(\u001b[0m\u001b[1;34m'A3.5'\u001b[0m\u001b[1;33m)\u001b[0m  \u001b[1;31m#ERROR!\u001b[0m\u001b[1;33m\u001b[0m\u001b[1;33m\u001b[0m\u001b[0m\n\u001b[0m",
      "\u001b[1;31mValueError\u001b[0m: could not convert string to float: 'A3.5'"
     ]
    }
   ],
   "source": [
    "# Whereas Matlab's str2double() returns NaN for things it cannot parse, float() throws an error!\n",
    "#float('A3.5')  #ERROR!"
   ]
  },
  {
   "cell_type": "code",
   "execution_count": 24,
   "metadata": {},
   "outputs": [
    {
     "data": {
      "text/plain": [
       "4"
      ]
     },
     "execution_count": 24,
     "metadata": {},
     "output_type": "execute_result"
    }
   ],
   "source": [
    "# If you know the string has an integer, you can convert it to int:\n",
    "# matlab: str2double('4')\n",
    "int('4')"
   ]
  },
  {
   "cell_type": "code",
   "execution_count": 127,
   "metadata": {},
   "outputs": [
    {
     "name": "stdout",
     "output_type": "stream",
     "text": [
      "price: $3.57\n",
      "price: $3.57\n",
      "price: $3.57\n"
     ]
    }
   ],
   "source": [
    "# To convert a number to a string, use the string formatting described above, or use str()\n",
    "# matlab: sprintf('price: $%f',3.57)\n",
    "# matlab: [ 'price: $' num2str(3.57) ]\n",
    "print( 'price: $%.2f' % (3.57) )\n",
    "print( 'price: ${0:.2f}'.format(3.57) )\n",
    "print( 'price: $' + str(3.57) )"
   ]
  },
  {
   "cell_type": "markdown",
   "metadata": {},
   "source": [
    "### Exercise\n",
    "Take a,b,c which are string variables containing a single digit each. Find the numerical value of abc."
   ]
  },
  {
   "cell_type": "code",
   "execution_count": 29,
   "metadata": {},
   "outputs": [
    {
     "name": "stdout",
     "output_type": "stream",
     "text": [
      "593\n"
     ]
    }
   ],
   "source": [
    "#define some example values for a,b,c\n",
    "a='5'; b='9'; c='3';\n",
    "\n",
    "#write an expression that uses a,b,c and stores 593 as a number into variable x.\n",
    "x = int( a+b+c )\n",
    "print( x )"
   ]
  },
  {
   "cell_type": "markdown",
   "metadata": {},
   "source": [
    "### Exercise: wrap a text s with html tag elem\n",
    "Write code that starts with a string s and an html element name elem, and produces &lt;elem>s&lt;/elem>."
   ]
  },
  {
   "cell_type": "code",
   "execution_count": 34,
   "metadata": {},
   "outputs": [
    {
     "ename": "TypeError",
     "evalue": "can only concatenate str (not \"int\") to str",
     "output_type": "error",
     "traceback": [
      "\u001b[1;31m---------------------------------------------------------------------------\u001b[0m",
      "\u001b[1;31mTypeError\u001b[0m                                 Traceback (most recent call last)",
      "\u001b[1;32m<ipython-input-34-fdf8ad625566>\u001b[0m in \u001b[0;36m<module>\u001b[1;34m\u001b[0m\n\u001b[0;32m      4\u001b[0m \u001b[1;33m\u001b[0m\u001b[0m\n\u001b[0;32m      5\u001b[0m \u001b[1;31m#write an expression that returns <b>apple</b>\u001b[0m\u001b[1;33m\u001b[0m\u001b[1;33m\u001b[0m\u001b[1;33m\u001b[0m\u001b[0m\n\u001b[1;32m----> 6\u001b[1;33m \u001b[0mprint\u001b[0m\u001b[1;33m(\u001b[0m\u001b[1;34m'Inside \"try\", before doing float().'\u001b[0m \u001b[1;33m+\u001b[0m \u001b[1;36m5\u001b[0m\u001b[1;33m)\u001b[0m\u001b[1;33m\u001b[0m\u001b[1;33m\u001b[0m\u001b[0m\n\u001b[0m",
      "\u001b[1;31mTypeError\u001b[0m: can only concatenate str (not \"int\") to str"
     ]
    }
   ],
   "source": [
    "#e.g.:\n",
    "s='apple';\n",
    "elem='b'; #the \"bold\" text tag in html.\n",
    "\n",
    "#write an expression that returns <b>apple</b>"
   ]
  },
  {
   "cell_type": "markdown",
   "metadata": {},
   "source": [
    "# Error Handling\n",
    "You often don't want to stop the entire program for small errors you can do something about. Python allows to handle errors similar to Matlab's try...catch...."
   ]
  },
  {
   "cell_type": "code",
   "execution_count": 43,
   "metadata": {},
   "outputs": [
    {
     "name": "stdout",
     "output_type": "stream",
     "text": [
      "Inside \"try\", before doing float().\n",
      "--- ERROR: Exception encountered: could not convert string to float: 'xx 4.5'\n",
      "Outside try/except.\n"
     ]
    },
    {
     "ename": "NameError",
     "evalue": "name 'e' is not defined",
     "output_type": "error",
     "traceback": [
      "\u001b[1;31m---------------------------------------------------------------------------\u001b[0m",
      "\u001b[1;31mNameError\u001b[0m                                 Traceback (most recent call last)",
      "\u001b[1;32m<ipython-input-43-4efee1bcbc60>\u001b[0m in \u001b[0;36m<module>\u001b[1;34m\u001b[0m\n\u001b[0;32m     10\u001b[0m \u001b[1;31m#matlab: try ....; catch me; .... end\u001b[0m\u001b[1;33m\u001b[0m\u001b[1;33m\u001b[0m\u001b[1;33m\u001b[0m\u001b[0m\n\u001b[0;32m     11\u001b[0m \u001b[0mf\u001b[0m\u001b[1;33m\u001b[0m\u001b[1;33m\u001b[0m\u001b[0m\n\u001b[1;32m---> 12\u001b[1;33m \u001b[0me\u001b[0m\u001b[1;33m\u001b[0m\u001b[1;33m\u001b[0m\u001b[0m\n\u001b[0m",
      "\u001b[1;31mNameError\u001b[0m: name 'e' is not defined"
     ]
    }
   ],
   "source": [
    "s='xx 4.5'\n",
    "try:\n",
    "    print('Inside \"try\", before doing float().')\n",
    "    f=float(s)\n",
    "    print('Converted string \"'+s+'\" to float ['+str(f)+']')\n",
    "except Exception as e:\n",
    "    print('--- ERROR: Exception encountered: '+str(e))\n",
    "    f=float('nan')\n",
    "print('Outside try/except.')\n",
    "#matlab: try ....; catch me; .... end\n",
    "f"
   ]
  },
  {
   "cell_type": "markdown",
   "metadata": {},
   "source": [
    "# Tuples, Lists, Dictionaries\n",
    "  * **Tuples and Lists** can be considered as **Matlab cell-arrays**.\n",
    "  * Tupples are \"immutable\" (You cannot change its elements once you create them), Lists are not.\n",
    "  * **Dictionaries** are like **Matlab structs**."
   ]
  },
  {
   "cell_type": "code",
   "execution_count": 151,
   "metadata": {},
   "outputs": [
    {
     "name": "stdout",
     "output_type": "stream",
     "text": [
      "('Jan', 'Feb', 'Mar', 'Apr')\n"
     ]
    }
   ],
   "source": [
    "# Use paranthesis to create a \"tuple\" (immutable).\n",
    "a=('Jan','Feb','Mar','Apr');\n",
    "print(a)"
   ]
  },
  {
   "cell_type": "code",
   "execution_count": 44,
   "metadata": {},
   "outputs": [
    {
     "name": "stdout",
     "output_type": "stream",
     "text": [
      "('Jan', 'Feb', 'Mar', 'Apr')\n"
     ]
    }
   ],
   "source": [
    "# Using just a comma also creates a tuple\n",
    "a = 'Jan', 'Feb', 'Mar', 'Apr'\n",
    "print(a)"
   ]
  },
  {
   "cell_type": "code",
   "execution_count": 45,
   "metadata": {},
   "outputs": [
    {
     "data": {
      "text/plain": [
       "('Feb', 'Mar')"
      ]
     },
     "execution_count": 45,
     "metadata": {},
     "output_type": "execute_result"
    }
   ],
   "source": [
    "# Use [] to index a tuple. Remember 0-based indexing!\n",
    "a[1:3]"
   ]
  },
  {
   "cell_type": "code",
   "execution_count": 91,
   "metadata": {},
   "outputs": [
    {
     "data": {
      "text/plain": [
       "('January', 'Feb', 'Mar', 'Apr')"
      ]
     },
     "execution_count": 91,
     "metadata": {},
     "output_type": "execute_result"
    }
   ],
   "source": [
    "# You cannot change elements of a tuple!\n",
    "# a[0]='January' #ERROR!\n",
    "# If you do want to change an element, construct a new tuple:\n",
    "a = ('January',a[1],a[2],a[3])\n",
    "a"
   ]
  },
  {
   "cell_type": "code",
   "execution_count": 47,
   "metadata": {},
   "outputs": [
    {
     "data": {
      "text/plain": [
       "['apple', 'orange', 'raisin']"
      ]
     },
     "execution_count": 47,
     "metadata": {},
     "output_type": "execute_result"
    }
   ],
   "source": [
    "# Create a List with [].\n",
    "a=['apple','orange','grape'];\n",
    "a[2]='raisin' #You can change an element of a List.\n",
    "a"
   ]
  },
  {
   "cell_type": "code",
   "execution_count": 48,
   "metadata": {},
   "outputs": [
    {
     "data": {
      "text/plain": [
       "['apple', 'orange', 'raisin', 'banana']"
      ]
     },
     "execution_count": 48,
     "metadata": {},
     "output_type": "execute_result"
    }
   ],
   "source": [
    "# Unlike Matlab, the List is not extended upon assignment.\n",
    "# a[3]='banana' #ERROR! the indexed entry does not exist.\n",
    "\n",
    "# You should use append() function to add a new entry.\n",
    "# Note that append() changes the List itself. No need to assign it with a=...\n",
    "a.append('banana')\n",
    "a"
   ]
  },
  {
   "cell_type": "code",
   "execution_count": 50,
   "metadata": {},
   "outputs": [
    {
     "data": {
      "text/plain": [
       "['apple', [5, 6]]"
      ]
     },
     "execution_count": 50,
     "metadata": {},
     "output_type": "execute_result"
    }
   ],
   "source": [
    "# You can also use '+' operator to append to a list or to combine two lists.\n",
    "b = a + ['cherry','berry']\n",
    "b"
   ]
  },
  {
   "cell_type": "code",
   "execution_count": 155,
   "metadata": {},
   "outputs": [
    {
     "data": {
      "text/plain": [
       "{'apple': 'red', 5: 10, 'orange banana': 100}"
      ]
     },
     "execution_count": 155,
     "metadata": {},
     "output_type": "execute_result"
    }
   ],
   "source": [
    "# Create a dictionary with {field1: value, field2:value2, etc.}\n",
    "# Note that you don't have the field naming constraints (alphanumeric) Matlab has.\n",
    "# You can use strings or numbers as fields.\n",
    "# matlab: struct('apple','red', 'orange',100); %no counterpart to field 5.\n",
    "a={'apple':'red', 5:10, 'orange banana':100}\n",
    "a"
   ]
  },
  {
   "cell_type": "code",
   "execution_count": 157,
   "metadata": {},
   "outputs": [
    {
     "data": {
      "text/plain": [
       "('red', 10)"
      ]
     },
     "execution_count": 157,
     "metadata": {},
     "output_type": "execute_result"
    }
   ],
   "source": [
    "# To access a dictionary field's value, use [fieldname]\n",
    "a['apple'], a[5]"
   ]
  },
  {
   "cell_type": "markdown",
   "metadata": {},
   "source": [
    "### Exercise\n",
    "Write code that takes a url variable and returns the hostname part of the url."
   ]
  },
  {
   "cell_type": "code",
   "execution_count": 59,
   "metadata": {},
   "outputs": [
    {
     "data": {
      "text/plain": [
       "'docs.python.org'"
      ]
     },
     "execution_count": 59,
     "metadata": {},
     "output_type": "execute_result"
    }
   ],
   "source": [
    "url='https://docs.python.org/2/library/string.html';\n",
    "#url='https://docs.google.com/spreadsheets/';\n",
    "#write code to extract the hostname, e.g., 'docs.python.org', from url"
   ]
  },
  {
   "cell_type": "markdown",
   "metadata": {},
   "source": [
    "### List Functions"
   ]
  },
  {
   "cell_type": "code",
   "execution_count": 3,
   "metadata": {},
   "outputs": [
    {
     "data": {
      "text/plain": [
       "['appleorangebananablueberryblackberrystrawberry']"
      ]
     },
     "execution_count": 3,
     "metadata": {},
     "output_type": "execute_result"
    }
   ],
   "source": [
    "# Remember to use comma to separate items in a list, otherwise you would be concatenating strings!!\n",
    "a=['apple' 'orange' 'banana' 'blueberry' 'blackberry' 'strawberry']\n",
    "a"
   ]
  },
  {
   "cell_type": "code",
   "execution_count": 8,
   "metadata": {},
   "outputs": [
    {
     "data": {
      "text/plain": [
       "True"
      ]
     },
     "execution_count": 8,
     "metadata": {},
     "output_type": "execute_result"
    }
   ],
   "source": [
    "a=['apple', 'orange', 'banana','blueberry','blackberry','strawberry']\n",
    "\n",
    "# \"in\" to check if an item is present in a list.\n",
    "'banana' in a"
   ]
  },
  {
   "cell_type": "code",
   "execution_count": 10,
   "metadata": {},
   "outputs": [
    {
     "data": {
      "text/plain": [
       "['apple',\n",
       " 'orange',\n",
       " 'banana',\n",
       " 'blueberry',\n",
       " 'blackberry',\n",
       " 'strawberry',\n",
       " 'raisin',\n",
       " 'raisin']"
      ]
     },
     "execution_count": 10,
     "metadata": {},
     "output_type": "execute_result"
    }
   ],
   "source": [
    "a.append('raisin') #add en element to the end of the list\n",
    "a"
   ]
  },
  {
   "cell_type": "code",
   "execution_count": 11,
   "metadata": {},
   "outputs": [
    {
     "data": {
      "text/plain": [
       "['apple',\n",
       " 'orange',\n",
       " 'grape',\n",
       " 'banana',\n",
       " 'blueberry',\n",
       " 'blackberry',\n",
       " 'strawberry',\n",
       " 'raisin',\n",
       " 'raisin']"
      ]
     },
     "execution_count": 11,
     "metadata": {},
     "output_type": "execute_result"
    }
   ],
   "source": [
    "a.insert(2,'grape') #insert at a specific position\n",
    "a"
   ]
  },
  {
   "cell_type": "code",
   "execution_count": 15,
   "metadata": {},
   "outputs": [
    {
     "ename": "ValueError",
     "evalue": "list.remove(x): x not in list",
     "output_type": "error",
     "traceback": [
      "\u001b[1;31m---------------------------------------------------------------------------\u001b[0m",
      "\u001b[1;31mValueError\u001b[0m                                Traceback (most recent call last)",
      "\u001b[1;32m<ipython-input-15-5bf5b62ab88a>\u001b[0m in \u001b[0;36m<module>\u001b[1;34m\u001b[0m\n\u001b[1;32m----> 1\u001b[1;33m \u001b[0ma\u001b[0m\u001b[1;33m.\u001b[0m\u001b[0mremove\u001b[0m\u001b[1;33m(\u001b[0m\u001b[1;34m'apple'\u001b[0m\u001b[1;33m)\u001b[0m \u001b[1;31m#find and remove a  specific item.\u001b[0m\u001b[1;33m\u001b[0m\u001b[1;33m\u001b[0m\u001b[0m\n\u001b[0m\u001b[0;32m      2\u001b[0m \u001b[0ma\u001b[0m\u001b[1;33m\u001b[0m\u001b[1;33m\u001b[0m\u001b[0m\n",
      "\u001b[1;31mValueError\u001b[0m: list.remove(x): x not in list"
     ]
    }
   ],
   "source": [
    "a.remove('apple') #find and remove a  specific item.\n",
    "a"
   ]
  },
  {
   "cell_type": "code",
   "execution_count": 16,
   "metadata": {},
   "outputs": [
    {
     "data": {
      "text/plain": [
       "['orange',\n",
       " 'grape',\n",
       " 'banana',\n",
       " 'blueberry',\n",
       " 'blackberry',\n",
       " 'strawberry',\n",
       " 'raisin']"
      ]
     },
     "execution_count": 16,
     "metadata": {},
     "output_type": "execute_result"
    }
   ],
   "source": [
    "# if item is not present, .remove() will throw ERROR! if item is not present.\n",
    "# use an \"if ... in ... \" statement to guard .remove():\n",
    "if 'apple' in a:\n",
    "    a.remove('apple')\n",
    "a"
   ]
  },
  {
   "cell_type": "code",
   "execution_count": 102,
   "metadata": {},
   "outputs": [
    {
     "data": {
      "text/plain": [
       "['orange', 'grape', 'banana', 'blueberry', 'blackberry', 'strawberry']"
      ]
     },
     "execution_count": 102,
     "metadata": {},
     "output_type": "execute_result"
    }
   ],
   "source": [
    "a.pop()  #remove the last element\n",
    "a"
   ]
  },
  {
   "cell_type": "code",
   "execution_count": 103,
   "metadata": {},
   "outputs": [
    {
     "data": {
      "text/plain": [
       "['orange', 'banana', 'blueberry', 'blackberry', 'strawberry']"
      ]
     },
     "execution_count": 103,
     "metadata": {},
     "output_type": "execute_result"
    }
   ],
   "source": [
    "a.pop(1) #remove the element at a given position\n",
    "a"
   ]
  },
  {
   "cell_type": "code",
   "execution_count": 21,
   "metadata": {
    "scrolled": true
   },
   "outputs": [
    {
     "data": {
      "text/plain": [
       "4"
      ]
     },
     "execution_count": 21,
     "metadata": {},
     "output_type": "execute_result"
    }
   ],
   "source": [
    "a.index('blackberry') #find and return the index of an item. ERROR! if item is not present."
   ]
  },
  {
   "cell_type": "code",
   "execution_count": 23,
   "metadata": {},
   "outputs": [
    {
     "data": {
      "text/plain": [
       "['banana',\n",
       " 'blackberry',\n",
       " 'blueberry',\n",
       " 'grape',\n",
       " 'orange',\n",
       " 'raisin',\n",
       " 'strawberry']"
      ]
     },
     "execution_count": 23,
     "metadata": {},
     "output_type": "execute_result"
    }
   ],
   "source": [
    "# sort the list. it'll use alphabetical order for strings, and numerical order for numbers.\n",
    "# ERROR! if it doesn't know how to compare items (e.g., if you mix numbers and strings)\n",
    "a.sort()\n",
    "a"
   ]
  },
  {
   "cell_type": "code",
   "execution_count": 35,
   "metadata": {},
   "outputs": [
    {
     "data": {
      "text/plain": [
       "[1, 2, 3, 4, 5, 10]"
      ]
     },
     "execution_count": 35,
     "metadata": {},
     "output_type": "execute_result"
    }
   ],
   "source": [
    "b = [ 2, 3, 5, 1 , 10, 4]\n",
    "b.sort();\n",
    "b"
   ]
  },
  {
   "cell_type": "code",
   "execution_count": 26,
   "metadata": {},
   "outputs": [
    {
     "ename": "TypeError",
     "evalue": "'<' not supported between instances of 'int' and 'str'",
     "output_type": "error",
     "traceback": [
      "\u001b[1;31m---------------------------------------------------------------------------\u001b[0m",
      "\u001b[1;31mTypeError\u001b[0m                                 Traceback (most recent call last)",
      "\u001b[1;32m<ipython-input-26-f5adca1e5daf>\u001b[0m in \u001b[0;36m<module>\u001b[1;34m\u001b[0m\n\u001b[0;32m      1\u001b[0m \u001b[0mc\u001b[0m \u001b[1;33m=\u001b[0m \u001b[1;33m[\u001b[0m\u001b[1;34m'apple'\u001b[0m\u001b[1;33m,\u001b[0m \u001b[1;36m3\u001b[0m\u001b[1;33m,\u001b[0m \u001b[1;34m'orange'\u001b[0m\u001b[1;33m,\u001b[0m\u001b[1;36m7\u001b[0m \u001b[1;33m]\u001b[0m\u001b[1;33m\u001b[0m\u001b[1;33m\u001b[0m\u001b[0m\n\u001b[1;32m----> 2\u001b[1;33m \u001b[0mc\u001b[0m\u001b[1;33m.\u001b[0m\u001b[0msort\u001b[0m\u001b[1;33m(\u001b[0m\u001b[1;33m)\u001b[0m\u001b[1;33m\u001b[0m\u001b[1;33m\u001b[0m\u001b[0m\n\u001b[0m",
      "\u001b[1;31mTypeError\u001b[0m: '<' not supported between instances of 'int' and 'str'"
     ]
    }
   ],
   "source": [
    "c = ['apple', 3, 'orange',7 ]\n",
    "# c.sort() # ERROR!"
   ]
  },
  {
   "cell_type": "code",
   "execution_count": null,
   "metadata": {},
   "outputs": [],
   "source": [
    "# sort will not work if the entries are not comparable:\n",
    "# ['apple',5, 10].sort()     #! ERROR."
   ]
  },
  {
   "cell_type": "code",
   "execution_count": 29,
   "metadata": {},
   "outputs": [
    {
     "name": "stdout",
     "output_type": "stream",
     "text": [
      "['banana', 'blackberry', 'blueberry', 'grape', 'orange', 'raisin', 'strawberry']\n",
      "['strawberry', 'raisin', 'orange', 'grape', 'blueberry', 'blackberry', 'banana']\n"
     ]
    }
   ],
   "source": [
    "print(a)\n",
    "a.reverse() #reverse the order of the elements\n",
    "print(a)"
   ]
  },
  {
   "cell_type": "code",
   "execution_count": null,
   "metadata": {},
   "outputs": [],
   "source": []
  },
  {
   "cell_type": "markdown",
   "metadata": {},
   "source": [
    "# Defining Functions"
   ]
  },
  {
   "cell_type": "code",
   "execution_count": 36,
   "metadata": {},
   "outputs": [
    {
     "name": "stdout",
     "output_type": "stream",
     "text": [
      "outside the function now\n"
     ]
    },
    {
     "data": {
      "text/plain": [
       "(True, False, True)"
      ]
     },
     "execution_count": 36,
     "metadata": {},
     "output_type": "execute_result"
    }
   ],
   "source": [
    "# Use \"def\" keyword to define a function.\n",
    "# You need to list the inputs to a function, but Unlike Matlab, the output variables are not specified.\n",
    "# Unlike matlab, you can only return a single thing (which can be a List of many things).\n",
    "def isodd(x):\n",
    "    if x%2==0:    # in matlab: if mod(x,2)==0\n",
    "        return False\n",
    "    else:\n",
    "        return True\n",
    "    print('Inside the function: At the end of the function.')\n",
    "\n",
    "print('outside the function now')\n",
    "\n",
    "\n",
    "#Function definition \"ends\" when you move back in indentation.\n",
    "isodd(17), isodd(22), isodd(33)"
   ]
  },
  {
   "cell_type": "code",
   "execution_count": 39,
   "metadata": {},
   "outputs": [
    {
     "data": {
      "text/plain": [
       "'\\nReturn True if x is odd,\\nFalse otherwise.\\n\\n'"
      ]
     },
     "execution_count": 39,
     "metadata": {},
     "output_type": "execute_result"
    }
   ],
   "source": [
    "# Describe what your function does using \"\"\"...\"\"\"\n",
    "def isodd(x):\n",
    "    \"\"\"Return True if x is odd,False otherwise.\"\"\"\n",
    "    \"\"\"another multiline text\"\"\"\n",
    "    return x%2==1\n",
    "\n",
    "# Note that the documentation of any function is available using the __doc__ property.\n",
    "# Yes, functions are objects, like almost anything else in Python.\n",
    "isodd.__doc__"
   ]
  },
  {
   "cell_type": "code",
   "execution_count": 109,
   "metadata": {},
   "outputs": [
    {
     "name": "stdout",
     "output_type": "stream",
     "text": [
      "int([x]) -> integer\n",
      "int(x, base=10) -> integer\n",
      "\n",
      "Convert a number or string to an integer, or return 0 if no arguments\n",
      "are given.  If x is a number, return x.__int__().  For floating point\n",
      "numbers, this truncates towards zero.\n",
      "\n",
      "If x is not a number or if base is given, then x must be a string,\n",
      "bytes, or bytearray instance representing an integer literal in the\n",
      "given base.  The literal can be preceded by '+' or '-' and be surrounded\n",
      "by whitespace.  The base defaults to 10.  Valid bases are 0 and 2-36.\n",
      "Base 0 means to interpret the base from the string as an integer literal.\n",
      ">>> int('0b100', base=0)\n",
      "4\n"
     ]
    }
   ],
   "source": [
    "print(int.__doc__)"
   ]
  },
  {
   "cell_type": "code",
   "execution_count": 110,
   "metadata": {},
   "outputs": [
    {
     "data": {
      "text/plain": [
       "(True, False, True)"
      ]
     },
     "execution_count": 110,
     "metadata": {},
     "output_type": "execute_result"
    }
   ],
   "source": [
    "# If function contains a single statement, define it on a single line.\n",
    "def isodd(x): return x%2==1\n",
    "\n",
    "isodd(17), isodd(22), isodd(33)"
   ]
  },
  {
   "cell_type": "code",
   "execution_count": 111,
   "metadata": {},
   "outputs": [
    {
     "data": {
      "text/plain": [
       "(200, 40, 10)"
      ]
     },
     "execution_count": 111,
     "metadata": {},
     "output_type": "execute_result"
    }
   ],
   "source": [
    "# You can specify default values for function arguments. No more \"if ~exist()\" nonsense of Matlab.\n",
    "def fun(a=10, b=20): return a*b\n",
    "\n",
    "fun(), fun(2), fun(2,5)"
   ]
  },
  {
   "cell_type": "code",
   "execution_count": 112,
   "metadata": {},
   "outputs": [
    {
     "data": {
      "text/plain": [
       "(10, 12, 30)"
      ]
     },
     "execution_count": 112,
     "metadata": {},
     "output_type": "execute_result"
    }
   ],
   "source": [
    "# When calling a function, you can use the named arguments in any order.\n",
    "def fun(a, b, c): return a*b*c\n",
    "\n",
    "fun(5,2,4), fun(b=3,a=4,c=10), fun(10,b=3,c=4)"
   ]
  },
  {
   "cell_type": "code",
   "execution_count": 113,
   "metadata": {},
   "outputs": [
    {
     "name": "stdout",
     "output_type": "stream",
     "text": [
      "[10]\n",
      "[10, 20]\n",
      "[10, 20, 30]\n"
     ]
    }
   ],
   "source": [
    "# WARNING: Default values are assigned once if they are objects (they endup having Matlab's persistent behavior).\n",
    "def fun(a, q=[]):\n",
    "    q.append(a)\n",
    "    return q\n",
    "\n",
    "print( fun(10) )\n",
    "print( fun(20) )\n",
    "print( fun(30) )"
   ]
  },
  {
   "cell_type": "code",
   "execution_count": 114,
   "metadata": {},
   "outputs": [
    {
     "name": "stdout",
     "output_type": "stream",
     "text": [
      "[10]\n",
      "[20]\n",
      "[30]\n"
     ]
    }
   ],
   "source": [
    "# If you don't like that behavior, use \"None\" as default value, so that variable will start off as\n",
    "# None every time you call the function.\n",
    "def fun(a, q=None):\n",
    "    if q is None: q=[]\n",
    "    q.append(a)\n",
    "    return q\n",
    "\n",
    "print( fun(10) )\n",
    "print( fun(20) )\n",
    "print( fun(30) )"
   ]
  },
  {
   "cell_type": "code",
   "execution_count": 42,
   "metadata": {},
   "outputs": [
    {
     "name": "stdout",
     "output_type": "stream",
     "text": [
      "a=3, b=4\n",
      "unnamed arguments: (5, 6)\n",
      "named arguments: {'x': 10, 'y': 20, 'z': 30}\n"
     ]
    }
   ],
   "source": [
    "# Use * and ** to capture additional unnamed (similar to varargin in Matlab) and named arguments.\n",
    "def fun(a,b, *unnamed, **named):\n",
    "    print('a=' + str(a) + ', b=' + str(b))\n",
    "    print('unnamed arguments: ' + str(unnamed))\n",
    "    print('named arguments: ' + str(named))\n",
    "\n",
    "fun(3, 4, 5,6, x=10, y=20, z=30)"
   ]
  },
  {
   "cell_type": "code",
   "execution_count": 43,
   "metadata": {},
   "outputs": [
    {
     "name": "stdout",
     "output_type": "stream",
     "text": [
      "a=4, b=5\n",
      "unnamed arguments: (8,)\n",
      "named arguments: {}\n"
     ]
    }
   ],
   "source": [
    "fun(4,5,8)"
   ]
  },
  {
   "cell_type": "code",
   "execution_count": 44,
   "metadata": {},
   "outputs": [
    {
     "name": "stdout",
     "output_type": "stream",
     "text": [
      "a=4, b=5\n",
      "unnamed arguments: ()\n",
      "named arguments: {'x': 8}\n"
     ]
    }
   ],
   "source": [
    "fun(4,5,x=8)"
   ]
  },
  {
   "cell_type": "code",
   "execution_count": 116,
   "metadata": {},
   "outputs": [
    {
     "data": {
      "text/plain": [
       "8"
      ]
     },
     "execution_count": 116,
     "metadata": {},
     "output_type": "execute_result"
    }
   ],
   "source": [
    "# You can \"unpack\" a list to be passed as arguments to a function using *. (similar to varargin{:})\n",
    "def fun(a,b): return a+b\n",
    "\n",
    "x=[3,5]\n",
    "fun(*x)"
   ]
  },
  {
   "cell_type": "markdown",
   "metadata": {},
   "source": [
    "### Exercise: normpdf()\n",
    "Write a function normpdf(x, avg, std) that returns the Guassian probabily density function value of x for a normal distribution with mean avg and standard deviation std. If avg is not given, use 0. If std is not given, use 1.\n",
    "See [Normal Distribution @wikipedia](https://en.wikipedia.org/wiki/Normal_distribution) for the formula of Gaussian probability density function"
   ]
  },
  {
   "cell_type": "code",
   "execution_count": 53,
   "metadata": {},
   "outputs": [
    {
     "data": {
      "text/plain": [
       "7.38905609893065"
      ]
     },
     "execution_count": 53,
     "metadata": {},
     "output_type": "execute_result"
    }
   ],
   "source": [
    "import math\n",
    "math.exp( 2 )"
   ]
  },
  {
   "cell_type": "code",
   "execution_count": 55,
   "metadata": {},
   "outputs": [
    {
     "name": "stdout",
     "output_type": "stream",
     "text": [
      "0.10934004978399577\n",
      "0.05399096651318806\n",
      "0.3910426939754559\n",
      "0.7365402806066467\n"
     ]
    }
   ],
   "source": [
    "import math\n",
    "def normpdf(x, avg=0, std=1):\n",
    "    a = 1.0 / (std*((2*math.pi)**.5)) * math.exp( -1.0/2.0 * ((x-avg)/std)**2 );\n",
    "    return a\n",
    "\n",
    "print(normpdf(5,3,1.5))\n",
    "print(normpdf(5,3))\n",
    "print(normpdf(0.2))\n",
    "print(normpdf(std=0.5,x=0.2))"
   ]
  },
  {
   "cell_type": "markdown",
   "metadata": {},
   "source": [
    "### Using .py files\n",
    "In a large scale python project, you wouldn't just rely on ipython notebooks. The functions you create in an ipython notebooks are not easily portable/reusable within other files. In order to create reusable functions, you really need to define your functions in a python file (with .py extension). Python .py files would then become available for importing. If you have a large collection of such python files, you would also consider organizing them into a python module."
   ]
  },
  {
   "cell_type": "code",
   "execution_count": 126,
   "metadata": {},
   "outputs": [],
   "source": [
    "def getcontentsoffile( filename ):\n",
    "    a = \"\"\n",
    "    with open(filename) as f:\n",
    "        text=f.read()\n",
    "        a = a+text\n",
    "    return a\n",
    "    \n",
    "s=getcontentsoffile('example.txt')"
   ]
  },
  {
   "cell_type": "code",
   "execution_count": 33,
   "metadata": {},
   "outputs": [
    {
     "name": "stdout",
     "output_type": "stream",
     "text": [
      "I am inside aplusb\n",
      "10\n",
      "I am inside aplusb\n",
      "50\n"
     ]
    }
   ],
   "source": [
    "import mysamplepy\n",
    "\n",
    "print(mysamplepy.aplusb(5,2))\n",
    "\n",
    "print(mysamplepy.aplusb(5,10))"
   ]
  },
  {
   "cell_type": "code",
   "execution_count": 1,
   "metadata": {
    "scrolled": true
   },
   "outputs": [
    {
     "name": "stdout",
     "output_type": "stream",
     "text": [
      "#!python\n",
      "#by Ahmet Sacan.\n",
      "\n",
      "def printfile(filename):\n",
      "\twith open(filename) as f: code = f.read()\n",
      "\tprint(code)\n",
      "\n",
      "def anotherfunction(a,b):\n",
      "\treturn a+b\n",
      "\n",
      "\n",
      "\n",
      "# This if statement allows running this file from command line\n",
      "if __name__ == \"__main__\":\n",
      "\timport sys\n",
      "\tif len(sys.argv) < 2:\n",
      "\t\tprint('--- ERROR: You need to provide the name of the file you want printed.');\n",
      "\t\tprint('usage: python printfile.py filename')\n",
      "\t\tprint('usage: printfile.py filename')\n",
      "\n",
      "\t\tsys.exit(1); #abort\n",
      "\n",
      "\tprintfile(sys.argv[1])\n",
      "\n"
     ]
    }
   ],
   "source": [
    "# To demonstrate the use of .py files, I created a file printfile.py (outside Ipython,\n",
    "#  using Matlab to edit the file) and within that file, I defined a function printfile(pyfile)\n",
    "#  which takes as input the name of a python file, and prints out the contents of that pyfile.\n",
    "\n",
    "# After the import, all functions defined in printfile.py become available as printfile....\n",
    "import printfile\n",
    "\n",
    "# As an example use, I am using the function to display the file itself, but you can also have it display any other py file.\n",
    "printfile.printfile('printfile.py')"
   ]
  },
  {
   "cell_type": "code",
   "execution_count": 35,
   "metadata": {},
   "outputs": [
    {
     "name": "stdout",
     "output_type": "stream",
     "text": [
      "Running command: D:\\data\\prg\\Anaconda3\\python.exe printfile.py ...\n",
      "--- ERROR: You need to provide the name of the file you want printed.\n",
      "usage: python printfile.py filename\n",
      "usage: printfile.py filename\n",
      "\n",
      "\n",
      "Running command: D:\\data\\prg\\Anaconda3\\python.exe printfile.py printfile.py ...\n",
      "#!python\n",
      "#by Ahmet Sacan.\n",
      "\n",
      "def printfile(filename):\n",
      "\twith open(filename) as f: code = f.read()\n",
      "\tprint(code)\n",
      "\n",
      "def anotherfunction(a,b):\n",
      "\treturn a+b\n",
      "\n",
      "\n",
      "\n",
      "# This if statement allows running this file from command line\n",
      "if __name__ == \"__main__\":\n",
      "\timport sys\n",
      "\tif len(sys.argv) < 2:\n",
      "\t\tprint('--- ERROR: You need to provide the name of the file you want printed.');\n",
      "\t\tprint('usage: python printfile.py filename')\n",
      "\t\tprint('usage: printfile.py filename')\n",
      "\n",
      "\t\tsys.exit(1); #abort\n",
      "\n",
      "\tprintfile(sys.argv[1])\n",
      "\n"
     ]
    }
   ],
   "source": [
    "# Let's try to call this file from command line, which is handled by: if __name__ == \"__main__\": ...\n",
    "import subprocess, sys;\n",
    "\n",
    "cmd = sys.executable + ' printfile.py';\n",
    "print('Running command: ' + cmd + ' ...')\n",
    "out = subprocess.getoutput(cmd)\n",
    "print(out)\n",
    "\n",
    "print()\n",
    "print()\n",
    "\n",
    "cmd = sys.executable + ' printfile.py printfile.py';\n",
    "print('Running command: ' + cmd + ' ...')\n",
    "out = subprocess.getoutput(cmd)\n",
    "print(out)"
   ]
  },
  {
   "cell_type": "markdown",
   "metadata": {},
   "source": [
    "# List Comprehension"
   ]
  },
  {
   "cell_type": "code",
   "execution_count": 36,
   "metadata": {},
   "outputs": [
    {
     "data": {
      "text/plain": [
       "[25, 100, 225, 400, 625, 900]"
      ]
     },
     "execution_count": 36,
     "metadata": {},
     "output_type": "execute_result"
    }
   ],
   "source": [
    "# You can go through a list without having to write a for loop.\n",
    "a=[5,10,15,20,25,30];\n",
    "\n",
    "# Go through each element of a, apply x*x, and collect results in a new List.\n",
    "b = [ x*x   for x in a]\n",
    "b"
   ]
  },
  {
   "cell_type": "code",
   "execution_count": 40,
   "metadata": {},
   "outputs": [
    {
     "data": {
      "text/plain": [
       "[[5, 10, 25],\n",
       " [10, 20, 100],\n",
       " [15, 30, 225],\n",
       " [20, 40, 400],\n",
       " [25, 50, 625],\n",
       " [30, 60, 900]]"
      ]
     },
     "execution_count": 40,
     "metadata": {},
     "output_type": "execute_result"
    }
   ],
   "source": [
    "# What you do can be any complex expression. The result will be a list of whatever you calculate.\n",
    "b = [[x, 2*x, x*x]  for x in a]\n",
    "b\n"
   ]
  },
  {
   "cell_type": "code",
   "execution_count": 41,
   "metadata": {},
   "outputs": [
    {
     "data": {
      "text/plain": [
       "[100, 400, 900]"
      ]
     },
     "execution_count": 41,
     "metadata": {},
     "output_type": "execute_result"
    }
   ],
   "source": [
    "# Go through elements that match a certain criteria (odd elements in this example)\n",
    "b = [x*x     for x in a  if x%2==0]\n",
    "b"
   ]
  },
  {
   "cell_type": "code",
   "execution_count": 113,
   "metadata": {},
   "outputs": [
    {
     "data": {
      "text/plain": [
       "[0, 20, 40, 60, 80]"
      ]
     },
     "execution_count": 113,
     "metadata": {},
     "output_type": "execute_result"
    }
   ],
   "source": [
    "# Use the range() function when you need a list of consequtive numbers\n",
    "#Create a List of numbers between 0 (inclusive) and 100 (exclusive) with step size=20\n",
    "[x    for x in range(0,100,20)]"
   ]
  },
  {
   "cell_type": "code",
   "execution_count": 45,
   "metadata": {},
   "outputs": [
    {
     "data": {
      "text/plain": [
       "range(0, 100, 20)"
      ]
     },
     "execution_count": 45,
     "metadata": {},
     "output_type": "execute_result"
    }
   ],
   "source": [
    "# python delays the evaluation of range() until it is needed.\n",
    "a=range(0,100,20)\n",
    "a"
   ]
  },
  {
   "cell_type": "markdown",
   "metadata": {},
   "source": [
    "### Exercise: word lengths\n",
    "Given a list of words, create a list containing the lengths of these words. Use list comprehension to solve this problem (not a for loop)."
   ]
  },
  {
   "cell_type": "code",
   "execution_count": 48,
   "metadata": {},
   "outputs": [
    {
     "data": {
      "text/plain": [
       "[5, 5, 6, 1, 4, 2, 7, 7]"
      ]
     },
     "execution_count": 48,
     "metadata": {},
     "output_type": "execute_result"
    }
   ],
   "source": [
    "words = ['peter','piper','picked','a','peck','of','pickled','peppers'];\n",
    "\n",
    "#find the lengths of each word, and store in a list called wordlengths.\n"
   ]
  },
  {
   "cell_type": "markdown",
   "metadata": {},
   "source": [
    "### Exercise: filter positive\n",
    "Given a list of numbers, create a new list that contains only the positive numbers selected from the original list. Use list comprehension."
   ]
  },
  {
   "cell_type": "code",
   "execution_count": 114,
   "metadata": {},
   "outputs": [
    {
     "data": {
      "text/plain": [
       "[3, 5, 9, 5, 8]"
      ]
     },
     "execution_count": 114,
     "metadata": {},
     "output_type": "execute_result"
    }
   ],
   "source": [
    "numbers = [-1, -10, 3, 5, 9, -7, 5, 8, -4]\n",
    "\n"
   ]
  },
  {
   "cell_type": "markdown",
   "metadata": {},
   "source": [
    "## for loop"
   ]
  },
  {
   "cell_type": "code",
   "execution_count": 105,
   "metadata": {},
   "outputs": [
    {
     "name": "stdout",
     "output_type": "stream",
     "text": [
      "0\n",
      "1\n",
      "2\n",
      "3\n",
      "4\n"
     ]
    }
   ],
   "source": [
    "# Use the \"in\" keyword (instead of the \"=\" in Matlab)\n",
    "for x in range(0,5):\n",
    "    print(x)"
   ]
  },
  {
   "cell_type": "code",
   "execution_count": 52,
   "metadata": {},
   "outputs": [
    {
     "name": "stdout",
     "output_type": "stream",
     "text": [
      "apple\n",
      "120\n",
      "orange\n",
      "banana\n"
     ]
    }
   ],
   "source": [
    "# A huge advantage over Matlab is that you can iterate over anything, not just a numerical vector.\n",
    "for x in ['apple',120,'orange','banana']:\n",
    "    print(x)"
   ]
  },
  {
   "cell_type": "code",
   "execution_count": 110,
   "metadata": {},
   "outputs": [
    {
     "name": "stdout",
     "output_type": "stream",
     "text": [
      "x 5\n",
      "y 10\n"
     ]
    }
   ],
   "source": [
    "# Iterating over a dictionary, gives you keys by default. Probably not useful.\n",
    "a={'x':5, 'y':10};\n",
    "for key in a:\n",
    "    print(key)"
   ]
  },
  {
   "cell_type": "code",
   "execution_count": 57,
   "metadata": {},
   "outputs": [
    {
     "name": "stdout",
     "output_type": "stream",
     "text": [
      "key=x, val=5\n",
      "key=y, val=10\n"
     ]
    }
   ],
   "source": [
    "# To simultaneously iterate over keys and values of a dictionary:\n",
    "a={'x':5, 'y':10};\n",
    "for key,val in a.items():\n",
    "    print('key='+key+', val='+str(val))"
   ]
  },
  {
   "cell_type": "code",
   "execution_count": 58,
   "metadata": {},
   "outputs": [
    {
     "name": "stdout",
     "output_type": "stream",
     "text": [
      "key=x, val=5\n",
      "key=y, val=10\n"
     ]
    }
   ],
   "source": [
    "# Equivalently, iterate over the keys and get the value inside the for loop.\n",
    "a={'x':5, 'y':10};\n",
    "for key in a:\n",
    "    val=a[key]\n",
    "    print('key='+key+', val='+str(val))"
   ]
  },
  {
   "cell_type": "markdown",
   "metadata": {},
   "source": [
    "### Exercise: word lengths\n",
    "Given a list of words, find the length of each word using a for loop."
   ]
  },
  {
   "cell_type": "code",
   "execution_count": 62,
   "metadata": {},
   "outputs": [
    {
     "data": {
      "text/plain": [
       "[5, 5, 6, 1, 4, 2, 7, 7]"
      ]
     },
     "execution_count": 62,
     "metadata": {},
     "output_type": "execute_result"
    }
   ],
   "source": [
    "words = ['peter','piper','picked','a','peck','of','pickled','peppers'];\n",
    "\n",
    "#find the lengths of each word, and store in a list called wordlengths. Use for loop.\n",
    "\n",
    "wordlengths=[];\n",
    "for word in words:\n",
    "    #wordlengths = wordlengths + [len(word)];\n",
    "    wordlengths.append(len(word))\n",
    "\n",
    "wordlengths"
   ]
  },
  {
   "cell_type": "markdown",
   "metadata": {},
   "source": [
    "# Python packages"
   ]
  },
  {
   "cell_type": "code",
   "execution_count": 63,
   "metadata": {},
   "outputs": [
    {
     "name": "stdout",
     "output_type": "stream",
     "text": [
      "sacanlap2\n"
     ]
    }
   ],
   "source": [
    "# Beyond the basic Python functions, you need to know which package a function belongs to and import\n",
    "# that package before you can use its functions. (What a bother!)\n",
    "\n",
    "#import the socket package. its functions will be accessible as socket.functionname\n",
    "import socket\n",
    "\n",
    "print(socket.gethostname())"
   ]
  },
  {
   "cell_type": "code",
   "execution_count": null,
   "metadata": {},
   "outputs": [],
   "source": [
    "# if typing \"socket\" is more than you are willing to type, give it a short name.\n",
    "import socket as sock\n",
    "\n",
    "print(sock.gethostname())"
   ]
  },
  {
   "cell_type": "code",
   "execution_count": 64,
   "metadata": {},
   "outputs": [
    {
     "name": "stdout",
     "output_type": "stream",
     "text": [
      "sacanlap2\n"
     ]
    }
   ],
   "source": [
    "# if you don't want to \"dot\" it everytime, import all the functions to be available.\n",
    "from socket import *\n",
    "# now gethostname() and all the other functions from the socket package become available directly.\n",
    "\n",
    "print(gethostname())"
   ]
  },
  {
   "cell_type": "code",
   "execution_count": null,
   "metadata": {},
   "outputs": [],
   "source": [
    "# The packages you try to import need to be already installed on your computer.\n",
    "# import ahmet_nonexistentpackage #ERROR!: No module named 'ahmet_nonexistentpackage'\n",
    "\n",
    "# When you need to install a new package, consult google for how to install it for your system.\n",
    "# It usually involves running a command in the terminal/commandwindow."
   ]
  },
  {
   "cell_type": "markdown",
   "metadata": {},
   "source": [
    "### Exercise\n",
    "Get the path of the temporary directory."
   ]
  },
  {
   "cell_type": "code",
   "execution_count": null,
   "metadata": {},
   "outputs": [],
   "source": []
  },
  {
   "cell_type": "code",
   "execution_count": null,
   "metadata": {},
   "outputs": [],
   "source": []
  },
  {
   "cell_type": "markdown",
   "metadata": {},
   "source": [
    "# Numpy"
   ]
  },
  {
   "cell_type": "code",
   "execution_count": 62,
   "metadata": {},
   "outputs": [
    {
     "data": {
      "text/plain": [
       "array([ 6,  8, 77, 55, 23, 17, 19])"
      ]
     },
     "execution_count": 62,
     "metadata": {},
     "output_type": "execute_result"
    }
   ],
   "source": [
    "# Numerical computing functionality is available from the numpy package.\n",
    "# numpy doesn't come builtin to a python installation (but Ipython comes prepackaged with it.)\n",
    "\n",
    "import numpy as np\n",
    "\n",
    "# np.array() is how you can create a numerical vector.\n",
    "x = np.array( [6, 8, 77, 55, 23, 17, 19] )\n",
    "x"
   ]
  },
  {
   "cell_type": "code",
   "execution_count": 66,
   "metadata": {},
   "outputs": [
    {
     "data": {
      "text/plain": [
       "6"
      ]
     },
     "execution_count": 66,
     "metadata": {},
     "output_type": "execute_result"
    }
   ],
   "source": [
    "# The usual python indexing rules apply here.\n",
    "# Remember that indexes start from 0.\n",
    "# A negative index i means end+i\n",
    "x[0] #x[ind]"
   ]
  },
  {
   "cell_type": "code",
   "execution_count": 67,
   "metadata": {},
   "outputs": [
    {
     "data": {
      "text/plain": [
       "array([ 6,  8, 77, 55])"
      ]
     },
     "execution_count": 67,
     "metadata": {},
     "output_type": "execute_result"
    }
   ],
   "source": [
    "x[0:4] #x[from:uptonotincluding]"
   ]
  },
  {
   "cell_type": "code",
   "execution_count": 68,
   "metadata": {},
   "outputs": [
    {
     "data": {
      "text/plain": [
       "array([ 6, 77])"
      ]
     },
     "execution_count": 68,
     "metadata": {},
     "output_type": "execute_result"
    }
   ],
   "source": [
    "x[0:4:2] #x[from:uptonotincluding:step]"
   ]
  },
  {
   "cell_type": "code",
   "execution_count": 69,
   "metadata": {},
   "outputs": [
    {
     "data": {
      "text/plain": [
       "array([55, 23, 17, 19])"
      ]
     },
     "execution_count": 69,
     "metadata": {},
     "output_type": "execute_result"
    }
   ],
   "source": [
    "x[3:] #x[from:] to the end."
   ]
  },
  {
   "cell_type": "code",
   "execution_count": 70,
   "metadata": {},
   "outputs": [
    {
     "data": {
      "text/plain": [
       "array([ 6,  8, 77])"
      ]
     },
     "execution_count": 70,
     "metadata": {},
     "output_type": "execute_result"
    }
   ],
   "source": [
    "x[:3] #x[:to] from the beginning."
   ]
  },
  {
   "cell_type": "code",
   "execution_count": 71,
   "metadata": {},
   "outputs": [
    {
     "data": {
      "text/plain": [
       "array([ 6,  8, 77, 55, 23, 17])"
      ]
     },
     "execution_count": 71,
     "metadata": {},
     "output_type": "execute_result"
    }
   ],
   "source": [
    "x[:-1]"
   ]
  },
  {
   "cell_type": "markdown",
   "metadata": {},
   "source": [
    "### Exercise\n",
    "Create a 1x10 random vector and find the index and the value of the smallest number."
   ]
  },
  {
   "cell_type": "code",
   "execution_count": 88,
   "metadata": {},
   "outputs": [
    {
     "name": "stdout",
     "output_type": "stream",
     "text": [
      "[0.78992958 0.68386958 0.33259291 0.44002593 0.94110886 0.77806962\n",
      " 0.7735641  0.36175979 0.32244853 0.93992685]\n"
     ]
    }
   ],
   "source": [
    "#create a random vector\n",
    "import numpy as np\n"
   ]
  },
  {
   "cell_type": "code",
   "execution_count": 89,
   "metadata": {},
   "outputs": [
    {
     "data": {
      "text/plain": [
       "(8, 0.3224485258422777)"
      ]
     },
     "execution_count": 89,
     "metadata": {},
     "output_type": "execute_result"
    }
   ],
   "source": [
    "#find the index & value of smallest number\n"
   ]
  },
  {
   "cell_type": "markdown",
   "metadata": {},
   "source": [
    "### Matrix Indexing"
   ]
  },
  {
   "cell_type": "code",
   "execution_count": 80,
   "metadata": {},
   "outputs": [
    {
     "data": {
      "text/plain": [
       "array([[1, 2],\n",
       "       [3, 4],\n",
       "       [5, 6]])"
      ]
     },
     "execution_count": 80,
     "metadata": {},
     "output_type": "execute_result"
    }
   ],
   "source": [
    "# To create a matrix, use a separate list for each row.\n",
    "x = np.array([[1, 2], [3, 4], [5, 6]])\n",
    "x"
   ]
  },
  {
   "cell_type": "code",
   "execution_count": 81,
   "metadata": {},
   "outputs": [
    {
     "data": {
      "text/plain": [
       "array([1, 4, 5])"
      ]
     },
     "execution_count": 81,
     "metadata": {},
     "output_type": "execute_result"
    }
   ],
   "source": [
    "# Unlike Matlab, the following row-column indexing is done in pairs.\n",
    "# i.e. it's selecting elements at positions: <0,0>,<1,1>,<2,0>\n",
    "x[[0, 1, 2], [0, 1, 0]]"
   ]
  },
  {
   "cell_type": "code",
   "execution_count": 82,
   "metadata": {},
   "outputs": [
    {
     "data": {
      "text/plain": [
       "array([2, 4, 6])"
      ]
     },
     "execution_count": 82,
     "metadata": {},
     "output_type": "execute_result"
    }
   ],
   "source": [
    "# Colon operator behaves the same, it means select all rows (or columns)\n",
    "x[:,1]"
   ]
  },
  {
   "cell_type": "code",
   "execution_count": 83,
   "metadata": {},
   "outputs": [
    {
     "data": {
      "text/plain": [
       "array([3, 4])"
      ]
     },
     "execution_count": 83,
     "metadata": {},
     "output_type": "execute_result"
    }
   ],
   "source": [
    "x[1,:]"
   ]
  },
  {
   "cell_type": "code",
   "execution_count": 84,
   "metadata": {},
   "outputs": [
    {
     "name": "stdout",
     "output_type": "stream",
     "text": [
      "Before changing y:\n",
      " x=[[1 2 3]\n",
      " [4 5 6]]\n",
      ", y=[1 2 3]\n",
      "\n",
      "After changing y:\n",
      " x=[[99  2  3]\n",
      " [ 4  5  6]]\n",
      ", y=[99  2  3]\n"
     ]
    }
   ],
   "source": [
    "# WARNING: Indexing creates a \"view\" into the original matrix.\n",
    "x = np.array([[1, 2, 3], [4, 5, 6]])\n",
    "y=x[0,:]  #y is \"attached\" to elements of x.\n",
    "print('Before changing y:\\n x='+str(x)+'\\n, y='+str(y))\n",
    "y[0]=99   #this also changes x.\n",
    "print('\\nAfter changing y:\\n x='+str(x)+'\\n, y='+str(y))"
   ]
  },
  {
   "cell_type": "code",
   "execution_count": 85,
   "metadata": {},
   "outputs": [
    {
     "name": "stdout",
     "output_type": "stream",
     "text": [
      "Before changing y:\n",
      " x=[[1 2 3]\n",
      " [4 5 6]]\n",
      ", y=[1 2 3]\n",
      "\n",
      "After changing y:\n",
      " x=[[1 2 3]\n",
      " [4 5 6]]\n",
      ", y=[99  2  3]\n"
     ]
    }
   ],
   "source": [
    "# If you want to create a copy, use the copy() function.\n",
    "x = np.array([[1, 2, 3], [4, 5, 6]])\n",
    "y = x[0,:].copy()\n",
    "print('Before changing y:\\n x='+str(x)+'\\n, y='+str(y))\n",
    "y[0]=99   #this also changes x.\n",
    "print('\\nAfter changing y:\\n x='+str(x)+'\\n, y='+str(y))"
   ]
  },
  {
   "cell_type": "markdown",
   "metadata": {},
   "source": [
    "### Matrix Size & Shape"
   ]
  },
  {
   "cell_type": "code",
   "execution_count": 89,
   "metadata": {
    "scrolled": false
   },
   "outputs": [
    {
     "data": {
      "text/plain": [
       "(3, 2)"
      ]
     },
     "execution_count": 89,
     "metadata": {},
     "output_type": "execute_result"
    }
   ],
   "source": [
    "x = np.array([[1, 2], [3, 4], [5, 6]])\n",
    "x.shape  #Get the number of rows/columns of matrix. --similar to Matlab's size()."
   ]
  },
  {
   "cell_type": "code",
   "execution_count": 91,
   "metadata": {},
   "outputs": [
    {
     "data": {
      "text/plain": [
       "6"
      ]
     },
     "execution_count": 91,
     "metadata": {},
     "output_type": "execute_result"
    }
   ],
   "source": [
    "x.size  #Get number of elements. --similar to Matlab's numel()."
   ]
  },
  {
   "cell_type": "code",
   "execution_count": 93,
   "metadata": {},
   "outputs": [
    {
     "data": {
      "text/plain": [
       "array([[1, 2, 3, 4, 5, 6]])"
      ]
     },
     "execution_count": 93,
     "metadata": {},
     "output_type": "execute_result"
    }
   ],
   "source": [
    "y = x.reshape(1,6)  #--similar to Matlab's reshape(). Does not change x itself!\n",
    "y"
   ]
  },
  {
   "cell_type": "code",
   "execution_count": 94,
   "metadata": {},
   "outputs": [
    {
     "name": "stdout",
     "output_type": "stream",
     "text": [
      "Before resize:\n",
      "[[1 2]\n",
      " [3 4]\n",
      " [5 6]]\n",
      "\n",
      "After resize:\n",
      "[[1 2 3]\n",
      " [4 5 6]]\n"
     ]
    }
   ],
   "source": [
    "print('Before resize:\\n'+str(x))\n",
    "x.resize(2,3)  #same as reshape, but reshapes in-place.\n",
    "print('\\nAfter resize:\\n'+str(x))"
   ]
  },
  {
   "cell_type": "code",
   "execution_count": 95,
   "metadata": {
    "scrolled": true
   },
   "outputs": [
    {
     "data": {
      "text/plain": [
       "array([[1, 2, 3, 1, 2, 3, 1, 2, 3],\n",
       "       [4, 5, 6, 4, 5, 6, 4, 5, 6],\n",
       "       [1, 2, 3, 1, 2, 3, 1, 2, 3],\n",
       "       [4, 5, 6, 4, 5, 6, 4, 5, 6]])"
      ]
     },
     "execution_count": 95,
     "metadata": {},
     "output_type": "execute_result"
    }
   ],
   "source": [
    "np.tile(x,[2,3]) #--similar to Matlab's repmat()."
   ]
  },
  {
   "cell_type": "code",
   "execution_count": 96,
   "metadata": {
    "scrolled": true
   },
   "outputs": [
    {
     "data": {
      "text/plain": [
       "array([[1, 2, 3],\n",
       "       [1, 2, 3],\n",
       "       [1, 2, 3],\n",
       "       [4, 5, 6],\n",
       "       [4, 5, 6],\n",
       "       [4, 5, 6]])"
      ]
     },
     "execution_count": 96,
     "metadata": {},
     "output_type": "execute_result"
    }
   ],
   "source": [
    "x.repeat(3,axis=0)  #--repeat elements along a dimension."
   ]
  },
  {
   "cell_type": "code",
   "execution_count": 97,
   "metadata": {},
   "outputs": [
    {
     "data": {
      "text/plain": [
       "array([[1, 1, 1, 2, 2, 2, 3, 3, 3],\n",
       "       [4, 4, 4, 5, 5, 5, 6, 6, 6]])"
      ]
     },
     "execution_count": 97,
     "metadata": {},
     "output_type": "execute_result"
    }
   ],
   "source": [
    "x.repeat([3],axis=1)  #--repeat elements along a dimension."
   ]
  },
  {
   "cell_type": "markdown",
   "metadata": {},
   "source": [
    "### Exercise\n",
    "Create an 8x8 checkerboard of values 0 & 1."
   ]
  },
  {
   "cell_type": "code",
   "execution_count": 94,
   "metadata": {
    "scrolled": true
   },
   "outputs": [
    {
     "data": {
      "text/plain": [
       "array([[0, 1, 0, 1, 0, 1, 0, 1],\n",
       "       [1, 0, 1, 0, 1, 0, 1, 0],\n",
       "       [0, 1, 0, 1, 0, 1, 0, 1],\n",
       "       [1, 0, 1, 0, 1, 0, 1, 0],\n",
       "       [0, 1, 0, 1, 0, 1, 0, 1],\n",
       "       [1, 0, 1, 0, 1, 0, 1, 0],\n",
       "       [0, 1, 0, 1, 0, 1, 0, 1],\n",
       "       [1, 0, 1, 0, 1, 0, 1, 0]])"
      ]
     },
     "execution_count": 94,
     "metadata": {},
     "output_type": "execute_result"
    }
   ],
   "source": []
  },
  {
   "cell_type": "markdown",
   "metadata": {},
   "source": [
    "### Matrix Operations"
   ]
  },
  {
   "cell_type": "code",
   "execution_count": 104,
   "metadata": {},
   "outputs": [
    {
     "data": {
      "text/plain": [
       "[1, 2, 3, 1, 2, 3, 1, 2, 3]"
      ]
     },
     "execution_count": 104,
     "metadata": {},
     "output_type": "execute_result"
    }
   ],
   "source": [
    "# Python lists do not natively have matrix operations\n",
    "[1,2,3] * 3"
   ]
  },
  {
   "cell_type": "code",
   "execution_count": 105,
   "metadata": {},
   "outputs": [
    {
     "data": {
      "text/plain": [
       "array([3, 6, 9])"
      ]
     },
     "execution_count": 105,
     "metadata": {},
     "output_type": "execute_result"
    }
   ],
   "source": [
    "np.array([1,2,3]) * 3"
   ]
  },
  {
   "cell_type": "code",
   "execution_count": 106,
   "metadata": {},
   "outputs": [
    {
     "data": {
      "text/plain": [
       "array([  20,  400, 8000])"
      ]
     },
     "execution_count": 106,
     "metadata": {},
     "output_type": "execute_result"
    }
   ],
   "source": [
    "# Unlike Matlab, multiplication, division, and power operators work element-wise.\n",
    "np.array([2,4,8]) * np.array([10,100,1000])"
   ]
  },
  {
   "cell_type": "code",
   "execution_count": 107,
   "metadata": {},
   "outputs": [
    {
     "data": {
      "text/plain": [
       "array([[ 5, 11, 17],\n",
       "       [11, 25, 39],\n",
       "       [17, 39, 61]])"
      ]
     },
     "execution_count": 107,
     "metadata": {},
     "output_type": "execute_result"
    }
   ],
   "source": [
    "#if you need matrix multiplication, use dot()\n",
    "x = np.array([[1, 2], [3, 4], [5, 6]])\n",
    "np.dot(x, np.transpose(x))"
   ]
  },
  {
   "cell_type": "markdown",
   "metadata": {},
   "source": [
    "## Statistics\n",
    "The scipy.stats package contains many of the statistics functions you would need."
   ]
  },
  {
   "cell_type": "code",
   "execution_count": 96,
   "metadata": {},
   "outputs": [
    {
     "data": {
      "text/plain": [
       "2.6601397199213477e-05"
      ]
     },
     "execution_count": 96,
     "metadata": {},
     "output_type": "execute_result"
    }
   ],
   "source": [
    "#import scipy\n",
    "#scipy.stats.ttest_ind()\n",
    "\n",
    "from scipy import stats\n",
    "\n",
    "#two tailed ttest for testing whether two independent sample sets are statistically different.\n",
    "(_,pvalue)=stats.ttest_ind([1,2,3,4,5],[11,12,13,14])\n",
    "pvalue"
   ]
  },
  {
   "cell_type": "code",
   "execution_count": 98,
   "metadata": {},
   "outputs": [
    {
     "data": {
      "text/plain": [
       "0.014305878435429648"
      ]
     },
     "execution_count": 98,
     "metadata": {},
     "output_type": "execute_result"
    }
   ],
   "source": [
    "#non-parametric test\n",
    "(_,pvalue)=stats.ranksums([1,2,3,4,5],[11,12,13,14])\n",
    "pvalue"
   ]
  },
  {
   "cell_type": "code",
   "execution_count": 97,
   "metadata": {},
   "outputs": [
    {
     "data": {
      "text/plain": [
       "0.0625"
      ]
     },
     "execution_count": 97,
     "metadata": {},
     "output_type": "execute_result"
    }
   ],
   "source": [
    "#non-parametric paired test, e.g., comparing mesurements before & after treatment.\n",
    "(_,pvalue)=stats.wilcoxon([1,2,3,4,5],[11,12,13,14,15])\n",
    "pvalue"
   ]
  },
  {
   "cell_type": "markdown",
   "metadata": {},
   "source": [
    "# Plotting"
   ]
  },
  {
   "cell_type": "code",
   "execution_count": 100,
   "metadata": {},
   "outputs": [],
   "source": [
    "# Plotting functionality is available from matplotlib package.\n",
    "# pylab is another package that exposes matplotlib and numpy functions.\n",
    "# Import the pylab package to make the Matlab-like functions directly available.\n",
    "from pylab import *\n",
    "\n",
    "# let's have numpy also available..\n",
    "import numpy as np\n",
    "\n",
    "# Also tell Jupyter to show plots within the notebook\n",
    "%matplotlib inline"
   ]
  },
  {
   "cell_type": "code",
   "execution_count": 113,
   "metadata": {
    "scrolled": false
   },
   "outputs": [
    {
     "data": {
      "image/png": "[encoded data removed]",
      "text/plain": [
       "<Figure size 432x288 with 1 Axes>"
      ]
     },
     "metadata": {
      "needs_background": "light"
     },
     "output_type": "display_data"
    }
   ],
   "source": [
    "x = linspace(0,5*pi, 200);\n",
    "plot(x, sin(x), x,cos(x), linewidth=4.0);\n",
    "xlabel('x'); ylabel('y'); legend(['sin','cos']);"
   ]
  },
  {
   "cell_type": "code",
   "execution_count": 114,
   "metadata": {},
   "outputs": [
    {
     "data": {
      "image/png": "[encoded data removed]",
      "text/plain": [
       "<Figure size 432x288 with 1 Axes>"
      ]
     },
     "metadata": {
      "needs_background": "light"
     },
     "output_type": "display_data"
    }
   ],
   "source": [
    "# To globally change font size. This affects any future plot you (re)generate\n",
    "rcParams['font.size']=14;\n",
    "rcParams['xtick.labelsize']=14;\n",
    "rcParams['ytick.labelsize']=14;\n",
    "\n",
    "\n",
    "x = linspace(0,5*pi, 20);\n",
    "#change the line style to get a scatter plot \n",
    "plot(x, exp(-x/10)*sin(x), 'ro');\n",
    "\n",
    "# Set labels and titles. fontsize can be individually specified.\n",
    "title('some figure');\n",
    "xlabel('time');\n",
    "ylabel('f(t)', fontsize=18);\n",
    "\n",
    "#change the axis limits:\n",
    "xlim(-1,15);\n",
    "ylim(-1.5,1.5);\n",
    "\n",
    "#change the x ticks:\n",
    "xticks([0,5,10,15],['zero','five','ten','fifteen'],rotation=45);\n",
    "\n",
    "# turn the grid on\n",
    "grid();\n",
    "\n"
   ]
  },
  {
   "cell_type": "code",
   "execution_count": 102,
   "metadata": {},
   "outputs": [
    {
     "data": {
      "image/png": "[encoded data removed]",
      "text/plain": [
       "<Figure size 432x288 with 1 Axes>"
      ]
     },
     "metadata": {
      "needs_background": "light"
     },
     "output_type": "display_data"
    }
   ],
   "source": [
    "x = linspace(0,5*pi, 20);\n",
    "y = exp(-x/10)*sin(x);\n",
    "#change the line style to get a scatter plot \n",
    "plot(x, y, 'ro');\n",
    "\n",
    "# (errorbars):\n",
    "errorbar(x, y, yerr=rand(x.size)/4, linestyle=\"none\",color=\"red\", capsize=5, markeredgewidth=2);"
   ]
  },
  {
   "cell_type": "code",
   "execution_count": 121,
   "metadata": {},
   "outputs": [
    {
     "data": {
      "image/png": "[encoded data removed]",
      "text/plain": [
       "<Figure size 432x288 with 1 Axes>"
      ]
     },
     "metadata": {
      "needs_background": "light"
     },
     "output_type": "display_data"
    }
   ],
   "source": [
    "#bar plot\n",
    "bar(x, y);"
   ]
  },
  {
   "cell_type": "code",
   "execution_count": 104,
   "metadata": {
    "scrolled": true
   },
   "outputs": [
    {
     "data": {
      "text/plain": [
       "<BarContainer object of 20 artists>"
      ]
     },
     "execution_count": 104,
     "metadata": {},
     "output_type": "execute_result"
    },
    {
     "data": {
      "image/png": "[encoded data removed]",
      "text/plain": [
       "<Figure size 432x288 with 1 Axes>"
      ]
     },
     "metadata": {
      "needs_background": "light"
     },
     "output_type": "display_data"
    }
   ],
   "source": [
    "#bar plot with error bars\n",
    "errorbar(x, y, yerr=rand(x.size)/4, linestyle=\"none\",color=\"red\", markeredgewidth=2, capsize=5, zorder=20);\n",
    "bar(x, y, zorder=5)"
   ]
  },
  {
   "cell_type": "code",
   "execution_count": 123,
   "metadata": {},
   "outputs": [
    {
     "data": {
      "text/plain": [
       "<matplotlib.colorbar.Colorbar at 0x25e10403508>"
      ]
     },
     "execution_count": 123,
     "metadata": {},
     "output_type": "execute_result"
    },
    {
     "data": {
      "image/png": "[encoded data removed]",
      "text/plain": [
       "<Figure size 432x288 with 2 Axes>"
      ]
     },
     "metadata": {
      "needs_background": "light"
     },
     "output_type": "display_data"
    }
   ],
   "source": [
    "#Countour plot\n",
    "def f(x,y): return (2*x**2 - x +y**3)*exp(-(x**2+y**2))\n",
    "x=y=linspace(-2,2,100)\n",
    "X,Y=meshgrid(x,y)\n",
    "h=contour(X,Y, f(X,Y), 10)\n",
    "clabel(h, inline=1)\n",
    "colorbar(h,orientation='vertical')"
   ]
  },
  {
   "cell_type": "markdown",
   "metadata": {},
   "source": [
    "## More examples\n",
    "\n",
    "For more examples, see: http://matplotlib.org/users/screenshots.html\n",
    "\n",
    "<img src='http://matplotlib.org/_images/fill_demo2.png'>\n",
    "<img src='http://matplotlib.org/_images/streamplot_demo_features_001.png'>\n",
    "<img src='http://matplotlib.org/_images/ellipse_demo1.png'>\n",
    "<img src='http://matplotlib.org/_images/pie_demo_features_001.png'>"
   ]
  }
 ],
 "metadata": {
  "kernelspec": {
   "display_name": "Python 3",
   "language": "python",
   "name": "python3"
  },
  "language_info": {
   "codemirror_mode": {
    "name": "ipython",
    "version": 3
   },
   "file_extension": ".py",
   "mimetype": "text/x-python",
   "name": "python",
   "nbconvert_exporter": "python",
   "pygments_lexer": "ipython3",
   "version": "3.8.8"
  }
 },
 "nbformat": 4,
 "nbformat_minor": 1
}
