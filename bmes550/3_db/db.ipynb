{
 "cells": [
  {
   "cell_type": "markdown",
   "metadata": {},
   "source": [
    "# Database Programming in Python"
   ]
  },
  {
   "cell_type": "code",
   "execution_count": 1,
   "metadata": {},
   "outputs": [],
   "source": [
    "# Notebook set up\n",
    "import sys, os, pathlib\n",
    "sys.path.append(os.environ['BMESAHMETDIR'])\n",
    "import pandas as pd\n",
    "import sqlite3\n",
    "import gzip\n",
    "import bmes\n",
    "from urllib.request import urlretrieve\n",
    "\n",
    "BASE_PATH = pathlib.Path('.').resolve()\n",
    "DB_PATH = pathlib.Path('/mnt/z/db/database.sqlite')"
   ]
  },
  {
   "cell_type": "markdown",
   "metadata": {},
   "source": [
    "### Biolerplate Code for Database Programming\n",
    "\n",
    "```python\n",
    "import sqlite3\n",
    "\n",
    "# Connect to the database\n",
    "conn = sqlite3.connect( DB_PATH.joinpath('database.sqlite') )\n",
    "\n",
    "# Create a cursor\n",
    "# This will be used to execute SQL commands and fetch the results\n",
    "cur = conn.cursor()\n",
    "\n",
    "# ...\n",
    "# SQL queries run using cur.execute( ... )\n",
    "# ...\n",
    "\n",
    "# Commit changes \n",
    "conn.commit()\n",
    "\n",
    "# Close the connection when done so the connection is \"released\"\n",
    "conn.close()\n",
    "```\n",
    "\n",
    "### Production Code Suggestions\n",
    "\n",
    "- You should enclose the connections and queries in a `try ... except ... finally` block,\n",
    "  so that you can handle any errors they raise\n",
    "- Use transactions to group related queries together\n",
    "- In a concurrent environment (e.g., web service), you should use locks to protect critical \n",
    "  operations.\n",
    "\n",
    "### Conntext Manager\n",
    "\n",
    "Use a context manager to handle the connection and cursor:\n",
    "\n",
    "```python\n",
    "class SQLite():\n",
    "    def __init__(self, file):\n",
    "        assert file.exists(), f\"File {file} does not exist\"\n",
    "        assert file.endswith('.sqlite') or file.endswith('.db'), \\\n",
    "            f\"File {file} is not a SQLite database\"\n",
    "        \n",
    "        self.file = file\n",
    "\n",
    "    def __enter__(self):\n",
    "        self.conn = sqlite3.connect(self.file)\n",
    "        self.conn.row_factory = sqlite3.Row\n",
    "        return self.conn.cursor()\n",
    "\n",
    "    def __exit__(self, type, value, traceback):\n",
    "        self.conn.commit()\n",
    "        self.conn.close()\n",
    "\n",
    "with SQLite(DB_PATH.joinpath('database.sqlite')) as cur:\n",
    "    print(cur.execute('SELECT sqlite_version();').fetchall()[0][0])\n",
    "```"
   ]
  },
  {
   "cell_type": "markdown",
   "metadata": {},
   "source": [
    "### In a \"production\" setting:\n",
    "* You should enclose your connection and queries in \"try ... except ...\", so you handle any errors they raise.\n",
    "* You should use transactions to group related queries.\n",
    "* In a concurrent environment (e.g., web service) you should use locks to protect critical operations."
   ]
  },
  {
   "cell_type": "markdown",
   "metadata": {},
   "source": [
    "## Create / Drop Tables"
   ]
  },
  {
   "cell_type": "code",
   "execution_count": 2,
   "metadata": {},
   "outputs": [],
   "source": [
    "# Connect to database\n",
    "conn = sqlite3.connect(DB_PATH);\n",
    "cur = conn.cursor();\n",
    "\n",
    "# To drop a table:\n",
    "conn.execute(\"DROP TABLE IF EXISTS students\")\n",
    "\n",
    "conn.execute(\"\"\"\n",
    "    CREATE  TABLE  IF  NOT  EXISTS  students (\n",
    "        id INTEGER PRIMARY KEY,\n",
    "        name VARCHAR(30), \n",
    "        birth DATE, \n",
    "        gpa FLOAT, \n",
    "        grad INTEGER\n",
    "    );\n",
    "\"\"\");\n",
    "\n",
    "# Commit changes\n",
    "conn.commit(); \n",
    "\n",
    "# Drop table\n",
    "# Won't drop it here, because I will use the students table in the rest \n",
    "# of this tutorial.\n",
    "# conn.execute(\"DROP TABLE IF EXISTS students\")\n",
    "\n",
    "# You should normally close when you are done with the connection, but \n",
    "# I will not close the connection here, so I can keep using it in the \n",
    "# rest of this tutorial."
   ]
  },
  {
   "cell_type": "markdown",
   "metadata": {},
   "source": [
    "## Insert / Delete Records"
   ]
  },
  {
   "cell_type": "code",
   "execution_count": 3,
   "metadata": {},
   "outputs": [],
   "source": [
    "# Insert multiple rows\n",
    "conn.execute(\"\"\"\n",
    "    INSERT INTO students (name, birth, gpa, grad) VALUES\n",
    "        ('Anderson', '1987-10-22', 3.9, 2009),\n",
    "        ('Jones', '1990-4-16', 2.4, 2012),\n",
    "        ('Hernandez', '1989-8-12', 3.1, 2011),\n",
    "        ('Chen', '1990-2-4', 3.2, 2011);\n",
    "\"\"\")\n",
    "\n",
    "# You dont have to specify all the fields\n",
    "conn.execute(\"\"\"\n",
    "    INSERT INTO students (name) VALUES ('Ahmet');\n",
    "\"\"\")\n",
    "\n",
    "# To delete all rows:\n",
    "# conn.execute(\"DELETE FROM students\")\n",
    "\n",
    "conn.commit()"
   ]
  },
  {
   "cell_type": "markdown",
   "metadata": {},
   "source": [
    "## Select Queries\n",
    "\n",
    "3 main elements:\n",
    "* What you want (SELECT ...)\n",
    "* Where it is found (FROM ...)\n",
    "* How you want it filtered (WHERE ...)\n",
    "\n",
    "Here, you need to use `cursor.execute()` instead of `connection.execute()`, \n",
    "because you want to fetch results.  \n",
    "When you don't need to fetch results (i.e., CREATE / DROP / INSERT / DELETE / UPDATE),\n",
    "you can use `connection.execute()`."
   ]
  },
  {
   "cell_type": "code",
   "execution_count": 4,
   "metadata": {},
   "outputs": [
    {
     "name": "stdout",
     "output_type": "stream",
     "text": [
      "(1, 'Anderson', '1987-10-22', 3.9, 2009)\n",
      "(2, 'Jones', '1990-4-16', 2.4, 2012)\n",
      "(3, 'Hernandez', '1989-8-12', 3.1, 2011)\n",
      "(4, 'Chen', '1990-2-4', 3.2, 2011)\n",
      "(5, 'Ahmet', None, None, None)\n"
     ]
    },
    {
     "data": {
      "text/html": [
       "<div>\n",
       "<style scoped>\n",
       "    .dataframe tbody tr th:only-of-type {\n",
       "        vertical-align: middle;\n",
       "    }\n",
       "\n",
       "    .dataframe tbody tr th {\n",
       "        vertical-align: top;\n",
       "    }\n",
       "\n",
       "    .dataframe thead th {\n",
       "        text-align: right;\n",
       "    }\n",
       "</style>\n",
       "<table border=\"1\" class=\"dataframe\">\n",
       "  <thead>\n",
       "    <tr style=\"text-align: right;\">\n",
       "      <th></th>\n",
       "      <th>id</th>\n",
       "      <th>name</th>\n",
       "      <th>birth</th>\n",
       "      <th>gpa</th>\n",
       "      <th>grad</th>\n",
       "    </tr>\n",
       "  </thead>\n",
       "  <tbody>\n",
       "    <tr>\n",
       "      <th>0</th>\n",
       "      <td>1</td>\n",
       "      <td>Anderson</td>\n",
       "      <td>1987-10-22</td>\n",
       "      <td>3.9</td>\n",
       "      <td>2009.0</td>\n",
       "    </tr>\n",
       "    <tr>\n",
       "      <th>1</th>\n",
       "      <td>2</td>\n",
       "      <td>Jones</td>\n",
       "      <td>1990-4-16</td>\n",
       "      <td>2.4</td>\n",
       "      <td>2012.0</td>\n",
       "    </tr>\n",
       "    <tr>\n",
       "      <th>2</th>\n",
       "      <td>3</td>\n",
       "      <td>Hernandez</td>\n",
       "      <td>1989-8-12</td>\n",
       "      <td>3.1</td>\n",
       "      <td>2011.0</td>\n",
       "    </tr>\n",
       "    <tr>\n",
       "      <th>3</th>\n",
       "      <td>4</td>\n",
       "      <td>Chen</td>\n",
       "      <td>1990-2-4</td>\n",
       "      <td>3.2</td>\n",
       "      <td>2011.0</td>\n",
       "    </tr>\n",
       "    <tr>\n",
       "      <th>4</th>\n",
       "      <td>5</td>\n",
       "      <td>Ahmet</td>\n",
       "      <td>None</td>\n",
       "      <td>NaN</td>\n",
       "      <td>NaN</td>\n",
       "    </tr>\n",
       "  </tbody>\n",
       "</table>\n",
       "</div>"
      ],
      "text/plain": [
       "   id       name       birth  gpa    grad\n",
       "0   1   Anderson  1987-10-22  3.9  2009.0\n",
       "1   2      Jones   1990-4-16  2.4  2012.0\n",
       "2   3  Hernandez   1989-8-12  3.1  2011.0\n",
       "3   4       Chen    1990-2-4  3.2  2011.0\n",
       "4   5      Ahmet        None  NaN     NaN"
      ]
     },
     "metadata": {},
     "output_type": "display_data"
    }
   ],
   "source": [
    "# Show all rows\n",
    "cur.execute(\"SELECT * FROM students;\");\n",
    "rows = cur.fetchall()\n",
    "for row in rows: print(row)\n",
    "\n",
    "# Convert to pandas dataframe\n",
    "df = pd.DataFrame.from_records(\n",
    "    cur.execute(\"SELECT * FROM students\").fetchall()\n",
    ")\n",
    "df.columns = [x[0] for x in cur.description]\n",
    "display(df)"
   ]
  },
  {
   "cell_type": "code",
   "execution_count": 5,
   "metadata": {},
   "outputs": [
    {
     "name": "stdout",
     "output_type": "stream",
     "text": [
      "(1, 'Anderson', '1987-10-22', 3.9, 2009)\n",
      "1987-10-22\n"
     ]
    }
   ],
   "source": [
    "# YOu can use the rows collection as a \"list\" and index it.\n",
    "print(rows[0])\n",
    "print(rows[0][2])"
   ]
  },
  {
   "cell_type": "markdown",
   "metadata": {},
   "source": [
    "### Definie `myselect()` to Make Queries Easier"
   ]
  },
  {
   "cell_type": "code",
   "execution_count": 6,
   "metadata": {},
   "outputs": [],
   "source": [
    "# We'll be doing a lot of selectiona and printing, so let's define a \n",
    "# function to do that.\n",
    "def select(query: str):\n",
    "\n",
    "    cur.execute(query);\n",
    "    rows = cur.fetchall()\n",
    "    if len(rows) == 0:\n",
    "        print(\"No results returned for SQL query\")\n",
    "    else:\n",
    "        df = pd.DataFrame.from_records(rows)\n",
    "        df.columns = [x[0] for x in cur.description]\n",
    "        display(df)\n",
    "\n",
    "    return"
   ]
  },
  {
   "cell_type": "code",
   "execution_count": 7,
   "metadata": {},
   "outputs": [
    {
     "data": {
      "text/html": [
       "<div>\n",
       "<style scoped>\n",
       "    .dataframe tbody tr th:only-of-type {\n",
       "        vertical-align: middle;\n",
       "    }\n",
       "\n",
       "    .dataframe tbody tr th {\n",
       "        vertical-align: top;\n",
       "    }\n",
       "\n",
       "    .dataframe thead th {\n",
       "        text-align: right;\n",
       "    }\n",
       "</style>\n",
       "<table border=\"1\" class=\"dataframe\">\n",
       "  <thead>\n",
       "    <tr style=\"text-align: right;\">\n",
       "      <th></th>\n",
       "      <th>name</th>\n",
       "      <th>gpa</th>\n",
       "    </tr>\n",
       "  </thead>\n",
       "  <tbody>\n",
       "    <tr>\n",
       "      <th>0</th>\n",
       "      <td>Anderson</td>\n",
       "      <td>3.9</td>\n",
       "    </tr>\n",
       "    <tr>\n",
       "      <th>1</th>\n",
       "      <td>Jones</td>\n",
       "      <td>2.4</td>\n",
       "    </tr>\n",
       "    <tr>\n",
       "      <th>2</th>\n",
       "      <td>Hernandez</td>\n",
       "      <td>3.1</td>\n",
       "    </tr>\n",
       "    <tr>\n",
       "      <th>3</th>\n",
       "      <td>Chen</td>\n",
       "      <td>3.2</td>\n",
       "    </tr>\n",
       "    <tr>\n",
       "      <th>4</th>\n",
       "      <td>Ahmet</td>\n",
       "      <td>NaN</td>\n",
       "    </tr>\n",
       "  </tbody>\n",
       "</table>\n",
       "</div>"
      ],
      "text/plain": [
       "        name  gpa\n",
       "0   Anderson  3.9\n",
       "1      Jones  2.4\n",
       "2  Hernandez  3.1\n",
       "3       Chen  3.2\n",
       "4      Ahmet  NaN"
      ]
     },
     "metadata": {},
     "output_type": "display_data"
    }
   ],
   "source": [
    "# Show just a few columns from a table:\n",
    "# Retrieve entire contents of a table\n",
    "select(\" SELECT name, gpa FROM students; \")"
   ]
  },
  {
   "cell_type": "code",
   "execution_count": 8,
   "metadata": {},
   "outputs": [
    {
     "data": {
      "text/html": [
       "<div>\n",
       "<style scoped>\n",
       "    .dataframe tbody tr th:only-of-type {\n",
       "        vertical-align: middle;\n",
       "    }\n",
       "\n",
       "    .dataframe tbody tr th {\n",
       "        vertical-align: top;\n",
       "    }\n",
       "\n",
       "    .dataframe thead th {\n",
       "        text-align: right;\n",
       "    }\n",
       "</style>\n",
       "<table border=\"1\" class=\"dataframe\">\n",
       "  <thead>\n",
       "    <tr style=\"text-align: right;\">\n",
       "      <th></th>\n",
       "      <th>name</th>\n",
       "      <th>gpa</th>\n",
       "    </tr>\n",
       "  </thead>\n",
       "  <tbody>\n",
       "    <tr>\n",
       "      <th>0</th>\n",
       "      <td>Anderson</td>\n",
       "      <td>3.9</td>\n",
       "    </tr>\n",
       "    <tr>\n",
       "      <th>1</th>\n",
       "      <td>Hernandez</td>\n",
       "      <td>3.1</td>\n",
       "    </tr>\n",
       "    <tr>\n",
       "      <th>2</th>\n",
       "      <td>Chen</td>\n",
       "      <td>3.2</td>\n",
       "    </tr>\n",
       "  </tbody>\n",
       "</table>\n",
       "</div>"
      ],
      "text/plain": [
       "        name  gpa\n",
       "0   Anderson  3.9\n",
       "1  Hernandez  3.1\n",
       "2       Chen  3.2"
      ]
     },
     "metadata": {},
     "output_type": "display_data"
    }
   ],
   "source": [
    "# Filtering: only get a subset of the rows:\n",
    "select(\"SELECT name, gpa FROM students WHERE gpa > 3.0;\")"
   ]
  },
  {
   "cell_type": "code",
   "execution_count": 9,
   "metadata": {},
   "outputs": [
    {
     "data": {
      "text/html": [
       "<div>\n",
       "<style scoped>\n",
       "    .dataframe tbody tr th:only-of-type {\n",
       "        vertical-align: middle;\n",
       "    }\n",
       "\n",
       "    .dataframe tbody tr th {\n",
       "        vertical-align: top;\n",
       "    }\n",
       "\n",
       "    .dataframe thead th {\n",
       "        text-align: right;\n",
       "    }\n",
       "</style>\n",
       "<table border=\"1\" class=\"dataframe\">\n",
       "  <thead>\n",
       "    <tr style=\"text-align: right;\">\n",
       "      <th></th>\n",
       "      <th>gpa</th>\n",
       "      <th>name</th>\n",
       "      <th>grad</th>\n",
       "    </tr>\n",
       "  </thead>\n",
       "  <tbody>\n",
       "    <tr>\n",
       "      <th>0</th>\n",
       "      <td>3.9</td>\n",
       "      <td>Anderson</td>\n",
       "      <td>2009</td>\n",
       "    </tr>\n",
       "    <tr>\n",
       "      <th>1</th>\n",
       "      <td>3.2</td>\n",
       "      <td>Chen</td>\n",
       "      <td>2011</td>\n",
       "    </tr>\n",
       "    <tr>\n",
       "      <th>2</th>\n",
       "      <td>3.1</td>\n",
       "      <td>Hernandez</td>\n",
       "      <td>2011</td>\n",
       "    </tr>\n",
       "  </tbody>\n",
       "</table>\n",
       "</div>"
      ],
      "text/plain": [
       "   gpa       name  grad\n",
       "0  3.9   Anderson  2009\n",
       "1  3.2       Chen  2011\n",
       "2  3.1  Hernandez  2011"
      ]
     },
     "metadata": {},
     "output_type": "display_data"
    }
   ],
   "source": [
    "# Sorting: order the rows by a column\n",
    "select(\"\"\"\n",
    "SELECT gpa, name, grad FROM students WHERE gpa > 3.0 ORDER BY gpa DESC;\n",
    "\"\"\")"
   ]
  },
  {
   "cell_type": "code",
   "execution_count": 10,
   "metadata": {},
   "outputs": [
    {
     "data": {
      "text/html": [
       "<div>\n",
       "<style scoped>\n",
       "    .dataframe tbody tr th:only-of-type {\n",
       "        vertical-align: middle;\n",
       "    }\n",
       "\n",
       "    .dataframe tbody tr th {\n",
       "        vertical-align: top;\n",
       "    }\n",
       "\n",
       "    .dataframe thead th {\n",
       "        text-align: right;\n",
       "    }\n",
       "</style>\n",
       "<table border=\"1\" class=\"dataframe\">\n",
       "  <thead>\n",
       "    <tr style=\"text-align: right;\">\n",
       "      <th></th>\n",
       "      <th>id</th>\n",
       "      <th>name</th>\n",
       "      <th>birth</th>\n",
       "      <th>gpa</th>\n",
       "      <th>grad</th>\n",
       "    </tr>\n",
       "  </thead>\n",
       "  <tbody>\n",
       "    <tr>\n",
       "      <th>0</th>\n",
       "      <td>2</td>\n",
       "      <td>Jones</td>\n",
       "      <td>1990-4-16</td>\n",
       "      <td>2.4</td>\n",
       "      <td>2012.0</td>\n",
       "    </tr>\n",
       "    <tr>\n",
       "      <th>1</th>\n",
       "      <td>3</td>\n",
       "      <td>Hernandez</td>\n",
       "      <td>1989-8-12</td>\n",
       "      <td>3.1</td>\n",
       "      <td>2011.0</td>\n",
       "    </tr>\n",
       "    <tr>\n",
       "      <th>2</th>\n",
       "      <td>4</td>\n",
       "      <td>Chen</td>\n",
       "      <td>1990-2-4</td>\n",
       "      <td>3.2</td>\n",
       "      <td>2011.0</td>\n",
       "    </tr>\n",
       "    <tr>\n",
       "      <th>3</th>\n",
       "      <td>1</td>\n",
       "      <td>Anderson</td>\n",
       "      <td>1987-10-22</td>\n",
       "      <td>3.9</td>\n",
       "      <td>2009.0</td>\n",
       "    </tr>\n",
       "    <tr>\n",
       "      <th>4</th>\n",
       "      <td>5</td>\n",
       "      <td>Ahmet</td>\n",
       "      <td>None</td>\n",
       "      <td>NaN</td>\n",
       "      <td>NaN</td>\n",
       "    </tr>\n",
       "  </tbody>\n",
       "</table>\n",
       "</div>"
      ],
      "text/plain": [
       "   id       name       birth  gpa    grad\n",
       "0   2      Jones   1990-4-16  2.4  2012.0\n",
       "1   3  Hernandez   1989-8-12  3.1  2011.0\n",
       "2   4       Chen    1990-2-4  3.2  2011.0\n",
       "3   1   Anderson  1987-10-22  3.9  2009.0\n",
       "4   5      Ahmet        None  NaN     NaN"
      ]
     },
     "metadata": {},
     "output_type": "display_data"
    }
   ],
   "source": [
    "# Sorting: order by multiple columns\n",
    "select(\"\"\"\n",
    "SELECT * FROM students ORDER BY grad DESC, gpa ASC;\n",
    "\"\"\")"
   ]
  },
  {
   "cell_type": "code",
   "execution_count": 11,
   "metadata": {},
   "outputs": [
    {
     "data": {
      "text/html": [
       "<div>\n",
       "<style scoped>\n",
       "    .dataframe tbody tr th:only-of-type {\n",
       "        vertical-align: middle;\n",
       "    }\n",
       "\n",
       "    .dataframe tbody tr th {\n",
       "        vertical-align: top;\n",
       "    }\n",
       "\n",
       "    .dataframe thead th {\n",
       "        text-align: right;\n",
       "    }\n",
       "</style>\n",
       "<table border=\"1\" class=\"dataframe\">\n",
       "  <thead>\n",
       "    <tr style=\"text-align: right;\">\n",
       "      <th></th>\n",
       "      <th>name</th>\n",
       "      <th>gpa</th>\n",
       "    </tr>\n",
       "  </thead>\n",
       "  <tbody>\n",
       "    <tr>\n",
       "      <th>0</th>\n",
       "      <td>Anderson</td>\n",
       "      <td>3.9</td>\n",
       "    </tr>\n",
       "    <tr>\n",
       "      <th>1</th>\n",
       "      <td>Jones</td>\n",
       "      <td>2.4</td>\n",
       "    </tr>\n",
       "  </tbody>\n",
       "</table>\n",
       "</div>"
      ],
      "text/plain": [
       "       name  gpa\n",
       "0  Anderson  3.9\n",
       "1     Jones  2.4"
      ]
     },
     "metadata": {},
     "output_type": "display_data"
    }
   ],
   "source": [
    "# Limiting: only get a certain number of rows:\n",
    "select(\"\"\"\n",
    "SELECT name, gpa FROM students LIMIT 0,2;\n",
    "\"\"\")"
   ]
  },
  {
   "cell_type": "markdown",
   "metadata": {
    "collapsed": true
   },
   "source": [
    "## Update / Delete"
   ]
  },
  {
   "cell_type": "code",
   "execution_count": 12,
   "metadata": {},
   "outputs": [
    {
     "name": "stdout",
     "output_type": "stream",
     "text": [
      "Before the update:\n"
     ]
    },
    {
     "data": {
      "text/html": [
       "<div>\n",
       "<style scoped>\n",
       "    .dataframe tbody tr th:only-of-type {\n",
       "        vertical-align: middle;\n",
       "    }\n",
       "\n",
       "    .dataframe tbody tr th {\n",
       "        vertical-align: top;\n",
       "    }\n",
       "\n",
       "    .dataframe thead th {\n",
       "        text-align: right;\n",
       "    }\n",
       "</style>\n",
       "<table border=\"1\" class=\"dataframe\">\n",
       "  <thead>\n",
       "    <tr style=\"text-align: right;\">\n",
       "      <th></th>\n",
       "      <th>id</th>\n",
       "      <th>name</th>\n",
       "      <th>birth</th>\n",
       "      <th>gpa</th>\n",
       "      <th>grad</th>\n",
       "    </tr>\n",
       "  </thead>\n",
       "  <tbody>\n",
       "    <tr>\n",
       "      <th>0</th>\n",
       "      <td>2</td>\n",
       "      <td>Jones</td>\n",
       "      <td>1990-4-16</td>\n",
       "      <td>2.4</td>\n",
       "      <td>2012</td>\n",
       "    </tr>\n",
       "  </tbody>\n",
       "</table>\n",
       "</div>"
      ],
      "text/plain": [
       "   id   name      birth  gpa  grad\n",
       "0   2  Jones  1990-4-16  2.4  2012"
      ]
     },
     "metadata": {},
     "output_type": "display_data"
    },
    {
     "name": "stdout",
     "output_type": "stream",
     "text": [
      "After the update:\n"
     ]
    },
    {
     "data": {
      "text/html": [
       "<div>\n",
       "<style scoped>\n",
       "    .dataframe tbody tr th:only-of-type {\n",
       "        vertical-align: middle;\n",
       "    }\n",
       "\n",
       "    .dataframe tbody tr th {\n",
       "        vertical-align: top;\n",
       "    }\n",
       "\n",
       "    .dataframe thead th {\n",
       "        text-align: right;\n",
       "    }\n",
       "</style>\n",
       "<table border=\"1\" class=\"dataframe\">\n",
       "  <thead>\n",
       "    <tr style=\"text-align: right;\">\n",
       "      <th></th>\n",
       "      <th>id</th>\n",
       "      <th>name</th>\n",
       "      <th>birth</th>\n",
       "      <th>gpa</th>\n",
       "      <th>grad</th>\n",
       "    </tr>\n",
       "  </thead>\n",
       "  <tbody>\n",
       "    <tr>\n",
       "      <th>0</th>\n",
       "      <td>2</td>\n",
       "      <td>Jones</td>\n",
       "      <td>1990-4-16</td>\n",
       "      <td>2.6</td>\n",
       "      <td>2013</td>\n",
       "    </tr>\n",
       "  </tbody>\n",
       "</table>\n",
       "</div>"
      ],
      "text/plain": [
       "   id   name      birth  gpa  grad\n",
       "0   2  Jones  1990-4-16  2.6  2013"
      ]
     },
     "metadata": {},
     "output_type": "display_data"
    }
   ],
   "source": [
    "print(\"Before the update:\")\n",
    "select(\"SELECT * FROM students WHERE id = 2;\")\n",
    "\n",
    "# Update a row\n",
    "conn.execute(\"\"\"\n",
    "UPDATE students\n",
    "    SET gpa = 2.6, grad = 2013\n",
    "    WHERE id = 2;\n",
    "\"\"\")\n",
    "conn.commit()\n",
    "\n",
    "print(\"After the update:\")\n",
    "select(\"SELECT * FROM students WHERE id = 2;\")"
   ]
  },
  {
   "cell_type": "code",
   "execution_count": 13,
   "metadata": {},
   "outputs": [
    {
     "name": "stdout",
     "output_type": "stream",
     "text": [
      "Before the delete:\n"
     ]
    },
    {
     "data": {
      "text/html": [
       "<div>\n",
       "<style scoped>\n",
       "    .dataframe tbody tr th:only-of-type {\n",
       "        vertical-align: middle;\n",
       "    }\n",
       "\n",
       "    .dataframe tbody tr th {\n",
       "        vertical-align: top;\n",
       "    }\n",
       "\n",
       "    .dataframe thead th {\n",
       "        text-align: right;\n",
       "    }\n",
       "</style>\n",
       "<table border=\"1\" class=\"dataframe\">\n",
       "  <thead>\n",
       "    <tr style=\"text-align: right;\">\n",
       "      <th></th>\n",
       "      <th>id</th>\n",
       "      <th>name</th>\n",
       "      <th>birth</th>\n",
       "      <th>gpa</th>\n",
       "      <th>grad</th>\n",
       "    </tr>\n",
       "  </thead>\n",
       "  <tbody>\n",
       "    <tr>\n",
       "      <th>0</th>\n",
       "      <td>2</td>\n",
       "      <td>Jones</td>\n",
       "      <td>1990-4-16</td>\n",
       "      <td>2.6</td>\n",
       "      <td>2013</td>\n",
       "    </tr>\n",
       "  </tbody>\n",
       "</table>\n",
       "</div>"
      ],
      "text/plain": [
       "   id   name      birth  gpa  grad\n",
       "0   2  Jones  1990-4-16  2.6  2013"
      ]
     },
     "metadata": {},
     "output_type": "display_data"
    },
    {
     "name": "stdout",
     "output_type": "stream",
     "text": [
      "After the delete:\n",
      "No results returned for SQL query\n"
     ]
    }
   ],
   "source": [
    "print(\"Before the delete:\")\n",
    "select(\"SELECT * FROM students WHERE id = 2;\")\n",
    "\n",
    "conn.execute(\"DELETE FROM students WHERE id = 2;\")\n",
    "\n",
    "print(\"After the delete:\")\n",
    "select(\"SELECT * FROM students WHERE id = 2;\")\n",
    "\n",
    "# Let's add Jones back so future queries can use it again\n",
    "conn.execute(\"\"\"\n",
    "INSERT INTO students (id, name, birth, gpa, grad) VALUES\n",
    "    (2, 'Jones', '1990-4-16', 2.4, 2012);\n",
    "\"\"\")\n",
    "conn.commit()"
   ]
  },
  {
   "cell_type": "markdown",
   "metadata": {
    "collapsed": true
   },
   "source": [
    "## Joins\n",
    "\n",
    "* **Join**: a query that merges the contents of 2 or more tables, and retrieves \n",
    "  information from the merged results.\n",
    "  \n",
    "### Join example: **many-to-one relationship**\n",
    "\n",
    "* Students have advisors; add a new table describing faculty."
   ]
  },
  {
   "cell_type": "code",
   "execution_count": 14,
   "metadata": {},
   "outputs": [
    {
     "data": {
      "text/html": [
       "<div>\n",
       "<style scoped>\n",
       "    .dataframe tbody tr th:only-of-type {\n",
       "        vertical-align: middle;\n",
       "    }\n",
       "\n",
       "    .dataframe tbody tr th {\n",
       "        vertical-align: top;\n",
       "    }\n",
       "\n",
       "    .dataframe thead th {\n",
       "        text-align: right;\n",
       "    }\n",
       "</style>\n",
       "<table border=\"1\" class=\"dataframe\">\n",
       "  <thead>\n",
       "    <tr style=\"text-align: right;\">\n",
       "      <th></th>\n",
       "      <th>id</th>\n",
       "      <th>name</th>\n",
       "      <th>title</th>\n",
       "    </tr>\n",
       "  </thead>\n",
       "  <tbody>\n",
       "    <tr>\n",
       "      <th>0</th>\n",
       "      <td>1</td>\n",
       "      <td>Fujimura</td>\n",
       "      <td>assocprof</td>\n",
       "    </tr>\n",
       "    <tr>\n",
       "      <th>1</th>\n",
       "      <td>2</td>\n",
       "      <td>Bolosky</td>\n",
       "      <td>prof</td>\n",
       "    </tr>\n",
       "  </tbody>\n",
       "</table>\n",
       "</div>"
      ],
      "text/plain": [
       "   id      name      title\n",
       "0   1  Fujimura  assocprof\n",
       "1   2   Bolosky       prof"
      ]
     },
     "metadata": {},
     "output_type": "display_data"
    }
   ],
   "source": [
    "conn.execute(\"DROP TABLE IF EXISTS advisors\");\n",
    "\n",
    "conn.execute(\"\"\"\n",
    "CREATE TABLE advisors (\n",
    "    id INTEGER PRIMARY KEY,\n",
    "    name VARCHAR(30),\n",
    "    title VARCHAR(30)\n",
    ");\n",
    "\"\"\")\n",
    "\n",
    "conn.execute(\"\"\"\n",
    "INSERT INTO advisors (name, title) VALUES\n",
    "    ('Fujimura', 'assocprof'),\n",
    "    ('Bolosky', 'prof');\n",
    "\"\"\")\n",
    "\n",
    "conn.commit()\n",
    "\n",
    "select(\"SELECT * FROM advisors;\")"
   ]
  },
  {
   "cell_type": "markdown",
   "metadata": {},
   "source": [
    "### Foreign Key\n",
    "\n",
    "* A **foreign key** is a field (or collection of fields) in one table that \n",
    "  uniquely identifies a row of another table or the same table. In simpler \n",
    "  words, the foreign key is defined in a second table, but it refers to the \n",
    "  primary key in the first table.\n",
    "\n",
    "- Add a new column `advisor_id` to the students table, which is a foreign key\n",
    "  to the faculty table."
   ]
  },
  {
   "cell_type": "code",
   "execution_count": 15,
   "metadata": {},
   "outputs": [
    {
     "data": {
      "text/html": [
       "<div>\n",
       "<style scoped>\n",
       "    .dataframe tbody tr th:only-of-type {\n",
       "        vertical-align: middle;\n",
       "    }\n",
       "\n",
       "    .dataframe tbody tr th {\n",
       "        vertical-align: top;\n",
       "    }\n",
       "\n",
       "    .dataframe thead th {\n",
       "        text-align: right;\n",
       "    }\n",
       "</style>\n",
       "<table border=\"1\" class=\"dataframe\">\n",
       "  <thead>\n",
       "    <tr style=\"text-align: right;\">\n",
       "      <th></th>\n",
       "      <th>id</th>\n",
       "      <th>name</th>\n",
       "      <th>birth</th>\n",
       "      <th>gpa</th>\n",
       "      <th>grad</th>\n",
       "      <th>advisor_id</th>\n",
       "    </tr>\n",
       "  </thead>\n",
       "  <tbody>\n",
       "    <tr>\n",
       "      <th>0</th>\n",
       "      <td>1</td>\n",
       "      <td>Anderson</td>\n",
       "      <td>1987-10-22</td>\n",
       "      <td>3.9</td>\n",
       "      <td>2009.0</td>\n",
       "      <td>2.0</td>\n",
       "    </tr>\n",
       "    <tr>\n",
       "      <th>1</th>\n",
       "      <td>2</td>\n",
       "      <td>Jones</td>\n",
       "      <td>1990-4-16</td>\n",
       "      <td>2.4</td>\n",
       "      <td>2012.0</td>\n",
       "      <td>1.0</td>\n",
       "    </tr>\n",
       "    <tr>\n",
       "      <th>2</th>\n",
       "      <td>3</td>\n",
       "      <td>Hernandez</td>\n",
       "      <td>1989-8-12</td>\n",
       "      <td>3.1</td>\n",
       "      <td>2011.0</td>\n",
       "      <td>1.0</td>\n",
       "    </tr>\n",
       "    <tr>\n",
       "      <th>3</th>\n",
       "      <td>4</td>\n",
       "      <td>Chen</td>\n",
       "      <td>1990-2-4</td>\n",
       "      <td>3.2</td>\n",
       "      <td>2011.0</td>\n",
       "      <td>1.0</td>\n",
       "    </tr>\n",
       "    <tr>\n",
       "      <th>4</th>\n",
       "      <td>5</td>\n",
       "      <td>Ahmet</td>\n",
       "      <td>None</td>\n",
       "      <td>NaN</td>\n",
       "      <td>NaN</td>\n",
       "      <td>NaN</td>\n",
       "    </tr>\n",
       "  </tbody>\n",
       "</table>\n",
       "</div>"
      ],
      "text/plain": [
       "   id       name       birth  gpa    grad  advisor_id\n",
       "0   1   Anderson  1987-10-22  3.9  2009.0         2.0\n",
       "1   2      Jones   1990-4-16  2.4  2012.0         1.0\n",
       "2   3  Hernandez   1989-8-12  3.1  2011.0         1.0\n",
       "3   4       Chen    1990-2-4  3.2  2011.0         1.0\n",
       "4   5      Ahmet        None  NaN     NaN         NaN"
      ]
     },
     "metadata": {},
     "output_type": "display_data"
    }
   ],
   "source": [
    "# Add a foreign key to the students table\n",
    "conn.execute(\"\"\"\n",
    "ALTER TABLE students ADD COLUMN advisor_id INTEGER;\n",
    "\"\"\");\n",
    "\n",
    "# Update the students table to set the advisor_id\n",
    "conn.execute(\"\"\"\n",
    "UPDATE students \n",
    "    SET advisor_id = 2 \n",
    "    WHERE id = 1;\n",
    "\"\"\");\n",
    "\n",
    "conn.execute(\"\"\"\n",
    "UPDATE students \n",
    "    SET advisor_id = 1 \n",
    "    WHERE id = 2 OR id = 3 or id = 4;\n",
    "\"\"\");\n",
    "\n",
    "conn.commit()\n",
    "\n",
    "select(\"SELECT * FROM students;\")"
   ]
  },
  {
   "cell_type": "markdown",
   "metadata": {},
   "source": [
    "**Perform the join query**\n",
    "\n",
    "- Get students who are advised by Fujimura then get their names and gpas"
   ]
  },
  {
   "cell_type": "code",
   "execution_count": 16,
   "metadata": {},
   "outputs": [
    {
     "data": {
      "text/html": [
       "<div>\n",
       "<style scoped>\n",
       "    .dataframe tbody tr th:only-of-type {\n",
       "        vertical-align: middle;\n",
       "    }\n",
       "\n",
       "    .dataframe tbody tr th {\n",
       "        vertical-align: top;\n",
       "    }\n",
       "\n",
       "    .dataframe thead th {\n",
       "        text-align: right;\n",
       "    }\n",
       "</style>\n",
       "<table border=\"1\" class=\"dataframe\">\n",
       "  <thead>\n",
       "    <tr style=\"text-align: right;\">\n",
       "      <th></th>\n",
       "      <th>name</th>\n",
       "      <th>gpa</th>\n",
       "    </tr>\n",
       "  </thead>\n",
       "  <tbody>\n",
       "    <tr>\n",
       "      <th>0</th>\n",
       "      <td>Jones</td>\n",
       "      <td>2.4</td>\n",
       "    </tr>\n",
       "    <tr>\n",
       "      <th>1</th>\n",
       "      <td>Hernandez</td>\n",
       "      <td>3.1</td>\n",
       "    </tr>\n",
       "    <tr>\n",
       "      <th>2</th>\n",
       "      <td>Chen</td>\n",
       "      <td>3.2</td>\n",
       "    </tr>\n",
       "  </tbody>\n",
       "</table>\n",
       "</div>"
      ],
      "text/plain": [
       "        name  gpa\n",
       "0      Jones  2.4\n",
       "1  Hernandez  3.1\n",
       "2       Chen  3.2"
      ]
     },
     "metadata": {},
     "output_type": "display_data"
    }
   ],
   "source": [
    "select(\"\"\"\n",
    "SELECT students.name, students.gpa FROM students, advisors\n",
    "    WHERE advisors.name = 'Fujimura' AND\n",
    "          students.advisor_id = advisors.id;\n",
    "\"\"\")"
   ]
  },
  {
   "cell_type": "markdown",
   "metadata": {},
   "source": [
    "You can give short names to the tables to be used within the query"
   ]
  },
  {
   "cell_type": "code",
   "execution_count": 17,
   "metadata": {},
   "outputs": [
    {
     "data": {
      "text/html": [
       "<div>\n",
       "<style scoped>\n",
       "    .dataframe tbody tr th:only-of-type {\n",
       "        vertical-align: middle;\n",
       "    }\n",
       "\n",
       "    .dataframe tbody tr th {\n",
       "        vertical-align: top;\n",
       "    }\n",
       "\n",
       "    .dataframe thead th {\n",
       "        text-align: right;\n",
       "    }\n",
       "</style>\n",
       "<table border=\"1\" class=\"dataframe\">\n",
       "  <thead>\n",
       "    <tr style=\"text-align: right;\">\n",
       "      <th></th>\n",
       "      <th>name</th>\n",
       "      <th>gpa</th>\n",
       "    </tr>\n",
       "  </thead>\n",
       "  <tbody>\n",
       "    <tr>\n",
       "      <th>0</th>\n",
       "      <td>Jones</td>\n",
       "      <td>2.4</td>\n",
       "    </tr>\n",
       "    <tr>\n",
       "      <th>1</th>\n",
       "      <td>Hernandez</td>\n",
       "      <td>3.1</td>\n",
       "    </tr>\n",
       "    <tr>\n",
       "      <th>2</th>\n",
       "      <td>Chen</td>\n",
       "      <td>3.2</td>\n",
       "    </tr>\n",
       "  </tbody>\n",
       "</table>\n",
       "</div>"
      ],
      "text/plain": [
       "        name  gpa\n",
       "0      Jones  2.4\n",
       "1  Hernandez  3.1\n",
       "2       Chen  3.2"
      ]
     },
     "metadata": {},
     "output_type": "display_data"
    }
   ],
   "source": [
    "select(\"\"\"\n",
    "SELECT s.name, s.gpa FROM students s, advisors a\n",
    "    WHERE a.name = 'Fujimura' AND\n",
    "          s.advisor_id = a.id;\n",
    "\"\"\")"
   ]
  },
  {
   "cell_type": "markdown",
   "metadata": {},
   "source": [
    "You can also change the names of the fields that come back as results"
   ]
  },
  {
   "cell_type": "code",
   "execution_count": 18,
   "metadata": {},
   "outputs": [
    {
     "data": {
      "text/html": [
       "<div>\n",
       "<style scoped>\n",
       "    .dataframe tbody tr th:only-of-type {\n",
       "        vertical-align: middle;\n",
       "    }\n",
       "\n",
       "    .dataframe tbody tr th {\n",
       "        vertical-align: top;\n",
       "    }\n",
       "\n",
       "    .dataframe thead th {\n",
       "        text-align: right;\n",
       "    }\n",
       "</style>\n",
       "<table border=\"1\" class=\"dataframe\">\n",
       "  <thead>\n",
       "    <tr style=\"text-align: right;\">\n",
       "      <th></th>\n",
       "      <th>advisor_id</th>\n",
       "      <th>advisor_name</th>\n",
       "      <th>student_id</th>\n",
       "      <th>student_name</th>\n",
       "    </tr>\n",
       "  </thead>\n",
       "  <tbody>\n",
       "    <tr>\n",
       "      <th>0</th>\n",
       "      <td>1</td>\n",
       "      <td>Fujimura</td>\n",
       "      <td>2</td>\n",
       "      <td>Jones</td>\n",
       "    </tr>\n",
       "    <tr>\n",
       "      <th>1</th>\n",
       "      <td>1</td>\n",
       "      <td>Fujimura</td>\n",
       "      <td>3</td>\n",
       "      <td>Hernandez</td>\n",
       "    </tr>\n",
       "    <tr>\n",
       "      <th>2</th>\n",
       "      <td>1</td>\n",
       "      <td>Fujimura</td>\n",
       "      <td>4</td>\n",
       "      <td>Chen</td>\n",
       "    </tr>\n",
       "  </tbody>\n",
       "</table>\n",
       "</div>"
      ],
      "text/plain": [
       "   advisor_id advisor_name  student_id student_name\n",
       "0           1     Fujimura           2        Jones\n",
       "1           1     Fujimura           3    Hernandez\n",
       "2           1     Fujimura           4         Chen"
      ]
     },
     "metadata": {},
     "output_type": "display_data"
    }
   ],
   "source": [
    "select(\"\"\"\n",
    "SELECT a.id AS advisor_id, a.name AS advisor_name,\n",
    "       s.id AS student_id, s.name AS student_name\n",
    "FROM students s, advisors a\n",
    "WHERE\n",
    "    a.name = 'Fujimura' AND\n",
    "    a.id = s.advisor_id;\n",
    "\"\"\")"
   ]
  },
  {
   "cell_type": "markdown",
   "metadata": {
    "collapsed": true
   },
   "source": [
    "### Join Example: many-to-many"
   ]
  },
  {
   "cell_type": "code",
   "execution_count": 19,
   "metadata": {},
   "outputs": [
    {
     "data": {
      "text/html": [
       "<div>\n",
       "<style scoped>\n",
       "    .dataframe tbody tr th:only-of-type {\n",
       "        vertical-align: middle;\n",
       "    }\n",
       "\n",
       "    .dataframe tbody tr th {\n",
       "        vertical-align: top;\n",
       "    }\n",
       "\n",
       "    .dataframe thead th {\n",
       "        text-align: right;\n",
       "    }\n",
       "</style>\n",
       "<table border=\"1\" class=\"dataframe\">\n",
       "  <thead>\n",
       "    <tr style=\"text-align: right;\">\n",
       "      <th></th>\n",
       "      <th>id</th>\n",
       "      <th>number</th>\n",
       "      <th>name</th>\n",
       "      <th>quarter</th>\n",
       "    </tr>\n",
       "  </thead>\n",
       "  <tbody>\n",
       "    <tr>\n",
       "      <th>0</th>\n",
       "      <td>1</td>\n",
       "      <td>CS142</td>\n",
       "      <td>Web Stuff</td>\n",
       "      <td>Winter 2009</td>\n",
       "    </tr>\n",
       "    <tr>\n",
       "      <th>1</th>\n",
       "      <td>2</td>\n",
       "      <td>ART101</td>\n",
       "      <td>Finger painting</td>\n",
       "      <td>Fall 2008</td>\n",
       "    </tr>\n",
       "    <tr>\n",
       "      <th>2</th>\n",
       "      <td>3</td>\n",
       "      <td>ART101</td>\n",
       "      <td>Finger painting</td>\n",
       "      <td>Winter 2009</td>\n",
       "    </tr>\n",
       "    <tr>\n",
       "      <th>3</th>\n",
       "      <td>4</td>\n",
       "      <td>PE204</td>\n",
       "      <td>Mud wrestling</td>\n",
       "      <td>Winter 2009</td>\n",
       "    </tr>\n",
       "  </tbody>\n",
       "</table>\n",
       "</div>"
      ],
      "text/plain": [
       "   id  number             name      quarter\n",
       "0   1   CS142        Web Stuff  Winter 2009\n",
       "1   2  ART101  Finger painting    Fall 2008\n",
       "2   3  ART101  Finger painting  Winter 2009\n",
       "3   4   PE204    Mud wrestling  Winter 2009"
      ]
     },
     "metadata": {},
     "output_type": "display_data"
    }
   ],
   "source": [
    "# Create the courses table\n",
    "\n",
    "conn.execute(\"DROP TABLE IF EXISTS courses;\");\n",
    "conn.execute(\"\"\"\n",
    "CREATE TABLE IF NOT EXISTS courses (\n",
    "    id INTEGER PRIMARY KEY,\n",
    "    number VARCHAR(30),\n",
    "    name VARCHAR(32),\n",
    "    quarter VARCHAR(32)\n",
    ");\n",
    "\"\"\")\n",
    "\n",
    "# Populate the courses table\n",
    "conn.execute(\"\"\"\n",
    "INSERT INTO courses (number, name, quarter) VALUES\n",
    "    ('CS142', 'Web Stuff', 'Winter 2009'),\n",
    "    ('ART101', 'Finger painting', 'Fall 2008'),\n",
    "    ('ART101', 'Finger painting', 'Winter 2009'),\n",
    "    ('PE204', 'Mud wrestling', 'Winter 2009');\n",
    "\"\"\")\n",
    "\n",
    "conn.commit()\n",
    "\n",
    "select(\"SELECT * FROM courses;\")"
   ]
  },
  {
   "cell_type": "code",
   "execution_count": 20,
   "metadata": {},
   "outputs": [
    {
     "data": {
      "text/html": [
       "<div>\n",
       "<style scoped>\n",
       "    .dataframe tbody tr th:only-of-type {\n",
       "        vertical-align: middle;\n",
       "    }\n",
       "\n",
       "    .dataframe tbody tr th {\n",
       "        vertical-align: top;\n",
       "    }\n",
       "\n",
       "    .dataframe thead th {\n",
       "        text-align: right;\n",
       "    }\n",
       "</style>\n",
       "<table border=\"1\" class=\"dataframe\">\n",
       "  <thead>\n",
       "    <tr style=\"text-align: right;\">\n",
       "      <th></th>\n",
       "      <th>course_id</th>\n",
       "      <th>student_id</th>\n",
       "    </tr>\n",
       "  </thead>\n",
       "  <tbody>\n",
       "    <tr>\n",
       "      <th>0</th>\n",
       "      <td>1</td>\n",
       "      <td>1</td>\n",
       "    </tr>\n",
       "    <tr>\n",
       "      <th>1</th>\n",
       "      <td>3</td>\n",
       "      <td>1</td>\n",
       "    </tr>\n",
       "    <tr>\n",
       "      <th>2</th>\n",
       "      <td>4</td>\n",
       "      <td>1</td>\n",
       "    </tr>\n",
       "    <tr>\n",
       "      <th>3</th>\n",
       "      <td>1</td>\n",
       "      <td>2</td>\n",
       "    </tr>\n",
       "    <tr>\n",
       "      <th>4</th>\n",
       "      <td>2</td>\n",
       "      <td>2</td>\n",
       "    </tr>\n",
       "    <tr>\n",
       "      <th>5</th>\n",
       "      <td>1</td>\n",
       "      <td>3</td>\n",
       "    </tr>\n",
       "    <tr>\n",
       "      <th>6</th>\n",
       "      <td>2</td>\n",
       "      <td>4</td>\n",
       "    </tr>\n",
       "    <tr>\n",
       "      <th>7</th>\n",
       "      <td>4</td>\n",
       "      <td>4</td>\n",
       "    </tr>\n",
       "  </tbody>\n",
       "</table>\n",
       "</div>"
      ],
      "text/plain": [
       "   course_id  student_id\n",
       "0          1           1\n",
       "1          3           1\n",
       "2          4           1\n",
       "3          1           2\n",
       "4          2           2\n",
       "5          1           3\n",
       "6          2           4\n",
       "7          4           4"
      ]
     },
     "metadata": {},
     "output_type": "display_data"
    }
   ],
   "source": [
    "# Create the courses_students table\n",
    "conn.execute(\"DROP TABLE IF EXISTS courses_students;\");\n",
    "conn.execute(\"\"\"\n",
    "CREATE TABLE IF NOT EXISTS courses_students (\n",
    "    course_id INTEGER,\n",
    "    student_id INTEGER,\n",
    "    PRIMARY KEY (course_id, student_id)\n",
    ");\n",
    "\"\"\")\n",
    "\n",
    "# Populate the courses_students table\n",
    "conn.execute(\"\"\"\n",
    "INSERT INTO courses_students VALUES\n",
    "    (1, 1), (3, 1), (4, 1), (1, 2),\n",
    "    (2, 2), (1, 3), (2, 4), (4, 4);\n",
    "\"\"\")\n",
    "conn.commit()\n",
    "\n",
    "select(\"SELECT * FROM courses_students;\")"
   ]
  },
  {
   "cell_type": "markdown",
   "metadata": {},
   "source": [
    "Find all students who took a particular course (ART101). Get the student's name\n",
    "and the term."
   ]
  },
  {
   "cell_type": "code",
   "execution_count": 21,
   "metadata": {},
   "outputs": [
    {
     "data": {
      "text/html": [
       "<div>\n",
       "<style scoped>\n",
       "    .dataframe tbody tr th:only-of-type {\n",
       "        vertical-align: middle;\n",
       "    }\n",
       "\n",
       "    .dataframe tbody tr th {\n",
       "        vertical-align: top;\n",
       "    }\n",
       "\n",
       "    .dataframe thead th {\n",
       "        text-align: right;\n",
       "    }\n",
       "</style>\n",
       "<table border=\"1\" class=\"dataframe\">\n",
       "  <thead>\n",
       "    <tr style=\"text-align: right;\">\n",
       "      <th></th>\n",
       "      <th>name</th>\n",
       "      <th>quarter</th>\n",
       "    </tr>\n",
       "  </thead>\n",
       "  <tbody>\n",
       "    <tr>\n",
       "      <th>0</th>\n",
       "      <td>Anderson</td>\n",
       "      <td>Winter 2009</td>\n",
       "    </tr>\n",
       "    <tr>\n",
       "      <th>1</th>\n",
       "      <td>Jones</td>\n",
       "      <td>Fall 2008</td>\n",
       "    </tr>\n",
       "    <tr>\n",
       "      <th>2</th>\n",
       "      <td>Chen</td>\n",
       "      <td>Fall 2008</td>\n",
       "    </tr>\n",
       "  </tbody>\n",
       "</table>\n",
       "</div>"
      ],
      "text/plain": [
       "       name      quarter\n",
       "0  Anderson  Winter 2009\n",
       "1     Jones    Fall 2008\n",
       "2      Chen    Fall 2008"
      ]
     },
     "metadata": {},
     "output_type": "display_data"
    }
   ],
   "source": [
    "select(\"\"\"\n",
    "SELECT \n",
    "    s.name, \n",
    "    c.quarter\n",
    "FROM \n",
    "    courses AS c,\n",
    "    courses_students AS cs,\n",
    "    students AS s\n",
    "WHERE\n",
    "    c.number = 'ART101' AND\n",
    "    c.id = cs.course_id AND\n",
    "    cs.student_id = s.id;\n",
    "\"\"\")"
   ]
  },
  {
   "cell_type": "markdown",
   "metadata": {},
   "source": [
    "## Useful SQL functions"
   ]
  },
  {
   "cell_type": "code",
   "execution_count": 22,
   "metadata": {},
   "outputs": [
    {
     "data": {
      "text/html": [
       "<div>\n",
       "<style scoped>\n",
       "    .dataframe tbody tr th:only-of-type {\n",
       "        vertical-align: middle;\n",
       "    }\n",
       "\n",
       "    .dataframe tbody tr th {\n",
       "        vertical-align: top;\n",
       "    }\n",
       "\n",
       "    .dataframe thead th {\n",
       "        text-align: right;\n",
       "    }\n",
       "</style>\n",
       "<table border=\"1\" class=\"dataframe\">\n",
       "  <thead>\n",
       "    <tr style=\"text-align: right;\">\n",
       "      <th></th>\n",
       "      <th>numberofrows</th>\n",
       "    </tr>\n",
       "  </thead>\n",
       "  <tbody>\n",
       "    <tr>\n",
       "      <th>0</th>\n",
       "      <td>5</td>\n",
       "    </tr>\n",
       "  </tbody>\n",
       "</table>\n",
       "</div>"
      ],
      "text/plain": [
       "   numberofrows\n",
       "0             5"
      ]
     },
     "metadata": {},
     "output_type": "display_data"
    }
   ],
   "source": [
    "# Query the number of elements in a table (or any SELECT query)\n",
    "select(\"SELECT count(*) AS numberofrows FROM students;\")"
   ]
  },
  {
   "cell_type": "code",
   "execution_count": 23,
   "metadata": {},
   "outputs": [
    {
     "data": {
      "text/plain": [
       "5"
      ]
     },
     "execution_count": 23,
     "metadata": {},
     "output_type": "execute_result"
    }
   ],
   "source": [
    "# Get the number of elements in a table, and extract the value\n",
    "cur.execute(\"SELECT count(*) FROM students;\").fetchall()[0][0]"
   ]
  },
  {
   "cell_type": "code",
   "execution_count": 24,
   "metadata": {},
   "outputs": [
    {
     "data": {
      "text/html": [
       "<div>\n",
       "<style scoped>\n",
       "    .dataframe tbody tr th:only-of-type {\n",
       "        vertical-align: middle;\n",
       "    }\n",
       "\n",
       "    .dataframe tbody tr th {\n",
       "        vertical-align: top;\n",
       "    }\n",
       "\n",
       "    .dataframe thead th {\n",
       "        text-align: right;\n",
       "    }\n",
       "</style>\n",
       "<table border=\"1\" class=\"dataframe\">\n",
       "  <thead>\n",
       "    <tr style=\"text-align: right;\">\n",
       "      <th></th>\n",
       "      <th>name</th>\n",
       "    </tr>\n",
       "  </thead>\n",
       "  <tbody>\n",
       "    <tr>\n",
       "      <th>0</th>\n",
       "      <td>Anderson</td>\n",
       "    </tr>\n",
       "    <tr>\n",
       "      <th>1</th>\n",
       "      <td>Jones</td>\n",
       "    </tr>\n",
       "    <tr>\n",
       "      <th>2</th>\n",
       "      <td>Hernandez</td>\n",
       "    </tr>\n",
       "    <tr>\n",
       "      <th>3</th>\n",
       "      <td>Chen</td>\n",
       "    </tr>\n",
       "    <tr>\n",
       "      <th>4</th>\n",
       "      <td>Ahmet</td>\n",
       "    </tr>\n",
       "  </tbody>\n",
       "</table>\n",
       "</div>"
      ],
      "text/plain": [
       "        name\n",
       "0   Anderson\n",
       "1      Jones\n",
       "2  Hernandez\n",
       "3       Chen\n",
       "4      Ahmet"
      ]
     },
     "metadata": {},
     "output_type": "display_data"
    },
    {
     "data": {
      "text/html": [
       "<div>\n",
       "<style scoped>\n",
       "    .dataframe tbody tr th:only-of-type {\n",
       "        vertical-align: middle;\n",
       "    }\n",
       "\n",
       "    .dataframe tbody tr th {\n",
       "        vertical-align: top;\n",
       "    }\n",
       "\n",
       "    .dataframe thead th {\n",
       "        text-align: right;\n",
       "    }\n",
       "</style>\n",
       "<table border=\"1\" class=\"dataframe\">\n",
       "  <thead>\n",
       "    <tr style=\"text-align: right;\">\n",
       "      <th></th>\n",
       "      <th>name</th>\n",
       "      <th>count(*)</th>\n",
       "    </tr>\n",
       "  </thead>\n",
       "  <tbody>\n",
       "    <tr>\n",
       "      <th>0</th>\n",
       "      <td>Finger painting</td>\n",
       "      <td>2</td>\n",
       "    </tr>\n",
       "    <tr>\n",
       "      <th>1</th>\n",
       "      <td>Mud wrestling</td>\n",
       "      <td>1</td>\n",
       "    </tr>\n",
       "    <tr>\n",
       "      <th>2</th>\n",
       "      <td>Web Stuff</td>\n",
       "      <td>1</td>\n",
       "    </tr>\n",
       "  </tbody>\n",
       "</table>\n",
       "</div>"
      ],
      "text/plain": [
       "              name  count(*)\n",
       "0  Finger painting         2\n",
       "1    Mud wrestling         1\n",
       "2        Web Stuff         1"
      ]
     },
     "metadata": {},
     "output_type": "display_data"
    }
   ],
   "source": [
    "select(\"SELECT name FROM students;\")\n",
    "\n",
    "select(\"SELECT name, count(*) FROM courses GROUP BY name;\")"
   ]
  },
  {
   "cell_type": "code",
   "execution_count": 25,
   "metadata": {},
   "outputs": [
    {
     "data": {
      "text/html": [
       "<div>\n",
       "<style scoped>\n",
       "    .dataframe tbody tr th:only-of-type {\n",
       "        vertical-align: middle;\n",
       "    }\n",
       "\n",
       "    .dataframe tbody tr th {\n",
       "        vertical-align: top;\n",
       "    }\n",
       "\n",
       "    .dataframe thead th {\n",
       "        text-align: right;\n",
       "    }\n",
       "</style>\n",
       "<table border=\"1\" class=\"dataframe\">\n",
       "  <thead>\n",
       "    <tr style=\"text-align: right;\">\n",
       "      <th></th>\n",
       "      <th>name</th>\n",
       "    </tr>\n",
       "  </thead>\n",
       "  <tbody>\n",
       "    <tr>\n",
       "      <th>0</th>\n",
       "      <td>Web Stuff</td>\n",
       "    </tr>\n",
       "    <tr>\n",
       "      <th>1</th>\n",
       "      <td>Finger painting</td>\n",
       "    </tr>\n",
       "    <tr>\n",
       "      <th>2</th>\n",
       "      <td>Mud wrestling</td>\n",
       "    </tr>\n",
       "  </tbody>\n",
       "</table>\n",
       "</div>"
      ],
      "text/plain": [
       "              name\n",
       "0        Web Stuff\n",
       "1  Finger painting\n",
       "2    Mud wrestling"
      ]
     },
     "metadata": {},
     "output_type": "display_data"
    }
   ],
   "source": [
    "select(\"SELECT distinct(name) FROM courses;\")"
   ]
  },
  {
   "cell_type": "code",
   "execution_count": 26,
   "metadata": {},
   "outputs": [],
   "source": [
    "# Close the connection to the database\n",
    "conn.close()"
   ]
  },
  {
   "cell_type": "markdown",
   "metadata": {},
   "source": [
    "## More Examples"
   ]
  },
  {
   "cell_type": "code",
   "execution_count": 37,
   "metadata": {},
   "outputs": [
    {
     "name": "stdout",
     "output_type": "stream",
     "text": [
      "[b'cfa-miR-1185', b'XM_537211', b'59.3438099752']\n",
      "[b'cfa-miR-1185', b'XM_536047', b'54.527']\n",
      "[b'cfa-miR-1185', b'XM_005617022', b'55.1716326075']\n",
      "[b'cfa-miR-1185', b'XM_014117861', b'57.4409058608']\n",
      "[b'cfa-miR-1185', b'XM_014107884', b'57.1519']\n",
      "[b'cfa-miR-1185', b'XM_005626419', b'67.0536']\n",
      "[b'cfa-miR-1185', b'XM_005618203', b'62.64']\n",
      "[b'cfa-miR-1185', b'NM_001252367', b'58.9597687709186']\n",
      "[b'cfa-miR-1185', b'XM_005621885', b'78.529415636']\n",
      "[b'cfa-miR-1185', b'XM_005622017', b'58.8579982864']\n",
      "[b'cfa-miR-1185', b'XM_014116884', b'73.0734']\n",
      "[b'cfa-miR-1185', b'XM_005628297', b'62.3335']\n"
     ]
    }
   ],
   "source": [
    "# Download the a gzfile from MiRDB and read it line by line\n",
    "url = \"http://mirdb.org/download/miRDB_v6.0_prediction_result.txt.gz\"\n",
    "gzfile = '/mnt/z/db/miRDB_v6.0_prediction_result.txt.gz'\n",
    "if not os.path.exists(gzfile):\n",
    "    urlretrieve(url, '/mnt/z/db/miRDB_v6.0_prediction_result.txt.gz');\n",
    "\n",
    "with gzip.open(gzfile, 'rb') as file:\n",
    "    for i, line in enumerate(file):\n",
    "        parts = line.strip().split(b'\\t')\n",
    "        print(parts)\n",
    "        if i > 10: break"
   ]
  },
  {
   "cell_type": "code",
   "execution_count": 48,
   "metadata": {},
   "outputs": [
    {
     "data": {
      "text/html": [
       "<div>\n",
       "<style scoped>\n",
       "    .dataframe tbody tr th:only-of-type {\n",
       "        vertical-align: middle;\n",
       "    }\n",
       "\n",
       "    .dataframe tbody tr th {\n",
       "        vertical-align: top;\n",
       "    }\n",
       "\n",
       "    .dataframe thead th {\n",
       "        text-align: right;\n",
       "    }\n",
       "</style>\n",
       "<table border=\"1\" class=\"dataframe\">\n",
       "  <thead>\n",
       "    <tr style=\"text-align: right;\">\n",
       "      <th></th>\n",
       "      <th>id</th>\n",
       "      <th>miRNA</th>\n",
       "      <th>target</th>\n",
       "      <th>score</th>\n",
       "    </tr>\n",
       "  </thead>\n",
       "  <tbody>\n",
       "    <tr>\n",
       "      <th>0</th>\n",
       "      <td>75</td>\n",
       "      <td>cfa-miR-1185</td>\n",
       "      <td>XM_014111090</td>\n",
       "      <td>99.789705</td>\n",
       "    </tr>\n",
       "    <tr>\n",
       "      <th>1</th>\n",
       "      <td>83</td>\n",
       "      <td>cfa-miR-1185</td>\n",
       "      <td>XM_014111088</td>\n",
       "      <td>99.789705</td>\n",
       "    </tr>\n",
       "    <tr>\n",
       "      <th>2</th>\n",
       "      <td>51</td>\n",
       "      <td>cfa-miR-1185</td>\n",
       "      <td>XM_014118084</td>\n",
       "      <td>96.147970</td>\n",
       "    </tr>\n",
       "    <tr>\n",
       "      <th>3</th>\n",
       "      <td>87</td>\n",
       "      <td>cfa-miR-1185</td>\n",
       "      <td>XM_005622060</td>\n",
       "      <td>95.684780</td>\n",
       "    </tr>\n",
       "    <tr>\n",
       "      <th>4</th>\n",
       "      <td>22</td>\n",
       "      <td>cfa-miR-1185</td>\n",
       "      <td>XM_005625976</td>\n",
       "      <td>95.245695</td>\n",
       "    </tr>\n",
       "    <tr>\n",
       "      <th>5</th>\n",
       "      <td>95</td>\n",
       "      <td>cfa-miR-1185</td>\n",
       "      <td>XM_005617350</td>\n",
       "      <td>94.655800</td>\n",
       "    </tr>\n",
       "    <tr>\n",
       "      <th>6</th>\n",
       "      <td>88</td>\n",
       "      <td>cfa-miR-1185</td>\n",
       "      <td>XM_005629955</td>\n",
       "      <td>94.571031</td>\n",
       "    </tr>\n",
       "    <tr>\n",
       "      <th>7</th>\n",
       "      <td>70</td>\n",
       "      <td>cfa-miR-1185</td>\n",
       "      <td>XM_014118154</td>\n",
       "      <td>93.669588</td>\n",
       "    </tr>\n",
       "    <tr>\n",
       "      <th>8</th>\n",
       "      <td>54</td>\n",
       "      <td>cfa-miR-1185</td>\n",
       "      <td>XM_847370</td>\n",
       "      <td>92.766990</td>\n",
       "    </tr>\n",
       "    <tr>\n",
       "      <th>9</th>\n",
       "      <td>89</td>\n",
       "      <td>cfa-miR-1185</td>\n",
       "      <td>XM_005621823</td>\n",
       "      <td>91.587840</td>\n",
       "    </tr>\n",
       "  </tbody>\n",
       "</table>\n",
       "</div>"
      ],
      "text/plain": [
       "   id         miRNA        target      score\n",
       "0  75  cfa-miR-1185  XM_014111090  99.789705\n",
       "1  83  cfa-miR-1185  XM_014111088  99.789705\n",
       "2  51  cfa-miR-1185  XM_014118084  96.147970\n",
       "3  87  cfa-miR-1185  XM_005622060  95.684780\n",
       "4  22  cfa-miR-1185  XM_005625976  95.245695\n",
       "5  95  cfa-miR-1185  XM_005617350  94.655800\n",
       "6  88  cfa-miR-1185  XM_005629955  94.571031\n",
       "7  70  cfa-miR-1185  XM_014118154  93.669588\n",
       "8  54  cfa-miR-1185     XM_847370  92.766990\n",
       "9  89  cfa-miR-1185  XM_005621823  91.587840"
      ]
     },
     "metadata": {},
     "output_type": "display_data"
    }
   ],
   "source": [
    "# Create a database to store the data\n",
    "DB_PATH = pathlib.Path('/mnt/z/db/mirdb_test.sqlite')\n",
    "\n",
    "conn = sqlite3.connect( DB_PATH )\n",
    "cur = conn.cursor()\n",
    "\n",
    "# Create a table to store the data\n",
    "cur.execute(\"\"\"\n",
    "DROP TABLE IF EXISTS mirdb_predicted;\n",
    "\"\"\")\n",
    "\n",
    "conn.execute(\"\"\"\n",
    "CREATE TABLE IF NOT EXISTS mirdb_predicted (\n",
    "    id INTEGER PRIMARY KEY,\n",
    "    miRNA VARCHAR(30) COLLATE NOCASE,\n",
    "    target VARCHAR(30) COLLATE NOCASE,\n",
    "    score FLOAT\n",
    ")\n",
    "\"\"\")\n",
    "\n",
    "# Read the gzfile line by line and insert the data into the database\n",
    "with gzip.open(gzfile, 'rb') as file:\n",
    "    for i, line in enumerate(file):\n",
    "        parts = line.strip().split(b'\\t')\n",
    "\n",
    "        cur.execute(f\"\"\"\n",
    "            INSERT INTO mirdb_predicted (miRNA, target, score) VALUES\n",
    "            ('%s', '%s', '%f');\n",
    "        \"\"\" % (parts[0].decode('utf-8'), parts[1].decode('utf-8'), float(parts[2])))\n",
    "\n",
    "        if i == 100: \n",
    "            conn.commit()    \n",
    "            break\n",
    "\n",
    "# Look at the data\n",
    "select(\"SELECT * FROM mirdb_predicted ORDER BY score DESC LIMIT 10;\")\n",
    "\n",
    "# Close the connection when done so the connection is \"released\"\n",
    "conn.close()"
   ]
  }
 ],
 "metadata": {
  "kernelspec": {
   "display_name": "biomech",
   "language": "python",
   "name": "python3"
  },
  "language_info": {
   "codemirror_mode": {
    "name": "ipython",
    "version": 3
   },
   "file_extension": ".py",
   "mimetype": "text/x-python",
   "name": "python",
   "nbconvert_exporter": "python",
   "pygments_lexer": "ipython3",
   "version": "3.9.13"
  },
  "vscode": {
   "interpreter": {
    "hash": "1800bda38069836c44f080450a4d0ec8dc666f21d6ece1bd217e9dbcf4c3078a"
   }
  }
 },
 "nbformat": 4,
 "nbformat_minor": 2
}
