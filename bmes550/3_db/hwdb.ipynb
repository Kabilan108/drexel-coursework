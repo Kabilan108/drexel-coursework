{
 "cells": [
  {
   "cell_type": "markdown",
   "metadata": {},
   "source": [
    "# Database Homework\n",
    "\n",
    "* Enter Sudent Name: \n",
    "* Enter Date:\n",
    "\n"
   ]
  },
  {
   "cell_type": "code",
   "execution_count": 3,
   "metadata": {},
   "outputs": [
    {
     "name": "stdout",
     "output_type": "stream",
     "text": [
      "The autoreload extension is already loaded. To reload it, use:\n",
      "  %reload_ext autoreload\n"
     ]
    }
   ],
   "source": [
    "# When you load this file in Jupyter, you need to use Cell->RunAll to make the instructor-provided code to take effect.\n",
    "\n",
    "%load_ext autoreload\n",
    "%autoreload 2\n",
    "\n",
    "import sys,os; sys.path.append(os.environ['BMESAHMETDIR']); import bmes\n",
    "# If you cannot set the BMESAHMETDIR environment variable to point at the bmes.ahmet/ shared folder,\n",
    "# you may alternatively use the following code, and if that doesn't work either, you may hard-code\n",
    "# the bmes.ahmet/ folder path.\n",
    "#from pathlib import Path; import sys,os; sys.path.append(str(Path.home())+'/Dropbox/bmes.ahmet'); import bmes\n",
    "\n",
    "\n",
    "import sqlite3"
   ]
  },
  {
   "cell_type": "markdown",
   "metadata": {},
   "source": [
    "## Yeast apoptosis genes (10pt)\n",
    "Write a GO query to find the names of yeast genes that are associated with \"execution phase of apoptosis\". Here, we define \"yeast\" as any organism under the genus Saccharomyces.\n",
    "\n",
    "* Fetch the results of your GO query from the web and display them as output from your python/Matlab code."
   ]
  },
  {
   "cell_type": "code",
   "execution_count": 4,
   "metadata": {},
   "outputs": [
    {
     "name": "stdout",
     "output_type": "stream",
     "text": [
      "C:/Users/ahmet/Downloads/godb.sqlite\n"
     ]
    }
   ],
   "source": [
    "#This is a large file and the download may take a minute.\n",
    "godbfile = bmes.downloadurl('http://sacan.biomed.drexel.edu/ftp/binf/godb.sqlite')\n",
    "print(godbfile)"
   ]
  },
  {
   "cell_type": "markdown",
   "metadata": {},
   "source": [
    "## mirdb (60pt)\n",
    "\n",
    "### Download file & Set up db connection\n",
    "This section is sufficient for downloading the data file and setting up the database connection. You may make changes/improvements or keep it as is.\n",
    "\n",
    "In the remainder of this problem, you need to use the mirtxtfile and db variables created here.\n"
   ]
  },
  {
   "cell_type": "code",
   "execution_count": 7,
   "metadata": {},
   "outputs": [],
   "source": [
    "mirurl='http://sacan.biomed.drexel.edu/lib/exe/fetch.php?rev=&media=course:bcomp2:db:homework_mirdb_dog75.txt';\n",
    "mirtxtfile=bmes.downloadurl(mirurl,'mirdb_dog75.txt')\n",
    "\n",
    "mirdbfile=bmes.datadir()+'/mirdb_dog.sqlite'\n",
    "db = sqlite3.connect(mirdbfile)"
   ]
  },
  {
   "cell_type": "markdown",
   "metadata": {},
   "source": [
    "##  (30pt) Create a database from mirdb data.\n",
    "* Any downloaded files should be stored elsewhere on your computer (i.e., in a \"Temporary\" directory). \n",
    "* Store the database elsewhere (in \"Temporary\" directory) on your computer; not within the same folder as your assignment. \n"
   ]
  },
  {
   "cell_type": "code",
   "execution_count": null,
   "metadata": {},
   "outputs": [],
   "source": [
    "\n"
   ]
  },
  {
   "cell_type": "code",
   "execution_count": 14,
   "metadata": {},
   "outputs": [],
   "source": [
    "#% If your database creation code does not work, you may use a database\n",
    "#% created by the instructor. Uncomment the following lines to use the\n",
    "#% instructor's database. If you are using the instructor's database, we\n",
    "#% will assume that your database creation code does not work.\n",
    "\n",
    "#mirdbfile='http://sacan.biomed.drexel.edu/lib/exe/fetch.php?rev=&media=course:bcomp2:db:homework_mirdb_dog.sqlite';\n",
    "#mirdbfile=bmes.downloadurl(mirdbfile);\n",
    "#db = sqlite3.connect(mirdbfile)"
   ]
  },
  {
   "cell_type": "markdown",
   "metadata": {},
   "source": [
    "### (10pt) Find miRNAs for a target"
   ]
  },
  {
   "cell_type": "code",
   "execution_count": 15,
   "metadata": {},
   "outputs": [],
   "source": [
    "#% * How many miRNAs are predicted to target XM_532324  ?\n",
    "\n",
    "\n"
   ]
  },
  {
   "cell_type": "code",
   "execution_count": 16,
   "metadata": {},
   "outputs": [],
   "source": [
    "#%  * Show at most 10 miRNAs that are predicted to target XM_532324.\n",
    "\n",
    "\n"
   ]
  },
  {
   "cell_type": "markdown",
   "metadata": {},
   "source": [
    "### (10pt) Find targets for a miRNA"
   ]
  },
  {
   "cell_type": "code",
   "execution_count": 17,
   "metadata": {},
   "outputs": [],
   "source": [
    "#% * How many predicted targets of cfa-let-7a have a prediction score of at least 80?\n",
    "\n",
    "\n"
   ]
  },
  {
   "cell_type": "code",
   "execution_count": 18,
   "metadata": {},
   "outputs": [],
   "source": [
    "#% * Show at most 10 predicted targets of cfa-let-7a that have a prediction score of at least 80.\n",
    "\n",
    "\n"
   ]
  },
  {
   "cell_type": "markdown",
   "metadata": {},
   "source": [
    "### (10pt) Summarize miRNAs and target counts"
   ]
  },
  {
   "cell_type": "code",
   "execution_count": 8,
   "metadata": {},
   "outputs": [],
   "source": [
    "#% * List the miRNAs and the number of their targets.\n",
    "#(Each row of the result should contain a distinct miRNA). \n",
    "#(Use count() and GROUP BY). Show only top 10 rows of the result.\n",
    "\n",
    "\n",
    "\n"
   ]
  },
  {
   "cell_type": "markdown",
   "metadata": {},
   "source": [
    "# Performance Comparison - Excel vs. Database (20pt)\n",
    "In this section, you are asked to compare the performance of adding & retrieving data in a database table vs. in an Excel file."
   ]
  },
  {
   "cell_type": "code",
   "execution_count": 14,
   "metadata": {},
   "outputs": [],
   "source": [
    "def randomname():\n",
    "    import random; import string\n",
    "    return ''.join(random.choices(string.ascii_uppercase+string.ascii_lowercase,16))\n",
    "\n",
    "xlsfile = bmes.tempdir()+'/hwdb_performance.xlsx';\n",
    "dbfile = bmes.tempdir()+'/hwdb_performance.sqlite';\n",
    "\n",
    "#% Delete the files if they are there, so the performance analysis can start\n",
    "#% fresh. You may need to \"clear all\" (or even restart Matlab) if your code\n",
    "#% has stopped prematurely and you have lingering Excel or Database\n",
    "#% connections preventing these files from being deleted.\n",
    "if bmes.isfile(xlsfile): import os; os.remove(xlsfile);\n",
    "if bmes.isfile(dbfile):  import os; os.remove(dbfile);"
   ]
  },
  {
   "cell_type": "markdown",
   "metadata": {},
   "source": [
    "Create an external file xls_insertname.py for the function xls_insertname(xlsfile, name) that :\n",
    "* Creates the Excel file xlsfile if it does not already exist and writes the header row containing \"id\" and \"name\" (without the quotes) as the column names.\n",
    "* Adds the name to the Excel file as a new row, along with its id. You need to automatically determine a unique integer id for this new name being added (similar to SQL's auto-increment feature).\n",
    "* Returns the total number of names in the table (not including the header row, but including the new row that you just added)."
   ]
  },
  {
   "cell_type": "code",
   "execution_count": null,
   "metadata": {},
   "outputs": [],
   "source": [
    "#% Testing the xls_insertname() to make sure it works:\n",
    "from xls_insertname import xls_insertname\n",
    "print(xls_insertname(xlsfile, randomname()))\n",
    "print(xls_insertname(xlsfile, randomname()))"
   ]
  },
  {
   "cell_type": "markdown",
   "metadata": {},
   "source": [
    "Create an external file db_insertname.py for the function db_insertname(dbfile, name) that :\n",
    "* Creates the database table \"names\" if the database or the table does not already exist. The table needs to have the columns \"id\" and \"name\" (without the quotes).\n",
    "* Adds the name to the names table as a new row. You should not identify the id of this new row yourserlf, but need to have the database automatically identify the id.\n",
    "* You may assume that name will be at most 16 characters.\n",
    "* Returns the total number of names in the table (not including the header row, but including the new row that you just added)."
   ]
  },
  {
   "cell_type": "code",
   "execution_count": null,
   "metadata": {},
   "outputs": [],
   "source": [
    "#% Testing the db_insertname() to make sure it works:\n",
    "from db_insertname import db_insertname\n",
    "print(db_insertname(dbfile, randomname()))\n",
    "print(db_insertname(dbfile, randomname()))"
   ]
  },
  {
   "cell_type": "markdown",
   "metadata": {},
   "source": [
    "### Run & time multiple inserts"
   ]
  },
  {
   "cell_type": "code",
   "execution_count": 20,
   "metadata": {},
   "outputs": [],
   "source": [
    "#Use bmes.tic() & bmes.toc() to identify how long it takes to make 1000 insertions of random 16-character\n",
    "#names using xls_insertname(). Report the total elapsed time.\n"
   ]
  },
  {
   "cell_type": "code",
   "execution_count": null,
   "metadata": {},
   "outputs": [],
   "source": [
    "#Use tic() & toc() to identify how long it takes to make 1000 insertions of random 16-character\n",
    "#names using db_insertname(). Report the total elapsed time.\n"
   ]
  }
 ],
 "metadata": {
  "kernelspec": {
   "display_name": "bmes550",
   "language": "python",
   "name": "python3"
  },
  "language_info": {
   "codemirror_mode": {
    "name": "ipython",
    "version": 3
   },
   "file_extension": ".py",
   "mimetype": "text/x-python",
   "name": "python",
   "nbconvert_exporter": "python",
   "pygments_lexer": "ipython3",
   "version": "3.10.4 (main, Mar 31 2022, 08:41:55) [GCC 7.5.0]"
  },
  "vscode": {
   "interpreter": {
    "hash": "e5c6703229e3dd9c482a1c23a1113da71743e131711127bdfb687457b67b9590"
   }
  }
 },
 "nbformat": 4,
 "nbformat_minor": 2
}
