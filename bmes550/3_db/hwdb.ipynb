{
 "cells": [
  {
   "cell_type": "markdown",
   "metadata": {},
   "source": [
    "# Database Homework\n",
    "\n",
    "**Authors:** [Tony Kabilan Okeke](mailto:tko35@drexel.edu),\n",
    "  [Cooper Molloy](mailto:cdm348@drexel.edu)  \n",
    "**Date:** October 22, 2022"
   ]
  },
  {
   "cell_type": "code",
   "execution_count": 1,
   "metadata": {},
   "outputs": [],
   "source": [
    "# Notebook set up\n",
    "%load_ext autoreload\n",
    "%autoreload 2\n",
    "\n",
    "# Import libraries\n",
    "from urllib.request import urlretrieve\n",
    "from pathlib import Path\n",
    "import pandas as pd\n",
    "import sqlite3\n",
    "import random\n",
    "import string\n",
    "\n",
    "# Import BMES module\n",
    "import sys, os\n",
    "sys.path.append(os.environ['BMESAHMETDIR'])\n",
    "import bmes"
   ]
  },
  {
   "cell_type": "code",
   "execution_count": 2,
   "metadata": {},
   "outputs": [],
   "source": [
    "# Function Definitions\n",
    "\n",
    "def downloadurl(url, filename=''):\n",
    "    \"\"\"\n",
    "    Download a file from a url and save it as filename.\n",
    "    bmes.downloadurl generates errors on my machine, so I wrote my own.\n",
    "    \"\"\"\n",
    "\n",
    "    if not filename:\n",
    "        filename = url.split('/')[-1]\n",
    "    path = (Path(bmes.datadir()) / filename).resolve()\n",
    "    if not path.exists():\n",
    "        urlretrieve(url, path)\n",
    "    return path.__str__()\n",
    "\n",
    "\n",
    "def select(conn, query, show=False):\n",
    "    \"\"\"\n",
    "    Run a SELECT query and return the results as a pandas DataFrame\n",
    "    \"\"\"\n",
    "    \n",
    "    cur = conn.cursor()\n",
    "    cur.execute(query);\n",
    "    rows = cur.fetchall()\n",
    "    if len(rows) == 0:\n",
    "        print(\"No rows returned for query\")\n",
    "        return None\n",
    "    else:\n",
    "        df = pd.DataFrame(rows)\n",
    "        df.columns = [x[0] for x in cur.description]\n",
    "        if show: display(df)\n",
    "        return df\n",
    "\n",
    "\n",
    "def randomname():\n",
    "    \"\"\"\n",
    "    Generate a random name\n",
    "    \"\"\"\n",
    "\n",
    "    characters = string.ascii_letters + string.ascii_lowercase\n",
    "    return ''.join(random.choices(characters, k=16))"
   ]
  },
  {
   "cell_type": "markdown",
   "metadata": {},
   "source": [
    "## [20pt]  Yeast Apoptosis Genes\n",
    "\n",
    "Write a GO query to find the names of yeast genes that are associated with the\n",
    "\"execution phase of apoptosis\". Here, we define \"yeast\" as any organism under \n",
    "the genus '*Saccharomyces*'.\n",
    "\n",
    "* Fetch the results of your GO query from the web and display them as output \n",
    "  from your python/Matlab code."
   ]
  },
  {
   "cell_type": "code",
   "execution_count": 3,
   "metadata": {},
   "outputs": [
    {
     "name": "stdout",
     "output_type": "stream",
     "text": [
      "\n",
      "The following genes were fount to be associated with the \"execution\n",
      "phase of apoptosis\" in yeast (Genus: Saccharomyces):\n",
      "\n",
      "NUC1, YBL055C\n"
     ]
    }
   ],
   "source": [
    "# Download the database\n",
    "URL = \"http://sacan.biomed.drexel.edu/ftp/binf/godb.sqlite\"\n",
    "godbfile = downloadurl(URL)\n",
    "\n",
    "# Query the database\n",
    "db = sqlite3.connect(godbfile)\n",
    "df = select(db, \"\"\"\n",
    "    SELECT DISTINCT(GENE.symbol)\n",
    "    FROM\n",
    "        term AS T1,\n",
    "        graph_path AS GP,\n",
    "        term AS T2,\n",
    "        association AS A,\n",
    "        gene_product AS GENE,\n",
    "        species AS S\n",
    "    WHERE\n",
    "        T1.name LIKE \"%execution phase of apoptosis%\" AND\n",
    "        GP.term1_id = T1.id AND\n",
    "        T2.id = GP.term2_id AND\n",
    "        A.term_id = T2.id AND\n",
    "        GENE.id = A.gene_product_id AND\n",
    "        S.genus = \"Saccharomyces\" AND\n",
    "        GENE.species_id = S.id\n",
    "\"\"\")\n",
    "db.close()\n",
    "\n",
    "print(f\"\"\"\n",
    "The following genes were fount to be associated with the \"execution\n",
    "phase of apoptosis\" in yeast (Genus: Saccharomyces):\n",
    "\"\"\")\n",
    "print(', '.join(df['symbol']))"
   ]
  },
  {
   "cell_type": "markdown",
   "metadata": {},
   "source": [
    "## [60pt]  mirdb\n",
    "\n",
    "### Download file & Set up db connection\n",
    "\n",
    "This section is sufficient for downloading the data file and setting up the \n",
    "database connection. You may make changes/improvements or keep it as is.\n",
    "\n",
    "In the remainder of this problem, you need to use the `mirtxtfile` and `db` \n",
    "variables created here."
   ]
  },
  {
   "cell_type": "code",
   "execution_count": 4,
   "metadata": {},
   "outputs": [],
   "source": [
    "# Download the database\n",
    "URL = 'http://sacan.biomed.drexel.edu/lib/exe/fetch.php?rev=&media=course:bcomp2:db:homework_mirdb_dog75.txt'\n",
    "mirtxtfile = downloadurl(URL, 'mirdb_dog75.txt')\n",
    "\n",
    "# Connect to the database\n",
    "mirdbfile = bmes.datadir() + '/mirdb_dog.sqlite'\n",
    "db = sqlite3.connect(mirdbfile)"
   ]
  },
  {
   "cell_type": "markdown",
   "metadata": {},
   "source": [
    "### [30 pt]  Create a Database from the mirdb Data\n",
    "\n",
    "* Any downloaded files should be stored elsewhere on your computer (i.e., in a\n",
    "  \"Temporary\" directory). \n",
    "* Store the database elsewhere (in \"Temporary\" directory) on your computer; not \n",
    "  within the same folder as your assignment. \n",
    "\n",
    "**Note:** If your database creation code does not work, you may use a database\n",
    "created by the instructor."
   ]
  },
  {
   "cell_type": "code",
   "execution_count": 5,
   "metadata": {},
   "outputs": [],
   "source": [
    "# Uncomment the followind lines to use the instructor's database. If you \n",
    "# are using the instructor's database, we will assume that your database \n",
    "# creation code is does not work.\n",
    "\n",
    "# mirdbfile='http://sacan.biomed.drexel.edu/lib/exe/fetch.php?rev=&media=course:bcomp2:db:homework_mirdb_dog.sqlite';\n",
    "# mirdbfile=downloadurl(mirdbfile);\n",
    "# db = sqlite3.connect(mirdbfile)"
   ]
  },
  {
   "cell_type": "code",
   "execution_count": 9,
   "metadata": {},
   "outputs": [
    {
     "data": {
      "text/html": [
       "<div>\n",
       "<style scoped>\n",
       "    .dataframe tbody tr th:only-of-type {\n",
       "        vertical-align: middle;\n",
       "    }\n",
       "\n",
       "    .dataframe tbody tr th {\n",
       "        vertical-align: top;\n",
       "    }\n",
       "\n",
       "    .dataframe thead th {\n",
       "        text-align: right;\n",
       "    }\n",
       "</style>\n",
       "<table border=\"1\" class=\"dataframe\">\n",
       "  <thead>\n",
       "    <tr style=\"text-align: right;\">\n",
       "      <th></th>\n",
       "      <th>mirna</th>\n",
       "      <th>target</th>\n",
       "      <th>score</th>\n",
       "    </tr>\n",
       "  </thead>\n",
       "  <tbody>\n",
       "    <tr>\n",
       "      <th>0</th>\n",
       "      <td>cfa-miR-133b</td>\n",
       "      <td>XM_014115527</td>\n",
       "      <td>77.9277</td>\n",
       "    </tr>\n",
       "    <tr>\n",
       "      <th>1</th>\n",
       "      <td>cfa-miR-133b</td>\n",
       "      <td>NM_001003204</td>\n",
       "      <td>89.6964</td>\n",
       "    </tr>\n",
       "    <tr>\n",
       "      <th>2</th>\n",
       "      <td>cfa-miR-133b</td>\n",
       "      <td>XM_005615722</td>\n",
       "      <td>89.6925</td>\n",
       "    </tr>\n",
       "    <tr>\n",
       "      <th>3</th>\n",
       "      <td>cfa-miR-133b</td>\n",
       "      <td>XM_014112508</td>\n",
       "      <td>77.1277</td>\n",
       "    </tr>\n",
       "    <tr>\n",
       "      <th>4</th>\n",
       "      <td>cfa-miR-133b</td>\n",
       "      <td>XM_014120898</td>\n",
       "      <td>79.1733</td>\n",
       "    </tr>\n",
       "    <tr>\n",
       "      <th>5</th>\n",
       "      <td>cfa-miR-133b</td>\n",
       "      <td>XM_546818</td>\n",
       "      <td>95.5241</td>\n",
       "    </tr>\n",
       "    <tr>\n",
       "      <th>6</th>\n",
       "      <td>cfa-miR-133b</td>\n",
       "      <td>XM_014109410</td>\n",
       "      <td>75.0686</td>\n",
       "    </tr>\n",
       "    <tr>\n",
       "      <th>7</th>\n",
       "      <td>cfa-miR-133b</td>\n",
       "      <td>XM_014120614</td>\n",
       "      <td>98.5764</td>\n",
       "    </tr>\n",
       "    <tr>\n",
       "      <th>8</th>\n",
       "      <td>cfa-miR-133b</td>\n",
       "      <td>XM_005640208</td>\n",
       "      <td>94.9956</td>\n",
       "    </tr>\n",
       "    <tr>\n",
       "      <th>9</th>\n",
       "      <td>cfa-miR-133b</td>\n",
       "      <td>XM_846751</td>\n",
       "      <td>77.7379</td>\n",
       "    </tr>\n",
       "  </tbody>\n",
       "</table>\n",
       "</div>"
      ],
      "text/plain": [
       "          mirna        target    score\n",
       "0  cfa-miR-133b  XM_014115527  77.9277\n",
       "1  cfa-miR-133b  NM_001003204  89.6964\n",
       "2  cfa-miR-133b  XM_005615722  89.6925\n",
       "3  cfa-miR-133b  XM_014112508  77.1277\n",
       "4  cfa-miR-133b  XM_014120898  79.1733\n",
       "5  cfa-miR-133b     XM_546818  95.5241\n",
       "6  cfa-miR-133b  XM_014109410  75.0686\n",
       "7  cfa-miR-133b  XM_014120614  98.5764\n",
       "8  cfa-miR-133b  XM_005640208  94.9956\n",
       "9  cfa-miR-133b     XM_846751  77.7379"
      ]
     },
     "metadata": {},
     "output_type": "display_data"
    }
   ],
   "source": [
    "# Delete the table if it already exists\n",
    "db.execute(\"DROP TABLE IF EXISTS mir2target\");\n",
    "\n",
    "# Create fresh mir2target table\n",
    "db.execute(\"\"\"\n",
    "    CREATE TABLE IF NOT EXISTS mir2target (\n",
    "        mirna TEXT(16) COLLATE NOCASE,\n",
    "        target TEXT (12) COLLATE NOCASE,\n",
    "        score FLOAT\n",
    ")\n",
    "\"\"\");\n",
    "\n",
    "# Populate the table with data from the text file\n",
    "with open(mirtxtfile, 'r') as file:\n",
    "    for line in file:\n",
    "        line = line.strip().split('\\t')\n",
    "        db.execute(\"INSERT INTO mir2target VALUES (?, ?, ?)\", line);\n",
    "\n",
    "db.commit();\n",
    "\n",
    "# Query the database to check that the data was loaded correctly\n",
    "select(db, show=True, query=\"\"\"\n",
    "    SELECT * FROM mir2target LIMIT 10\n",
    "\"\"\");"
   ]
  },
  {
   "cell_type": "markdown",
   "metadata": {},
   "source": [
    "### [10 pt]  Find miRNAs for a target"
   ]
  },
  {
   "cell_type": "code",
   "execution_count": 10,
   "metadata": {},
   "outputs": [
    {
     "name": "stdout",
     "output_type": "stream",
     "text": [
      "13 miRNAs are predicted to target XM_532324\n"
     ]
    }
   ],
   "source": [
    "# How many miRNAs are predicted to target XM_532324  ?\n",
    "\n",
    "res = select(db, \"\"\"\n",
    "    SELECT DISTINCT(mirna) FROM mir2target\n",
    "    WHERE target = 'XM_532324'\n",
    "\"\"\")\n",
    "print(f\"{res.shape[0]} miRNAs are predicted to target XM_532324\")"
   ]
  },
  {
   "cell_type": "code",
   "execution_count": 11,
   "metadata": {},
   "outputs": [
    {
     "name": "stdout",
     "output_type": "stream",
     "text": [
      "The following miRNAs are predicted to target XM_532324:\n",
      "cfa-miR-30c\n",
      "cfa-miR-1185\n",
      "cfa-miR-342\n",
      "cfa-miR-8881\n",
      "cfa-miR-30d\n",
      "cfa-miR-653\n",
      "cfa-miR-8824\n",
      "cfa-miR-30a\n",
      "cfa-miR-19b\n",
      "cfa-miR-30b\n"
     ]
    }
   ],
   "source": [
    "# Show at most 10 miRNAs that are predicted to target XM_532324.\n",
    "\n",
    "print(\"The following miRNAs are predicted to target XM_532324:\")\n",
    "print('\\n'.join(res['mirna'][:10]))"
   ]
  },
  {
   "cell_type": "markdown",
   "metadata": {},
   "source": [
    "### [10 pt]  Find targets for a miRNA"
   ]
  },
  {
   "cell_type": "code",
   "execution_count": 12,
   "metadata": {},
   "outputs": [
    {
     "name": "stdout",
     "output_type": "stream",
     "text": [
      "303 targets of cfa-let-7a have a prediction score  of at least 80.\n"
     ]
    }
   ],
   "source": [
    "# How many predicted targets of cfa-let-7a have a prediction score \n",
    "# of at least 80?\n",
    "\n",
    "res = select(db, \"\"\"\n",
    "    SELECT DISTINCT(target) FROM mir2target\n",
    "    WHERE mirna = 'cfa-let-7a' AND score >= 80\n",
    "\"\"\")\n",
    "print(f\"{res.shape[0]} targets of cfa-let-7a have a prediction score \",\n",
    "      \"of at least 80.\")"
   ]
  },
  {
   "cell_type": "code",
   "execution_count": 13,
   "metadata": {},
   "outputs": [
    {
     "name": "stdout",
     "output_type": "stream",
     "text": [
      "The following targets of cfa-let-7a have a prediction score  of at least 80:\n",
      "XM_014119515\n",
      "XM_847837\n",
      "XM_014111346\n",
      "XM_541808\n",
      "XM_005621935\n",
      "XM_014118125\n",
      "XM_847579\n",
      "XM_005630512\n",
      "XM_005618982\n",
      "XM_014114613\n"
     ]
    }
   ],
   "source": [
    "# Show at most 10 predicted targets of cfa-let-7a that have a prediction \n",
    "# score of at least 80.\n",
    "\n",
    "print(\"The following targets of cfa-let-7a have a prediction score \",\n",
    "      \"of at least 80:\")\n",
    "print('\\n'.join(res['target'][:10]))"
   ]
  },
  {
   "cell_type": "markdown",
   "metadata": {},
   "source": [
    "### [10 pt]  Summarize miRNAs and target counts"
   ]
  },
  {
   "cell_type": "code",
   "execution_count": 14,
   "metadata": {},
   "outputs": [
    {
     "data": {
      "text/html": [
       "<div>\n",
       "<style scoped>\n",
       "    .dataframe tbody tr th:only-of-type {\n",
       "        vertical-align: middle;\n",
       "    }\n",
       "\n",
       "    .dataframe tbody tr th {\n",
       "        vertical-align: top;\n",
       "    }\n",
       "\n",
       "    .dataframe thead th {\n",
       "        text-align: right;\n",
       "    }\n",
       "</style>\n",
       "<table border=\"1\" class=\"dataframe\">\n",
       "  <thead>\n",
       "    <tr style=\"text-align: right;\">\n",
       "      <th></th>\n",
       "      <th>mirna</th>\n",
       "      <th>target_count</th>\n",
       "    </tr>\n",
       "  </thead>\n",
       "  <tbody>\n",
       "    <tr>\n",
       "      <th>0</th>\n",
       "      <td>cfa-miR-30c</td>\n",
       "      <td>1545</td>\n",
       "    </tr>\n",
       "    <tr>\n",
       "      <th>1</th>\n",
       "      <td>cfa-miR-126</td>\n",
       "      <td>976</td>\n",
       "    </tr>\n",
       "    <tr>\n",
       "      <th>2</th>\n",
       "      <td>cfa-miR-137</td>\n",
       "      <td>851</td>\n",
       "    </tr>\n",
       "    <tr>\n",
       "      <th>3</th>\n",
       "      <td>cfa-miR-96</td>\n",
       "      <td>682</td>\n",
       "    </tr>\n",
       "    <tr>\n",
       "      <th>4</th>\n",
       "      <td>cfa-miR-568</td>\n",
       "      <td>648</td>\n",
       "    </tr>\n",
       "    <tr>\n",
       "      <th>5</th>\n",
       "      <td>cfa-let-7e</td>\n",
       "      <td>487</td>\n",
       "    </tr>\n",
       "    <tr>\n",
       "      <th>6</th>\n",
       "      <td>cfa-let-7a</td>\n",
       "      <td>487</td>\n",
       "    </tr>\n",
       "    <tr>\n",
       "      <th>7</th>\n",
       "      <td>cfa-miR-194</td>\n",
       "      <td>459</td>\n",
       "    </tr>\n",
       "    <tr>\n",
       "      <th>8</th>\n",
       "      <td>cfa-miR-361</td>\n",
       "      <td>402</td>\n",
       "    </tr>\n",
       "    <tr>\n",
       "      <th>9</th>\n",
       "      <td>cfa-miR-133b</td>\n",
       "      <td>390</td>\n",
       "    </tr>\n",
       "  </tbody>\n",
       "</table>\n",
       "</div>"
      ],
      "text/plain": [
       "          mirna  target_count\n",
       "0   cfa-miR-30c          1545\n",
       "1   cfa-miR-126           976\n",
       "2   cfa-miR-137           851\n",
       "3    cfa-miR-96           682\n",
       "4   cfa-miR-568           648\n",
       "5    cfa-let-7e           487\n",
       "6    cfa-let-7a           487\n",
       "7   cfa-miR-194           459\n",
       "8   cfa-miR-361           402\n",
       "9  cfa-miR-133b           390"
      ]
     },
     "metadata": {},
     "output_type": "display_data"
    }
   ],
   "source": [
    "# List the miRNAs and the number of their targets.\n",
    "# (Each row of the result should contain a distinct miRNA). \n",
    "# (Use count() and GROUP BY). Show only top 10 rows of the result.\n",
    "\n",
    "select(db, show=True, query=\"\"\"\n",
    "    SELECT \n",
    "        mirna, \n",
    "        COUNT(*) AS target_count \n",
    "    FROM mir2target\n",
    "    GROUP BY mirna\n",
    "    ORDER BY target_count DESC\n",
    "    LIMIT 10\n",
    "\"\"\");"
   ]
  },
  {
   "cell_type": "code",
   "execution_count": 15,
   "metadata": {},
   "outputs": [],
   "source": [
    "# Close the database connection\n",
    "db.close()"
   ]
  },
  {
   "cell_type": "markdown",
   "metadata": {},
   "source": [
    "## [20 pt]  Performance Comparison - Excel vs. Database\n",
    "\n",
    "In this section, you are asked to compare the performance of adding & retrieving \n",
    "data in a database table vs. in an Excel file."
   ]
  },
  {
   "cell_type": "code",
   "execution_count": 16,
   "metadata": {},
   "outputs": [],
   "source": [
    "# Define paths to files\n",
    "xlsfile = bmes.tempdir() + '/hwdb_performance.xlsx';\n",
    "dbfile = bmes.tempdir() + '/hwdb_performance.sqlite';\n",
    "\n",
    "# Delete the files if they are there, so the performance analysis can \n",
    "# start fresh. \n",
    "if bmes.isfile(xlsfile): os.remove(xlsfile);\n",
    "if bmes.isfile(dbfile):  os.remove(dbfile);"
   ]
  },
  {
   "cell_type": "markdown",
   "metadata": {},
   "source": [
    "### `xls_insertname(xlsfile, name)`\n",
    "\n",
    "Create an external file `xls_insertname.py` for the function \n",
    "`xls_insertname(xlsfile, name)` that :\n",
    "\n",
    "- Creates the Excel file xlsfile if it does not already exist and writes the \n",
    "  header row containing \"id\" and \"name\" (without the quotes) as the column names\n",
    "- Adds the name to the Excel file as a new row, along with its id. You need \n",
    "  to automatically determine a unique integer id for this new name being \n",
    "  added (similar to SQL's auto-increment feature).\n",
    "- Returns the total number of names in the table (not including the header row, \n",
    "  but including the new row that you just added)."
   ]
  },
  {
   "cell_type": "code",
   "execution_count": 17,
   "metadata": {},
   "outputs": [
    {
     "name": "stdout",
     "output_type": "stream",
     "text": [
      "1\n",
      "2\n"
     ]
    }
   ],
   "source": [
    "# Testing the xls_insertname() to make sure it works:\n",
    "from xls_insertname import xls_insertname\n",
    "print(xls_insertname(xlsfile, randomname()))\n",
    "print(xls_insertname(xlsfile, randomname()))"
   ]
  },
  {
   "cell_type": "markdown",
   "metadata": {},
   "source": [
    "### `db_insertname(dbfile, name)`\n",
    "\n",
    "Create an external file `db_insertname.py` for the function \n",
    "`db_insertname(dbfile, name)` that :\n",
    "\n",
    "- Creates the database table \"names\" if the database or the table does not \n",
    "  already exist. The table needs to have the columns \"id\" and \"name\" (without \n",
    "  the quotes).\n",
    "- Adds the name to the names table as a new row. You should not identify the id \n",
    "  of this new row yourserlf, but need to have the database automatically \n",
    "  identify the id.\n",
    "- You may assume that name will be at most 16 characters.\n",
    "- Returns the total number of names in the table (not including the header row, \n",
    "  but including the new row that you just added)."
   ]
  },
  {
   "cell_type": "code",
   "execution_count": 18,
   "metadata": {},
   "outputs": [
    {
     "name": "stdout",
     "output_type": "stream",
     "text": [
      "1\n",
      "2\n"
     ]
    }
   ],
   "source": [
    "# Testing the db_insertname() to make sure it works:\n",
    "from db_insertname import db_insertname\n",
    "print(db_insertname(dbfile, randomname()))\n",
    "print(db_insertname(dbfile, randomname()))"
   ]
  },
  {
   "cell_type": "markdown",
   "metadata": {},
   "source": [
    "### Run & Time Multiple Inserts"
   ]
  },
  {
   "cell_type": "code",
   "execution_count": 19,
   "metadata": {},
   "outputs": [
    {
     "name": "stdout",
     "output_type": "stream",
     "text": [
      "Elapsed: 38.80 sec.\n"
     ]
    }
   ],
   "source": [
    "# Use bmes.tic() & bmes.toc() to identify how long it takes to make 1000 \n",
    "# insertions of random 16-character names using xls_insertname(). \n",
    "# Report the total elapsed time.\n",
    "\n",
    "bmes.tic();\n",
    "for _ in range(1000):\n",
    "    xls_insertname(xlsfile, randomname());\n",
    "bmes.toc();"
   ]
  },
  {
   "cell_type": "code",
   "execution_count": 20,
   "metadata": {},
   "outputs": [
    {
     "name": "stdout",
     "output_type": "stream",
     "text": [
      "Elapsed: 7.42 sec.\n"
     ]
    }
   ],
   "source": [
    "# Use tic() & toc() to identify how long it takes to make 1000 \n",
    "# insertions of random 16-character names using db_insertname(). \n",
    "# Report the total elapsed time.\n",
    "\n",
    "bmes.tic();\n",
    "for _ in range(1000):\n",
    "    db_insertname(dbfile, randomname());\n",
    "bmes.toc();"
   ]
  }
 ],
 "metadata": {
  "kernelspec": {
   "display_name": "bmes550",
   "language": "python",
   "name": "python3"
  },
  "language_info": {
   "codemirror_mode": {
    "name": "ipython",
    "version": 3
   },
   "file_extension": ".py",
   "mimetype": "text/x-python",
   "name": "python",
   "nbconvert_exporter": "python",
   "pygments_lexer": "ipython3",
   "version": "3.10.4"
  },
  "vscode": {
   "interpreter": {
    "hash": "e5c6703229e3dd9c482a1c23a1113da71743e131711127bdfb687457b67b9590"
   }
  }
 },
 "nbformat": 4,
 "nbformat_minor": 2
}
