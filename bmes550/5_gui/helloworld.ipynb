{
 "cells": [
  {
   "cell_type": "code",
   "execution_count": 1,
   "metadata": {},
   "outputs": [],
   "source": [
    "import wx\n",
    "\n",
    "%gui wx"
   ]
  },
  {
   "cell_type": "code",
   "execution_count": 2,
   "metadata": {},
   "outputs": [],
   "source": [
    "class HelloFrame(wx.Frame):\n",
    "    def __init__(self, *args, **kw):\n",
    "        super(HelloFrame, self).__init__(*args, **kw)\n",
    "\n",
    "        panel = wx.Panel(self)\n",
    "\n",
    "        font = wx.SystemSettings.GetFont(wx.SYS_SYSTEM_FONT)\n",
    "        font.SetPointSize(30); font=font.Bold();\n",
    "\n",
    "\n",
    "        vsizer = wx.BoxSizer(wx.VERTICAL)        \n",
    "\n",
    "\n",
    "        hbox1 = wx.BoxSizer(wx.HORIZONTAL)\n",
    "        st1 = wx.StaticText(panel, label='Enter a number: ')\n",
    "        st1.SetFont(font)\n",
    "        hbox1.Add(st1, flag=wx.RIGHT, border=8)\n",
    "        \n",
    "        tc = wx.TextCtrl(panel)\n",
    "        tc.SetFont(font)\n",
    "        hbox1.Add(tc, proportion=1)\n",
    "        self.inputbox=tc;\n",
    "        \n",
    "        btn1 = wx.Button(panel, label='Ok', size=(70, 30))\n",
    "        hbox1.Add(btn1)\n",
    "        btn1.Bind(wx.EVT_BUTTON, self.onokbuttonclick)\n",
    "        self.inputbox.Bind(wx.EVT_KEY_UP, self.onokbuttonclick)\n",
    "        \n",
    "        \n",
    "        \n",
    "        vsizer.Add(hbox1, flag=wx.EXPAND|wx.LEFT|wx.RIGHT|wx.TOP, border=10)\n",
    "\n",
    "\n",
    "        st1 = wx.StaticText(panel, label='Result will be shown here...')\n",
    "        st1.SetFont(font)\n",
    "        vsizer.Add(st1, flag=wx.RIGHT, border=8,proportion=1)\n",
    "        self.resultbox=st1;\n",
    "\n",
    "\n",
    "        panel.SetSizer(vsizer)\n",
    "\n",
    "\n",
    "    def onokbuttonclick(self,evt):\n",
    "        self.resultbox.SetLabel(\"You entered: \"+self.inputbox.GetValue())\n",
    "        evt.Skip()"
   ]
  },
  {
   "cell_type": "code",
   "execution_count": 3,
   "metadata": {},
   "outputs": [
    {
     "data": {
      "text/plain": [
       "True"
      ]
     },
     "execution_count": 3,
     "metadata": {},
     "output_type": "execute_result"
    }
   ],
   "source": [
    "wx.GetApp();\n",
    "HelloFrame(None).Show()"
   ]
  }
 ],
 "metadata": {
  "kernelspec": {
   "display_name": "cabid",
   "language": "python",
   "name": "python3"
  },
  "language_info": {
   "codemirror_mode": {
    "name": "ipython",
    "version": 3
   },
   "file_extension": ".py",
   "mimetype": "text/x-python",
   "name": "python",
   "nbconvert_exporter": "python",
   "pygments_lexer": "ipython3",
   "version": "3.10.6 (main, Oct 24 2022, 16:07:47) [GCC 11.2.0]"
  },
  "orig_nbformat": 4,
  "vscode": {
   "interpreter": {
    "hash": "e6e79da56283822dc57479bee7ee2dd576053204e0c93864262fbf8dc476093e"
   }
  }
 },
 "nbformat": 4,
 "nbformat_minor": 2
}
