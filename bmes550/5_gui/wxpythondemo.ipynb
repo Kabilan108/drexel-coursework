{
 "cells": [
  {
   "cell_type": "code",
   "execution_count": 4,
   "metadata": {},
   "outputs": [
    {
     "name": "stdout",
     "output_type": "stream",
     "text": [
      "The autoreload extension is already loaded. To reload it, use:\n",
      "  %reload_ext autoreload\n"
     ]
    }
   ],
   "source": [
    "#Required Installations (we install within jupyter below):\n",
    "# conda install -c newville wxpython-phoenix\n",
    "#pip install -U wxPython\n",
    "\n",
    "%load_ext autoreload\n",
    "%autoreload 2\n",
    "\n",
    "import sys,os; sys.path.append(os.environ['BMESAHMETDIR']); import bmes\n",
    "bmes.pipinstall('wx','wxPython')\n",
    "\n",
    "  \n",
    "#tell jupyter to create separate GUI windows for wxpython.\n",
    "%gui wx\n",
    "\n",
    "import wx\n"
   ]
  },
  {
   "cell_type": "code",
   "execution_count": 6,
   "metadata": {},
   "outputs": [
    {
     "name": "stdout",
     "output_type": "stream",
     "text": [
      "before showModal\n",
      "after showModal\n"
     ]
    }
   ],
   "source": [
    "app = wx.App()\n",
    "msgbox=wx.MessageDialog(None, 'It works!');\n",
    "print('before showModal')\n",
    "msgbox.ShowModal()\n",
    "print('after showModal')\n",
    "msgbox.Destroy()\n",
    "del app"
   ]
  },
  {
   "cell_type": "code",
   "execution_count": null,
   "metadata": {},
   "outputs": [],
   "source": [
    "#you would normally have the following in a helloworldgui.py file.\n",
    "\n",
    "import wx\n",
    "\n",
    "class MyFrame(wx.Frame):    \n",
    "    def __init__(self):\n",
    "        super().__init__(parent=None, title='Hello World')\n",
    "        self.Show()\n",
    "\n",
    "if __name__ == '__main__':\n",
    "    app = wx.App()\n",
    "    frame = MyFrame()\n",
    "    app.MainLoop()\n",
    "    del app"
   ]
  },
  {
   "cell_type": "code",
   "execution_count": null,
   "metadata": {},
   "outputs": [],
   "source": [
    "import helloworldgui\n"
   ]
  },
  {
   "cell_type": "code",
   "execution_count": null,
   "metadata": {},
   "outputs": [],
   "source": [
    "2+2"
   ]
  },
  {
   "cell_type": "code",
   "execution_count": null,
   "metadata": {},
   "outputs": [],
   "source": [
    "import helloworldgui2_matplotlib\n",
    "helloworldgui2_matplotlib.main()"
   ]
  }
 ],
 "metadata": {
  "kernelspec": {
   "display_name": "Python 3",
   "language": "python",
   "name": "python3"
  },
  "language_info": {
   "codemirror_mode": {
    "name": "ipython",
    "version": 3
   },
   "file_extension": ".py",
   "mimetype": "text/x-python",
   "name": "python",
   "nbconvert_exporter": "python",
   "pygments_lexer": "ipython3",
   "version": "3.8.8"
  }
 },
 "nbformat": 4,
 "nbformat_minor": 2
}
