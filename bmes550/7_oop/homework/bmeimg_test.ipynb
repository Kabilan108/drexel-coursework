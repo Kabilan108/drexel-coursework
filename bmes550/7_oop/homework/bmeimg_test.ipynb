{
 "cells": [
  {
   "attachments": {},
   "cell_type": "markdown",
   "metadata": {},
   "source": [
    "# `bmeimg` Test Script\n",
    "\n",
    "Implement a class that works the same way as is shown in this script. \n",
    "\n",
    "**Grading:**\n",
    "\n",
    "- **[10%]** Constructor supports both file-based and matrix-based\n",
    "  initialization. \n",
    "  - Constructor's input can be a file name; or a matrix representing an\n",
    "    image (in which case there is no file name).\n",
    "- **[10%]** Properties and/or display show the filename, resolution, and\n",
    "  colortype.\n",
    "- **[40%]** Image processing functions are implemented correctly: `tograyscale`,\n",
    "  `detectedges`, `dilate`, `fillholes`, `clearborder`, `erode`, `countblobs`\n",
    "- **[10%]** bmeimg inherits from the handle class. A copy of the object is\n",
    "  created for each image processing function when the output is captured to a\n",
    "  variable. The original object is modified when no output is captured from the\n",
    "  function call.\n",
    "- **[10%]** `dilate()` and `erode()` support an optional window-size parameter.\n",
    "- **[10%]** `clearborder()` and `countblobs` support an optional `connectivity`\n",
    "  parameter.\n",
    "- **[10%]** `countblobs()` uses optional connectivity argument to define the\n",
    "  connectivity and optional minpix argument to filter out small components.\n",
    "- **[-10%]** Published pdf file was not created or was not generated from\n",
    "  submitted work.\n",
    "- Penalties for run-time errors will vary. If you cannot complete a portion of\n",
    "  the assignment, comment-out non-working sections and provide a note, rather\n",
    "  than having your code stop with errors."
   ]
  },
  {
   "attachments": {},
   "cell_type": "markdown",
   "metadata": {},
   "source": [
    "## Set-Up"
   ]
  },
  {
   "cell_type": "code",
   "execution_count": null,
   "metadata": {},
   "outputs": [],
   "source": [
    "from bmeimg import bmeimg"
   ]
  },
  {
   "cell_type": "code",
   "execution_count": null,
   "metadata": {},
   "outputs": [],
   "source": [
    "# Sample Images\n",
    "peppers = './peppers.png'\n",
    "cell = './cell.png'"
   ]
  },
  {
   "attachments": {},
   "cell_type": "markdown",
   "metadata": {},
   "source": [
    "## Create img from File"
   ]
  },
  {
   "cell_type": "code",
   "execution_count": null,
   "metadata": {},
   "outputs": [],
   "source": [
    "b = bmeimg(peppers)\n",
    "\n",
    "# Image:\n",
    "#   file: ~/.../peppers.png\n",
    "#   resolution: (512, 512, 3)\n",
    "#   color type: RGb"
   ]
  },
  {
   "cell_type": "code",
   "execution_count": null,
   "metadata": {},
   "outputs": [],
   "source": [
    "b.show()"
   ]
  },
  {
   "attachments": {},
   "cell_type": "markdown",
   "metadata": {},
   "source": [
    "## Create img from Matrix"
   ]
  },
  {
   "cell_type": "code",
   "execution_count": null,
   "metadata": {},
   "outputs": [],
   "source": [
    "mat = io.imread(cell)\n",
    "b = bmeimg(mat)\n",
    "\n",
    "# Image:\n",
    "#   file:\n",
    "#   resolution: (512, 512)\n",
    "#   color type: grayscale"
   ]
  },
  {
   "cell_type": "code",
   "execution_count": null,
   "metadata": {},
   "outputs": [],
   "source": [
    "b = bmeimg( repelem([0 1; 1 0],50,100)); b.show;"
   ]
  },
  {
   "cell_type": "code",
   "execution_count": null,
   "metadata": {},
   "outputs": [],
   "source": [
    "b = bmeimg(np.kron([[1, 0] * 5, [0, 1] * 5] * 5, np.ones((10, 10))))\n",
    "b.show()"
   ]
  },
  {
   "attachments": {},
   "cell_type": "markdown",
   "metadata": {},
   "source": [
    "## Convert to Grayscale\n",
    "\n",
    "Calling methods without an output should change the original image object.\n",
    "Calling methods with an output should not modify the original image object, but\n",
    "creates and returns a new object. ALl of your image processing methods should\n",
    "follow this convention."
   ]
  },
  {
   "cell_type": "code",
   "execution_count": null,
   "metadata": {},
   "outputs": [],
   "source": [
    "# Calling methods without an output should change the original img object\n",
    "b = bmeimg(peppers)\n",
    "b.tograyscale();\n",
    "b\n",
    "# Image:\n",
    "#  file: ~/.../peppers.png\n",
    "#  resolution: (512, 512)\n",
    "#  color type: grayscale"
   ]
  },
  {
   "cell_type": "code",
   "execution_count": null,
   "metadata": {},
   "outputs": [],
   "source": [
    "b.show()"
   ]
  },
  {
   "attachments": {},
   "cell_type": "markdown",
   "metadata": {},
   "source": [
    "Calling methods with an output should not modify the original image object, but\n",
    "creates and returns a new object."
   ]
  },
  {
   "cell_type": "code",
   "execution_count": null,
   "metadata": {},
   "outputs": [],
   "source": [
    "b = bmeimg(peppers)\n",
    "c = b.tograyscale();\n",
    "\n",
    "b \n",
    "# Image:\n",
    "#  file: ~/.../peppers.png\n",
    "#  resolution: (512, 512, 3)\n",
    "#  color type: RGb\n",
    "b.show()\n",
    "\n",
    "c\n",
    "# Image:\n",
    "#  file: ~/.../peppers.png\n",
    "#  resolution: (512, 512)\n",
    "#  color type: grayscale"
   ]
  },
  {
   "attachments": {},
   "cell_type": "markdown",
   "metadata": {},
   "source": [
    "## Detect Edges"
   ]
  },
  {
   "cell_type": "code",
   "execution_count": null,
   "metadata": {},
   "outputs": [],
   "source": [
    "b = bmeimg(cell)\n",
    "b.detectedges();\n",
    "b.show()"
   ]
  },
  {
   "attachments": {},
   "cell_type": "markdown",
   "metadata": {},
   "source": [
    "## Dilation\n",
    "\n",
    "In dilate, use a square structuring element with a window size given as argument.\n",
    "If window size is omitted, use `windowsize=3`"
   ]
  },
  {
   "cell_type": "code",
   "execution_count": null,
   "metadata": {},
   "outputs": [],
   "source": [
    "b = bmeimg(cell)\n",
    "b.dilate()\n",
    "b.show()"
   ]
  },
  {
   "cell_type": "code",
   "execution_count": null,
   "metadata": {},
   "outputs": [],
   "source": [
    "b = bmeimg(cell)\n",
    "b.dilate(10)\n",
    "b.show()"
   ]
  },
  {
   "attachments": {},
   "cell_type": "markdown",
   "metadata": {},
   "source": [
    "## Clear Border\n",
    "\n",
    "A connectivity argument can be given (default: 4). Connectivity can be one of:\n",
    "1, 4, 6, 8, 18, 26."
   ]
  },
  {
   "cell_type": "code",
   "execution_count": null,
   "metadata": {},
   "outputs": [],
   "source": [
    "b = bmeimg(cell)\n",
    "b.detectedges()\n",
    "b.clearborder(8)\n",
    "b.show()"
   ]
  },
  {
   "attachments": {},
   "cell_type": "markdown",
   "metadata": {},
   "source": [
    "## Erosion\n",
    "\n",
    "In `erode` use a square structuring element with a window size given as argument.\n",
    "If window size is omitted, use `windowsize=3`"
   ]
  },
  {
   "cell_type": "code",
   "execution_count": null,
   "metadata": {},
   "outputs": [],
   "source": [
    "b = bmeimg(cell)\n",
    "b.detectedges()\n",
    "b.dilate()\n",
    "b.fillholes()\n",
    "b.show()"
   ]
  },
  {
   "cell_type": "code",
   "execution_count": null,
   "metadata": {},
   "outputs": [],
   "source": [
    "b.erode(2)\n",
    "b.show()"
   ]
  },
  {
   "cell_type": "code",
   "execution_count": null,
   "metadata": {},
   "outputs": [],
   "source": [
    "b.erode(5)\n",
    "b.show()"
   ]
  },
  {
   "attachments": {},
   "cell_type": "markdown",
   "metadata": {},
   "source": [
    "## Count Connected Components\n",
    "\n",
    "Implement `countblobs(conn, minpix)` to count the number of connected components.\n",
    "A connectivity argument can be given (default: 8). Connectivity can be one of:\n",
    "1, 4, 6, 8, 18, 26. If minpix is given and not empty, remove all the blobs\n",
    "that have less than minpix pixels before counting the number of blobs."
   ]
  },
  {
   "cell_type": "code",
   "execution_count": null,
   "metadata": {},
   "outputs": [],
   "source": [
    "b = bmeimg(cell)\n",
    "b.detectedges()\n",
    "b.dilate()\n",
    "b.fillholes()\n",
    "b.show()"
   ]
  },
  {
   "cell_type": "code",
   "execution_count": null,
   "metadata": {},
   "outputs": [],
   "source": [
    "b.countblobs()"
   ]
  },
  {
   "attachments": {},
   "cell_type": "markdown",
   "metadata": {},
   "source": [
    "## Putting it all together\n",
    "\n",
    "Use your `bmeimg` class to process the image `nuclei.png` to count the number of\n",
    "nuclei in the image."
   ]
  },
  {
   "cell_type": "code",
   "execution_count": null,
   "metadata": {},
   "outputs": [],
   "source": [
    "file = './nuclei.png'"
   ]
  }
 ],
 "metadata": {
  "kernelspec": {
   "display_name": "bmes550",
   "language": "python",
   "name": "python3"
  },
  "language_info": {
   "codemirror_mode": {
    "name": "ipython",
    "version": 3
   },
   "file_extension": ".py",
   "mimetype": "text/x-python",
   "name": "python",
   "nbconvert_exporter": "python",
   "pygments_lexer": "ipython3",
   "version": "3.10.4"
  },
  "orig_nbformat": 4,
  "vscode": {
   "interpreter": {
    "hash": "e5c6703229e3dd9c482a1c23a1113da71743e131711127bdfb687457b67b9590"
   }
  }
 },
 "nbformat": 4,
 "nbformat_minor": 2
}
