{
 "cells": [
  {
   "cell_type": "markdown",
   "id": "0180d4f8",
   "metadata": {},
   "source": [
    "## Object Oriented Programming in Python"
   ]
  },
  {
   "cell_type": "markdown",
   "id": "c6e863f7",
   "metadata": {},
   "source": [
    "* Implement a person class with properties name, age, zipcode.\n",
    "\t* Test: Create a person object, set its properties."
   ]
  },
  {
   "cell_type": "code",
   "execution_count": 2,
   "id": "20eedbe4",
   "metadata": {},
   "outputs": [
    {
     "name": "stdout",
     "output_type": "stream",
     "text": [
      "<__main__.Person object at 0x0000017FF0D85940>\n",
      "['Amy', 25, 19063]\n",
      "{'name': 'Amy', 'age': 25, 'zipcode': 19063}\n"
     ]
    }
   ],
   "source": [
    "class Person:\n",
    "    pass\n",
    "\n",
    "p = Person();\n",
    "\n",
    "# You can use p as a dictionary. Unlike dictionary, new fields are automatically\n",
    "#  added as you assign new values.\n",
    "p.name = 'Amy'\n",
    "p.age = 25\n",
    "p.zipcode = 19063\n",
    "\n",
    "\n",
    "print(p)\n",
    "print([p.name,p.age,p.zipcode])\n",
    "\n",
    "# the obect has a predefined attribute __dict__ that will give us its attributes as a dictionary.\n",
    "print( p.__dict__ )"
   ]
  },
  {
   "cell_type": "markdown",
   "id": "851a221e",
   "metadata": {},
   "source": [
    "## Objects (which many Python variables are) are copied by reference!!"
   ]
  },
  {
   "cell_type": "code",
   "execution_count": 3,
   "id": "28fd1535",
   "metadata": {},
   "outputs": [
    {
     "name": "stdout",
     "output_type": "stream",
     "text": [
      "50\n",
      "50\n"
     ]
    }
   ],
   "source": [
    "q = p;  # after this operation, p and q will refer to the same object.\n",
    "p.age = 25;\n",
    "q.age = 50;\n",
    "print(p.age)\n",
    "print(q.age)"
   ]
  },
  {
   "cell_type": "code",
   "execution_count": 4,
   "id": "a452d90c",
   "metadata": {},
   "outputs": [
    {
     "name": "stdout",
     "output_type": "stream",
     "text": [
      "100\n"
     ]
    }
   ],
   "source": [
    "# The same \"copy-by-reference\" behavior happens when variables are passed in as function arguments\n",
    "\n",
    "def changeage(x):\n",
    "     # this not only changes x, but also changes the original Person object that was passed in to this function as an input argument.\n",
    "    x.age = 100;\n",
    "\n",
    "p.age = 25;    \n",
    " # p is passed into the changeage() function by reference. Any changes therein will affect p here.\n",
    "changeage( p )\n",
    "print(p.age)"
   ]
  },
  {
   "cell_type": "code",
   "execution_count": 5,
   "id": "9d20e6b5",
   "metadata": {},
   "outputs": [
    {
     "name": "stdout",
     "output_type": "stream",
     "text": [
      "25\n",
      "25\n"
     ]
    }
   ],
   "source": [
    "# When \"copy-by-reference\" behavior is not desireable, use copy.copy() or copy.deepcopy()\n",
    "\n",
    "import copy\n",
    "\n",
    "p.age = 25;\n",
    "q = copy.copy( p )\n",
    "q.age = 50  # since q and p are no longer \"linked\", this change will not affect p.\n",
    "print(p.age)\n",
    "\n",
    "\n",
    "# passing in a copy of p makes sure changeage() won't be able to affect p here.\n",
    "changeage( copy.copy(p) )\n",
    "print(p.age)"
   ]
  },
  {
   "cell_type": "markdown",
   "id": "9f83bf2b",
   "metadata": {},
   "source": [
    "### Add a constructor\n",
    "Adding new fields/attributes to an object outside the class definition is not recommended.\n",
    "Instead, use a \"constructor\" function that will set up the object when it is first being created.\n",
    "* Add a constructor method that helps initialize a new person with name, age, zipcode.\n",
    "\t* Constructor is a method that has the name __init__.\n",
    "\t* First argument of the constructed must be \"self\" (you can use a different variable name, but that is not recommended) and it refers to the object being created."
   ]
  },
  {
   "cell_type": "code",
   "execution_count": 36,
   "id": "343a5d46",
   "metadata": {},
   "outputs": [
    {
     "name": "stdout",
     "output_type": "stream",
     "text": [
      "{'name': 'Amy', 'age': 25, 'zipcode': 19063}\n"
     ]
    }
   ],
   "source": [
    "class Person:\n",
    "    def __init__(self, name, age, zipcode):\n",
    "        self.name = name;\n",
    "        self.age = age;\n",
    "        self.zipcode = zipcode;\n",
    "\n",
    "\n",
    "p = Person('Amy',25,19063);\n",
    "print( p.__dict__ )"
   ]
  },
  {
   "cell_type": "code",
   "execution_count": 37,
   "id": "278116b0",
   "metadata": {},
   "outputs": [
    {
     "name": "stdout",
     "output_type": "stream",
     "text": [
      "{'name': 'Amy', 'age': 25, 'zipcode': 19063}\n",
      "{'name': 'Amy', 'age': 50, 'zipcode': 19063}\n"
     ]
    }
   ],
   "source": [
    "# Adding a copy() function would make it slightly easier (less typing) to create a copy\n",
    "class Person:\n",
    "    def __init__(self, name, age, zipcode):\n",
    "        self.name = name;\n",
    "        self.age = age;\n",
    "        self.zipcode = zipcode;\n",
    "    def copy(self):\n",
    "        import copy\n",
    "        return copy.copy(self)\n",
    "\n",
    "\n",
    "p = Person('Amy',25,19063);\n",
    "q = p.copy();\n",
    "q.age = 50;\n",
    "print( p.__dict__ )\n",
    "print( q.__dict__ )"
   ]
  },
  {
   "cell_type": "markdown",
   "id": "83a22478",
   "metadata": {},
   "source": [
    "### Add incrementage()\n",
    "* Add a method incrementage(). Make sure to return the object as output variable.\n",
    "\t* Test: Does calling incrementage() on a person variable change that person?"
   ]
  },
  {
   "cell_type": "code",
   "execution_count": 6,
   "id": "ac08f561",
   "metadata": {},
   "outputs": [
    {
     "name": "stdout",
     "output_type": "stream",
     "text": [
      "{'name': 'Amy', 'age': 26, 'zipcode': 19063}\n"
     ]
    }
   ],
   "source": [
    "class Person:\n",
    "    def __init__(self, name, age, zipcode):\n",
    "        self.name = name;\n",
    "        self.age = age;\n",
    "        self.zipcode = zipcode;\n",
    "        \n",
    "    def incrementage(self):\n",
    "        self.age = self.age+1;\n",
    "\n",
    "p = Person('Amy',25,19063);\n",
    "p.incrementage()\n",
    "print( p.__dict__ )"
   ]
  },
  {
   "cell_type": "markdown",
   "id": "db871f1a",
   "metadata": {},
   "source": [
    "## Returning self\n",
    "For functions that change self, it is customary to return self from the function. This makes it convenient to \"chain\" additional functions."
   ]
  },
  {
   "cell_type": "code",
   "execution_count": 8,
   "id": "877e8d00",
   "metadata": {},
   "outputs": [
    {
     "name": "stdout",
     "output_type": "stream",
     "text": [
      "{'name': 'Amy', 'age': 29, 'zipcode': 19063}\n"
     ]
    }
   ],
   "source": [
    "class Person:\n",
    "    def __init__(self, name, age, zipcode):\n",
    "        self.name = name;\n",
    "        self.age = age;\n",
    "        self.zipcode = zipcode;\n",
    "        \n",
    "    def incrementage(self):\n",
    "        self.age = self.age+1;\n",
    "        return self;\n",
    "\n",
    "p = Person('Amy',25,19063);\n",
    "\n",
    "#since incrementage() returns self, we can use the result of incrementage() as if we are using p.\n",
    "p.incrementage().incrementage().incrementage().incrementage();\n",
    "print( p.__dict__ )"
   ]
  },
  {
   "cell_type": "markdown",
   "id": "8ff4fa5f",
   "metadata": {},
   "source": [
    "## Add getbirthyear()\n",
    "* Implement a method getbirthyear to calculate the year the person was born.\n",
    "\t* You can get the current year from datetime.date.today()"
   ]
  },
  {
   "cell_type": "code",
   "execution_count": 46,
   "id": "b0541c2f",
   "metadata": {},
   "outputs": [
    {
     "name": "stdout",
     "output_type": "stream",
     "text": [
      "1996\n"
     ]
    }
   ],
   "source": [
    "class Person:\n",
    "    def __init__(self, name, age, zipcode):\n",
    "        self.name = name;\n",
    "        self.age = age;\n",
    "        self.zipcode = zipcode;\n",
    "    \n",
    "    # This is not an accurate calculation, but acceptable when we don't know birth month/year.\n",
    "    def getbirthyear(self):\n",
    "        from datetime import date\n",
    "        t = date.today();\n",
    "        return t.year - self.age\n",
    "\n",
    "p = Person('Amy',25,19063);\n",
    "print( p.getbirthyear() )"
   ]
  },
  {
   "cell_type": "markdown",
   "id": "809ca3b9",
   "metadata": {},
   "source": [
    "## Add a read-only (aka dependent) birthyear \"property\"\n",
    "Python doesn't have a good/direct way of making certain attributes read-only. Instead, you can define a method/function and mark it as a @property. This will then act as a read-only attribute.\n",
    "\n",
    "Properties are typically implemented for things that are calculated from (depend on) other attributes of the object. You can always use a function/method for the same purpose; properties give the convenience of not having to use paranthesis and giving the illusion that they are attributes of the object."
   ]
  },
  {
   "cell_type": "code",
   "execution_count": 48,
   "id": "c601a537",
   "metadata": {},
   "outputs": [
    {
     "name": "stdout",
     "output_type": "stream",
     "text": [
      "1996\n"
     ]
    }
   ],
   "source": [
    "class Person:\n",
    "    def __init__(self, name, age, zipcode):\n",
    "        self.name = name;\n",
    "        self.age = age;\n",
    "        self.zipcode = zipcode;\n",
    "    \n",
    "    # This is not an accurate calculation, but acceptable when we don't know birth month/year.\n",
    "    def getbirthyear(self):\n",
    "        from datetime import date\n",
    "        t = date.today();\n",
    "        return t.year - self.age\n",
    "    \n",
    "    @property\n",
    "    def birthyear(self):\n",
    "        #Instead of repeating the calculation here, let's just use getbirthyear()\n",
    "        return self.getbirthyear()\n",
    "\n",
    "p = Person('Amy',25,19063);\n",
    "print( p.birthyear )"
   ]
  },
  {
   "cell_type": "code",
   "execution_count": 53,
   "id": "53bcfe85",
   "metadata": {},
   "outputs": [
    {
     "name": "stdout",
     "output_type": "stream",
     "text": [
      "--- Caught Error: can't set attribute\n"
     ]
    }
   ],
   "source": [
    "## Properties are read-only. You can not change them like you would for regular attributes.\n",
    "try:\n",
    "    p.birthyear = 2000\n",
    "except Exception as e:\n",
    "    print('--- Caught Error: ' + str(e) )"
   ]
  },
  {
   "cell_type": "markdown",
   "id": "818aba85",
   "metadata": {},
   "source": [
    "## Private attributes start with underscore\n",
    "\n",
    "Attributes that you do not want others (by \"others\" we mean outside the class definition) to access and/or change willy-nilly are called private attributes. Private attribute names start with an underscore. This is just a convention/suggestion and not a rule Python enforces. Private attributes are typically assigned during construction or are used for internal storage."
   ]
  },
  {
   "cell_type": "code",
   "execution_count": 3,
   "id": "8b734ced",
   "metadata": {},
   "outputs": [
    {
     "name": "stdout",
     "output_type": "stream",
     "text": [
      "100000\n"
     ]
    }
   ],
   "source": [
    "class Person:\n",
    "    def __init__(self, name, age, zipcode, salary):\n",
    "        self.name = name;\n",
    "        self.age = age;\n",
    "        self.zipcode = zipcode;\n",
    "        self._salary = salary;\n",
    "        \n",
    "    # self._salary is meant to be an internal attribute that should only be adjusted by Person class.\n",
    "    # When a private attribute may be accessed by others, it is customary to provide a get...() method\n",
    "    # or a read-only @property to expose the attribute.\n",
    "    @property\n",
    "    def salary(self):\n",
    "        return self._salary\n",
    "\n",
    "p = Person('Amy',25,19063,100000);\n",
    "print( p.salary )"
   ]
  },
  {
   "cell_type": "markdown",
   "id": "7b0601bc",
   "metadata": {},
   "source": [
    "## \"Class attributes\" are constants having the same value in all objects"
   ]
  },
  {
   "cell_type": "code",
   "execution_count": 10,
   "id": "7c68e6bf",
   "metadata": {},
   "outputs": [
    {
     "name": "stdout",
     "output_type": "stream",
     "text": [
      "{'name': 'Amy', 'age': 25, 'zipcode': 19063}\n",
      "{'name': 'John', 'age': 20, 'zipcode': 19104}\n",
      "Philadelphia\n",
      "Philadelphia\n",
      "New York\n",
      "Philadelphia\n"
     ]
    }
   ],
   "source": [
    "class Person:\n",
    "    city = 'Philadelphia'\n",
    "    def __init__(self, name, age, zipcode):\n",
    "        self.name = name;\n",
    "        self.age = age;\n",
    "        self.zipcode = zipcode;\n",
    "        \n",
    "p = Person('Amy',25,19063);\n",
    "q = Person('John',20,19104);\n",
    "print( p.__dict__ )\n",
    "print( q.__dict__ )\n",
    "print( p.city )\n",
    "print( q.city )\n",
    "\n",
    "p.city = 'New York'  #this really creates a new specialized city attribute for p instance.\n",
    "print( p.city )\n",
    "print( q.city )"
   ]
  },
  {
   "cell_type": "code",
   "execution_count": 12,
   "id": "531de9e7",
   "metadata": {},
   "outputs": [
    {
     "name": "stdout",
     "output_type": "stream",
     "text": [
      "<__main__.Person object at 0x000001ECC49AA160>\n",
      "This is a Person: Name: Amy (25)\n"
     ]
    }
   ],
   "source": [
    "## Special function __str__ can be used to define how a class is converted to text.\n",
    "class Person:\n",
    "    def __init__(self, name, age, zipcode):\n",
    "        self.name = name;\n",
    "        self.age = age;\n",
    "        self.zipcode = zipcode;\n",
    "        \n",
    "\n",
    "class Person2:\n",
    "    def __init__(self, name, age, zipcode):\n",
    "        self.name = name;\n",
    "        self.age = age;\n",
    "        self.zipcode = zipcode;\n",
    "    def __str__(self):\n",
    "        return \"This is a Person: Name: %s (%d)\"%(self.name,self.age)\n",
    "        \n",
    "p = Person('Amy',25,19063);\n",
    "q = Person2('Amy',25,19063);\n",
    "\n",
    "print(p)\n",
    "print(q)"
   ]
  },
  {
   "cell_type": "markdown",
   "id": "e6c2a72c",
   "metadata": {},
   "source": [
    "## Inheritance\n",
    "* Implement a student class (who is a person) with properties program, concentration, degreeyear, and coursegrade."
   ]
  },
  {
   "cell_type": "code",
   "execution_count": 18,
   "id": "a6d2032f",
   "metadata": {},
   "outputs": [
    {
     "name": "stdout",
     "output_type": "stream",
     "text": [
      "{'name': 'Amy', 'age': 25, 'zipcode': 0, 'concentration': 'Biomed', 'degreeyear': 2030, 'coursegrade': 94.5}\n"
     ]
    }
   ],
   "source": [
    "class Person:\n",
    "    def __init__(self, name, age, zipcode):\n",
    "        self.name = name;\n",
    "        self.age = age;\n",
    "        self.zipcode = zipcode;\n",
    "    \n",
    "    # This is not an accurate calculation, but acceptable when we don't know birth month/year.\n",
    "    def getbirthyear(self):\n",
    "        from datetime import date\n",
    "        t = date.today();\n",
    "        return t.year - self.age\n",
    "    \n",
    "    @property\n",
    "    def birthyear(self):\n",
    "        #Instead of repeating the calculation here, let's just use getbirthyear()\n",
    "        return self.getbirthyear()\n",
    "\n",
    "\n",
    "class Student(Person):  #this makes all Person attributes and method now avilable in Student as well.\n",
    "    \n",
    "    #Child constructor can decide to take in same/different/additional input arguments. \n",
    "    def __init__(self, name, age, concentration, degreeyear, coursegrade):\n",
    "        # if the parent constructor has code that you don't want to replicate here, call it using super()\n",
    "        super().__init__(name, age, 0);\n",
    "        # when there are multiple parents/grandparents, you can also call a specific one's methods, e.g.,:\n",
    "        # Person.__init__(self,name,age,0)\n",
    "        \n",
    "        self.concentration = concentration\n",
    "        self.degreeyear = degreeyear\n",
    "        self.coursegrade = coursegrade\n",
    "\n",
    "\n",
    "p = Student('Amy',25,'Biomed', 2030, 94.5);\n",
    "print( p.__dict__ )\n"
   ]
  },
  {
   "cell_type": "markdown",
   "id": "4f8b8136",
   "metadata": {},
   "source": [
    "## Operator Overloading\n",
    "Overloading operators involves defining special methods. e.g, define __add__ for \"+\" operator"
   ]
  },
  {
   "cell_type": "code",
   "execution_count": 24,
   "id": "f4edb7a2",
   "metadata": {},
   "outputs": [
    {
     "name": "stdout",
     "output_type": "stream",
     "text": [
      "164.5\n",
      "194.5\n",
      "--- WARNING: Adding Student with a [str] is not supported. Returning nan.\n",
      "nan\n"
     ]
    }
   ],
   "source": [
    "class Student(Person):\n",
    "    def __init__(self, name, age, concentration, degreeyear, coursegrade):\n",
    "        super().__init__(name, age, 0);\n",
    "        self.concentration = concentration\n",
    "        self.degreeyear = degreeyear\n",
    "        self.coursegrade = coursegrade\n",
    "\n",
    "    # this function will be called whenever self + other operation is performed.\n",
    "    def __add__(self, other):\n",
    "        # it is up to you how to interpret \"other\" variable.\n",
    "        #e.g, if you want to allow other to be a Student or a number, add if statements to that effect.\n",
    "        # we already know \"self\" is a student. we only need to check what \"other\" is.\n",
    "        if isinstance(other, Student):\n",
    "            return self.coursegrade + other.coursegrade\n",
    "        elif isinstance(other, int) or isinstance(other, float):\n",
    "            return self.coursegrade + other\n",
    "        else:\n",
    "            print('--- WARNING: Adding Student with a ['+type(other).__name__+'] is not supported. Returning nan.');\n",
    "            return float('nan')\n",
    "        \n",
    "    \n",
    "p = Student('Amy',25,'Biomed', 2030, 94.5);\n",
    "q = Student('John',30,'Chemistry', 2040, 70);\n",
    "print( p + q )\n",
    "print( p + 100 )\n",
    "print( p + 'apple' )"
   ]
  }
 ],
 "metadata": {
  "kernelspec": {
   "display_name": "Python 3",
   "language": "python",
   "name": "python3"
  },
  "language_info": {
   "codemirror_mode": {
    "name": "ipython",
    "version": 3
   },
   "file_extension": ".py",
   "mimetype": "text/x-python",
   "name": "python",
   "nbconvert_exporter": "python",
   "pygments_lexer": "ipython3",
   "version": "3.8.8"
  }
 },
 "nbformat": 4,
 "nbformat_minor": 5
}
