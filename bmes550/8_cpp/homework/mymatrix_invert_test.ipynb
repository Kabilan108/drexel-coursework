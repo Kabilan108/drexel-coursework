{
 "cells": [
  {
   "attachments": {},
   "cell_type": "markdown",
   "metadata": {},
   "source": [
    "# C++ and Armadillo - Matrix Inversion\n",
    "\n",
    "**Author:** [Tony Kabilan Okeke](mailto:tko35@drexel.edu)\n",
    "\n",
    "Run this file after you compile the `mymatrix_invert.cc` file."
   ]
  },
  {
   "cell_type": "code",
   "execution_count": 3,
   "metadata": {},
   "outputs": [],
   "source": [
    "import numpy as np\n",
    "import subprocess"
   ]
  },
  {
   "cell_type": "code",
   "execution_count": 28,
   "metadata": {},
   "outputs": [
    {
     "data": {
      "text/plain": [
       "array([[-0.48421052,  0.97894734],\n",
       "       [ 0.51578945, -1.0210526 ]], dtype=float32)"
      ]
     },
     "execution_count": 28,
     "metadata": {},
     "output_type": "execute_result"
    }
   ],
   "source": [
    "# You need to compile mymatrix_invert.cc before running this script\n",
    "R, C = 2, 2\n",
    "\n",
    "# Create a new, random matrix\n",
    "M = np.random.randint(0, 100, size=(R, C)).astype(np.float32)\n",
    "np.linalg.inv(M)"
   ]
  },
  {
   "cell_type": "code",
   "execution_count": 32,
   "metadata": {},
   "outputs": [],
   "source": [
    "# Create shell command\n",
    "mat = ' '.join(M.flatten().astype(str).tolist())\n",
    "cmd = f\"mymatrix_invert {R} {C} {mat} 2>&1\""
   ]
  },
  {
   "cell_type": "code",
   "execution_count": 30,
   "metadata": {},
   "outputs": [],
   "source": [
    "subprocess.run(cmd, shell=True, check=True)"
   ]
  }
 ],
 "metadata": {
  "kernelspec": {
   "display_name": "bmes550",
   "language": "python",
   "name": "python3"
  },
  "language_info": {
   "codemirror_mode": {
    "name": "ipython",
    "version": 3
   },
   "file_extension": ".py",
   "mimetype": "text/x-python",
   "name": "python",
   "nbconvert_exporter": "python",
   "pygments_lexer": "ipython3",
   "version": "3.10.8"
  },
  "orig_nbformat": 4,
  "vscode": {
   "interpreter": {
    "hash": "d158d1c399521f28bf2f6565ef6632233c43ef6166fdc5c8cf28723e0d6c646a"
   }
  }
 },
 "nbformat": 4,
 "nbformat_minor": 2
}
