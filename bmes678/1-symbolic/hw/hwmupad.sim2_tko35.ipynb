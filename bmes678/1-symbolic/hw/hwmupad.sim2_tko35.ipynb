{
 "cells": [
  {
   "cell_type": "raw",
   "metadata": {},
   "source": [
    "---\n",
    "title: \"BMES 678: Symbolic Math PA\"\n",
    "author: \"Tony Kabilan Okeke\"\n",
    "date: \"April 4, 2024\"\n",
    "format: \n",
    "  pdf:\n",
    "    beamerarticle: true\n",
    "---"
   ]
  },
  {
   "cell_type": "markdown",
   "metadata": {},
   "source": [
    "Some problems are from the book Dynamical Systems with Matlab."
   ]
  },
  {
   "cell_type": "markdown",
   "metadata": {},
   "source": [
    "### Question 1\n",
    "\n",
    "Evaluate the following limits if they exist:\n",
    "\n",
    "\\begin{align}\n",
    "\\tag{a} &\\lim_{x\\rightarrow0} \\frac{\\sin{x}}{x} \\\\\n",
    "\\tag{b} &\\lim_{x\\rightarrow\\infty} \\frac{x^3 + 3x^2 - 5}{2x^3 - 6x} \\\\\n",
    "\\tag{c} &\\lim_{x\\rightarrow\\infty} \\frac{1}{x}\n",
    "\\end{align}\n"
   ]
  },
  {
   "cell_type": "markdown",
   "metadata": {},
   "source": [
    "### Question 2\n",
    "\n",
    "Find the derivatives of the following functions:\n",
    "\n",
    "\\begin{align}\n",
    "\\tag{a} y &= 3x^3 + 7x^2 - 6 \\\\\n",
    "\\tag{b} y &= \\sqrt{1 + x^4} \\\\\n",
    "\\tag{c} y &= x^{\\ln{x}} \n",
    "\\end{align}"
   ]
  },
  {
   "cell_type": "markdown",
   "metadata": {},
   "source": [
    "### Question 3\n",
    "\n",
    "Evaluate the following definite integrals\n",
    "\n",
    "\\begin{align}\n",
    "\\tag{a} &\\int_{0}^{1} 3x^3 + 2x^2 - 8 \\, dx \\\\\n",
    "\\tag{b} &\\int_{0}^{1} \\frac{1}{\\sqrt{x}} \\, dx \\\\\n",
    "\\tag{c} &\\int_{0}^{1} e^{-x^2} \\, dx \n",
    "\\end{align}"
   ]
  },
  {
   "cell_type": "markdown",
   "metadata": {},
   "source": [
    "### Question 4\n",
    "\n",
    "Graph the following:\n",
    "\n",
    "\\begin{align*}\n",
    "\\tag{a} y = e^{-x^2} &\\text{ for } -5 \\leq x \\leq 5 \\\\\n",
    "\\tag{b} x^2 - &7xy - y^2 = 2 \\\\\n",
    "\\tag{c} \n",
    "\\begin{cases}\n",
    "    x = t^2 - 3t \\\\ \n",
    "    y = t^3 - 9t\n",
    "\\end{cases}\n",
    "&\\text{ for } -4 \\leq t \\leq 4\n",
    "\\end{align*}"
   ]
  },
  {
   "cell_type": "markdown",
   "metadata": {},
   "source": [
    "### Question 5\n",
    "\n",
    "Show the folloiwing differential equations:\n",
    "\n",
    "\\begin{align}\n",
    "\\tag{a} \\frac{dy}{dx} &= \\frac{x}{2y} \\text{, given that } y(1) = 1 \\text{. Plot $y$ for } 0 \\leq x \\leq 10 \\\\\n",
    "\\tag{b} \\frac{dy}{dx} &= -\\frac{y}{x} \\text{, given that } y(2) = 3 \\text{. Plot $y$ for } 0 \\leq x \\leq 10 \\\\ \n",
    "\\tag{c} \\frac{d^2x}{dt^2} + 5\\frac{dx}{dt} + 6x &= 0 \\text{, given that } x(0) = 1 \\text{ and } \\dot{x}(0) = 0 \\text{. Plot $x$ for } 0 \\leq t \\leq 10\n",
    "\\end{align}"
   ]
  },
  {
   "cell_type": "markdown",
   "metadata": {},
   "source": [
    "### Question 6\n",
    "\n",
    "[Courtesy of Ken Barbee] A cell has a total receptor concentration, $R_T$. \n",
    "When a ligand, with concentration $L$, is added, irreversible receptor-ligand \n",
    "bonds are formed according to the following reaction scheme: $$R + L \\xrightarrow{k} B$$\n",
    "\n",
    "where R, L, and B are the concentrations of free (unbound) receptors, free \n",
    "ligands, and bound receptors on the surface of the cell, respectively.  Bound \n",
    "receptors are also internalized (removed from the surface) at a rate \n",
    "proportional (internalization rate constant, $k_{int}$) to the surface \n",
    "concentration of bound receptors. \n",
    "\n",
    "![Receptor pic](receptor-pic.png)\n",
    "\n",
    "Write the differential equation for the surface concentration of free and bound \n",
    "receptors in terms of the B, L, R, k and kint. \n",
    "\n",
    "In many cases, ligand is present in concentrations much greater than the \n",
    "receptor concentration such that the concentration of ligand may be treated as \n",
    "a constant.  Assuming a constant ligand concentration, L, solve for the bond \n",
    "concentration as a function of time with the initial condition that there are \n",
    "no bonds (B(0) = 0) and the initial surface receptor concentration is R0. \n",
    "Sketch a graph of the solution (B vs. time; use your own example values for the \n",
    "constants). You need to come up with your own values for the constants; these \n",
    "values have to be realistic (e.g., using 0 or negative concentrations would not \n",
    "be appropriate). "
   ]
  },
  {
   "cell_type": "markdown",
   "metadata": {},
   "source": [
    "\n",
    "$B'(t) = R\\cdot L \\cdot K$\n",
    "\n",
    "$R'(t) = - R \\cdot L \\cdot K$\n",
    "\n",
    "L is constant -> either make L a numeric coefficient or set $L'(t) = 0$\n",
    "\n",
    "\n",
    "rate of B being removed from surface -> $ -B \\cdot k_{int}$\n",
    "\n",
    "\n",
    "come up with your own numbers for ICs and then solve the equations, plot results.\n",
    "just have to be >0"
   ]
  }
 ],
 "metadata": {
  "language_info": {
   "name": "python"
  }
 },
 "nbformat": 4,
 "nbformat_minor": 2
}
