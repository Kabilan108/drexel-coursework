{
 "cells": [
  {
   "cell_type": "raw",
   "metadata": {},
   "source": [
    "---\n",
    "title: \"Symbolic Math\"\n",
    "subtitle: \"BMES 678: Programming Assignment\"\n",
    "author: \"Tony Kabilan Okeke\"\n",
    "date: \"April 4, 2024\"\n",
    "format: PrettyPDF-pdf\n",
    "---"
   ]
  },
  {
   "cell_type": "markdown",
   "metadata": {},
   "source": [
    "Some problems are from the book Dynamical Systems with Matlab."
   ]
  },
  {
   "cell_type": "markdown",
   "metadata": {},
   "source": [
    "## Setup & Definitions"
   ]
  },
  {
   "cell_type": "code",
   "execution_count": 28,
   "metadata": {},
   "outputs": [],
   "source": [
    "from matplotlib import style\n",
    "import sympy as sp\n",
    "\n",
    "sp.init_printing(use_latex=True)"
   ]
  },
  {
   "cell_type": "markdown",
   "metadata": {},
   "source": [
    "## Question 1\n",
    "\n",
    "Evaluate the following limits if they exist:\n"
   ]
  },
  {
   "cell_type": "code",
   "execution_count": 29,
   "metadata": {},
   "outputs": [],
   "source": [
    "x = sp.symbols(\"x\")"
   ]
  },
  {
   "cell_type": "markdown",
   "metadata": {},
   "source": [
    "\\begin{align}\n",
    "\\tag{a} &\\lim_{x\\rightarrow0} \\frac{\\sin{x}}{x}\n",
    "\\end{align}"
   ]
  },
  {
   "cell_type": "code",
   "execution_count": 30,
   "metadata": {},
   "outputs": [
    {
     "data": {
      "image/png": "[encoded data removed]",
      "text/latex": [
       "$\\displaystyle 1$"
      ],
      "text/plain": [
       "1"
      ]
     },
     "execution_count": 30,
     "metadata": {},
     "output_type": "execute_result"
    }
   ],
   "source": [
    "y = sp.sin(x) / x\n",
    "sp.limit(y, x, 0)"
   ]
  },
  {
   "cell_type": "markdown",
   "metadata": {},
   "source": [
    "\\begin{align}\n",
    "\\tag{b} &\\lim_{x\\rightarrow\\infty} \\frac{x^3 + 3x^2 - 5}{2x^3 - 6x}\n",
    "\\end{align}"
   ]
  },
  {
   "cell_type": "code",
   "execution_count": 31,
   "metadata": {},
   "outputs": [
    {
     "data": {
      "image/png": "[encoded data removed]",
      "text/latex": [
       "$\\displaystyle \\frac{1}{2}$"
      ],
      "text/plain": [
       "1/2"
      ]
     },
     "execution_count": 31,
     "metadata": {},
     "output_type": "execute_result"
    }
   ],
   "source": [
    "y = (x**3 + 3 * x**2 - 5) / (2 * x**3 - 6 * x)\n",
    "sp.limit(y, x, sp.oo)"
   ]
  },
  {
   "cell_type": "markdown",
   "metadata": {},
   "source": [
    "\\begin{align}\n",
    "\\tag{c} &\\lim_{x\\rightarrow0^+} \\frac{1}{x}\n",
    "\\end{align}"
   ]
  },
  {
   "cell_type": "code",
   "execution_count": 32,
   "metadata": {},
   "outputs": [
    {
     "data": {
      "image/png": "[encoded data removed]",
      "text/latex": [
       "$\\displaystyle \\infty$"
      ],
      "text/plain": [
       "∞"
      ]
     },
     "execution_count": 32,
     "metadata": {},
     "output_type": "execute_result"
    }
   ],
   "source": [
    "y = 1 / x\n",
    "sp.limit(y, x, 0, \"+\")"
   ]
  },
  {
   "cell_type": "markdown",
   "metadata": {},
   "source": [
    "## Question 2\n",
    "\n",
    "Find the derivatives of the following functions:\n"
   ]
  },
  {
   "cell_type": "code",
   "execution_count": 33,
   "metadata": {},
   "outputs": [],
   "source": [
    "x = sp.symbols(\"x\")"
   ]
  },
  {
   "cell_type": "markdown",
   "metadata": {},
   "source": [
    "\n",
    "\\begin{align}\n",
    "\\tag{a} y &= 3x^3 + 7x^2 - 6\n",
    "\\end{align}"
   ]
  },
  {
   "cell_type": "code",
   "execution_count": 34,
   "metadata": {},
   "outputs": [
    {
     "data": {
      "image/png": "[encoded data removed]",
      "text/latex": [
       "$\\displaystyle 9 x^{2} + 14 x$"
      ],
      "text/plain": [
       "   2       \n",
       "9⋅x  + 14⋅x"
      ]
     },
     "execution_count": 34,
     "metadata": {},
     "output_type": "execute_result"
    }
   ],
   "source": [
    "y = 3 * x**3 + 7 * x**2 - 6\n",
    "sp.diff(y, x)"
   ]
  },
  {
   "cell_type": "markdown",
   "metadata": {},
   "source": [
    "\n",
    "\n",
    "\\begin{align}\n",
    "\\tag{b} y &= \\sqrt{1 + x^4}\n",
    "\\end{align}"
   ]
  },
  {
   "cell_type": "code",
   "execution_count": 35,
   "metadata": {},
   "outputs": [
    {
     "data": {
      "image/png": "[encoded data removed]",
      "text/latex": [
       "$\\displaystyle \\frac{2 x^{3}}{\\sqrt{x^{4} + 1}}$"
      ],
      "text/plain": [
       "       3   \n",
       "    2⋅x    \n",
       "───────────\n",
       "   ________\n",
       "  ╱  4     \n",
       "╲╱  x  + 1 "
      ]
     },
     "execution_count": 35,
     "metadata": {},
     "output_type": "execute_result"
    }
   ],
   "source": [
    "y = sp.sqrt(1 + x**4)\n",
    "sp.diff(y, x)"
   ]
  },
  {
   "cell_type": "markdown",
   "metadata": {},
   "source": [
    "\n",
    "\\begin{align}\n",
    "\\tag{c} y = x^{\\ln{x}} \n",
    "\\end{align}"
   ]
  },
  {
   "cell_type": "code",
   "execution_count": 36,
   "metadata": {},
   "outputs": [
    {
     "data": {
      "image/png": "[encoded data removed]",
      "text/latex": [
       "$\\displaystyle \\frac{2 x^{\\log{\\left(x \\right)}} \\log{\\left(x \\right)}}{x}$"
      ],
      "text/plain": [
       "   log(x)       \n",
       "2⋅x      ⋅log(x)\n",
       "────────────────\n",
       "       x        "
      ]
     },
     "execution_count": 36,
     "metadata": {},
     "output_type": "execute_result"
    }
   ],
   "source": [
    "y = x ** sp.log(x)\n",
    "sp.diff(y, x)"
   ]
  },
  {
   "cell_type": "markdown",
   "metadata": {},
   "source": [
    "## Question 3\n",
    "\n",
    "Evaluate the following definite integrals\n"
   ]
  },
  {
   "cell_type": "code",
   "execution_count": 37,
   "metadata": {},
   "outputs": [],
   "source": [
    "x = sp.symbols(\"x\")"
   ]
  },
  {
   "cell_type": "markdown",
   "metadata": {},
   "source": [
    "\n",
    "\\begin{align}\n",
    "\\tag{a} &\\int_{0}^{1} 3x^3 + 2x^2 - 8 \\, dx\n",
    "\\end{align}"
   ]
  },
  {
   "cell_type": "code",
   "execution_count": 38,
   "metadata": {},
   "outputs": [
    {
     "data": {
      "image/png": "[encoded data removed]",
      "text/latex": [
       "$\\displaystyle - \\frac{79}{12}$"
      ],
      "text/plain": [
       "-79 \n",
       "────\n",
       " 12 "
      ]
     },
     "execution_count": 38,
     "metadata": {},
     "output_type": "execute_result"
    }
   ],
   "source": [
    "y = 3 * x**3 + 2 * x**2 - 8\n",
    "sp.integrate(y, (x, 0, 1))"
   ]
  },
  {
   "cell_type": "markdown",
   "metadata": {},
   "source": [
    "\n",
    "\\begin{align}\n",
    "\\tag{b} &\\int_{0}^{1} \\frac{1}{\\sqrt{x}} \\, dx\n",
    "\\end{align}\n"
   ]
  },
  {
   "cell_type": "code",
   "execution_count": 39,
   "metadata": {},
   "outputs": [
    {
     "data": {
      "image/png": "[encoded data removed]",
      "text/latex": [
       "$\\displaystyle 2$"
      ],
      "text/plain": [
       "2"
      ]
     },
     "execution_count": 39,
     "metadata": {},
     "output_type": "execute_result"
    }
   ],
   "source": [
    "y = 1 / sp.sqrt(x)\n",
    "sp.integrate(y, (x, 0, 1))"
   ]
  },
  {
   "cell_type": "markdown",
   "metadata": {},
   "source": [
    "\n",
    "\\begin{align}\n",
    "\\tag{c} \\int_{0}^{1} e^{-x^2} \\, dx \n",
    "\\end{align}"
   ]
  },
  {
   "cell_type": "code",
   "execution_count": 40,
   "metadata": {},
   "outputs": [
    {
     "data": {
      "image/png": "[encoded data removed]",
      "text/latex": [
       "$\\displaystyle \\frac{\\sqrt{\\pi} \\operatorname{erf}{\\left(1 \\right)}}{2}$"
      ],
      "text/plain": [
       "√π⋅erf(1)\n",
       "─────────\n",
       "    2    "
      ]
     },
     "execution_count": 40,
     "metadata": {},
     "output_type": "execute_result"
    }
   ],
   "source": [
    "y = sp.exp(-(x**2))\n",
    "sp.integrate(y, (x, 0, 1))"
   ]
  },
  {
   "cell_type": "markdown",
   "metadata": {},
   "source": [
    "## Question 4\n",
    "\n",
    "Graph the following:\n"
   ]
  },
  {
   "cell_type": "code",
   "execution_count": 50,
   "metadata": {},
   "outputs": [],
   "source": [
    "x, y, t = sp.symbols(\"x y t\")"
   ]
  },
  {
   "cell_type": "markdown",
   "metadata": {},
   "source": [
    "\n",
    "\\begin{align*}\n",
    "\\tag{a} y = e^{-x^2} &\\text{ for } -5 \\leq x \\leq 5 \n",
    "\\end{align*}"
   ]
  },
  {
   "cell_type": "code",
   "execution_count": 51,
   "metadata": {},
   "outputs": [
    {
     "data": {
      "image/png": "[encoded data removed]",
      "text/plain": [
       "<Figure size 400x300 with 1 Axes>"
      ]
     },
     "metadata": {},
     "output_type": "display_data"
    },
    {
     "data": {
      "text/plain": [
       "<sympy.plotting.plot.Plot at 0x760b839f7c10>"
      ]
     },
     "execution_count": 51,
     "metadata": {},
     "output_type": "execute_result"
    }
   ],
   "source": [
    "# | fig-align: center\n",
    "# | fig-cap: \"Plot of $y = e^{-x^2}$ for $-5 \\\\leq x \\\\leq 5$\"\n",
    "\n",
    "expr = sp.exp(-(x**2))\n",
    "sp.plot(expr, (x, -5, 5), size=(4, 3))"
   ]
  },
  {
   "cell_type": "markdown",
   "metadata": {},
   "source": [
    "\n",
    "\\begin{align*}\n",
    "\\tag{b} x^2 - &7xy - y^2 = 2 \n",
    "\\end{align*}"
   ]
  },
  {
   "cell_type": "code",
   "execution_count": 52,
   "metadata": {},
   "outputs": [
    {
     "data": {
      "image/png": "[encoded data removed]",
      "text/plain": [
       "<Figure size 400x300 with 1 Axes>"
      ]
     },
     "metadata": {},
     "output_type": "display_data"
    },
    {
     "data": {
      "text/plain": [
       "<sympy.plotting.plot.Plot at 0x760b83869690>"
      ]
     },
     "execution_count": 52,
     "metadata": {},
     "output_type": "execute_result"
    }
   ],
   "source": [
    "# | fig-align: center\n",
    "# | fig-cap: \"Plot of $x^2 - 7xy - y^2 = 2$\"\n",
    "\n",
    "expr = sp.Eq(x**2 - 7 * x * y - y**2, 2)\n",
    "sp.plot_implicit(expr, x, y, size=(4, 3))"
   ]
  },
  {
   "cell_type": "markdown",
   "metadata": {},
   "source": [
    "\n",
    "\\begin{align*}\n",
    "\\tag{c} \n",
    "\\begin{cases}\n",
    "    x = t^2 - 3t \\\\ \n",
    "    y = t^3 - 9t\n",
    "\\end{cases}\n",
    "&\\text{ for } -4 \\leq t \\leq 4\n",
    "\\end{align*}"
   ]
  },
  {
   "cell_type": "code",
   "execution_count": 53,
   "metadata": {},
   "outputs": [
    {
     "data": {
      "image/png": "[encoded data removed]",
      "text/plain": [
       "<Figure size 400x300 with 1 Axes>"
      ]
     },
     "metadata": {},
     "output_type": "display_data"
    },
    {
     "data": {
      "text/plain": [
       "<sympy.plotting.plot.Plot at 0x760b839f7a30>"
      ]
     },
     "execution_count": 53,
     "metadata": {},
     "output_type": "execute_result"
    }
   ],
   "source": [
    "# | fig-align: center\n",
    "# | fig-cap: \"Plot of $x = t^2 - 3t$ and $y = t^3 - 9t$ for $-4 \\\\leq t \\\\leq 4$\"\n",
    "\n",
    "x = t**2 - 3*t\n",
    "y = t**3 - 9*t\n",
    "sp.plot_parametric(x, y, (t, -4, 4), size=(4, 3))"
   ]
  },
  {
   "cell_type": "markdown",
   "metadata": {},
   "source": [
    "## Question 5\n",
    "\n",
    "Show the folloiwing differential equations:\n"
   ]
  },
  {
   "cell_type": "code",
   "execution_count": 73,
   "metadata": {},
   "outputs": [],
   "source": [
    "x = sp.symbols(\"x\")\n",
    "y = sp.Function('y')(x)"
   ]
  },
  {
   "cell_type": "markdown",
   "metadata": {},
   "source": [
    "\n",
    "\\begin{align}\n",
    "\\tag{a} \\frac{dy}{dx} &= \\frac{x}{2y} \\text{, given that } y(1) = 1 \\text{. Plot $y$ for } 0 \\leq x \\leq 10\n",
    "\\end{align}"
   ]
  },
  {
   "cell_type": "code",
   "execution_count": 63,
   "metadata": {},
   "outputs": [
    {
     "data": {
      "image/png": "[encoded data removed]",
      "text/plain": [
       "<Figure size 400x300 with 1 Axes>"
      ]
     },
     "metadata": {},
     "output_type": "display_data"
    },
    {
     "data": {
      "text/plain": [
       "<sympy.plotting.plot.Plot at 0x760b83f3ab30>"
      ]
     },
     "execution_count": 63,
     "metadata": {},
     "output_type": "execute_result"
    }
   ],
   "source": [
    "# | fig-align: center\n",
    "# | fig-cap: \"Plot of the solution to $\\\\frac{dy}{dx} = \\\\frac{x}{2y}$ given $y(1) = 1$\"\n",
    "\n",
    "diff = sp.Eq(sp.Derivative(y, x), x / (2*y))\n",
    "soln = sp.dsolve(diff, y, ics={y.subs(x, 1): 1})\n",
    "sp.plot(soln.rhs, (x, 0, 10), size=(4, 3))"
   ]
  },
  {
   "cell_type": "markdown",
   "metadata": {},
   "source": [
    "\n",
    "\\begin{align}\n",
    "\\tag{b} \\frac{dy}{dx} &= -\\frac{y}{x} \\text{, given that } y(2) = 3 \\text{. Plot $y$ for } 0 \\leq x \\leq 10\n",
    "\\end{align}"
   ]
  },
  {
   "cell_type": "code",
   "execution_count": 64,
   "metadata": {},
   "outputs": [
    {
     "data": {
      "image/png": "[encoded data removed]",
      "text/plain": [
       "<Figure size 400x300 with 1 Axes>"
      ]
     },
     "metadata": {},
     "output_type": "display_data"
    },
    {
     "data": {
      "text/plain": [
       "<sympy.plotting.plot.Plot at 0x760b83e22b30>"
      ]
     },
     "execution_count": 64,
     "metadata": {},
     "output_type": "execute_result"
    }
   ],
   "source": [
    "# | fig-align: center\n",
    "# | fig-cap: \"Plot of the solution to $\\\\frac{dy}{dx} = \\\\frac{-y}{x}$ given $y(2) = 3$\"\n",
    "\n",
    "diff = sp.Eq(sp.Derivative(y, x), -y / x)\n",
    "soln = sp.dsolve(diff, y, ics={y.subs(x, 2): 3})\n",
    "sp.plot(soln.rhs, (x, 0, 10), size=(4, 3))"
   ]
  },
  {
   "cell_type": "markdown",
   "metadata": {},
   "source": [
    "\n",
    "\\begin{align}\n",
    "\\tag{c} \\frac{d^2x}{dt^2} + 5\\frac{dx}{dt} + 6x &= 0 \\text{, given that } x(0) = 1 \\text{ and } \\dot{x}(0) = 0 \\text{. Plot $x$ for } 0 \\leq t \\leq 10\n",
    "\\end{align}"
   ]
  },
  {
   "cell_type": "code",
   "execution_count": 74,
   "metadata": {},
   "outputs": [
    {
     "data": {
      "image/png": "[encoded data removed]",
      "text/plain": [
       "<Figure size 400x300 with 1 Axes>"
      ]
     },
     "metadata": {},
     "output_type": "display_data"
    },
    {
     "data": {
      "text/plain": [
       "<sympy.plotting.plot.Plot at 0x760b82fa3ee0>"
      ]
     },
     "execution_count": 74,
     "metadata": {},
     "output_type": "execute_result"
    }
   ],
   "source": [
    "# | fig-align: center\n",
    "# | fig-cap: \"Plot of the solution to $\\\\frac{d^2x}{dt^2} + 5\\\\frac{dx}{dt} + 6x = 0$ given $x(0) = 1$ and $\\\\dot{x}(0) = 0$\"\n",
    "\n",
    "t = sp.symbols(\"t\")\n",
    "x = sp.Function(\"x\")(t)\n",
    "\n",
    "diff = sp.Eq(sp.Derivative(x, t, t) + 5*sp.Derivative(x, t) + 6*x, 0)\n",
    "soln = sp.dsolve(diff, x, ics={\n",
    "    x.subs(t, 0): 1,\n",
    "    sp.Derivative(x, t).subs(t, 0): 0\n",
    "})\n",
    "sp.plot(soln.rhs, (t, 0, 10), size=(4, 3))"
   ]
  },
  {
   "cell_type": "markdown",
   "metadata": {},
   "source": [
    "## Question 6\n",
    "\n",
    "[Courtesy of Ken Barbee] A cell has a total receptor concentration, $R_T$. \n",
    "When a ligand, with concentration $L$, is added, irreversible receptor-ligand \n",
    "bonds are formed according to the following reaction scheme: $$R + L \\xrightarrow{k} B$$\n",
    "\n",
    "where R, L, and B are the concentrations of free (unbound) receptors, free \n",
    "ligands, and bound receptors on the surface of the cell, respectively.  Bound \n",
    "receptors are also internalized (removed from the surface) at a rate \n",
    "proportional (internalization rate constant, $k_{int}$) to the surface \n",
    "concentration of bound receptors. \n",
    "\n",
    "![Receptor pic](receptor-pic.png)\n",
    "\n",
    "Write the differential equation for the surface concentration of free and bound \n",
    "receptors in terms of the B, L, R, k and kint. \n",
    "\n",
    "In many cases, ligand is present in concentrations much greater than the \n",
    "receptor concentration such that the concentration of ligand may be treated as \n",
    "a constant.  Assuming a constant ligand concentration, L, solve for the bond \n",
    "concentration as a function of time with the initial condition that there are \n",
    "no bonds (B(0) = 0) and the initial surface receptor concentration is R0. \n",
    "Sketch a graph of the solution (B vs. time; use your own example values for the \n",
    "constants). You need to come up with your own values for the constants; these \n",
    "values have to be realistic (e.g., using 0 or negative concentrations would not \n",
    "be appropriate). "
   ]
  },
  {
   "cell_type": "markdown",
   "metadata": {},
   "source": [
    "\n",
    "$B'(t) = R\\cdot L \\cdot K$\n",
    "\n",
    "$R'(t) = - R \\cdot L \\cdot K$\n",
    "\n",
    "L is constant -> either make L a numeric coefficient or set $L'(t) = 0$\n",
    "\n",
    "\n",
    "rate of B being removed from surface -> $ -B \\cdot k_{int}$\n",
    "\n",
    "\n",
    "come up with your own numbers for ICs and then solve the equations, plot results.\n",
    "just have to be >0"
   ]
  }
 ],
 "metadata": {
  "kernelspec": {
   "display_name": "678",
   "language": "python",
   "name": "python3"
  },
  "language_info": {
   "codemirror_mode": {
    "name": "ipython",
    "version": 3
   },
   "file_extension": ".py",
   "mimetype": "text/x-python",
   "name": "python",
   "nbconvert_exporter": "python",
   "pygments_lexer": "ipython3",
   "version": "3.10.14"
  }
 },
 "nbformat": 4,
 "nbformat_minor": 2
}
