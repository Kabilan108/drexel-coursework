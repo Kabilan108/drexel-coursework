{
 "cells": [
  {
   "cell_type": "markdown",
   "metadata": {},
   "source": [
    "## Keras: The High-Level Wrapper"
   ]
  },
  {
   "cell_type": "markdown",
   "metadata": {},
   "source": [
    "Deep Learning frameworks operate at 2 levels of abstractions: Low Level — where mathematical operations and neural network primitives are implemented (TensorFlow, Theano, PyTorch etc.) and High Level — where low level primitives are used to implement neural network abstractions, such as models and layers (Keras)."
   ]
  },
  {
   "cell_type": "markdown",
   "metadata": {},
   "source": [
    "Keras is a wrapper over its backend libraries, which can be TensorFlow or Theano — meaning that if you’re using Keras with TensorFlow backend, you’re running TensorFlow code. Keras takes care a lot of the nitty-gritty details for you, as it’s geared towards neural network technology consumers and is well suited for those practicing data science. It allows for easy and fast prototyping, supports multiple neural network architectures, and runs seamlessly on CPU/GPU. https://keras.io/"
   ]
  },
  {
   "cell_type": "markdown",
   "metadata": {},
   "source": [
    "#### The model output can be simply plotted or using Tensorboard, "
   ]
  },
  {
   "cell_type": "code",
   "execution_count": 8,
   "metadata": {},
   "outputs": [],
   "source": [
    "import keras\n",
    "import numpy as np\n",
    "from keras.models import Sequential\n",
    "from keras.layers.core import Dense, Activation\n",
    "from keras.optimizers import SGD\n",
    "import matplotlib.pyplot as plt\n",
    "from keras.callbacks import TensorBoard\n",
    "from time import time"
   ]
  },
  {
   "cell_type": "markdown",
   "metadata": {},
   "source": [
    "Batch size = 32, Input Dimension = 500, Hidden Dimension = 50"
   ]
  },
  {
   "cell_type": "markdown",
   "metadata": {},
   "source": [
    "Create the model\n",
    "\n",
    "model = Sequential()\n",
    "model.add(Dense(input_dim=500, output_dim=50))\n",
    "model.add(Activation('relu'))\n",
    "model.add(Dense(input_dim=50, output_dim=500))"
   ]
  },
  {
   "cell_type": "code",
   "execution_count": 9,
   "metadata": {},
   "outputs": [],
   "source": [
    "model = Sequential()\n",
    "model.add(Dense(units=50, input_dim=500))\n",
    "model.add(Activation('relu'))\n",
    "model.add(Dense(units=500, input_dim=50))"
   ]
  },
  {
   "cell_type": "markdown",
   "metadata": {},
   "source": [
    "Define optimizer object"
   ]
  },
  {
   "cell_type": "code",
   "execution_count": 10,
   "metadata": {},
   "outputs": [],
   "source": [
    "optimizer = SGD(lr=1e0)"
   ]
  },
  {
   "cell_type": "markdown",
   "metadata": {},
   "source": [
    "Compile the model"
   ]
  },
  {
   "cell_type": "code",
   "execution_count": 11,
   "metadata": {},
   "outputs": [],
   "source": [
    "model.compile(loss='mean_squared_error', optimizer=optimizer)"
   ]
  },
  {
   "cell_type": "markdown",
   "metadata": {},
   "source": [
    "Randomize data"
   ]
  },
  {
   "cell_type": "code",
   "execution_count": 12,
   "metadata": {},
   "outputs": [],
   "source": [
    "x = np.random.randn(32, 500)\n",
    "y = np.random.randn(32, 500)"
   ]
  },
  {
   "cell_type": "markdown",
   "metadata": {},
   "source": [
    "### Using Tensorboard to monitor progress"
   ]
  },
  {
   "cell_type": "code",
   "execution_count": 13,
   "metadata": {},
   "outputs": [
    {
     "name": "stderr",
     "output_type": "stream",
     "text": [
      "2023-04-16 16:28:07.372026: I tensorflow/core/profiler/lib/profiler_session.cc:164] Profiler session started.\n"
     ]
    }
   ],
   "source": [
    "# tensorboard = TensorBoard(log_dir=\"logss/{}\".format(time()))"
   ]
  },
  {
   "cell_type": "code",
   "execution_count": 16,
   "metadata": {},
   "outputs": [
    {
     "name": "stdout",
     "output_type": "stream",
     "text": [
      "Epoch 1/50\n",
      "1/1 [==============================] - 0s 1ms/step - loss: 0.6714\n",
      "Epoch 2/50\n",
      "1/1 [==============================] - 0s 908us/step - loss: 0.6614\n",
      "Epoch 3/50\n",
      "1/1 [==============================] - 0s 1ms/step - loss: 0.6515\n",
      "Epoch 4/50\n",
      "1/1 [==============================] - 0s 752us/step - loss: 0.6414\n",
      "Epoch 5/50\n",
      "1/1 [==============================] - 0s 1ms/step - loss: 0.6313\n",
      "Epoch 6/50\n",
      "1/1 [==============================] - 0s 1ms/step - loss: 0.6212\n",
      "Epoch 7/50\n",
      "1/1 [==============================] - 0s 802us/step - loss: 0.6111\n",
      "Epoch 8/50\n",
      "1/1 [==============================] - 0s 850us/step - loss: 0.6009\n",
      "Epoch 9/50\n",
      "1/1 [==============================] - 0s 1ms/step - loss: 0.5907\n",
      "Epoch 10/50\n",
      "1/1 [==============================] - 0s 692us/step - loss: 0.5806\n",
      "Epoch 11/50\n",
      "1/1 [==============================] - 0s 1ms/step - loss: 0.5704\n",
      "Epoch 12/50\n",
      "1/1 [==============================] - 0s 763us/step - loss: 0.5603\n",
      "Epoch 13/50\n",
      "1/1 [==============================] - 0s 855us/step - loss: 0.5503\n",
      "Epoch 14/50\n",
      "1/1 [==============================] - 0s 576us/step - loss: 0.5402\n",
      "Epoch 15/50\n",
      "1/1 [==============================] - 0s 899us/step - loss: 0.5303\n",
      "Epoch 16/50\n",
      "1/1 [==============================] - 0s 1ms/step - loss: 0.5204\n",
      "Epoch 17/50\n",
      "1/1 [==============================] - 0s 1ms/step - loss: 0.5105\n",
      "Epoch 18/50\n",
      "1/1 [==============================] - 0s 2ms/step - loss: 0.5008\n",
      "Epoch 19/50\n",
      "1/1 [==============================] - 0s 767us/step - loss: 0.4911\n",
      "Epoch 20/50\n",
      "1/1 [==============================] - 0s 1ms/step - loss: 0.4816\n",
      "Epoch 21/50\n",
      "1/1 [==============================] - 0s 2ms/step - loss: 0.4721\n",
      "Epoch 22/50\n",
      "1/1 [==============================] - 0s 1ms/step - loss: 0.4628\n",
      "Epoch 23/50\n",
      "1/1 [==============================] - 0s 1ms/step - loss: 0.4535\n",
      "Epoch 24/50\n",
      "1/1 [==============================] - 0s 885us/step - loss: 0.4444\n",
      "Epoch 25/50\n",
      "1/1 [==============================] - 0s 1ms/step - loss: 0.4354\n",
      "Epoch 26/50\n",
      "1/1 [==============================] - 0s 625us/step - loss: 0.4265\n",
      "Epoch 27/50\n",
      "1/1 [==============================] - 0s 602us/step - loss: 0.4178\n",
      "Epoch 28/50\n",
      "1/1 [==============================] - 0s 817us/step - loss: 0.4092\n",
      "Epoch 29/50\n",
      "1/1 [==============================] - 0s 702us/step - loss: 0.4007\n",
      "Epoch 30/50\n",
      "1/1 [==============================] - 0s 1ms/step - loss: 0.3923\n",
      "Epoch 31/50\n",
      "1/1 [==============================] - 0s 1ms/step - loss: 0.3841\n",
      "Epoch 32/50\n",
      "1/1 [==============================] - 0s 887us/step - loss: 0.3760\n",
      "Epoch 33/50\n",
      "1/1 [==============================] - 0s 725us/step - loss: 0.3681\n",
      "Epoch 34/50\n",
      "1/1 [==============================] - 0s 1ms/step - loss: 0.3603\n",
      "Epoch 35/50\n",
      "1/1 [==============================] - 0s 1ms/step - loss: 0.3526\n",
      "Epoch 36/50\n",
      "1/1 [==============================] - 0s 780us/step - loss: 0.3451\n",
      "Epoch 37/50\n",
      "1/1 [==============================] - 0s 906us/step - loss: 0.3377\n",
      "Epoch 38/50\n",
      "1/1 [==============================] - 0s 752us/step - loss: 0.3305\n",
      "Epoch 39/50\n",
      "1/1 [==============================] - 0s 736us/step - loss: 0.3234\n",
      "Epoch 40/50\n",
      "1/1 [==============================] - 0s 820us/step - loss: 0.3164\n",
      "Epoch 41/50\n",
      "1/1 [==============================] - 0s 647us/step - loss: 0.3096\n",
      "Epoch 42/50\n",
      "1/1 [==============================] - 0s 766us/step - loss: 0.3029\n",
      "Epoch 43/50\n",
      "1/1 [==============================] - 0s 673us/step - loss: 0.2963\n",
      "Epoch 44/50\n",
      "1/1 [==============================] - 0s 903us/step - loss: 0.2899\n",
      "Epoch 45/50\n",
      "1/1 [==============================] - 0s 677us/step - loss: 0.2836\n",
      "Epoch 46/50\n",
      "1/1 [==============================] - 0s 679us/step - loss: 0.2774\n",
      "Epoch 47/50\n",
      "1/1 [==============================] - 0s 746us/step - loss: 0.2713\n",
      "Epoch 48/50\n",
      "1/1 [==============================] - 0s 916us/step - loss: 0.2654\n",
      "Epoch 49/50\n",
      "1/1 [==============================] - 0s 764us/step - loss: 0.2596\n",
      "Epoch 50/50\n",
      "1/1 [==============================] - 0s 738us/step - loss: 0.2539\n"
     ]
    }
   ],
   "source": [
    "# summary = model.fit(x, y, epochs=50, batch_size=64, verbose=1, callbacks=[tensorboard])\n",
    "summary = model.fit(x, y, epochs=50, batch_size=64, verbose=1)\n",
    "# tensorboard --logdir=./logss/ \n",
    "# localhost:6006"
   ]
  },
  {
   "cell_type": "markdown",
   "metadata": {},
   "source": [
    "### Alternatively, fit the model and plot the loss"
   ]
  },
  {
   "cell_type": "code",
   "execution_count": null,
   "metadata": {
    "tags": []
   },
   "outputs": [],
   "source": [
    "# summary = model.fit(x, y, epochs=50, batch_size=64, verbose=0) # verbose=1"
   ]
  },
  {
   "cell_type": "markdown",
   "metadata": {},
   "source": [
    "In this example doing similar neural network training as above, I first define the model object as a sequence of layers, then define the optimizer object. Next, I build the model, specify loss function, and train the model with a single ‘fit’ line."
   ]
  },
  {
   "cell_type": "markdown",
   "metadata": {},
   "source": [
    "list all data in summary"
   ]
  },
  {
   "cell_type": "code",
   "execution_count": 7,
   "metadata": {},
   "outputs": [
    {
     "name": "stdout",
     "output_type": "stream",
     "text": [
      "dict_keys(['loss'])\n"
     ]
    }
   ],
   "source": [
    "print(summary.history.keys())"
   ]
  },
  {
   "cell_type": "code",
   "execution_count": 9,
   "metadata": {},
   "outputs": [
    {
     "name": "stdout",
     "output_type": "stream",
     "text": [
      "<class 'keras.callbacks.History'>\n"
     ]
    }
   ],
   "source": [
    "print (type(summary))"
   ]
  },
  {
   "cell_type": "markdown",
   "metadata": {},
   "source": [
    "summarize history for loss"
   ]
  },
  {
   "cell_type": "code",
   "execution_count": 15,
   "metadata": {},
   "outputs": [
    {
     "data": {
      "image/png": "[encoded data removed]",
      "text/plain": [
       "<Figure size 640x480 with 1 Axes>"
      ]
     },
     "metadata": {},
     "output_type": "display_data"
    }
   ],
   "source": [
    "plt.plot(summary.history['loss'])\n",
    "plt.title('model loss')\n",
    "plt.ylabel('loss')\n",
    "plt.xlabel('epoch')\n",
    "plt.show()"
   ]
  },
  {
   "cell_type": "code",
   "execution_count": null,
   "metadata": {
    "collapsed": true,
    "jupyter": {
     "outputs_hidden": true
    }
   },
   "outputs": [],
   "source": []
  }
 ],
 "metadata": {
  "kernelspec": {
   "display_name": "Python 3 (ipykernel)",
   "language": "python",
   "name": "python3"
  },
  "language_info": {
   "codemirror_mode": {
    "name": "ipython",
    "version": 3
   },
   "file_extension": ".py",
   "mimetype": "text/x-python",
   "name": "python",
   "nbconvert_exporter": "python",
   "pygments_lexer": "ipython3",
   "version": "3.8.15"
  }
 },
 "nbformat": 4,
 "nbformat_minor": 4
}
