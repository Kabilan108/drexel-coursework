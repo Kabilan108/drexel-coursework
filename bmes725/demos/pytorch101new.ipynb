{
 "cells": [
  {
   "cell_type": "markdown",
   "metadata": {},
   "source": [
    "### We fit a 2-layer net using PyTorch Tensors\n",
    "Now pytorch: no need the Variable wrapper"
   ]
  },
  {
   "cell_type": "code",
   "execution_count": 1,
   "metadata": {},
   "outputs": [],
   "source": [
    "# -*- coding: utf-8 -*-\n",
    "import torch\n",
    "import numpy as np\n",
    "import matplotlib.pyplot as plt"
   ]
  },
  {
   "cell_type": "code",
   "execution_count": 2,
   "metadata": {},
   "outputs": [],
   "source": [
    "dtype = torch.float\n",
    "device = torch.device(\"cpu\")\n",
    "# dtype = torch.device(\"cuda:0\") # Uncomment this to run on GPU"
   ]
  },
  {
   "cell_type": "code",
   "execution_count": 3,
   "metadata": {},
   "outputs": [],
   "source": [
    "# N is batch size; D_in is input dimension;\n",
    "# H is hidden dimension; D_out is output dimension.\n",
    "N, D_in, H, D_out = 64, 1000, 100, 10"
   ]
  },
  {
   "cell_type": "code",
   "execution_count": 4,
   "metadata": {},
   "outputs": [],
   "source": [
    "# Create random Tensors to hold input and outputs.\n",
    "# Setting requires_grad=False indicates that we do not need to compute gradients\n",
    "# with respect to these Tensors during the backward pass.\n",
    "x = torch.randn(N, D_in, device=device, dtype=dtype) # input\n",
    "y = torch.randn(N, D_out, device=device, dtype=dtype) # target"
   ]
  },
  {
   "cell_type": "code",
   "execution_count": 5,
   "metadata": {},
   "outputs": [],
   "source": [
    "# Create random Tensors for weights.\n",
    "# Setting requires_grad=True indicates that we want to compute gradients with\n",
    "# respect to these Tensors during the backward pass.\n",
    "w1 = torch.randn(D_in, H, device=device, dtype=dtype, requires_grad=True)\n",
    "w2 = torch.randn(H, D_out, device=device, dtype=dtype, requires_grad=True)\n"
   ]
  },
  {
   "cell_type": "code",
   "execution_count": 6,
   "metadata": {},
   "outputs": [],
   "source": [
    "# Collect errors to evaluate performance\n",
    "errorlist = [];"
   ]
  },
  {
   "cell_type": "code",
   "execution_count": 7,
   "metadata": {},
   "outputs": [
    {
     "name": "stdout",
     "output_type": "stream",
     "text": [
      "0 26801694.0\n",
      "1 22013472.0\n",
      "2 21431112.0\n",
      "3 22217142.0\n",
      "4 22111434.0\n",
      "5 19887184.0\n",
      "6 15543956.0\n",
      "7 10689017.0\n",
      "8 6669328.5\n",
      "9 4010181.5\n",
      "10 2444278.5\n",
      "11 1575021.625\n",
      "12 1091524.25\n",
      "13 812627.5625\n",
      "14 640753.875\n",
      "15 526469.5\n",
      "16 444470.90625\n",
      "17 381934.125\n",
      "18 332003.1875\n",
      "19 290920.1875\n",
      "20 256342.515625\n",
      "21 226860.84375\n",
      "22 201486.984375\n",
      "23 179532.71875\n",
      "24 160448.78125\n",
      "25 143756.09375\n",
      "26 129079.0703125\n",
      "27 116149.1875\n",
      "28 104728.8046875\n",
      "29 94595.65625\n",
      "30 85585.921875\n",
      "31 77551.1015625\n",
      "32 70378.9453125\n",
      "33 63972.65625\n",
      "34 58224.7734375\n",
      "35 53058.75\n",
      "36 48407.8984375\n",
      "37 44218.3203125\n",
      "38 40434.8515625\n",
      "39 37013.69921875\n",
      "40 33912.640625\n",
      "41 31101.6484375\n",
      "42 28549.474609375\n",
      "43 26229.00390625\n",
      "44 24116.24609375\n",
      "45 22191.80078125\n",
      "46 20435.626953125\n",
      "47 18831.103515625\n",
      "48 17364.458984375\n",
      "49 16022.1572265625\n",
      "50 14793.48046875\n",
      "51 13666.8046875\n",
      "52 12634.171875\n",
      "53 11686.693359375\n",
      "54 10815.73046875\n",
      "55 10015.2021484375\n",
      "56 9278.4423828125\n",
      "57 8600.80859375\n",
      "58 7976.6015625\n",
      "59 7401.5126953125\n",
      "60 6871.28076171875\n",
      "61 6381.74755859375\n",
      "62 5929.8798828125\n",
      "63 5512.38720703125\n",
      "64 5126.67529296875\n",
      "65 4769.7724609375\n",
      "66 4439.4765625\n",
      "67 4133.693359375\n",
      "68 3850.547607421875\n",
      "69 3588.23828125\n",
      "70 3344.97265625\n",
      "71 3119.36962890625\n",
      "72 2910.044921875\n",
      "73 2715.725830078125\n",
      "74 2535.2880859375\n",
      "75 2367.601806640625\n",
      "76 2211.768798828125\n",
      "77 2066.830810546875\n",
      "78 1932.0087890625\n",
      "79 1806.5142822265625\n",
      "80 1689.7060546875\n",
      "81 1580.956298828125\n",
      "82 1479.6796875\n",
      "83 1385.269287109375\n",
      "84 1297.252197265625\n",
      "85 1215.234619140625\n",
      "86 1138.636474609375\n",
      "87 1067.189208984375\n",
      "88 1000.4849243164062\n",
      "89 938.2196044921875\n",
      "90 880.0377807617188\n",
      "91 825.660888671875\n",
      "92 774.8504638671875\n",
      "93 727.3590087890625\n",
      "94 682.9332885742188\n",
      "95 641.3892822265625\n",
      "96 602.5047607421875\n",
      "97 566.109619140625\n",
      "98 532.0240478515625\n",
      "99 500.1019287109375\n"
     ]
    }
   ],
   "source": [
    "learning_rate = 1e-6\n",
    "for t in range(100):\n",
    "    # Forward pass: compute predicted y using operations on Tensors; these\n",
    "    # are exactly the same operations we used to compute the forward pass using\n",
    "    # Tensors, but we do not need to keep references to intermediate values since\n",
    "    # we are not implementing the backward pass by hand.\n",
    "    y_pred = x.mm(w1).clamp(min=0).mm(w2)\n",
    "\n",
    "    # Compute and print loss using operations on Tensors.\n",
    "    # Now loss is a Tensor of shape (1,)\n",
    "    # loss.item() gets the a scalar value held in the loss.\n",
    "    loss = (y_pred - y).pow(2).sum()\n",
    "    print(t, loss.item())\n",
    "    \n",
    "    errorlist = np.append(errorlist,loss.item())\n",
    "\n",
    "    # Use autograd to compute the backward pass. This call will compute the\n",
    "    # gradient of loss with respect to all Tensors with requires_grad=True.\n",
    "    # After this call w1.grad and w2.grad will be Tensors holding the gradient\n",
    "    # of the loss with respect to w1 and w2 respectively.\n",
    "    loss.backward()\n",
    "\n",
    "    # Manually update weights using gradient descent. Wrap in torch.no_grad()\n",
    "    # because weights have requires_grad=True, but we don't need to track this\n",
    "    # in autograd.\n",
    "    # An alternative way is to operate on weight.data and weight.grad.data.\n",
    "    # Recall that tensor.data gives a tensor that shares the storage with\n",
    "    # tensor, but doesn't track history.\n",
    "    # You can also use torch.optim.SGD to achieve this.\n",
    "    with torch.no_grad(): \n",
    "        \n",
    "        w1 -= learning_rate * w1.grad\n",
    "        w2 -= learning_rate * w2.grad\n",
    "\n",
    "        # Manually zero the gradients after updating weights\n",
    "        w1.grad.zero_()\n",
    "        w2.grad.zero_()"
   ]
  },
  {
   "cell_type": "code",
   "execution_count": 8,
   "metadata": {},
   "outputs": [
    {
     "data": {
      "image/png": "[encoded data removed]",
      "text/plain": [
       "<Figure size 640x480 with 1 Axes>"
      ]
     },
     "metadata": {},
     "output_type": "display_data"
    }
   ],
   "source": [
    "plt.plot(errorlist,'--og');\n",
    "plt.title(\"Mean Squarred Error\")\n",
    "plt.xlabel(\"Batch Iteration Number\")\n",
    "plt.ylabel(\"Error\")\n",
    "plt.show()"
   ]
  },
  {
   "cell_type": "code",
   "execution_count": 9,
   "metadata": {},
   "outputs": [
    {
     "name": "stdout",
     "output_type": "stream",
     "text": [
      "<class 'torch.Tensor'>\n"
     ]
    }
   ],
   "source": [
    "print (type(loss))"
   ]
  },
  {
   "cell_type": "code",
   "execution_count": null,
   "metadata": {
    "collapsed": true,
    "jupyter": {
     "outputs_hidden": true
    }
   },
   "outputs": [],
   "source": []
  }
 ],
 "metadata": {
  "kernelspec": {
   "display_name": "Python 3 (ipykernel)",
   "language": "python",
   "name": "python3"
  },
  "language_info": {
   "codemirror_mode": {
    "name": "ipython",
    "version": 3
   },
   "file_extension": ".py",
   "mimetype": "text/x-python",
   "name": "python",
   "nbconvert_exporter": "python",
   "pygments_lexer": "ipython3",
   "version": "3.8.15"
  }
 },
 "nbformat": 4,
 "nbformat_minor": 4
}
