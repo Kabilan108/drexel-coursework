{
 "cells": [
  {
   "cell_type": "markdown",
   "metadata": {},
   "source": [
    "## A simple ML TensorFlow demo using Keras\n",
    "- linear prediction: y=w*x +b (y = 2x +4), \n",
    "- Tensorboard visualization\n",
    "- Homework\n",
    "\n",
    "### 4/16/2023"
   ]
  },
  {
   "cell_type": "markdown",
   "metadata": {},
   "source": [
    "##### Creating the model architecture: x (input layer) --> w (weight) --> y (output layer)"
   ]
  },
  {
   "cell_type": "code",
   "execution_count": 10,
   "metadata": {},
   "outputs": [],
   "source": [
    "from keras.models import Sequential\n",
    "from keras.layers import Dense\n",
    "\n",
    "import numpy as np\n",
    "from time import time\n",
    "import matplotlib.pyplot as plt"
   ]
  },
  {
   "cell_type": "markdown",
   "metadata": {},
   "source": [
    "### Dataset"
   ]
  },
  {
   "cell_type": "code",
   "execution_count": 19,
   "metadata": {},
   "outputs": [],
   "source": [
    "x = np.array([0, 4, 8, 6, 3, 2, 9, 5, 7, 1])\n",
    "y = np.array([4, 12, 20, 16, 10, 8, 22, 14, 18, 6])"
   ]
  },
  {
   "cell_type": "markdown",
   "metadata": {},
   "source": [
    "### Model"
   ]
  },
  {
   "cell_type": "code",
   "execution_count": 20,
   "metadata": {},
   "outputs": [],
   "source": [
    "model = Sequential([\n",
    "    Dense(units=1, input_shape=[1], activation='relu'),\n",
    "])"
   ]
  },
  {
   "cell_type": "code",
   "execution_count": 21,
   "metadata": {},
   "outputs": [],
   "source": [
    "model.compile(optimizer='sgd', loss='mean_squared_error')      "
   ]
  },
  {
   "cell_type": "code",
   "execution_count": 13,
   "metadata": {},
   "outputs": [
    {
     "name": "stdout",
     "output_type": "stream",
     "text": [
      "Model: \"sequential_1\"\n",
      "_________________________________________________________________\n",
      "Layer (type)                 Output Shape              Param #   \n",
      "=================================================================\n",
      "dense_1 (Dense)              (None, 1)                 2         \n",
      "=================================================================\n",
      "Total params: 2\n",
      "Trainable params: 2\n",
      "Non-trainable params: 0\n",
      "_________________________________________________________________\n"
     ]
    }
   ],
   "source": [
    "model.summary()"
   ]
  },
  {
   "cell_type": "markdown",
   "metadata": {},
   "source": [
    "### Using Tensorboard to monitor progress"
   ]
  },
  {
   "cell_type": "code",
   "execution_count": 22,
   "metadata": {},
   "outputs": [
    {
     "name": "stderr",
     "output_type": "stream",
     "text": [
      "2023-04-16 17:05:12.032027: I tensorflow/core/profiler/lib/profiler_session.cc:164] Profiler session started.\n"
     ]
    }
   ],
   "source": [
    "# tensorboard = tf.keras.callbacks.TensorBoard(log_dir=\"logs/{}\".format(time()))\n",
    "tensorboard = keras.callbacks.TensorBoard(log_dir=\"logs/{}\".format(time()))"
   ]
  },
  {
   "cell_type": "markdown",
   "metadata": {},
   "source": [
    "### Train the model"
   ]
  },
  {
   "cell_type": "code",
   "execution_count": 23,
   "metadata": {
    "tags": []
   },
   "outputs": [
    {
     "name": "stdout",
     "output_type": "stream",
     "text": [
      "Epoch 1/100\n",
      "1/1 [==============================] - 0s 2ms/step - loss: 82.9736\n",
      "Epoch 2/100\n",
      "WARNING:tensorflow:From /Users/hl374/opt/anaconda3/lib/python3.8/site-packages/tensorflow/python/ops/summary_ops_v2.py:1277: stop (from tensorflow.python.eager.profiler) is deprecated and will be removed after 2020-07-01.\n",
      "Instructions for updating:\n",
      "use `tf.profiler.experimental.stop` instead.\n",
      "1/1 [==============================] - 0s 2ms/step - loss: 17.7087\n",
      "Epoch 3/100\n",
      "1/1 [==============================] - 0s 2ms/step - loss: 6.3427\n",
      "Epoch 4/100\n",
      "1/1 [==============================] - 0s 2ms/step - loss: 4.3421\n",
      "Epoch 5/100\n",
      "1/1 [==============================] - 0s 3ms/step - loss: 3.9599\n",
      "Epoch 6/100\n",
      "1/1 [==============================] - 0s 3ms/step - loss: 3.8577\n",
      "Epoch 7/100\n",
      "1/1 [==============================] - 0s 2ms/step - loss: 3.8043\n",
      "Epoch 8/100\n",
      "1/1 [==============================] - 0s 2ms/step - loss: 3.7598\n",
      "Epoch 9/100\n",
      "1/1 [==============================] - 0s 2ms/step - loss: 3.7171\n",
      "Epoch 10/100\n",
      "1/1 [==============================] - 0s 1ms/step - loss: 3.6752\n",
      "Epoch 11/100\n",
      "1/1 [==============================] - 0s 2ms/step - loss: 3.6338\n",
      "Epoch 12/100\n",
      "1/1 [==============================] - 0s 2ms/step - loss: 3.5929\n",
      "Epoch 13/100\n",
      "1/1 [==============================] - 0s 2ms/step - loss: 3.5524\n",
      "Epoch 14/100\n",
      "1/1 [==============================] - 0s 1ms/step - loss: 3.5124\n",
      "Epoch 15/100\n",
      "1/1 [==============================] - 0s 2ms/step - loss: 3.4728\n",
      "Epoch 16/100\n",
      "1/1 [==============================] - 0s 2ms/step - loss: 3.4337\n",
      "Epoch 17/100\n",
      "1/1 [==============================] - 0s 2ms/step - loss: 3.3950\n",
      "Epoch 18/100\n",
      "1/1 [==============================] - 0s 2ms/step - loss: 3.3568\n",
      "Epoch 19/100\n",
      "1/1 [==============================] - 0s 2ms/step - loss: 3.3190\n",
      "Epoch 20/100\n",
      "1/1 [==============================] - 0s 2ms/step - loss: 3.2816\n",
      "Epoch 21/100\n",
      "1/1 [==============================] - 0s 2ms/step - loss: 3.2447\n",
      "Epoch 22/100\n",
      "1/1 [==============================] - 0s 1ms/step - loss: 3.2081\n",
      "Epoch 23/100\n",
      "1/1 [==============================] - 0s 2ms/step - loss: 3.1720\n",
      "Epoch 24/100\n",
      "1/1 [==============================] - 0s 2ms/step - loss: 3.1363\n",
      "Epoch 25/100\n",
      "1/1 [==============================] - 0s 3ms/step - loss: 3.1009\n",
      "Epoch 26/100\n",
      "1/1 [==============================] - 0s 1ms/step - loss: 3.0660\n",
      "Epoch 27/100\n",
      "1/1 [==============================] - 0s 2ms/step - loss: 3.0315\n",
      "Epoch 28/100\n",
      "1/1 [==============================] - 0s 2ms/step - loss: 2.9973\n",
      "Epoch 29/100\n",
      "1/1 [==============================] - 0s 2ms/step - loss: 2.9636\n",
      "Epoch 30/100\n",
      "1/1 [==============================] - 0s 3ms/step - loss: 2.9302\n",
      "Epoch 31/100\n",
      "1/1 [==============================] - 0s 2ms/step - loss: 2.8972\n",
      "Epoch 32/100\n",
      "1/1 [==============================] - 0s 2ms/step - loss: 2.8646\n",
      "Epoch 33/100\n",
      "1/1 [==============================] - 0s 1ms/step - loss: 2.8323\n",
      "Epoch 34/100\n",
      "1/1 [==============================] - 0s 2ms/step - loss: 2.8004\n",
      "Epoch 35/100\n",
      "1/1 [==============================] - 0s 2ms/step - loss: 2.7689\n",
      "Epoch 36/100\n",
      "1/1 [==============================] - 0s 2ms/step - loss: 2.7377\n",
      "Epoch 37/100\n",
      "1/1 [==============================] - 0s 2ms/step - loss: 2.7069\n",
      "Epoch 38/100\n",
      "1/1 [==============================] - 0s 2ms/step - loss: 2.6764\n",
      "Epoch 39/100\n",
      "1/1 [==============================] - 0s 1ms/step - loss: 2.6462\n",
      "Epoch 40/100\n",
      "1/1 [==============================] - 0s 2ms/step - loss: 2.6164\n",
      "Epoch 41/100\n",
      "1/1 [==============================] - 0s 4ms/step - loss: 2.5870\n",
      "Epoch 42/100\n",
      "1/1 [==============================] - ETA: 0s - loss: 2.557"
     ]
    },
    {
     "name": "stderr",
     "output_type": "stream",
     "text": [
      "2023-04-16 17:05:22.393953: I tensorflow/core/profiler/lib/profiler_session.cc:164] Profiler session started.\n",
      "2023-04-16 17:05:22.408955: I tensorflow/core/profiler/rpc/client/save_profile.cc:176] Creating directory: logs/1681679112.0318651/train/plugins/profile/2023_04_16_17_05_22\n",
      "2023-04-16 17:05:22.409801: I tensorflow/core/profiler/rpc/client/save_profile.cc:182] Dumped gzipped tool data for trace.json.gz to logs/1681679112.0318651/train/plugins/profile/2023_04_16_17_05_22/LiangMac.trace.json.gz\n",
      "2023-04-16 17:05:22.411735: I tensorflow/core/profiler/rpc/client/save_profile.cc:176] Creating directory: logs/1681679112.0318651/train/plugins/profile/2023_04_16_17_05_22\n",
      "2023-04-16 17:05:22.412186: I tensorflow/core/profiler/rpc/client/save_profile.cc:182] Dumped gzipped tool data for memory_profile.json.gz to logs/1681679112.0318651/train/plugins/profile/2023_04_16_17_05_22/LiangMac.memory_profile.json.gz\n",
      "2023-04-16 17:05:22.415010: I tensorflow/python/profiler/internal/profiler_wrapper.cc:111] Creating directory: logs/1681679112.0318651/train/plugins/profile/2023_04_16_17_05_22Dumped tool data for xplane.pb to logs/1681679112.0318651/train/plugins/profile/2023_04_16_17_05_22/LiangMac.xplane.pb\n",
      "Dumped tool data for overview_page.pb to logs/1681679112.0318651/train/plugins/profile/2023_04_16_17_05_22/LiangMac.overview_page.pb\n",
      "Dumped tool data for input_pipeline.pb to logs/1681679112.0318651/train/plugins/profile/2023_04_16_17_05_22/LiangMac.input_pipeline.pb\n",
      "Dumped tool data for tensorflow_stats.pb to logs/1681679112.0318651/train/plugins/profile/2023_04_16_17_05_22/LiangMac.tensorflow_stats.pb\n",
      "Dumped tool data for kernel_stats.pb to logs/1681679112.0318651/train/plugins/profile/2023_04_16_17_05_22/LiangMac.kernel_stats.pb\n",
      "\n"
     ]
    },
    {
     "name": "stdout",
     "output_type": "stream",
     "text": [
      "1/1 [==============================] - 0s 2ms/step - loss: 2.5578\n",
      "Epoch 43/100\n",
      "1/1 [==============================] - 0s 2ms/step - loss: 2.5290\n",
      "Epoch 44/100\n",
      "1/1 [==============================] - 0s 2ms/step - loss: 2.5005\n",
      "Epoch 45/100\n",
      "1/1 [==============================] - 0s 2ms/step - loss: 2.4724\n",
      "Epoch 46/100\n",
      "1/1 [==============================] - 0s 2ms/step - loss: 2.4445\n",
      "Epoch 47/100\n",
      "1/1 [==============================] - 0s 3ms/step - loss: 2.4170\n",
      "Epoch 48/100\n",
      "1/1 [==============================] - 0s 1ms/step - loss: 2.3898\n",
      "Epoch 49/100\n",
      "1/1 [==============================] - 0s 1ms/step - loss: 2.3628\n",
      "Epoch 50/100\n",
      "1/1 [==============================] - 0s 3ms/step - loss: 2.3362\n",
      "Epoch 51/100\n",
      "1/1 [==============================] - 0s 3ms/step - loss: 2.3099\n",
      "Epoch 52/100\n",
      "1/1 [==============================] - 0s 3ms/step - loss: 2.2839\n",
      "Epoch 53/100\n",
      "1/1 [==============================] - 0s 2ms/step - loss: 2.2582\n",
      "Epoch 54/100\n",
      "1/1 [==============================] - 0s 2ms/step - loss: 2.2328\n",
      "Epoch 55/100\n",
      "1/1 [==============================] - 0s 2ms/step - loss: 2.2076\n",
      "Epoch 56/100\n",
      "1/1 [==============================] - 0s 2ms/step - loss: 2.1827\n",
      "Epoch 57/100\n",
      "1/1 [==============================] - 0s 3ms/step - loss: 2.1582\n",
      "Epoch 58/100\n",
      "1/1 [==============================] - 0s 2ms/step - loss: 2.1339\n",
      "Epoch 59/100\n",
      "1/1 [==============================] - 0s 2ms/step - loss: 2.1098\n",
      "Epoch 60/100\n",
      "1/1 [==============================] - 0s 3ms/step - loss: 2.0861\n",
      "Epoch 61/100\n",
      "1/1 [==============================] - 0s 2ms/step - loss: 2.0626\n",
      "Epoch 62/100\n",
      "1/1 [==============================] - 0s 4ms/step - loss: 2.0393\n",
      "Epoch 63/100\n",
      "1/1 [==============================] - 0s 2ms/step - loss: 2.0164\n",
      "Epoch 64/100\n",
      "1/1 [==============================] - 0s 2ms/step - loss: 1.9937\n",
      "Epoch 65/100\n",
      "1/1 [==============================] - 0s 2ms/step - loss: 1.9712\n",
      "Epoch 66/100\n",
      "1/1 [==============================] - 0s 2ms/step - loss: 1.9490\n",
      "Epoch 67/100\n",
      "1/1 [==============================] - 0s 2ms/step - loss: 1.9270\n",
      "Epoch 68/100\n",
      "1/1 [==============================] - 0s 1ms/step - loss: 1.9053\n",
      "Epoch 69/100\n",
      "1/1 [==============================] - 0s 2ms/step - loss: 1.8839\n",
      "Epoch 70/100\n",
      "1/1 [==============================] - 0s 2ms/step - loss: 1.8627\n",
      "Epoch 71/100\n",
      "1/1 [==============================] - 0s 2ms/step - loss: 1.8417\n",
      "Epoch 72/100\n",
      "1/1 [==============================] - 0s 2ms/step - loss: 1.8209\n",
      "Epoch 73/100\n",
      "1/1 [==============================] - 0s 3ms/step - loss: 1.8004\n",
      "Epoch 74/100\n",
      "1/1 [==============================] - 0s 2ms/step - loss: 1.7802\n",
      "Epoch 75/100\n",
      "1/1 [==============================] - 0s 3ms/step - loss: 1.7601\n",
      "Epoch 76/100\n",
      "1/1 [==============================] - 0s 2ms/step - loss: 1.7403\n",
      "Epoch 77/100\n",
      "1/1 [==============================] - 0s 2ms/step - loss: 1.7207\n",
      "Epoch 78/100\n",
      "1/1 [==============================] - 0s 2ms/step - loss: 1.7013\n",
      "Epoch 79/100\n",
      "1/1 [==============================] - 0s 2ms/step - loss: 1.6821\n",
      "Epoch 80/100\n",
      "1/1 [==============================] - 0s 2ms/step - loss: 1.6632\n",
      "Epoch 81/100\n",
      "1/1 [==============================] - 0s 1ms/step - loss: 1.6445\n",
      "Epoch 82/100\n",
      "1/1 [==============================] - 0s 3ms/step - loss: 1.6259\n",
      "Epoch 83/100\n",
      "1/1 [==============================] - 0s 4ms/step - loss: 1.6076\n",
      "Epoch 84/100\n",
      "1/1 [==============================] - 0s 2ms/step - loss: 1.5895\n",
      "Epoch 85/100\n",
      "1/1 [==============================] - 0s 2ms/step - loss: 1.5716\n",
      "Epoch 86/100\n",
      "1/1 [==============================] - 0s 2ms/step - loss: 1.5539\n",
      "Epoch 87/100\n",
      "1/1 [==============================] - 0s 1ms/step - loss: 1.5364\n",
      "Epoch 88/100\n",
      "1/1 [==============================] - 0s 1ms/step - loss: 1.5191\n",
      "Epoch 89/100\n",
      "1/1 [==============================] - 0s 2ms/step - loss: 1.5020\n",
      "Epoch 90/100\n",
      "1/1 [==============================] - 0s 3ms/step - loss: 1.4851\n",
      "Epoch 91/100\n",
      "1/1 [==============================] - 0s 2ms/step - loss: 1.4684\n",
      "Epoch 92/100\n",
      "1/1 [==============================] - 0s 2ms/step - loss: 1.4518\n",
      "Epoch 93/100\n",
      "1/1 [==============================] - 0s 3ms/step - loss: 1.4355\n",
      "Epoch 94/100\n",
      "1/1 [==============================] - 0s 3ms/step - loss: 1.4193\n",
      "Epoch 95/100\n",
      "1/1 [==============================] - 0s 2ms/step - loss: 1.4033\n",
      "Epoch 96/100\n",
      "1/1 [==============================] - 0s 3ms/step - loss: 1.3875\n",
      "Epoch 97/100\n",
      "1/1 [==============================] - 0s 2ms/step - loss: 1.3719\n",
      "Epoch 98/100\n",
      "1/1 [==============================] - 0s 2ms/step - loss: 1.3564\n",
      "Epoch 99/100\n",
      "1/1 [==============================] - 0s 1ms/step - loss: 1.3412\n",
      "Epoch 100/100\n",
      "1/1 [==============================] - 0s 3ms/step - loss: 1.3261\n"
     ]
    }
   ],
   "source": [
    "result = model.fit(x, y, epochs=100, batch_size=64, verbose=1, callbacks=[tensorboard])\n",
    "# result = model.fit(x, y, epochs=100, batch_size=64, verbose=1)\n",
    "# result = model.fit(x, y, epochs=100, verbose=0)\n",
    "# Display via Command windows\n",
    "# tensorboard --logdir=./logs/ \n",
    "# localhost:6006\n"
   ]
  },
  {
   "cell_type": "code",
   "execution_count": 24,
   "metadata": {},
   "outputs": [
    {
     "data": {
      "text/html": [
       "\n",
       "      <iframe id=\"tensorboard-frame-efd05e5a5afdaea4\" width=\"100%\" height=\"800\" frameborder=\"0\">\n",
       "      </iframe>\n",
       "      <script>\n",
       "        (function() {\n",
       "          const frame = document.getElementById(\"tensorboard-frame-efd05e5a5afdaea4\");\n",
       "          const url = new URL(\"/\", window.location);\n",
       "          const port = 6006;\n",
       "          if (port) {\n",
       "            url.port = port;\n",
       "          }\n",
       "          frame.src = url;\n",
       "        })();\n",
       "      </script>\n",
       "    "
      ],
      "text/plain": [
       "<IPython.core.display.HTML object>"
      ]
     },
     "metadata": {},
     "output_type": "display_data"
    }
   ],
   "source": [
    "# Or display inline\n",
    "%reload_ext tensorboard\n",
    "%tensorboard --logdir logs"
   ]
  },
  {
   "cell_type": "code",
   "execution_count": 12,
   "metadata": {},
   "outputs": [
    {
     "name": "stdout",
     "output_type": "stream",
     "text": [
      "dict_keys(['loss'])\n"
     ]
    }
   ],
   "source": [
    "print(result.history.keys())"
   ]
  },
  {
   "cell_type": "code",
   "execution_count": 16,
   "metadata": {},
   "outputs": [
    {
     "data": {
      "image/png": "[encoded data removed]",
      "text/plain": [
       "<Figure size 640x480 with 1 Axes>"
      ]
     },
     "metadata": {},
     "output_type": "display_data"
    }
   ],
   "source": [
    "plt.plot(result.history['loss'])\n",
    "plt.title('model loss')\n",
    "plt.ylabel('loss')\n",
    "plt.xlabel('epoch')\n",
    "plt.show()"
   ]
  },
  {
   "cell_type": "markdown",
   "metadata": {},
   "source": [
    "### Test model: Model prediction - predict the unseen data\n",
    "### The model never sees input 12 in the training phase, and the model also never told that the formula to calculate the output is y = 2x + 4. However, the machine learning model successfully predicts the output from the given input."
   ]
  },
  {
   "cell_type": "code",
   "execution_count": 17,
   "metadata": {},
   "outputs": [],
   "source": [
    "prediction = model.predict([12])"
   ]
  },
  {
   "cell_type": "code",
   "execution_count": 18,
   "metadata": {},
   "outputs": [
    {
     "name": "stdout",
     "output_type": "stream",
     "text": [
      "[[29.97293]]\n"
     ]
    }
   ],
   "source": [
    "print(prediction)"
   ]
  },
  {
   "cell_type": "markdown",
   "metadata": {},
   "source": [
    "### Homework:\n",
    "\n",
    "- Train the model with a different dataset\n",
    "- The model converged really fast, which means it learned the relationship between x and y values after just a couple of iterations. Do you think it makes sense to continue training the model after the loss doesn’t keep decreasing any further? How would you automate the process of stopping the training after the model loss doesn’t substantially change?\n",
    "- Add more examples in the input and output tensors. In addition, try to change the dimensions of the data, say by adding an extra value in each array. What needs to be changed to successfully train the network with the new data? \n",
    "- Build a more complex model. In our example, we used a single hidden layer. Try to take a look at the tensorflow documentation to figure out what you need to do to get a model with more layers. What happens if you add more hidden layers?\n",
    "- We did not discuss the learning rate (lr=0.01) and the optimizer choice in great detail. Check out the tf documentation to learn more about what other optimizers you can use. How do you think this affects training?"
   ]
  },
  {
   "cell_type": "code",
   "execution_count": null,
   "metadata": {},
   "outputs": [],
   "source": []
  }
 ],
 "metadata": {
  "kernelspec": {
   "display_name": "Python 3 (ipykernel)",
   "language": "python",
   "name": "python3"
  },
  "language_info": {
   "codemirror_mode": {
    "name": "ipython",
    "version": 3
   },
   "file_extension": ".py",
   "mimetype": "text/x-python",
   "name": "python",
   "nbconvert_exporter": "python",
   "pygments_lexer": "ipython3",
   "version": "3.8.15"
  }
 },
 "nbformat": 4,
 "nbformat_minor": 4
}
