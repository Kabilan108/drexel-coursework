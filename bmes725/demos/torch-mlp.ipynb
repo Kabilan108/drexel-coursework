{
 "cells": [
  {
   "attachments": {},
   "cell_type": "markdown",
   "metadata": {},
   "source": [
    "# `PyTorch` Multi-Layer Perceptron\n",
    "\n",
    "We will use the Ionosphere binary (two class) classification dataset to \n",
    "demonstrate an MLP for binary classification. This dataset involves predicting \n",
    "whether there is a structure in the atmosphere or not given radar returns.\n",
    "\n",
    "The dataset will be downloaded automatically using Pandas, but you can learn \n",
    "more about it here.\n",
    "- [Ionosphere Dataset (csv)](https://raw.githubusercontent.com/jbrownlee/Datasets/master/ionosphere.csv)\n",
    "- [Ionosphere Dataset Description](https://raw.githubusercontent.com/jbrownlee/Datasets/master/ionosphere.names)"
   ]
  },
  {
   "cell_type": "code",
   "execution_count": 1,
   "metadata": {},
   "outputs": [],
   "source": [
    "# Imports\n",
    "from torch.utils.data import Dataset, DataLoader, random_split\n",
    "from torch import nn, optim\n",
    "from torch.nn import init\n",
    "import torch\n",
    "\n",
    "from sklearn.preprocessing import LabelEncoder\n",
    "from sklearn.metrics import accuracy_score\n",
    "import pandas as pd\n",
    "import numpy as np"
   ]
  },
  {
   "attachments": {},
   "cell_type": "markdown",
   "metadata": {},
   "source": [
    "### Definitions"
   ]
  },
  {
   "cell_type": "code",
   "execution_count": 8,
   "metadata": {},
   "outputs": [],
   "source": [
    "class CSVDataset(Dataset):\n",
    "    \"\"\"Dataset Definition\"\"\"\n",
    "\n",
    "    def __init__(self, path):\n",
    "        df = pd.read_csv(path)\n",
    "\n",
    "        self.X = df.values[:, :-1].astype(np.float32)\n",
    "        self.y = df.values[:, -1]\n",
    "\n",
    "        self.y = LabelEncoder().fit_transform(self.y)\n",
    "        self.y = self.y.astype(np.float32)\n",
    "        self.y = self.y.reshape((len(self.y), 1))\n",
    "\n",
    "    def __len__(self):\n",
    "        return len(self.X)\n",
    "    \n",
    "    def __getitem__(self, idx):\n",
    "        return [ self.X[idx], self.y[idx] ]\n",
    "    \n",
    "    def get_splits(self, n_test=0.33):\n",
    "        \"\"\" get indexes for train and test rows\"\"\"\n",
    "        # determine sizes\n",
    "        test_size = round(n_test * len(self.X))\n",
    "        train_size = len(self.X) - test_size\n",
    "        # calculate the split\n",
    "        return random_split(self, [train_size, test_size])\n",
    "    \n",
    "\n",
    "class MLP(nn.Module):\n",
    "    \"\"\"MLP Definition\"\"\"\n",
    "\n",
    "    def __init__(self, n_inputs):\n",
    "        super(MLP, self).__init__()\n",
    "\n",
    "        # first hidden layer\n",
    "        self.hidden_1 = nn.Linear(n_inputs, 10)\n",
    "        init.kaiming_uniform_(self.hidden_1.weight, nonlinearity='relu')\n",
    "        self.act_1 = nn.ReLU()\n",
    "\n",
    "        # second hidden layer\n",
    "        self.hidden_2 = nn.Linear(10, 8)\n",
    "        init.kaiming_uniform_(self.hidden_2.weight, nonlinearity='relu')\n",
    "        self.act_2 = nn.ReLU()\n",
    "\n",
    "        # third hidden layer and output\n",
    "        self.hidden_3 = nn.Linear(8, 1)\n",
    "        init.xavier_uniform_(self.hidden_3.weight)\n",
    "        self.act_3 = nn.Sigmoid()\n",
    "\n",
    "    def forward(self, X):\n",
    "        X = self.hidden_1(X)\n",
    "        X = self.act_1(X)\n",
    "\n",
    "        X = self.hidden_2(X)\n",
    "        X = self.act_2(X)\n",
    "\n",
    "        X = self.hidden_3(X)\n",
    "        X = self.act_3(X)\n",
    "\n",
    "        return X\n",
    "    \n",
    "\n",
    "def prepare_data(path):\n",
    "    # load the dataset\n",
    "    dataset = CSVDataset(path)\n",
    "    # calculate split\n",
    "    train, test = dataset.get_splits()\n",
    "    # prepare data loaders\n",
    "    train_dl = DataLoader(train, batch_size=32, shuffle=True)\n",
    "    test_dl = DataLoader(test, batch_size=1024, shuffle=False)\n",
    "    return train_dl, test_dl\n",
    "\n",
    "\n",
    "def train_model(train_dl, model):\n",
    "    criterion = nn.BCELoss()\n",
    "    optimizer = optim.SGD(model.parameters(), lr=0.01, momentum=0.9)\n",
    "\n",
    "    for epoch in range(100):\n",
    "        for i, (inputs, labels) in enumerate(train_dl):\n",
    "            optimizer.zero_grad()\n",
    "            yhat = model(inputs)\n",
    "            loss = criterion(yhat, labels)\n",
    "            loss.backward()\n",
    "            optimizer.step()\n",
    "\n",
    "\n",
    "def evaluate_model(test_dl, model):\n",
    "    pred, actual = list(), list()\n",
    "\n",
    "    model.eval()\n",
    "\n",
    "    with torch.no_grad():\n",
    "        for i, (inputs, labels) in enumerate(test_dl):\n",
    "            yhat = model(inputs)\n",
    "            yhat = yhat.detach().numpy()\n",
    "            actual.extend(labels.numpy())\n",
    "            pred.extend(yhat.round())\n",
    "    \n",
    "    pred, actual = np.vstack(pred), np.vstack(actual)\n",
    "\n",
    "    acc = accuracy_score(actual, pred)\n",
    "    return acc\n",
    "\n",
    "\n",
    "def predict(row, model):\n",
    "    row = torch.tensor([row])\n",
    "    yhat = model(row)\n",
    "    yhat = yhat.detach().numpy()\n",
    "    return yhat"
   ]
  },
  {
   "cell_type": "code",
   "execution_count": 4,
   "metadata": {},
   "outputs": [
    {
     "name": "stdout",
     "output_type": "stream",
     "text": [
      "234 116\n"
     ]
    }
   ],
   "source": [
    "# Prepare the data\n",
    "path = 'https://raw.githubusercontent.com/jbrownlee/Datasets/master/ionosphere.csv'\n",
    "train_dl, test_dl = prepare_data(path)\n",
    "print(len(train_dl.dataset), len(test_dl.dataset))"
   ]
  },
  {
   "cell_type": "code",
   "execution_count": 10,
   "metadata": {},
   "outputs": [
    {
     "name": "stdout",
     "output_type": "stream",
     "text": [
      "Accuracy: 0.905\n"
     ]
    }
   ],
   "source": [
    "# Define the model\n",
    "model = MLP(34)\n",
    "\n",
    "# Train the model\n",
    "train_model(train_dl, model)\n",
    "\n",
    "# evaluate the model\n",
    "acc = evaluate_model(test_dl, model)\n",
    "print('Accuracy: %.3f' % acc)"
   ]
  },
  {
   "cell_type": "code",
   "execution_count": 11,
   "metadata": {},
   "outputs": [
    {
     "name": "stdout",
     "output_type": "stream",
     "text": [
      "Predicted: 1.000 (class=1)\n"
     ]
    }
   ],
   "source": [
    "# make a single prediction (expect class=1)\n",
    "row = [1,0,0.99539,-0.05889,0.85243,0.02306,0.83398,-0.37708,1,0.03760,0.85243,-0.17755,0.59755,-0.44945,0.60536,-0.38223,0.84356,-0.38542,0.58212,-0.32192,0.56971,-0.29674,0.36946,-0.47357,0.56811,-0.51171,0.41078,-0.46168,0.21266,-0.34090,0.42267,-0.54487,0.18641,-0.45300]\n",
    "yhat = predict(row, model)\n",
    "print('Predicted: %.3f (class=%d)' % (yhat, yhat.round()))"
   ]
  }
 ],
 "metadata": {
  "kernelspec": {
   "display_name": "torch",
   "language": "python",
   "name": "python3"
  },
  "language_info": {
   "codemirror_mode": {
    "name": "ipython",
    "version": 3
   },
   "file_extension": ".py",
   "mimetype": "text/x-python",
   "name": "python",
   "nbconvert_exporter": "python",
   "pygments_lexer": "ipython3",
   "version": "3.10.11"
  },
  "orig_nbformat": 4
 },
 "nbformat": 4,
 "nbformat_minor": 2
}
