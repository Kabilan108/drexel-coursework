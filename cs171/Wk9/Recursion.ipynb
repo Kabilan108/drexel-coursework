{
 "cells": [
  {
   "cell_type": "markdown",
   "metadata": {},
   "source": [
    "# Recursion Examples"
   ]
  },
  {
   "cell_type": "code",
   "execution_count": 4,
   "metadata": {},
   "outputs": [],
   "source": [
    "import random"
   ]
  },
  {
   "cell_type": "markdown",
   "metadata": {},
   "source": [
    "### **Problem:** Sum all values from 1 to n"
   ]
  },
  {
   "cell_type": "code",
   "execution_count": 13,
   "metadata": {},
   "outputs": [
    {
     "data": {
      "text/plain": [
       "True"
      ]
     },
     "execution_count": 13,
     "metadata": {},
     "output_type": "execute_result"
    }
   ],
   "source": [
    "def sumTo(n: int):\n",
    "    \"\"\"\n",
    "    Take an integer n and return the sum of all integers from 1 to n\n",
    "    \"\"\"\n",
    "    # Base case\n",
    "    if n == 0:\n",
    "        return 0\n",
    "\n",
    "    # Recursive call\n",
    "    return n + sumTo(n-1)\n",
    "\n",
    "# Test\n",
    "results = []\n",
    "for _ in range(1000):\n",
    "    n = random.randint(1, 1000)\n",
    "    results.append( sumTo(n) == sum(range(1, n+1)) )\n",
    "all(results)"
   ]
  },
  {
   "cell_type": "markdown",
   "metadata": {},
   "source": [
    "### **Problem:** Reverse a String"
   ]
  },
  {
   "cell_type": "code",
   "execution_count": 15,
   "metadata": {},
   "outputs": [
    {
     "data": {
      "text/plain": [
       "'olleH'"
      ]
     },
     "execution_count": 15,
     "metadata": {},
     "output_type": "execute_result"
    }
   ],
   "source": [
    "def reverse(s: str):\n",
    "    \"\"\"\"\n",
    "    Reverse a string s\n",
    "    \"\"\"\n",
    "    # Base case\n",
    "    if len(s) == 1:\n",
    "        return s\n",
    "\n",
    "    # Recursive call\n",
    "    return reverse(s[1:]) + s[0]\n",
    "\n",
    "reverse(\"Hello\")"
   ]
  },
  {
   "cell_type": "markdown",
   "metadata": {},
   "source": [
    "### **Problem:** nth Term of Fibonacci Sequence"
   ]
  },
  {
   "cell_type": "code",
   "execution_count": 30,
   "metadata": {},
   "outputs": [
    {
     "data": {
      "text/plain": [
       "[0, 1, 1, 2, 3, 5, 8, 13, 21, 34, 55, 89, 144, 233, 377]"
      ]
     },
     "execution_count": 30,
     "metadata": {},
     "output_type": "execute_result"
    }
   ],
   "source": [
    "def fib(n: int):\n",
    "    \"\"\"\n",
    "    Take an integer n and return the nth term of the Fibonacci sequence\n",
    "    The nth term is the sum of the n-1 and n-2 terms\n",
    "    \"\"\"\n",
    "\n",
    "    # Base cases\n",
    "    if n == 1: return 0\n",
    "    if n == 2: return 1\n",
    "\n",
    "    # Recursive call\n",
    "    return fib(n-1) + fib(n-2)\n",
    "    \n",
    "\n",
    "[fib(n) for n in range(1, 16)]"
   ]
  },
  {
   "cell_type": "markdown",
   "metadata": {},
   "source": [
    "### **Problem:** Factorials"
   ]
  },
  {
   "cell_type": "code",
   "execution_count": 41,
   "metadata": {},
   "outputs": [
    {
     "data": {
      "text/plain": [
       "True"
      ]
     },
     "execution_count": 41,
     "metadata": {},
     "output_type": "execute_result"
    }
   ],
   "source": [
    "def factorial_v1(n: int):\n",
    "    # Base case\n",
    "    if n == 0:\n",
    "        return 1\n",
    "    \n",
    "    # Recursive call\n",
    "    return n * factorial_v1(n - 1)\n",
    "\n",
    "def factorial_v2(n: int, result: int=1):\n",
    "    \"\"\"Tall recursive\"\"\"\n",
    "\n",
    "    #Base case\n",
    "    if n == 0:\n",
    "        return result\n",
    "\n",
    "    # Recursive call\n",
    "    return factorial_v2(n - 1, result * n)\n",
    "\n",
    "\n",
    "n = random.randint(0, 50)\n",
    "factorial_v1(n) == factorial_v2(n)"
   ]
  },
  {
   "cell_type": "markdown",
   "metadata": {},
   "source": [
    "### **Problem:** Palindromes\n",
    "\n",
    "Given an integer, write a function that returns true if the given number is a palindrom, else false. For example, 12321 is a palindrome, but 1451 is not."
   ]
  },
  {
   "cell_type": "code",
   "execution_count": null,
   "metadata": {},
   "outputs": [],
   "source": [
    "def isPalindrome(n: str):\n",
    "    # Base case (A one digit number)\n",
    "    if 0 <= n < 10:\n",
    "        return n ==\n"
   ]
  },
  {
   "cell_type": "code",
   "execution_count": 49,
   "metadata": {},
   "outputs": [
    {
     "name": "stdout",
     "output_type": "stream",
     "text": [
      "[1, 2, 3, 4, 5] 15\n"
     ]
    }
   ],
   "source": [
    "def rangeSum(numList, start, end):\n",
    "    if start > end :\n",
    "        return 0\n",
    "    else :\n",
    "        return numList[start] + rangeSum(numList, start + 1, end)\n",
    "\n",
    "nums = list(range(10))\n",
    "print(nums[1:6], end = ' ')\n",
    "print(rangeSum(nums, 1, 5))"
   ]
  }
 ],
 "metadata": {
  "interpreter": {
   "hash": "67e0f964b3466f5738b0815e7d98ae8f0b358b23e82348a28e5ef609e7edb7a9"
  },
  "kernelspec": {
   "display_name": "Python 3.9.9 ('py-env')",
   "language": "python",
   "name": "python3"
  },
  "language_info": {
   "codemirror_mode": {
    "name": "ipython",
    "version": 3
   },
   "file_extension": ".py",
   "mimetype": "text/x-python",
   "name": "python",
   "nbconvert_exporter": "python",
   "pygments_lexer": "ipython3",
   "version": "3.9.9"
  },
  "orig_nbformat": 4
 },
 "nbformat": 4,
 "nbformat_minor": 2
}
