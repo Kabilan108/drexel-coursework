{
 "cells": [
  {
   "cell_type": "markdown",
   "metadata": {},
   "source": [
    "# Object Oriented Programming\n",
    "\n",
    "## Nomenclature\n",
    "\n",
    "**Object** - collection of data (varaiables) and a set of actions (functions)\n",
    "that can be performed on the object.\n",
    "\n",
    "**OOA** - ***O**bject **O**riented **A**nalysis* - taking a problem, identifying\n",
    "the objects needed and the interactions between the objects; this produces a set\n",
    "of requirements.\n",
    "\n",
    "**OOD** - ***O**bject **O**riented **D**esign* - converting the requirements into\n",
    "and implementation specification.\n",
    "    - What variables are needed?\n",
    "    - What actions are needed?\n",
    "\n",
    "**OOP** - ***O**bject **O**riented **P**rogramming* - convert OOD into a working\n",
    "program\n",
    "\n",
    "*`attributes`* - collection of data that defines a type of object  \n",
    "*`methods`* - collectionof actions\n",
    "\n",
    "**Classes** - a *class* is a particular type of object\n",
    "    - Classes describe objects\n",
    "      - Objects of the same class have the same attributes and methods\n",
    "    - *instantiating a class* - create an instance of a class e.g., `string`\n",
    "      `file`\n",
    "\n",
    "## Constructing Objects\n",
    "\n",
    "- Usually, to instantiate a class, we call a special function that is just the\n",
    "  name of the class - returns an nstance of the class\n",
    "- May involve an implicit call to the `__init__` method\n",
    "  - This method is the ***constructor*** (all classes must have this)"
   ]
  }
 ],
 "metadata": {
  "interpreter": {
   "hash": "67e0f964b3466f5738b0815e7d98ae8f0b358b23e82348a28e5ef609e7edb7a9"
  },
  "kernelspec": {
   "display_name": "Python 3.9.12 ('py-env')",
   "language": "python",
   "name": "python3"
  },
  "language_info": {
   "name": "python",
   "version": "3.9.12"
  },
  "orig_nbformat": 4
 },
 "nbformat": 4,
 "nbformat_minor": 2
}
