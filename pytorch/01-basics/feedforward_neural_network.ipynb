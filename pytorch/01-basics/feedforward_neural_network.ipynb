{
 "cells": [
  {
   "attachments": {},
   "cell_type": "markdown",
   "metadata": {},
   "source": [
    "# Feed Forward Neural Network"
   ]
  },
  {
   "cell_type": "code",
   "execution_count": 8,
   "metadata": {},
   "outputs": [],
   "source": [
    "import torch\n",
    "import torch.nn as nn\n",
    "import torchvision\n",
    "import torchvision.transforms as transforms\n",
    "from tqdm.auto import tqdm"
   ]
  },
  {
   "cell_type": "code",
   "execution_count": 2,
   "metadata": {},
   "outputs": [],
   "source": [
    "# Device configuration\n",
    "device = torch.device('cuda' if torch.cuda.is_available() else 'cpu')"
   ]
  },
  {
   "cell_type": "code",
   "execution_count": 3,
   "metadata": {},
   "outputs": [],
   "source": [
    "# Hyper-parameters\n",
    "INPUT_SIZE = 28 * 28\n",
    "HIDDEN_SIZE = 500\n",
    "NUM_CLASSES = 10\n",
    "NUM_EPOCHS = 5\n",
    "BATCH_SIZE = 100\n",
    "LEARNING_RATE = 0.001"
   ]
  },
  {
   "cell_type": "code",
   "execution_count": 4,
   "metadata": {},
   "outputs": [],
   "source": [
    "# MNIST dataset\n",
    "train_dataset = torchvision.datasets.MNIST(\n",
    "    root='../data',\n",
    "    train=True,\n",
    "    transform=transforms.ToTensor(),\n",
    "    download=True\n",
    ")\n",
    "\n",
    "test_dataset = torchvision.datasets.MNIST(\n",
    "    root='../data',\n",
    "    train=False,\n",
    "    transform=transforms.ToTensor()\n",
    ")\n",
    "\n",
    "\n",
    "# Data loader\n",
    "train_loader = torch.utils.data.DataLoader(\n",
    "    dataset=train_dataset,\n",
    "    batch_size=BATCH_SIZE,\n",
    "    shuffle=True\n",
    ")\n",
    "\n",
    "test_loader = torch.utils.data.DataLoader(\n",
    "    dataset=test_dataset,\n",
    "    batch_size=BATCH_SIZE,\n",
    "    shuffle=False\n",
    ")"
   ]
  },
  {
   "cell_type": "code",
   "execution_count": 6,
   "metadata": {},
   "outputs": [],
   "source": [
    "class NeuralNet(nn.Module):\n",
    "    \"\"\"\n",
    "    Fully connected neural network with one hidden layer\n",
    "    \"\"\"\n",
    "\n",
    "    def __init__(self, input_size, hidden_size, num_classes):\n",
    "        super(NeuralNet, self).__init__()\n",
    "        self.fc1 = nn.Linear(input_size, hidden_size)\n",
    "        self.relu = nn.ReLU()\n",
    "        self.fc2 = nn.Linear(hidden_size, num_classes)\n",
    "\n",
    "    def forward(self, x):\n",
    "        out = self.fc1(x)\n",
    "        out = self.relu(out)\n",
    "        out = self.fc2(out)\n",
    "        return out"
   ]
  },
  {
   "cell_type": "code",
   "execution_count": 7,
   "metadata": {},
   "outputs": [],
   "source": [
    "# Compile the model\n",
    "model = NeuralNet(INPUT_SIZE, HIDDEN_SIZE, NUM_CLASSES).to(device)\n",
    "\n",
    "# Loss and optimizer\n",
    "criterion = nn.CrossEntropyLoss()\n",
    "optimizer = torch.optim.Adam(model.parameters(), lr=LEARNING_RATE)"
   ]
  },
  {
   "cell_type": "code",
   "execution_count": 10,
   "metadata": {},
   "outputs": [
    {
     "data": {
      "application/vnd.jupyter.widget-view+json": {
       "model_id": "00cf6bb6ae6d493bae6ba3f34a1eee4f",
       "version_major": 2,
       "version_minor": 0
      },
      "text/plain": [
       "Epochs:   0%|          | 0/5 [00:00<?, ?it/s]"
      ]
     },
     "metadata": {},
     "output_type": "display_data"
    },
    {
     "name": "stdout",
     "output_type": "stream",
     "text": [
      "Epoch [1/5], Step [100/600], Loss: 0.0236\n",
      "Epoch [1/5], Step [200/600], Loss: 0.0350\n",
      "Epoch [1/5], Step [300/600], Loss: 0.0220\n",
      "Epoch [1/5], Step [400/600], Loss: 0.0458\n",
      "Epoch [1/5], Step [500/600], Loss: 0.0092\n",
      "Epoch [1/5], Step [600/600], Loss: 0.0592\n",
      "Epoch [2/5], Step [100/600], Loss: 0.0060\n",
      "Epoch [2/5], Step [200/600], Loss: 0.0193\n",
      "Epoch [2/5], Step [300/600], Loss: 0.0084\n",
      "Epoch [2/5], Step [400/600], Loss: 0.0235\n",
      "Epoch [2/5], Step [500/600], Loss: 0.0281\n",
      "Epoch [2/5], Step [600/600], Loss: 0.0292\n",
      "Epoch [3/5], Step [100/600], Loss: 0.0092\n",
      "Epoch [3/5], Step [200/600], Loss: 0.0274\n",
      "Epoch [3/5], Step [300/600], Loss: 0.0199\n",
      "Epoch [3/5], Step [400/600], Loss: 0.0121\n",
      "Epoch [3/5], Step [500/600], Loss: 0.0107\n",
      "Epoch [3/5], Step [600/600], Loss: 0.0540\n",
      "Epoch [4/5], Step [100/600], Loss: 0.0108\n",
      "Epoch [4/5], Step [200/600], Loss: 0.0393\n",
      "Epoch [4/5], Step [300/600], Loss: 0.0219\n",
      "Epoch [4/5], Step [400/600], Loss: 0.0270\n",
      "Epoch [4/5], Step [500/600], Loss: 0.0302\n",
      "Epoch [4/5], Step [600/600], Loss: 0.0075\n",
      "Epoch [5/5], Step [100/600], Loss: 0.0304\n",
      "Epoch [5/5], Step [200/600], Loss: 0.0052\n",
      "Epoch [5/5], Step [300/600], Loss: 0.0090\n",
      "Epoch [5/5], Step [400/600], Loss: 0.0529\n",
      "Epoch [5/5], Step [500/600], Loss: 0.0150\n",
      "Epoch [5/5], Step [600/600], Loss: 0.0223\n"
     ]
    }
   ],
   "source": [
    "# Train the model\n",
    "total_step = len(train_loader)\n",
    "\n",
    "for epoch in tqdm(range(NUM_EPOCHS), desc='Epochs', position=0, leave=True):\n",
    "    for i, (images, labels) in enumerate(train_loader):\n",
    "        # Move tensors the configured device\n",
    "        images = images.reshape(-1, 28*28).to(device)\n",
    "        labels = labels.to(device)\n",
    "\n",
    "        # Forward pass\n",
    "        outputs = model(images)\n",
    "        loss = criterion(outputs, labels)\n",
    "\n",
    "        # Backward and optimize\n",
    "        optimizer.zero_grad()\n",
    "        loss.backward()\n",
    "        optimizer.step()\n",
    "\n",
    "        if (i+1) % 100 == 0:\n",
    "            print(f'Epoch [{epoch+1}/{NUM_EPOCHS}], Step [{i+1}/{total_step}], Loss: {loss.item():.4f}')"
   ]
  },
  {
   "cell_type": "code",
   "execution_count": 16,
   "metadata": {},
   "outputs": [
    {
     "name": "stdout",
     "output_type": "stream",
     "text": [
      "Accuracy of the network on the 10000 test images: 98.07%\n"
     ]
    }
   ],
   "source": [
    "# Test the model\n",
    "# In test phase, we don't need to compute gradients (for memory efficiency)\n",
    "with torch.no_grad():\n",
    "    correct = 0\n",
    "    total = 0\n",
    "    for images, labels in test_loader:\n",
    "        images = images.reshape(-1, 28*28).to(device)\n",
    "        labels = labels.to(device)\n",
    "        outputs = model(images)\n",
    "\n",
    "        # Returns the maximum value of each row of the input tensor in the given \n",
    "        # dimension dim, the second return value is the index location of each \n",
    "        # maximum value found (argmax).\n",
    "        _, predicted = torch.max(outputs.data, 1)\n",
    "        total += labels.size(0)\n",
    "        correct += (predicted == labels).sum().item()\n",
    "\n",
    "    print(f'Accuracy of the network on the 10000 test images: {100 * correct / total}%')"
   ]
  },
  {
   "cell_type": "code",
   "execution_count": 18,
   "metadata": {},
   "outputs": [],
   "source": [
    "# Save the model checkpoint\n",
    "torch.save(model.state_dict(), 'ff-model.ckpt')"
   ]
  }
 ],
 "metadata": {
  "kernelspec": {
   "display_name": "torch",
   "language": "python",
   "name": "python3"
  },
  "language_info": {
   "codemirror_mode": {
    "name": "ipython",
    "version": 3
   },
   "file_extension": ".py",
   "mimetype": "text/x-python",
   "name": "python",
   "nbconvert_exporter": "python",
   "pygments_lexer": "ipython3",
   "version": "3.9.16"
  },
  "orig_nbformat": 4
 },
 "nbformat": 4,
 "nbformat_minor": 2
}
