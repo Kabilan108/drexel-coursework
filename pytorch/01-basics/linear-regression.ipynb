{
 "cells": [
  {
   "attachments": {},
   "cell_type": "markdown",
   "metadata": {},
   "source": [
    "# Neural Networks: Linear Regression"
   ]
  },
  {
   "cell_type": "code",
   "execution_count": 1,
   "metadata": {},
   "outputs": [],
   "source": [
    "import torch\n",
    "import torch.nn as nn\n",
    "import numpy as np\n",
    "import matplotlib.pyplot as plt"
   ]
  },
  {
   "cell_type": "code",
   "execution_count": 2,
   "metadata": {},
   "outputs": [],
   "source": [
    "# Define hyper parameters\n",
    "INPUT_SIZE = 1\n",
    "OUTPUT_SIZE = 1\n",
    "NUM_EPOCHS = 60\n",
    "LEARNING_RATE = 0.001"
   ]
  },
  {
   "cell_type": "code",
   "execution_count": 3,
   "metadata": {},
   "outputs": [],
   "source": [
    "# Toy dataset\n",
    "x_train = np.array([[3.3], [4.4], [5.5], [6.71], [6.93], [4.168], \n",
    "                    [9.779], [6.182], [7.59], [2.167], [7.042], \n",
    "                    [10.791], [5.313], [7.997], [3.1]], dtype=np.float32)\n",
    "\n",
    "y_train = np.array([[1.7], [2.76], [2.09], [3.19], [1.694], [1.573], \n",
    "                    [3.366], [2.596], [2.53], [1.221], [2.827], \n",
    "                    [3.465], [1.65], [2.904], [1.3]], dtype=np.float32)"
   ]
  },
  {
   "cell_type": "code",
   "execution_count": 4,
   "metadata": {},
   "outputs": [],
   "source": [
    "# Linear regression model\n",
    "model = nn.Linear(INPUT_SIZE, OUTPUT_SIZE)\n",
    "\n",
    "# Loss and optimizer\n",
    "criterion = nn.MSELoss()\n",
    "optimizer = torch.optim.SGD(model.parameters(), lr=LEARNING_RATE)"
   ]
  },
  {
   "attachments": {},
   "cell_type": "markdown",
   "metadata": {},
   "source": [
    "### Training Loop"
   ]
  },
  {
   "cell_type": "code",
   "execution_count": 5,
   "metadata": {},
   "outputs": [
    {
     "name": "stdout",
     "output_type": "stream",
     "text": [
      "Epoch [5/60], Loss: 2.3209\n",
      "Epoch [10/60], Loss: 1.0830\n",
      "Epoch [15/60], Loss: 0.5814\n",
      "Epoch [20/60], Loss: 0.3781\n",
      "Epoch [25/60], Loss: 0.2956\n",
      "Epoch [30/60], Loss: 0.2621\n",
      "Epoch [35/60], Loss: 0.2484\n",
      "Epoch [40/60], Loss: 0.2428\n",
      "Epoch [45/60], Loss: 0.2404\n",
      "Epoch [50/60], Loss: 0.2393\n",
      "Epoch [55/60], Loss: 0.2388\n",
      "Epoch [60/60], Loss: 0.2384\n"
     ]
    }
   ],
   "source": [
    "# Convert numpy arrays to torch tensors\n",
    "inputs = torch.from_numpy(x_train)\n",
    "targets = torch.from_numpy(y_train)\n",
    "\n",
    "# Train the model\n",
    "for epoch in range(NUM_EPOCHS):\n",
    "    # Forward pass - compute model predictions & calculate loss\n",
    "    outputs = model(inputs)\n",
    "    loss = criterion(outputs, targets)\n",
    "    \n",
    "    # Backward pass (compute gradients) and optimize (update parameters)\n",
    "    optimizer.zero_grad()\n",
    "    loss.backward()\n",
    "    optimizer.step()\n",
    "\n",
    "    if (epoch+1) % 5 == 0:\n",
    "        print(\"Epoch [{}/{}], Loss: {:.4f}\".format(epoch+1, NUM_EPOCHS, loss.item()))"
   ]
  },
  {
   "cell_type": "code",
   "execution_count": 17,
   "metadata": {},
   "outputs": [
    {
     "data": {
      "image/png": "[encoded data removed]",
      "text/plain": [
       "<Figure size 400x300 with 1 Axes>"
      ]
     },
     "metadata": {},
     "output_type": "display_data"
    }
   ],
   "source": [
    "# Create predictions\n",
    "predicted = model(torch.from_numpy(x_train)).detach().numpy()\n",
    "\n",
    "# Plot the graph\n",
    "fig, ax = plt.subplots(figsize=(4, 3))\n",
    "ax.plot(x_train, y_train, 'ro', label='Original data')\n",
    "ax.plot(x_train, predicted, 'bo', label='Predicted data')\n",
    "ax.plot(x_train, predicted, 'k--', label='Fitted line')\n",
    "ax.legend(fontsize=8)\n",
    "\n",
    "# Save the model checkpoint\n",
    "torch.save(model.state_dict(), 'model.ckpt')"
   ]
  }
 ],
 "metadata": {
  "kernelspec": {
   "display_name": "torch",
   "language": "python",
   "name": "python3"
  },
  "language_info": {
   "codemirror_mode": {
    "name": "ipython",
    "version": 3
   },
   "file_extension": ".py",
   "mimetype": "text/x-python",
   "name": "python",
   "nbconvert_exporter": "python",
   "pygments_lexer": "ipython3",
   "version": "3.9.16"
  },
  "orig_nbformat": 4
 },
 "nbformat": 4,
 "nbformat_minor": 2
}
