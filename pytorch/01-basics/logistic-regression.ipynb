{
 "cells": [
  {
   "attachments": {},
   "cell_type": "markdown",
   "metadata": {},
   "source": [
    "# Neural Networks: Logistic Regression"
   ]
  },
  {
   "cell_type": "code",
   "execution_count": 1,
   "metadata": {},
   "outputs": [],
   "source": [
    "import torch\n",
    "import torch.nn as nn\n",
    "import torchvision\n",
    "import torchvision.transforms as transforms"
   ]
  },
  {
   "cell_type": "code",
   "execution_count": 2,
   "metadata": {},
   "outputs": [],
   "source": [
    "# Hyper-parameters\n",
    "INPUT_SIZE = 28 * 28\n",
    "NUM_CLASSES = 10\n",
    "NUM_EPOCHS = 5\n",
    "BATCH_SIZE = 100\n",
    "LEARNING_RATE = 0.001"
   ]
  },
  {
   "cell_type": "code",
   "execution_count": 3,
   "metadata": {},
   "outputs": [],
   "source": [
    "# MNIST dataset (images and labels)\n",
    "train_dataset = torchvision.datasets.MNIST(\n",
    "    root='../data',\n",
    "    train=True,\n",
    "    transform=transforms.ToTensor(),\n",
    "    download=True\n",
    ")\n",
    "\n",
    "test_dataset = torchvision.datasets.MNIST(\n",
    "    root='../data',\n",
    "    train=False,\n",
    "    transform=transforms.ToTensor()\n",
    ")"
   ]
  },
  {
   "cell_type": "code",
   "execution_count": 4,
   "metadata": {},
   "outputs": [],
   "source": [
    "# Data loader (input pipeline)\n",
    "train_loader = torch.utils.data.DataLoader(\n",
    "    dataset=train_dataset,\n",
    "    batch_size=BATCH_SIZE,\n",
    "    shuffle=True\n",
    ")\n",
    "\n",
    "test_loader = torch.utils.data.DataLoader(\n",
    "    dataset=test_dataset,\n",
    "    batch_size=BATCH_SIZE,\n",
    "    shuffle=False\n",
    ")"
   ]
  },
  {
   "attachments": {},
   "cell_type": "markdown",
   "metadata": {},
   "source": [
    "### Logistic Regression\n",
    "\n",
    "We will use the code below to implement a simple logistic regression model with PyTorch.\n"
   ]
  },
  {
   "cell_type": "code",
   "execution_count": 5,
   "metadata": {},
   "outputs": [],
   "source": [
    "# Logistic regression model\n",
    "model = nn.Linear(INPUT_SIZE, NUM_CLASSES)\n",
    "\n",
    "# loss and optimizer\n",
    "criterion = nn.CrossEntropyLoss()  # computes softmax and then the cross entropy\n",
    "optimizer = torch.optim.SGD(model.parameters(), lr=LEARNING_RATE)"
   ]
  },
  {
   "cell_type": "code",
   "execution_count": 6,
   "metadata": {},
   "outputs": [
    {
     "name": "stdout",
     "output_type": "stream",
     "text": [
      "Epoch [1/5], Step [100/600], Loss: 2.1954\n",
      "Epoch [1/5], Step [200/600], Loss: 2.0851\n",
      "Epoch [1/5], Step [300/600], Loss: 2.0077\n",
      "Epoch [1/5], Step [400/600], Loss: 1.9011\n",
      "Epoch [1/5], Step [500/600], Loss: 1.8679\n",
      "Epoch [1/5], Step [600/600], Loss: 1.7904\n",
      "\n",
      "Epoch [2/5], Step [100/600], Loss: 1.7167\n",
      "Epoch [2/5], Step [200/600], Loss: 1.6531\n",
      "Epoch [2/5], Step [300/600], Loss: 1.6013\n",
      "Epoch [2/5], Step [400/600], Loss: 1.6070\n",
      "Epoch [2/5], Step [500/600], Loss: 1.5111\n",
      "Epoch [2/5], Step [600/600], Loss: 1.5394\n",
      "\n",
      "Epoch [3/5], Step [100/600], Loss: 1.4825\n",
      "Epoch [3/5], Step [200/600], Loss: 1.4080\n",
      "Epoch [3/5], Step [300/600], Loss: 1.2766\n",
      "Epoch [3/5], Step [400/600], Loss: 1.3056\n",
      "Epoch [3/5], Step [500/600], Loss: 1.2613\n",
      "Epoch [3/5], Step [600/600], Loss: 1.2310\n",
      "\n",
      "Epoch [4/5], Step [100/600], Loss: 1.2142\n",
      "Epoch [4/5], Step [200/600], Loss: 1.2237\n",
      "Epoch [4/5], Step [300/600], Loss: 1.1361\n",
      "Epoch [4/5], Step [400/600], Loss: 1.1614\n",
      "Epoch [4/5], Step [500/600], Loss: 1.1392\n",
      "Epoch [4/5], Step [600/600], Loss: 1.1127\n",
      "\n",
      "Epoch [5/5], Step [100/600], Loss: 1.0718\n",
      "Epoch [5/5], Step [200/600], Loss: 1.0206\n",
      "Epoch [5/5], Step [300/600], Loss: 1.0738\n",
      "Epoch [5/5], Step [400/600], Loss: 1.0092\n",
      "Epoch [5/5], Step [500/600], Loss: 0.9009\n",
      "Epoch [5/5], Step [600/600], Loss: 0.9546\n",
      "\n"
     ]
    }
   ],
   "source": [
    "# Train the model\n",
    "total_step = len(train_loader)\n",
    "\n",
    "for epoch in range(NUM_EPOCHS):\n",
    "    # Batch training - load a batch of images with its (index, data, class)\n",
    "    for i, (images, labels) in enumerate(train_loader):\n",
    "        # Reshape images to (batch_size, input_size)\n",
    "        # - Compress images to flatten them into a single vector\n",
    "        images = images.reshape(-1, INPUT_SIZE)\n",
    "        \n",
    "        # Forward pass\n",
    "        outputs = model(images)\n",
    "        loss = criterion(outputs, labels)\n",
    "\n",
    "        # Backward and optimize\n",
    "        optimizer.zero_grad()\n",
    "        loss.backward()\n",
    "        optimizer.step()\n",
    "\n",
    "        if (i+1) % 100 == 0:\n",
    "            print('Epoch [{}/{}], Step [{}/{}], Loss: {:.4f}'\n",
    "                  .format(epoch+1, NUM_EPOCHS, i+1, total_step, loss.item()))\n",
    "    print()"
   ]
  },
  {
   "cell_type": "code",
   "execution_count": 7,
   "metadata": {},
   "outputs": [
    {
     "data": {
      "text/plain": [
       "torch.Size([100, 10])"
      ]
     },
     "execution_count": 7,
     "metadata": {},
     "output_type": "execute_result"
    }
   ],
   "source": [
    "outputs.data.shape"
   ]
  },
  {
   "cell_type": "code",
   "execution_count": 8,
   "metadata": {},
   "outputs": [
    {
     "data": {
      "text/plain": [
       "torch.Size([100])"
      ]
     },
     "execution_count": 8,
     "metadata": {},
     "output_type": "execute_result"
    }
   ],
   "source": [
    "torch.max(outputs.data, 1).values.shape"
   ]
  },
  {
   "cell_type": "code",
   "execution_count": 9,
   "metadata": {},
   "outputs": [
    {
     "name": "stdout",
     "output_type": "stream",
     "text": [
      "Accuracy of the model on the 1000 test images: 82.98 %\n"
     ]
    }
   ],
   "source": [
    "# Test the model\n",
    "# In the test phase, we don't need to compute gradients (for memory efficiency)\n",
    "with torch.no_grad():\n",
    "    correct = 0\n",
    "    total = 0\n",
    "    for images, labels in test_loader:\n",
    "        # Reshape images to (batch_size, input_size)\n",
    "        images = images.reshape(-1, INPUT_SIZE)\n",
    "        \n",
    "        # Forward pass\n",
    "        outputs = model(images)\n",
    "        \n",
    "        # Get predictions\n",
    "        _, predicted = torch.max(outputs.data, 1)\n",
    "        \n",
    "        # Total number of labels\n",
    "        total += labels.size(0)\n",
    "        \n",
    "        # Total correct predictions\n",
    "        correct += (predicted == labels).sum()\n",
    "\n",
    "    print('Accuracy of the model on the 1000 test images: {:.2f} %'.format(100 * correct / total))"
   ]
  },
  {
   "cell_type": "code",
   "execution_count": 10,
   "metadata": {},
   "outputs": [],
   "source": [
    "# Save the model checkpoint\n",
    "torch.save(model.state_dict(), 'lr-model.ckpt')"
   ]
  }
 ],
 "metadata": {
  "kernelspec": {
   "display_name": "torch",
   "language": "python",
   "name": "python3"
  },
  "language_info": {
   "codemirror_mode": {
    "name": "ipython",
    "version": 3
   },
   "file_extension": ".py",
   "mimetype": "text/x-python",
   "name": "python",
   "nbconvert_exporter": "python",
   "pygments_lexer": "ipython3",
   "version": "3.9.16"
  },
  "orig_nbformat": 4
 },
 "nbformat": 4,
 "nbformat_minor": 2
}
