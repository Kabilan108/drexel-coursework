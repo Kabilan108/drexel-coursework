{
  "cells": [
    {
      "cell_type": "markdown",
      "metadata": {
        "colab_type": "text",
        "id": "view-in-github"
      },
      "source": [
        "<a href=\"https://colab.research.google.com/github/Kabilan108/courses/blob/main/pytorch/pytorch_basics.ipynb\" target=\"_parent\"><img src=\"https://colab.research.google.com/assets/colab-badge.svg\" alt=\"Open In Colab\"/></a>"
      ]
    },
    {
      "attachments": {},
      "cell_type": "markdown",
      "metadata": {
        "id": "2orGigaQrNC6"
      },
      "source": [
        "# Pytorch Basics"
      ]
    },
    {
      "cell_type": "code",
      "execution_count": 1,
      "metadata": {
        "id": "StOcETef-OiQ"
      },
      "outputs": [],
      "source": [
        "import torch\n",
        "import torchvision\n",
        "import torch.nn as nn\n",
        "import numpy as np\n",
        "import torchvision.transforms as transforms"
      ]
    },
    {
      "attachments": {},
      "cell_type": "markdown",
      "metadata": {
        "id": "dFwEhrJp-XGZ"
      },
      "source": [
        "## Basic Autograd\n",
        "\n",
        "**`torch.autograd`** is a *automatic differentiation engine* that powers neural network training. \n",
        "\n",
        "### Example 1"
      ]
    },
    {
      "cell_type": "code",
      "execution_count": 2,
      "metadata": {
        "colab": {
          "base_uri": "https://localhost:8080/"
        },
        "id": "u7bCQEjp-fPP",
        "outputId": "73fccf01-de96-420a-dad0-31af235d8b46"
      },
      "outputs": [
        {
          "name": "stdout",
          "output_type": "stream",
          "text": [
            "tensor(2.)\n",
            "tensor(1.)\n",
            "tensor(1.)\n"
          ]
        }
      ],
      "source": [
        "# Create tensors\n",
        "x = torch.tensor(1., requires_grad=True)\n",
        "w = torch.tensor(2., requires_grad=True)\n",
        "b = torch.tensor(3., requires_grad=True)\n",
        "\n",
        "# Build a computational graph\n",
        "y = w * x + b  # y = 2 * x + 3\n",
        "\n",
        "# Compute gradients - backprop\n",
        "y.backward()\n",
        "\n",
        "# Print gradients\n",
        "print(x.grad)  # dy/dx\n",
        "print(w.grad)  # dy/dw\n",
        "print(b.grad)  # dy/db"
      ]
    },
    {
      "attachments": {},
      "cell_type": "markdown",
      "metadata": {
        "id": "6FeFvvqw-vq-"
      },
      "source": [
        "### Example 2 \n",
        "\n",
        "The code below creates a fully connected (linear) layer with 3 input features\n",
        "and 2 output features.\n",
        "\n",
        "- `linear.weight`: weight matrix responsible for the linear transformation in the\n",
        "  fully connected layer. It's shape is determined by the input and output size.\n",
        "  In this case, the weight matrix is of shape `(2, 3)`.\n",
        "\n",
        "The linear transformation can be represented as $y = x * w^T$ where `x` is the\n",
        "input tensor with shape (10,3), `w` is the weight matrix with shape (2,3). The\n",
        "resulting output tensor will have the shape (10,2).\n",
        "\n",
        "- `linear.bias`: bias vector added to the result of the linear transformation\n",
        "  to add an additional degree of freedom to the model. The bias vector has the \n",
        "  same size as the output size of the layer. In this case, the output size is 2 . \\\n",
        "  Therefore, the shape of the bias vector is (2,).\n",
        "\n",
        "The complete linear operation can be represented as $y = x * w^T + b$"
      ]
    },
    {
      "cell_type": "code",
      "execution_count": 3,
      "metadata": {
        "colab": {
          "base_uri": "https://localhost:8080/"
        },
        "id": "oUv8rs6Q_oge",
        "outputId": "3443d412-9312-4af1-83a0-08d112f59b8d"
      },
      "outputs": [
        {
          "name": "stdout",
          "output_type": "stream",
          "text": [
            "w:  Parameter containing:\n",
            "tensor([[-0.2014, -0.1715,  0.2293],\n",
            "        [ 0.0206,  0.0352, -0.1699]], requires_grad=True)\n",
            "b: Parameter containing:\n",
            "tensor([ 0.1769, -0.4332], requires_grad=True)\n"
          ]
        }
      ],
      "source": [
        "# Create tensors of shape (10, 3) and (10, 2)\n",
        "x = torch.randn(10, 3)\n",
        "y = torch.randn(10, 2)\n",
        "\n",
        "# Build a fully connected layer\n",
        "linear = nn.Linear(3, 2)\n",
        "print('w: ', linear.weight)\n",
        "print('b:' , linear.bias)"
      ]
    },
    {
      "cell_type": "code",
      "execution_count": 6,
      "metadata": {
        "colab": {
          "base_uri": "https://localhost:8080/"
        },
        "id": "pazYltUkADNN",
        "outputId": "2154b8b4-c1f7-4969-b6e8-9a81b99bc61c"
      },
      "outputs": [
        {
          "name": "stdout",
          "output_type": "stream",
          "text": [
            "loss:  1.1401374340057373\n",
            "dL/dw:  tensor([[-0.7317, -0.5240, -0.5730],\n",
            "        [ 1.2047, -0.8886,  0.6025]])\n",
            "dL/db:  tensor([ 0.3424, -1.4678])\n"
          ]
        }
      ],
      "source": [
        "# Build loss function and optimizer\n",
        "criterion = nn.MSELoss()\n",
        "optimizer = torch.optim.SGD(linear.parameters(), lr=0.01)\n",
        "\n",
        "# Forward pass\n",
        "pred = linear(x)\n",
        "\n",
        "# Compute loss\n",
        "loss = criterion(pred, y)\n",
        "print('loss: ', loss.item())\n",
        "\n",
        "# Backward pass\n",
        "loss.backward()\n",
        "\n",
        "# Print out the gradients\n",
        "print('dL/dw: ', linear.weight.grad)\n",
        "print('dL/db: ', linear.bias.grad)\n",
        "\n",
        "# 1-step gradient descent\n",
        "optimizer.step()"
      ]
    },
    {
      "cell_type": "markdown",
      "metadata": {
        "id": "OhemiChJR22X"
      },
      "source": [
        "You can also perform gradient descent at the low level.  \n",
        "\n",
        "```python\n",
        "linear.weight.data.sub_(0.01 * linear.weight.grad.data)\n",
        "linear.bias.data.sub_(0.01 * linear.bias.grad.data)\n",
        "```"
      ]
    },
    {
      "cell_type": "code",
      "execution_count": 9,
      "metadata": {
        "colab": {
          "base_uri": "https://localhost:8080/"
        },
        "id": "HDCk11PpTUxy",
        "outputId": "2cec31d8-1585-47a0-c175-d8a219fe9388"
      },
      "outputs": [
        {
          "name": "stdout",
          "output_type": "stream",
          "text": [
            "loss after 1 step optimization:  1.1106849908828735\n"
          ]
        }
      ],
      "source": [
        "# Print out the loss after 1-step gradient descent\n",
        "pred = linear(x)\n",
        "loss = criterion(pred, y)\n",
        "print('loss after 1 step optimization: ', loss.item())"
      ]
    },
    {
      "cell_type": "markdown",
      "metadata": {
        "id": "X0qUTZVRTg4Z"
      },
      "source": [
        "# Loading data from numpy"
      ]
    },
    {
      "cell_type": "code",
      "execution_count": 10,
      "metadata": {
        "id": "lN7UKhFLTrUZ"
      },
      "outputs": [],
      "source": [
        "# Create a numpy array\n",
        "x = np.array([[1, 2], [3, 4]])\n",
        "\n",
        "# Convert the numpy array to a torch tensor\n",
        "y = torch.from_numpy(x)\n",
        "\n",
        "# Convert the torch tensor to a numpy array\n",
        "z = y.numpy()"
      ]
    },
    {
      "cell_type": "markdown",
      "metadata": {
        "id": "nuWFywTtT6Lx"
      },
      "source": [
        "# Input pipeline\n",
        "\n",
        "Constructing the input pipeline for PyTorch involves:\n",
        "\n",
        "1. **Data Loading** - using builtin classes like `torchvision.datasets` and `torchtext.datasets` to download and construct datasets from benchmark datasets or custom datasets.\n",
        "\n",
        "2. **Data Preprocessing** - use `transforms` module to apply preprocessing operations such as normalization, data augmentation, resizing, etc; can be composed into a single pipeline with `transofrms.Compose`\n",
        "\n",
        "3. **Batching** - During training, it is common to process data in mini-batches to enable efficient GPU computation. The `torch.utils.data.DataLoader` class allows you to create an iterator that efficiently loads data in mini-batches. \n",
        "\n",
        "4. **Parallel Data Loading** - allows for paralel data using multiple worker threads to load data in parallel. Number of worker threads can be defined with `num_workers` in the data loader.\n",
        "\n",
        "5. **Custom Datasets** - If working with a custom dataset, you can create a custom dataset class by inheriting from `torch.utils.data.Dataset` and implementing the **`__len__`** and **`__getitem__`** methods. The `__len__` method should return the number of samples in the dataset and the `__getitem__` method should return a single sample from the dataset.\n",
        "\n",
        "6. **Handling Data Imbalance** - `torch.utils.data.sampler` creates custom sampling strategies to handle imbalanced data such as `WeightedRandomSampler` and `SubsetRandomSampler`\n",
        "\n",
        "> The `DataLoader` is used to create a data loader for efficiently loading mini-batches during training. The resulting object is an iterator that can be used to loop over mini-batches of images and labels during training."
      ]
    },
    {
      "cell_type": "code",
      "execution_count": 12,
      "metadata": {
        "colab": {
          "base_uri": "https://localhost:8080/"
        },
        "id": "5pV4G1rQUBQ_",
        "outputId": "e5c0bb31-292d-4e50-ce78-aa276742f164"
      },
      "outputs": [
        {
          "name": "stdout",
          "output_type": "stream",
          "text": [
            "Downloading https://www.cs.toronto.edu/~kriz/cifar-10-python.tar.gz to ../data\\cifar-10-python.tar.gz\n"
          ]
        },
        {
          "name": "stderr",
          "output_type": "stream",
          "text": [
            "100.0%\n"
          ]
        },
        {
          "name": "stdout",
          "output_type": "stream",
          "text": [
            "Extracting ../data\\cifar-10-python.tar.gz to ../data\n",
            "torch.Size([3, 32, 32])\n",
            "6\n"
          ]
        }
      ],
      "source": [
        "# Download and construct CIFAR-10 dataset\n",
        "train_dataset = torchvision.datasets.CIFAR10(\n",
        "    root='../data',\n",
        "    train=True,\n",
        "    transform=transforms.ToTensor(),\n",
        "    download=True\n",
        ")\n",
        "\n",
        "# Fetch one data pair (read data from disk)\n",
        "image, label = train_dataset[0]\n",
        "print(image.size())\n",
        "print(label)\n",
        "\n",
        "# Data loader (this provides queues and threads in a very simple way)\n",
        "# The dataloader \n",
        "train_loader = torch.utils.data.DataLoader(\n",
        "    dataset=train_dataset,\n",
        "    batch_size=64,\n",
        "    shuffle=True\n",
        ")\n",
        "\n",
        "# When iteration starts, queue and thread start to load data from files\n",
        "data_iter = iter(train_loader)\n",
        "\n",
        "# Mini-batch images and labels\n",
        "images, labels = next(data_iter)\n",
        "\n",
        "# Actual usage of the data loader is as below:\n",
        "for images, labels in train_loader:\n",
        "    # Training code goes here\n",
        "    pass"
      ]
    },
    {
      "cell_type": "markdown",
      "metadata": {
        "id": "x6wuwggEbgXN"
      },
      "source": [
        "# Input Pipeline for Custom Dataset"
      ]
    },
    {
      "cell_type": "code",
      "execution_count": 13,
      "metadata": {
        "id": "8A6adN25bkA9"
      },
      "outputs": [],
      "source": [
        "# You should build your custom dataset as below.\n",
        "class CustomDataset(torch.utils.data.Dataset):\n",
        "    def __init__(self):\n",
        "        # TODO:\n",
        "        #   1. Initialize file paths or a list of file names\n",
        "        pass\n",
        "\n",
        "    def __getitem__(self, index):\n",
        "        # TODO\n",
        "        #   1. Read one data from file (e.g. using numpy.fromfile, PIL.Image.open)\n",
        "        #   2. Preprocess the data (e.g. torchvision.Transform).\n",
        "        #   3. Return a data pair (e.g. image and label)\n",
        "        pass\n",
        "\n",
        "    def __len__(self):\n",
        "        # You should change 0 to the total size of your dataset.\n",
        "        return 1\n",
        "\n",
        "# You can then use the prebuilt data loader\n",
        "custom_dataset = CustomDataset()\n",
        "train_loader = torch.utils.data.DataLoader(\n",
        "    dataset=custom_dataset,\n",
        "    batch_size=64,\n",
        "    shuffle=True\n",
        ")"
      ]
    },
    {
      "cell_type": "markdown",
      "metadata": {
        "id": "YqGA2lvOch-G"
      },
      "source": [
        "# Pretrained Model"
      ]
    },
    {
      "cell_type": "code",
      "execution_count": 17,
      "metadata": {
        "colab": {
          "base_uri": "https://localhost:8080/"
        },
        "id": "OwmbGdJccsoQ",
        "outputId": "d2096f87-aaca-4952-b242-68c3fdcff3dd"
      },
      "outputs": [
        {
          "name": "stderr",
          "output_type": "stream",
          "text": [
            "Downloading: \"https://download.pytorch.org/models/resnet18-f37072fd.pth\" to C:\\Users\\to561778/.cache\\torch\\hub\\checkpoints\\resnet18-f37072fd.pth\n",
            "100.0%\n"
          ]
        },
        {
          "name": "stdout",
          "output_type": "stream",
          "text": [
            "torch.Size([64, 100])\n"
          ]
        }
      ],
      "source": [
        "# Download and load the pretrained ResNet-18\n",
        "resnet = torchvision.models.resnet18(pretrained=True)\n",
        "\n",
        "# If you want to finetune only the top layer of the model, set as below\n",
        "for param in resnet.parameters():\n",
        "    param.requires_grad = False\n",
        "\n",
        "# Replace the top layer for finetuning\n",
        "resnet.fc = nn.Linear(resnet.fc.in_features, 100)\n",
        "\n",
        "# Forward pass\n",
        "images = torch.randn(64, 3, 224, 224)\n",
        "outputs = resnet(images)\n",
        "print(outputs.size())"
      ]
    },
    {
      "cell_type": "markdown",
      "metadata": {
        "id": "9-_tmfr7ddZq"
      },
      "source": [
        "# Save and Load the Model"
      ]
    },
    {
      "cell_type": "code",
      "execution_count": 18,
      "metadata": {
        "colab": {
          "base_uri": "https://localhost:8080/"
        },
        "id": "wAeIixONd_ZO",
        "outputId": "b1346f37-ffed-4ebb-ec05-e3d089435021"
      },
      "outputs": [
        {
          "data": {
            "text/plain": [
              "<All keys matched successfully>"
            ]
          },
          "execution_count": 18,
          "metadata": {},
          "output_type": "execute_result"
        }
      ],
      "source": [
        "# Save and load the entire model\n",
        "torch.save(resnet, 'model.pth')\n",
        "model = torch.load('model.pth')\n",
        "\n",
        "# Save and load only the model parameters (recommended - smaller file size)\n",
        "torch.save(resnet.state_dict(), 'params.pth')\n",
        "resnet.load_state_dict(torch.load('params.pth'))"
      ]
    }
  ],
  "metadata": {
    "accelerator": "GPU",
    "colab": {
      "authorship_tag": "ABX9TyNvd8L2fymzWlaT9Knyoqee",
      "include_colab_link": true,
      "provenance": []
    },
    "gpuClass": "standard",
    "kernelspec": {
      "display_name": "Python 3",
      "name": "python3"
    },
    "language_info": {
      "codemirror_mode": {
        "name": "ipython",
        "version": 3
      },
      "file_extension": ".py",
      "mimetype": "text/x-python",
      "name": "python",
      "nbconvert_exporter": "python",
      "pygments_lexer": "ipython3",
      "version": "3.9.16"
    }
  },
  "nbformat": 4,
  "nbformat_minor": 0
}
