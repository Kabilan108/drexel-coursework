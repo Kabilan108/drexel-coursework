{
  "nbformat": 4,
  "nbformat_minor": 0,
  "metadata": {
    "colab": {
      "provenance": [],
      "authorship_tag": "ABX9TyNvd8L2fymzWlaT9Knyoqee",
      "include_colab_link": true
    },
    "kernelspec": {
      "name": "python3",
      "display_name": "Python 3"
    },
    "language_info": {
      "name": "python"
    },
    "accelerator": "GPU",
    "gpuClass": "standard"
  },
  "cells": [
    {
      "cell_type": "markdown",
      "metadata": {
        "id": "view-in-github",
        "colab_type": "text"
      },
      "source": [
        "<a href=\"https://colab.research.google.com/github/Kabilan108/courses/blob/main/pytorch/pytorch_basics.ipynb\" target=\"_parent\"><img src=\"https://colab.research.google.com/assets/colab-badge.svg\" alt=\"Open In Colab\"/></a>"
      ]
    },
    {
      "cell_type": "markdown",
      "source": [
        "# Basic Autograd\n",
        "\n",
        "**`torch.autograd`** is a *automatic differentiation engine* that powers neural network training. "
      ],
      "metadata": {
        "id": "2orGigaQrNC6"
      }
    },
    {
      "cell_type": "code",
      "source": [
        "import torch\n",
        "import torchvision\n",
        "import torch.nn as nn\n",
        "import numpy as np\n",
        "import torchvision.transforms as transforms"
      ],
      "metadata": {
        "id": "StOcETef-OiQ"
      },
      "execution_count": 2,
      "outputs": []
    },
    {
      "cell_type": "markdown",
      "source": [
        "## Example 1"
      ],
      "metadata": {
        "id": "dFwEhrJp-XGZ"
      }
    },
    {
      "cell_type": "code",
      "source": [
        "# Create tensors\n",
        "x = torch.tensor(1., requires_grad=True)\n",
        "w = torch.tensor(2., requires_grad=True)\n",
        "b = torch.tensor(3., requires_grad=True)\n",
        "\n",
        "# Build a computational graph\n",
        "y = w * x + b  # y = 2 * x + 3\n",
        "\n",
        "# Compute gradients\n",
        "y.backward()\n",
        "\n",
        "# Print gradients\n",
        "print(x.grad)  # dy/dx\n",
        "print(w.grad)  # dy/dw\n",
        "print(b.grad)  # dy/db"
      ],
      "metadata": {
        "colab": {
          "base_uri": "https://localhost:8080/"
        },
        "id": "u7bCQEjp-fPP",
        "outputId": "73fccf01-de96-420a-dad0-31af235d8b46"
      },
      "execution_count": 5,
      "outputs": [
        {
          "output_type": "stream",
          "name": "stdout",
          "text": [
            "tensor(2.)\n",
            "tensor(1.)\n",
            "tensor(1.)\n"
          ]
        }
      ]
    },
    {
      "cell_type": "markdown",
      "source": [
        "## Example 2 "
      ],
      "metadata": {
        "id": "6FeFvvqw-vq-"
      }
    },
    {
      "cell_type": "code",
      "source": [
        "# Create tensors of shape (10, 3) and (10, 2)\n",
        "x = torch.randn(10, 3)\n",
        "y = torch.randn(10, 2)\n",
        "\n",
        "# Build a fully connected layer\n",
        "linear = nn.Linear(3, 2)\n",
        "print('w: ', linear.weight)\n",
        "print('b:' , linear.bias)"
      ],
      "metadata": {
        "colab": {
          "base_uri": "https://localhost:8080/"
        },
        "id": "oUv8rs6Q_oge",
        "outputId": "3443d412-9312-4af1-83a0-08d112f59b8d"
      },
      "execution_count": 6,
      "outputs": [
        {
          "output_type": "stream",
          "name": "stdout",
          "text": [
            "w:  Parameter containing:\n",
            "tensor([[ 0.0134,  0.0792,  0.2864],\n",
            "        [-0.0071,  0.1660,  0.3229]], requires_grad=True)\n",
            "b: Parameter containing:\n",
            "tensor([0.2253, 0.2356], requires_grad=True)\n"
          ]
        }
      ]
    },
    {
      "cell_type": "code",
      "source": [
        "# Build loss function and optimizer\n",
        "criterion = nn.MSELoss()\n",
        "optimizer = torch.optim.SGD(linear.parameters(), lr=0.01)\n",
        "\n",
        "# Forward pass\n",
        "pred = linear(x)\n",
        "\n",
        "# Compute loss\n",
        "loss = criterion(pred, y)\n",
        "print('loss: ', loss.item())\n",
        "\n",
        "# Backward pass\n",
        "loss.backward()\n",
        "\n",
        "# Print out the gradients\n",
        "print('dL/dw: ', linear.weight.grad)\n",
        "print('dL/db: ', linear.bias.grad)\n",
        "\n",
        "# 1-step gradient descent\n",
        "optimizer.step()"
      ],
      "metadata": {
        "colab": {
          "base_uri": "https://localhost:8080/"
        },
        "id": "pazYltUkADNN",
        "outputId": "2154b8b4-c1f7-4969-b6e8-9a81b99bc61c"
      },
      "execution_count": 9,
      "outputs": [
        {
          "output_type": "stream",
          "name": "stdout",
          "text": [
            "loss:  1.036042332649231\n",
            "dL/dw:  tensor([[-0.0960,  0.8031, -0.1804],\n",
            "        [-0.0155, -0.2646,  0.5407]])\n",
            "dL/db:  tensor([-0.0538, -1.0349])\n"
          ]
        }
      ]
    },
    {
      "cell_type": "markdown",
      "source": [
        "You can also perform gradient descent at the low level.  \n",
        "\n",
        "```python\n",
        "linear.weight.data.sub_(0.01 * linear.weight.grad.data)\n",
        "linear.bias.data.sub_(0.01 * linear.bias.grad.data)\n",
        "```"
      ],
      "metadata": {
        "id": "OhemiChJR22X"
      }
    },
    {
      "cell_type": "code",
      "source": [
        "# Print out the loss after 1-step gradient descent\n",
        "pred = linear(x)\n",
        "loss = criterion(pred, y)\n",
        "print('loss after 1 step optimization: ', loss.item())"
      ],
      "metadata": {
        "colab": {
          "base_uri": "https://localhost:8080/"
        },
        "id": "HDCk11PpTUxy",
        "outputId": "2cec31d8-1585-47a0-c175-d8a219fe9388"
      },
      "execution_count": 11,
      "outputs": [
        {
          "output_type": "stream",
          "name": "stdout",
          "text": [
            "loss after 1 step optimization:  1.0255470275878906\n"
          ]
        }
      ]
    },
    {
      "cell_type": "markdown",
      "source": [
        "# Loading data from numpy"
      ],
      "metadata": {
        "id": "X0qUTZVRTg4Z"
      }
    },
    {
      "cell_type": "code",
      "source": [
        "# Create a numpy array\n",
        "x = np.array([[1, 2], [3, 4]])\n",
        "\n",
        "# Convert the numpy array to a torch tensor\n",
        "y = torch.from_numpy(x)\n",
        "\n",
        "# Convert the torch tensor to a numpy array\n",
        "z = y.numpy()"
      ],
      "metadata": {
        "id": "lN7UKhFLTrUZ"
      },
      "execution_count": null,
      "outputs": []
    },
    {
      "cell_type": "markdown",
      "source": [
        "# Input pipeline\n",
        "\n",
        "Constructing the input pipeline for PyTorch involves:\n",
        "\n",
        "1. **Data Loading** - using builtin classes like `torchvision.datasets` and `torchtext.datasets` to download and construct datasets from benchmark datasets or custom datasets.\n",
        "\n",
        "2. **Data Preprocessing** - use `transforms` module to apply preprocessing operations such as normalization, data augmentation, resizing, etc; can be composed into a single pipeline with `transofrms.Compose`\n",
        "\n",
        "3. **Batching** - During training, it is common to process data in mini-batches to enable efficient GPU computation. The `torch.utils.data.DataLoader` class allows you to create an iterator that efficiently loads data in mini-batches. \n",
        "\n",
        "4. **Parallel Data Loading** - allows for paralel data using multiple worker threads to load data in parallel. Number of worker threads can be defined with `num_workers` in the data loader.\n",
        "\n",
        "5. **Custom Datasets** - If working with a custom dataset, you can create a custom dataset class by inheriting from `torch.utils.data.Dataset` and implementing the **`__len__`** and **`__getitem__`** methods. The `__len__` method should return the number of samples in the dataset and the `__getitem__` method should return a single sample from the dataset.\n",
        "\n",
        "6. **Handling Data Imbalance** - `torch.utils.data.sampler` creates custom sampling strategies to handle imbalanced data such as `WeightedRandomSampler` and `SubsetRandomSampler`\n",
        "\n",
        "> The `DataLoader` is used to create a data loader for efficiently loading mini-batches during training. The resulting object is an iterator that can be used to loop over mini-batches of images and labels during training."
      ],
      "metadata": {
        "id": "nuWFywTtT6Lx"
      }
    },
    {
      "cell_type": "code",
      "source": [
        "# Download and construct CIFAR-10 dataset\n",
        "train_dataset = torchvision.datasets.CIFAR10(\n",
        "    root='./data',\n",
        "    train=True,\n",
        "    transform=transforms.ToTensor(),\n",
        "    download=True\n",
        ")\n",
        "\n",
        "# Fetch one data pair (read data from disk)\n",
        "image, label = train_dataset[0]\n",
        "print(image.size())\n",
        "print(label)\n",
        "\n",
        "# Data loader (this provides queues and threads in a very simple way)\n",
        "# The dataloader \n",
        "train_loader = torch.utils.data.DataLoader(\n",
        "    dataset=train_dataset,\n",
        "    batch_size=64,\n",
        "    shuffle=True\n",
        ")\n",
        "\n",
        "# When iteration starts, queue and thread start to load data from files\n",
        "data_iter = iter(train_loader)\n",
        "\n",
        "# Mini-batch images and labels\n",
        "images, labels = next(data_iter)\n",
        "\n",
        "# Actual usage of the data loader is as below:\n",
        "for images, labels in train_loader:\n",
        "    # Training code goes here\n",
        "    pass"
      ],
      "metadata": {
        "colab": {
          "base_uri": "https://localhost:8080/"
        },
        "id": "5pV4G1rQUBQ_",
        "outputId": "e5c0bb31-292d-4e50-ce78-aa276742f164"
      },
      "execution_count": 19,
      "outputs": [
        {
          "output_type": "stream",
          "name": "stdout",
          "text": [
            "Files already downloaded and verified\n",
            "torch.Size([3, 32, 32])\n",
            "6\n"
          ]
        }
      ]
    },
    {
      "cell_type": "markdown",
      "source": [
        "# Input Pipeline for Custom Dataset"
      ],
      "metadata": {
        "id": "x6wuwggEbgXN"
      }
    },
    {
      "cell_type": "code",
      "source": [
        "# You should build your custom dataset as below.\n",
        "class CustomDataset(torch.utils.data.Dataset):\n",
        "    def __init__(self):\n",
        "        # TODO:\n",
        "        #   1. Initialize file paths or a list of file names\n",
        "        pass\n",
        "\n",
        "    def __getitem__(self, index):\n",
        "        # TODO\n",
        "        #   1. Read one data from file (e.g. using numpy.fromfile, PIL.Image.open)\n",
        "        #   2. Preprocess the data (e.g. torchvision.Transform).\n",
        "        #   3. Return a data pair (e.g. image and label)\n",
        "        pass\n",
        "\n",
        "    def __len__(self):\n",
        "        # You should change 0 to the total size of your dataset.\n",
        "        return 1\n",
        "\n",
        "# You can then use the prebuilt data loader\n",
        "custom_dataset = CustomDataset()\n",
        "train_loader = torch.utils.data.DataLoader(\n",
        "    dataset=custom_dataset,\n",
        "    batch_size=64,\n",
        "    shuffle=True\n",
        ")"
      ],
      "metadata": {
        "id": "8A6adN25bkA9"
      },
      "execution_count": 22,
      "outputs": []
    },
    {
      "cell_type": "markdown",
      "source": [
        "# Pretrained Model"
      ],
      "metadata": {
        "id": "YqGA2lvOch-G"
      }
    },
    {
      "cell_type": "code",
      "source": [
        "# Download and load the pretrained ResNet-18\n",
        "resnet = torchvision.models.resnet18(pretrained=True)\n",
        "\n",
        "# If you want to finetune only the top layer of the model, set as below\n",
        "for param in resnet.parameters():\n",
        "    param.requires_grad = False\n",
        "\n",
        "# Replace the top layer for finetuning\n",
        "resnet.fc = nn.Linear(resnet.fc.in_features, 100)\n",
        "\n",
        "# Forward pass\n",
        "images = torch.randn(64, 3, 224, 224)\n",
        "outputs = resnet(images)\n",
        "print(outputs.size())"
      ],
      "metadata": {
        "colab": {
          "base_uri": "https://localhost:8080/"
        },
        "id": "OwmbGdJccsoQ",
        "outputId": "d2096f87-aaca-4952-b242-68c3fdcff3dd"
      },
      "execution_count": 30,
      "outputs": [
        {
          "output_type": "stream",
          "name": "stderr",
          "text": [
            "/usr/local/lib/python3.9/dist-packages/torchvision/models/_utils.py:208: UserWarning: The parameter 'pretrained' is deprecated since 0.13 and may be removed in the future, please use 'weights' instead.\n",
            "  warnings.warn(\n",
            "/usr/local/lib/python3.9/dist-packages/torchvision/models/_utils.py:223: UserWarning: Arguments other than a weight enum or `None` for 'weights' are deprecated since 0.13 and may be removed in the future. The current behavior is equivalent to passing `weights=ResNet18_Weights.IMAGENET1K_V1`. You can also use `weights=ResNet18_Weights.DEFAULT` to get the most up-to-date weights.\n",
            "  warnings.warn(msg)\n"
          ]
        },
        {
          "output_type": "stream",
          "name": "stdout",
          "text": [
            "torch.Size([64, 100])\n"
          ]
        }
      ]
    },
    {
      "cell_type": "markdown",
      "source": [
        "# Save and Load the Model"
      ],
      "metadata": {
        "id": "9-_tmfr7ddZq"
      }
    },
    {
      "cell_type": "code",
      "source": [
        "# Save and load the entire model\n",
        "torch.save(resnet, 'model.pth')\n",
        "model = torch.load('model.pth')\n",
        "\n",
        "# Save and load only the model parameters (recommended - smaller file size)\n",
        "torch.save(resnet.state_dict(), 'params.pth')\n",
        "resnet.load_state_dict(torch.load('params.pth'))"
      ],
      "metadata": {
        "colab": {
          "base_uri": "https://localhost:8080/"
        },
        "id": "wAeIixONd_ZO",
        "outputId": "b1346f37-ffed-4ebb-ec05-e3d089435021"
      },
      "execution_count": 31,
      "outputs": [
        {
          "output_type": "execute_result",
          "data": {
            "text/plain": [
              "<All keys matched successfully>"
            ]
          },
          "metadata": {},
          "execution_count": 31
        }
      ]
    }
  ]
}